{
 "cells": [
  {
   "cell_type": "markdown",
   "metadata": {},
   "source": [
    "## Load/import packages"
   ]
  },
  {
   "cell_type": "code",
   "execution_count": 61,
   "metadata": {
    "execution": {
     "iopub.execute_input": "2020-11-07T18:28:10.988236Z",
     "iopub.status.busy": "2020-11-07T18:28:10.987236Z",
     "iopub.status.idle": "2020-11-07T18:28:11.004234Z",
     "shell.execute_reply": "2020-11-07T18:28:11.004234Z",
     "shell.execute_reply.started": "2020-11-07T18:28:10.988236Z"
    }
   },
   "outputs": [],
   "source": [
    "import scipy.sparse\n",
    "import numpy as np"
   ]
  },
  {
   "cell_type": "markdown",
   "metadata": {},
   "source": [
    "# Load Features"
   ]
  },
  {
   "cell_type": "markdown",
   "metadata": {},
   "source": [
    "1. Load the .npz and .npy files for training and validation set  ✔\n",
    "2. The features are starting from Class 0 till Class 7 in Ascending order\n",
    "3. For each class, take all features of each video, take this as sequence\n",
    "    3.1 Look up what the largest sequence length is\n",
    "    3.2 Pad all other sequences to the largest sequence length\n",
    "4. Reshape the features to [sequences, sequence_length, features] ✔\n"
   ]
  },
  {
   "cell_type": "code",
   "execution_count": 62,
   "metadata": {
    "execution": {
     "iopub.execute_input": "2020-11-07T18:28:11.907180Z",
     "iopub.status.busy": "2020-11-07T18:28:11.907180Z",
     "iopub.status.idle": "2020-11-07T18:28:22.418247Z",
     "shell.execute_reply": "2020-11-07T18:28:22.418247Z",
     "shell.execute_reply.started": "2020-11-07T18:28:11.907180Z"
    }
   },
   "outputs": [],
   "source": [
    "train_features = scipy.sparse.load_npz(\"data/train_features.npz\") #CSR Matrix\n",
    "val_features = scipy.sparse.load_npz(\"data/val_features.npz\") #CSR Matrix\n",
    "train_labels = np.load(\"data/train_labels.npy\") #Numpy array\n",
    "val_labels = np.load(\"data/val_labels.npy\") #Numpy array"
   ]
  },
  {
   "cell_type": "code",
   "execution_count": 63,
   "metadata": {
    "execution": {
     "iopub.execute_input": "2020-11-07T18:28:22.422249Z",
     "iopub.status.busy": "2020-11-07T18:28:22.422249Z",
     "iopub.status.idle": "2020-11-07T18:28:22.435296Z",
     "shell.execute_reply": "2020-11-07T18:28:22.434294Z",
     "shell.execute_reply.started": "2020-11-07T18:28:22.422249Z"
    }
   },
   "outputs": [],
   "source": [
    "# Function which reshapes the features to [sequences, sequence_length, features], \n",
    "# and labels to [sequences, sequence_length, labels]\n",
    "def feature_reshaper(features, labels, sequence_length):\n",
    "    # Find the amount of possible sequences with given sequence_length. Some data will be discarded this way.\n",
    "    amount = features.shape[0] // sequence_length\n",
    "    \n",
    "    # Convert Scipy matrix back to numpy array because we need to convert it to 3 Dimensional array\n",
    "    arr_features = features[:(amount * sequence_length)].toarray()\n",
    "    \n",
    "    # Reshapes the labels and features\n",
    "    seq_features = np.reshape(arr_features, (amount, sequence_length, arr_features.shape[1]))\n",
    "    seq_labels = np.reshape(labels[:(amount * sequence_length)], (amount, sequence_length, labels.shape[1]))\n",
    "    \n",
    "    \n",
    "    return seq_features, seq_labels"
   ]
  }
 ],
 "metadata": {
  "kernelspec": {
   "display_name": "Python 3",
   "language": "python",
   "name": "python3"
  },
  "language_info": {
   "codemirror_mode": {
    "name": "ipython",
    "version": 3
   },
   "file_extension": ".py",
   "mimetype": "text/x-python",
   "name": "python",
   "nbconvert_exporter": "python",
   "pygments_lexer": "ipython3",
   "version": "3.7.9"
  }
 },
 "nbformat": 4,
 "nbformat_minor": 4
}
