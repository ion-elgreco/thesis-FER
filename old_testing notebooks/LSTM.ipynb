{
 "cells": [
  {
   "cell_type": "markdown",
   "metadata": {},
   "source": [
    "## Load/import packages"
   ]
  },
  {
   "cell_type": "code",
   "execution_count": 1,
   "metadata": {
    "execution": {
     "iopub.execute_input": "2020-11-24T22:20:30.699261Z",
     "iopub.status.busy": "2020-11-24T22:20:30.698258Z",
     "iopub.status.idle": "2020-11-24T22:21:03.798754Z",
     "shell.execute_reply": "2020-11-24T22:21:03.792754Z",
     "shell.execute_reply.started": "2020-11-24T22:20:30.698258Z"
    }
   },
   "outputs": [],
   "source": [
    "import json\n",
    "import scipy\n",
    "import numpy as np\n",
    "import tensorflow as tf\n",
    "import matplotlib.pyplot as plt\n",
    "import tensorflow.keras.backend as K\n",
    "\n",
    "from tensorflow.keras import Sequential, layers\n",
    "from tensorflow.keras.losses import CategoricalCrossentropy\n",
    "from sklearn.utils import class_weight\n",
    "\n",
    "# Import variables and functions from my own scripts\n",
    "from functions import plot_history, arr_replacevalue\n",
    "from load_features import (\n",
    "    train_features_AW2,\n",
    "    val_features_AW2,\n",
    "    train_labels_AW2,\n",
    "    val_labels_AW2,\n",
    "    labels_reshaper,\n",
    "    features_reshaper,\n",
    ")\n",
    "\n",
    "%matplotlib inline\n",
    "\n",
    "# Limit GPU memory usage\n",
    "for device in tf.config.experimental.list_physical_devices(\"GPU\"):\n",
    "    tf.config.experimental.set_memory_growth(device, True)"
   ]
  },
  {
   "cell_type": "markdown",
   "metadata": {},
   "source": [
    "# Prepare data"
   ]
  },
  {
   "cell_type": "markdown",
   "metadata": {
    "execution": {
     "iopub.execute_input": "2020-11-10T14:56:14.306513Z",
     "iopub.status.busy": "2020-11-10T14:56:14.305513Z",
     "iopub.status.idle": "2020-11-10T14:56:14.312512Z",
     "shell.execute_reply": "2020-11-10T14:56:14.312512Z",
     "shell.execute_reply.started": "2020-11-10T14:56:14.306513Z"
    }
   },
   "source": [
    "## Reshape features, labels\n",
    "The model gets more unstable and validation scores converge later with higher sequence length. Increasing sequence length does not improve the models performance."
   ]
  },
  {
   "cell_type": "code",
   "execution_count": 2,
   "metadata": {
    "execution": {
     "iopub.execute_input": "2020-11-24T22:22:20.860069Z",
     "iopub.status.busy": "2020-11-24T22:22:20.859069Z",
     "iopub.status.idle": "2020-11-24T22:23:24.282450Z",
     "shell.execute_reply": "2020-11-24T22:23:24.278451Z",
     "shell.execute_reply.started": "2020-11-24T22:22:20.860069Z"
    }
   },
   "outputs": [],
   "source": [
    "# Reshape data to specified sequence length\n",
    "length = 60\n",
    "seq_train_features = features_reshaper(train_features_AW2, length)\n",
    "seq_val_features = features_reshaper(val_features_AW2, length)\n",
    "\n",
    "seq_train_labels = labels_reshaper(train_labels_AW2, length)\n",
    "seq_val_labels = labels_reshaper(val_labels_AW2, length)"
   ]
  },
  {
   "cell_type": "markdown",
   "metadata": {},
   "source": [
    "## Compute sample weights"
   ]
  },
  {
   "cell_type": "code",
   "execution_count": 4,
   "metadata": {
    "execution": {
     "iopub.execute_input": "2020-11-24T22:23:55.784378Z",
     "iopub.status.busy": "2020-11-24T22:23:55.784378Z",
     "iopub.status.idle": "2020-11-24T22:23:55.999374Z",
     "shell.execute_reply": "2020-11-24T22:23:55.999374Z",
     "shell.execute_reply.started": "2020-11-24T22:23:55.784378Z"
    }
   },
   "outputs": [],
   "source": [
    "def comp_sampleweights(labels):\n",
    "    # Convert one-hot encoded labels back to label integers\n",
    "    train_label_ints = np.argmax(labels, axis=2)\n",
    "\n",
    "    # Compute class weights with sklearn\n",
    "    class_weights = class_weight.compute_class_weight(\n",
    "        \"balanced\", np.unique(train_label_ints), train_label_ints.flatten()\n",
    "    )\n",
    "    d_class_weights = dict(enumerate(class_weights))\n",
    "\n",
    "    # Pass a 2D array with shape (samples, sequence_length), to apply a different weight to every timestep of every sample\n",
    "    return arr_replacevalue(train_label_ints, d_class_weights)\n",
    "    \n",
    "train_samples_weights = comp_sampleweights(seq_train_labels)   "
   ]
  },
  {
   "cell_type": "markdown",
   "metadata": {},
   "source": [
    "# Train + Evaluate model"
   ]
  },
  {
   "cell_type": "code",
   "execution_count": 8,
   "metadata": {
    "execution": {
     "iopub.execute_input": "2020-11-24T22:28:14.786749Z",
     "iopub.status.busy": "2020-11-24T22:28:14.785750Z",
     "iopub.status.idle": "2020-11-24T22:28:14.813750Z",
     "shell.execute_reply": "2020-11-24T22:28:14.812749Z",
     "shell.execute_reply.started": "2020-11-24T22:28:14.786749Z"
    }
   },
   "outputs": [],
   "source": [
    "def build_model():\n",
    "    # Only tune the first layer of hyperparameters\n",
    "    model = Sequential(name=\"RNN-LSTM\")\n",
    "    model.add(\n",
    "        layers.InputLayer(\n",
    "            input_shape=(seq_train_features.shape[1], seq_train_features.shape[2])\n",
    "        )\n",
    "    )\n",
    "    model.add(layers.LSTM(128, return_sequences=True, name=\"LSTM_1\"))\n",
    "    model.add(layers.LayerNormalization())\n",
    "    model.add(layers.Dense(7, activation=\"softmax\", name=\"Dense_Output\"))\n",
    "    model.compile(\n",
    "        optimizer=\"adagrad\",\n",
    "        loss=CategoricalCrossentropy(label_smoothing=0.1),\n",
    "        metrics=[\"accuracy\", \"AUC\"],\n",
    "    )\n",
    "    return model"
   ]
  },
  {
   "cell_type": "code",
   "execution_count": 9,
   "metadata": {
    "execution": {
     "iopub.execute_input": "2020-11-24T22:28:15.186750Z",
     "iopub.status.busy": "2020-11-24T22:28:15.186750Z",
     "iopub.status.idle": "2020-11-24T22:28:15.445749Z",
     "shell.execute_reply": "2020-11-24T22:28:15.445749Z",
     "shell.execute_reply.started": "2020-11-24T22:28:15.186750Z"
    }
   },
   "outputs": [],
   "source": [
    "LSTM = build_model()"
   ]
  },
  {
   "cell_type": "markdown",
   "metadata": {},
   "source": [
    "## Best model results"
   ]
  },
  {
   "cell_type": "code",
   "execution_count": null,
   "metadata": {
    "scrolled": true
   },
   "outputs": [],
   "source": [
    "# checkpoint_path = \"data/models/cp_training_LSTM.ckpt\"\n",
    "\n",
    "# import time\n",
    "# name = 'LSTM_opt_{}'.format(int(time.time()))\n",
    "# tb_callback = tf.keras.callbacks.TensorBoard(log_dir='logs/{}'.format(name))\n",
    "\n",
    "# Access tensorboard in cmd of the main repo folder with following code:\n",
    "# tensorboard --logdir='logs/'\n",
    "\n",
    "# # Set callbacks for model training\n",
    "# csvlog = tf.keras.callbacks.CSVLogger(\n",
    "#     \"data/models/LSTM_performance.csv\", separator=\",\", append=False\n",
    "# )\n",
    "\n",
    "# cp_callback = tf.keras.callbacks.ModelCheckpoint(\n",
    "#     filepath=checkpoint_path, save_weights_only=True, verbose=1\n",
    "# )\n",
    "\n",
    "history_best = LSTM.fit(\n",
    "    seq_train_features,\n",
    "    seq_train_labels,\n",
    "    sample_weight=train_samples_weights,\n",
    "    validation_data=(seq_val_features, seq_val_labels),\n",
    "    epochs=100,\n",
    "#     callbacks=[es, \n",
    "#                cp_callback, \n",
    "#                csvlog, \n",
    "#                tb_callback],\n",
    "    verbose=2,\n",
    ")"
   ]
  },
  {
   "cell_type": "code",
   "execution_count": 8,
   "metadata": {
    "execution": {
     "iopub.execute_input": "2020-11-20T12:26:01.657808Z",
     "iopub.status.busy": "2020-11-20T12:26:01.657808Z",
     "iopub.status.idle": "2020-11-20T12:26:01.696806Z",
     "shell.execute_reply": "2020-11-20T12:26:01.696806Z",
     "shell.execute_reply.started": "2020-11-20T12:26:01.657808Z"
    }
   },
   "outputs": [
    {
     "name": "stdout",
     "output_type": "stream",
     "text": [
      "Model: \"RNN-LSTM\"\n",
      "_________________________________________________________________\n",
      "Layer (type)                 Output Shape              Param #   \n",
      "=================================================================\n",
      "LSTM_1 (LSTM)                (None, 60, 128)           2425344   \n",
      "_________________________________________________________________\n",
      "layer_normalization (LayerNo (None, 60, 128)           256       \n",
      "_________________________________________________________________\n",
      "Dense_Output (Dense)         (None, 60, 7)             903       \n",
      "=================================================================\n",
      "Total params: 2,426,503\n",
      "Trainable params: 2,426,503\n",
      "Non-trainable params: 0\n",
      "_________________________________________________________________\n"
     ]
    }
   ],
   "source": [
    "LSTM.summary()"
   ]
  },
  {
   "cell_type": "code",
   "execution_count": 18,
   "metadata": {
    "execution": {
     "iopub.execute_input": "2020-11-12T18:42:36.032858Z",
     "iopub.status.busy": "2020-11-12T18:42:36.031856Z",
     "iopub.status.idle": "2020-11-12T18:42:40.041854Z",
     "shell.execute_reply": "2020-11-12T18:42:40.041854Z",
     "shell.execute_reply.started": "2020-11-12T18:42:36.032858Z"
    }
   },
   "outputs": [
    {
     "name": "stdout",
     "output_type": "stream",
     "text": [
      "{'loss': 1.6548638343811035, 'accuracy': 0.48596706986427307, 'f1': 0.4146135747432709, 'auc': 0.8046668171882629}\n"
     ]
    }
   ],
   "source": [
    "results = LSTM.evaluate(seq_val_features, seq_val_labels, verbose=0)\n",
    "print(dict(zip(LSTM.metrics_names, results)))"
   ]
  },
  {
   "cell_type": "markdown",
   "metadata": {},
   "source": [
    "## Plot the model architecture"
   ]
  },
  {
   "cell_type": "code",
   "execution_count": 19,
   "metadata": {
    "execution": {
     "iopub.execute_input": "2020-11-12T18:42:40.042855Z",
     "iopub.status.busy": "2020-11-12T18:42:40.042855Z",
     "iopub.status.idle": "2020-11-12T18:42:40.621856Z",
     "shell.execute_reply": "2020-11-12T18:42:40.620855Z",
     "shell.execute_reply.started": "2020-11-12T18:42:40.042855Z"
    }
   },
   "outputs": [
    {
     "data": {
      "image/png": "[encoded data removed]",
      "text/plain": [
       "<IPython.core.display.Image object>"
      ]
     },
     "execution_count": 19,
     "metadata": {},
     "output_type": "execute_result"
    }
   ],
   "source": [
    "# Plot CNN-LSTM model\n",
    "tf.keras.utils.plot_model(\n",
    "    LSTM,\n",
    "    to_file=\"images/models/LSTM_architecture.png\",\n",
    "    show_shapes=True,\n",
    "    show_layer_names=True,\n",
    "    rankdir=\"TB\",\n",
    "    expand_nested=False,\n",
    "    dpi=96,\n",
    ")"
   ]
  },
  {
   "cell_type": "markdown",
   "metadata": {},
   "source": [
    "## Plot performance of model"
   ]
  },
  {
   "cell_type": "code",
   "execution_count": 20,
   "metadata": {
    "execution": {
     "iopub.execute_input": "2020-11-12T18:42:40.622857Z",
     "iopub.status.busy": "2020-11-12T18:42:40.622857Z",
     "iopub.status.idle": "2020-11-12T18:42:41.209873Z",
     "shell.execute_reply": "2020-11-12T18:42:41.209873Z",
     "shell.execute_reply.started": "2020-11-12T18:42:40.622857Z"
    }
   },
   "outputs": [
    {
     "data": {
      "image/png": "[encoded data removed]",
      "text/plain": [
       "<Figure size 1440x288 with 4 Axes>"
      ]
     },
     "metadata": {
      "needs_background": "light"
     },
     "output_type": "display_data"
    }
   ],
   "source": [
    "model_hist = history_best.history\n",
    "\n",
    "labels = [*model_hist.keys()]\n",
    "fig, axes = plt.subplots(1, 4, figsize=(20, 4))\n",
    "epochs = range(1, len(model_hist[\"loss\"]) + 1)\n",
    "for data, label in zip(\n",
    "    [model_hist[\"loss\"], model_hist[\"val_loss\"]], [labels[0], labels[4]]\n",
    "):\n",
    "    axes[0].plot(epochs, data, label=label)\n",
    "\n",
    "for data, label in zip(\n",
    "    [model_hist[\"accuracy\"], model_hist[\"val_accuracy\"]], [labels[1], labels[5]]\n",
    "):\n",
    "    axes[1].plot(epochs, data, label=label)\n",
    "\n",
    "for data, label in zip(\n",
    "    [model_hist[\"f1\"], model_hist[\"val_f1\"]], [labels[2], labels[6]]\n",
    "):\n",
    "    axes[2].plot(epochs, data, label=label)\n",
    "\n",
    "for data, label in zip(\n",
    "    [model_hist[\"auc\"], model_hist[\"val_auc\"]], [labels[3], labels[7]]\n",
    "):\n",
    "    axes[3].plot(epochs, data, label=label)\n",
    "\n",
    "for i, label in zip(range(4), [\"loss\", \"acc\", \"f1\", \"AUC\"]):\n",
    "    axes[i].set_title(label + \" score\")\n",
    "    axes[i].set_xlabel(\"Epochs\")\n",
    "    axes[i].set_ylabel(label)"
   ]
  },
  {
   "cell_type": "code",
   "execution_count": 22,
   "metadata": {
    "execution": {
     "iopub.execute_input": "2020-11-12T18:52:22.389558Z",
     "iopub.status.busy": "2020-11-12T18:52:22.388558Z",
     "iopub.status.idle": "2020-11-12T18:52:22.400561Z",
     "shell.execute_reply": "2020-11-12T18:52:22.399557Z",
     "shell.execute_reply.started": "2020-11-12T18:52:22.389558Z"
    }
   },
   "outputs": [],
   "source": [
    "# Save model performance to json file\n",
    "with open(\"data/models/LSTM_performance.json\", \"w\") as fp:\n",
    "    json.dump(model_hist, fp)"
   ]
  },
  {
   "cell_type": "markdown",
   "metadata": {},
   "source": [
    "## Save model+weights to folder"
   ]
  },
  {
   "cell_type": "code",
   "execution_count": 21,
   "metadata": {
    "execution": {
     "iopub.execute_input": "2020-11-12T18:51:30.375909Z",
     "iopub.status.busy": "2020-11-12T18:51:30.374909Z",
     "iopub.status.idle": "2020-11-12T18:51:31.067908Z",
     "shell.execute_reply": "2020-11-12T18:51:31.066908Z",
     "shell.execute_reply.started": "2020-11-12T18:51:30.375909Z"
    }
   },
   "outputs": [],
   "source": [
    "# Save model\n",
    "tf.keras.Model.save(LSTM, filepath=\"data/models/LSTM_model.h5\")"
   ]
  },
  {
   "cell_type": "markdown",
   "metadata": {},
   "source": [
    "## Calculate precision score with SKlearnbest_LSTM"
   ]
  },
  {
   "cell_type": "code",
   "execution_count": 12,
   "metadata": {
    "execution": {
     "iopub.execute_input": "2020-11-13T18:12:09.285083Z",
     "iopub.status.busy": "2020-11-13T18:12:09.284086Z",
     "iopub.status.idle": "2020-11-13T18:12:09.310085Z",
     "shell.execute_reply": "2020-11-13T18:12:09.309084Z",
     "shell.execute_reply.started": "2020-11-13T18:12:09.284086Z"
    }
   },
   "outputs": [],
   "source": [
    "from sklearn.metrics import f1_score, accuracy_score, confusion_matrix, roc_auc_score"
   ]
  },
  {
   "cell_type": "code",
   "execution_count": 22,
   "metadata": {
    "execution": {
     "iopub.execute_input": "2020-11-13T18:19:15.623193Z",
     "iopub.status.busy": "2020-11-13T18:19:15.623193Z",
     "iopub.status.idle": "2020-11-13T18:19:19.284193Z",
     "shell.execute_reply": "2020-11-13T18:19:19.284193Z",
     "shell.execute_reply.started": "2020-11-13T18:19:15.623193Z"
    }
   },
   "outputs": [],
   "source": [
    "# Load best LSTM model\n",
    "best_LSTM = tf.keras.models.load_model(\n",
    "    filepath=\"data/models/LSTM_model.h5\", custom_objects={\"F1-metric\": f1}, compile=False\n",
    ")\n",
    "best_LSTM.compile(\n",
    "        optimizer=\"adagrad\",\n",
    "        loss=CategoricalCrossentropy(label_smoothing=0.1),\n",
    "        metrics=[\"accuracy\", \"AUC\"],\n",
    "    )"
   ]
  },
  {
   "cell_type": "code",
   "execution_count": 24,
   "metadata": {
    "execution": {
     "iopub.execute_input": "2020-11-13T18:19:35.295111Z",
     "iopub.status.busy": "2020-11-13T18:19:35.295111Z",
     "iopub.status.idle": "2020-11-13T18:19:39.202109Z",
     "shell.execute_reply": "2020-11-13T18:19:39.202109Z",
     "shell.execute_reply.started": "2020-11-13T18:19:35.295111Z"
    }
   },
   "outputs": [
    {
     "name": "stdout",
     "output_type": "stream",
     "text": [
      "84/84 - 4s - loss: 1.6549 - accuracy: 0.4860 - auc: 0.8047\n"
     ]
    },
    {
     "data": {
      "text/plain": [
       "[1.6548638343811035, 0.48596706986427307, 0.8046668171882629]"
      ]
     },
     "execution_count": 24,
     "metadata": {},
     "output_type": "execute_result"
    }
   ],
   "source": [
    "best_LSTM.evaluate(seq_val_features, seq_val_labels, verbose = 2)"
   ]
  },
  {
   "cell_type": "code",
   "execution_count": 15,
   "metadata": {
    "execution": {
     "iopub.execute_input": "2020-11-13T18:12:17.545035Z",
     "iopub.status.busy": "2020-11-13T18:12:17.545035Z",
     "iopub.status.idle": "2020-11-13T18:12:25.695578Z",
     "shell.execute_reply": "2020-11-13T18:12:25.695578Z",
     "shell.execute_reply.started": "2020-11-13T18:12:17.545035Z"
    }
   },
   "outputs": [],
   "source": [
    "# Do predictions on test set\n",
    "val_pred = best_LSTM.predict(seq_val_features, verbose=0)\n",
    "\n",
    "# Reshape back to (frame, label)\n",
    "val_pred = np.reshape(\n",
    "    val_pred, (val_pred.shape[0] * val_pred.shape[1], val_pred.shape[2])\n",
    ")\n",
    "\n",
    "# Convert one hot encoding to integers\n",
    "val_pred = np.argmax(val_pred, axis=1)"
   ]
  },
  {
   "cell_type": "code",
   "execution_count": 16,
   "metadata": {
    "execution": {
     "iopub.execute_input": "2020-11-13T18:12:27.647581Z",
     "iopub.status.busy": "2020-11-13T18:12:27.646579Z",
     "iopub.status.idle": "2020-11-13T18:12:27.667579Z",
     "shell.execute_reply": "2020-11-13T18:12:27.666579Z",
     "shell.execute_reply.started": "2020-11-13T18:12:27.647581Z"
    },
    "scrolled": true
   },
   "outputs": [],
   "source": [
    "# Reshape back to (frame, label)\n",
    "val_true = np.reshape(\n",
    "    seq_val_labels,\n",
    "    (seq_val_labels.shape[0] * seq_val_labels.shape[1], seq_val_labels.shape[2]),\n",
    ")\n",
    "val_true = np.argmax(val_true, axis=1)"
   ]
  },
  {
   "cell_type": "code",
   "execution_count": 26,
   "metadata": {
    "execution": {
     "iopub.execute_input": "2020-11-13T18:19:54.486222Z",
     "iopub.status.busy": "2020-11-13T18:19:54.485222Z",
     "iopub.status.idle": "2020-11-13T18:19:54.717221Z",
     "shell.execute_reply": "2020-11-13T18:19:54.717221Z",
     "shell.execute_reply.started": "2020-11-13T18:19:54.486222Z"
    }
   },
   "outputs": [
    {
     "name": "stdout",
     "output_type": "stream",
     "text": [
      "Average method: None, f1-score: [0.65032418 0.07200486 0.00685358 0.00510159 0.3405524  0.14001207\n",
      " 0.28963893]\n",
      "Average method: micro, f1-score: 0.4859670549918577\n",
      "Average method: macro, f1-score: 0.2149268019557213\n",
      "Average method: weighted, f1-score: 0.4665984518325578\n"
     ]
    }
   ],
   "source": [
    "# F1 Results with model v3\n",
    "for avg in [None, \"micro\", \"macro\", \"weighted\"]:\n",
    "    score = f1_score(val_true, val_pred, average=avg)\n",
    "    print(f\"Average method: {avg}, f1-score: {score}\")"
   ]
  },
  {
   "cell_type": "markdown",
   "metadata": {},
   "source": [
    "# Build HP tuner model"
   ]
  },
  {
   "cell_type": "code",
   "execution_count": 4,
   "metadata": {
    "execution": {
     "iopub.execute_input": "2020-11-20T11:52:45.685705Z",
     "iopub.status.busy": "2020-11-20T11:52:45.684703Z",
     "iopub.status.idle": "2020-11-20T11:52:45.727705Z",
     "shell.execute_reply": "2020-11-20T11:52:45.726705Z",
     "shell.execute_reply.started": "2020-11-20T11:52:45.685705Z"
    }
   },
   "outputs": [],
   "source": [
    "# def build_model(hp):\n",
    "#     # Only tune the first layer of hyperparameters\n",
    "#     hp_unit = hp.Int(\"units\", min_value=256, max_value=2048, step=256)\n",
    "\n",
    "#     model = Sequential(name=\"RNN-LSTM\")\n",
    "#     model.add(\n",
    "#         layers.InputLayer(\n",
    "#             input_shape=(seq_train_features.shape[1], seq_train_features.shape[2])\n",
    "#         )\n",
    "#     )\n",
    "#     model.add(layers.LSTM(hp_unit, return_sequences=True, name=\"LSTM_1\"))\n",
    "#     model.add(layers.LayerNormalization())\n",
    "#     model.add(layers.LSTM(256, return_sequences=True, name=\"LSTM_2\"))\n",
    "#     model.add(layers.Dense(7, activation=\"softmax\", name=\"Dense_Output\"))\n",
    "#     model.compile(\n",
    "#         optimizer=\"adagrad\",\n",
    "#         loss=CategoricalCrossentropy(label_smoothing=0.1),\n",
    "#         metrics=[\"accuracy\", \"AUC\"],\n",
    "#     )\n",
    "#     return model"
   ]
  },
  {
   "cell_type": "markdown",
   "metadata": {},
   "source": [
    "## Hyperparameter tuning"
   ]
  },
  {
   "cell_type": "code",
   "execution_count": 12,
   "metadata": {
    "execution": {
     "iopub.execute_input": "2020-11-12T13:31:34.678440Z",
     "iopub.status.busy": "2020-11-12T13:31:34.678440Z",
     "iopub.status.idle": "2020-11-12T13:31:34.705440Z",
     "shell.execute_reply": "2020-11-12T13:31:34.705440Z",
     "shell.execute_reply.started": "2020-11-12T13:31:34.678440Z"
    }
   },
   "outputs": [],
   "source": [
    "# es = tf.keras.callbacks.EarlyStopping(\n",
    "#             monitor=\"val_loss\",\n",
    "#             verbose=1,\n",
    "#             patience=3,\n",
    "#             mode=\"max\",\n",
    "#             restore_best_weights=True,\n",
    "#         )"
   ]
  },
  {
   "cell_type": "code",
   "execution_count": null,
   "metadata": {
    "scrolled": true
   },
   "outputs": [],
   "source": [
    "# # Keras-tuner setup\n",
    "# tuner = kt.RandomSearch(\n",
    "#     build_model,\n",
    "#     objective=\"val_loss\",\n",
    "#     max_trials=8,\n",
    "#     executions_per_trial=5,\n",
    "#     seed=1337,\n",
    "#     project_name=normpath(\"C:/Keras_tuner\"),\n",
    "#     overwrite=True,\n",
    "# )\n",
    "\n",
    "# # Check the defined hyperparameter search space\n",
    "# tuner.search_space_summary()\n",
    "\n",
    "# # Do random serach for optimal hyperparameters\n",
    "# tuner.search(\n",
    "#     seq_train_features,\n",
    "#     seq_train_labels,\n",
    "#     sample_weight=train_samples_weights,\n",
    "#     epochs=100,\n",
    "#     validation_data=(seq_val_features, seq_val_labels),\n",
    "#     callbacks=[es],\n",
    "#     verbose=2,\n",
    "# )"
   ]
  },
  {
   "cell_type": "code",
   "execution_count": null,
   "metadata": {
    "ExecuteTime": {
     "end_time": "2020-10-04T17:39:44.932922Z",
     "start_time": "2020-10-04T17:39:44.857125Z"
    },
    "scrolled": true
   },
   "outputs": [],
   "source": [
    "tuner.results_summary()"
   ]
  },
  {
   "cell_type": "code",
   "execution_count": null,
   "metadata": {
    "ExecuteTime": {
     "end_time": "2020-10-04T17:39:44.948879Z",
     "start_time": "2020-10-04T17:39:44.933920Z"
    }
   },
   "outputs": [],
   "source": [
    "## Grab optimal hyperparameter\n",
    "tuner.oracle.get_best_trials(num_trials=1)[0].hyperparameters.values"
   ]
  },
  {
   "cell_type": "code",
   "execution_count": null,
   "metadata": {},
   "outputs": [],
   "source": [
    "best_hps = tuner.get_best_hyperparameters(num_trials = 1)[0]"
   ]
  },
  {
   "cell_type": "code",
   "execution_count": null,
   "metadata": {},
   "outputs": [],
   "source": [
    "LSTM = tuner.hypermodel.build(best_hps)\n",
    "LSTM.summary()"
   ]
  }
 ],
 "metadata": {
  "kernelspec": {
   "display_name": "Python 3",
   "language": "python",
   "name": "python3"
  },
  "language_info": {
   "codemirror_mode": {
    "name": "ipython",
    "version": 3
   },
   "file_extension": ".py",
   "mimetype": "text/x-python",
   "name": "python",
   "nbconvert_exporter": "python",
   "pygments_lexer": "ipython3",
   "version": "3.7.9"
  },
  "output_auto_scroll": true,
  "toc-autonumbering": true
 },
 "nbformat": 4,
 "nbformat_minor": 4
}
