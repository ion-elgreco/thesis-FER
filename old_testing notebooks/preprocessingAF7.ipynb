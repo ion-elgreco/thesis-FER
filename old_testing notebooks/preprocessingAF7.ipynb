{
 "cells": [
  {
   "cell_type": "markdown",
   "metadata": {},
   "source": [
    "## Load/import packages"
   ]
  },
  {
   "cell_type": "code",
   "execution_count": 1,
   "metadata": {
    "execution": {
     "iopub.execute_input": "2020-11-25T09:25:57.404690Z",
     "iopub.status.busy": "2020-11-25T09:25:57.404690Z",
     "iopub.status.idle": "2020-11-25T09:25:59.818688Z",
     "shell.execute_reply": "2020-11-25T09:25:59.818688Z",
     "shell.execute_reply.started": "2020-11-25T09:25:57.404690Z"
    }
   },
   "outputs": [
    {
     "name": "stderr",
     "output_type": "stream",
     "text": [
      "Using TensorFlow backend.\n",
      "C:\\Users\\ion\\anaconda3\\envs\\tf-gpu-2\\lib\\site-packages\\tensorflow\\python\\framework\\dtypes.py:516: FutureWarning: Passing (type, 1) or '1type' as a synonym of type is deprecated; in a future version of numpy, it will be understood as (type, (1,)) / '(1,)type'.\n",
      "  _np_qint8 = np.dtype([(\"qint8\", np.int8, 1)])\n",
      "C:\\Users\\ion\\anaconda3\\envs\\tf-gpu-2\\lib\\site-packages\\tensorflow\\python\\framework\\dtypes.py:517: FutureWarning: Passing (type, 1) or '1type' as a synonym of type is deprecated; in a future version of numpy, it will be understood as (type, (1,)) / '(1,)type'.\n",
      "  _np_quint8 = np.dtype([(\"quint8\", np.uint8, 1)])\n",
      "C:\\Users\\ion\\anaconda3\\envs\\tf-gpu-2\\lib\\site-packages\\tensorflow\\python\\framework\\dtypes.py:518: FutureWarning: Passing (type, 1) or '1type' as a synonym of type is deprecated; in a future version of numpy, it will be understood as (type, (1,)) / '(1,)type'.\n",
      "  _np_qint16 = np.dtype([(\"qint16\", np.int16, 1)])\n",
      "C:\\Users\\ion\\anaconda3\\envs\\tf-gpu-2\\lib\\site-packages\\tensorflow\\python\\framework\\dtypes.py:519: FutureWarning: Passing (type, 1) or '1type' as a synonym of type is deprecated; in a future version of numpy, it will be understood as (type, (1,)) / '(1,)type'.\n",
      "  _np_quint16 = np.dtype([(\"quint16\", np.uint16, 1)])\n",
      "C:\\Users\\ion\\anaconda3\\envs\\tf-gpu-2\\lib\\site-packages\\tensorflow\\python\\framework\\dtypes.py:520: FutureWarning: Passing (type, 1) or '1type' as a synonym of type is deprecated; in a future version of numpy, it will be understood as (type, (1,)) / '(1,)type'.\n",
      "  _np_qint32 = np.dtype([(\"qint32\", np.int32, 1)])\n",
      "C:\\Users\\ion\\anaconda3\\envs\\tf-gpu-2\\lib\\site-packages\\tensorflow\\python\\framework\\dtypes.py:525: FutureWarning: Passing (type, 1) or '1type' as a synonym of type is deprecated; in a future version of numpy, it will be understood as (type, (1,)) / '(1,)type'.\n",
      "  np_resource = np.dtype([(\"resource\", np.ubyte, 1)])\n",
      "C:\\Users\\ion\\anaconda3\\envs\\tf-gpu-2\\lib\\site-packages\\tensorboard\\compat\\tensorflow_stub\\dtypes.py:541: FutureWarning: Passing (type, 1) or '1type' as a synonym of type is deprecated; in a future version of numpy, it will be understood as (type, (1,)) / '(1,)type'.\n",
      "  _np_qint8 = np.dtype([(\"qint8\", np.int8, 1)])\n",
      "C:\\Users\\ion\\anaconda3\\envs\\tf-gpu-2\\lib\\site-packages\\tensorboard\\compat\\tensorflow_stub\\dtypes.py:542: FutureWarning: Passing (type, 1) or '1type' as a synonym of type is deprecated; in a future version of numpy, it will be understood as (type, (1,)) / '(1,)type'.\n",
      "  _np_quint8 = np.dtype([(\"quint8\", np.uint8, 1)])\n",
      "C:\\Users\\ion\\anaconda3\\envs\\tf-gpu-2\\lib\\site-packages\\tensorboard\\compat\\tensorflow_stub\\dtypes.py:543: FutureWarning: Passing (type, 1) or '1type' as a synonym of type is deprecated; in a future version of numpy, it will be understood as (type, (1,)) / '(1,)type'.\n",
      "  _np_qint16 = np.dtype([(\"qint16\", np.int16, 1)])\n",
      "C:\\Users\\ion\\anaconda3\\envs\\tf-gpu-2\\lib\\site-packages\\tensorboard\\compat\\tensorflow_stub\\dtypes.py:544: FutureWarning: Passing (type, 1) or '1type' as a synonym of type is deprecated; in a future version of numpy, it will be understood as (type, (1,)) / '(1,)type'.\n",
      "  _np_quint16 = np.dtype([(\"quint16\", np.uint16, 1)])\n",
      "C:\\Users\\ion\\anaconda3\\envs\\tf-gpu-2\\lib\\site-packages\\tensorboard\\compat\\tensorflow_stub\\dtypes.py:545: FutureWarning: Passing (type, 1) or '1type' as a synonym of type is deprecated; in a future version of numpy, it will be understood as (type, (1,)) / '(1,)type'.\n",
      "  _np_qint32 = np.dtype([(\"qint32\", np.int32, 1)])\n",
      "C:\\Users\\ion\\anaconda3\\envs\\tf-gpu-2\\lib\\site-packages\\tensorboard\\compat\\tensorflow_stub\\dtypes.py:550: FutureWarning: Passing (type, 1) or '1type' as a synonym of type is deprecated; in a future version of numpy, it will be understood as (type, (1,)) / '(1,)type'.\n",
      "  np_resource = np.dtype([(\"resource\", np.ubyte, 1)])\n"
     ]
    },
    {
     "data": {
      "text/plain": [
       "'1.14.0'"
      ]
     },
     "execution_count": 1,
     "metadata": {},
     "output_type": "execute_result"
    }
   ],
   "source": [
    "import ffmpeg\n",
    "import time\n",
    "import json\n",
    "import cv2\n",
    "import numpy as np\n",
    "import matplotlib.pyplot as plt\n",
    "\n",
    "from skimage import io, exposure, color\n",
    "from skimage.transform import resize\n",
    "\n",
    "# Import MTCNN for face detection (method 1)\n",
    "# from mtcnn.mtcnn import MTCNN\n",
    "\n",
    "# Import MTCNN for face detection and alignment (method 2)\n",
    "from deepface import DeepFace\n",
    "\n",
    "from os import listdir, mkdir\n",
    "from os.path import splitext\n",
    "from os.path import join\n",
    "\n",
    "import tensorflow as tf\n",
    "\n",
    "%matplotlib inline\n",
    "\n",
    "tf.__version__"
   ]
  },
  {
   "cell_type": "markdown",
   "metadata": {},
   "source": [
    "## Directories\n",
    "### Aff-Wild2"
   ]
  },
  {
   "cell_type": "code",
   "execution_count": 2,
   "metadata": {
    "execution": {
     "iopub.execute_input": "2020-11-25T09:26:00.585239Z",
     "iopub.status.busy": "2020-11-25T09:26:00.585239Z",
     "iopub.status.idle": "2020-11-25T09:26:00.591239Z",
     "shell.execute_reply": "2020-11-25T09:26:00.591239Z",
     "shell.execute_reply.started": "2020-11-25T09:26:00.585239Z"
    }
   },
   "outputs": [],
   "source": [
    "from load_filenames import (AF7_dir_videos, \n",
    "                            AF7_dir_labels, \n",
    "                            AF7_labeled_videos_FN)"
   ]
  },
  {
   "cell_type": "markdown",
   "metadata": {},
   "source": [
    "# Start Pre-processing"
   ]
  },
  {
   "cell_type": "code",
   "execution_count": 18,
   "metadata": {
    "execution": {
     "iopub.execute_input": "2020-11-24T18:47:23.322870Z",
     "iopub.status.busy": "2020-11-24T18:47:23.321868Z",
     "iopub.status.idle": "2020-11-24T18:47:24.011866Z",
     "shell.execute_reply": "2020-11-24T18:47:24.011866Z",
     "shell.execute_reply.started": "2020-11-24T18:47:23.322870Z"
    }
   },
   "outputs": [],
   "source": [
    "#assign the MTCNN detector\n",
    "detector = MTCNN()\n",
    "\n",
    "def extract_face(pixels):              \n",
    "    f = detector.detect_faces(pixels)\n",
    "    # If the face is not found return the empty list\n",
    "    if not f:\n",
    "        return f\n",
    "    #fetching the (x,y)co-ordinate and (width-->w, height-->h) of the image\n",
    "    x1,y1,w,h = f[0]['box']             \n",
    "    x1, y1 = abs(x1), abs(y1)\n",
    "    x2 = abs(x1+w)\n",
    "    y2 = abs(y1+h)\n",
    "    \n",
    "    #locate the co-ordinates of face in the image\n",
    "    face = pixels[y1:y2,x1:x2]\n",
    "    face = resize(face, (112,112,3))\n",
    "    return face"
   ]
  },
  {
   "cell_type": "markdown",
   "metadata": {},
   "source": [
    "# Only face detection with MTCNN"
   ]
  },
  {
   "cell_type": "code",
   "execution_count": 22,
   "metadata": {
    "execution": {
     "iopub.execute_input": "2020-11-24T18:50:22.937684Z",
     "iopub.status.busy": "2020-11-24T18:50:22.937684Z",
     "iopub.status.idle": "2020-11-24T21:13:04.073198Z",
     "shell.execute_reply": "2020-11-24T21:13:04.072196Z",
     "shell.execute_reply.started": "2020-11-24T18:50:22.937684Z"
    }
   },
   "outputs": [
    {
     "name": "stderr",
     "output_type": "stream",
     "text": [
      "C:\\Users\\ion\\anaconda3\\envs\\tf-gpu-2\\lib\\site-packages\\ipykernel_launcher.py:28: DeprecationWarning: elementwise comparison failed; this will raise an error in the future.\n"
     ]
    }
   ],
   "source": [
    "# Define directory to save the frames\n",
    "frame_dir = r'D:\\AFEW 7.0 Dataset\\Val+train_faces'\n",
    "\n",
    "for label in AF7_dir_labels:\n",
    "    try:\n",
    "        mkdir(join(frame_dir, label))\n",
    "    except FileExistsError:\n",
    "        print(f\"{label} Directory already exists!\")\n",
    "    \n",
    "    videos = AF7_labeled_videos_FN.get(label)\n",
    "    for video in videos:\n",
    "        fn, ext = splitext(video)\n",
    "        \n",
    "        video_dir = join(join(frame_dir, label) , video)\n",
    "        probe = ffmpeg.probe(join(AF7_dir_videos, join(label, video)))\n",
    "        video_info = next(x for x in probe[\"streams\"] if x[\"codec_type\"] == \"video\")\n",
    "        width = int(video_info[\"width\"])\n",
    "        height = int(video_info[\"height\"])\n",
    "\n",
    "        out, _ = (\n",
    "            ffmpeg.input(join(AF7_dir_videos, join(label, video)))\n",
    "            .output(\"pipe:\", format=\"rawvideo\", pix_fmt=\"rgb24\")\n",
    "            .run(capture_stdout=True)\n",
    "        )\n",
    "        frames = np.frombuffer(out, np.uint8).reshape([-1, height, width, 3])\n",
    "        \n",
    "        frame_n = 0\n",
    "        for frame in frames:\n",
    "            frame_n +=1\n",
    "            face = extract_face(frame)\n",
    "            # If the face is not found, continue in the loop\n",
    "            if face == []:\n",
    "                continue\n",
    "            io.imsave(join(join(frame_dir, label), f'{fn}_{frame_n:05n}'+'.jpg'), (face*255).astype('uint8'), check_contrast=False)\n",
    "        \n",
    "                "
   ]
  },
  {
   "cell_type": "markdown",
   "metadata": {},
   "source": [
    "# Face detection with MTCCN and also face alignment"
   ]
  },
  {
   "cell_type": "code",
   "execution_count": 6,
   "metadata": {
    "execution": {
     "iopub.execute_input": "2020-11-25T09:27:16.814673Z",
     "iopub.status.busy": "2020-11-25T09:27:16.814673Z",
     "iopub.status.idle": "2020-11-25T09:27:17.279670Z",
     "shell.execute_reply": "2020-11-25T09:27:17.279670Z",
     "shell.execute_reply.started": "2020-11-25T09:27:16.814673Z"
    },
    "scrolled": true
   },
   "outputs": [
    {
     "name": "stdout",
     "output_type": "stream",
     "text": [
      "Angry Directory already exists!\n"
     ]
    },
    {
     "ename": "TypeError",
     "evalue": "detectFace() got an unexpected keyword argument 'enforce_detection'",
     "output_type": "error",
     "traceback": [
      "\u001b[1;31m---------------------------------------------------------------------------\u001b[0m",
      "\u001b[1;31mTypeError\u001b[0m                                 Traceback (most recent call last)",
      "\u001b[1;32m<ipython-input-6-18f9dc9a617f>\u001b[0m in \u001b[0;36m<module>\u001b[1;34m\u001b[0m\n\u001b[0;32m     29\u001b[0m             \u001b[0mframe_n\u001b[0m \u001b[1;33m+=\u001b[0m\u001b[1;36m1\u001b[0m\u001b[1;33m\u001b[0m\u001b[1;33m\u001b[0m\u001b[0m\n\u001b[0;32m     30\u001b[0m             \u001b[1;32mtry\u001b[0m\u001b[1;33m:\u001b[0m\u001b[1;33m\u001b[0m\u001b[1;33m\u001b[0m\u001b[0m\n\u001b[1;32m---> 31\u001b[1;33m                 \u001b[0mface\u001b[0m \u001b[1;33m=\u001b[0m \u001b[0mDeepFace\u001b[0m\u001b[1;33m.\u001b[0m\u001b[0mdetectFace\u001b[0m\u001b[1;33m(\u001b[0m\u001b[0mframe\u001b[0m\u001b[1;33m,\u001b[0m \u001b[0mdetector_backend\u001b[0m \u001b[1;33m=\u001b[0m \u001b[1;34m'ssd'\u001b[0m\u001b[1;33m,\u001b[0m \u001b[0menforce_detection\u001b[0m\u001b[1;33m=\u001b[0m\u001b[1;32mFalse\u001b[0m\u001b[1;33m)\u001b[0m\u001b[1;33m\u001b[0m\u001b[1;33m\u001b[0m\u001b[0m\n\u001b[0m\u001b[0;32m     32\u001b[0m                 \u001b[0mface\u001b[0m \u001b[1;33m=\u001b[0m \u001b[0mcv2\u001b[0m\u001b[1;33m.\u001b[0m\u001b[0mcvtColor\u001b[0m\u001b[1;33m(\u001b[0m\u001b[0mface\u001b[0m\u001b[1;33m,\u001b[0m \u001b[0mcv2\u001b[0m\u001b[1;33m.\u001b[0m\u001b[0mCOLOR_BGR2RGB\u001b[0m\u001b[1;33m)\u001b[0m\u001b[1;33m\u001b[0m\u001b[1;33m\u001b[0m\u001b[0m\n\u001b[0;32m     33\u001b[0m                 \u001b[0mface\u001b[0m \u001b[1;33m=\u001b[0m \u001b[0mresize\u001b[0m\u001b[1;33m(\u001b[0m\u001b[0mface\u001b[0m\u001b[1;33m,\u001b[0m \u001b[1;33m(\u001b[0m\u001b[1;36m112\u001b[0m\u001b[1;33m,\u001b[0m\u001b[1;36m112\u001b[0m\u001b[1;33m,\u001b[0m\u001b[1;36m3\u001b[0m\u001b[1;33m)\u001b[0m\u001b[1;33m)\u001b[0m\u001b[1;33m\u001b[0m\u001b[1;33m\u001b[0m\u001b[0m\n",
      "\u001b[1;31mTypeError\u001b[0m: detectFace() got an unexpected keyword argument 'enforce_detection'"
     ]
    }
   ],
   "source": [
    "# # Define directory to save the frames\n",
    "# frame_dir = r'D:\\AFEW 7.0 Dataset\\Val+train_faces_aligned'\n",
    "\n",
    "# for label in AF7_dir_labels:\n",
    "#     try:\n",
    "#         mkdir(join(frame_dir, label))\n",
    "#     except FileExistsError:\n",
    "#         print(f\"{label} Directory already exists!\")\n",
    "    \n",
    "#     videos = AF7_labeled_videos_FN.get(label)\n",
    "#     for video in videos:\n",
    "#         fn, ext = splitext(video)\n",
    "        \n",
    "#         video_dir = join(join(frame_dir, label) , video)\n",
    "#         probe = ffmpeg.probe(join(AF7_dir_videos, join(label, video)))\n",
    "#         video_info = next(x for x in probe[\"streams\"] if x[\"codec_type\"] == \"video\")\n",
    "#         width = int(video_info[\"width\"])\n",
    "#         height = int(video_info[\"height\"])\n",
    "\n",
    "#         out, _ = (\n",
    "#             ffmpeg.input(join(AF7_dir_videos, join(label, video)))\n",
    "#             .output(\"pipe:\", format=\"rawvideo\", pix_fmt=\"rgb24\")\n",
    "#             .run(capture_stdout=True)\n",
    "#         )\n",
    "#         frames = np.frombuffer(out, np.uint8).reshape([-1, height, width, 3])\n",
    "        \n",
    "#         frame_n = 0\n",
    "#         for frame in frames:\n",
    "#             frame_n +=1\n",
    "#             try:\n",
    "#                 face = DeepFace.detectFace(frame, detector_backend = 'ssd', enforce_detection=False)\n",
    "#                 face = cv2.cvtColor(face, cv2.COLOR_BGR2RGB)\n",
    "#                 face = resize(face, (112,112,3))\n",
    "#             except FileExistsError:\n",
    "#                 print(\"no face\")\n",
    "\n",
    "#             print(f'{fn}_{frame_n:05n}'+'.jpg')\n",
    "#             try:\n",
    "#                 io.imsave(join(join(frame_dir, label), f'{fn}_{frame_n:05n}'+'.jpg'), (face*255).astype('uint8'), check_contrast=False)\n",
    "#             except FileExistsError:\n",
    "#                 print(\"no face to save\")"
   ]
  },
  {
   "cell_type": "code",
   "execution_count": null,
   "metadata": {},
   "outputs": [],
   "source": []
  },
  {
   "cell_type": "markdown",
   "metadata": {},
   "source": [
    "*** "
   ]
  }
 ],
 "metadata": {
  "kernelspec": {
   "display_name": "Python 3",
   "language": "python",
   "name": "python3"
  },
  "language_info": {
   "codemirror_mode": {
    "name": "ipython",
    "version": 3
   },
   "file_extension": ".py",
   "mimetype": "text/x-python",
   "name": "python",
   "nbconvert_exporter": "python",
   "pygments_lexer": "ipython3",
   "version": "3.7.9"
  },
  "output_auto_scroll": true
 },
 "nbformat": 4,
 "nbformat_minor": 4
}
