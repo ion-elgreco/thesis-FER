{
 "cells": [
  {
   "cell_type": "code",
   "execution_count": 1,
   "metadata": {
    "execution": {
     "iopub.execute_input": "2020-11-06T00:45:10.230480Z",
     "iopub.status.busy": "2020-11-06T00:45:10.230480Z",
     "iopub.status.idle": "2020-11-06T00:45:10.342479Z",
     "shell.execute_reply": "2020-11-06T00:45:10.342479Z",
     "shell.execute_reply.started": "2020-11-06T00:45:10.230480Z"
    }
   },
   "outputs": [],
   "source": [
    "import numpy as np\n",
    "import ffmpeg  # ffmpeg-python\n",
    "import json\n",
    "import cv2\n",
    "\n",
    "from os import listdir\n",
    "from os.path import splitext\n",
    "from os.path import join"
   ]
  },
  {
   "cell_type": "markdown",
   "metadata": {},
   "source": [
    "## Explanation of different datasets\n",
    "The Aff-Wild2 dataset is used for training, validation and testing. While the AFEW 7.0 dataset is only used for testing. \n",
    "\n",
    "#### AFEW 7.0\n",
    "In this dataset each video shows only one facial expression displayed, therefore each video is placed in a folder, where the folder name represents the facial expression class. The test dataset videos classes are not given, therefore only the train+validation set will be combined to use for final testing results of the model.\n",
    "\n",
    "The Training and validation sets are combined in one folder called Val+train_AFEW, which sits inside the AFEW 7.0 Dataset folder."
   ]
  },
  {
   "cell_type": "code",
   "execution_count": null,
   "metadata": {},
   "outputs": [],
   "source": []
  },
  {
   "cell_type": "code",
   "execution_count": 2,
   "metadata": {
    "execution": {
     "iopub.execute_input": "2020-11-06T00:45:11.309267Z",
     "iopub.status.busy": "2020-11-06T00:45:11.309267Z",
     "iopub.status.idle": "2020-11-06T00:45:11.317265Z",
     "shell.execute_reply": "2020-11-06T00:45:11.317265Z",
     "shell.execute_reply.started": "2020-11-06T00:45:11.309267Z"
    }
   },
   "outputs": [],
   "source": [
    "from load_filenames import AF7_dir_videos, AF7_dir_labels, AF7_labeled_videos_FN"
   ]
  },
  {
   "cell_type": "markdown",
   "metadata": {
    "execution": {
     "iopub.execute_input": "2020-10-27T10:57:15.162119Z",
     "iopub.status.busy": "2020-10-27T10:57:15.162119Z",
     "iopub.status.idle": "2020-10-27T10:57:15.180119Z",
     "shell.execute_reply": "2020-10-27T10:57:15.180119Z",
     "shell.execute_reply.started": "2020-10-27T10:57:15.162119Z"
    }
   },
   "source": [
    "### AFEW 7.0 Dataset Size ###"
   ]
  },
  {
   "cell_type": "code",
   "execution_count": 3,
   "metadata": {
    "execution": {
     "iopub.execute_input": "2020-11-06T00:45:12.698275Z",
     "iopub.status.busy": "2020-11-06T00:45:12.698275Z",
     "iopub.status.idle": "2020-11-06T00:45:12.712276Z",
     "shell.execute_reply": "2020-11-06T00:45:12.712276Z",
     "shell.execute_reply.started": "2020-11-06T00:45:12.698275Z"
    }
   },
   "outputs": [
    {
     "name": "stdout",
     "output_type": "stream",
     "text": [
      "The training+validation set contains: 1156 videos\n"
     ]
    }
   ],
   "source": [
    "# Size of each set\n",
    "AF7_all_videos = [j for i in AF7_dir_labels for j in AF7_labeled_videos_FN.get(i)]\n",
    "\n",
    "print(f\"The training+validation set contains: {len(AF7_all_videos)} videos\")"
   ]
  },
  {
   "cell_type": "markdown",
   "metadata": {},
   "source": [
    "### Sequence length of each video ###"
   ]
  },
  {
   "cell_type": "markdown",
   "metadata": {},
   "source": [
    "Only FFmpeg is able to extract all frames, probably has to do with encoding of the videos. SKvideo/OpenCV all return incorrent amount of frames (2/3 frames sometimes)\n",
    "\n",
    "https://github.com/kkroening/ffmpeg-python/issues/63\n"
   ]
  },
  {
   "cell_type": "code",
   "execution_count": 4,
   "metadata": {
    "execution": {
     "iopub.execute_input": "2020-11-06T00:45:15.337335Z",
     "iopub.status.busy": "2020-11-06T00:45:15.337335Z",
     "iopub.status.idle": "2020-11-06T00:52:06.385332Z",
     "shell.execute_reply": "2020-11-06T00:52:06.385332Z",
     "shell.execute_reply.started": "2020-11-06T00:45:15.337335Z"
    }
   },
   "outputs": [],
   "source": [
    "# Create dictionary of sequence length\n",
    "AF7_seqlength = {}\n",
    "\n",
    "# Save the shape information of the array for each file in the previously made dictionary\n",
    "for label in AF7_labeled_videos_FN.keys():\n",
    "    videos = AF7_labeled_videos_FN.get(label)\n",
    "    for video in videos:\n",
    "\n",
    "        probe = ffmpeg.probe(join(AF7_dir_videos, join(label, video)))\n",
    "        video_info = next(x for x in probe[\"streams\"] if x[\"codec_type\"] == \"video\")\n",
    "        width = int(video_info[\"width\"])\n",
    "        height = int(video_info[\"height\"])\n",
    "\n",
    "        out, _ = (\n",
    "            ffmpeg.input(join(AF7_dir_videos, join(label, video)))\n",
    "            .output(\"pipe:\", format=\"rawvideo\", pix_fmt=\"rgb24\")\n",
    "            .run(capture_stdout=True)\n",
    "        )\n",
    "        frames = np.frombuffer(out, np.uint8).reshape([-1, height, width, 3])\n",
    "\n",
    "        AF7_seqlength[video] = frames.shape"
   ]
  },
  {
   "cell_type": "code",
   "execution_count": 5,
   "metadata": {
    "execution": {
     "iopub.execute_input": "2020-11-06T00:52:06.386333Z",
     "iopub.status.busy": "2020-11-06T00:52:06.386333Z",
     "iopub.status.idle": "2020-11-06T00:52:06.400332Z",
     "shell.execute_reply": "2020-11-06T00:52:06.400332Z",
     "shell.execute_reply.started": "2020-11-06T00:52:06.386333Z"
    }
   },
   "outputs": [],
   "source": [
    "# Save json file with all video's names and shapes = (n_frames, width, height, colour channels)\n",
    "with open(\"data/AF2_video_shapes.json\", \"w\") as fp:\n",
    "    json.dump(AF7_seqlength, fp)"
   ]
  }
 ],
 "metadata": {
  "kernelspec": {
   "display_name": "Python 3",
   "language": "python",
   "name": "python3"
  },
  "language_info": {
   "codemirror_mode": {
    "name": "ipython",
    "version": 3
   },
   "file_extension": ".py",
   "mimetype": "text/x-python",
   "name": "python",
   "nbconvert_exporter": "python",
   "pygments_lexer": "ipython3",
   "version": "3.7.9"
  }
 },
 "nbformat": 4,
 "nbformat_minor": 4
}
