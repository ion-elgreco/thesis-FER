{
 "cells": [
  {
   "cell_type": "markdown",
   "metadata": {},
   "source": [
    "## Load/import packages"
   ]
  },
  {
   "cell_type": "code",
   "execution_count": 20,
   "metadata": {
    "execution": {
     "iopub.execute_input": "2020-11-04T10:22:02.601383Z",
     "iopub.status.busy": "2020-11-04T10:22:02.601383Z",
     "iopub.status.idle": "2020-11-04T10:22:02.616379Z",
     "shell.execute_reply": "2020-11-04T10:22:02.616379Z",
     "shell.execute_reply.started": "2020-11-04T10:22:02.601383Z"
    }
   },
   "outputs": [
    {
     "name": "stdout",
     "output_type": "stream",
     "text": [
      "[PhysicalDevice(name='/physical_device:GPU:0', device_type='GPU')]\n",
      "\n",
      "Tensorflow Version: 2.4.0-rc0\n",
      "Numpy Version: 1.19.2\n",
      "Matplotlib Version: 3.3.1\n",
      "Keras Version: 2.4.0\n"
     ]
    }
   ],
   "source": [
    "import json\n",
    "import cv2\n",
    "import numpy as np\n",
    "import matplotlib\n",
    "import matplotlib.pyplot as plt\n",
    "import tensorflow as tf\n",
    "from tensorflow.keras import Sequential, layers\n",
    "from tensorflow.keras.preprocessing import image_dataset_from_directory\n",
    "from tensorflow.keras.preprocessing.image import ImageDataGenerator\n",
    "\n",
    "from os import listdir, mkdir\n",
    "from os.path import splitext\n",
    "from os.path import join\n",
    "from skimage import io, color\n",
    "\n",
    "%matplotlib inline\n",
    "\n",
    "# Check if Tensorflow uses GPU\n",
    "print(tf.config.experimental.list_physical_devices(\"GPU\"))\n",
    "\n",
    "# Limit GPU memory usage\n",
    "gpu_devices = tf.config.experimental.list_physical_devices(\"GPU\")\n",
    "for device in gpu_devices:\n",
    "    tf.config.experimental.set_memory_growth(device, True)\n",
    "\n",
    "print()\n",
    "print(f\"Tensorflow Version: {tf.__version__}\")\n",
    "print(f\"Numpy Version: {np.__version__}\")\n",
    "# print(f\"OpenCV Version: {cv2.__version__}\")\n",
    "print(f\"Matplotlib Version: {matplotlib.__version__}\")\n",
    "print(f\"Keras Version: {tf.keras.__version__}\")"
   ]
  },
  {
   "cell_type": "markdown",
   "metadata": {},
   "source": [
    "# Load datasets"
   ]
  },
  {
   "cell_type": "markdown",
   "metadata": {},
   "source": [
    "The amount of images are uneven, so if I set the sequence size to an even number, in the last batch one element will have only one image in the sequence. So the image sequence lentgth needs to remain uneven"
   ]
  },
  {
   "cell_type": "code",
   "execution_count": 21,
   "metadata": {
    "execution": {
     "iopub.execute_input": "2020-11-04T10:22:02.617381Z",
     "iopub.status.busy": "2020-11-04T10:22:02.617381Z",
     "iopub.status.idle": "2020-11-04T10:22:35.759427Z",
     "shell.execute_reply": "2020-11-04T10:22:35.759427Z",
     "shell.execute_reply.started": "2020-11-04T10:22:02.617381Z"
    }
   },
   "outputs": [
    {
     "name": "stdout",
     "output_type": "stream",
     "text": [
      "Found 922029 files belonging to 7 classes.\n",
      "Found 107413 files belonging to 7 classes.\n"
     ]
    }
   ],
   "source": [
    "AW2_train_dir = r\"D:\\Aff-Wild2 Dataset\\Aff-wild2\\Sets_per_class\\train\"\n",
    "AW2_mini_train_dir = r\"D:\\Aff-Wild2 Dataset\\Aff-wild2\\Sets_per_class\\mini_train\"\n",
    "\n",
    "sequence_size = 11\n",
    "\n",
    "# Setting label mode to categorical to one-hot encode the labels. e.g. label 0 = [1,0,0,0,0,0,0]\n",
    "AW2_norm_train = image_dataset_from_directory(\n",
    "    directory=AW2_train_dir,\n",
    "    labels=\"inferred\",\n",
    "    label_mode=\"categorical\",\n",
    "    shuffle=False,\n",
    "    color_mode=\"rgb\",\n",
    "    batch_size=sequence_size,\n",
    "    image_size=(112, 112),\n",
    ")\n",
    "\n",
    "# Mini training set, only 1/9 size of the original training set\n",
    "AW2_norm_minitrain = image_dataset_from_directory(\n",
    "    directory=AW2_mini_train_dir,\n",
    "    labels=\"inferred\",\n",
    "    label_mode=\"categorical\",\n",
    "    shuffle=False,\n",
    "    color_mode=\"rgb\",\n",
    "    batch_size=sequence_size,\n",
    "    image_size=(112, 112),\n",
    ")"
   ]
  },
  {
   "cell_type": "code",
   "execution_count": 22,
   "metadata": {
    "execution": {
     "iopub.execute_input": "2020-11-04T10:22:35.760428Z",
     "iopub.status.busy": "2020-11-04T10:22:35.760428Z",
     "iopub.status.idle": "2020-11-04T10:22:45.824447Z",
     "shell.execute_reply": "2020-11-04T10:22:45.824447Z",
     "shell.execute_reply.started": "2020-11-04T10:22:35.760428Z"
    }
   },
   "outputs": [
    {
     "name": "stdout",
     "output_type": "stream",
     "text": [
      "Found 319323 files belonging to 7 classes.\n"
     ]
    }
   ],
   "source": [
    "AW2_val_dir = r\"D:\\Aff-Wild2 Dataset\\Aff-wild2\\Sets_per_class\\val\"\n",
    "AW2_norm_val = image_dataset_from_directory(\n",
    "    directory=AW2_val_dir,\n",
    "    labels=\"inferred\",\n",
    "    label_mode=\"categorical\",\n",
    "    shuffle=False,\n",
    "    color_mode=\"rgb\",\n",
    "    batch_size=sequence_size,\n",
    "    image_size=(112, 112),\n",
    ")"
   ]
  },
  {
   "cell_type": "code",
   "execution_count": 23,
   "metadata": {
    "execution": {
     "iopub.execute_input": "2020-11-04T10:22:45.825448Z",
     "iopub.status.busy": "2020-11-04T10:22:45.825448Z",
     "iopub.status.idle": "2020-11-04T10:22:45.840428Z",
     "shell.execute_reply": "2020-11-04T10:22:45.840428Z",
     "shell.execute_reply.started": "2020-11-04T10:22:45.825448Z"
    }
   },
   "outputs": [
    {
     "data": {
      "text/plain": [
       "tensorflow.python.data.ops.dataset_ops.BatchDataset"
      ]
     },
     "execution_count": 23,
     "metadata": {},
     "output_type": "execute_result"
    }
   ],
   "source": [
    "type(AW2_norm_train)"
   ]
  },
  {
   "cell_type": "code",
   "execution_count": 24,
   "metadata": {
    "execution": {
     "iopub.execute_input": "2020-11-04T10:22:45.841433Z",
     "iopub.status.busy": "2020-11-04T10:22:45.841433Z",
     "iopub.status.idle": "2020-11-04T10:22:45.872276Z",
     "shell.execute_reply": "2020-11-04T10:22:45.872276Z",
     "shell.execute_reply.started": "2020-11-04T10:22:45.841433Z"
    }
   },
   "outputs": [],
   "source": [
    "# Pull the first batch of 7 images\n",
    "count = 0\n",
    "for element in AW2_norm_minitrain:\n",
    "    if count == 1:\n",
    "        break\n",
    "    count += 1\n",
    "    values = element"
   ]
  },
  {
   "cell_type": "code",
   "execution_count": 25,
   "metadata": {
    "execution": {
     "iopub.execute_input": "2020-11-04T10:22:45.873280Z",
     "iopub.status.busy": "2020-11-04T10:22:45.873280Z",
     "iopub.status.idle": "2020-11-04T10:22:45.888323Z",
     "shell.execute_reply": "2020-11-04T10:22:45.888323Z",
     "shell.execute_reply.started": "2020-11-04T10:22:45.873280Z"
    }
   },
   "outputs": [
    {
     "name": "stdout",
     "output_type": "stream",
     "text": [
      "(11, 112, 112, 3)\n",
      "(11, 7)\n"
     ]
    }
   ],
   "source": [
    "print(values[0].shape)\n",
    "print(values[1].shape)"
   ]
  },
  {
   "cell_type": "code",
   "execution_count": 26,
   "metadata": {
    "execution": {
     "iopub.execute_input": "2020-11-04T10:22:45.889324Z",
     "iopub.status.busy": "2020-11-04T10:22:45.889324Z",
     "iopub.status.idle": "2020-11-04T10:22:45.982325Z",
     "shell.execute_reply": "2020-11-04T10:22:45.982325Z",
     "shell.execute_reply.started": "2020-11-04T10:22:45.889324Z"
    }
   },
   "outputs": [
    {
     "data": {
      "text/plain": [
       "<matplotlib.image.AxesImage at 0x27a72688dc8>"
      ]
     },
     "execution_count": 26,
     "metadata": {},
     "output_type": "execute_result"
    },
    {
     "data": {
      "image/png": "[encoded data removed]",
      "text/plain": [
       "<Figure size 432x288 with 1 Axes>"
      ]
     },
     "metadata": {
      "needs_background": "light"
     },
     "output_type": "display_data"
    }
   ],
   "source": [
    "plt.imshow(values[0].numpy()[0].astype(int))"
   ]
  },
  {
   "cell_type": "code",
   "execution_count": 27,
   "metadata": {
    "execution": {
     "iopub.execute_input": "2020-11-04T10:22:45.985326Z",
     "iopub.status.busy": "2020-11-04T10:22:45.984326Z",
     "iopub.status.idle": "2020-11-04T10:22:45.998323Z",
     "shell.execute_reply": "2020-11-04T10:22:45.998323Z",
     "shell.execute_reply.started": "2020-11-04T10:22:45.985326Z"
    }
   },
   "outputs": [],
   "source": [
    "# import keras_video\n",
    "# # glob_pattern='./_test/{classname}/*'\n",
    "\n",
    "# gen = keras_video.VideoFrameGenerator(batch_size=4, nb_frames=24, glob_pattern=r'D:\\Aff-Wild2 Dataset\\Aff-wild2\\Sets_per_class\\mini_train\\{classname}\\*')"
   ]
  },
  {
   "cell_type": "code",
   "execution_count": 28,
   "metadata": {
    "execution": {
     "iopub.execute_input": "2020-11-04T10:22:45.999323Z",
     "iopub.status.busy": "2020-11-04T10:22:45.999323Z",
     "iopub.status.idle": "2020-11-04T10:22:46.014323Z",
     "shell.execute_reply": "2020-11-04T10:22:46.014323Z",
     "shell.execute_reply.started": "2020-11-04T10:22:45.999323Z"
    }
   },
   "outputs": [],
   "source": [
    "# from keras_video import utils as ku"
   ]
  },
  {
   "cell_type": "code",
   "execution_count": 29,
   "metadata": {
    "execution": {
     "iopub.execute_input": "2020-11-04T10:22:46.015325Z",
     "iopub.status.busy": "2020-11-04T10:22:46.015325Z",
     "iopub.status.idle": "2020-11-04T10:22:46.031324Z",
     "shell.execute_reply": "2020-11-04T10:22:46.030325Z",
     "shell.execute_reply.started": "2020-11-04T10:22:46.015325Z"
    }
   },
   "outputs": [],
   "source": [
    "# keras_video.VideoFrameGenerator"
   ]
  },
  {
   "cell_type": "markdown",
   "metadata": {
    "execution": {
     "iopub.execute_input": "2020-11-02T13:10:21.828161Z",
     "iopub.status.busy": "2020-11-02T13:10:21.828161Z",
     "iopub.status.idle": "2020-11-02T13:10:21.832161Z",
     "shell.execute_reply": "2020-11-02T13:10:21.832161Z",
     "shell.execute_reply.started": "2020-11-02T13:10:21.828161Z"
    }
   },
   "source": [
    "# Initiate Base CNN\n",
    "For the feature extraction the pre-trained **VGG19** network will be used with the imagenet weights. Input shape is set to 112,112,3"
   ]
  },
  {
   "cell_type": "code",
   "execution_count": 30,
   "metadata": {
    "execution": {
     "iopub.execute_input": "2020-11-04T10:22:46.032326Z",
     "iopub.status.busy": "2020-11-04T10:22:46.031324Z",
     "iopub.status.idle": "2020-11-04T10:22:46.284323Z",
     "shell.execute_reply": "2020-11-04T10:22:46.284323Z",
     "shell.execute_reply.started": "2020-11-04T10:22:46.032326Z"
    }
   },
   "outputs": [],
   "source": [
    "base_VGG19 = tf.keras.applications.VGG19(\n",
    "    include_top=False, weights=\"imagenet\", input_shape=(112, 112, 3)\n",
    ")"
   ]
  },
  {
   "cell_type": "code",
   "execution_count": 31,
   "metadata": {
    "execution": {
     "iopub.execute_input": "2020-11-04T10:22:46.285324Z",
     "iopub.status.busy": "2020-11-04T10:22:46.285324Z",
     "iopub.status.idle": "2020-11-04T10:22:46.300335Z",
     "shell.execute_reply": "2020-11-04T10:22:46.300335Z",
     "shell.execute_reply.started": "2020-11-04T10:22:46.285324Z"
    },
    "scrolled": true
   },
   "outputs": [
    {
     "name": "stdout",
     "output_type": "stream",
     "text": [
      "Model: \"vgg19\"\n",
      "_________________________________________________________________\n",
      "Layer (type)                 Output Shape              Param #   \n",
      "=================================================================\n",
      "input_4 (InputLayer)         [(None, 112, 112, 3)]     0         \n",
      "_________________________________________________________________\n",
      "block1_conv1 (Conv2D)        (None, 112, 112, 64)      1792      \n",
      "_________________________________________________________________\n",
      "block1_conv2 (Conv2D)        (None, 112, 112, 64)      36928     \n",
      "_________________________________________________________________\n",
      "block1_pool (MaxPooling2D)   (None, 56, 56, 64)        0         \n",
      "_________________________________________________________________\n",
      "block2_conv1 (Conv2D)        (None, 56, 56, 128)       73856     \n",
      "_________________________________________________________________\n",
      "block2_conv2 (Conv2D)        (None, 56, 56, 128)       147584    \n",
      "_________________________________________________________________\n",
      "block2_pool (MaxPooling2D)   (None, 28, 28, 128)       0         \n",
      "_________________________________________________________________\n",
      "block3_conv1 (Conv2D)        (None, 28, 28, 256)       295168    \n",
      "_________________________________________________________________\n",
      "block3_conv2 (Conv2D)        (None, 28, 28, 256)       590080    \n",
      "_________________________________________________________________\n",
      "block3_conv3 (Conv2D)        (None, 28, 28, 256)       590080    \n",
      "_________________________________________________________________\n",
      "block3_conv4 (Conv2D)        (None, 28, 28, 256)       590080    \n",
      "_________________________________________________________________\n",
      "block3_pool (MaxPooling2D)   (None, 14, 14, 256)       0         \n",
      "_________________________________________________________________\n",
      "block4_conv1 (Conv2D)        (None, 14, 14, 512)       1180160   \n",
      "_________________________________________________________________\n",
      "block4_conv2 (Conv2D)        (None, 14, 14, 512)       2359808   \n",
      "_________________________________________________________________\n",
      "block4_conv3 (Conv2D)        (None, 14, 14, 512)       2359808   \n",
      "_________________________________________________________________\n",
      "block4_conv4 (Conv2D)        (None, 14, 14, 512)       2359808   \n",
      "_________________________________________________________________\n",
      "block4_pool (MaxPooling2D)   (None, 7, 7, 512)         0         \n",
      "_________________________________________________________________\n",
      "block5_conv1 (Conv2D)        (None, 7, 7, 512)         2359808   \n",
      "_________________________________________________________________\n",
      "block5_conv2 (Conv2D)        (None, 7, 7, 512)         2359808   \n",
      "_________________________________________________________________\n",
      "block5_conv3 (Conv2D)        (None, 7, 7, 512)         2359808   \n",
      "_________________________________________________________________\n",
      "block5_conv4 (Conv2D)        (None, 7, 7, 512)         2359808   \n",
      "_________________________________________________________________\n",
      "block5_pool (MaxPooling2D)   (None, 3, 3, 512)         0         \n",
      "=================================================================\n",
      "Total params: 20,024,384\n",
      "Trainable params: 20,024,384\n",
      "Non-trainable params: 0\n",
      "_________________________________________________________________\n"
     ]
    }
   ],
   "source": [
    "base_VGG19.summary()"
   ]
  },
  {
   "cell_type": "code",
   "execution_count": 32,
   "metadata": {
    "execution": {
     "iopub.execute_input": "2020-11-04T10:22:46.301337Z",
     "iopub.status.busy": "2020-11-04T10:22:46.301337Z",
     "iopub.status.idle": "2020-11-04T10:22:46.316268Z",
     "shell.execute_reply": "2020-11-04T10:22:46.316268Z",
     "shell.execute_reply.started": "2020-11-04T10:22:46.301337Z"
    }
   },
   "outputs": [],
   "source": [
    "# Setup up model with base_VGG19 and all those layers frozen\n",
    "# Define the sequence input size\n",
    "shape = (sequence_size, 112, 112, 3)\n",
    "\n",
    "\n",
    "def build_model(inp_shape):\n",
    "    model = Sequential(name=\"CNN-RNN\")\n",
    "    model.add(layers.TimeDistributed(base_VGG19, input_shape=inp_shape, name=\"VGG19\"))\n",
    "    base_VGG19.trainable = False\n",
    "    model.add(layers.TimeDistributed(layers.Flatten(), name=\"Flatten\"))\n",
    "    model.add(layers.LSTM(16, return_sequences=True, dropout=0.5, name=\"LSTM_1\"))\n",
    "    model.add(layers.Dense(7, activation=\"softmax\", name=\"Dense_Output\"))\n",
    "    model.compile(optimizer=\"adam\", loss=\"categorical_crossentropy\", metrics=[\"acc\"])\n",
    "    return model"
   ]
  },
  {
   "cell_type": "code",
   "execution_count": 33,
   "metadata": {
    "execution": {
     "iopub.execute_input": "2020-11-04T10:22:46.317270Z",
     "iopub.status.busy": "2020-11-04T10:22:46.317270Z",
     "iopub.status.idle": "2020-11-04T10:22:46.539268Z",
     "shell.execute_reply": "2020-11-04T10:22:46.539268Z",
     "shell.execute_reply.started": "2020-11-04T10:22:46.317270Z"
    }
   },
   "outputs": [
    {
     "name": "stdout",
     "output_type": "stream",
     "text": [
      "Model: \"CNN-RNN\"\n",
      "_________________________________________________________________\n",
      "Layer (type)                 Output Shape              Param #   \n",
      "=================================================================\n",
      "VGG19 (TimeDistributed)      (None, 11, 3, 3, 512)     20024384  \n",
      "_________________________________________________________________\n",
      "Flatten (TimeDistributed)    (None, 11, 4608)          0         \n",
      "_________________________________________________________________\n",
      "LSTM_1 (LSTM)                (None, 11, 16)            296000    \n",
      "_________________________________________________________________\n",
      "Dense_Output (Dense)         (None, 11, 7)             119       \n",
      "=================================================================\n",
      "Total params: 20,320,503\n",
      "Trainable params: 296,119\n",
      "Non-trainable params: 20,024,384\n",
      "_________________________________________________________________\n"
     ]
    }
   ],
   "source": [
    "cnn_rnn_LSTM = build_model(shape)\n",
    "cnn_rnn_LSTM.summary()"
   ]
  },
  {
   "cell_type": "code",
   "execution_count": null,
   "metadata": {
    "execution": {
     "iopub.execute_input": "2020-11-04T10:22:46.540270Z",
     "iopub.status.busy": "2020-11-04T10:22:46.540270Z"
    }
   },
   "outputs": [
    {
     "name": "stdout",
     "output_type": "stream",
     "text": [
      "Epoch 1/10\n",
      "2619/2619 [==============================] - 6703s 3s/step - loss: 0.1826 - acc: 0.9554 - val_loss: 2.1447 - val_acc: 0.1655\n",
      "Epoch 2/10\n",
      " 518/2619 [====>.........................] - ETA: 53:00 - loss: 1.7981 - acc: 0.2090"
     ]
    }
   ],
   "source": [
    "# AW2_norm_minitrain = AW2_norm_minitrain.prefetch(buffer_size=tf.data.experimental.AUTOTUNE)\n",
    "\n",
    "history = cnn_rnn_LSTM.fit(\n",
    "    AW2_norm_train.batch(32, drop_remainder=True),\n",
    "    validation_data=AW2_norm_val.batch(32, drop_remainder=True),\n",
    "    epochs=10,\n",
    "    verbose=1,\n",
    ")"
   ]
  },
  {
   "cell_type": "code",
   "execution_count": null,
   "metadata": {},
   "outputs": [],
   "source": [
    "# cnn_rnn_LSTM.evaluate(AW2_norm_train.batch(8, drop_remainder=True))"
   ]
  },
  {
   "cell_type": "code",
   "execution_count": null,
   "metadata": {},
   "outputs": [],
   "source": [
    "history.history"
   ]
  },
  {
   "cell_type": "code",
   "execution_count": null,
   "metadata": {},
   "outputs": [],
   "source": []
  }
 ],
 "metadata": {
  "kernelspec": {
   "display_name": "Python 3",
   "language": "python",
   "name": "python3"
  },
  "language_info": {
   "codemirror_mode": {
    "name": "ipython",
    "version": 3
   },
   "file_extension": ".py",
   "mimetype": "text/x-python",
   "name": "python",
   "nbconvert_exporter": "python",
   "pygments_lexer": "ipython3",
   "version": "3.7.9"
  }
 },
 "nbformat": 4,
 "nbformat_minor": 4
}
