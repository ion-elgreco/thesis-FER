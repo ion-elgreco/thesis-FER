{
 "cells": [
  {
   "cell_type": "markdown",
   "metadata": {},
   "source": [
    "## Load/import packages"
   ]
  },
  {
   "cell_type": "code",
   "execution_count": 3,
   "metadata": {
    "execution": {
     "iopub.execute_input": "2020-11-02T18:30:28.801578Z",
     "iopub.status.busy": "2020-11-02T18:30:28.800578Z",
     "iopub.status.idle": "2020-11-02T18:30:28.821577Z",
     "shell.execute_reply": "2020-11-02T18:30:28.821577Z",
     "shell.execute_reply.started": "2020-11-02T18:30:28.801578Z"
    }
   },
   "outputs": [
    {
     "name": "stdout",
     "output_type": "stream",
     "text": [
      "[PhysicalDevice(name='/physical_device:GPU:0', device_type='GPU')]\n"
     ]
    }
   ],
   "source": [
    "import json\n",
    "import cv2\n",
    "import numpy as np\n",
    "import matplotlib.pyplot as plt\n",
    "import tensorflow as tf\n",
    "from tensorflow.keras import Sequential, layers\n",
    "from tensorflow.keras.preprocessing import image_dataset_from_directory\n",
    "from tensorflow.keras.preprocessing.image import ImageDataGenerator\n",
    "\n",
    "\n",
    "from os import listdir, mkdir\n",
    "from os.path import splitext\n",
    "from os.path import join\n",
    "from skimage import io, color\n",
    "\n",
    "%matplotlib inline\n",
    "\n",
    "# Check if Tensorflow uses GPU\n",
    "print(tf.config.experimental.list_physical_devices('GPU'))\n",
    "\n",
    "#Limit GPU memory usage\n",
    "gpu_devices = tf.config.experimental.list_physical_devices('GPU')\n",
    "for device in gpu_devices:\n",
    "    tf.config.experimental.set_memory_growth(device, True)"
   ]
  },
  {
   "cell_type": "markdown",
   "metadata": {
    "execution": {
     "iopub.execute_input": "2020-11-02T13:10:21.828161Z",
     "iopub.status.busy": "2020-11-02T13:10:21.828161Z",
     "iopub.status.idle": "2020-11-02T13:10:21.832161Z",
     "shell.execute_reply": "2020-11-02T13:10:21.832161Z",
     "shell.execute_reply.started": "2020-11-02T13:10:21.828161Z"
    }
   },
   "source": [
    "# Initiate Base CNN\n",
    "For the feature extraction the pre-trained **VGG19** network will be used with the imagenet weights. Input shape is set to 112,112,3"
   ]
  },
  {
   "cell_type": "code",
   "execution_count": 5,
   "metadata": {
    "execution": {
     "iopub.execute_input": "2020-11-02T18:30:38.801208Z",
     "iopub.status.busy": "2020-11-02T18:30:38.801208Z",
     "iopub.status.idle": "2020-11-02T18:30:39.783206Z",
     "shell.execute_reply": "2020-11-02T18:30:39.783206Z",
     "shell.execute_reply.started": "2020-11-02T18:30:38.801208Z"
    }
   },
   "outputs": [],
   "source": [
    "base_VGG19 = tf.keras.applications.VGG19(include_top=False, \n",
    "                                         weights='imagenet', \n",
    "                                         input_shape=(112,112,3))"
   ]
  },
  {
   "cell_type": "code",
   "execution_count": 6,
   "metadata": {
    "execution": {
     "iopub.execute_input": "2020-11-02T18:30:40.141212Z",
     "iopub.status.busy": "2020-11-02T18:30:40.140209Z",
     "iopub.status.idle": "2020-11-02T18:30:40.164208Z",
     "shell.execute_reply": "2020-11-02T18:30:40.163209Z",
     "shell.execute_reply.started": "2020-11-02T18:30:40.141212Z"
    },
    "scrolled": true
   },
   "outputs": [
    {
     "name": "stdout",
     "output_type": "stream",
     "text": [
      "Model: \"vgg19\"\n",
      "_________________________________________________________________\n",
      "Layer (type)                 Output Shape              Param #   \n",
      "=================================================================\n",
      "input_1 (InputLayer)         [(None, 112, 112, 3)]     0         \n",
      "_________________________________________________________________\n",
      "block1_conv1 (Conv2D)        (None, 112, 112, 64)      1792      \n",
      "_________________________________________________________________\n",
      "block1_conv2 (Conv2D)        (None, 112, 112, 64)      36928     \n",
      "_________________________________________________________________\n",
      "block1_pool (MaxPooling2D)   (None, 56, 56, 64)        0         \n",
      "_________________________________________________________________\n",
      "block2_conv1 (Conv2D)        (None, 56, 56, 128)       73856     \n",
      "_________________________________________________________________\n",
      "block2_conv2 (Conv2D)        (None, 56, 56, 128)       147584    \n",
      "_________________________________________________________________\n",
      "block2_pool (MaxPooling2D)   (None, 28, 28, 128)       0         \n",
      "_________________________________________________________________\n",
      "block3_conv1 (Conv2D)        (None, 28, 28, 256)       295168    \n",
      "_________________________________________________________________\n",
      "block3_conv2 (Conv2D)        (None, 28, 28, 256)       590080    \n",
      "_________________________________________________________________\n",
      "block3_conv3 (Conv2D)        (None, 28, 28, 256)       590080    \n",
      "_________________________________________________________________\n",
      "block3_conv4 (Conv2D)        (None, 28, 28, 256)       590080    \n",
      "_________________________________________________________________\n",
      "block3_pool (MaxPooling2D)   (None, 14, 14, 256)       0         \n",
      "_________________________________________________________________\n",
      "block4_conv1 (Conv2D)        (None, 14, 14, 512)       1180160   \n",
      "_________________________________________________________________\n",
      "block4_conv2 (Conv2D)        (None, 14, 14, 512)       2359808   \n",
      "_________________________________________________________________\n",
      "block4_conv3 (Conv2D)        (None, 14, 14, 512)       2359808   \n",
      "_________________________________________________________________\n",
      "block4_conv4 (Conv2D)        (None, 14, 14, 512)       2359808   \n",
      "_________________________________________________________________\n",
      "block4_pool (MaxPooling2D)   (None, 7, 7, 512)         0         \n",
      "_________________________________________________________________\n",
      "block5_conv1 (Conv2D)        (None, 7, 7, 512)         2359808   \n",
      "_________________________________________________________________\n",
      "block5_conv2 (Conv2D)        (None, 7, 7, 512)         2359808   \n",
      "_________________________________________________________________\n",
      "block5_conv3 (Conv2D)        (None, 7, 7, 512)         2359808   \n",
      "_________________________________________________________________\n",
      "block5_conv4 (Conv2D)        (None, 7, 7, 512)         2359808   \n",
      "_________________________________________________________________\n",
      "block5_pool (MaxPooling2D)   (None, 3, 3, 512)         0         \n",
      "=================================================================\n",
      "Total params: 20,024,384\n",
      "Trainable params: 20,024,384\n",
      "Non-trainable params: 0\n",
      "_________________________________________________________________\n"
     ]
    }
   ],
   "source": [
    "base_VGG19.summary()"
   ]
  },
  {
   "cell_type": "code",
   "execution_count": 65,
   "metadata": {
    "execution": {
     "iopub.execute_input": "2020-11-02T14:04:07.590910Z",
     "iopub.status.busy": "2020-11-02T14:04:07.589909Z",
     "iopub.status.idle": "2020-11-02T14:04:07.606909Z",
     "shell.execute_reply": "2020-11-02T14:04:07.606909Z",
     "shell.execute_reply.started": "2020-11-02T14:04:07.590910Z"
    }
   },
   "outputs": [
    {
     "name": "stdout",
     "output_type": "stream",
     "text": [
      "This is the number of trainable weight tensors before freezing the conv base: 32\n"
     ]
    }
   ],
   "source": [
    "print('This is the number of trainable weight tensors '\n",
    "      'before freezing the conv base:', len(base_VGG19.trainable_weights))"
   ]
  },
  {
   "cell_type": "code",
   "execution_count": 71,
   "metadata": {
    "execution": {
     "iopub.execute_input": "2020-11-02T14:16:06.873943Z",
     "iopub.status.busy": "2020-11-02T14:16:06.873943Z",
     "iopub.status.idle": "2020-11-02T14:16:06.927940Z",
     "shell.execute_reply": "2020-11-02T14:16:06.927940Z",
     "shell.execute_reply.started": "2020-11-02T14:16:06.873943Z"
    }
   },
   "outputs": [],
   "source": [
    "# Setup up model with base_VGG19 and all those layers frozen\n",
    "cnn_model = Sequential(name='CNN-RNN')\n",
    "cnn_model.add(base_VGG19)\n",
    "base_VGG19.trainable = False"
   ]
  },
  {
   "cell_type": "code",
   "execution_count": 73,
   "metadata": {
    "execution": {
     "iopub.execute_input": "2020-11-02T14:16:14.036944Z",
     "iopub.status.busy": "2020-11-02T14:16:14.036944Z",
     "iopub.status.idle": "2020-11-02T14:16:14.055940Z",
     "shell.execute_reply": "2020-11-02T14:16:14.055940Z",
     "shell.execute_reply.started": "2020-11-02T14:16:14.036944Z"
    },
    "scrolled": true
   },
   "outputs": [
    {
     "name": "stdout",
     "output_type": "stream",
     "text": [
      "Model: \"CNN-RNN\"\n",
      "_________________________________________________________________\n",
      "Layer (type)                 Output Shape              Param #   \n",
      "=================================================================\n",
      "vgg19 (Functional)           (None, 3, 3, 512)         20024384  \n",
      "=================================================================\n",
      "Total params: 20,024,384\n",
      "Trainable params: 0\n",
      "Non-trainable params: 20,024,384\n",
      "_________________________________________________________________\n"
     ]
    }
   ],
   "source": [
    "cnn_model.summary()"
   ]
  },
  {
   "cell_type": "code",
   "execution_count": 88,
   "metadata": {
    "execution": {
     "iopub.execute_input": "2020-11-02T15:01:32.437600Z",
     "iopub.status.busy": "2020-11-02T15:01:32.437600Z",
     "iopub.status.idle": "2020-11-02T15:01:32.450598Z",
     "shell.execute_reply": "2020-11-02T15:01:32.449598Z",
     "shell.execute_reply.started": "2020-11-02T15:01:32.437600Z"
    }
   },
   "outputs": [
    {
     "data": {
      "text/plain": [
       "<tensorflow.python.keras.preprocessing.image.ImageDataGenerator at 0x1f2429eb748>"
      ]
     },
     "execution_count": 88,
     "metadata": {},
     "output_type": "execute_result"
    }
   ],
   "source": [
    "datagen = ImageDataGenerator()\n",
    "datagen"
   ]
  }
 ],
 "metadata": {
  "kernelspec": {
   "display_name": "Python 3",
   "language": "python",
   "name": "python3"
  },
  "language_info": {
   "codemirror_mode": {
    "name": "ipython",
    "version": 3
   },
   "file_extension": ".py",
   "mimetype": "text/x-python",
   "name": "python",
   "nbconvert_exporter": "python",
   "pygments_lexer": "ipython3",
   "version": "3.7.9"
  }
 },
 "nbformat": 4,
 "nbformat_minor": 4
}
