{
 "cells": [
  {
   "cell_type": "markdown",
   "metadata": {},
   "source": [
    "## Load/import packages"
   ]
  },
  {
   "cell_type": "code",
   "execution_count": null,
   "metadata": {},
   "outputs": [],
   "source": [
    "from os import listdir\n",
    "from os.path import splitext\n",
    "from os.path import join\n",
    "import skvideo\n",
    "\n",
    "skvideo.setFFmpegPath(\n",
    "    r\"C:\\Users\\ion\\anaconda3\\envs\\tf-gpu\\Lib\\site-packages\\ffmpeg-4.3.1-2020-10-01-full_build\\bin\"\n",
    ")\n",
    "import skvideo.io\n",
    "import json\n",
    "import cv2\n",
    "\n",
    "import numpy as np\n",
    "\n",
    "import matplotlib.pyplot as plt\n",
    "\n",
    "%matplotlib inline"
   ]
  },
  {
   "cell_type": "markdown",
   "metadata": {},
   "source": [
    "## Pre-processing\n",
    "1. Grab 1 Video at a time \n",
    "2. Extract frames one by one\n",
    "3. Apply face alignment on the image (detect face and segment and align it with e.g. Viola-Jones Detector\n",
    "4. Apply illumination normalization (histogram equalization)\n",
    "5. Pose normalization\n",
    "6. Store the image in a named folder same name as video. The image should be stored under the as videoname_fXXXX\n",
    "7. Data augmentation to upsample some classes"
   ]
  },
  {
   "cell_type": "markdown",
   "metadata": {},
   "source": [
    "# Directories\n",
    "## Aff-Wild2"
   ]
  },
  {
   "cell_type": "code",
   "execution_count": 2,
   "metadata": {
    "execution": {
     "iopub.execute_input": "2020-10-28T11:59:03.696024Z",
     "iopub.status.busy": "2020-10-28T11:59:03.695024Z",
     "iopub.status.idle": "2020-10-28T11:59:03.701024Z",
     "shell.execute_reply": "2020-10-28T11:59:03.701024Z",
     "shell.execute_reply.started": "2020-10-28T11:59:03.695024Z"
    }
   },
   "outputs": [],
   "source": [
    "# Aff-Wild2 = AW2\n",
    "# filenames = FN\n",
    "\n",
    "### Aff-wild2 ###\n",
    "# Directories for labels/annotations for each set\n",
    "AW2_dir_train_labels = (\n",
    "    r\"D:\\Aff-Wild2 Dataset\\Aff-wild2\\Videos\\annotations\\EXPR_Set\\Training_Set\"\n",
    ")\n",
    "AW2_dir_val_labels = (\n",
    "    r\"D:\\Aff-Wild2 Dataset\\Aff-wild2\\Videos\\annotations\\EXPR_Set\\Validation_Set\"\n",
    ")\n",
    "\n",
    "# Directories for videos\n",
    "AW2_dir_allvideos = r\"D:\\Aff-Wild2 Dataset\\Aff-wild2\\Videos\\all_videos\""
   ]
  },
  {
   "cell_type": "code",
   "execution_count": 3,
   "metadata": {
    "execution": {
     "iopub.execute_input": "2020-10-28T11:59:05.753713Z",
     "iopub.status.busy": "2020-10-28T11:59:05.753713Z",
     "iopub.status.idle": "2020-10-28T11:59:05.771712Z",
     "shell.execute_reply": "2020-10-28T11:59:05.771712Z",
     "shell.execute_reply.started": "2020-10-28T11:59:05.753713Z"
    }
   },
   "outputs": [],
   "source": [
    "# Save the filenames in a list for each set, and split the filename from the extension\n",
    "AW2_train_FN = listdir(AW2_dir_train_labels)\n",
    "AW2_train_FN_split = [splitext(file) for file in AW2_train_FN]\n",
    "\n",
    "AW2_val_FN = listdir(AW2_dir_val_labels)\n",
    "AW2_val_FN_split = [splitext(file) for file in AW2_val_FN]\n",
    "\n",
    "AW2_videos_FN = listdir(AW2_dir_allvideos)\n",
    "AW2_videos_FN_split = [splitext(file) for file in AW2_videos_FN]"
   ]
  },
  {
   "cell_type": "code",
   "execution_count": null,
   "metadata": {},
   "outputs": [],
   "source": []
  }
 ],
 "metadata": {
  "kernelspec": {
   "display_name": "Python 3",
   "language": "python",
   "name": "python3"
  },
  "language_info": {
   "codemirror_mode": {
    "name": "ipython",
    "version": 3
   },
   "file_extension": ".py",
   "mimetype": "text/x-python",
   "name": "python",
   "nbconvert_exporter": "python",
   "pygments_lexer": "ipython3",
   "version": "3.7.9"
  }
 },
 "nbformat": 4,
 "nbformat_minor": 4
}
