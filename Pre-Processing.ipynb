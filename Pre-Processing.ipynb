{
 "cells": [
  {
   "cell_type": "markdown",
   "metadata": {},
   "source": [
    "## Load/import packages"
   ]
  },
  {
   "cell_type": "code",
   "execution_count": null,
   "metadata": {},
   "outputs": [],
   "source": [
    "from os import listdir\n",
    "from os.path import splitext\n",
    "from os.path import join\n",
    "import skvideo\n",
    "\n",
    "skvideo.setFFmpegPath(\n",
    "    r\"C:\\Users\\ion\\anaconda3\\envs\\tf-gpu\\Lib\\site-packages\\ffmpeg-4.3.1-2020-10-01-full_build\\bin\"\n",
    ")\n",
    "import skvideo.io\n",
    "import json\n",
    "import cv2\n",
    "\n",
    "import numpy as np\n",
    "\n",
    "import matplotlib.pyplot as plt\n",
    "\n",
    "%matplotlib inline"
   ]
  },
  {
   "cell_type": "markdown",
   "metadata": {},
   "source": [
    "## Pre-processing\n",
    "1. Grab 1 Video at a time \n",
    "2. Extract frames one by one\n",
    "3. Apply face alignment on the image (detect face and segment and align it with e.g. Viola-Jones Detector\n",
    "4. Apply illumination normalization (histogram equalization)\n",
    "5. Pose normalization\n",
    "6. Store the image in a named folder same name as video. The image should be stored under the as videoname_fXXXX\n",
    "7. Data augmentation to upsample some classes"
   ]
  },
  {
   "cell_type": "markdown",
   "metadata": {},
   "source": [
    "# Directories\n",
    "## Aff-Wild2"
   ]
  },
  {
   "cell_type": "code",
   "execution_count": 1,
   "metadata": {
    "execution": {
     "iopub.execute_input": "2020-10-29T15:47:51.320622Z",
     "iopub.status.busy": "2020-10-29T15:47:51.320622Z",
     "iopub.status.idle": "2020-10-29T15:47:51.331622Z",
     "shell.execute_reply": "2020-10-29T15:47:51.330621Z",
     "shell.execute_reply.started": "2020-10-29T15:47:51.320622Z"
    }
   },
   "outputs": [],
   "source": [
    "from load_filenames import (AW2_dir_train_labels,\n",
    "                            AW2_dir_val_labels,\n",
    "                            AW2_dir_allvideos,\n",
    "                            AW2_train_FN,\n",
    "                            AW2_train_FN_split,\n",
    "                            AW2_val_FN,\n",
    "                            AW2_val_FN_split,\n",
    "                            AW2_videos_FN,\n",
    "                            AW2_videos_FN_split,\n",
    "                            AF7_dir_videos, \n",
    "                            AF7_dir_labels, \n",
    "                            AF7_labeled_videos_FN)"
   ]
  },
  {
   "cell_type": "code",
   "execution_count": null,
   "metadata": {},
   "outputs": [],
   "source": []
  }
 ],
 "metadata": {
  "kernelspec": {
   "display_name": "Python 3",
   "language": "python",
   "name": "python3"
  },
  "language_info": {
   "codemirror_mode": {
    "name": "ipython",
    "version": 3
   },
   "file_extension": ".py",
   "mimetype": "text/x-python",
   "name": "python",
   "nbconvert_exporter": "python",
   "pygments_lexer": "ipython3",
   "version": "3.7.9"
  }
 },
 "nbformat": 4,
 "nbformat_minor": 4
}
