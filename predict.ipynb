{
 "cells": [
  {
   "cell_type": "code",
   "execution_count": null,
   "metadata": {},
   "outputs": [],
   "source": [
    "import json\n",
    "import numpy as np\n",
    "import tensorflow as tf\n",
    "\n",
    "from tensorflow.keras import Sequential, layers\n",
    "from tensorflow.keras.losses import CategoricalCrossentropy\n",
    "\n",
    "from os import listdir\n",
    "from os.path import join, splitext, normpath\n",
    "\n",
    "# Import variables and functions from my own scripts\n",
    "from functions import f1\n",
    "from load_features import (\n",
    "    test_features_AW2,\n",
    "    features_reshaper,\n",
    ")\n",
    "\n",
    "# Limit GPU memory usage\n",
    "for device in tf.config.experimental.list_physical_devices(\"GPU\"):\n",
    "    tf.config.experimental.set_memory_growth(device, True)"
   ]
  },
  {
   "cell_type": "markdown",
   "metadata": {},
   "source": [
    "# LSTM - Predict"
   ]
  },
  {
   "cell_type": "code",
   "execution_count": null,
   "metadata": {},
   "outputs": [],
   "source": [
    "length = 60\n",
    "seq_test_features = features_reshaper(test_features_AW2, length)"
   ]
  },
  {
   "cell_type": "code",
   "execution_count": null,
   "metadata": {},
   "outputs": [],
   "source": [
    "# Load best CNN-LSTM model\n",
    "best_LSTM = tf.keras.models.load_model(\n",
    "    filepath=\"data/CNN-LSTM_model.h5\", custom_objects={\"F1-metric\": f1}, compile=False\n",
    ")"
   ]
  },
  {
   "cell_type": "code",
   "execution_count": null,
   "metadata": {},
   "outputs": [],
   "source": [
    "# Do predictions on test set\n",
    "test_pred = best_LSTM.predict(seq_test_features, verbose=0)\n",
    "\n",
    "# Reshape back to (frame, label)\n",
    "test_pred = np.reshape(\n",
    "    test_pred, (test_pred.shape[0] * test_pred.shape[1], test_pred.shape[2])\n",
    ")\n",
    "\n",
    "# Convert one hot encoding to integers\n",
    "test_pred = np.argmax(test_pred, axis=1)"
   ]
  },
  {
   "cell_type": "code",
   "execution_count": null,
   "metadata": {},
   "outputs": [],
   "source": [
    "# Read test set frames filenames\n",
    "with open(\"data/test_filenames.txt\", \"r\") as fp:\n",
    "    test_filenames = fp.read().splitlines()\n",
    "\n",
    "# Read AW2 video shapes to grab the length of each video\n",
    "with open(\"data/AW2_video_shapes_woext.json\", \"r\") as fp:\n",
    "    AW2_video_shapes = json.load(fp)"
   ]
  },
  {
   "cell_type": "code",
   "execution_count": null,
   "metadata": {
    "scrolled": true
   },
   "outputs": [],
   "source": [
    "# Puts all test_video_names from test set in list\n",
    "test_videos = []\n",
    "for fn in test_filenames:\n",
    "    video, frame_n = fn.split(\"\\\\\")\n",
    "    test_videos.append(video)\n",
    "test_videos = list(set(test_videos))\n",
    "\n",
    "# Create text file for each video with first line set to all classes in text\n",
    "for video in test_videos:\n",
    "    with open(join(\"data/test_preds_LSTM/\", video + \".txt\"), \"w\") as fp:\n",
    "        fp.write(\"Neutral,Anger,Disgust,Fear,Happiness,Sadness,Surprise\")\n",
    "\n",
    "current_video = \"\"\n",
    "previous_frame_n = -1\n",
    "current_frame_n = 0\n",
    "\n",
    "\n",
    "for fn, label in zip(test_filenames, test_pred):\n",
    "    # Convert label to string\n",
    "    label = str(label)\n",
    "\n",
    "    # Split filename into videoname and frame_n\n",
    "    video, frame_n = fn.split(\"\\\\\")\n",
    "    frame_n = int(frame_n.strip(\".jpg\"))\n",
    "\n",
    "    previous_frame_n = current_frame_n\n",
    "    current_frame_n = frame_n\n",
    "\n",
    "    # If we moved to the next video, check if the previous videos frame_n was\n",
    "    # equal to the total amount of frames of the video. If it wasn't, write to\n",
    "    # all the missing lines -1\n",
    "    if current_video != video:\n",
    "        if current_video != \"\":\n",
    "            fullvideo = current_video.replace(\"_left\", \"\").replace(\"_right\", \"\")\n",
    "            video_length = AW2_video_shapes.get(fullvideo)\n",
    "            video_length = video_length[0]\n",
    "\n",
    "            print(\n",
    "                f\"Current video: {current_video}, diff: {video_length - previous_frame_n}\"\n",
    "            )\n",
    "\n",
    "            if previous_frame_n != video_length:\n",
    "                diff = video_length - previous_frame_n\n",
    "                with open(\n",
    "                    join(\"data/test_preds_LSTM/\", current_video + \".txt\"), \"a\"\n",
    "                ) as fp:\n",
    "                    for i in range(diff):\n",
    "                        fp.write(\"\\n\" + \"-1\")\n",
    "        current_video = video\n",
    "        previous_frame_n = 0\n",
    "\n",
    "    # Calculate difference between current frame_n and previous one\n",
    "    diff = current_frame_n - previous_frame_n\n",
    "\n",
    "    # If frame difference is only 1, then simply write the label on the next line\n",
    "    if diff == 1:\n",
    "        with open(join(\"data/test_preds_LSTM/\", video + \".txt\"), \"a\") as fp:\n",
    "            fp.write(\"\\n\" + label)\n",
    "    # If the frame difference is larger than 1, simply fill the missing lines with -1, and then write the label\n",
    "    else:\n",
    "        with open(join(\"data/test_preds_LSTM/\", video + \".txt\"), \"a\") as fp:\n",
    "            for i in range(diff - 1):\n",
    "                fp.write(\"\\n\" + \"-1\")\n",
    "            fp.write(\"\\n\" + label)"
   ]
  },
  {
   "cell_type": "markdown",
   "metadata": {},
   "source": [
    "# FW-RNN - Predict"
   ]
  },
  {
   "cell_type": "code",
   "execution_count": null,
   "metadata": {},
   "outputs": [],
   "source": []
  }
 ],
 "metadata": {
  "kernelspec": {
   "display_name": "Python 3",
   "language": "python",
   "name": "python3"
  },
  "language_info": {
   "codemirror_mode": {
    "name": "ipython",
    "version": 3
   },
   "file_extension": ".py",
   "mimetype": "text/x-python",
   "name": "python",
   "nbconvert_exporter": "python",
   "pygments_lexer": "ipython3",
   "version": "3.7.9"
  }
 },
 "nbformat": 4,
 "nbformat_minor": 4
}
