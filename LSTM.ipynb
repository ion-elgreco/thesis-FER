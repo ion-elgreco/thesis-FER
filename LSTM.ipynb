{
 "cells": [
  {
   "cell_type": "markdown",
   "metadata": {},
   "source": [
    "## Load/import packages"
   ]
  },
  {
   "cell_type": "code",
   "execution_count": 37,
   "metadata": {
    "execution": {
     "iopub.execute_input": "2020-11-07T20:50:49.799098Z",
     "iopub.status.busy": "2020-11-07T20:50:49.799098Z",
     "iopub.status.idle": "2020-11-07T20:50:50.284099Z",
     "shell.execute_reply": "2020-11-07T20:50:50.283099Z",
     "shell.execute_reply.started": "2020-11-07T20:50:49.799098Z"
    }
   },
   "outputs": [
    {
     "name": "stdout",
     "output_type": "stream",
     "text": [
      "[PhysicalDevice(name='/physical_device:GPU:0', device_type='GPU')]\n",
      "\n",
      "Tensorflow Version: 2.4.0-rc0\n",
      "Numpy Version: 1.19.2\n",
      "Keras Version: 2.4.0\n"
     ]
    }
   ],
   "source": [
    "import scipy\n",
    "import numpy as np\n",
    "import tensorflow as tf\n",
    "import matplotlib.pyplot as plt\n",
    "from tensorflow.keras import Sequential, layers\n",
    "\n",
    "%matplotlib inline\n",
    "# Import from features, labels and reshaper function\n",
    "from load_features import (\n",
    "    train_features,\n",
    "    val_features,\n",
    "    train_labels,\n",
    "    val_labels,\n",
    "    reshaper,\n",
    ")\n",
    "\n",
    "\n",
    "# Check if Tensorflow uses GPU\n",
    "print(tf.config.experimental.list_physical_devices(\"GPU\"))\n",
    "\n",
    "# Limit GPU memory usage\n",
    "gpu_devices = tf.config.experimental.list_physical_devices(\"GPU\")\n",
    "for device in gpu_devices:\n",
    "    tf.config.experimental.set_memory_growth(device, True)\n",
    "\n",
    "print()\n",
    "print(f\"Tensorflow Version: {tf.__version__}\")\n",
    "print(f\"Numpy Version: {np.__version__}\")\n",
    "print(f\"Keras Version: {tf.keras.__version__}\")"
   ]
  },
  {
   "cell_type": "code",
   "execution_count": 2,
   "metadata": {
    "execution": {
     "iopub.execute_input": "2020-11-07T20:19:43.180760Z",
     "iopub.status.busy": "2020-11-07T20:19:43.180760Z",
     "iopub.status.idle": "2020-11-07T20:19:43.195759Z",
     "shell.execute_reply": "2020-11-07T20:19:43.195759Z",
     "shell.execute_reply.started": "2020-11-07T20:19:43.180760Z"
    }
   },
   "outputs": [
    {
     "name": "stdout",
     "output_type": "stream",
     "text": [
      "\n",
      "    :param features: extracted image features\n",
      "    :type features: scipy CSR matrix (2-Dim)\n",
      "    :param labels: one-hot encoded labels of each image\n",
      "    :type labels: numpy array (2-Dim)\n",
      "    :param sequence_length: the length of the sequence you want. E.g. You want 25 images in a seqeunce so, value is 25\n",
      "    :type sequence_length: int\n",
      "    \n",
      "    \n"
     ]
    }
   ],
   "source": [
    "print(reshaper.__doc__)"
   ]
  },
  {
   "cell_type": "markdown",
   "metadata": {},
   "source": [
    "# Prepare data"
   ]
  },
  {
   "cell_type": "code",
   "execution_count": 3,
   "metadata": {
    "execution": {
     "iopub.execute_input": "2020-11-07T20:19:43.196761Z",
     "iopub.status.busy": "2020-11-07T20:19:43.196761Z",
     "iopub.status.idle": "2020-11-07T20:19:50.495583Z",
     "shell.execute_reply": "2020-11-07T20:19:50.495583Z",
     "shell.execute_reply.started": "2020-11-07T20:19:43.196761Z"
    }
   },
   "outputs": [],
   "source": [
    "seq_train_features, seq_train_labels = reshaper(train_features, train_labels, 60)\n",
    "seq_val_features, seq_val_labels = reshaper(val_features, val_labels, 60)"
   ]
  },
  {
   "cell_type": "code",
   "execution_count": 28,
   "metadata": {
    "execution": {
     "iopub.execute_input": "2020-11-07T20:36:03.153367Z",
     "iopub.status.busy": "2020-11-07T20:36:03.153367Z",
     "iopub.status.idle": "2020-11-07T20:36:03.168367Z",
     "shell.execute_reply": "2020-11-07T20:36:03.168367Z",
     "shell.execute_reply.started": "2020-11-07T20:36:03.153367Z"
    }
   },
   "outputs": [],
   "source": [
    "from sklearn.utils import class_weight"
   ]
  },
  {
   "cell_type": "code",
   "execution_count": 29,
   "metadata": {
    "execution": {
     "iopub.execute_input": "2020-11-07T20:36:03.565641Z",
     "iopub.status.busy": "2020-11-07T20:36:03.565641Z",
     "iopub.status.idle": "2020-11-07T20:36:03.717642Z",
     "shell.execute_reply": "2020-11-07T20:36:03.717642Z",
     "shell.execute_reply.started": "2020-11-07T20:36:03.565641Z"
    },
    "scrolled": true
   },
   "outputs": [],
   "source": [
    "y_integers = np.argmax(seq_train_labels, axis=2)\n",
    "class_weights = class_weight.compute_class_weight(\n",
    "    \"balanced\", np.unique(y_integers), y_integers.flatten()\n",
    ")\n",
    "d_class_weights = dict(enumerate(class_weights))"
   ]
  },
  {
   "cell_type": "code",
   "execution_count": 30,
   "metadata": {
    "execution": {
     "iopub.execute_input": "2020-11-07T20:36:03.880641Z",
     "iopub.status.busy": "2020-11-07T20:36:03.880641Z",
     "iopub.status.idle": "2020-11-07T20:36:03.891640Z",
     "shell.execute_reply": "2020-11-07T20:36:03.891640Z",
     "shell.execute_reply.started": "2020-11-07T20:36:03.880641Z"
    }
   },
   "outputs": [],
   "source": [
    "arr = y_integers.copy()\n",
    "def rec(array, start=0):\n",
    "    labels = d_class_weights.keys()\n",
    "    labels = list(labels)\n",
    "    if start > 6:\n",
    "        return array\n",
    "    array = np.where(array==labels[start], d_class_weights.get(labels[start]), array)\n",
    "    \n",
    "    return rec(array, start+1)"
   ]
  },
  {
   "cell_type": "code",
   "execution_count": 31,
   "metadata": {
    "execution": {
     "iopub.execute_input": "2020-11-07T20:36:04.181642Z",
     "iopub.status.busy": "2020-11-07T20:36:04.181642Z",
     "iopub.status.idle": "2020-11-07T20:36:04.206640Z",
     "shell.execute_reply": "2020-11-07T20:36:04.206640Z",
     "shell.execute_reply.started": "2020-11-07T20:36:04.181642Z"
    },
    "scrolled": true
   },
   "outputs": [],
   "source": [
    "test = rec(arr)"
   ]
  },
  {
   "cell_type": "markdown",
   "metadata": {},
   "source": [
    "# Build model"
   ]
  },
  {
   "cell_type": "code",
   "execution_count": 75,
   "metadata": {
    "execution": {
     "iopub.execute_input": "2020-11-07T23:03:47.819341Z",
     "iopub.status.busy": "2020-11-07T23:03:47.819341Z",
     "iopub.status.idle": "2020-11-07T23:03:47.828342Z",
     "shell.execute_reply": "2020-11-07T23:03:47.828342Z",
     "shell.execute_reply.started": "2020-11-07T23:03:47.819341Z"
    }
   },
   "outputs": [],
   "source": [
    "# Best model till now!\n",
    "def build_model(inp_shape):\n",
    "    model = Sequential(name=\"RNN-LSTM\")\n",
    "    model.add(\n",
    "        layers.LSTM(64, input_shape=inp_shape, return_sequences=True, name=\"LSTM_1\")\n",
    "    )\n",
    "    model.add(layers.LayerNormalization())\n",
    "    model.add(layers.Dense(7, activation=\"softmax\", name=\"Dense_Output\"))\n",
    "    model.compile(optimizer=\"adagrad\", loss=\"categorical_crossentropy\", metrics=[\"acc\",'AUC'])\n",
    "    return model"
   ]
  },
  {
   "cell_type": "code",
   "execution_count": 76,
   "metadata": {
    "execution": {
     "iopub.execute_input": "2020-11-07T23:03:48.121708Z",
     "iopub.status.busy": "2020-11-07T23:03:48.121708Z",
     "iopub.status.idle": "2020-11-07T23:03:48.304709Z",
     "shell.execute_reply": "2020-11-07T23:03:48.304709Z",
     "shell.execute_reply.started": "2020-11-07T23:03:48.121708Z"
    },
    "scrolled": true
   },
   "outputs": [
    {
     "name": "stdout",
     "output_type": "stream",
     "text": [
      "Model: \"RNN-LSTM\"\n",
      "_________________________________________________________________\n",
      "Layer (type)                 Output Shape              Param #   \n",
      "=================================================================\n",
      "LSTM_1 (LSTM)                (None, 60, 64)            1196288   \n",
      "_________________________________________________________________\n",
      "layer_normalization_10 (Laye (None, 60, 64)            128       \n",
      "_________________________________________________________________\n",
      "Dense_Output (Dense)         (None, 60, 7)             455       \n",
      "=================================================================\n",
      "Total params: 1,196,871\n",
      "Trainable params: 1,196,871\n",
      "Non-trainable params: 0\n",
      "_________________________________________________________________\n"
     ]
    }
   ],
   "source": [
    "inp_shape = (seq_train_features.shape[1], seq_train_features.shape[2])\n",
    "cnn_rnn_LSTM = build_model(inp_shape)\n",
    "cnn_rnn_LSTM.summary()"
   ]
  },
  {
   "cell_type": "markdown",
   "metadata": {},
   "source": [
    "# Train + Evaluate model"
   ]
  },
  {
   "cell_type": "code",
   "execution_count": null,
   "metadata": {
    "execution": {
     "iopub.execute_input": "2020-11-07T23:03:48.883710Z",
     "iopub.status.busy": "2020-11-07T23:03:48.883710Z"
    },
    "scrolled": true
   },
   "outputs": [
    {
     "name": "stdout",
     "output_type": "stream",
     "text": [
      "Epoch 1/50\n",
      "481/481 [==============================] - 13s 24ms/step - loss: 1.7854 - acc: 0.3397 - auc: 0.7036 - val_loss: 1.9440 - val_acc: 0.3054 - val_auc: 0.6632\n",
      "Epoch 2/50\n",
      "481/481 [==============================] - 11s 23ms/step - loss: 1.1387 - acc: 0.5168 - auc: 0.8421 - val_loss: 1.8483 - val_acc: 0.3406 - val_auc: 0.7007\n",
      "Epoch 3/50\n",
      "481/481 [==============================] - 11s 23ms/step - loss: 0.9605 - acc: 0.5847 - auc: 0.8827 - val_loss: 1.8233 - val_acc: 0.3512 - val_auc: 0.7127\n",
      "Epoch 4/50\n",
      "481/481 [==============================] - 11s 23ms/step - loss: 0.8168 - acc: 0.6231 - auc: 0.9042 - val_loss: 1.7772 - val_acc: 0.3676 - val_auc: 0.7305\n",
      "Epoch 5/50\n",
      "481/481 [==============================] - 11s 22ms/step - loss: 0.7733 - acc: 0.6471 - auc: 0.9157 - val_loss: 1.7666 - val_acc: 0.3712 - val_auc: 0.7356\n",
      "Epoch 6/50\n",
      "481/481 [==============================] - 11s 22ms/step - loss: 0.7270 - acc: 0.6672 - auc: 0.9248 - val_loss: 1.7695 - val_acc: 0.3726 - val_auc: 0.7380\n",
      "Epoch 7/50\n",
      "481/481 [==============================] - 11s 22ms/step - loss: 0.6643 - acc: 0.6873 - auc: 0.9332 - val_loss: 1.7576 - val_acc: 0.3784 - val_auc: 0.7431\n",
      "Epoch 8/50\n",
      "481/481 [==============================] - 11s 23ms/step - loss: 0.6410 - acc: 0.7018 - auc: 0.9392 - val_loss: 1.7339 - val_acc: 0.3882 - val_auc: 0.7523\n",
      "Epoch 9/50\n",
      "481/481 [==============================] - 11s 22ms/step - loss: 0.6085 - acc: 0.7120 - auc: 0.9434 - val_loss: 1.7326 - val_acc: 0.3888 - val_auc: 0.7549\n",
      "Epoch 10/50\n",
      "481/481 [==============================] - 11s 22ms/step - loss: 0.5639 - acc: 0.7249 - auc: 0.9479 - val_loss: 1.7157 - val_acc: 0.3950 - val_auc: 0.7604\n",
      "Epoch 11/50\n",
      "481/481 [==============================] - 10s 22ms/step - loss: 0.5490 - acc: 0.7350 - auc: 0.9521 - val_loss: 1.7222 - val_acc: 0.3949 - val_auc: 0.7605\n",
      "Epoch 12/50\n",
      "481/481 [==============================] - 11s 23ms/step - loss: 0.5463 - acc: 0.7415 - auc: 0.9537 - val_loss: 1.7191 - val_acc: 0.3979 - val_auc: 0.7628\n",
      "Epoch 13/50\n",
      "481/481 [==============================] - 12s 24ms/step - loss: 0.5256 - acc: 0.7496 - auc: 0.9558 - val_loss: 1.7174 - val_acc: 0.3994 - val_auc: 0.7639\n",
      "Epoch 14/50\n",
      "481/481 [==============================] - 11s 23ms/step - loss: 0.4859 - acc: 0.7594 - auc: 0.9589 - val_loss: 1.7244 - val_acc: 0.3987 - val_auc: 0.7645\n",
      "Epoch 15/50\n",
      "481/481 [==============================] - 12s 25ms/step - loss: 0.4769 - acc: 0.7609 - auc: 0.9608 - val_loss: 1.7180 - val_acc: 0.4021 - val_auc: 0.7668\n",
      "Epoch 16/50\n",
      "481/481 [==============================] - 12s 26ms/step - loss: 0.4618 - acc: 0.7684 - auc: 0.9630 - val_loss: 1.7070 - val_acc: 0.4093 - val_auc: 0.7711\n",
      "Epoch 17/50\n",
      "481/481 [==============================] - 12s 26ms/step - loss: 0.4461 - acc: 0.7788 - auc: 0.9657 - val_loss: 1.7018 - val_acc: 0.4120 - val_auc: 0.7736\n",
      "Epoch 18/50\n",
      "481/481 [==============================] - 12s 24ms/step - loss: 0.4360 - acc: 0.7813 - auc: 0.9662 - val_loss: 1.7050 - val_acc: 0.4113 - val_auc: 0.7743\n",
      "Epoch 19/50\n",
      "481/481 [==============================] - 12s 25ms/step - loss: 0.4177 - acc: 0.7861 - auc: 0.9687 - val_loss: 1.7017 - val_acc: 0.4156 - val_auc: 0.7762\n",
      "Epoch 20/50\n",
      "481/481 [==============================] - 11s 24ms/step - loss: 0.4077 - acc: 0.7951 - auc: 0.9701 - val_loss: 1.6999 - val_acc: 0.4171 - val_auc: 0.7771\n",
      "Epoch 21/50\n",
      "481/481 [==============================] - ETA: 0s - loss: 0.3973 - acc: 0.8037 - auc: 0.9723"
     ]
    }
   ],
   "source": [
    "# AW2_norm_minitrain = AW2_norm_minitrain.prefetch(buffer_size=tf.data.experimental.AUTOTUNE)\n",
    "history = cnn_rnn_LSTM.fit(\n",
    "    seq_train_features,\n",
    "    seq_train_labels,\n",
    "    sample_weight=test,\n",
    "    validation_data=(seq_val_features, seq_val_labels),\n",
    "    epochs=50,\n",
    "    verbose=1,\n",
    ")"
   ]
  },
  {
   "cell_type": "code",
   "execution_count": 61,
   "metadata": {
    "execution": {
     "iopub.execute_input": "2020-11-07T21:43:05.062086Z",
     "iopub.status.busy": "2020-11-07T21:43:05.062086Z",
     "iopub.status.idle": "2020-11-07T21:43:05.077085Z",
     "shell.execute_reply": "2020-11-07T21:43:05.077085Z",
     "shell.execute_reply.started": "2020-11-07T21:43:05.062086Z"
    }
   },
   "outputs": [],
   "source": [
    "def plot_history(data_list, label_list, title, ylabel):\n",
    "\n",
    "    epochs = range(1, len(data_list[0]) + 1)\n",
    "\n",
    "    for data, label in zip(data_list, label_list):\n",
    "        plt.plot(epochs, data, label=label)\n",
    "    plt.title(title)\n",
    "    plt.xlabel(\"Epochs\")\n",
    "    plt.ylabel(ylabel)\n",
    "    plt.legend()\n",
    "\n",
    "    plt.show()"
   ]
  },
  {
   "cell_type": "code",
   "execution_count": 62,
   "metadata": {
    "execution": {
     "iopub.execute_input": "2020-11-07T21:43:05.079087Z",
     "iopub.status.busy": "2020-11-07T21:43:05.078087Z",
     "iopub.status.idle": "2020-11-07T21:43:05.282084Z",
     "shell.execute_reply": "2020-11-07T21:43:05.282084Z",
     "shell.execute_reply.started": "2020-11-07T21:43:05.079087Z"
    }
   },
   "outputs": [
    {
     "data": {
      "image/png": "[encoded data removed]",
      "text/plain": [
       "<Figure size 432x288 with 1 Axes>"
      ]
     },
     "metadata": {
      "needs_background": "light"
     },
     "output_type": "display_data"
    },
    {
     "data": {
      "image/png": "[encoded data removed]",
      "text/plain": [
       "<Figure size 432x288 with 1 Axes>"
      ]
     },
     "metadata": {
      "needs_background": "light"
     },
     "output_type": "display_data"
    }
   ],
   "source": [
    "model_hist = history.history\n",
    "\n",
    "data_list1 = [model_hist[\"loss\"], model_hist[\"val_loss\"]]\n",
    "data_list2 = [model_hist[\"acc\"], model_hist[\"val_acc\"]]\n",
    "labels = [*model_hist.keys()]\n",
    "\n",
    "title1 = \"Model loss\"\n",
    "title2 = \"Model accuracy\"\n",
    "y_label1 = \"Loss\"\n",
    "y_label2 = \"Accuracy\"\n",
    "\n",
    "plot_history(data_list1, [labels[0], labels[3]], title1, y_label1)\n",
    "plot_history(data_list2, [labels[1], labels[4]], title2, y_label2)"
   ]
  },
  {
   "cell_type": "markdown",
   "metadata": {
    "execution": {
     "iopub.execute_input": "2020-11-05T21:26:38.779491Z",
     "iopub.status.busy": "2020-11-05T21:26:38.778492Z",
     "iopub.status.idle": "2020-11-05T21:26:38.791493Z",
     "shell.execute_reply": "2020-11-05T21:26:38.790491Z",
     "shell.execute_reply.started": "2020-11-05T21:26:38.779491Z"
    }
   },
   "source": [
    "# Predict on test set\n",
    "1. Create loop which reads feature_data from each video directory\n",
    "2. Predict on these features\n",
    "3. Write predictions to filename.txt"
   ]
  },
  {
   "cell_type": "code",
   "execution_count": null,
   "metadata": {},
   "outputs": [],
   "source": []
  }
 ],
 "metadata": {
  "kernelspec": {
   "display_name": "Python 3",
   "language": "python",
   "name": "python3"
  },
  "language_info": {
   "codemirror_mode": {
    "name": "ipython",
    "version": 3
   },
   "file_extension": ".py",
   "mimetype": "text/x-python",
   "name": "python",
   "nbconvert_exporter": "python",
   "pygments_lexer": "ipython3",
   "version": "3.7.9"
  },
  "output_auto_scroll": true
 },
 "nbformat": 4,
 "nbformat_minor": 4
}
