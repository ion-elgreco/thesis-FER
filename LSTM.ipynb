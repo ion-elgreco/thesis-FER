{
 "cells": [
  {
   "cell_type": "markdown",
   "metadata": {},
   "source": [
    "## Load/import packages"
   ]
  },
  {
   "cell_type": "code",
   "execution_count": 1,
   "metadata": {
    "execution": {
     "iopub.execute_input": "2020-11-10T15:56:06.007466Z",
     "iopub.status.busy": "2020-11-10T15:56:06.007466Z",
     "iopub.status.idle": "2020-11-10T15:56:29.958870Z",
     "shell.execute_reply": "2020-11-10T15:56:29.958870Z",
     "shell.execute_reply.started": "2020-11-10T15:56:06.007466Z"
    }
   },
   "outputs": [],
   "source": [
    "import json\n",
    "import scipy\n",
    "import numpy as np\n",
    "import tensorflow as tf\n",
    "import matplotlib.pyplot as plt\n",
    "import tensorflow.keras.backend as K\n",
    "import kerastuner as kt\n",
    "\n",
    "from tensorflow.keras import Sequential, layers\n",
    "from tensorflow.keras.losses import CategoricalCrossentropy\n",
    "from sklearn.utils import class_weight\n",
    "\n",
    "from functions import f1, plot_history, arr_replacevalue\n",
    "from load_features import (\n",
    "    train_features,\n",
    "    val_features,\n",
    "    test_features,\n",
    "    train_labels,\n",
    "    val_labels,\n",
    "    labels_reshaper,\n",
    "    features_reshaper,\n",
    ")\n",
    "\n",
    "\n",
    "from os import listdir\n",
    "from os.path import splitext\n",
    "from os.path import join\n",
    "\n",
    "%matplotlib inline\n",
    "\n",
    "# Limit GPU memory usage\n",
    "gpu_devices = tf.config.experimental.list_physical_devices(\"GPU\")\n",
    "for device in gpu_devices:\n",
    "    tf.config.experimental.set_memory_growth(device, True)"
   ]
  },
  {
   "cell_type": "markdown",
   "metadata": {},
   "source": [
    "# Prepare data"
   ]
  },
  {
   "cell_type": "markdown",
   "metadata": {
    "execution": {
     "iopub.execute_input": "2020-11-10T14:56:14.306513Z",
     "iopub.status.busy": "2020-11-10T14:56:14.305513Z",
     "iopub.status.idle": "2020-11-10T14:56:14.312512Z",
     "shell.execute_reply": "2020-11-10T14:56:14.312512Z",
     "shell.execute_reply.started": "2020-11-10T14:56:14.306513Z"
    }
   },
   "source": [
    "## Reshape feautures, labels\n",
    "The model gets more unstable and validation scores converge later with higher sequence length. Increasing sequence length does not improve the models performance."
   ]
  },
  {
   "cell_type": "code",
   "execution_count": 11,
   "metadata": {
    "execution": {
     "iopub.execute_input": "2020-11-10T16:39:02.348345Z",
     "iopub.status.busy": "2020-11-10T16:39:02.348345Z",
     "iopub.status.idle": "2020-11-10T16:39:45.764777Z",
     "shell.execute_reply": "2020-11-10T16:39:45.751777Z",
     "shell.execute_reply.started": "2020-11-10T16:39:02.348345Z"
    }
   },
   "outputs": [],
   "source": [
    "# Reshape data to specified sequence length\n",
    "length = 60\n",
    "seq_train_features = features_reshaper(train_features, length)\n",
    "seq_val_features = features_reshaper(val_features, length)\n",
    "# seq_test_features = features_reshaper(test_features, length)\n",
    "\n",
    "seq_train_labels = labels_reshaper(train_labels, length)\n",
    "seq_val_labels = labels_reshaper(val_labels, length)"
   ]
  },
  {
   "cell_type": "markdown",
   "metadata": {},
   "source": [
    "## Compute sample weights"
   ]
  },
  {
   "cell_type": "code",
   "execution_count": 12,
   "metadata": {
    "execution": {
     "iopub.execute_input": "2020-11-10T16:39:45.782780Z",
     "iopub.status.busy": "2020-11-10T16:39:45.782780Z",
     "iopub.status.idle": "2020-11-10T16:39:46.017778Z",
     "shell.execute_reply": "2020-11-10T16:39:46.017778Z",
     "shell.execute_reply.started": "2020-11-10T16:39:45.782780Z"
    }
   },
   "outputs": [],
   "source": [
    "# Convert one-hot encoded labels back to label integers\n",
    "train_label_ints = np.argmax(seq_train_labels, axis=2)\n",
    "\n",
    "# Compute class weights with sklearn\n",
    "class_weights = class_weight.compute_class_weight(\n",
    "    \"balanced\", np.unique(train_label_ints), train_label_ints.flatten()\n",
    ")\n",
    "d_class_weights = dict(enumerate(class_weights))\n",
    "\n",
    "# Copy label integer array\n",
    "arr = train_label_ints.copy()\n",
    "\n",
    "# Pass a 2D array with shape (samples, sequence_length), to apply a different weight to every timestep of every sample\n",
    "train_samples_weights = arr_replacevalue(arr, d_class_weights)"
   ]
  },
  {
   "cell_type": "markdown",
   "metadata": {},
   "source": [
    "# Build HP tuner model"
   ]
  },
  {
   "cell_type": "code",
   "execution_count": 45,
   "metadata": {
    "execution": {
     "iopub.execute_input": "2020-11-10T20:45:53.087938Z",
     "iopub.status.busy": "2020-11-10T20:45:53.087938Z",
     "iopub.status.idle": "2020-11-10T20:45:53.098939Z",
     "shell.execute_reply": "2020-11-10T20:45:53.098939Z",
     "shell.execute_reply.started": "2020-11-10T20:45:53.087938Z"
    }
   },
   "outputs": [],
   "source": [
    "def build_model(hp):\n",
    "    hp_unit_layer1 = hp.Int(\"units\", min_value=256, max_value=2048, step=256)\n",
    "    hp_unit_layer2 = hp.Int(\"units\", min_value=256, max_value=2048, step=256)\n",
    "    model = Sequential(name=\"RNN-LSTM\")\n",
    "    model.add(\n",
    "        layers.InputLayer(\n",
    "            input_shape=(seq_train_features.shape[1], seq_train_features.shape[2])\n",
    "        )\n",
    "    )\n",
    "    model.add(layers.LSTM(hp_unit_layer1, return_sequences=True, name=\"LSTM_1\"))\n",
    "    model.add(layers.LayerNormalization())\n",
    "    model.add(layers.LSTM(hp_unit_layer2, return_sequences=True, name=\"LSTM_2\"))\n",
    "    model.add(layers.Dense(7, activation=\"softmax\", name=\"Dense_Output\"))\n",
    "    model.compile(\n",
    "        optimizer=\"adagrad\",\n",
    "        loss=CategoricalCrossentropy(label_smoothing=0.1),\n",
    "        metrics=[\"accuracy\", f1, \"AUC\"],\n",
    "    )\n",
    "    return model"
   ]
  },
  {
   "cell_type": "markdown",
   "metadata": {},
   "source": [
    "## Hyperparameter tuning"
   ]
  },
  {
   "cell_type": "code",
   "execution_count": null,
   "metadata": {
    "execution": {
     "iopub.execute_input": "2020-11-10T20:46:04.391378Z",
     "iopub.status.busy": "2020-11-10T20:46:04.390377Z"
    },
    "scrolled": true
   },
   "outputs": [
    {
     "data": {
      "text/html": [
       "<span style=\"color:#4527A0\"><h1 style=\"font-size:18px\">Search space summary</h1></span>"
      ],
      "text/plain": [
       "<IPython.core.display.HTML object>"
      ]
     },
     "metadata": {},
     "output_type": "display_data"
    },
    {
     "data": {
      "text/html": [
       "<span style=\"color:cyan\"> |-Default search space size: 1</span>"
      ],
      "text/plain": [
       "<IPython.core.display.HTML object>"
      ]
     },
     "metadata": {},
     "output_type": "display_data"
    },
    {
     "data": {
      "text/html": [
       "<span style=\"color:#7E57C2\"><h2 style=\"font-size:16px\">units (Int)</h2></span>"
      ],
      "text/plain": [
       "<IPython.core.display.HTML object>"
      ]
     },
     "metadata": {},
     "output_type": "display_data"
    },
    {
     "data": {
      "text/html": [
       "<span style=\"color:cyan\"> |-default: None</span>"
      ],
      "text/plain": [
       "<IPython.core.display.HTML object>"
      ]
     },
     "metadata": {},
     "output_type": "display_data"
    },
    {
     "data": {
      "text/html": [
       "<span style=\"color:blue\"> |-max_value: 2048</span>"
      ],
      "text/plain": [
       "<IPython.core.display.HTML object>"
      ]
     },
     "metadata": {},
     "output_type": "display_data"
    },
    {
     "data": {
      "text/html": [
       "<span style=\"color:cyan\"> |-min_value: 256</span>"
      ],
      "text/plain": [
       "<IPython.core.display.HTML object>"
      ]
     },
     "metadata": {},
     "output_type": "display_data"
    },
    {
     "data": {
      "text/html": [
       "<span style=\"color:blue\"> |-sampling: None</span>"
      ],
      "text/plain": [
       "<IPython.core.display.HTML object>"
      ]
     },
     "metadata": {},
     "output_type": "display_data"
    },
    {
     "data": {
      "text/html": [
       "<span style=\"color:cyan\"> |-step: 256</span>"
      ],
      "text/plain": [
       "<IPython.core.display.HTML object>"
      ]
     },
     "metadata": {},
     "output_type": "display_data"
    },
    {
     "name": "stdout",
     "output_type": "stream",
     "text": [
      "Epoch 1/100\n",
      "481/481 - 30s - loss: 1.3902 - accuracy: 0.4851 - f1: 0.2313 - auc: 0.8413 - val_loss: 1.7636 - val_accuracy: 0.3320 - val_f1: 0.0495 - val_auc: 0.7292\n",
      "Epoch 2/100\n",
      "481/481 - 27s - loss: 0.9844 - accuracy: 0.6768 - f1: 0.5195 - auc: 0.9334 - val_loss: 1.6137 - val_accuracy: 0.4372 - val_f1: 0.2353 - val_auc: 0.7961\n",
      "Epoch 3/100\n",
      "481/481 - 28s - loss: 0.8311 - accuracy: 0.7471 - f1: 0.6597 - auc: 0.9581 - val_loss: 1.6468 - val_accuracy: 0.4223 - val_f1: 0.2423 - val_auc: 0.7837\n",
      "Epoch 4/100\n",
      "481/481 - 28s - loss: 0.7418 - accuracy: 0.7929 - f1: 0.7353 - auc: 0.9716 - val_loss: 1.6002 - val_accuracy: 0.4538 - val_f1: 0.3051 - val_auc: 0.8064\n",
      "Restoring model weights from the end of the best epoch.\n",
      "Epoch 00004: early stopping\n",
      "Epoch 1/100\n",
      "481/481 - 30s - loss: 1.3835 - accuracy: 0.4848 - f1: 0.2267 - auc: 0.8425 - val_loss: 1.7182 - val_accuracy: 0.3692 - val_f1: 0.0920 - val_auc: 0.7499\n",
      "Epoch 2/100\n",
      "481/481 - 27s - loss: 0.9894 - accuracy: 0.6707 - f1: 0.5149 - auc: 0.9313 - val_loss: 1.6450 - val_accuracy: 0.4281 - val_f1: 0.1901 - val_auc: 0.7834\n",
      "Epoch 3/100\n",
      "481/481 - 27s - loss: 0.8329 - accuracy: 0.7441 - f1: 0.6535 - auc: 0.9571 - val_loss: 1.6516 - val_accuracy: 0.4219 - val_f1: 0.2596 - val_auc: 0.7880\n",
      "Epoch 4/100\n",
      "481/481 - 28s - loss: 0.7440 - accuracy: 0.7915 - f1: 0.7308 - auc: 0.9706 - val_loss: 1.6058 - val_accuracy: 0.4594 - val_f1: 0.3211 - val_auc: 0.8061\n",
      "Restoring model weights from the end of the best epoch.\n",
      "Epoch 00004: early stopping\n",
      "Epoch 1/100\n",
      "481/481 - 32s - loss: 1.3834 - accuracy: 0.4906 - f1: 0.2168 - auc: 0.8440 - val_loss: 1.8479 - val_accuracy: 0.2701 - val_f1: 0.0491 - val_auc: 0.6940\n",
      "Epoch 2/100\n",
      "481/481 - 28s - loss: 0.9830 - accuracy: 0.6730 - f1: 0.5078 - auc: 0.9312 - val_loss: 1.6828 - val_accuracy: 0.4011 - val_f1: 0.1740 - val_auc: 0.7714\n",
      "Epoch 3/100\n",
      "481/481 - 27s - loss: 0.8266 - accuracy: 0.7469 - f1: 0.6504 - auc: 0.9579 - val_loss: 1.6615 - val_accuracy: 0.4235 - val_f1: 0.2493 - val_auc: 0.7815\n",
      "Epoch 4/100\n",
      "481/481 - 27s - loss: 0.7386 - accuracy: 0.7940 - f1: 0.7324 - auc: 0.9712 - val_loss: 1.6240 - val_accuracy: 0.4471 - val_f1: 0.2962 - val_auc: 0.7981\n",
      "Restoring model weights from the end of the best epoch.\n",
      "Epoch 00004: early stopping\n",
      "Epoch 1/100\n",
      "481/481 - 30s - loss: 1.3879 - accuracy: 0.4854 - f1: 0.2392 - auc: 0.8409 - val_loss: 1.7795 - val_accuracy: 0.3242 - val_f1: 0.0359 - val_auc: 0.7187\n",
      "Epoch 2/100\n",
      "481/481 - 27s - loss: 0.9842 - accuracy: 0.6820 - f1: 0.5209 - auc: 0.9330 - val_loss: 1.6924 - val_accuracy: 0.4092 - val_f1: 0.1666 - val_auc: 0.7625\n",
      "Epoch 3/100\n",
      "481/481 - 27s - loss: 0.8284 - accuracy: 0.7530 - f1: 0.6625 - auc: 0.9584 - val_loss: 1.6540 - val_accuracy: 0.4339 - val_f1: 0.2471 - val_auc: 0.7849\n",
      "Epoch 4/100\n",
      "481/481 - 26s - loss: 0.7368 - accuracy: 0.7990 - f1: 0.7421 - auc: 0.9722 - val_loss: 1.6884 - val_accuracy: 0.4184 - val_f1: 0.2626 - val_auc: 0.7793\n",
      "Restoring model weights from the end of the best epoch.\n",
      "Epoch 00004: early stopping\n",
      "Epoch 1/100\n",
      "481/481 - 29s - loss: 1.3852 - accuracy: 0.4925 - f1: 0.2389 - auc: 0.8445 - val_loss: 1.6719 - val_accuracy: 0.4226 - val_f1: 0.1071 - val_auc: 0.7662\n",
      "Epoch 2/100\n",
      "481/481 - 26s - loss: 0.9833 - accuracy: 0.6834 - f1: 0.5266 - auc: 0.9348 - val_loss: 1.6482 - val_accuracy: 0.4288 - val_f1: 0.2167 - val_auc: 0.7813\n",
      "Epoch 3/100\n",
      "481/481 - 27s - loss: 0.8271 - accuracy: 0.7530 - f1: 0.6630 - auc: 0.9595 - val_loss: 1.6318 - val_accuracy: 0.4371 - val_f1: 0.2565 - val_auc: 0.7912\n",
      "Epoch 4/100\n",
      "481/481 - 27s - loss: 0.7369 - accuracy: 0.8008 - f1: 0.7415 - auc: 0.9728 - val_loss: 1.6142 - val_accuracy: 0.4572 - val_f1: 0.3146 - val_auc: 0.8031\n",
      "Restoring model weights from the end of the best epoch.\n",
      "Epoch 00004: early stopping\n"
     ]
    },
    {
     "data": {
      "text/html": [
       "<span style=\"color:#4527A0\"><h1 style=\"font-size:18px\">Trial complete</h1></span>"
      ],
      "text/plain": [
       "<IPython.core.display.HTML object>"
      ]
     },
     "metadata": {},
     "output_type": "display_data"
    },
    {
     "data": {
      "text/html": [
       "<span style=\"color:#4527A0\"><h1 style=\"font-size:18px\">Trial summary</h1></span>"
      ],
      "text/plain": [
       "<IPython.core.display.HTML object>"
      ]
     },
     "metadata": {},
     "output_type": "display_data"
    },
    {
     "data": {
      "text/html": [
       "<span style=\"color:cyan\"> |-Trial ID: 98f234bdbb8c7c8a9526ea24bd3a0efc</span>"
      ],
      "text/plain": [
       "<IPython.core.display.HTML object>"
      ]
     },
     "metadata": {},
     "output_type": "display_data"
    },
    {
     "data": {
      "text/html": [
       "<span style=\"color:cyan\"> |-Score: 1.6196386575698853</span>"
      ],
      "text/plain": [
       "<IPython.core.display.HTML object>"
      ]
     },
     "metadata": {},
     "output_type": "display_data"
    },
    {
     "data": {
      "text/html": [
       "<span style=\"color:cyan\"> |-Best step: 0</span>"
      ],
      "text/plain": [
       "<IPython.core.display.HTML object>"
      ]
     },
     "metadata": {},
     "output_type": "display_data"
    },
    {
     "data": {
      "text/html": [
       "<span style=\"color:#7E57C2\"><h2 style=\"font-size:16px\">Hyperparameters:</h2></span>"
      ],
      "text/plain": [
       "<IPython.core.display.HTML object>"
      ]
     },
     "metadata": {},
     "output_type": "display_data"
    },
    {
     "data": {
      "text/html": [
       "<span style=\"color:cyan\"> |-units: 1280</span>"
      ],
      "text/plain": [
       "<IPython.core.display.HTML object>"
      ]
     },
     "metadata": {},
     "output_type": "display_data"
    },
    {
     "name": "stdout",
     "output_type": "stream",
     "text": [
      "Epoch 1/100\n",
      "481/481 - 42s - loss: 1.3584 - accuracy: 0.4993 - f1: 0.2708 - auc: 0.8514 - val_loss: 1.6926 - val_accuracy: 0.3777 - val_f1: 0.1586 - val_auc: 0.7587\n",
      "Epoch 2/100\n",
      "481/481 - 41s - loss: 0.9374 - accuracy: 0.6984 - f1: 0.5680 - auc: 0.9413 - val_loss: 1.6584 - val_accuracy: 0.4090 - val_f1: 0.2161 - val_auc: 0.7801\n",
      "Epoch 3/100\n",
      "481/481 - 39s - loss: 0.7857 - accuracy: 0.7707 - f1: 0.6973 - auc: 0.9648 - val_loss: 1.6192 - val_accuracy: 0.4339 - val_f1: 0.2776 - val_auc: 0.7984\n",
      "Epoch 4/100\n",
      "481/481 - 39s - loss: 0.7025 - accuracy: 0.8165 - f1: 0.7680 - auc: 0.9769 - val_loss: 1.6503 - val_accuracy: 0.4220 - val_f1: 0.2918 - val_auc: 0.7953\n",
      "Restoring model weights from the end of the best epoch.\n",
      "Epoch 00004: early stopping\n",
      "Epoch 1/100\n",
      "481/481 - 41s - loss: 1.3504 - accuracy: 0.5094 - f1: 0.2805 - auc: 0.8558 - val_loss: 1.7148 - val_accuracy: 0.3696 - val_f1: 0.0805 - val_auc: 0.7510\n",
      "Epoch 2/100\n",
      "481/481 - 38s - loss: 0.9411 - accuracy: 0.7049 - f1: 0.5737 - auc: 0.9422 - val_loss: 1.6334 - val_accuracy: 0.4213 - val_f1: 0.2062 - val_auc: 0.7861\n",
      "Epoch 3/100\n",
      "481/481 - 39s - loss: 0.7875 - accuracy: 0.7730 - f1: 0.7007 - auc: 0.9650 - val_loss: 1.6159 - val_accuracy: 0.4352 - val_f1: 0.2781 - val_auc: 0.7994\n",
      "Epoch 4/100\n",
      "481/481 - 40s - loss: 0.7049 - accuracy: 0.8195 - f1: 0.7728 - auc: 0.9772 - val_loss: 1.5761 - val_accuracy: 0.4595 - val_f1: 0.3093 - val_auc: 0.8108\n",
      "Restoring model weights from the end of the best epoch.\n",
      "Epoch 00004: early stopping\n",
      "Epoch 1/100\n",
      "481/481 - 42s - loss: 1.3431 - accuracy: 0.5121 - f1: 0.2734 - auc: 0.8571 - val_loss: 1.7337 - val_accuracy: 0.3537 - val_f1: 0.1018 - val_auc: 0.7514\n",
      "Epoch 2/100\n",
      "481/481 - 40s - loss: 0.9384 - accuracy: 0.7057 - f1: 0.5723 - auc: 0.9423 - val_loss: 1.6223 - val_accuracy: 0.4335 - val_f1: 0.2328 - val_auc: 0.7935\n",
      "Epoch 3/100\n",
      "481/481 - 38s - loss: 0.7864 - accuracy: 0.7730 - f1: 0.7012 - auc: 0.9656 - val_loss: 1.5996 - val_accuracy: 0.4673 - val_f1: 0.3024 - val_auc: 0.8054\n",
      "Epoch 4/100\n",
      "481/481 - 38s - loss: 0.7039 - accuracy: 0.8178 - f1: 0.7696 - auc: 0.9772 - val_loss: 1.6174 - val_accuracy: 0.4553 - val_f1: 0.3185 - val_auc: 0.8048\n",
      "Restoring model weights from the end of the best epoch.\n",
      "Epoch 00004: early stopping\n",
      "Epoch 1/100\n",
      "481/481 - 42s - loss: 1.3566 - accuracy: 0.5081 - f1: 0.2802 - auc: 0.8541 - val_loss: 1.6627 - val_accuracy: 0.4219 - val_f1: 0.1617 - val_auc: 0.7761\n",
      "Epoch 2/100\n",
      "481/481 - 39s - loss: 0.9405 - accuracy: 0.6979 - f1: 0.5780 - auc: 0.9418 - val_loss: 1.7172 - val_accuracy: 0.4060 - val_f1: 0.1743 - val_auc: 0.7473\n",
      "Epoch 3/100\n",
      "481/481 - 39s - loss: 0.7882 - accuracy: 0.7717 - f1: 0.7006 - auc: 0.9649 - val_loss: 1.5983 - val_accuracy: 0.4682 - val_f1: 0.3142 - val_auc: 0.8040\n",
      "Epoch 4/100\n",
      "481/481 - 40s - loss: 0.7042 - accuracy: 0.8192 - f1: 0.7712 - auc: 0.9771 - val_loss: 1.6233 - val_accuracy: 0.4527 - val_f1: 0.3364 - val_auc: 0.8041\n",
      "Restoring model weights from the end of the best epoch.\n",
      "Epoch 00004: early stopping\n",
      "Epoch 1/100\n",
      "481/481 - 40s - loss: 1.3443 - accuracy: 0.5189 - f1: 0.2724 - auc: 0.8575 - val_loss: 1.7531 - val_accuracy: 0.3372 - val_f1: 0.0663 - val_auc: 0.7374\n",
      "Epoch 2/100\n",
      "481/481 - 39s - loss: 0.9370 - accuracy: 0.6998 - f1: 0.5739 - auc: 0.9414 - val_loss: 1.6151 - val_accuracy: 0.4510 - val_f1: 0.2445 - val_auc: 0.7951\n",
      "Epoch 3/100\n",
      "481/481 - 38s - loss: 0.7869 - accuracy: 0.7732 - f1: 0.7022 - auc: 0.9650 - val_loss: 1.6150 - val_accuracy: 0.4541 - val_f1: 0.2923 - val_auc: 0.7968\n",
      "Epoch 4/100\n"
     ]
    }
   ],
   "source": [
    "# Keras-tuner setup\n",
    "tuner = kt.RandomSearch(\n",
    "    build_model,\n",
    "    objective=\"val_loss\",\n",
    "    max_trials=64,\n",
    "    executions_per_trial=5,\n",
    "    seed=1337,\n",
    "    project_name=\"Tuner_search\",\n",
    "    overwrite=True,\n",
    ")\n",
    "\n",
    "# Check the defined hyperparameter search space\n",
    "tuner.search_space_summary()\n",
    "\n",
    "# Set early stoppping \n",
    "es = tf.keras.callbacks.EarlyStopping(monitor=\"val_f1\", verbose=1, patience=3, restore_best_weights=True)\n",
    "\n",
    "# Do random serach for optimal hyperparameters\n",
    "tuner.search(\n",
    "    seq_train_features,\n",
    "    seq_train_labels,\n",
    "    sample_weight=train_samples_weights,\n",
    "    epochs=100,\n",
    "    validation_data=(seq_val_features, seq_val_labels),\n",
    "    callbacks=[es],\n",
    "    verbose=2,\n",
    ")"
   ]
  },
  {
   "cell_type": "markdown",
   "metadata": {},
   "source": [
    "# Build optimal HP model"
   ]
  },
  {
   "cell_type": "code",
   "execution_count": null,
   "metadata": {
    "ExecuteTime": {
     "end_time": "2020-10-04T17:39:44.932922Z",
     "start_time": "2020-10-04T17:39:44.857125Z"
    },
    "scrolled": true
   },
   "outputs": [],
   "source": [
    "tuner.results_summary()"
   ]
  },
  {
   "cell_type": "code",
   "execution_count": null,
   "metadata": {
    "ExecuteTime": {
     "end_time": "2020-10-04T17:39:44.948879Z",
     "start_time": "2020-10-04T17:39:44.933920Z"
    }
   },
   "outputs": [],
   "source": [
    "## Grab optimal hyperparameter\n",
    "tuner.oracle.get_best_trials(num_trials=1)[0].hyperparameters.values"
   ]
  },
  {
   "cell_type": "markdown",
   "metadata": {},
   "source": [
    "## Define optimal model"
   ]
  },
  {
   "cell_type": "code",
   "execution_count": 29,
   "metadata": {
    "execution": {
     "iopub.execute_input": "2020-11-10T17:31:06.925652Z",
     "iopub.status.busy": "2020-11-10T17:31:06.925652Z",
     "iopub.status.idle": "2020-11-10T17:31:06.930653Z",
     "shell.execute_reply": "2020-11-10T17:31:06.930653Z",
     "shell.execute_reply.started": "2020-11-10T17:31:06.925652Z"
    }
   },
   "outputs": [],
   "source": [
    "def build_opt_model():\n",
    "    model = Sequential(name=\"RNN-LSTM\")\n",
    "    model.add(\n",
    "        layers.InputLayer(\n",
    "            input_shape=(seq_train_features.shape[1], seq_train_features.shape[2])\n",
    "        )\n",
    "    )\n",
    "    # Increasing the units to 512, decreases the loss and it improves accuracy, f1 etc. \n",
    "    # Increasing it beyond 512 units doesn't have much of effect.\n",
    "    model.add(layers.LSTM(2048, return_sequences=True, name=\"LSTM_1\"))\n",
    "    model.add(layers.LayerNormalization())\n",
    "    model.add(layers.LSTM(256, return_sequences=True, name=\"LSTM_2\"))\n",
    "    model.add(layers.Dense(7, activation=\"softmax\", name=\"Dense_Output\"))\n",
    "    model.compile(\n",
    "        optimizer=\"adagrad\",\n",
    "        loss=CategoricalCrossentropy(label_smoothing=0.1),\n",
    "        metrics=[\"accuracy\", f1, \"AUC\"],\n",
    "    )\n",
    "    return model\n",
    "\n",
    "\n",
    "# Other ok models:\n",
    "# 1024 units (layer 1) + 512 units (layer 2) (Sequence length: 120)\n",
    "# 2048 units (layer 1) + 1024 units (layer 2) + label_smoothing=0.1 (Sequence length: 60)"
   ]
  },
  {
   "cell_type": "markdown",
   "metadata": {},
   "source": [
    "# Train + Evaluate model"
   ]
  },
  {
   "cell_type": "markdown",
   "metadata": {},
   "source": [
    "## Best model results"
   ]
  },
  {
   "cell_type": "code",
   "execution_count": null,
   "metadata": {
    "scrolled": true
   },
   "outputs": [],
   "source": [
    "cnn_rnn_LSTM = build_opt_model()\n",
    "cnn_rnn_LSTM.summary()\n",
    "\n",
    "history_best = cnn_rnn_LSTM.fit(\n",
    "    seq_train_features,\n",
    "    seq_train_labels,\n",
    "    sample_weight=train_samples_weights,\n",
    "    validation_data=(seq_val_features, seq_val_labels),\n",
    "    epochs=50,\n",
    "#     callbacks=[\n",
    "#         tf.keras.callbacks.EarlyStopping(\n",
    "#             monitor=\"val_f1\", verbose=1, patience=6, restore_best_weights=False\n",
    "#         )\n",
    "#     ],\n",
    "    verbose=2,\n",
    ")"
   ]
  },
  {
   "cell_type": "code",
   "execution_count": null,
   "metadata": {
    "execution": {
     "iopub.status.busy": "2020-11-10T17:42:03.790598Z",
     "iopub.status.idle": "2020-11-10T17:42:03.790598Z"
    }
   },
   "outputs": [],
   "source": [
    "results = cnn_rnn_LSTM.evaluate(seq_val_features, seq_val_labels, verbose=0)\n",
    "print(dict(zip(cnn_rnn_LSTM.metrics_names, results)))"
   ]
  },
  {
   "cell_type": "markdown",
   "metadata": {},
   "source": [
    "## Plot performance of model"
   ]
  },
  {
   "cell_type": "code",
   "execution_count": 27,
   "metadata": {
    "execution": {
     "iopub.execute_input": "2020-11-10T17:27:47.815075Z",
     "iopub.status.busy": "2020-11-10T17:27:47.814075Z",
     "iopub.status.idle": "2020-11-10T17:27:48.150075Z",
     "shell.execute_reply": "2020-11-10T17:27:48.150075Z",
     "shell.execute_reply.started": "2020-11-10T17:27:47.815075Z"
    }
   },
   "outputs": [
    {
     "data": {
      "image/png": "[encoded data removed]",
      "text/plain": [
       "<Figure size 1440x288 with 4 Axes>"
      ]
     },
     "metadata": {
      "needs_background": "light"
     },
     "output_type": "display_data"
    }
   ],
   "source": [
    "model_hist = history_best.history\n",
    "\n",
    "labels = [*model_hist.keys()]\n",
    "fig, axes = plt.subplots(1, 4, figsize=(20, 4))\n",
    "epochs = range(1, len(model_hist[\"loss\"]) + 1)\n",
    "for data, label in zip(\n",
    "    [model_hist[\"loss\"], model_hist[\"val_loss\"]], [labels[0], labels[4]]\n",
    "):\n",
    "    axes[0].plot(epochs, data, label=label)\n",
    "\n",
    "for data, label in zip(\n",
    "    [model_hist[\"accuracy\"], model_hist[\"val_accuracy\"]], [labels[1], labels[5]]\n",
    "):\n",
    "    axes[1].plot(epochs, data, label=label)\n",
    "\n",
    "for data, label in zip(\n",
    "    [model_hist[\"f1\"], model_hist[\"val_f1\"]], [labels[2], labels[6]]\n",
    "):\n",
    "    axes[2].plot(epochs, data, label=label)\n",
    "\n",
    "for data, label in zip(\n",
    "    [model_hist[\"auc\"], model_hist[\"val_auc\"]], [labels[3], labels[7]]\n",
    "):\n",
    "    axes[3].plot(epochs, data, label=label)\n",
    "\n",
    "for i, label in zip(range(4), [\"loss\", \"acc\", \"f1\", \"AUC\"]):\n",
    "    axes[i].set_title(label + \" score\")\n",
    "    axes[i].set_xlabel(\"Epochs\")\n",
    "    axes[i].set_ylabel(label)"
   ]
  },
  {
   "cell_type": "code",
   "execution_count": 28,
   "metadata": {
    "execution": {
     "iopub.execute_input": "2020-11-10T17:30:56.977647Z",
     "iopub.status.busy": "2020-11-10T17:30:56.976647Z",
     "iopub.status.idle": "2020-11-10T17:30:56.990649Z",
     "shell.execute_reply": "2020-11-10T17:30:56.990649Z",
     "shell.execute_reply.started": "2020-11-10T17:30:56.977647Z"
    }
   },
   "outputs": [],
   "source": [
    "# Save model performance to json file\n",
    "with open('data/LSTM_modelperformance_256_128.json', 'w') as fp:\n",
    "    json.dump(model_hist, fp)"
   ]
  },
  {
   "cell_type": "markdown",
   "metadata": {},
   "source": [
    "## Calculate precision score with SKlearn"
   ]
  },
  {
   "cell_type": "code",
   "execution_count": null,
   "metadata": {},
   "outputs": [],
   "source": [
    "from sklearn.metrics import f1_score, accuracy_score, confusion_matrix, roc_auc_score"
   ]
  },
  {
   "cell_type": "code",
   "execution_count": null,
   "metadata": {},
   "outputs": [],
   "source": [
    "# Do predictions on test set\n",
    "val_predv2 = v2.predict(seq_val_features, verbose=0)\n",
    "\n",
    "# Reshape back to (frame, label)\n",
    "val_predv2 = np.reshape(\n",
    "    val_predv2, (val_predv2.shape[0] * val_predv2.shape[1], val_predv2.shape[2])\n",
    ")\n",
    "\n",
    "# Convert one hot encoding to integers\n",
    "val_predv2 = np.argmax(val_predv2, axis=1)"
   ]
  },
  {
   "cell_type": "code",
   "execution_count": null,
   "metadata": {
    "scrolled": true
   },
   "outputs": [],
   "source": [
    "# Reshape back to (frame, label)\n",
    "val_true = np.reshape(\n",
    "    seq_val_labels, (seq_val_labels.shape[0] * seq_val_labels.shape[1], seq_val_labels.shape[2])\n",
    ")\n",
    "val_true = np.argmax(val_true, axis=1)"
   ]
  },
  {
   "cell_type": "code",
   "execution_count": null,
   "metadata": {},
   "outputs": [],
   "source": [
    "# F1 Results with model v3\n",
    "for avg in [None,  'micro', 'macro', 'weighted']:\n",
    "    score = f1_score(val_true, val_predv3, average=avg)\n",
    "    print(f'Average method: {avg}, f1-score: {score}' )"
   ]
  },
  {
   "cell_type": "markdown",
   "metadata": {},
   "source": [
    "## Plot the model architecture"
   ]
  },
  {
   "cell_type": "code",
   "execution_count": null,
   "metadata": {},
   "outputs": [],
   "source": [
    "# Plot CNN-LSTM model\n",
    "tf.keras.utils.plot_model(\n",
    "    cnn_rnn_LSTM,\n",
    "    to_file=\"images/best_CNN-LSTM_model.png\",\n",
    "    show_shapes=True,\n",
    "    show_layer_names=True,\n",
    "    rankdir=\"TB\",\n",
    "    expand_nested=False,\n",
    "    dpi=96,\n",
    ")"
   ]
  },
  {
   "cell_type": "markdown",
   "metadata": {},
   "source": [
    "## Save model+weights to folder"
   ]
  },
  {
   "cell_type": "code",
   "execution_count": null,
   "metadata": {},
   "outputs": [],
   "source": [
    "# Save model\n",
    "tf.keras.Model.save(cnn_rnn_LSTM, filepath=\"data/CNN-LSTM_model.h5\")"
   ]
  },
  {
   "cell_type": "markdown",
   "metadata": {
    "execution": {
     "iopub.execute_input": "2020-11-05T21:26:38.779491Z",
     "iopub.status.busy": "2020-11-05T21:26:38.778492Z",
     "iopub.status.idle": "2020-11-05T21:26:38.791493Z",
     "shell.execute_reply": "2020-11-05T21:26:38.790491Z",
     "shell.execute_reply.started": "2020-11-05T21:26:38.779491Z"
    }
   },
   "source": [
    "# Predict on test set"
   ]
  },
  {
   "cell_type": "code",
   "execution_count": null,
   "metadata": {},
   "outputs": [],
   "source": [
    "# Load best CNN-LSTM model\n",
    "best_LSTM = tf.keras.models.load_model(\n",
    "    filepath=\"data/CNN-LSTM_model.h5\", custom_objects={\"F1-metric\": f1}, compile=False\n",
    ")"
   ]
  },
  {
   "cell_type": "code",
   "execution_count": null,
   "metadata": {},
   "outputs": [],
   "source": [
    "# Do predictions on test set\n",
    "test_pred = best_LSTM.predict(seq_test_features, verbose=0)\n",
    "\n",
    "# Reshape back to (frame, label)\n",
    "test_pred = np.reshape(\n",
    "    test_pred, (test_pred.shape[0] * test_pred.shape[1], test_pred.shape[2])\n",
    ")\n",
    "\n",
    "# Convert one hot encoding to integers\n",
    "test_pred = np.argmax(test_pred, axis=1)"
   ]
  },
  {
   "cell_type": "code",
   "execution_count": null,
   "metadata": {},
   "outputs": [],
   "source": [
    "# Read test set frames filenames\n",
    "with open(\"data/test_filenames.txt\", \"r\") as fp:\n",
    "    test_filenames = fp.read().splitlines()\n",
    "\n",
    "# Read AW2 video shapes to grab the length of each video\n",
    "with open(\"data/AW2_video_shapes_woext.json\", \"r\") as fp:\n",
    "    AW2_video_shapes = json.load(fp)"
   ]
  },
  {
   "cell_type": "code",
   "execution_count": null,
   "metadata": {
    "scrolled": true
   },
   "outputs": [],
   "source": [
    "# Puts all test_video_names from test set in list\n",
    "test_videos = []\n",
    "for fn in test_filenames:\n",
    "    video, frame_n = fn.split(\"\\\\\")\n",
    "    test_videos.append(video)\n",
    "test_videos = list(set(test_videos))\n",
    "\n",
    "# Create text file for each video with first line set to all classes in text\n",
    "for video in test_videos:\n",
    "    with open(join(\"data/test_preds_LSTM/\", video + \".txt\"), \"w\") as fp:\n",
    "        fp.write(\"Neutral,Anger,Disgust,Fear,Happiness,Sadness,Surprise\")\n",
    "\n",
    "current_video = \"\"\n",
    "previous_frame_n = -1\n",
    "current_frame_n = 0\n",
    "\n",
    "\n",
    "for fn, label in zip(test_filenames, test_pred):\n",
    "    # Convert label to string\n",
    "    label = str(label)\n",
    "\n",
    "    # Split filename into videoname and frame_n\n",
    "    video, frame_n = fn.split(\"\\\\\")\n",
    "    frame_n = int(frame_n.strip(\".jpg\"))\n",
    "\n",
    "    previous_frame_n = current_frame_n\n",
    "    current_frame_n = frame_n\n",
    "\n",
    "    # If we moved to the next video, check if the previous videos frame_n was\n",
    "    # equal to the total amount of frames of the video. If it wasn't, write to\n",
    "    # all the missing lines -1\n",
    "    if current_video != video:\n",
    "        if current_video != \"\":\n",
    "            fullvideo = current_video.replace(\"_left\", \"\").replace(\"_right\", \"\")\n",
    "            video_length = AW2_video_shapes.get(fullvideo)\n",
    "            video_length = video_length[0]\n",
    "\n",
    "            print(\n",
    "                f\"Current video: {current_video}, diff: {video_length - previous_frame_n}\"\n",
    "            )\n",
    "\n",
    "            if previous_frame_n != video_length:\n",
    "                diff = video_length - previous_frame_n\n",
    "                with open(\n",
    "                    join(\"data/test_preds_LSTM/\", current_video + \".txt\"), \"a\"\n",
    "                ) as fp:\n",
    "                    for i in range(diff):\n",
    "                        fp.write(\"\\n\" + \"-1\")\n",
    "        current_video = video\n",
    "        previous_frame_n = 0\n",
    "\n",
    "    # Calculate difference between current frame_n and previous one\n",
    "    diff = current_frame_n - previous_frame_n\n",
    "\n",
    "    # If frame difference is only 1, then simply write the label on the next line\n",
    "    if diff == 1:\n",
    "        with open(join(\"data/test_preds_LSTM/\", video + \".txt\"), \"a\") as fp:\n",
    "            fp.write(\"\\n\" + label)\n",
    "    # If the frame difference is larger than 1, simply fill the missing lines with -1, and then write the label\n",
    "    else:\n",
    "        with open(join(\"data/test_preds_LSTM/\", video + \".txt\"), \"a\") as fp:\n",
    "            for i in range(diff - 1):\n",
    "                fp.write(\"\\n\" + \"-1\")\n",
    "            fp.write(\"\\n\" + label)"
   ]
  }
 ],
 "metadata": {
  "kernelspec": {
   "display_name": "Python 3",
   "language": "python",
   "name": "python3"
  },
  "language_info": {
   "codemirror_mode": {
    "name": "ipython",
    "version": 3
   },
   "file_extension": ".py",
   "mimetype": "text/x-python",
   "name": "python",
   "nbconvert_exporter": "python",
   "pygments_lexer": "ipython3",
   "version": "3.7.9"
  },
  "output_auto_scroll": true
 },
 "nbformat": 4,
 "nbformat_minor": 4
}
