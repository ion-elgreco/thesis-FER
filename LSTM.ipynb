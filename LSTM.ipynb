{
 "cells": [
  {
   "cell_type": "markdown",
   "metadata": {},
   "source": [
    "## Load/import packages"
   ]
  },
  {
   "cell_type": "code",
   "execution_count": 1,
   "metadata": {
    "execution": {
     "iopub.execute_input": "2020-11-09T14:53:36.124002Z",
     "iopub.status.busy": "2020-11-09T14:53:36.123001Z",
     "iopub.status.idle": "2020-11-09T14:53:49.088002Z",
     "shell.execute_reply": "2020-11-09T14:53:49.088002Z",
     "shell.execute_reply.started": "2020-11-09T14:53:36.123001Z"
    }
   },
   "outputs": [
    {
     "name": "stdout",
     "output_type": "stream",
     "text": [
      "[PhysicalDevice(name='/physical_device:GPU:0', device_type='GPU')]\n",
      "\n",
      "Tensorflow Version: 2.4.0-rc0\n",
      "Numpy Version: 1.19.2\n",
      "Keras Version: 2.4.0\n"
     ]
    }
   ],
   "source": [
    "import scipy\n",
    "import numpy as np\n",
    "import tensorflow as tf\n",
    "import matplotlib.pyplot as plt\n",
    "import tensorflow.keras.backend as K\n",
    "import kerastuner as kt\n",
    "\n",
    "from tensorflow.keras import Sequential, layers\n",
    "from sklearn.utils import class_weight\n",
    "\n",
    "# Import from features, labels and reshaper function\n",
    "from load_features import (\n",
    "    train_features,\n",
    "    val_features,\n",
    "    train_labels,\n",
    "    val_labels,\n",
    "    reshaper,\n",
    ")\n",
    "\n",
    "from functions import f1, plot_history, arr_replacevalue\n",
    "\n",
    "%matplotlib inline\n",
    "\n",
    "# Check if Tensorflow uses GPU\n",
    "print(tf.config.experimental.list_physical_devices(\"GPU\"))\n",
    "\n",
    "# Limit GPU memory usage\n",
    "gpu_devices = tf.config.experimental.list_physical_devices(\"GPU\")\n",
    "for device in gpu_devices:\n",
    "    tf.config.experimental.set_memory_growth(device, True)\n",
    "\n",
    "print()\n",
    "print(f\"Tensorflow Version: {tf.__version__}\")\n",
    "print(f\"Numpy Version: {np.__version__}\")\n",
    "print(f\"Keras Version: {tf.keras.__version__}\")"
   ]
  },
  {
   "cell_type": "markdown",
   "metadata": {},
   "source": [
    "# Prepare data"
   ]
  },
  {
   "cell_type": "code",
   "execution_count": 2,
   "metadata": {
    "execution": {
     "iopub.execute_input": "2020-11-09T14:54:07.061737Z",
     "iopub.status.busy": "2020-11-09T14:54:07.060734Z",
     "iopub.status.idle": "2020-11-09T14:54:12.876732Z",
     "shell.execute_reply": "2020-11-09T14:54:12.876732Z",
     "shell.execute_reply.started": "2020-11-09T14:54:07.061737Z"
    }
   },
   "outputs": [],
   "source": [
    "# Reshape data to sequence length 150\n",
    "seq_train_features, seq_train_labels = reshaper(train_features, train_labels, 150)\n",
    "seq_val_features, seq_val_labels = reshaper(val_features, val_labels, 150)"
   ]
  },
  {
   "cell_type": "code",
   "execution_count": 3,
   "metadata": {
    "execution": {
     "iopub.execute_input": "2020-11-09T14:54:12.878734Z",
     "iopub.status.busy": "2020-11-09T14:54:12.877734Z",
     "iopub.status.idle": "2020-11-09T14:54:13.052734Z",
     "shell.execute_reply": "2020-11-09T14:54:13.051731Z",
     "shell.execute_reply.started": "2020-11-09T14:54:12.878734Z"
    }
   },
   "outputs": [
    {
     "name": "stderr",
     "output_type": "stream",
     "text": [
      "C:\\Users\\ion\\anaconda3\\envs\\tf-gpu\\lib\\site-packages\\sklearn\\utils\\validation.py:70: FutureWarning: Pass classes=[0 1 2 3 4 5 6], y=[0 0 0 ... 6 6 6] as keyword args. From version 0.25 passing these as positional arguments will result in an error\n",
      "  FutureWarning)\n"
     ]
    }
   ],
   "source": [
    "# Convert one-hot encoded labels back to label integers\n",
    "label_ints = np.argmax(seq_train_labels, axis=2)\n",
    "\n",
    "# Compute class weights with sklearn\n",
    "class_weights = class_weight.compute_class_weight(\n",
    "    \"balanced\", np.unique(label_ints), label_ints.flatten()\n",
    ")\n",
    "d_class_weights = dict(enumerate(class_weights))\n",
    "\n",
    "# Copy label integer array\n",
    "arr = label_ints.copy()\n",
    "\n",
    "# Pass a 2D array with shape (samples, sequence_length), to apply a different weight to every timestep of every sample\n",
    "samples_weights = arr_replacevalue(arr, d_class_weights)"
   ]
  },
  {
   "cell_type": "markdown",
   "metadata": {},
   "source": [
    "# Build HP tuner model"
   ]
  },
  {
   "cell_type": "code",
   "execution_count": 7,
   "metadata": {
    "execution": {
     "iopub.execute_input": "2020-11-09T14:55:45.791075Z",
     "iopub.status.busy": "2020-11-09T14:55:45.791075Z",
     "iopub.status.idle": "2020-11-09T14:55:45.807076Z",
     "shell.execute_reply": "2020-11-09T14:55:45.807076Z",
     "shell.execute_reply.started": "2020-11-09T14:55:45.791075Z"
    }
   },
   "outputs": [],
   "source": [
    "def build_model(hp):\n",
    "    hp_optimizer = hp.Choice(\n",
    "        \"optimizer\", values=[\"adam\", \"rmsprop\", \"adagrad\"], default=\"adagrad\"\n",
    "    )\n",
    "    hp_units = hp.Int('units', min_value = 256, max_value = 1024, step = 256, default=256)\n",
    "\n",
    "    \n",
    "    model = Sequential(name=\"RNN-LSTM\")\n",
    "    model.add(layers.InputLayer(input_shape=(seq_train_features.shape[1], seq_train_features.shape[2])))\n",
    "    model.add(layers.LSTM(hp_units, return_sequences=True, name=\"LSTM_1\"))\n",
    "    model.add(layers.LayerNormalization())\n",
    "    model.add(layers.LSTM(hp_units, return_sequences=True, name=\"LSTM_2\"))\n",
    "    model.add(layers.Dense(7, activation=\"softmax\", name=\"Dense_Output\"))\n",
    "    model.compile(\n",
    "        optimizer=hp_optimizer,\n",
    "        loss=tf.keras.losses.CategoricalCrossentropy(label_smoothing=0.1),\n",
    "        metrics=[\"accuracy\", f1, \"AUC\"],\n",
    "    )\n",
    "    return model"
   ]
  },
  {
   "cell_type": "markdown",
   "metadata": {},
   "source": [
    "## Hyperparameter tuning"
   ]
  },
  {
   "cell_type": "code",
   "execution_count": 10,
   "metadata": {
    "execution": {
     "iopub.execute_input": "2020-11-09T14:56:17.598089Z",
     "iopub.status.busy": "2020-11-09T14:56:17.598089Z",
     "iopub.status.idle": "2020-11-09T15:31:53.492674Z",
     "shell.execute_reply": "2020-11-09T15:31:53.492674Z",
     "shell.execute_reply.started": "2020-11-09T14:56:17.598089Z"
    },
    "scrolled": true
   },
   "outputs": [
    {
     "data": {
      "text/html": [
       "<span style=\"color:#4527A0\"><h1 style=\"font-size:18px\">Search space summary</h1></span>"
      ],
      "text/plain": [
       "<IPython.core.display.HTML object>"
      ]
     },
     "metadata": {},
     "output_type": "display_data"
    },
    {
     "data": {
      "text/html": [
       "<span style=\"color:cyan\"> |-Default search space size: 2</span>"
      ],
      "text/plain": [
       "<IPython.core.display.HTML object>"
      ]
     },
     "metadata": {},
     "output_type": "display_data"
    },
    {
     "data": {
      "text/html": [
       "<span style=\"color:#7E57C2\"><h2 style=\"font-size:16px\">optimizer (Choice)</h2></span>"
      ],
      "text/plain": [
       "<IPython.core.display.HTML object>"
      ]
     },
     "metadata": {},
     "output_type": "display_data"
    },
    {
     "data": {
      "text/html": [
       "<span style=\"color:cyan\"> |-default: adagrad</span>"
      ],
      "text/plain": [
       "<IPython.core.display.HTML object>"
      ]
     },
     "metadata": {},
     "output_type": "display_data"
    },
    {
     "data": {
      "text/html": [
       "<span style=\"color:blue\"> |-ordered: False</span>"
      ],
      "text/plain": [
       "<IPython.core.display.HTML object>"
      ]
     },
     "metadata": {},
     "output_type": "display_data"
    },
    {
     "data": {
      "text/html": [
       "<span style=\"color:cyan\"> |-values: ['adam', 'rmsprop', 'adagrad']</span>"
      ],
      "text/plain": [
       "<IPython.core.display.HTML object>"
      ]
     },
     "metadata": {},
     "output_type": "display_data"
    },
    {
     "data": {
      "text/html": [
       "<span style=\"color:#7E57C2\"><h2 style=\"font-size:16px\">units (Int)</h2></span>"
      ],
      "text/plain": [
       "<IPython.core.display.HTML object>"
      ]
     },
     "metadata": {},
     "output_type": "display_data"
    },
    {
     "data": {
      "text/html": [
       "<span style=\"color:cyan\"> |-default: 256</span>"
      ],
      "text/plain": [
       "<IPython.core.display.HTML object>"
      ]
     },
     "metadata": {},
     "output_type": "display_data"
    },
    {
     "data": {
      "text/html": [
       "<span style=\"color:blue\"> |-max_value: 1024</span>"
      ],
      "text/plain": [
       "<IPython.core.display.HTML object>"
      ]
     },
     "metadata": {},
     "output_type": "display_data"
    },
    {
     "data": {
      "text/html": [
       "<span style=\"color:cyan\"> |-min_value: 256</span>"
      ],
      "text/plain": [
       "<IPython.core.display.HTML object>"
      ]
     },
     "metadata": {},
     "output_type": "display_data"
    },
    {
     "data": {
      "text/html": [
       "<span style=\"color:blue\"> |-sampling: None</span>"
      ],
      "text/plain": [
       "<IPython.core.display.HTML object>"
      ]
     },
     "metadata": {},
     "output_type": "display_data"
    },
    {
     "data": {
      "text/html": [
       "<span style=\"color:cyan\"> |-step: 256</span>"
      ],
      "text/plain": [
       "<IPython.core.display.HTML object>"
      ]
     },
     "metadata": {},
     "output_type": "display_data"
    },
    {
     "name": "stdout",
     "output_type": "stream",
     "text": [
      "Epoch 1/100\n",
      "193/193 - 22s - loss: 1.5836 - accuracy: 0.3760 - f1: 0.1041 - auc: 0.7735 - val_loss: 1.7724 - val_accuracy: 0.3374 - val_f1: 0.0067 - val_auc: 0.7179\n",
      "Epoch 2/100\n",
      "193/193 - 19s - loss: 1.1779 - accuracy: 0.5765 - f1: 0.2929 - auc: 0.8914 - val_loss: 1.7605 - val_accuracy: 0.3404 - val_f1: 0.0237 - val_auc: 0.7298\n",
      "Epoch 3/100\n",
      "193/193 - 19s - loss: 1.0008 - accuracy: 0.6585 - f1: 0.4434 - auc: 0.9278 - val_loss: 1.7011 - val_accuracy: 0.3910 - val_f1: 0.0682 - val_auc: 0.7589\n",
      "Epoch 4/100\n",
      "193/193 - 20s - loss: 0.8886 - accuracy: 0.7067 - f1: 0.5542 - auc: 0.9464 - val_loss: 1.6432 - val_accuracy: 0.4281 - val_f1: 0.1653 - val_auc: 0.7861\n",
      "Epoch 5/100\n",
      "193/193 - 20s - loss: 0.8093 - accuracy: 0.7475 - f1: 0.6427 - auc: 0.9600 - val_loss: 1.6677 - val_accuracy: 0.4171 - val_f1: 0.1482 - val_auc: 0.7771\n",
      "Epoch 6/100\n",
      "193/193 - 20s - loss: 0.7512 - accuracy: 0.7767 - f1: 0.6984 - auc: 0.9684 - val_loss: 1.6874 - val_accuracy: 0.3986 - val_f1: 0.1740 - val_auc: 0.7738\n",
      "Epoch 7/100\n",
      "193/193 - 19s - loss: 0.7073 - accuracy: 0.8033 - f1: 0.7419 - auc: 0.9749 - val_loss: 1.5970 - val_accuracy: 0.4749 - val_f1: 0.2982 - val_auc: 0.8066\n",
      "Epoch 8/100\n",
      "193/193 - 19s - loss: 0.6724 - accuracy: 0.8261 - f1: 0.7803 - auc: 0.9803 - val_loss: 1.5963 - val_accuracy: 0.4713 - val_f1: 0.3142 - val_auc: 0.8091\n",
      "Epoch 9/100\n",
      "193/193 - 19s - loss: 0.6455 - accuracy: 0.8469 - f1: 0.8077 - auc: 0.9841 - val_loss: 1.6098 - val_accuracy: 0.4690 - val_f1: 0.3119 - val_auc: 0.8039\n",
      "Epoch 10/100\n",
      "193/193 - 19s - loss: 0.6244 - accuracy: 0.8631 - f1: 0.8305 - auc: 0.9872 - val_loss: 1.6077 - val_accuracy: 0.4677 - val_f1: 0.3204 - val_auc: 0.8052\n",
      "Epoch 11/100\n",
      "193/193 - 19s - loss: 0.6068 - accuracy: 0.8785 - f1: 0.8479 - auc: 0.9891 - val_loss: 1.6235 - val_accuracy: 0.4640 - val_f1: 0.3433 - val_auc: 0.8069\n",
      "Epoch 12/100\n",
      "193/193 - 20s - loss: 0.5922 - accuracy: 0.8911 - f1: 0.8669 - auc: 0.9913 - val_loss: 1.6119 - val_accuracy: 0.4717 - val_f1: 0.3441 - val_auc: 0.8060\n",
      "Epoch 00012: early stopping\n"
     ]
    },
    {
     "data": {
      "text/html": [
       "<span style=\"color:#4527A0\"><h1 style=\"font-size:18px\">Trial complete</h1></span>"
      ],
      "text/plain": [
       "<IPython.core.display.HTML object>"
      ]
     },
     "metadata": {},
     "output_type": "display_data"
    },
    {
     "data": {
      "text/html": [
       "<span style=\"color:#4527A0\"><h1 style=\"font-size:18px\">Trial summary</h1></span>"
      ],
      "text/plain": [
       "<IPython.core.display.HTML object>"
      ]
     },
     "metadata": {},
     "output_type": "display_data"
    },
    {
     "data": {
      "text/html": [
       "<span style=\"color:cyan\"> |-Trial ID: 215069ecf1ed3e7fabccfe7f05772f8f</span>"
      ],
      "text/plain": [
       "<IPython.core.display.HTML object>"
      ]
     },
     "metadata": {},
     "output_type": "display_data"
    },
    {
     "data": {
      "text/html": [
       "<span style=\"color:cyan\"> |-Score: 1.5962730646133423</span>"
      ],
      "text/plain": [
       "<IPython.core.display.HTML object>"
      ]
     },
     "metadata": {},
     "output_type": "display_data"
    },
    {
     "data": {
      "text/html": [
       "<span style=\"color:cyan\"> |-Best step: 0</span>"
      ],
      "text/plain": [
       "<IPython.core.display.HTML object>"
      ]
     },
     "metadata": {},
     "output_type": "display_data"
    },
    {
     "data": {
      "text/html": [
       "<span style=\"color:#7E57C2\"><h2 style=\"font-size:16px\">Hyperparameters:</h2></span>"
      ],
      "text/plain": [
       "<IPython.core.display.HTML object>"
      ]
     },
     "metadata": {},
     "output_type": "display_data"
    },
    {
     "data": {
      "text/html": [
       "<span style=\"color:cyan\"> |-optimizer: adagrad</span>"
      ],
      "text/plain": [
       "<IPython.core.display.HTML object>"
      ]
     },
     "metadata": {},
     "output_type": "display_data"
    },
    {
     "data": {
      "text/html": [
       "<span style=\"color:blue\"> |-units: 1024</span>"
      ],
      "text/plain": [
       "<IPython.core.display.HTML object>"
      ]
     },
     "metadata": {},
     "output_type": "display_data"
    },
    {
     "name": "stdout",
     "output_type": "stream",
     "text": [
      "Epoch 1/100\n",
      "193/193 - 16s - loss: 1.6588 - accuracy: 0.3228 - f1: 0.0569 - auc: 0.7195 - val_loss: 1.8477 - val_accuracy: 0.2698 - val_f1: 0.0042 - val_auc: 0.6689\n",
      "Epoch 2/100\n",
      "193/193 - 13s - loss: 1.2924 - accuracy: 0.5113 - f1: 0.1902 - auc: 0.8600 - val_loss: 1.7457 - val_accuracy: 0.3552 - val_f1: 0.0281 - val_auc: 0.7341\n",
      "Epoch 3/100\n",
      "193/193 - 14s - loss: 1.1305 - accuracy: 0.5924 - f1: 0.3063 - auc: 0.8990 - val_loss: 1.7175 - val_accuracy: 0.3680 - val_f1: 0.0550 - val_auc: 0.7516\n",
      "Epoch 4/100\n",
      "193/193 - 13s - loss: 1.0212 - accuracy: 0.6448 - f1: 0.4117 - auc: 0.9225 - val_loss: 1.8114 - val_accuracy: 0.3051 - val_f1: 0.0689 - val_auc: 0.7107\n",
      "Epoch 5/100\n",
      "193/193 - 13s - loss: 0.9378 - accuracy: 0.6741 - f1: 0.4907 - auc: 0.9344 - val_loss: 1.7007 - val_accuracy: 0.3820 - val_f1: 0.1411 - val_auc: 0.7635\n",
      "Epoch 6/100\n",
      "193/193 - 14s - loss: 0.8707 - accuracy: 0.7160 - f1: 0.5728 - auc: 0.9482 - val_loss: 1.6925 - val_accuracy: 0.3852 - val_f1: 0.1803 - val_auc: 0.7703\n",
      "Epoch 7/100\n",
      "193/193 - 13s - loss: 0.8155 - accuracy: 0.7394 - f1: 0.6256 - auc: 0.9560 - val_loss: 1.6606 - val_accuracy: 0.4105 - val_f1: 0.2282 - val_auc: 0.7856\n",
      "Epoch 8/100\n",
      "193/193 - 13s - loss: 0.7743 - accuracy: 0.7631 - f1: 0.6713 - auc: 0.9630 - val_loss: 1.6501 - val_accuracy: 0.4224 - val_f1: 0.2617 - val_auc: 0.7905\n",
      "Epoch 9/100\n",
      "193/193 - 13s - loss: 0.7390 - accuracy: 0.7855 - f1: 0.7107 - auc: 0.9690 - val_loss: 1.7103 - val_accuracy: 0.3839 - val_f1: 0.2340 - val_auc: 0.7695\n",
      "Epoch 10/100\n",
      "193/193 - 13s - loss: 0.7147 - accuracy: 0.7991 - f1: 0.7370 - auc: 0.9725 - val_loss: 1.6538 - val_accuracy: 0.4274 - val_f1: 0.2863 - val_auc: 0.7938\n",
      "Epoch 11/100\n",
      "193/193 - 14s - loss: 0.6850 - accuracy: 0.8179 - f1: 0.7665 - auc: 0.9774 - val_loss: 1.6759 - val_accuracy: 0.4189 - val_f1: 0.2919 - val_auc: 0.7901\n",
      "Epoch 12/100\n",
      "193/193 - 13s - loss: 0.6631 - accuracy: 0.8293 - f1: 0.7869 - auc: 0.9800 - val_loss: 1.6631 - val_accuracy: 0.4346 - val_f1: 0.3246 - val_auc: 0.8003\n",
      "Epoch 00012: early stopping\n"
     ]
    },
    {
     "data": {
      "text/html": [
       "<span style=\"color:#4527A0\"><h1 style=\"font-size:18px\">Trial complete</h1></span>"
      ],
      "text/plain": [
       "<IPython.core.display.HTML object>"
      ]
     },
     "metadata": {},
     "output_type": "display_data"
    },
    {
     "data": {
      "text/html": [
       "<span style=\"color:#4527A0\"><h1 style=\"font-size:18px\">Trial summary</h1></span>"
      ],
      "text/plain": [
       "<IPython.core.display.HTML object>"
      ]
     },
     "metadata": {},
     "output_type": "display_data"
    },
    {
     "data": {
      "text/html": [
       "<span style=\"color:cyan\"> |-Trial ID: 9e60c5c048607efc5fdca6f87255e4c9</span>"
      ],
      "text/plain": [
       "<IPython.core.display.HTML object>"
      ]
     },
     "metadata": {},
     "output_type": "display_data"
    },
    {
     "data": {
      "text/html": [
       "<span style=\"color:cyan\"> |-Score: 1.650098204612732</span>"
      ],
      "text/plain": [
       "<IPython.core.display.HTML object>"
      ]
     },
     "metadata": {},
     "output_type": "display_data"
    },
    {
     "data": {
      "text/html": [
       "<span style=\"color:cyan\"> |-Best step: 0</span>"
      ],
      "text/plain": [
       "<IPython.core.display.HTML object>"
      ]
     },
     "metadata": {},
     "output_type": "display_data"
    },
    {
     "data": {
      "text/html": [
       "<span style=\"color:#7E57C2\"><h2 style=\"font-size:16px\">Hyperparameters:</h2></span>"
      ],
      "text/plain": [
       "<IPython.core.display.HTML object>"
      ]
     },
     "metadata": {},
     "output_type": "display_data"
    },
    {
     "data": {
      "text/html": [
       "<span style=\"color:cyan\"> |-optimizer: adagrad</span>"
      ],
      "text/plain": [
       "<IPython.core.display.HTML object>"
      ]
     },
     "metadata": {},
     "output_type": "display_data"
    },
    {
     "data": {
      "text/html": [
       "<span style=\"color:blue\"> |-units: 512</span>"
      ],
      "text/plain": [
       "<IPython.core.display.HTML object>"
      ]
     },
     "metadata": {},
     "output_type": "display_data"
    },
    {
     "name": "stdout",
     "output_type": "stream",
     "text": [
      "Epoch 1/100\n",
      "193/193 - 23s - loss: 1.8052 - accuracy: 0.3571 - f1: 0.1670 - auc: 0.7668 - val_loss: 2.6531 - val_accuracy: 0.1815 - val_f1: 0.1622 - val_auc: 0.5391\n",
      "Epoch 2/100\n",
      "193/193 - 20s - loss: 1.3595 - accuracy: 0.5895 - f1: 0.4755 - auc: 0.8781 - val_loss: 1.8803 - val_accuracy: 0.2684 - val_f1: 0.1003 - val_auc: 0.7066\n",
      "Epoch 3/100\n",
      "193/193 - 19s - loss: 1.1868 - accuracy: 0.6496 - f1: 0.5893 - auc: 0.9136 - val_loss: 1.7602 - val_accuracy: 0.5071 - val_f1: 0.4535 - val_auc: 0.7995\n",
      "Epoch 4/100\n",
      "193/193 - 20s - loss: 1.0980 - accuracy: 0.6809 - f1: 0.6413 - auc: 0.9287 - val_loss: 1.6485 - val_accuracy: 0.5123 - val_f1: 0.4271 - val_auc: 0.7980\n",
      "Epoch 5/100\n",
      "193/193 - 20s - loss: 0.9984 - accuracy: 0.7244 - f1: 0.6962 - auc: 0.9439 - val_loss: 1.8862 - val_accuracy: 0.4033 - val_f1: 0.3540 - val_auc: 0.7633\n",
      "Epoch 6/100\n",
      "193/193 - 22s - loss: 0.9443 - accuracy: 0.7425 - f1: 0.7201 - auc: 0.9517 - val_loss: 2.3601 - val_accuracy: 0.3121 - val_f1: 0.2535 - val_auc: 0.6625\n",
      "Epoch 7/100\n",
      "193/193 - 21s - loss: 0.9095 - accuracy: 0.7617 - f1: 0.7469 - auc: 0.9574 - val_loss: 2.0100 - val_accuracy: 0.3328 - val_f1: 0.2307 - val_auc: 0.7430\n",
      "Epoch 8/100\n",
      "193/193 - 20s - loss: 0.8510 - accuracy: 0.7791 - f1: 0.7652 - auc: 0.9636 - val_loss: 1.8339 - val_accuracy: 0.4672 - val_f1: 0.4341 - val_auc: 0.7942\n",
      "Epoch 00008: early stopping\n"
     ]
    },
    {
     "data": {
      "text/html": [
       "<span style=\"color:#4527A0\"><h1 style=\"font-size:18px\">Trial complete</h1></span>"
      ],
      "text/plain": [
       "<IPython.core.display.HTML object>"
      ]
     },
     "metadata": {},
     "output_type": "display_data"
    },
    {
     "data": {
      "text/html": [
       "<span style=\"color:#4527A0\"><h1 style=\"font-size:18px\">Trial summary</h1></span>"
      ],
      "text/plain": [
       "<IPython.core.display.HTML object>"
      ]
     },
     "metadata": {},
     "output_type": "display_data"
    },
    {
     "data": {
      "text/html": [
       "<span style=\"color:cyan\"> |-Trial ID: 733f9f6ee51040bcb344d801cb80867c</span>"
      ],
      "text/plain": [
       "<IPython.core.display.HTML object>"
      ]
     },
     "metadata": {},
     "output_type": "display_data"
    },
    {
     "data": {
      "text/html": [
       "<span style=\"color:cyan\"> |-Score: 1.648466944694519</span>"
      ],
      "text/plain": [
       "<IPython.core.display.HTML object>"
      ]
     },
     "metadata": {},
     "output_type": "display_data"
    },
    {
     "data": {
      "text/html": [
       "<span style=\"color:cyan\"> |-Best step: 0</span>"
      ],
      "text/plain": [
       "<IPython.core.display.HTML object>"
      ]
     },
     "metadata": {},
     "output_type": "display_data"
    },
    {
     "data": {
      "text/html": [
       "<span style=\"color:#7E57C2\"><h2 style=\"font-size:16px\">Hyperparameters:</h2></span>"
      ],
      "text/plain": [
       "<IPython.core.display.HTML object>"
      ]
     },
     "metadata": {},
     "output_type": "display_data"
    },
    {
     "data": {
      "text/html": [
       "<span style=\"color:cyan\"> |-optimizer: rmsprop</span>"
      ],
      "text/plain": [
       "<IPython.core.display.HTML object>"
      ]
     },
     "metadata": {},
     "output_type": "display_data"
    },
    {
     "data": {
      "text/html": [
       "<span style=\"color:blue\"> |-units: 1024</span>"
      ],
      "text/plain": [
       "<IPython.core.display.HTML object>"
      ]
     },
     "metadata": {},
     "output_type": "display_data"
    },
    {
     "name": "stdout",
     "output_type": "stream",
     "text": [
      "Epoch 1/100\n",
      "193/193 - 17s - loss: 1.6789 - accuracy: 0.4316 - f1: 0.2166 - auc: 0.8047 - val_loss: 2.0905 - val_accuracy: 0.2005 - val_f1: 0.1705 - val_auc: 0.7544\n",
      "Epoch 2/100\n",
      "193/193 - 14s - loss: 1.3058 - accuracy: 0.6080 - f1: 0.4952 - auc: 0.8923 - val_loss: 1.6684 - val_accuracy: 0.4682 - val_f1: 0.2842 - val_auc: 0.7718\n",
      "Epoch 3/100\n",
      "193/193 - 14s - loss: 1.1705 - accuracy: 0.6603 - f1: 0.5983 - auc: 0.9182 - val_loss: 1.7846 - val_accuracy: 0.4365 - val_f1: 0.3515 - val_auc: 0.7689\n",
      "Epoch 4/100\n",
      "193/193 - 14s - loss: 1.0638 - accuracy: 0.6942 - f1: 0.6458 - auc: 0.9340 - val_loss: 1.8170 - val_accuracy: 0.3981 - val_f1: 0.3075 - val_auc: 0.7412\n",
      "Epoch 5/100\n",
      "193/193 - 14s - loss: 1.0042 - accuracy: 0.7202 - f1: 0.6869 - auc: 0.9430 - val_loss: 1.9865 - val_accuracy: 0.3580 - val_f1: 0.3091 - val_auc: 0.7522\n",
      "Epoch 6/100\n",
      "193/193 - 14s - loss: 0.9616 - accuracy: 0.7379 - f1: 0.7112 - auc: 0.9506 - val_loss: 2.0019 - val_accuracy: 0.4001 - val_f1: 0.3401 - val_auc: 0.7220\n",
      "Epoch 00006: early stopping\n"
     ]
    },
    {
     "data": {
      "text/html": [
       "<span style=\"color:#4527A0\"><h1 style=\"font-size:18px\">Trial complete</h1></span>"
      ],
      "text/plain": [
       "<IPython.core.display.HTML object>"
      ]
     },
     "metadata": {},
     "output_type": "display_data"
    },
    {
     "data": {
      "text/html": [
       "<span style=\"color:#4527A0\"><h1 style=\"font-size:18px\">Trial summary</h1></span>"
      ],
      "text/plain": [
       "<IPython.core.display.HTML object>"
      ]
     },
     "metadata": {},
     "output_type": "display_data"
    },
    {
     "data": {
      "text/html": [
       "<span style=\"color:cyan\"> |-Trial ID: 38ed213b86656495fcc78078f370afcd</span>"
      ],
      "text/plain": [
       "<IPython.core.display.HTML object>"
      ]
     },
     "metadata": {},
     "output_type": "display_data"
    },
    {
     "data": {
      "text/html": [
       "<span style=\"color:cyan\"> |-Score: 1.6683881282806396</span>"
      ],
      "text/plain": [
       "<IPython.core.display.HTML object>"
      ]
     },
     "metadata": {},
     "output_type": "display_data"
    },
    {
     "data": {
      "text/html": [
       "<span style=\"color:cyan\"> |-Best step: 0</span>"
      ],
      "text/plain": [
       "<IPython.core.display.HTML object>"
      ]
     },
     "metadata": {},
     "output_type": "display_data"
    },
    {
     "data": {
      "text/html": [
       "<span style=\"color:#7E57C2\"><h2 style=\"font-size:16px\">Hyperparameters:</h2></span>"
      ],
      "text/plain": [
       "<IPython.core.display.HTML object>"
      ]
     },
     "metadata": {},
     "output_type": "display_data"
    },
    {
     "data": {
      "text/html": [
       "<span style=\"color:cyan\"> |-optimizer: rmsprop</span>"
      ],
      "text/plain": [
       "<IPython.core.display.HTML object>"
      ]
     },
     "metadata": {},
     "output_type": "display_data"
    },
    {
     "data": {
      "text/html": [
       "<span style=\"color:blue\"> |-units: 512</span>"
      ],
      "text/plain": [
       "<IPython.core.display.HTML object>"
      ]
     },
     "metadata": {},
     "output_type": "display_data"
    },
    {
     "name": "stdout",
     "output_type": "stream",
     "text": [
      "Epoch 1/100\n",
      "193/193 - 16s - loss: 1.6432 - accuracy: 0.4063 - f1: 0.1704 - auc: 0.7895 - val_loss: 1.6242 - val_accuracy: 0.4634 - val_f1: 0.1715 - val_auc: 0.7882\n",
      "Epoch 2/100\n",
      "193/193 - 14s - loss: 1.2727 - accuracy: 0.5933 - f1: 0.4627 - auc: 0.8896 - val_loss: 1.8725 - val_accuracy: 0.3480 - val_f1: 0.1883 - val_auc: 0.7136\n",
      "Epoch 3/100\n",
      "193/193 - 14s - loss: 1.1577 - accuracy: 0.6350 - f1: 0.5518 - auc: 0.9105 - val_loss: 2.0791 - val_accuracy: 0.2695 - val_f1: 0.1793 - val_auc: 0.6696\n",
      "Epoch 4/100\n",
      "193/193 - 13s - loss: 1.0481 - accuracy: 0.6766 - f1: 0.6302 - auc: 0.9298 - val_loss: 1.9031 - val_accuracy: 0.3335 - val_f1: 0.2673 - val_auc: 0.7434\n",
      "Epoch 5/100\n",
      "193/193 - 14s - loss: 0.9767 - accuracy: 0.6954 - f1: 0.6574 - auc: 0.9384 - val_loss: 1.7684 - val_accuracy: 0.3848 - val_f1: 0.3114 - val_auc: 0.7799\n",
      "Epoch 00005: early stopping\n"
     ]
    },
    {
     "data": {
      "text/html": [
       "<span style=\"color:#4527A0\"><h1 style=\"font-size:18px\">Trial complete</h1></span>"
      ],
      "text/plain": [
       "<IPython.core.display.HTML object>"
      ]
     },
     "metadata": {},
     "output_type": "display_data"
    },
    {
     "data": {
      "text/html": [
       "<span style=\"color:#4527A0\"><h1 style=\"font-size:18px\">Trial summary</h1></span>"
      ],
      "text/plain": [
       "<IPython.core.display.HTML object>"
      ]
     },
     "metadata": {},
     "output_type": "display_data"
    },
    {
     "data": {
      "text/html": [
       "<span style=\"color:cyan\"> |-Trial ID: 91334c37e8c64da90596b4cdc2e42b82</span>"
      ],
      "text/plain": [
       "<IPython.core.display.HTML object>"
      ]
     },
     "metadata": {},
     "output_type": "display_data"
    },
    {
     "data": {
      "text/html": [
       "<span style=\"color:cyan\"> |-Score: 1.6241531372070312</span>"
      ],
      "text/plain": [
       "<IPython.core.display.HTML object>"
      ]
     },
     "metadata": {},
     "output_type": "display_data"
    },
    {
     "data": {
      "text/html": [
       "<span style=\"color:cyan\"> |-Best step: 0</span>"
      ],
      "text/plain": [
       "<IPython.core.display.HTML object>"
      ]
     },
     "metadata": {},
     "output_type": "display_data"
    },
    {
     "data": {
      "text/html": [
       "<span style=\"color:#7E57C2\"><h2 style=\"font-size:16px\">Hyperparameters:</h2></span>"
      ],
      "text/plain": [
       "<IPython.core.display.HTML object>"
      ]
     },
     "metadata": {},
     "output_type": "display_data"
    },
    {
     "data": {
      "text/html": [
       "<span style=\"color:cyan\"> |-optimizer: adam</span>"
      ],
      "text/plain": [
       "<IPython.core.display.HTML object>"
      ]
     },
     "metadata": {},
     "output_type": "display_data"
    },
    {
     "data": {
      "text/html": [
       "<span style=\"color:blue\"> |-units: 512</span>"
      ],
      "text/plain": [
       "<IPython.core.display.HTML object>"
      ]
     },
     "metadata": {},
     "output_type": "display_data"
    },
    {
     "name": "stdout",
     "output_type": "stream",
     "text": [
      "Epoch 1/100\n",
      "193/193 - 18s - loss: 1.6265 - accuracy: 0.4211 - f1: 0.2060 - auc: 0.7980 - val_loss: 1.6753 - val_accuracy: 0.3652 - val_f1: 0.0827 - val_auc: 0.7708\n",
      "Epoch 2/100\n",
      "193/193 - 16s - loss: 1.2703 - accuracy: 0.5782 - f1: 0.4713 - auc: 0.8879 - val_loss: 2.0740 - val_accuracy: 0.2494 - val_f1: 0.1351 - val_auc: 0.6582\n",
      "Epoch 3/100\n",
      "193/193 - 16s - loss: 1.1497 - accuracy: 0.6432 - f1: 0.5753 - auc: 0.9165 - val_loss: 1.9864 - val_accuracy: 0.2870 - val_f1: 0.1798 - val_auc: 0.6998\n",
      "Epoch 4/100\n",
      "193/193 - 16s - loss: 1.0841 - accuracy: 0.6770 - f1: 0.6251 - auc: 0.9297 - val_loss: 1.8017 - val_accuracy: 0.4335 - val_f1: 0.3430 - val_auc: 0.7548\n",
      "Epoch 5/100\n",
      "193/193 - 16s - loss: 0.9683 - accuracy: 0.7127 - f1: 0.6880 - auc: 0.9438 - val_loss: 1.7761 - val_accuracy: 0.4178 - val_f1: 0.3558 - val_auc: 0.7719\n",
      "Epoch 00005: early stopping\n"
     ]
    },
    {
     "data": {
      "text/html": [
       "<span style=\"color:#4527A0\"><h1 style=\"font-size:18px\">Trial complete</h1></span>"
      ],
      "text/plain": [
       "<IPython.core.display.HTML object>"
      ]
     },
     "metadata": {},
     "output_type": "display_data"
    },
    {
     "data": {
      "text/html": [
       "<span style=\"color:#4527A0\"><h1 style=\"font-size:18px\">Trial summary</h1></span>"
      ],
      "text/plain": [
       "<IPython.core.display.HTML object>"
      ]
     },
     "metadata": {},
     "output_type": "display_data"
    },
    {
     "data": {
      "text/html": [
       "<span style=\"color:cyan\"> |-Trial ID: eb0b1a2e565268e18ea85462cd0e64b3</span>"
      ],
      "text/plain": [
       "<IPython.core.display.HTML object>"
      ]
     },
     "metadata": {},
     "output_type": "display_data"
    },
    {
     "data": {
      "text/html": [
       "<span style=\"color:cyan\"> |-Score: 1.6753164529800415</span>"
      ],
      "text/plain": [
       "<IPython.core.display.HTML object>"
      ]
     },
     "metadata": {},
     "output_type": "display_data"
    },
    {
     "data": {
      "text/html": [
       "<span style=\"color:cyan\"> |-Best step: 0</span>"
      ],
      "text/plain": [
       "<IPython.core.display.HTML object>"
      ]
     },
     "metadata": {},
     "output_type": "display_data"
    },
    {
     "data": {
      "text/html": [
       "<span style=\"color:#7E57C2\"><h2 style=\"font-size:16px\">Hyperparameters:</h2></span>"
      ],
      "text/plain": [
       "<IPython.core.display.HTML object>"
      ]
     },
     "metadata": {},
     "output_type": "display_data"
    },
    {
     "data": {
      "text/html": [
       "<span style=\"color:cyan\"> |-optimizer: adam</span>"
      ],
      "text/plain": [
       "<IPython.core.display.HTML object>"
      ]
     },
     "metadata": {},
     "output_type": "display_data"
    },
    {
     "data": {
      "text/html": [
       "<span style=\"color:blue\"> |-units: 768</span>"
      ],
      "text/plain": [
       "<IPython.core.display.HTML object>"
      ]
     },
     "metadata": {},
     "output_type": "display_data"
    },
    {
     "name": "stdout",
     "output_type": "stream",
     "text": [
      "Epoch 1/100\n",
      "193/193 - 16s - loss: 1.7246 - accuracy: 0.2970 - f1: 0.0220 - auc: 0.6972 - val_loss: 1.8932 - val_accuracy: 0.2137 - val_f1: 4.5855e-04 - val_auc: 0.6305\n",
      "Epoch 2/100\n",
      "193/193 - 13s - loss: 1.4097 - accuracy: 0.4587 - f1: 0.1128 - auc: 0.8283 - val_loss: 1.7692 - val_accuracy: 0.2997 - val_f1: 0.0078 - val_auc: 0.7241\n",
      "Epoch 3/100\n",
      "193/193 - 15s - loss: 1.2525 - accuracy: 0.5430 - f1: 0.2075 - auc: 0.8770 - val_loss: 1.7587 - val_accuracy: 0.3122 - val_f1: 0.0219 - val_auc: 0.7300\n",
      "Epoch 4/100\n",
      "193/193 - 46s - loss: 1.1458 - accuracy: 0.5906 - f1: 0.2888 - auc: 0.8995 - val_loss: 1.7181 - val_accuracy: 0.3556 - val_f1: 0.0399 - val_auc: 0.7520\n",
      "Epoch 5/100\n",
      "193/193 - 55s - loss: 1.0613 - accuracy: 0.6287 - f1: 0.3690 - auc: 0.9154 - val_loss: 1.7016 - val_accuracy: 0.3668 - val_f1: 0.0661 - val_auc: 0.7608\n",
      "Epoch 6/100\n",
      "193/193 - 41s - loss: 0.9925 - accuracy: 0.6523 - f1: 0.4392 - auc: 0.9269 - val_loss: 1.6724 - val_accuracy: 0.3895 - val_f1: 0.1022 - val_auc: 0.7744\n",
      "Epoch 7/100\n",
      "193/193 - 42s - loss: 0.9371 - accuracy: 0.6840 - f1: 0.5074 - auc: 0.9377 - val_loss: 1.6955 - val_accuracy: 0.3798 - val_f1: 0.1259 - val_auc: 0.7655\n",
      "Epoch 8/100\n",
      "193/193 - 35s - loss: 0.8882 - accuracy: 0.7048 - f1: 0.5616 - auc: 0.9451 - val_loss: 1.6632 - val_accuracy: 0.4010 - val_f1: 0.1663 - val_auc: 0.7793\n",
      "Epoch 9/100\n",
      "193/193 - 37s - loss: 0.8492 - accuracy: 0.7248 - f1: 0.6055 - auc: 0.9512 - val_loss: 1.6489 - val_accuracy: 0.4162 - val_f1: 0.2035 - val_auc: 0.7870\n",
      "Epoch 10/100\n",
      "193/193 - 35s - loss: 0.8142 - accuracy: 0.7433 - f1: 0.6460 - auc: 0.9567 - val_loss: 1.6701 - val_accuracy: 0.4087 - val_f1: 0.2118 - val_auc: 0.7798\n",
      "Epoch 11/100\n",
      "193/193 - 35s - loss: 0.7898 - accuracy: 0.7539 - f1: 0.6671 - auc: 0.9602 - val_loss: 1.6285 - val_accuracy: 0.4379 - val_f1: 0.2736 - val_auc: 0.7985\n",
      "Epoch 12/100\n",
      "193/193 - 39s - loss: 0.7591 - accuracy: 0.7714 - f1: 0.7030 - auc: 0.9655 - val_loss: 1.6221 - val_accuracy: 0.4446 - val_f1: 0.2962 - val_auc: 0.8030\n",
      "Epoch 13/100\n",
      "193/193 - 36s - loss: 0.7362 - accuracy: 0.7849 - f1: 0.7256 - auc: 0.9691 - val_loss: 1.6153 - val_accuracy: 0.4543 - val_f1: 0.3224 - val_auc: 0.8069\n",
      "Epoch 14/100\n",
      "193/193 - 37s - loss: 0.7140 - accuracy: 0.8007 - f1: 0.7498 - auc: 0.9730 - val_loss: 1.6673 - val_accuracy: 0.4245 - val_f1: 0.3008 - val_auc: 0.7943\n",
      "Epoch 15/100\n",
      "193/193 - 30s - loss: 0.6970 - accuracy: 0.8068 - f1: 0.7626 - auc: 0.9749 - val_loss: 1.6281 - val_accuracy: 0.4513 - val_f1: 0.3393 - val_auc: 0.8076\n",
      "Epoch 16/100\n",
      "193/193 - 35s - loss: 0.6800 - accuracy: 0.8203 - f1: 0.7813 - auc: 0.9779 - val_loss: 1.6322 - val_accuracy: 0.4508 - val_f1: 0.3362 - val_auc: 0.8051\n",
      "Epoch 17/100\n",
      "193/193 - 33s - loss: 0.6687 - accuracy: 0.8293 - f1: 0.7943 - auc: 0.9798 - val_loss: 1.6246 - val_accuracy: 0.4631 - val_f1: 0.3665 - val_auc: 0.8122\n",
      "Epoch 00017: early stopping\n"
     ]
    },
    {
     "data": {
      "text/html": [
       "<span style=\"color:#4527A0\"><h1 style=\"font-size:18px\">Trial complete</h1></span>"
      ],
      "text/plain": [
       "<IPython.core.display.HTML object>"
      ]
     },
     "metadata": {},
     "output_type": "display_data"
    },
    {
     "data": {
      "text/html": [
       "<span style=\"color:#4527A0\"><h1 style=\"font-size:18px\">Trial summary</h1></span>"
      ],
      "text/plain": [
       "<IPython.core.display.HTML object>"
      ]
     },
     "metadata": {},
     "output_type": "display_data"
    },
    {
     "data": {
      "text/html": [
       "<span style=\"color:cyan\"> |-Trial ID: e0902e57279070b2cb15f06102a786cf</span>"
      ],
      "text/plain": [
       "<IPython.core.display.HTML object>"
      ]
     },
     "metadata": {},
     "output_type": "display_data"
    },
    {
     "data": {
      "text/html": [
       "<span style=\"color:cyan\"> |-Score: 1.6153396368026733</span>"
      ],
      "text/plain": [
       "<IPython.core.display.HTML object>"
      ]
     },
     "metadata": {},
     "output_type": "display_data"
    },
    {
     "data": {
      "text/html": [
       "<span style=\"color:cyan\"> |-Best step: 0</span>"
      ],
      "text/plain": [
       "<IPython.core.display.HTML object>"
      ]
     },
     "metadata": {},
     "output_type": "display_data"
    },
    {
     "data": {
      "text/html": [
       "<span style=\"color:#7E57C2\"><h2 style=\"font-size:16px\">Hyperparameters:</h2></span>"
      ],
      "text/plain": [
       "<IPython.core.display.HTML object>"
      ]
     },
     "metadata": {},
     "output_type": "display_data"
    },
    {
     "data": {
      "text/html": [
       "<span style=\"color:cyan\"> |-optimizer: adagrad</span>"
      ],
      "text/plain": [
       "<IPython.core.display.HTML object>"
      ]
     },
     "metadata": {},
     "output_type": "display_data"
    },
    {
     "data": {
      "text/html": [
       "<span style=\"color:blue\"> |-units: 256</span>"
      ],
      "text/plain": [
       "<IPython.core.display.HTML object>"
      ]
     },
     "metadata": {},
     "output_type": "display_data"
    },
    {
     "name": "stdout",
     "output_type": "stream",
     "text": [
      "Epoch 1/100\n",
      "193/193 - 32s - loss: 1.7692 - accuracy: 0.3699 - f1: 0.1756 - auc: 0.7760 - val_loss: 1.6378 - val_accuracy: 0.4602 - val_f1: 0.0764 - val_auc: 0.7851\n",
      "Epoch 2/100\n",
      "193/193 - 32s - loss: 1.3465 - accuracy: 0.5903 - f1: 0.4789 - auc: 0.8837 - val_loss: 1.5878 - val_accuracy: 0.4803 - val_f1: 0.3234 - val_auc: 0.8048\n",
      "Epoch 3/100\n",
      "193/193 - 32s - loss: 1.1666 - accuracy: 0.6596 - f1: 0.5964 - auc: 0.9160 - val_loss: 1.6979 - val_accuracy: 0.4699 - val_f1: 0.3871 - val_auc: 0.7869\n",
      "Epoch 4/100\n",
      "193/193 - 33s - loss: 1.0995 - accuracy: 0.6933 - f1: 0.6481 - auc: 0.9299 - val_loss: 1.6996 - val_accuracy: 0.4304 - val_f1: 0.3262 - val_auc: 0.7841\n",
      "Epoch 5/100\n",
      "193/193 - 29s - loss: 1.0089 - accuracy: 0.7112 - f1: 0.6821 - auc: 0.9407 - val_loss: 1.6991 - val_accuracy: 0.4584 - val_f1: 0.3905 - val_auc: 0.8016\n",
      "Epoch 6/100\n",
      "193/193 - 29s - loss: 0.9517 - accuracy: 0.7484 - f1: 0.7263 - auc: 0.9547 - val_loss: 1.8981 - val_accuracy: 0.4307 - val_f1: 0.3708 - val_auc: 0.7411\n",
      "Epoch 00006: early stopping\n"
     ]
    },
    {
     "data": {
      "text/html": [
       "<span style=\"color:#4527A0\"><h1 style=\"font-size:18px\">Trial complete</h1></span>"
      ],
      "text/plain": [
       "<IPython.core.display.HTML object>"
      ]
     },
     "metadata": {},
     "output_type": "display_data"
    },
    {
     "data": {
      "text/html": [
       "<span style=\"color:#4527A0\"><h1 style=\"font-size:18px\">Trial summary</h1></span>"
      ],
      "text/plain": [
       "<IPython.core.display.HTML object>"
      ]
     },
     "metadata": {},
     "output_type": "display_data"
    },
    {
     "data": {
      "text/html": [
       "<span style=\"color:cyan\"> |-Trial ID: 081afcbc697bb1e55b444fc041a4c9a9</span>"
      ],
      "text/plain": [
       "<IPython.core.display.HTML object>"
      ]
     },
     "metadata": {},
     "output_type": "display_data"
    },
    {
     "data": {
      "text/html": [
       "<span style=\"color:cyan\"> |-Score: 1.587753176689148</span>"
      ],
      "text/plain": [
       "<IPython.core.display.HTML object>"
      ]
     },
     "metadata": {},
     "output_type": "display_data"
    },
    {
     "data": {
      "text/html": [
       "<span style=\"color:cyan\"> |-Best step: 0</span>"
      ],
      "text/plain": [
       "<IPython.core.display.HTML object>"
      ]
     },
     "metadata": {},
     "output_type": "display_data"
    },
    {
     "data": {
      "text/html": [
       "<span style=\"color:#7E57C2\"><h2 style=\"font-size:16px\">Hyperparameters:</h2></span>"
      ],
      "text/plain": [
       "<IPython.core.display.HTML object>"
      ]
     },
     "metadata": {},
     "output_type": "display_data"
    },
    {
     "data": {
      "text/html": [
       "<span style=\"color:cyan\"> |-optimizer: rmsprop</span>"
      ],
      "text/plain": [
       "<IPython.core.display.HTML object>"
      ]
     },
     "metadata": {},
     "output_type": "display_data"
    },
    {
     "data": {
      "text/html": [
       "<span style=\"color:blue\"> |-units: 768</span>"
      ],
      "text/plain": [
       "<IPython.core.display.HTML object>"
      ]
     },
     "metadata": {},
     "output_type": "display_data"
    },
    {
     "name": "stdout",
     "output_type": "stream",
     "text": [
      "Epoch 1/100\n",
      "193/193 - 29s - loss: 1.6081 - accuracy: 0.3852 - f1: 0.0923 - auc: 0.7732 - val_loss: 1.7908 - val_accuracy: 0.3027 - val_f1: 0.0246 - val_auc: 0.6994\n",
      "Epoch 2/100\n",
      "193/193 - 25s - loss: 1.2197 - accuracy: 0.5619 - f1: 0.2673 - auc: 0.8827 - val_loss: 1.7364 - val_accuracy: 0.3481 - val_f1: 0.0631 - val_auc: 0.7370\n",
      "Epoch 3/100\n",
      "193/193 - 31s - loss: 1.0505 - accuracy: 0.6423 - f1: 0.4051 - auc: 0.9195 - val_loss: 1.7437 - val_accuracy: 0.3427 - val_f1: 0.1006 - val_auc: 0.7340\n",
      "Epoch 4/100\n",
      "193/193 - 21s - loss: 0.9357 - accuracy: 0.6890 - f1: 0.5094 - auc: 0.9379 - val_loss: 1.6318 - val_accuracy: 0.4148 - val_f1: 0.1741 - val_auc: 0.7857\n",
      "Epoch 5/100\n",
      "193/193 - 17s - loss: 0.8549 - accuracy: 0.7338 - f1: 0.6003 - auc: 0.9526 - val_loss: 2.0361 - val_accuracy: 0.2284 - val_f1: 0.1181 - val_auc: 0.6577\n",
      "Epoch 6/100\n",
      "193/193 - 17s - loss: 0.8021 - accuracy: 0.7501 - f1: 0.6484 - auc: 0.9581 - val_loss: 1.6404 - val_accuracy: 0.4129 - val_f1: 0.2047 - val_auc: 0.7879\n",
      "Epoch 7/100\n",
      "193/193 - 17s - loss: 0.7476 - accuracy: 0.7861 - f1: 0.7061 - auc: 0.9686 - val_loss: 1.6187 - val_accuracy: 0.4252 - val_f1: 0.2516 - val_auc: 0.7998\n",
      "Epoch 8/100\n",
      "193/193 - 16s - loss: 0.7119 - accuracy: 0.8078 - f1: 0.7469 - auc: 0.9743 - val_loss: 1.6180 - val_accuracy: 0.4315 - val_f1: 0.2640 - val_auc: 0.7986\n",
      "Epoch 9/100\n",
      "193/193 - 16s - loss: 0.6787 - accuracy: 0.8262 - f1: 0.7764 - auc: 0.9789 - val_loss: 1.5790 - val_accuracy: 0.4602 - val_f1: 0.3095 - val_auc: 0.8140\n",
      "Epoch 10/100\n",
      "193/193 - 17s - loss: 0.6541 - accuracy: 0.8446 - f1: 0.8049 - auc: 0.9828 - val_loss: 1.5669 - val_accuracy: 0.4750 - val_f1: 0.3399 - val_auc: 0.8195\n",
      "Epoch 11/100\n",
      "193/193 - 17s - loss: 0.6325 - accuracy: 0.8601 - f1: 0.8221 - auc: 0.9859 - val_loss: 1.5776 - val_accuracy: 0.4694 - val_f1: 0.3385 - val_auc: 0.8166\n",
      "Epoch 12/100\n",
      "193/193 - 16s - loss: 0.6155 - accuracy: 0.8733 - f1: 0.8434 - auc: 0.9882 - val_loss: 1.5802 - val_accuracy: 0.4694 - val_f1: 0.3526 - val_auc: 0.8181\n",
      "Epoch 13/100\n",
      "193/193 - 16s - loss: 0.6015 - accuracy: 0.8846 - f1: 0.8577 - auc: 0.9900 - val_loss: 1.5993 - val_accuracy: 0.4670 - val_f1: 0.3539 - val_auc: 0.8153\n",
      "Epoch 14/100\n",
      "193/193 - 16s - loss: 0.5898 - accuracy: 0.8941 - f1: 0.8699 - auc: 0.9916 - val_loss: 1.5770 - val_accuracy: 0.4815 - val_f1: 0.3780 - val_auc: 0.8220\n",
      "Epoch 00014: early stopping\n"
     ]
    },
    {
     "data": {
      "text/html": [
       "<span style=\"color:#4527A0\"><h1 style=\"font-size:18px\">Trial complete</h1></span>"
      ],
      "text/plain": [
       "<IPython.core.display.HTML object>"
      ]
     },
     "metadata": {},
     "output_type": "display_data"
    },
    {
     "data": {
      "text/html": [
       "<span style=\"color:#4527A0\"><h1 style=\"font-size:18px\">Trial summary</h1></span>"
      ],
      "text/plain": [
       "<IPython.core.display.HTML object>"
      ]
     },
     "metadata": {},
     "output_type": "display_data"
    },
    {
     "data": {
      "text/html": [
       "<span style=\"color:cyan\"> |-Trial ID: b502645ecbca02f81fa3b6f3caafbdfd</span>"
      ],
      "text/plain": [
       "<IPython.core.display.HTML object>"
      ]
     },
     "metadata": {},
     "output_type": "display_data"
    },
    {
     "data": {
      "text/html": [
       "<span style=\"color:cyan\"> |-Score: 1.566877007484436</span>"
      ],
      "text/plain": [
       "<IPython.core.display.HTML object>"
      ]
     },
     "metadata": {},
     "output_type": "display_data"
    },
    {
     "data": {
      "text/html": [
       "<span style=\"color:cyan\"> |-Best step: 0</span>"
      ],
      "text/plain": [
       "<IPython.core.display.HTML object>"
      ]
     },
     "metadata": {},
     "output_type": "display_data"
    },
    {
     "data": {
      "text/html": [
       "<span style=\"color:#7E57C2\"><h2 style=\"font-size:16px\">Hyperparameters:</h2></span>"
      ],
      "text/plain": [
       "<IPython.core.display.HTML object>"
      ]
     },
     "metadata": {},
     "output_type": "display_data"
    },
    {
     "data": {
      "text/html": [
       "<span style=\"color:cyan\"> |-optimizer: adagrad</span>"
      ],
      "text/plain": [
       "<IPython.core.display.HTML object>"
      ]
     },
     "metadata": {},
     "output_type": "display_data"
    },
    {
     "data": {
      "text/html": [
       "<span style=\"color:blue\"> |-units: 768</span>"
      ],
      "text/plain": [
       "<IPython.core.display.HTML object>"
      ]
     },
     "metadata": {},
     "output_type": "display_data"
    },
    {
     "name": "stdout",
     "output_type": "stream",
     "text": [
      "Epoch 1/100\n",
      "193/193 - 16s - loss: 1.6071 - accuracy: 0.4214 - f1: 0.1973 - auc: 0.8006 - val_loss: 1.8729 - val_accuracy: 0.2485 - val_f1: 0.0550 - val_auc: 0.6816\n",
      "Epoch 2/100\n",
      "193/193 - 13s - loss: 1.2650 - accuracy: 0.5686 - f1: 0.4503 - auc: 0.8805 - val_loss: 2.0419 - val_accuracy: 0.2862 - val_f1: 0.0750 - val_auc: 0.6404\n",
      "Epoch 3/100\n",
      "193/193 - 13s - loss: 1.1008 - accuracy: 0.6425 - f1: 0.5846 - auc: 0.9163 - val_loss: 1.8266 - val_accuracy: 0.3752 - val_f1: 0.2340 - val_auc: 0.7342\n",
      "Epoch 4/100\n",
      "193/193 - 13s - loss: 1.0308 - accuracy: 0.6784 - f1: 0.6321 - auc: 0.9314 - val_loss: 2.0768 - val_accuracy: 0.2499 - val_f1: 0.1511 - val_auc: 0.6627\n",
      "Epoch 5/100\n",
      "193/193 - 13s - loss: 1.0002 - accuracy: 0.6788 - f1: 0.6406 - auc: 0.9324 - val_loss: 1.7483 - val_accuracy: 0.4595 - val_f1: 0.3870 - val_auc: 0.7853\n",
      "Epoch 6/100\n",
      "193/193 - 13s - loss: 0.9494 - accuracy: 0.7184 - f1: 0.6931 - auc: 0.9433 - val_loss: 1.8333 - val_accuracy: 0.3880 - val_f1: 0.3023 - val_auc: 0.7685\n",
      "Epoch 7/100\n",
      "193/193 - 13s - loss: 0.9491 - accuracy: 0.7186 - f1: 0.6892 - auc: 0.9435 - val_loss: 1.8482 - val_accuracy: 0.3929 - val_f1: 0.3393 - val_auc: 0.7654\n",
      "Epoch 8/100\n",
      "193/193 - 13s - loss: 0.9149 - accuracy: 0.7226 - f1: 0.7006 - auc: 0.9492 - val_loss: 1.8424 - val_accuracy: 0.4428 - val_f1: 0.4056 - val_auc: 0.7776\n",
      "Epoch 9/100\n",
      "193/193 - 13s - loss: 0.8496 - accuracy: 0.7470 - f1: 0.7271 - auc: 0.9554 - val_loss: 1.8464 - val_accuracy: 0.4146 - val_f1: 0.3661 - val_auc: 0.7835\n",
      "Epoch 00009: early stopping\n"
     ]
    },
    {
     "data": {
      "text/html": [
       "<span style=\"color:#4527A0\"><h1 style=\"font-size:18px\">Trial complete</h1></span>"
      ],
      "text/plain": [
       "<IPython.core.display.HTML object>"
      ]
     },
     "metadata": {},
     "output_type": "display_data"
    },
    {
     "data": {
      "text/html": [
       "<span style=\"color:#4527A0\"><h1 style=\"font-size:18px\">Trial summary</h1></span>"
      ],
      "text/plain": [
       "<IPython.core.display.HTML object>"
      ]
     },
     "metadata": {},
     "output_type": "display_data"
    },
    {
     "data": {
      "text/html": [
       "<span style=\"color:cyan\"> |-Trial ID: 21922b5933d840255d4f9cae7342cf3c</span>"
      ],
      "text/plain": [
       "<IPython.core.display.HTML object>"
      ]
     },
     "metadata": {},
     "output_type": "display_data"
    },
    {
     "data": {
      "text/html": [
       "<span style=\"color:cyan\"> |-Score: 1.7483042478561401</span>"
      ],
      "text/plain": [
       "<IPython.core.display.HTML object>"
      ]
     },
     "metadata": {},
     "output_type": "display_data"
    },
    {
     "data": {
      "text/html": [
       "<span style=\"color:cyan\"> |-Best step: 0</span>"
      ],
      "text/plain": [
       "<IPython.core.display.HTML object>"
      ]
     },
     "metadata": {},
     "output_type": "display_data"
    },
    {
     "data": {
      "text/html": [
       "<span style=\"color:#7E57C2\"><h2 style=\"font-size:16px\">Hyperparameters:</h2></span>"
      ],
      "text/plain": [
       "<IPython.core.display.HTML object>"
      ]
     },
     "metadata": {},
     "output_type": "display_data"
    },
    {
     "data": {
      "text/html": [
       "<span style=\"color:cyan\"> |-optimizer: adam</span>"
      ],
      "text/plain": [
       "<IPython.core.display.HTML object>"
      ]
     },
     "metadata": {},
     "output_type": "display_data"
    },
    {
     "data": {
      "text/html": [
       "<span style=\"color:blue\"> |-units: 256</span>"
      ],
      "text/plain": [
       "<IPython.core.display.HTML object>"
      ]
     },
     "metadata": {},
     "output_type": "display_data"
    },
    {
     "name": "stdout",
     "output_type": "stream",
     "text": [
      "Epoch 1/100\n",
      "193/193 - 24s - loss: 1.6572 - accuracy: 0.3921 - f1: 0.1706 - auc: 0.7914 - val_loss: 2.0401 - val_accuracy: 0.1682 - val_f1: 0.0369 - val_auc: 0.6058\n",
      "Epoch 2/100\n",
      "193/193 - 21s - loss: 1.2794 - accuracy: 0.5870 - f1: 0.4666 - auc: 0.8904 - val_loss: 1.6296 - val_accuracy: 0.4755 - val_f1: 0.3438 - val_auc: 0.8003\n",
      "Epoch 3/100\n",
      "193/193 - 20s - loss: 1.1613 - accuracy: 0.6504 - f1: 0.5747 - auc: 0.9136 - val_loss: 2.0009 - val_accuracy: 0.2820 - val_f1: 0.1592 - val_auc: 0.6955\n",
      "Epoch 4/100\n",
      "193/193 - 22s - loss: 1.0400 - accuracy: 0.6932 - f1: 0.6498 - auc: 0.9350 - val_loss: 1.6556 - val_accuracy: 0.4751 - val_f1: 0.3912 - val_auc: 0.8089\n",
      "Epoch 5/100\n",
      "193/193 - 20s - loss: 0.9901 - accuracy: 0.7169 - f1: 0.6908 - auc: 0.9450 - val_loss: 1.6590 - val_accuracy: 0.4401 - val_f1: 0.3422 - val_auc: 0.8088\n",
      "Epoch 6/100\n",
      "193/193 - 22s - loss: 0.8953 - accuracy: 0.7503 - f1: 0.7372 - auc: 0.9568 - val_loss: 1.9384 - val_accuracy: 0.3785 - val_f1: 0.3321 - val_auc: 0.7597\n",
      "Epoch 00006: early stopping\n"
     ]
    },
    {
     "data": {
      "text/html": [
       "<span style=\"color:#4527A0\"><h1 style=\"font-size:18px\">Trial complete</h1></span>"
      ],
      "text/plain": [
       "<IPython.core.display.HTML object>"
      ]
     },
     "metadata": {},
     "output_type": "display_data"
    },
    {
     "data": {
      "text/html": [
       "<span style=\"color:#4527A0\"><h1 style=\"font-size:18px\">Trial summary</h1></span>"
      ],
      "text/plain": [
       "<IPython.core.display.HTML object>"
      ]
     },
     "metadata": {},
     "output_type": "display_data"
    },
    {
     "data": {
      "text/html": [
       "<span style=\"color:cyan\"> |-Trial ID: 133a66438f69e8091966fe4825d0c146</span>"
      ],
      "text/plain": [
       "<IPython.core.display.HTML object>"
      ]
     },
     "metadata": {},
     "output_type": "display_data"
    },
    {
     "data": {
      "text/html": [
       "<span style=\"color:cyan\"> |-Score: 1.6296120882034302</span>"
      ],
      "text/plain": [
       "<IPython.core.display.HTML object>"
      ]
     },
     "metadata": {},
     "output_type": "display_data"
    },
    {
     "data": {
      "text/html": [
       "<span style=\"color:cyan\"> |-Best step: 0</span>"
      ],
      "text/plain": [
       "<IPython.core.display.HTML object>"
      ]
     },
     "metadata": {},
     "output_type": "display_data"
    },
    {
     "data": {
      "text/html": [
       "<span style=\"color:#7E57C2\"><h2 style=\"font-size:16px\">Hyperparameters:</h2></span>"
      ],
      "text/plain": [
       "<IPython.core.display.HTML object>"
      ]
     },
     "metadata": {},
     "output_type": "display_data"
    },
    {
     "data": {
      "text/html": [
       "<span style=\"color:cyan\"> |-optimizer: adam</span>"
      ],
      "text/plain": [
       "<IPython.core.display.HTML object>"
      ]
     },
     "metadata": {},
     "output_type": "display_data"
    },
    {
     "data": {
      "text/html": [
       "<span style=\"color:blue\"> |-units: 1024</span>"
      ],
      "text/plain": [
       "<IPython.core.display.HTML object>"
      ]
     },
     "metadata": {},
     "output_type": "display_data"
    },
    {
     "name": "stdout",
     "output_type": "stream",
     "text": [
      "INFO:tensorflow:Oracle triggered exit\n"
     ]
    }
   ],
   "source": [
    "# Keras-tuner setup\n",
    "tuner = kt.RandomSearch(\n",
    "    build_model,\n",
    "    objective=\"val_loss\",\n",
    "    max_trials=48,\n",
    "    executions_per_trial=1,\n",
    "    seed=1337,\n",
    "    project_name=\"Tuner_search\",\n",
    "    overwrite=True,\n",
    ")\n",
    "\n",
    "# Check the defined hyperparameter search space\n",
    "tuner.search_space_summary()\n",
    "\n",
    "# Set early stoppping to patience 4\n",
    "es = tf.keras.callbacks.EarlyStopping(monitor=\"val_loss\", verbose=1, patience=4)\n",
    "\n",
    "# Do random serach for optimal hyperparameters\n",
    "tuner.search(\n",
    "    seq_train_features,\n",
    "    seq_train_labels,\n",
    "    sample_weight=samples_weights,\n",
    "    epochs=100,\n",
    "    validation_data=(seq_val_features, seq_val_labels),\n",
    "    callbacks=[es],\n",
    "    verbose=2,\n",
    ")"
   ]
  },
  {
   "cell_type": "markdown",
   "metadata": {},
   "source": [
    "# Build optimal HP model"
   ]
  },
  {
   "cell_type": "code",
   "execution_count": 11,
   "metadata": {
    "ExecuteTime": {
     "end_time": "2020-10-04T17:39:44.932922Z",
     "start_time": "2020-10-04T17:39:44.857125Z"
    },
    "execution": {
     "iopub.execute_input": "2020-11-09T15:56:26.346172Z",
     "iopub.status.busy": "2020-11-09T15:56:26.345174Z",
     "iopub.status.idle": "2020-11-09T15:56:26.418169Z",
     "shell.execute_reply": "2020-11-09T15:56:26.418169Z",
     "shell.execute_reply.started": "2020-11-09T15:56:26.345174Z"
    }
   },
   "outputs": [
    {
     "data": {
      "text/html": [
       "<span style=\"color:#4527A0\"><h1 style=\"font-size:18px\">Results summary</h1></span>"
      ],
      "text/plain": [
       "<IPython.core.display.HTML object>"
      ]
     },
     "metadata": {},
     "output_type": "display_data"
    },
    {
     "data": {
      "text/html": [
       "<span style=\"color:cyan\"> |-Results in .\\Tuner_search</span>"
      ],
      "text/plain": [
       "<IPython.core.display.HTML object>"
      ]
     },
     "metadata": {},
     "output_type": "display_data"
    },
    {
     "data": {
      "text/html": [
       "<span style=\"color:cyan\"> |-Showing 10 best trials</span>"
      ],
      "text/plain": [
       "<IPython.core.display.HTML object>"
      ]
     },
     "metadata": {},
     "output_type": "display_data"
    },
    {
     "data": {
      "text/html": [
       "<span style=\"color:cyan\"> |-Objective(name='val_loss', direction='min')</span>"
      ],
      "text/plain": [
       "<IPython.core.display.HTML object>"
      ]
     },
     "metadata": {},
     "output_type": "display_data"
    },
    {
     "data": {
      "text/html": [
       "<span style=\"color:#4527A0\"><h1 style=\"font-size:18px\">Trial summary</h1></span>"
      ],
      "text/plain": [
       "<IPython.core.display.HTML object>"
      ]
     },
     "metadata": {},
     "output_type": "display_data"
    },
    {
     "data": {
      "text/html": [
       "<span style=\"color:cyan\"> |-Trial ID: b502645ecbca02f81fa3b6f3caafbdfd</span>"
      ],
      "text/plain": [
       "<IPython.core.display.HTML object>"
      ]
     },
     "metadata": {},
     "output_type": "display_data"
    },
    {
     "data": {
      "text/html": [
       "<span style=\"color:cyan\"> |-Score: 1.566877007484436</span>"
      ],
      "text/plain": [
       "<IPython.core.display.HTML object>"
      ]
     },
     "metadata": {},
     "output_type": "display_data"
    },
    {
     "data": {
      "text/html": [
       "<span style=\"color:cyan\"> |-Best step: 0</span>"
      ],
      "text/plain": [
       "<IPython.core.display.HTML object>"
      ]
     },
     "metadata": {},
     "output_type": "display_data"
    },
    {
     "data": {
      "text/html": [
       "<span style=\"color:#7E57C2\"><h2 style=\"font-size:16px\">Hyperparameters:</h2></span>"
      ],
      "text/plain": [
       "<IPython.core.display.HTML object>"
      ]
     },
     "metadata": {},
     "output_type": "display_data"
    },
    {
     "data": {
      "text/html": [
       "<span style=\"color:cyan\"> |-optimizer: adagrad</span>"
      ],
      "text/plain": [
       "<IPython.core.display.HTML object>"
      ]
     },
     "metadata": {},
     "output_type": "display_data"
    },
    {
     "data": {
      "text/html": [
       "<span style=\"color:blue\"> |-units: 768</span>"
      ],
      "text/plain": [
       "<IPython.core.display.HTML object>"
      ]
     },
     "metadata": {},
     "output_type": "display_data"
    },
    {
     "data": {
      "text/html": [
       "<span style=\"color:#4527A0\"><h1 style=\"font-size:18px\">Trial summary</h1></span>"
      ],
      "text/plain": [
       "<IPython.core.display.HTML object>"
      ]
     },
     "metadata": {},
     "output_type": "display_data"
    },
    {
     "data": {
      "text/html": [
       "<span style=\"color:cyan\"> |-Trial ID: 081afcbc697bb1e55b444fc041a4c9a9</span>"
      ],
      "text/plain": [
       "<IPython.core.display.HTML object>"
      ]
     },
     "metadata": {},
     "output_type": "display_data"
    },
    {
     "data": {
      "text/html": [
       "<span style=\"color:cyan\"> |-Score: 1.587753176689148</span>"
      ],
      "text/plain": [
       "<IPython.core.display.HTML object>"
      ]
     },
     "metadata": {},
     "output_type": "display_data"
    },
    {
     "data": {
      "text/html": [
       "<span style=\"color:cyan\"> |-Best step: 0</span>"
      ],
      "text/plain": [
       "<IPython.core.display.HTML object>"
      ]
     },
     "metadata": {},
     "output_type": "display_data"
    },
    {
     "data": {
      "text/html": [
       "<span style=\"color:#7E57C2\"><h2 style=\"font-size:16px\">Hyperparameters:</h2></span>"
      ],
      "text/plain": [
       "<IPython.core.display.HTML object>"
      ]
     },
     "metadata": {},
     "output_type": "display_data"
    },
    {
     "data": {
      "text/html": [
       "<span style=\"color:cyan\"> |-optimizer: rmsprop</span>"
      ],
      "text/plain": [
       "<IPython.core.display.HTML object>"
      ]
     },
     "metadata": {},
     "output_type": "display_data"
    },
    {
     "data": {
      "text/html": [
       "<span style=\"color:blue\"> |-units: 768</span>"
      ],
      "text/plain": [
       "<IPython.core.display.HTML object>"
      ]
     },
     "metadata": {},
     "output_type": "display_data"
    },
    {
     "data": {
      "text/html": [
       "<span style=\"color:#4527A0\"><h1 style=\"font-size:18px\">Trial summary</h1></span>"
      ],
      "text/plain": [
       "<IPython.core.display.HTML object>"
      ]
     },
     "metadata": {},
     "output_type": "display_data"
    },
    {
     "data": {
      "text/html": [
       "<span style=\"color:cyan\"> |-Trial ID: 215069ecf1ed3e7fabccfe7f05772f8f</span>"
      ],
      "text/plain": [
       "<IPython.core.display.HTML object>"
      ]
     },
     "metadata": {},
     "output_type": "display_data"
    },
    {
     "data": {
      "text/html": [
       "<span style=\"color:cyan\"> |-Score: 1.5962730646133423</span>"
      ],
      "text/plain": [
       "<IPython.core.display.HTML object>"
      ]
     },
     "metadata": {},
     "output_type": "display_data"
    },
    {
     "data": {
      "text/html": [
       "<span style=\"color:cyan\"> |-Best step: 0</span>"
      ],
      "text/plain": [
       "<IPython.core.display.HTML object>"
      ]
     },
     "metadata": {},
     "output_type": "display_data"
    },
    {
     "data": {
      "text/html": [
       "<span style=\"color:#7E57C2\"><h2 style=\"font-size:16px\">Hyperparameters:</h2></span>"
      ],
      "text/plain": [
       "<IPython.core.display.HTML object>"
      ]
     },
     "metadata": {},
     "output_type": "display_data"
    },
    {
     "data": {
      "text/html": [
       "<span style=\"color:cyan\"> |-optimizer: adagrad</span>"
      ],
      "text/plain": [
       "<IPython.core.display.HTML object>"
      ]
     },
     "metadata": {},
     "output_type": "display_data"
    },
    {
     "data": {
      "text/html": [
       "<span style=\"color:blue\"> |-units: 1024</span>"
      ],
      "text/plain": [
       "<IPython.core.display.HTML object>"
      ]
     },
     "metadata": {},
     "output_type": "display_data"
    },
    {
     "data": {
      "text/html": [
       "<span style=\"color:#4527A0\"><h1 style=\"font-size:18px\">Trial summary</h1></span>"
      ],
      "text/plain": [
       "<IPython.core.display.HTML object>"
      ]
     },
     "metadata": {},
     "output_type": "display_data"
    },
    {
     "data": {
      "text/html": [
       "<span style=\"color:cyan\"> |-Trial ID: e0902e57279070b2cb15f06102a786cf</span>"
      ],
      "text/plain": [
       "<IPython.core.display.HTML object>"
      ]
     },
     "metadata": {},
     "output_type": "display_data"
    },
    {
     "data": {
      "text/html": [
       "<span style=\"color:cyan\"> |-Score: 1.6153396368026733</span>"
      ],
      "text/plain": [
       "<IPython.core.display.HTML object>"
      ]
     },
     "metadata": {},
     "output_type": "display_data"
    },
    {
     "data": {
      "text/html": [
       "<span style=\"color:cyan\"> |-Best step: 0</span>"
      ],
      "text/plain": [
       "<IPython.core.display.HTML object>"
      ]
     },
     "metadata": {},
     "output_type": "display_data"
    },
    {
     "data": {
      "text/html": [
       "<span style=\"color:#7E57C2\"><h2 style=\"font-size:16px\">Hyperparameters:</h2></span>"
      ],
      "text/plain": [
       "<IPython.core.display.HTML object>"
      ]
     },
     "metadata": {},
     "output_type": "display_data"
    },
    {
     "data": {
      "text/html": [
       "<span style=\"color:cyan\"> |-optimizer: adagrad</span>"
      ],
      "text/plain": [
       "<IPython.core.display.HTML object>"
      ]
     },
     "metadata": {},
     "output_type": "display_data"
    },
    {
     "data": {
      "text/html": [
       "<span style=\"color:blue\"> |-units: 256</span>"
      ],
      "text/plain": [
       "<IPython.core.display.HTML object>"
      ]
     },
     "metadata": {},
     "output_type": "display_data"
    },
    {
     "data": {
      "text/html": [
       "<span style=\"color:#4527A0\"><h1 style=\"font-size:18px\">Trial summary</h1></span>"
      ],
      "text/plain": [
       "<IPython.core.display.HTML object>"
      ]
     },
     "metadata": {},
     "output_type": "display_data"
    },
    {
     "data": {
      "text/html": [
       "<span style=\"color:cyan\"> |-Trial ID: 91334c37e8c64da90596b4cdc2e42b82</span>"
      ],
      "text/plain": [
       "<IPython.core.display.HTML object>"
      ]
     },
     "metadata": {},
     "output_type": "display_data"
    },
    {
     "data": {
      "text/html": [
       "<span style=\"color:cyan\"> |-Score: 1.6241531372070312</span>"
      ],
      "text/plain": [
       "<IPython.core.display.HTML object>"
      ]
     },
     "metadata": {},
     "output_type": "display_data"
    },
    {
     "data": {
      "text/html": [
       "<span style=\"color:cyan\"> |-Best step: 0</span>"
      ],
      "text/plain": [
       "<IPython.core.display.HTML object>"
      ]
     },
     "metadata": {},
     "output_type": "display_data"
    },
    {
     "data": {
      "text/html": [
       "<span style=\"color:#7E57C2\"><h2 style=\"font-size:16px\">Hyperparameters:</h2></span>"
      ],
      "text/plain": [
       "<IPython.core.display.HTML object>"
      ]
     },
     "metadata": {},
     "output_type": "display_data"
    },
    {
     "data": {
      "text/html": [
       "<span style=\"color:cyan\"> |-optimizer: adam</span>"
      ],
      "text/plain": [
       "<IPython.core.display.HTML object>"
      ]
     },
     "metadata": {},
     "output_type": "display_data"
    },
    {
     "data": {
      "text/html": [
       "<span style=\"color:blue\"> |-units: 512</span>"
      ],
      "text/plain": [
       "<IPython.core.display.HTML object>"
      ]
     },
     "metadata": {},
     "output_type": "display_data"
    },
    {
     "data": {
      "text/html": [
       "<span style=\"color:#4527A0\"><h1 style=\"font-size:18px\">Trial summary</h1></span>"
      ],
      "text/plain": [
       "<IPython.core.display.HTML object>"
      ]
     },
     "metadata": {},
     "output_type": "display_data"
    },
    {
     "data": {
      "text/html": [
       "<span style=\"color:cyan\"> |-Trial ID: 133a66438f69e8091966fe4825d0c146</span>"
      ],
      "text/plain": [
       "<IPython.core.display.HTML object>"
      ]
     },
     "metadata": {},
     "output_type": "display_data"
    },
    {
     "data": {
      "text/html": [
       "<span style=\"color:cyan\"> |-Score: 1.6296120882034302</span>"
      ],
      "text/plain": [
       "<IPython.core.display.HTML object>"
      ]
     },
     "metadata": {},
     "output_type": "display_data"
    },
    {
     "data": {
      "text/html": [
       "<span style=\"color:cyan\"> |-Best step: 0</span>"
      ],
      "text/plain": [
       "<IPython.core.display.HTML object>"
      ]
     },
     "metadata": {},
     "output_type": "display_data"
    },
    {
     "data": {
      "text/html": [
       "<span style=\"color:#7E57C2\"><h2 style=\"font-size:16px\">Hyperparameters:</h2></span>"
      ],
      "text/plain": [
       "<IPython.core.display.HTML object>"
      ]
     },
     "metadata": {},
     "output_type": "display_data"
    },
    {
     "data": {
      "text/html": [
       "<span style=\"color:cyan\"> |-optimizer: adam</span>"
      ],
      "text/plain": [
       "<IPython.core.display.HTML object>"
      ]
     },
     "metadata": {},
     "output_type": "display_data"
    },
    {
     "data": {
      "text/html": [
       "<span style=\"color:blue\"> |-units: 1024</span>"
      ],
      "text/plain": [
       "<IPython.core.display.HTML object>"
      ]
     },
     "metadata": {},
     "output_type": "display_data"
    },
    {
     "data": {
      "text/html": [
       "<span style=\"color:#4527A0\"><h1 style=\"font-size:18px\">Trial summary</h1></span>"
      ],
      "text/plain": [
       "<IPython.core.display.HTML object>"
      ]
     },
     "metadata": {},
     "output_type": "display_data"
    },
    {
     "data": {
      "text/html": [
       "<span style=\"color:cyan\"> |-Trial ID: 733f9f6ee51040bcb344d801cb80867c</span>"
      ],
      "text/plain": [
       "<IPython.core.display.HTML object>"
      ]
     },
     "metadata": {},
     "output_type": "display_data"
    },
    {
     "data": {
      "text/html": [
       "<span style=\"color:cyan\"> |-Score: 1.648466944694519</span>"
      ],
      "text/plain": [
       "<IPython.core.display.HTML object>"
      ]
     },
     "metadata": {},
     "output_type": "display_data"
    },
    {
     "data": {
      "text/html": [
       "<span style=\"color:cyan\"> |-Best step: 0</span>"
      ],
      "text/plain": [
       "<IPython.core.display.HTML object>"
      ]
     },
     "metadata": {},
     "output_type": "display_data"
    },
    {
     "data": {
      "text/html": [
       "<span style=\"color:#7E57C2\"><h2 style=\"font-size:16px\">Hyperparameters:</h2></span>"
      ],
      "text/plain": [
       "<IPython.core.display.HTML object>"
      ]
     },
     "metadata": {},
     "output_type": "display_data"
    },
    {
     "data": {
      "text/html": [
       "<span style=\"color:cyan\"> |-optimizer: rmsprop</span>"
      ],
      "text/plain": [
       "<IPython.core.display.HTML object>"
      ]
     },
     "metadata": {},
     "output_type": "display_data"
    },
    {
     "data": {
      "text/html": [
       "<span style=\"color:blue\"> |-units: 1024</span>"
      ],
      "text/plain": [
       "<IPython.core.display.HTML object>"
      ]
     },
     "metadata": {},
     "output_type": "display_data"
    },
    {
     "data": {
      "text/html": [
       "<span style=\"color:#4527A0\"><h1 style=\"font-size:18px\">Trial summary</h1></span>"
      ],
      "text/plain": [
       "<IPython.core.display.HTML object>"
      ]
     },
     "metadata": {},
     "output_type": "display_data"
    },
    {
     "data": {
      "text/html": [
       "<span style=\"color:cyan\"> |-Trial ID: 9e60c5c048607efc5fdca6f87255e4c9</span>"
      ],
      "text/plain": [
       "<IPython.core.display.HTML object>"
      ]
     },
     "metadata": {},
     "output_type": "display_data"
    },
    {
     "data": {
      "text/html": [
       "<span style=\"color:cyan\"> |-Score: 1.650098204612732</span>"
      ],
      "text/plain": [
       "<IPython.core.display.HTML object>"
      ]
     },
     "metadata": {},
     "output_type": "display_data"
    },
    {
     "data": {
      "text/html": [
       "<span style=\"color:cyan\"> |-Best step: 0</span>"
      ],
      "text/plain": [
       "<IPython.core.display.HTML object>"
      ]
     },
     "metadata": {},
     "output_type": "display_data"
    },
    {
     "data": {
      "text/html": [
       "<span style=\"color:#7E57C2\"><h2 style=\"font-size:16px\">Hyperparameters:</h2></span>"
      ],
      "text/plain": [
       "<IPython.core.display.HTML object>"
      ]
     },
     "metadata": {},
     "output_type": "display_data"
    },
    {
     "data": {
      "text/html": [
       "<span style=\"color:cyan\"> |-optimizer: adagrad</span>"
      ],
      "text/plain": [
       "<IPython.core.display.HTML object>"
      ]
     },
     "metadata": {},
     "output_type": "display_data"
    },
    {
     "data": {
      "text/html": [
       "<span style=\"color:blue\"> |-units: 512</span>"
      ],
      "text/plain": [
       "<IPython.core.display.HTML object>"
      ]
     },
     "metadata": {},
     "output_type": "display_data"
    },
    {
     "data": {
      "text/html": [
       "<span style=\"color:#4527A0\"><h1 style=\"font-size:18px\">Trial summary</h1></span>"
      ],
      "text/plain": [
       "<IPython.core.display.HTML object>"
      ]
     },
     "metadata": {},
     "output_type": "display_data"
    },
    {
     "data": {
      "text/html": [
       "<span style=\"color:cyan\"> |-Trial ID: 38ed213b86656495fcc78078f370afcd</span>"
      ],
      "text/plain": [
       "<IPython.core.display.HTML object>"
      ]
     },
     "metadata": {},
     "output_type": "display_data"
    },
    {
     "data": {
      "text/html": [
       "<span style=\"color:cyan\"> |-Score: 1.6683881282806396</span>"
      ],
      "text/plain": [
       "<IPython.core.display.HTML object>"
      ]
     },
     "metadata": {},
     "output_type": "display_data"
    },
    {
     "data": {
      "text/html": [
       "<span style=\"color:cyan\"> |-Best step: 0</span>"
      ],
      "text/plain": [
       "<IPython.core.display.HTML object>"
      ]
     },
     "metadata": {},
     "output_type": "display_data"
    },
    {
     "data": {
      "text/html": [
       "<span style=\"color:#7E57C2\"><h2 style=\"font-size:16px\">Hyperparameters:</h2></span>"
      ],
      "text/plain": [
       "<IPython.core.display.HTML object>"
      ]
     },
     "metadata": {},
     "output_type": "display_data"
    },
    {
     "data": {
      "text/html": [
       "<span style=\"color:cyan\"> |-optimizer: rmsprop</span>"
      ],
      "text/plain": [
       "<IPython.core.display.HTML object>"
      ]
     },
     "metadata": {},
     "output_type": "display_data"
    },
    {
     "data": {
      "text/html": [
       "<span style=\"color:blue\"> |-units: 512</span>"
      ],
      "text/plain": [
       "<IPython.core.display.HTML object>"
      ]
     },
     "metadata": {},
     "output_type": "display_data"
    },
    {
     "data": {
      "text/html": [
       "<span style=\"color:#4527A0\"><h1 style=\"font-size:18px\">Trial summary</h1></span>"
      ],
      "text/plain": [
       "<IPython.core.display.HTML object>"
      ]
     },
     "metadata": {},
     "output_type": "display_data"
    },
    {
     "data": {
      "text/html": [
       "<span style=\"color:cyan\"> |-Trial ID: eb0b1a2e565268e18ea85462cd0e64b3</span>"
      ],
      "text/plain": [
       "<IPython.core.display.HTML object>"
      ]
     },
     "metadata": {},
     "output_type": "display_data"
    },
    {
     "data": {
      "text/html": [
       "<span style=\"color:cyan\"> |-Score: 1.6753164529800415</span>"
      ],
      "text/plain": [
       "<IPython.core.display.HTML object>"
      ]
     },
     "metadata": {},
     "output_type": "display_data"
    },
    {
     "data": {
      "text/html": [
       "<span style=\"color:cyan\"> |-Best step: 0</span>"
      ],
      "text/plain": [
       "<IPython.core.display.HTML object>"
      ]
     },
     "metadata": {},
     "output_type": "display_data"
    },
    {
     "data": {
      "text/html": [
       "<span style=\"color:#7E57C2\"><h2 style=\"font-size:16px\">Hyperparameters:</h2></span>"
      ],
      "text/plain": [
       "<IPython.core.display.HTML object>"
      ]
     },
     "metadata": {},
     "output_type": "display_data"
    },
    {
     "data": {
      "text/html": [
       "<span style=\"color:cyan\"> |-optimizer: adam</span>"
      ],
      "text/plain": [
       "<IPython.core.display.HTML object>"
      ]
     },
     "metadata": {},
     "output_type": "display_data"
    },
    {
     "data": {
      "text/html": [
       "<span style=\"color:blue\"> |-units: 768</span>"
      ],
      "text/plain": [
       "<IPython.core.display.HTML object>"
      ]
     },
     "metadata": {},
     "output_type": "display_data"
    }
   ],
   "source": [
    "tuner.results_summary()"
   ]
  },
  {
   "cell_type": "code",
   "execution_count": 12,
   "metadata": {
    "ExecuteTime": {
     "end_time": "2020-10-04T17:39:44.948879Z",
     "start_time": "2020-10-04T17:39:44.933920Z"
    },
    "execution": {
     "iopub.execute_input": "2020-11-09T15:56:45.772200Z",
     "iopub.status.busy": "2020-11-09T15:56:45.772200Z",
     "iopub.status.idle": "2020-11-09T15:56:45.791199Z",
     "shell.execute_reply": "2020-11-09T15:56:45.791199Z",
     "shell.execute_reply.started": "2020-11-09T15:56:45.772200Z"
    }
   },
   "outputs": [
    {
     "data": {
      "text/plain": [
       "{'optimizer': 'adagrad', 'units': 768}"
      ]
     },
     "execution_count": 12,
     "metadata": {},
     "output_type": "execute_result"
    }
   ],
   "source": [
    "## Grab optimal hyperparameter\n",
    "tuner.oracle.get_best_trials(num_trials=1)[0].hyperparameters.values"
   ]
  },
  {
   "cell_type": "code",
   "execution_count": 16,
   "metadata": {
    "execution": {
     "iopub.execute_input": "2020-11-09T15:57:49.028131Z",
     "iopub.status.busy": "2020-11-09T15:57:49.028131Z",
     "iopub.status.idle": "2020-11-09T15:57:49.044131Z",
     "shell.execute_reply": "2020-11-09T15:57:49.044131Z",
     "shell.execute_reply.started": "2020-11-09T15:57:49.028131Z"
    }
   },
   "outputs": [],
   "source": [
    "def build_opt_model():\n",
    "    model = Sequential(name=\"RNN-LSTM\")\n",
    "    model.add(layers.InputLayer(input_shape=(seq_train_features.shape[1], seq_train_features.shape[2])))\n",
    "    model.add(layers.LSTM(768, return_sequences=True, name=\"LSTM_1\"))\n",
    "    model.add(layers.LayerNormalization())\n",
    "    model.add(layers.LSTM(768, return_sequences=True, name=\"LSTM_2\"))\n",
    "    model.add(layers.Dense(7, activation=\"softmax\", name=\"Dense_Output\"))\n",
    "    model.compile(\n",
    "        optimizer=\"adagrad\",\n",
    "        loss=tf.keras.losses.CategoricalCrossentropy(label_smoothing=0.1),\n",
    "        metrics=[\"accuracy\", f1, \"AUC\"],\n",
    "    )\n",
    "    return model\n",
    "\n",
    "# Other ok models:\n",
    "# 2048 units (layer 1) + 1024 units (layer 2)+ label_smoothing=0.1 (Sequence length: 120)\n",
    "# 1024 units (layer 1) + 512 units (layer 2) (Sequence length: 120)\n",
    "# 2048 units (layer 1) + 1024 units (layer 2) + label_smoothing=0.1 (Sequence length: 60)\n",
    "# 256 units (1 layer) (Sequence length: 60)\n",
    "# 2048 units (1 layer) (Sequence length: 60)"
   ]
  },
  {
   "cell_type": "markdown",
   "metadata": {},
   "source": [
    "# Train + Evaluate model"
   ]
  },
  {
   "cell_type": "markdown",
   "metadata": {},
   "source": [
    "## Best model results"
   ]
  },
  {
   "cell_type": "code",
   "execution_count": 20,
   "metadata": {
    "execution": {
     "iopub.execute_input": "2020-11-09T16:02:36.952216Z",
     "iopub.status.busy": "2020-11-09T16:02:36.952216Z",
     "iopub.status.idle": "2020-11-09T16:02:37.885216Z",
     "shell.execute_reply": "2020-11-09T16:02:37.885216Z",
     "shell.execute_reply.started": "2020-11-09T16:02:36.952216Z"
    }
   },
   "outputs": [
    {
     "name": "stdout",
     "output_type": "stream",
     "text": [
      "Model: \"RNN-LSTM\"\n",
      "_________________________________________________________________\n",
      "Layer (type)                 Output Shape              Param #   \n",
      "=================================================================\n",
      "LSTM_1 (LSTM)                (None, 150, 768)          16518144  \n",
      "_________________________________________________________________\n",
      "layer_normalization_2 (Layer (None, 150, 768)          1536      \n",
      "_________________________________________________________________\n",
      "LSTM_2 (LSTM)                (None, 150, 768)          4721664   \n",
      "_________________________________________________________________\n",
      "Dense_Output (Dense)         (None, 150, 7)            5383      \n",
      "=================================================================\n",
      "Total params: 21,246,727\n",
      "Trainable params: 21,246,727\n",
      "Non-trainable params: 0\n",
      "_________________________________________________________________\n"
     ]
    }
   ],
   "source": [
    "cnn_rnn_LSTM = build_opt_model()\n",
    "cnn_rnn_LSTM.summary()"
   ]
  },
  {
   "cell_type": "code",
   "execution_count": 21,
   "metadata": {
    "execution": {
     "iopub.execute_input": "2020-11-09T16:02:37.887218Z",
     "iopub.status.busy": "2020-11-09T16:02:37.886215Z",
     "iopub.status.idle": "2020-11-09T16:06:36.458961Z",
     "shell.execute_reply": "2020-11-09T16:06:36.458961Z",
     "shell.execute_reply.started": "2020-11-09T16:02:37.887218Z"
    },
    "scrolled": true
   },
   "outputs": [
    {
     "name": "stdout",
     "output_type": "stream",
     "text": [
      "Epoch 1/100\n",
      "193/193 - 17s - loss: 1.6156 - accuracy: 0.3736 - f1: 0.0945 - auc: 0.7554 - val_loss: 1.8250 - val_accuracy: 0.2887 - val_f1: 0.0149 - val_auc: 0.6844\n",
      "Epoch 2/100\n",
      "193/193 - 15s - loss: 1.2334 - accuracy: 0.5463 - f1: 0.2753 - auc: 0.8769 - val_loss: 1.7474 - val_accuracy: 0.3319 - val_f1: 0.0784 - val_auc: 0.7353\n",
      "Epoch 3/100\n",
      "193/193 - 15s - loss: 1.0616 - accuracy: 0.6319 - f1: 0.4134 - auc: 0.9158 - val_loss: 1.6781 - val_accuracy: 0.3762 - val_f1: 0.1291 - val_auc: 0.7691\n",
      "Epoch 4/100\n",
      "193/193 - 15s - loss: 0.9481 - accuracy: 0.6952 - f1: 0.5251 - auc: 0.9388 - val_loss: 1.6821 - val_accuracy: 0.3775 - val_f1: 0.1550 - val_auc: 0.7675\n",
      "Epoch 5/100\n",
      "193/193 - 15s - loss: 0.8673 - accuracy: 0.7302 - f1: 0.6029 - auc: 0.9515 - val_loss: 1.6492 - val_accuracy: 0.4043 - val_f1: 0.1934 - val_auc: 0.7831\n",
      "Epoch 6/100\n",
      "193/193 - 15s - loss: 0.8000 - accuracy: 0.7648 - f1: 0.6705 - auc: 0.9618 - val_loss: 1.6163 - val_accuracy: 0.4301 - val_f1: 0.2460 - val_auc: 0.7990\n",
      "Epoch 7/100\n",
      "193/193 - 15s - loss: 0.7518 - accuracy: 0.7919 - f1: 0.7164 - auc: 0.9697 - val_loss: 1.6679 - val_accuracy: 0.4009 - val_f1: 0.2395 - val_auc: 0.7841\n",
      "Epoch 8/100\n",
      "193/193 - 15s - loss: 0.7118 - accuracy: 0.8121 - f1: 0.7549 - auc: 0.9752 - val_loss: 1.6360 - val_accuracy: 0.4265 - val_f1: 0.2772 - val_auc: 0.7961\n",
      "Epoch 9/100\n",
      "193/193 - 15s - loss: 0.6814 - accuracy: 0.8314 - f1: 0.7848 - auc: 0.9796 - val_loss: 1.6261 - val_accuracy: 0.4344 - val_f1: 0.2992 - val_auc: 0.8022\n",
      "Epoch 10/100\n",
      "193/193 - 15s - loss: 0.6538 - accuracy: 0.8491 - f1: 0.8118 - auc: 0.9836 - val_loss: 1.6490 - val_accuracy: 0.4285 - val_f1: 0.2919 - val_auc: 0.7939\n",
      "Epoch 11/100\n",
      "193/193 - 15s - loss: 0.6345 - accuracy: 0.8621 - f1: 0.8297 - auc: 0.9859 - val_loss: 1.6162 - val_accuracy: 0.4574 - val_f1: 0.3500 - val_auc: 0.8112\n",
      "Epoch 12/100\n",
      "193/193 - 15s - loss: 0.6150 - accuracy: 0.8775 - f1: 0.8483 - auc: 0.9887 - val_loss: 1.6343 - val_accuracy: 0.4476 - val_f1: 0.3385 - val_auc: 0.8044\n",
      "Epoch 13/100\n",
      "193/193 - 15s - loss: 0.5998 - accuracy: 0.8892 - f1: 0.8647 - auc: 0.9906 - val_loss: 1.6600 - val_accuracy: 0.4345 - val_f1: 0.3251 - val_auc: 0.7979\n",
      "Epoch 14/100\n",
      "193/193 - 15s - loss: 0.5871 - accuracy: 0.8982 - f1: 0.8767 - auc: 0.9919 - val_loss: 1.6588 - val_accuracy: 0.4428 - val_f1: 0.3463 - val_auc: 0.8030\n",
      "Epoch 15/100\n",
      "193/193 - 15s - loss: 0.5761 - accuracy: 0.9091 - f1: 0.8893 - auc: 0.9933 - val_loss: 1.6766 - val_accuracy: 0.4381 - val_f1: 0.3453 - val_auc: 0.7994\n",
      "Epoch 16/100\n",
      "193/193 - 15s - loss: 0.5666 - accuracy: 0.9164 - f1: 0.8979 - auc: 0.9943 - val_loss: 1.6577 - val_accuracy: 0.4545 - val_f1: 0.3697 - val_auc: 0.8071\n",
      "Epoch 00016: early stopping\n"
     ]
    }
   ],
   "source": [
    "es = tf.keras.callbacks.EarlyStopping(monitor=\"val_loss\", verbose=1, patience=5)\n",
    "\n",
    "# AW2_norm_minitrain = AW2_norm_minitrain.prefetch(buffer_size=tf.data.experimental.AUTOTUNE)\n",
    "history_best = cnn_rnn_LSTM.fit(\n",
    "    seq_train_features,\n",
    "    seq_train_labels,\n",
    "    sample_weight=samples_weights,\n",
    "    validation_data=(seq_val_features, seq_val_labels),\n",
    "    epochs=100,\n",
    "    callbacks=[es],\n",
    "    verbose=2,\n",
    ")"
   ]
  },
  {
   "cell_type": "code",
   "execution_count": 25,
   "metadata": {
    "execution": {
     "iopub.execute_input": "2020-11-09T16:17:25.095526Z",
     "iopub.status.busy": "2020-11-09T16:17:25.095526Z",
     "iopub.status.idle": "2020-11-09T16:17:28.113523Z",
     "shell.execute_reply": "2020-11-09T16:17:28.113523Z",
     "shell.execute_reply.started": "2020-11-09T16:17:25.095526Z"
    }
   },
   "outputs": [
    {
     "name": "stdout",
     "output_type": "stream",
     "text": [
      "67/67 [==============================] - ETA: 7s - loss: 1.0465 - accuracy: 0.6823 - f1: 0.6077 - auc: 0.949 - ETA: 2s - loss: 0.9558 - accuracy: 0.7289 - f1: 0.6782 - auc: 0.964 - ETA: 2s - loss: 1.0490 - accuracy: 0.6947 - f1: 0.6378 - auc: 0.949 - ETA: 2s - loss: 1.0968 - accuracy: 0.6732 - f1: 0.6267 - auc: 0.940 - ETA: 2s - loss: 0.9743 - accuracy: 0.7428 - f1: 0.7040 - auc: 0.961 - ETA: 2s - loss: 0.8990 - accuracy: 0.7854 - f1: 0.7528 - auc: 0.972 - ETA: 2s - loss: 0.9416 - accuracy: 0.7639 - f1: 0.7229 - auc: 0.966 - ETA: 2s - loss: 0.9762 - accuracy: 0.7421 - f1: 0.6908 - auc: 0.961 - ETA: 2s - loss: 1.0121 - accuracy: 0.7226 - f1: 0.6615 - auc: 0.956 - ETA: 2s - loss: 1.0141 - accuracy: 0.7245 - f1: 0.6604 - auc: 0.955 - ETA: 2s - loss: 1.0108 - accuracy: 0.7287 - f1: 0.6560 - auc: 0.956 - ETA: 2s - loss: 1.0488 - accuracy: 0.7088 - f1: 0.6365 - auc: 0.950 - ETA: 2s - loss: 1.0837 - accuracy: 0.6915 - f1: 0.6141 - auc: 0.943 - ETA: 1s - loss: 1.1639 - accuracy: 0.6479 - f1: 0.5702 - auc: 0.927 - ETA: 1s - loss: 1.1846 - accuracy: 0.6330 - f1: 0.5547 - auc: 0.923 - ETA: 1s - loss: 1.2042 - accuracy: 0.6225 - f1: 0.5365 - auc: 0.919 - ETA: 1s - loss: 1.2261 - accuracy: 0.6135 - f1: 0.5259 - auc: 0.914 - ETA: 1s - loss: 1.2397 - accuracy: 0.6020 - f1: 0.5103 - auc: 0.911 - ETA: 1s - loss: 1.2373 - accuracy: 0.6034 - f1: 0.5097 - auc: 0.912 - ETA: 1s - loss: 1.2690 - accuracy: 0.5861 - f1: 0.4942 - auc: 0.905 - ETA: 1s - loss: 1.3053 - accuracy: 0.5714 - f1: 0.4813 - auc: 0.896 - ETA: 1s - loss: 1.4222 - accuracy: 0.5439 - f1: 0.4579 - auc: 0.866 - ETA: 1s - loss: 1.5045 - accuracy: 0.5208 - f1: 0.4374 - auc: 0.845 - ETA: 0s - loss: 1.4957 - accuracy: 0.5215 - f1: 0.4386 - auc: 0.848 - ETA: 0s - loss: 1.4978 - accuracy: 0.5197 - f1: 0.4361 - auc: 0.847 - ETA: 0s - loss: 1.4939 - accuracy: 0.5196 - f1: 0.4333 - auc: 0.848 - ETA: 0s - loss: 1.4906 - accuracy: 0.5180 - f1: 0.4296 - auc: 0.849 - ETA: 0s - loss: 1.4848 - accuracy: 0.5197 - f1: 0.4312 - auc: 0.850 - ETA: 0s - loss: 1.5216 - accuracy: 0.5068 - f1: 0.4186 - auc: 0.841 - ETA: 0s - loss: 1.5506 - accuracy: 0.4920 - f1: 0.4055 - auc: 0.834 - ETA: 0s - loss: 1.5823 - accuracy: 0.4779 - f1: 0.3925 - auc: 0.826 - ETA: 0s - loss: 1.6153 - accuracy: 0.4667 - f1: 0.3814 - auc: 0.818 - ETA: 0s - loss: 1.6240 - accuracy: 0.4658 - f1: 0.3814 - auc: 0.815 - ETA: 0s - loss: 1.6340 - accuracy: 0.4615 - f1: 0.3777 - auc: 0.813 - ETA: 0s - loss: 1.6577 - accuracy: 0.4545 - f1: 0.3697 - auc: 0.807 - 3s 44ms/step - loss: 1.6577 - accuracy: 0.4545 - f1: 0.3697 - auc: 0.8071\n"
     ]
    }
   ],
   "source": [
    "results = cnn_rnn_LSTM.evaluate(seq_val_features, \n",
    "                                seq_val_labels)"
   ]
  },
  {
   "cell_type": "code",
   "execution_count": 29,
   "metadata": {
    "execution": {
     "iopub.execute_input": "2020-11-09T16:18:05.230737Z",
     "iopub.status.busy": "2020-11-09T16:18:05.229738Z",
     "iopub.status.idle": "2020-11-09T16:18:05.248733Z",
     "shell.execute_reply": "2020-11-09T16:18:05.248733Z",
     "shell.execute_reply.started": "2020-11-09T16:18:05.230737Z"
    }
   },
   "outputs": [
    {
     "data": {
      "text/plain": [
       "{'loss': 1.657660961151123,\n",
       " 'accuracy': 0.454486221075058,\n",
       " 'f1': 0.36967891454696655,\n",
       " 'auc': 0.8071138262748718}"
      ]
     },
     "execution_count": 29,
     "metadata": {},
     "output_type": "execute_result"
    }
   ],
   "source": [
    "dict(zip(cnn_rnn_LSTM.metrics_names, results))"
   ]
  },
  {
   "cell_type": "code",
   "execution_count": 119,
   "metadata": {
    "execution": {
     "iopub.execute_input": "2020-11-09T13:23:49.681477Z",
     "iopub.status.busy": "2020-11-09T13:23:49.681477Z",
     "iopub.status.idle": "2020-11-09T13:23:50.016476Z",
     "shell.execute_reply": "2020-11-09T13:23:50.016476Z",
     "shell.execute_reply.started": "2020-11-09T13:23:49.681477Z"
    }
   },
   "outputs": [
    {
     "data": {
      "image/png": "[encoded data removed]",
      "text/plain": [
       "<Figure size 432x288 with 1 Axes>"
      ]
     },
     "metadata": {
      "needs_background": "light"
     },
     "output_type": "display_data"
    },
    {
     "data": {
      "image/png": "[encoded data removed]",
      "text/plain": [
       "<Figure size 432x288 with 1 Axes>"
      ]
     },
     "metadata": {
      "needs_background": "light"
     },
     "output_type": "display_data"
    },
    {
     "data": {
      "image/png": "[encoded data removed]",
      "text/plain": [
       "<Figure size 432x288 with 1 Axes>"
      ]
     },
     "metadata": {
      "needs_background": "light"
     },
     "output_type": "display_data"
    }
   ],
   "source": [
    "model_hist = history_best.history\n",
    "\n",
    "data_list1 = [model_hist[\"loss\"], model_hist[\"val_loss\"]]\n",
    "data_list2 = [model_hist[\"accuracy\"], model_hist[\"val_accuracy\"]]\n",
    "data_list3 = [model_hist[\"f1\"], model_hist[\"val_f1\"]]\n",
    "labels = [*model_hist.keys()]\n",
    "\n",
    "plot_history(data_list1, [labels[0], labels[4]], title1, y_label1)\n",
    "plot_history(data_list2, [labels[1], labels[5]], title2, y_label2)\n",
    "plot_history(data_list3, [labels[2], labels[6]], title2, y_label2)"
   ]
  },
  {
   "cell_type": "markdown",
   "metadata": {},
   "source": [
    "## Plot the model"
   ]
  },
  {
   "cell_type": "code",
   "execution_count": 8,
   "metadata": {
    "execution": {
     "iopub.execute_input": "2020-11-09T14:24:44.781522Z",
     "iopub.status.busy": "2020-11-09T14:24:44.781522Z",
     "iopub.status.idle": "2020-11-09T14:24:44.936075Z",
     "shell.execute_reply": "2020-11-09T14:24:44.936075Z",
     "shell.execute_reply.started": "2020-11-09T14:24:44.781522Z"
    }
   },
   "outputs": [
    {
     "data": {
      "image/png": "[encoded data removed]",
      "text/plain": [
       "<IPython.core.display.Image object>"
      ]
     },
     "execution_count": 8,
     "metadata": {},
     "output_type": "execute_result"
    }
   ],
   "source": [
    "tf.keras.utils.plot_model(\n",
    "    cnn_rnn_LSTM,\n",
    "    to_file=\"images/best_CNN-LSTM_model.png\",\n",
    "    show_shapes=True,\n",
    "    show_layer_names=True,\n",
    "    rankdir=\"TB\",\n",
    "    expand_nested=False,\n",
    "    dpi=96,\n",
    ")"
   ]
  },
  {
   "cell_type": "markdown",
   "metadata": {
    "execution": {
     "iopub.execute_input": "2020-11-05T21:26:38.779491Z",
     "iopub.status.busy": "2020-11-05T21:26:38.778492Z",
     "iopub.status.idle": "2020-11-05T21:26:38.791493Z",
     "shell.execute_reply": "2020-11-05T21:26:38.790491Z",
     "shell.execute_reply.started": "2020-11-05T21:26:38.779491Z"
    }
   },
   "source": [
    "# Predict on test set\n",
    "1. Create loop which reads feature_data from each video directory\n",
    "2. Predict on these features\n",
    "3. Write predictions to filename.txt"
   ]
  },
  {
   "cell_type": "code",
   "execution_count": null,
   "metadata": {},
   "outputs": [],
   "source": []
  }
 ],
 "metadata": {
  "kernelspec": {
   "display_name": "Python 3",
   "language": "python",
   "name": "python3"
  },
  "language_info": {
   "codemirror_mode": {
    "name": "ipython",
    "version": 3
   },
   "file_extension": ".py",
   "mimetype": "text/x-python",
   "name": "python",
   "nbconvert_exporter": "python",
   "pygments_lexer": "ipython3",
   "version": "3.7.9"
  },
  "output_auto_scroll": true
 },
 "nbformat": 4,
 "nbformat_minor": 4
}
