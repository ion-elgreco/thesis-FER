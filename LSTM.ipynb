{
 "cells": [
  {
   "cell_type": "markdown",
   "metadata": {},
   "source": [
    "## Load/import packages"
   ]
  },
  {
   "cell_type": "code",
   "execution_count": 1,
   "metadata": {
    "execution": {
     "iopub.execute_input": "2020-11-11T21:40:53.164097Z",
     "iopub.status.busy": "2020-11-11T21:40:53.163097Z",
     "iopub.status.idle": "2020-11-11T21:41:16.765813Z",
     "shell.execute_reply": "2020-11-11T21:41:16.765813Z",
     "shell.execute_reply.started": "2020-11-11T21:40:53.164097Z"
    }
   },
   "outputs": [],
   "source": [
    "import json\n",
    "import scipy\n",
    "import numpy as np\n",
    "import tensorflow as tf\n",
    "import matplotlib.pyplot as plt\n",
    "import tensorflow.keras.backend as K\n",
    "import kerastuner as kt\n",
    "\n",
    "from tensorflow.keras import Sequential, layers\n",
    "from tensorflow.keras.losses import CategoricalCrossentropy\n",
    "from sklearn.utils import class_weight\n",
    "\n",
    "from os import listdir\n",
    "from os.path import join, splitext, normpath\n",
    "\n",
    "# Import variables and functions from my own scripts\n",
    "from functions import f1, plot_history, arr_replacevalue\n",
    "from load_features import (\n",
    "    train_features_AW2,\n",
    "    val_features_AW2,\n",
    "    train_labels_AW2,\n",
    "    val_labels_AW2,\n",
    "    labels_reshaper,\n",
    "    features_reshaper,\n",
    ")\n",
    "\n",
    "%matplotlib inline\n",
    "\n",
    "# Limit GPU memory usage\n",
    "for device in tf.config.experimental.list_physical_devices(\"GPU\"):\n",
    "    tf.config.experimental.set_memory_growth(device, True)"
   ]
  },
  {
   "cell_type": "markdown",
   "metadata": {},
   "source": [
    "# Prepare data"
   ]
  },
  {
   "cell_type": "markdown",
   "metadata": {
    "execution": {
     "iopub.execute_input": "2020-11-10T14:56:14.306513Z",
     "iopub.status.busy": "2020-11-10T14:56:14.305513Z",
     "iopub.status.idle": "2020-11-10T14:56:14.312512Z",
     "shell.execute_reply": "2020-11-10T14:56:14.312512Z",
     "shell.execute_reply.started": "2020-11-10T14:56:14.306513Z"
    }
   },
   "source": [
    "## Reshape features, labels\n",
    "The model gets more unstable and validation scores converge later with higher sequence length. Increasing sequence length does not improve the models performance."
   ]
  },
  {
   "cell_type": "code",
   "execution_count": 2,
   "metadata": {
    "execution": {
     "iopub.execute_input": "2020-11-11T21:41:16.766813Z",
     "iopub.status.busy": "2020-11-11T21:41:16.766813Z",
     "iopub.status.idle": "2020-11-11T21:41:23.159812Z",
     "shell.execute_reply": "2020-11-11T21:41:23.159812Z",
     "shell.execute_reply.started": "2020-11-11T21:41:16.766813Z"
    }
   },
   "outputs": [],
   "source": [
    "# Reshape data to specified sequence length\n",
    "length = 60\n",
    "seq_train_features = features_reshaper(train_features_AW2, length)\n",
    "seq_val_features = features_reshaper(val_features_AW2, length)\n",
    "\n",
    "seq_train_labels = labels_reshaper(train_labels_AW2, length)\n",
    "seq_val_labels = labels_reshaper(val_labels_AW2, length)"
   ]
  },
  {
   "cell_type": "markdown",
   "metadata": {},
   "source": [
    "## Compute sample weights"
   ]
  },
  {
   "cell_type": "code",
   "execution_count": 3,
   "metadata": {
    "execution": {
     "iopub.execute_input": "2020-11-11T21:41:23.160813Z",
     "iopub.status.busy": "2020-11-11T21:41:23.160813Z",
     "iopub.status.idle": "2020-11-11T21:41:23.334814Z",
     "shell.execute_reply": "2020-11-11T21:41:23.334814Z",
     "shell.execute_reply.started": "2020-11-11T21:41:23.160813Z"
    }
   },
   "outputs": [
    {
     "name": "stderr",
     "output_type": "stream",
     "text": [
      "C:\\Users\\ion\\anaconda3\\envs\\tf-gpu\\lib\\site-packages\\sklearn\\utils\\validation.py:70: FutureWarning: Pass classes=[0 1 2 3 4 5 6], y=[0 0 0 ... 6 6 6] as keyword args. From version 0.25 passing these as positional arguments will result in an error\n",
      "  FutureWarning)\n"
     ]
    }
   ],
   "source": [
    "def comp_sampleweights(labels):\n",
    "    # Convert one-hot encoded labels back to label integers\n",
    "    train_label_ints = np.argmax(labels, axis=2)\n",
    "\n",
    "    # Compute class weights with sklearn\n",
    "    class_weights = class_weight.compute_class_weight(\n",
    "        \"balanced\", np.unique(train_label_ints), train_label_ints.flatten()\n",
    "    )\n",
    "    d_class_weights = dict(enumerate(class_weights))\n",
    "\n",
    "    # Copy label integer array\n",
    "    arr = train_label_ints.copy()\n",
    "\n",
    "    # Pass a 2D array with shape (samples, sequence_length), to apply a different weight to every timestep of every sample\n",
    "    return arr_replacevalue(arr, d_class_weights)\n",
    "    \n",
    "train_samples_weights = comp_sampleweights(seq_train_labels)   "
   ]
  },
  {
   "cell_type": "markdown",
   "metadata": {},
   "source": [
    "# Build HP tuner model"
   ]
  },
  {
   "cell_type": "code",
   "execution_count": 6,
   "metadata": {
    "execution": {
     "iopub.execute_input": "2020-11-11T21:41:52.653696Z",
     "iopub.status.busy": "2020-11-11T21:41:52.653696Z",
     "iopub.status.idle": "2020-11-11T21:41:52.667695Z",
     "shell.execute_reply": "2020-11-11T21:41:52.667695Z",
     "shell.execute_reply.started": "2020-11-11T21:41:52.653696Z"
    }
   },
   "outputs": [],
   "source": [
    "def build_model(hp):\n",
    "    # Only tune the first layer of hyperparameters\n",
    "    hp_unit = hp.Int(\"units\", min_value=256, max_value=2048, step=256)\n",
    "\n",
    "    model = Sequential(name=\"RNN-LSTM\")\n",
    "    model.add(\n",
    "        layers.InputLayer(\n",
    "            input_shape=(seq_train_features.shape[1], seq_train_features.shape[2])\n",
    "        )\n",
    "    )\n",
    "    model.add(layers.LSTM(hp_unit, return_sequences=True, name=\"LSTM_1\"))\n",
    "    model.add(layers.LayerNormalization())\n",
    "    model.add(layers.LSTM(256, return_sequences=True, name=\"LSTM_2\"))\n",
    "    model.add(layers.Dense(7, activation=\"softmax\", name=\"Dense_Output\"))\n",
    "    model.compile(\n",
    "        optimizer=\"adagrad\",\n",
    "        loss=CategoricalCrossentropy(label_smoothing=0.1),\n",
    "        metrics=[\"accuracy\", f1, \"AUC\"],\n",
    "    )\n",
    "    return model"
   ]
  },
  {
   "cell_type": "markdown",
   "metadata": {},
   "source": [
    "## Hyperparameter tuning"
   ]
  },
  {
   "cell_type": "code",
   "execution_count": 13,
   "metadata": {
    "execution": {
     "iopub.execute_input": "2020-11-12T10:02:10.726859Z",
     "iopub.status.busy": "2020-11-12T10:02:10.726859Z",
     "iopub.status.idle": "2020-11-12T10:02:10.735860Z",
     "shell.execute_reply": "2020-11-12T10:02:10.735860Z",
     "shell.execute_reply.started": "2020-11-12T10:02:10.726859Z"
    }
   },
   "outputs": [],
   "source": [
    "es = tf.keras.callbacks.EarlyStopping(\n",
    "            monitor=\"val_f1\",\n",
    "            verbose=1,\n",
    "            patience=3,\n",
    "            mode=\"max\",\n",
    "            restore_best_weights=True,\n",
    "        )"
   ]
  },
  {
   "cell_type": "code",
   "execution_count": 7,
   "metadata": {
    "execution": {
     "iopub.execute_input": "2020-11-11T21:41:53.493102Z",
     "iopub.status.busy": "2020-11-11T21:41:53.493102Z",
     "iopub.status.idle": "2020-11-12T03:01:55.034736Z",
     "shell.execute_reply": "2020-11-12T03:01:55.034736Z",
     "shell.execute_reply.started": "2020-11-11T21:41:53.493102Z"
    },
    "scrolled": true
   },
   "outputs": [
    {
     "data": {
      "text/html": [
       "<span style=\"color:#4527A0\"><h1 style=\"font-size:18px\">Search space summary</h1></span>"
      ],
      "text/plain": [
       "<IPython.core.display.HTML object>"
      ]
     },
     "metadata": {},
     "output_type": "display_data"
    },
    {
     "data": {
      "text/html": [
       "<span style=\"color:cyan\"> |-Default search space size: 1</span>"
      ],
      "text/plain": [
       "<IPython.core.display.HTML object>"
      ]
     },
     "metadata": {},
     "output_type": "display_data"
    },
    {
     "data": {
      "text/html": [
       "<span style=\"color:#7E57C2\"><h2 style=\"font-size:16px\">units (Int)</h2></span>"
      ],
      "text/plain": [
       "<IPython.core.display.HTML object>"
      ]
     },
     "metadata": {},
     "output_type": "display_data"
    },
    {
     "data": {
      "text/html": [
       "<span style=\"color:cyan\"> |-default: None</span>"
      ],
      "text/plain": [
       "<IPython.core.display.HTML object>"
      ]
     },
     "metadata": {},
     "output_type": "display_data"
    },
    {
     "data": {
      "text/html": [
       "<span style=\"color:blue\"> |-max_value: 2048</span>"
      ],
      "text/plain": [
       "<IPython.core.display.HTML object>"
      ]
     },
     "metadata": {},
     "output_type": "display_data"
    },
    {
     "data": {
      "text/html": [
       "<span style=\"color:cyan\"> |-min_value: 256</span>"
      ],
      "text/plain": [
       "<IPython.core.display.HTML object>"
      ]
     },
     "metadata": {},
     "output_type": "display_data"
    },
    {
     "data": {
      "text/html": [
       "<span style=\"color:blue\"> |-sampling: None</span>"
      ],
      "text/plain": [
       "<IPython.core.display.HTML object>"
      ]
     },
     "metadata": {},
     "output_type": "display_data"
    },
    {
     "data": {
      "text/html": [
       "<span style=\"color:cyan\"> |-step: 256</span>"
      ],
      "text/plain": [
       "<IPython.core.display.HTML object>"
      ]
     },
     "metadata": {},
     "output_type": "display_data"
    },
    {
     "name": "stdout",
     "output_type": "stream",
     "text": [
      "Epoch 1/100\n",
      "481/481 - 25s - loss: 1.4083 - accuracy: 0.4740 - f1: 0.2270 - auc: 0.8317 - val_loss: 1.7661 - val_accuracy: 0.3463 - val_f1: 0.0493 - val_auc: 0.7232\n",
      "Epoch 2/100\n",
      "481/481 - 22s - loss: 1.0051 - accuracy: 0.6646 - f1: 0.5018 - auc: 0.9269 - val_loss: 1.7429 - val_accuracy: 0.3736 - val_f1: 0.1634 - val_auc: 0.7404\n",
      "Epoch 3/100\n",
      "481/481 - 22s - loss: 0.8411 - accuracy: 0.7398 - f1: 0.6494 - auc: 0.9543 - val_loss: 1.6834 - val_accuracy: 0.4149 - val_f1: 0.2458 - val_auc: 0.7746\n",
      "Epoch 4/100\n",
      "481/481 - 22s - loss: 0.7435 - accuracy: 0.7935 - f1: 0.7361 - auc: 0.9703 - val_loss: 1.6879 - val_accuracy: 0.4093 - val_f1: 0.2775 - val_auc: 0.7783\n",
      "Epoch 5/100\n",
      "481/481 - 22s - loss: 0.6803 - accuracy: 0.8324 - f1: 0.7916 - auc: 0.9796 - val_loss: 1.6562 - val_accuracy: 0.4400 - val_f1: 0.3205 - val_auc: 0.7934\n",
      "Epoch 6/100\n",
      "481/481 - 22s - loss: 0.6369 - accuracy: 0.8641 - f1: 0.8330 - auc: 0.9860 - val_loss: 1.6632 - val_accuracy: 0.4423 - val_f1: 0.3293 - val_auc: 0.7932\n",
      "Epoch 7/100\n",
      "481/481 - 22s - loss: 0.6063 - accuracy: 0.8875 - f1: 0.8617 - auc: 0.9898 - val_loss: 1.6628 - val_accuracy: 0.4520 - val_f1: 0.3530 - val_auc: 0.7985\n",
      "Epoch 8/100\n",
      "481/481 - 22s - loss: 0.5848 - accuracy: 0.9069 - f1: 0.8843 - auc: 0.9926 - val_loss: 1.6788 - val_accuracy: 0.4521 - val_f1: 0.3583 - val_auc: 0.7972\n",
      "Epoch 9/100\n",
      "481/481 - 22s - loss: 0.5663 - accuracy: 0.9222 - f1: 0.9032 - auc: 0.9945 - val_loss: 1.6708 - val_accuracy: 0.4579 - val_f1: 0.3681 - val_auc: 0.8004\n",
      "Epoch 10/100\n",
      "481/481 - 22s - loss: 0.5531 - accuracy: 0.9330 - f1: 0.9165 - auc: 0.9959 - val_loss: 1.7079 - val_accuracy: 0.4477 - val_f1: 0.3669 - val_auc: 0.7960\n",
      "Epoch 11/100\n",
      "481/481 - 22s - loss: 0.5416 - accuracy: 0.9427 - f1: 0.9279 - auc: 0.9969 - val_loss: 1.6878 - val_accuracy: 0.4603 - val_f1: 0.3782 - val_auc: 0.7983\n",
      "Epoch 12/100\n",
      "481/481 - 22s - loss: 0.5320 - accuracy: 0.9509 - f1: 0.9373 - auc: 0.9977 - val_loss: 1.7009 - val_accuracy: 0.4602 - val_f1: 0.3825 - val_auc: 0.7983\n",
      "Epoch 13/100\n",
      "481/481 - 22s - loss: 0.5247 - accuracy: 0.9579 - f1: 0.9447 - auc: 0.9982 - val_loss: 1.7272 - val_accuracy: 0.4518 - val_f1: 0.3759 - val_auc: 0.7933\n",
      "Epoch 14/100\n",
      "481/481 - 22s - loss: 0.5188 - accuracy: 0.9631 - f1: 0.9505 - auc: 0.9986 - val_loss: 1.7137 - val_accuracy: 0.4591 - val_f1: 0.3833 - val_auc: 0.7949\n",
      "Epoch 15/100\n",
      "481/481 - 22s - loss: 0.5138 - accuracy: 0.9675 - f1: 0.9553 - auc: 0.9989 - val_loss: 1.7252 - val_accuracy: 0.4559 - val_f1: 0.3772 - val_auc: 0.7903\n",
      "Epoch 16/100\n",
      "481/481 - 22s - loss: 0.5092 - accuracy: 0.9715 - f1: 0.9597 - auc: 0.9991 - val_loss: 1.7396 - val_accuracy: 0.4533 - val_f1: 0.3783 - val_auc: 0.7890\n",
      "Epoch 17/100\n",
      "481/481 - 22s - loss: 0.5053 - accuracy: 0.9748 - f1: 0.9633 - auc: 0.9993 - val_loss: 1.7293 - val_accuracy: 0.4642 - val_f1: 0.3897 - val_auc: 0.7934\n",
      "Epoch 18/100\n",
      "481/481 - 22s - loss: 0.5019 - accuracy: 0.9776 - f1: 0.9664 - auc: 0.9994 - val_loss: 1.7370 - val_accuracy: 0.4638 - val_f1: 0.3922 - val_auc: 0.7930\n",
      "Epoch 19/100\n",
      "481/481 - 22s - loss: 0.4991 - accuracy: 0.9797 - f1: 0.9688 - auc: 0.9995 - val_loss: 1.7354 - val_accuracy: 0.4648 - val_f1: 0.3899 - val_auc: 0.7909\n",
      "Epoch 20/100\n",
      "481/481 - 22s - loss: 0.4965 - accuracy: 0.9818 - f1: 0.9714 - auc: 0.9996 - val_loss: 1.7441 - val_accuracy: 0.4624 - val_f1: 0.3874 - val_auc: 0.7879\n",
      "Epoch 21/100\n",
      "481/481 - 22s - loss: 0.4942 - accuracy: 0.9834 - f1: 0.9732 - auc: 0.9996 - val_loss: 1.7471 - val_accuracy: 0.4628 - val_f1: 0.3897 - val_auc: 0.7895\n",
      "Restoring model weights from the end of the best epoch.\n",
      "Epoch 00021: early stopping\n",
      "Epoch 1/100\n",
      "481/481 - 25s - loss: 1.4162 - accuracy: 0.4822 - f1: 0.2081 - auc: 0.8380 - val_loss: 1.7390 - val_accuracy: 0.3514 - val_f1: 0.0417 - val_auc: 0.7395\n",
      "Epoch 2/100\n",
      "481/481 - 22s - loss: 1.0053 - accuracy: 0.6642 - f1: 0.4892 - auc: 0.9280 - val_loss: 1.6911 - val_accuracy: 0.3993 - val_f1: 0.1620 - val_auc: 0.7640\n",
      "Epoch 3/100\n",
      "481/481 - 22s - loss: 0.8415 - accuracy: 0.7406 - f1: 0.6428 - auc: 0.9558 - val_loss: 1.6580 - val_accuracy: 0.4205 - val_f1: 0.2403 - val_auc: 0.7854\n",
      "Epoch 4/100\n",
      "481/481 - 22s - loss: 0.7403 - accuracy: 0.7934 - f1: 0.7331 - auc: 0.9714 - val_loss: 1.6304 - val_accuracy: 0.4380 - val_f1: 0.2797 - val_auc: 0.7953\n",
      "Epoch 5/100\n",
      "481/481 - 22s - loss: 0.6791 - accuracy: 0.8308 - f1: 0.7877 - auc: 0.9801 - val_loss: 1.6272 - val_accuracy: 0.4525 - val_f1: 0.3168 - val_auc: 0.8018\n",
      "Epoch 6/100\n",
      "481/481 - 22s - loss: 0.6383 - accuracy: 0.8594 - f1: 0.8271 - auc: 0.9855 - val_loss: 1.6206 - val_accuracy: 0.4587 - val_f1: 0.3423 - val_auc: 0.8079\n",
      "Epoch 7/100\n",
      "481/481 - 22s - loss: 0.6092 - accuracy: 0.8824 - f1: 0.8557 - auc: 0.9895 - val_loss: 1.6430 - val_accuracy: 0.4526 - val_f1: 0.3485 - val_auc: 0.8057\n",
      "Epoch 8/100\n",
      "481/481 - 22s - loss: 0.5857 - accuracy: 0.9022 - f1: 0.8796 - auc: 0.9923 - val_loss: 1.6217 - val_accuracy: 0.4707 - val_f1: 0.3733 - val_auc: 0.8120\n",
      "Epoch 9/100\n",
      "481/481 - 22s - loss: 0.5701 - accuracy: 0.9173 - f1: 0.8975 - auc: 0.9942 - val_loss: 1.6557 - val_accuracy: 0.4566 - val_f1: 0.3628 - val_auc: 0.8058\n",
      "Epoch 10/100\n",
      "481/481 - 22s - loss: 0.5557 - accuracy: 0.9288 - f1: 0.9116 - auc: 0.9956 - val_loss: 1.6421 - val_accuracy: 0.4703 - val_f1: 0.3811 - val_auc: 0.8097\n",
      "Epoch 11/100\n",
      "481/481 - 22s - loss: 0.5440 - accuracy: 0.9402 - f1: 0.9243 - auc: 0.9967 - val_loss: 1.6485 - val_accuracy: 0.4722 - val_f1: 0.3842 - val_auc: 0.8088\n",
      "Epoch 12/100\n",
      "481/481 - 22s - loss: 0.5351 - accuracy: 0.9484 - f1: 0.9339 - auc: 0.9974 - val_loss: 1.6643 - val_accuracy: 0.4628 - val_f1: 0.3765 - val_auc: 0.8044\n",
      "Epoch 13/100\n",
      "481/481 - 22s - loss: 0.5276 - accuracy: 0.9544 - f1: 0.9406 - auc: 0.9979 - val_loss: 1.6505 - val_accuracy: 0.4772 - val_f1: 0.3936 - val_auc: 0.8096\n",
      "Epoch 14/100\n",
      "481/481 - 22s - loss: 0.5213 - accuracy: 0.9611 - f1: 0.9478 - auc: 0.9984 - val_loss: 1.6549 - val_accuracy: 0.4775 - val_f1: 0.3943 - val_auc: 0.8082\n",
      "Epoch 15/100\n",
      "481/481 - 22s - loss: 0.5157 - accuracy: 0.9657 - f1: 0.9534 - auc: 0.9987 - val_loss: 1.6549 - val_accuracy: 0.4838 - val_f1: 0.4017 - val_auc: 0.8094\n",
      "Epoch 16/100\n",
      "481/481 - 24s - loss: 0.5112 - accuracy: 0.9700 - f1: 0.9581 - auc: 0.9990 - val_loss: 1.6663 - val_accuracy: 0.4788 - val_f1: 0.3992 - val_auc: 0.8073\n",
      "Epoch 17/100\n",
      "481/481 - 23s - loss: 0.5075 - accuracy: 0.9733 - f1: 0.9619 - auc: 0.9992 - val_loss: 1.6839 - val_accuracy: 0.4695 - val_f1: 0.3895 - val_auc: 0.8022\n",
      "Epoch 18/100\n",
      "481/481 - 25s - loss: 0.5038 - accuracy: 0.9761 - f1: 0.9652 - auc: 0.9993 - val_loss: 1.6658 - val_accuracy: 0.4872 - val_f1: 0.4085 - val_auc: 0.8080\n",
      "Epoch 19/100\n",
      "481/481 - 25s - loss: 0.5007 - accuracy: 0.9788 - f1: 0.9682 - auc: 0.9994 - val_loss: 1.6735 - val_accuracy: 0.4849 - val_f1: 0.4053 - val_auc: 0.8059\n",
      "Epoch 20/100\n",
      "481/481 - 24s - loss: 0.4979 - accuracy: 0.9807 - f1: 0.9707 - auc: 0.9995 - val_loss: 1.6888 - val_accuracy: 0.4774 - val_f1: 0.3994 - val_auc: 0.8017\n",
      "Epoch 21/100\n",
      "481/481 - 23s - loss: 0.4955 - accuracy: 0.9822 - f1: 0.9726 - auc: 0.9996 - val_loss: 1.6784 - val_accuracy: 0.4846 - val_f1: 0.4049 - val_auc: 0.8035\n",
      "Restoring model weights from the end of the best epoch.\n",
      "Epoch 00021: early stopping\n",
      "Epoch 1/100\n",
      "481/481 - 26s - loss: 1.4075 - accuracy: 0.4890 - f1: 0.2121 - auc: 0.8374 - val_loss: 1.7871 - val_accuracy: 0.3271 - val_f1: 0.0527 - val_auc: 0.7150\n",
      "Epoch 2/100\n",
      "481/481 - 23s - loss: 0.9998 - accuracy: 0.6686 - f1: 0.5092 - auc: 0.9282 - val_loss: 1.7315 - val_accuracy: 0.3667 - val_f1: 0.1383 - val_auc: 0.7499\n",
      "Epoch 3/100\n",
      "481/481 - 23s - loss: 0.8313 - accuracy: 0.7464 - f1: 0.6582 - auc: 0.9566 - val_loss: 1.7188 - val_accuracy: 0.3800 - val_f1: 0.1928 - val_auc: 0.7603\n",
      "Epoch 4/100\n",
      "481/481 - 23s - loss: 0.7350 - accuracy: 0.7969 - f1: 0.7417 - auc: 0.9716 - val_loss: 1.6615 - val_accuracy: 0.4229 - val_f1: 0.2784 - val_auc: 0.7879\n",
      "Epoch 5/100\n",
      "481/481 - 23s - loss: 0.6759 - accuracy: 0.8340 - f1: 0.7950 - auc: 0.9805 - val_loss: 1.6591 - val_accuracy: 0.4308 - val_f1: 0.2999 - val_auc: 0.7933\n",
      "Epoch 6/100\n",
      "481/481 - 24s - loss: 0.6329 - accuracy: 0.8647 - f1: 0.8347 - auc: 0.9865 - val_loss: 1.6180 - val_accuracy: 0.4626 - val_f1: 0.3470 - val_auc: 0.8072\n",
      "Epoch 7/100\n",
      "481/481 - 24s - loss: 0.6040 - accuracy: 0.8877 - f1: 0.8628 - auc: 0.9903 - val_loss: 1.6628 - val_accuracy: 0.4446 - val_f1: 0.3363 - val_auc: 0.7986\n",
      "Epoch 8/100\n",
      "481/481 - 24s - loss: 0.5827 - accuracy: 0.9058 - f1: 0.8855 - auc: 0.9928 - val_loss: 1.6419 - val_accuracy: 0.4601 - val_f1: 0.3602 - val_auc: 0.8046\n",
      "Epoch 9/100\n",
      "481/481 - 25s - loss: 0.5658 - accuracy: 0.9212 - f1: 0.9032 - auc: 0.9946 - val_loss: 1.6504 - val_accuracy: 0.4625 - val_f1: 0.3680 - val_auc: 0.8044\n",
      "Epoch 10/100\n",
      "481/481 - 24s - loss: 0.5515 - accuracy: 0.9324 - f1: 0.9168 - auc: 0.9960 - val_loss: 1.6495 - val_accuracy: 0.4644 - val_f1: 0.3700 - val_auc: 0.8041\n",
      "Epoch 11/100\n",
      "481/481 - 23s - loss: 0.5413 - accuracy: 0.9427 - f1: 0.9283 - auc: 0.9970 - val_loss: 1.6462 - val_accuracy: 0.4713 - val_f1: 0.3819 - val_auc: 0.8056\n",
      "Epoch 12/100\n",
      "481/481 - 23s - loss: 0.5326 - accuracy: 0.9508 - f1: 0.9372 - auc: 0.9977 - val_loss: 1.6433 - val_accuracy: 0.4819 - val_f1: 0.3987 - val_auc: 0.8093\n",
      "Epoch 13/100\n",
      "481/481 - 24s - loss: 0.5250 - accuracy: 0.9578 - f1: 0.9448 - auc: 0.9982 - val_loss: 1.6715 - val_accuracy: 0.4609 - val_f1: 0.3735 - val_auc: 0.7994\n",
      "Epoch 14/100\n",
      "481/481 - 25s - loss: 0.5194 - accuracy: 0.9627 - f1: 0.9505 - auc: 0.9986 - val_loss: 1.6549 - val_accuracy: 0.4748 - val_f1: 0.3917 - val_auc: 0.8056\n",
      "Epoch 15/100\n",
      "481/481 - 23s - loss: 0.5140 - accuracy: 0.9670 - f1: 0.9555 - auc: 0.9989 - val_loss: 1.6459 - val_accuracy: 0.4864 - val_f1: 0.4084 - val_auc: 0.8096\n",
      "Epoch 16/100\n",
      "481/481 - 23s - loss: 0.5097 - accuracy: 0.9711 - f1: 0.9601 - auc: 0.9991 - val_loss: 1.6587 - val_accuracy: 0.4779 - val_f1: 0.3975 - val_auc: 0.8051\n",
      "Epoch 17/100\n",
      "481/481 - 23s - loss: 0.5058 - accuracy: 0.9739 - f1: 0.9636 - auc: 0.9993 - val_loss: 1.6609 - val_accuracy: 0.4798 - val_f1: 0.4021 - val_auc: 0.8056\n",
      "Epoch 18/100\n",
      "481/481 - 23s - loss: 0.5023 - accuracy: 0.9768 - f1: 0.9666 - auc: 0.9994 - val_loss: 1.6662 - val_accuracy: 0.4795 - val_f1: 0.4025 - val_auc: 0.8041\n",
      "Restoring model weights from the end of the best epoch.\n",
      "Epoch 00018: early stopping\n",
      "Epoch 1/100\n",
      "481/481 - 26s - loss: 1.4120 - accuracy: 0.4716 - f1: 0.2206 - auc: 0.8288 - val_loss: 1.7495 - val_accuracy: 0.3475 - val_f1: 0.1036 - val_auc: 0.7323\n",
      "Epoch 2/100\n",
      "481/481 - 23s - loss: 1.0025 - accuracy: 0.6681 - f1: 0.5161 - auc: 0.9280 - val_loss: 1.6788 - val_accuracy: 0.4039 - val_f1: 0.2033 - val_auc: 0.7682\n",
      "Epoch 3/100\n",
      "481/481 - 24s - loss: 0.8373 - accuracy: 0.7493 - f1: 0.6598 - auc: 0.9568 - val_loss: 1.6309 - val_accuracy: 0.4411 - val_f1: 0.2801 - val_auc: 0.7928\n",
      "Epoch 4/100\n",
      "481/481 - 25s - loss: 0.7397 - accuracy: 0.7976 - f1: 0.7424 - auc: 0.9714 - val_loss: 1.6625 - val_accuracy: 0.4321 - val_f1: 0.2947 - val_auc: 0.7887\n",
      "Epoch 5/100\n",
      "481/481 - 24s - loss: 0.6775 - accuracy: 0.8357 - f1: 0.7976 - auc: 0.9808 - val_loss: 1.6552 - val_accuracy: 0.4447 - val_f1: 0.3263 - val_auc: 0.7961\n",
      "Epoch 6/100\n",
      "481/481 - 24s - loss: 0.6407 - accuracy: 0.8648 - f1: 0.8354 - auc: 0.9862 - val_loss: 1.6396 - val_accuracy: 0.4569 - val_f1: 0.3451 - val_auc: 0.8013\n",
      "Epoch 7/100\n",
      "481/481 - 23s - loss: 0.6058 - accuracy: 0.8890 - f1: 0.8651 - auc: 0.9902 - val_loss: 1.6685 - val_accuracy: 0.4522 - val_f1: 0.3565 - val_auc: 0.8008\n",
      "Epoch 8/100\n",
      "481/481 - 24s - loss: 0.5831 - accuracy: 0.9076 - f1: 0.8879 - auc: 0.9930 - val_loss: 1.6624 - val_accuracy: 0.4676 - val_f1: 0.3819 - val_auc: 0.8059\n",
      "Epoch 9/100\n",
      "481/481 - 23s - loss: 0.5654 - accuracy: 0.9238 - f1: 0.9059 - auc: 0.9950 - val_loss: 1.6896 - val_accuracy: 0.4546 - val_f1: 0.3724 - val_auc: 0.7998\n",
      "Epoch 10/100\n",
      "481/481 - 24s - loss: 0.5522 - accuracy: 0.9350 - f1: 0.9189 - auc: 0.9961 - val_loss: 1.6700 - val_accuracy: 0.4731 - val_f1: 0.3944 - val_auc: 0.8062\n",
      "Epoch 11/100\n",
      "481/481 - 23s - loss: 0.5404 - accuracy: 0.9457 - f1: 0.9308 - auc: 0.9972 - val_loss: 1.6837 - val_accuracy: 0.4680 - val_f1: 0.3874 - val_auc: 0.8022\n",
      "Epoch 12/100\n",
      "481/481 - 23s - loss: 0.5311 - accuracy: 0.9532 - f1: 0.9393 - auc: 0.9978 - val_loss: 1.6893 - val_accuracy: 0.4753 - val_f1: 0.4001 - val_auc: 0.8046\n",
      "Epoch 13/100\n",
      "481/481 - 23s - loss: 0.5237 - accuracy: 0.9611 - f1: 0.9478 - auc: 0.9984 - val_loss: 1.7012 - val_accuracy: 0.4672 - val_f1: 0.3936 - val_auc: 0.8011\n",
      "Epoch 14/100\n",
      "481/481 - 23s - loss: 0.5174 - accuracy: 0.9664 - f1: 0.9535 - auc: 0.9987 - val_loss: 1.6836 - val_accuracy: 0.4813 - val_f1: 0.4091 - val_auc: 0.8058\n",
      "Epoch 15/100\n",
      "481/481 - 24s - loss: 0.5124 - accuracy: 0.9701 - f1: 0.9581 - auc: 0.9990 - val_loss: 1.6984 - val_accuracy: 0.4759 - val_f1: 0.4041 - val_auc: 0.8020\n",
      "Epoch 16/100\n",
      "481/481 - 24s - loss: 0.5080 - accuracy: 0.9741 - f1: 0.9626 - auc: 0.9992 - val_loss: 1.7071 - val_accuracy: 0.4737 - val_f1: 0.4034 - val_auc: 0.7999\n",
      "Epoch 17/100\n",
      "481/481 - 23s - loss: 0.5042 - accuracy: 0.9769 - f1: 0.9658 - auc: 0.9993 - val_loss: 1.7094 - val_accuracy: 0.4781 - val_f1: 0.4074 - val_auc: 0.8003\n",
      "Restoring model weights from the end of the best epoch.\n",
      "Epoch 00017: early stopping\n",
      "Epoch 1/100\n",
      "481/481 - 25s - loss: 1.4068 - accuracy: 0.4888 - f1: 0.2232 - auc: 0.8364 - val_loss: 1.7464 - val_accuracy: 0.3561 - val_f1: 0.1307 - val_auc: 0.7290\n",
      "Epoch 2/100\n",
      "481/481 - 23s - loss: 0.9978 - accuracy: 0.6702 - f1: 0.5161 - auc: 0.9294 - val_loss: 1.6929 - val_accuracy: 0.3882 - val_f1: 0.1953 - val_auc: 0.7621\n",
      "Epoch 3/100\n",
      "481/481 - 23s - loss: 0.8387 - accuracy: 0.7467 - f1: 0.6569 - auc: 0.9566 - val_loss: 1.6870 - val_accuracy: 0.4023 - val_f1: 0.2523 - val_auc: 0.7695\n",
      "Epoch 4/100\n",
      "481/481 - 23s - loss: 0.7426 - accuracy: 0.7942 - f1: 0.7367 - auc: 0.9710 - val_loss: 1.6912 - val_accuracy: 0.4041 - val_f1: 0.2653 - val_auc: 0.7745\n",
      "Epoch 5/100\n",
      "481/481 - 24s - loss: 0.6818 - accuracy: 0.8294 - f1: 0.7892 - auc: 0.9795 - val_loss: 1.6540 - val_accuracy: 0.4310 - val_f1: 0.3154 - val_auc: 0.7925\n",
      "Epoch 6/100\n",
      "481/481 - 24s - loss: 0.6381 - accuracy: 0.8601 - f1: 0.8298 - auc: 0.9858 - val_loss: 1.6664 - val_accuracy: 0.4304 - val_f1: 0.3254 - val_auc: 0.7931\n",
      "Epoch 7/100\n",
      "481/481 - 24s - loss: 0.6083 - accuracy: 0.8836 - f1: 0.8587 - auc: 0.9897 - val_loss: 1.6602 - val_accuracy: 0.4393 - val_f1: 0.3373 - val_auc: 0.7958\n",
      "Epoch 8/100\n",
      "481/481 - 23s - loss: 0.5856 - accuracy: 0.9020 - f1: 0.8813 - auc: 0.9924 - val_loss: 1.6849 - val_accuracy: 0.4339 - val_f1: 0.3393 - val_auc: 0.7917\n",
      "Epoch 9/100\n",
      "481/481 - 23s - loss: 0.5686 - accuracy: 0.9160 - f1: 0.8976 - auc: 0.9942 - val_loss: 1.6539 - val_accuracy: 0.4586 - val_f1: 0.3676 - val_auc: 0.8037\n",
      "Epoch 10/100\n",
      "481/481 - 24s - loss: 0.5551 - accuracy: 0.9298 - f1: 0.9131 - auc: 0.9957 - val_loss: 1.6863 - val_accuracy: 0.4415 - val_f1: 0.3521 - val_auc: 0.7928\n",
      "Epoch 11/100\n",
      "481/481 - 24s - loss: 0.5443 - accuracy: 0.9387 - f1: 0.9235 - auc: 0.9966 - val_loss: 1.6831 - val_accuracy: 0.4517 - val_f1: 0.3649 - val_auc: 0.7970\n",
      "Epoch 12/100\n",
      "481/481 - 23s - loss: 0.5352 - accuracy: 0.9477 - f1: 0.9332 - auc: 0.9974 - val_loss: 1.6891 - val_accuracy: 0.4552 - val_f1: 0.3702 - val_auc: 0.7969\n",
      "Epoch 13/100\n",
      "481/481 - 25s - loss: 0.5280 - accuracy: 0.9539 - f1: 0.9402 - auc: 0.9979 - val_loss: 1.6821 - val_accuracy: 0.4570 - val_f1: 0.3710 - val_auc: 0.7966\n",
      "Epoch 14/100\n",
      "481/481 - 25s - loss: 0.5213 - accuracy: 0.9601 - f1: 0.9473 - auc: 0.9984 - val_loss: 1.7099 - val_accuracy: 0.4468 - val_f1: 0.3643 - val_auc: 0.7909\n",
      "Epoch 15/100\n",
      "481/481 - 24s - loss: 0.5157 - accuracy: 0.9649 - f1: 0.9528 - auc: 0.9987 - val_loss: 1.7129 - val_accuracy: 0.4498 - val_f1: 0.3678 - val_auc: 0.7905\n",
      "Epoch 16/100\n",
      "481/481 - 24s - loss: 0.5111 - accuracy: 0.9690 - f1: 0.9575 - auc: 0.9989 - val_loss: 1.7141 - val_accuracy: 0.4525 - val_f1: 0.3723 - val_auc: 0.7912\n",
      "Epoch 17/100\n",
      "481/481 - 23s - loss: 0.5072 - accuracy: 0.9725 - f1: 0.9614 - auc: 0.9991 - val_loss: 1.7166 - val_accuracy: 0.4549 - val_f1: 0.3758 - val_auc: 0.7913\n",
      "Epoch 18/100\n",
      "481/481 - 24s - loss: 0.5036 - accuracy: 0.9753 - f1: 0.9646 - auc: 0.9993 - val_loss: 1.7343 - val_accuracy: 0.4485 - val_f1: 0.3699 - val_auc: 0.7865\n",
      "Epoch 19/100\n",
      "481/481 - 23s - loss: 0.5007 - accuracy: 0.9781 - f1: 0.9675 - auc: 0.9994 - val_loss: 1.7276 - val_accuracy: 0.4520 - val_f1: 0.3739 - val_auc: 0.7881\n",
      "Epoch 20/100\n",
      "481/481 - 23s - loss: 0.4980 - accuracy: 0.9797 - f1: 0.9697 - auc: 0.9995 - val_loss: 1.7293 - val_accuracy: 0.4552 - val_f1: 0.3777 - val_auc: 0.7878\n",
      "Epoch 21/100\n",
      "481/481 - 23s - loss: 0.4956 - accuracy: 0.9815 - f1: 0.9717 - auc: 0.9996 - val_loss: 1.7292 - val_accuracy: 0.4587 - val_f1: 0.3814 - val_auc: 0.7896\n",
      "Epoch 22/100\n",
      "481/481 - 24s - loss: 0.4934 - accuracy: 0.9831 - f1: 0.9736 - auc: 0.9996 - val_loss: 1.7384 - val_accuracy: 0.4554 - val_f1: 0.3776 - val_auc: 0.7869\n",
      "Epoch 23/100\n",
      "481/481 - 23s - loss: 0.4914 - accuracy: 0.9846 - f1: 0.9755 - auc: 0.9997 - val_loss: 1.7322 - val_accuracy: 0.4618 - val_f1: 0.3855 - val_auc: 0.7880\n",
      "Epoch 24/100\n",
      "481/481 - 23s - loss: 0.4896 - accuracy: 0.9859 - f1: 0.9770 - auc: 0.9997 - val_loss: 1.7447 - val_accuracy: 0.4504 - val_f1: 0.3731 - val_auc: 0.7811\n",
      "Epoch 25/100\n",
      "481/481 - 26s - loss: 0.4881 - accuracy: 0.9868 - f1: 0.9781 - auc: 0.9998 - val_loss: 1.7474 - val_accuracy: 0.4546 - val_f1: 0.3785 - val_auc: 0.7840\n",
      "Epoch 26/100\n",
      "481/481 - 25s - loss: 0.4866 - accuracy: 0.9878 - f1: 0.9794 - auc: 0.9998 - val_loss: 1.7476 - val_accuracy: 0.4574 - val_f1: 0.3810 - val_auc: 0.7837\n",
      "Restoring model weights from the end of the best epoch.\n",
      "Epoch 00026: early stopping\n"
     ]
    },
    {
     "data": {
      "text/html": [
       "<span style=\"color:#4527A0\"><h1 style=\"font-size:18px\">Trial complete</h1></span>"
      ],
      "text/plain": [
       "<IPython.core.display.HTML object>"
      ]
     },
     "metadata": {},
     "output_type": "display_data"
    },
    {
     "data": {
      "text/html": [
       "<span style=\"color:#4527A0\"><h1 style=\"font-size:18px\">Trial summary</h1></span>"
      ],
      "text/plain": [
       "<IPython.core.display.HTML object>"
      ]
     },
     "metadata": {},
     "output_type": "display_data"
    },
    {
     "data": {
      "text/html": [
       "<span style=\"color:cyan\"> |-Trial ID: addece0c0b843eb73fceb51e56b76501</span>"
      ],
      "text/plain": [
       "<IPython.core.display.HTML object>"
      ]
     },
     "metadata": {},
     "output_type": "display_data"
    },
    {
     "data": {
      "text/html": [
       "<span style=\"color:cyan\"> |-Score: 1.6359166860580445</span>"
      ],
      "text/plain": [
       "<IPython.core.display.HTML object>"
      ]
     },
     "metadata": {},
     "output_type": "display_data"
    },
    {
     "data": {
      "text/html": [
       "<span style=\"color:cyan\"> |-Best step: 0</span>"
      ],
      "text/plain": [
       "<IPython.core.display.HTML object>"
      ]
     },
     "metadata": {},
     "output_type": "display_data"
    },
    {
     "data": {
      "text/html": [
       "<span style=\"color:#7E57C2\"><h2 style=\"font-size:16px\">Hyperparameters:</h2></span>"
      ],
      "text/plain": [
       "<IPython.core.display.HTML object>"
      ]
     },
     "metadata": {},
     "output_type": "display_data"
    },
    {
     "data": {
      "text/html": [
       "<span style=\"color:cyan\"> |-units: 1280</span>"
      ],
      "text/plain": [
       "<IPython.core.display.HTML object>"
      ]
     },
     "metadata": {},
     "output_type": "display_data"
    },
    {
     "name": "stdout",
     "output_type": "stream",
     "text": [
      "Epoch 1/100\n",
      "481/481 - 35s - loss: 1.3865 - accuracy: 0.5022 - f1: 0.2682 - auc: 0.8442 - val_loss: 1.7549 - val_accuracy: 0.3634 - val_f1: 0.1248 - val_auc: 0.7314\n",
      "Epoch 2/100\n",
      "481/481 - 32s - loss: 0.9619 - accuracy: 0.6931 - f1: 0.5709 - auc: 0.9373 - val_loss: 1.7273 - val_accuracy: 0.3869 - val_f1: 0.2116 - val_auc: 0.7570\n",
      "Epoch 3/100\n",
      "481/481 - 33s - loss: 0.7932 - accuracy: 0.7726 - f1: 0.7054 - auc: 0.9644 - val_loss: 1.6798 - val_accuracy: 0.4217 - val_f1: 0.2732 - val_auc: 0.7771\n",
      "Epoch 4/100\n",
      "481/481 - 32s - loss: 0.6985 - accuracy: 0.8248 - f1: 0.7811 - auc: 0.9780 - val_loss: 1.6633 - val_accuracy: 0.4378 - val_f1: 0.3181 - val_auc: 0.7915\n",
      "Epoch 5/100\n",
      "481/481 - 32s - loss: 0.6430 - accuracy: 0.8626 - f1: 0.8334 - auc: 0.9857 - val_loss: 1.6793 - val_accuracy: 0.4330 - val_f1: 0.3208 - val_auc: 0.7885\n",
      "Epoch 6/100\n",
      "481/481 - 32s - loss: 0.6035 - accuracy: 0.8919 - f1: 0.8680 - auc: 0.9907 - val_loss: 1.6564 - val_accuracy: 0.4562 - val_f1: 0.3604 - val_auc: 0.8009\n",
      "Epoch 7/100\n",
      "481/481 - 33s - loss: 0.5771 - accuracy: 0.9142 - f1: 0.8949 - auc: 0.9938 - val_loss: 1.6872 - val_accuracy: 0.4418 - val_f1: 0.3486 - val_auc: 0.7925\n",
      "Epoch 8/100\n",
      "481/481 - 33s - loss: 0.5573 - accuracy: 0.9303 - f1: 0.9137 - auc: 0.9958 - val_loss: 1.6805 - val_accuracy: 0.4536 - val_f1: 0.3670 - val_auc: 0.7971\n",
      "Epoch 9/100\n",
      "481/481 - 33s - loss: 0.5439 - accuracy: 0.9427 - f1: 0.9278 - auc: 0.9970 - val_loss: 1.6729 - val_accuracy: 0.4596 - val_f1: 0.3716 - val_auc: 0.7981\n",
      "Epoch 10/100\n",
      "481/481 - 33s - loss: 0.5332 - accuracy: 0.9525 - f1: 0.9387 - auc: 0.9978 - val_loss: 1.6742 - val_accuracy: 0.4606 - val_f1: 0.3754 - val_auc: 0.7984\n",
      "Epoch 11/100\n",
      "481/481 - 33s - loss: 0.5243 - accuracy: 0.9602 - f1: 0.9473 - auc: 0.9983 - val_loss: 1.6799 - val_accuracy: 0.4608 - val_f1: 0.3793 - val_auc: 0.7987\n",
      "Epoch 12/100\n",
      "481/481 - 34s - loss: 0.5160 - accuracy: 0.9667 - f1: 0.9548 - auc: 0.9988 - val_loss: 1.6738 - val_accuracy: 0.4706 - val_f1: 0.3937 - val_auc: 0.8023\n",
      "Epoch 13/100\n",
      "481/481 - 33s - loss: 0.5097 - accuracy: 0.9717 - f1: 0.9607 - auc: 0.9991 - val_loss: 1.6782 - val_accuracy: 0.4722 - val_f1: 0.3932 - val_auc: 0.8008\n",
      "Epoch 14/100\n",
      "481/481 - 33s - loss: 0.5048 - accuracy: 0.9758 - f1: 0.9652 - auc: 0.9993 - val_loss: 1.6832 - val_accuracy: 0.4709 - val_f1: 0.3931 - val_auc: 0.7994\n",
      "Epoch 15/100\n",
      "481/481 - 33s - loss: 0.5004 - accuracy: 0.9792 - f1: 0.9691 - auc: 0.9994 - val_loss: 1.6939 - val_accuracy: 0.4657 - val_f1: 0.3856 - val_auc: 0.7953\n",
      "Restoring model weights from the end of the best epoch.\n",
      "Epoch 00015: early stopping\n",
      "Epoch 1/100\n",
      "481/481 - 36s - loss: 1.3779 - accuracy: 0.4949 - f1: 0.2622 - auc: 0.8428 - val_loss: 1.7309 - val_accuracy: 0.3678 - val_f1: 0.1114 - val_auc: 0.7417\n",
      "Epoch 2/100\n",
      "481/481 - 33s - loss: 0.9617 - accuracy: 0.6879 - f1: 0.5551 - auc: 0.9364 - val_loss: 1.6919 - val_accuracy: 0.3971 - val_f1: 0.2017 - val_auc: 0.7664\n",
      "Epoch 3/100\n",
      "481/481 - 33s - loss: 0.7962 - accuracy: 0.7649 - f1: 0.6914 - auc: 0.9631 - val_loss: 1.6452 - val_accuracy: 0.4394 - val_f1: 0.2810 - val_auc: 0.7892\n",
      "Epoch 4/100\n",
      "481/481 - 33s - loss: 0.7056 - accuracy: 0.8182 - f1: 0.7736 - auc: 0.9770 - val_loss: 1.6403 - val_accuracy: 0.4442 - val_f1: 0.3062 - val_auc: 0.7944\n",
      "Epoch 5/100\n",
      "481/481 - 33s - loss: 0.6484 - accuracy: 0.8547 - f1: 0.8236 - auc: 0.9846 - val_loss: 1.6237 - val_accuracy: 0.4591 - val_f1: 0.3392 - val_auc: 0.8052\n",
      "Epoch 6/100\n",
      "481/481 - 33s - loss: 0.6091 - accuracy: 0.8846 - f1: 0.8598 - auc: 0.9896 - val_loss: 1.6380 - val_accuracy: 0.4620 - val_f1: 0.3639 - val_auc: 0.8106\n",
      "Epoch 7/100\n",
      "481/481 - 33s - loss: 0.5817 - accuracy: 0.9069 - f1: 0.8874 - auc: 0.9930 - val_loss: 1.6380 - val_accuracy: 0.4732 - val_f1: 0.3784 - val_auc: 0.8080\n",
      "Epoch 8/100\n",
      "481/481 - 33s - loss: 0.5619 - accuracy: 0.9248 - f1: 0.9079 - auc: 0.9951 - val_loss: 1.6359 - val_accuracy: 0.4696 - val_f1: 0.3748 - val_auc: 0.8104\n",
      "Epoch 9/100\n",
      "481/481 - 32s - loss: 0.5473 - accuracy: 0.9367 - f1: 0.9219 - auc: 0.9965 - val_loss: 1.6413 - val_accuracy: 0.4790 - val_f1: 0.3925 - val_auc: 0.8119\n",
      "Epoch 10/100\n",
      "481/481 - 32s - loss: 0.5340 - accuracy: 0.9484 - f1: 0.9348 - auc: 0.9975 - val_loss: 1.6271 - val_accuracy: 0.4927 - val_f1: 0.4088 - val_auc: 0.8155\n",
      "Epoch 11/100\n",
      "481/481 - 32s - loss: 0.5245 - accuracy: 0.9565 - f1: 0.9444 - auc: 0.9982 - val_loss: 1.6528 - val_accuracy: 0.4790 - val_f1: 0.3972 - val_auc: 0.8100\n",
      "Epoch 12/100\n",
      "481/481 - 33s - loss: 0.5172 - accuracy: 0.9632 - f1: 0.9516 - auc: 0.9986 - val_loss: 1.6608 - val_accuracy: 0.4763 - val_f1: 0.3951 - val_auc: 0.8082\n",
      "Epoch 13/100\n",
      "481/481 - 33s - loss: 0.5113 - accuracy: 0.9678 - f1: 0.9571 - auc: 0.9989 - val_loss: 1.6523 - val_accuracy: 0.4848 - val_f1: 0.4040 - val_auc: 0.8097\n",
      "Restoring model weights from the end of the best epoch.\n",
      "Epoch 00013: early stopping\n",
      "Epoch 1/100\n",
      "481/481 - 35s - loss: 1.3767 - accuracy: 0.4904 - f1: 0.2542 - auc: 0.8422 - val_loss: 1.7391 - val_accuracy: 0.3785 - val_f1: 0.1015 - val_auc: 0.7444\n",
      "Epoch 2/100\n",
      "481/481 - 32s - loss: 0.9658 - accuracy: 0.6901 - f1: 0.5512 - auc: 0.9363 - val_loss: 1.7186 - val_accuracy: 0.3835 - val_f1: 0.1588 - val_auc: 0.7591\n",
      "Epoch 3/100\n",
      "481/481 - 32s - loss: 0.8076 - accuracy: 0.7657 - f1: 0.6896 - auc: 0.9623 - val_loss: 1.7210 - val_accuracy: 0.4087 - val_f1: 0.2231 - val_auc: 0.7578\n",
      "Epoch 4/100\n",
      "481/481 - 32s - loss: 0.7107 - accuracy: 0.8169 - f1: 0.7699 - auc: 0.9762 - val_loss: 1.6700 - val_accuracy: 0.4428 - val_f1: 0.2913 - val_auc: 0.7853\n",
      "Epoch 5/100\n",
      "481/481 - 33s - loss: 0.6523 - accuracy: 0.8544 - f1: 0.8213 - auc: 0.9846 - val_loss: 1.6810 - val_accuracy: 0.4350 - val_f1: 0.3013 - val_auc: 0.7882\n",
      "Epoch 6/100\n",
      "481/481 - 33s - loss: 0.6148 - accuracy: 0.8848 - f1: 0.8588 - auc: 0.9896 - val_loss: 1.6456 - val_accuracy: 0.4703 - val_f1: 0.3587 - val_auc: 0.8002\n",
      "Epoch 7/100\n",
      "481/481 - 33s - loss: 0.5865 - accuracy: 0.9074 - f1: 0.8867 - auc: 0.9930 - val_loss: 1.6905 - val_accuracy: 0.4440 - val_f1: 0.3331 - val_auc: 0.7861\n",
      "Epoch 8/100\n",
      "481/481 - 32s - loss: 0.5655 - accuracy: 0.9239 - f1: 0.9056 - auc: 0.9950 - val_loss: 1.6445 - val_accuracy: 0.4758 - val_f1: 0.3723 - val_auc: 0.8038\n",
      "Epoch 9/100\n",
      "481/481 - 32s - loss: 0.5487 - accuracy: 0.9380 - f1: 0.9222 - auc: 0.9966 - val_loss: 1.6862 - val_accuracy: 0.4519 - val_f1: 0.3491 - val_auc: 0.7921\n",
      "Epoch 10/100\n",
      "481/481 - 33s - loss: 0.5370 - accuracy: 0.9482 - f1: 0.9343 - auc: 0.9975 - val_loss: 1.6682 - val_accuracy: 0.4678 - val_f1: 0.3754 - val_auc: 0.7987\n",
      "Epoch 11/100\n",
      "481/481 - 32s - loss: 0.5262 - accuracy: 0.9580 - f1: 0.9445 - auc: 0.9982 - val_loss: 1.6727 - val_accuracy: 0.4692 - val_f1: 0.3761 - val_auc: 0.7974\n",
      "Epoch 12/100\n",
      "481/481 - 32s - loss: 0.5184 - accuracy: 0.9641 - f1: 0.9519 - auc: 0.9987 - val_loss: 1.6637 - val_accuracy: 0.4810 - val_f1: 0.3943 - val_auc: 0.8029\n",
      "Epoch 13/100\n",
      "481/481 - 32s - loss: 0.5120 - accuracy: 0.9693 - f1: 0.9580 - auc: 0.9990 - val_loss: 1.6682 - val_accuracy: 0.4738 - val_f1: 0.3843 - val_auc: 0.7983\n",
      "Epoch 14/100\n",
      "481/481 - 33s - loss: 0.5065 - accuracy: 0.9741 - f1: 0.9633 - auc: 0.9992 - val_loss: 1.6740 - val_accuracy: 0.4774 - val_f1: 0.3919 - val_auc: 0.7989\n",
      "Epoch 15/100\n",
      "481/481 - 33s - loss: 0.5023 - accuracy: 0.9772 - f1: 0.9671 - auc: 0.9994 - val_loss: 1.6694 - val_accuracy: 0.4782 - val_f1: 0.3913 - val_auc: 0.7981\n",
      "Restoring model weights from the end of the best epoch.\n",
      "Epoch 00015: early stopping\n",
      "Epoch 1/100\n",
      "481/481 - 35s - loss: 1.3725 - accuracy: 0.5023 - f1: 0.2679 - auc: 0.8467 - val_loss: 1.7648 - val_accuracy: 0.3500 - val_f1: 0.1191 - val_auc: 0.7233\n",
      "Epoch 2/100\n",
      "481/481 - 32s - loss: 0.9612 - accuracy: 0.6892 - f1: 0.5611 - auc: 0.9358 - val_loss: 1.6796 - val_accuracy: 0.4055 - val_f1: 0.2212 - val_auc: 0.7721\n",
      "Epoch 3/100\n",
      "481/481 - 32s - loss: 0.7986 - accuracy: 0.7653 - f1: 0.6958 - auc: 0.9627 - val_loss: 1.7069 - val_accuracy: 0.4045 - val_f1: 0.2651 - val_auc: 0.7750\n",
      "Epoch 4/100\n",
      "481/481 - 32s - loss: 0.7044 - accuracy: 0.8155 - f1: 0.7715 - auc: 0.9764 - val_loss: 1.6559 - val_accuracy: 0.4339 - val_f1: 0.3054 - val_auc: 0.7920\n",
      "Epoch 5/100\n",
      "481/481 - 33s - loss: 0.6472 - accuracy: 0.8560 - f1: 0.8244 - auc: 0.9847 - val_loss: 1.6616 - val_accuracy: 0.4418 - val_f1: 0.3393 - val_auc: 0.8016\n",
      "Epoch 6/100\n",
      "481/481 - 33s - loss: 0.6090 - accuracy: 0.8854 - f1: 0.8606 - auc: 0.9898 - val_loss: 1.6869 - val_accuracy: 0.4362 - val_f1: 0.3333 - val_auc: 0.7935\n",
      "Epoch 7/100\n",
      "481/481 - 32s - loss: 0.5829 - accuracy: 0.9069 - f1: 0.8865 - auc: 0.9928 - val_loss: 1.6744 - val_accuracy: 0.4515 - val_f1: 0.3541 - val_auc: 0.7991\n",
      "Epoch 8/100\n",
      "481/481 - 32s - loss: 0.5624 - accuracy: 0.9237 - f1: 0.9060 - auc: 0.9949 - val_loss: 1.6675 - val_accuracy: 0.4670 - val_f1: 0.3791 - val_auc: 0.8057\n",
      "Epoch 9/100\n",
      "481/481 - 32s - loss: 0.5479 - accuracy: 0.9365 - f1: 0.9220 - auc: 0.9964 - val_loss: 1.6786 - val_accuracy: 0.4675 - val_f1: 0.3801 - val_auc: 0.8034\n",
      "Epoch 10/100\n",
      "481/481 - 33s - loss: 0.5363 - accuracy: 0.9477 - f1: 0.9338 - auc: 0.9974 - val_loss: 1.6898 - val_accuracy: 0.4733 - val_f1: 0.3938 - val_auc: 0.8061\n",
      "Epoch 11/100\n",
      "481/481 - 33s - loss: 0.5276 - accuracy: 0.9552 - f1: 0.9429 - auc: 0.9980 - val_loss: 1.7035 - val_accuracy: 0.4578 - val_f1: 0.3739 - val_auc: 0.7986\n",
      "Epoch 12/100\n",
      "481/481 - 32s - loss: 0.5185 - accuracy: 0.9624 - f1: 0.9505 - auc: 0.9986 - val_loss: 1.6958 - val_accuracy: 0.4714 - val_f1: 0.3932 - val_auc: 0.8045\n",
      "Epoch 13/100\n",
      "481/481 - 32s - loss: 0.5119 - accuracy: 0.9686 - f1: 0.9576 - auc: 0.9989 - val_loss: 1.6996 - val_accuracy: 0.4692 - val_f1: 0.3898 - val_auc: 0.8012\n",
      "Restoring model weights from the end of the best epoch.\n",
      "Epoch 00013: early stopping\n",
      "Epoch 1/100\n",
      "481/481 - 35s - loss: 1.3706 - accuracy: 0.4978 - f1: 0.2604 - auc: 0.8444 - val_loss: 1.7328 - val_accuracy: 0.3863 - val_f1: 0.1373 - val_auc: 0.7412\n",
      "Epoch 2/100\n",
      "481/481 - 33s - loss: 0.9522 - accuracy: 0.6887 - f1: 0.5671 - auc: 0.9371 - val_loss: 1.7096 - val_accuracy: 0.4005 - val_f1: 0.1898 - val_auc: 0.7599\n",
      "Epoch 3/100\n",
      "481/481 - 33s - loss: 0.7881 - accuracy: 0.7727 - f1: 0.7047 - auc: 0.9644 - val_loss: 1.6695 - val_accuracy: 0.4319 - val_f1: 0.2781 - val_auc: 0.7827\n",
      "Epoch 4/100\n",
      "481/481 - 33s - loss: 0.6977 - accuracy: 0.8229 - f1: 0.7809 - auc: 0.9779 - val_loss: 1.5981 - val_accuracy: 0.4781 - val_f1: 0.3546 - val_auc: 0.8112\n",
      "Epoch 5/100\n",
      "481/481 - 32s - loss: 0.6398 - accuracy: 0.8600 - f1: 0.8317 - auc: 0.9859 - val_loss: 1.6258 - val_accuracy: 0.4659 - val_f1: 0.3504 - val_auc: 0.8053\n",
      "Epoch 6/100\n",
      "481/481 - 32s - loss: 0.6033 - accuracy: 0.8886 - f1: 0.8663 - auc: 0.9906 - val_loss: 1.6371 - val_accuracy: 0.4636 - val_f1: 0.3560 - val_auc: 0.8031\n",
      "Epoch 7/100\n",
      "481/481 - 32s - loss: 0.5766 - accuracy: 0.9113 - f1: 0.8927 - auc: 0.9936 - val_loss: 1.6170 - val_accuracy: 0.4828 - val_f1: 0.3848 - val_auc: 0.8114\n",
      "Epoch 8/100\n",
      "481/481 - 33s - loss: 0.5578 - accuracy: 0.9283 - f1: 0.9118 - auc: 0.9956 - val_loss: 1.6422 - val_accuracy: 0.4784 - val_f1: 0.3882 - val_auc: 0.8082\n",
      "Epoch 9/100\n",
      "481/481 - 32s - loss: 0.5432 - accuracy: 0.9408 - f1: 0.9263 - auc: 0.9969 - val_loss: 1.6373 - val_accuracy: 0.4778 - val_f1: 0.3863 - val_auc: 0.8091\n",
      "Epoch 10/100\n",
      "481/481 - 32s - loss: 0.5313 - accuracy: 0.9506 - f1: 0.9372 - auc: 0.9977 - val_loss: 1.6538 - val_accuracy: 0.4786 - val_f1: 0.3926 - val_auc: 0.8054\n",
      "Epoch 11/100\n",
      "481/481 - 32s - loss: 0.5227 - accuracy: 0.9587 - f1: 0.9462 - auc: 0.9983 - val_loss: 1.6220 - val_accuracy: 0.4965 - val_f1: 0.4123 - val_auc: 0.8145\n",
      "Epoch 12/100\n",
      "481/481 - 32s - loss: 0.5159 - accuracy: 0.9654 - f1: 0.9532 - auc: 0.9987 - val_loss: 1.6393 - val_accuracy: 0.4856 - val_f1: 0.4001 - val_auc: 0.8083\n",
      "Epoch 13/100\n",
      "481/481 - 32s - loss: 0.5093 - accuracy: 0.9710 - f1: 0.9592 - auc: 0.9991 - val_loss: 1.6333 - val_accuracy: 0.4954 - val_f1: 0.4141 - val_auc: 0.8117\n",
      "Epoch 14/100\n",
      "481/481 - 33s - loss: 0.5043 - accuracy: 0.9750 - f1: 0.9639 - auc: 0.9993 - val_loss: 1.6464 - val_accuracy: 0.4907 - val_f1: 0.4108 - val_auc: 0.8092\n",
      "Epoch 15/100\n",
      "481/481 - 33s - loss: 0.5000 - accuracy: 0.9787 - f1: 0.9676 - auc: 0.9994 - val_loss: 1.6466 - val_accuracy: 0.4966 - val_f1: 0.4206 - val_auc: 0.8113\n",
      "Epoch 16/100\n",
      "481/481 - 33s - loss: 0.4965 - accuracy: 0.9813 - f1: 0.9711 - auc: 0.9996 - val_loss: 1.6558 - val_accuracy: 0.4885 - val_f1: 0.4085 - val_auc: 0.8058\n",
      "Epoch 17/100\n",
      "481/481 - 33s - loss: 0.4934 - accuracy: 0.9835 - f1: 0.9740 - auc: 0.9996 - val_loss: 1.6486 - val_accuracy: 0.4946 - val_f1: 0.4178 - val_auc: 0.8093\n",
      "Epoch 18/100\n",
      "481/481 - 32s - loss: 0.4908 - accuracy: 0.9854 - f1: 0.9761 - auc: 0.9997 - val_loss: 1.6465 - val_accuracy: 0.5006 - val_f1: 0.4249 - val_auc: 0.8103\n",
      "Epoch 19/100\n",
      "481/481 - 32s - loss: 0.4885 - accuracy: 0.9871 - f1: 0.9781 - auc: 0.9998 - val_loss: 1.6547 - val_accuracy: 0.4932 - val_f1: 0.4136 - val_auc: 0.8059\n",
      "Epoch 20/100\n",
      "481/481 - 33s - loss: 0.4865 - accuracy: 0.9883 - f1: 0.9796 - auc: 0.9998 - val_loss: 1.6523 - val_accuracy: 0.4972 - val_f1: 0.4192 - val_auc: 0.8074\n",
      "Epoch 21/100\n",
      "481/481 - 33s - loss: 0.4846 - accuracy: 0.9895 - f1: 0.9811 - auc: 0.9998 - val_loss: 1.6586 - val_accuracy: 0.4942 - val_f1: 0.4178 - val_auc: 0.8056\n",
      "Restoring model weights from the end of the best epoch.\n",
      "Epoch 00021: early stopping\n"
     ]
    },
    {
     "data": {
      "text/html": [
       "<span style=\"color:#4527A0\"><h1 style=\"font-size:18px\">Trial complete</h1></span>"
      ],
      "text/plain": [
       "<IPython.core.display.HTML object>"
      ]
     },
     "metadata": {},
     "output_type": "display_data"
    },
    {
     "data": {
      "text/html": [
       "<span style=\"color:#4527A0\"><h1 style=\"font-size:18px\">Trial summary</h1></span>"
      ],
      "text/plain": [
       "<IPython.core.display.HTML object>"
      ]
     },
     "metadata": {},
     "output_type": "display_data"
    },
    {
     "data": {
      "text/html": [
       "<span style=\"color:cyan\"> |-Trial ID: c4f44622cbf23c8358677a7496eaf699</span>"
      ],
      "text/plain": [
       "<IPython.core.display.HTML object>"
      ]
     },
     "metadata": {},
     "output_type": "display_data"
    },
    {
     "data": {
      "text/html": [
       "<span style=\"color:cyan\"> |-Score: 1.6357292890548707</span>"
      ],
      "text/plain": [
       "<IPython.core.display.HTML object>"
      ]
     },
     "metadata": {},
     "output_type": "display_data"
    },
    {
     "data": {
      "text/html": [
       "<span style=\"color:cyan\"> |-Best step: 0</span>"
      ],
      "text/plain": [
       "<IPython.core.display.HTML object>"
      ]
     },
     "metadata": {},
     "output_type": "display_data"
    },
    {
     "data": {
      "text/html": [
       "<span style=\"color:#7E57C2\"><h2 style=\"font-size:16px\">Hyperparameters:</h2></span>"
      ],
      "text/plain": [
       "<IPython.core.display.HTML object>"
      ]
     },
     "metadata": {},
     "output_type": "display_data"
    },
    {
     "data": {
      "text/html": [
       "<span style=\"color:cyan\"> |-units: 1792</span>"
      ],
      "text/plain": [
       "<IPython.core.display.HTML object>"
      ]
     },
     "metadata": {},
     "output_type": "display_data"
    },
    {
     "name": "stdout",
     "output_type": "stream",
     "text": [
      "Epoch 1/100\n",
      "481/481 - 23s - loss: 1.4575 - accuracy: 0.4608 - f1: 0.1797 - auc: 0.8138 - val_loss: 1.7978 - val_accuracy: 0.3000 - val_f1: 0.0316 - val_auc: 0.7090\n",
      "Epoch 2/100\n",
      "481/481 - 21s - loss: 1.0644 - accuracy: 0.6400 - f1: 0.4419 - auc: 0.9153 - val_loss: 1.7531 - val_accuracy: 0.3568 - val_f1: 0.1021 - val_auc: 0.7372\n",
      "Epoch 3/100\n",
      "481/481 - 20s - loss: 0.8987 - accuracy: 0.7143 - f1: 0.5879 - auc: 0.9447 - val_loss: 1.7312 - val_accuracy: 0.3722 - val_f1: 0.1550 - val_auc: 0.7517\n",
      "Epoch 4/100\n",
      "481/481 - 20s - loss: 0.8011 - accuracy: 0.7619 - f1: 0.6766 - auc: 0.9609 - val_loss: 1.7115 - val_accuracy: 0.3956 - val_f1: 0.2224 - val_auc: 0.7693\n",
      "Epoch 5/100\n",
      "481/481 - 20s - loss: 0.7329 - accuracy: 0.7992 - f1: 0.7421 - auc: 0.9717 - val_loss: 1.6862 - val_accuracy: 0.4160 - val_f1: 0.2631 - val_auc: 0.7799\n",
      "Epoch 6/100\n",
      "481/481 - 20s - loss: 0.6830 - accuracy: 0.8279 - f1: 0.7856 - auc: 0.9788 - val_loss: 1.6684 - val_accuracy: 0.4347 - val_f1: 0.3035 - val_auc: 0.7892\n",
      "Epoch 7/100\n",
      "481/481 - 20s - loss: 0.6489 - accuracy: 0.8528 - f1: 0.8196 - auc: 0.9841 - val_loss: 1.7017 - val_accuracy: 0.4236 - val_f1: 0.2994 - val_auc: 0.7818\n",
      "Epoch 8/100\n",
      "481/481 - 20s - loss: 0.6222 - accuracy: 0.8722 - f1: 0.8446 - auc: 0.9877 - val_loss: 1.6893 - val_accuracy: 0.4347 - val_f1: 0.3278 - val_auc: 0.7897\n",
      "Epoch 9/100\n",
      "481/481 - 21s - loss: 0.6016 - accuracy: 0.8892 - f1: 0.8647 - auc: 0.9905 - val_loss: 1.6896 - val_accuracy: 0.4385 - val_f1: 0.3340 - val_auc: 0.7899\n",
      "Epoch 10/100\n",
      "481/481 - 20s - loss: 0.5854 - accuracy: 0.9032 - f1: 0.8818 - auc: 0.9925 - val_loss: 1.6866 - val_accuracy: 0.4564 - val_f1: 0.3616 - val_auc: 0.7950\n",
      "Epoch 11/100\n",
      "481/481 - 20s - loss: 0.5721 - accuracy: 0.9154 - f1: 0.8962 - auc: 0.9941 - val_loss: 1.6895 - val_accuracy: 0.4538 - val_f1: 0.3620 - val_auc: 0.7943\n",
      "Epoch 12/100\n",
      "481/481 - 20s - loss: 0.5613 - accuracy: 0.9248 - f1: 0.9073 - auc: 0.9952 - val_loss: 1.6982 - val_accuracy: 0.4619 - val_f1: 0.3741 - val_auc: 0.7949\n",
      "Epoch 13/100\n",
      "481/481 - 21s - loss: 0.5521 - accuracy: 0.9337 - f1: 0.9174 - auc: 0.9962 - val_loss: 1.7159 - val_accuracy: 0.4508 - val_f1: 0.3641 - val_auc: 0.7910\n",
      "Epoch 14/100\n",
      "481/481 - 20s - loss: 0.5436 - accuracy: 0.9415 - f1: 0.9257 - auc: 0.9969 - val_loss: 1.7027 - val_accuracy: 0.4702 - val_f1: 0.3871 - val_auc: 0.7952\n",
      "Epoch 15/100\n",
      "481/481 - 20s - loss: 0.5370 - accuracy: 0.9482 - f1: 0.9331 - auc: 0.9975 - val_loss: 1.7036 - val_accuracy: 0.4685 - val_f1: 0.3871 - val_auc: 0.7948\n",
      "Epoch 16/100\n",
      "481/481 - 21s - loss: 0.5312 - accuracy: 0.9536 - f1: 0.9391 - auc: 0.9979 - val_loss: 1.7356 - val_accuracy: 0.4532 - val_f1: 0.3743 - val_auc: 0.7889\n",
      "Epoch 17/100\n",
      "481/481 - 20s - loss: 0.5260 - accuracy: 0.9586 - f1: 0.9445 - auc: 0.9983 - val_loss: 1.7275 - val_accuracy: 0.4583 - val_f1: 0.3789 - val_auc: 0.7896\n",
      "Epoch 18/100\n",
      "481/481 - 20s - loss: 0.5214 - accuracy: 0.9625 - f1: 0.9488 - auc: 0.9986 - val_loss: 1.7210 - val_accuracy: 0.4716 - val_f1: 0.3956 - val_auc: 0.7932\n",
      "Epoch 19/100\n",
      "481/481 - 20s - loss: 0.5174 - accuracy: 0.9663 - f1: 0.9529 - auc: 0.9988 - val_loss: 1.7221 - val_accuracy: 0.4751 - val_f1: 0.4019 - val_auc: 0.7944\n",
      "Epoch 20/100\n",
      "481/481 - 21s - loss: 0.5140 - accuracy: 0.9696 - f1: 0.9568 - auc: 0.9990 - val_loss: 1.7259 - val_accuracy: 0.4754 - val_f1: 0.4014 - val_auc: 0.7922\n",
      "Epoch 21/100\n",
      "481/481 - 20s - loss: 0.5108 - accuracy: 0.9722 - f1: 0.9598 - auc: 0.9991 - val_loss: 1.7349 - val_accuracy: 0.4729 - val_f1: 0.4000 - val_auc: 0.7906\n",
      "Epoch 22/100\n",
      "481/481 - 20s - loss: 0.5079 - accuracy: 0.9749 - f1: 0.9626 - auc: 0.9993 - val_loss: 1.7330 - val_accuracy: 0.4765 - val_f1: 0.4048 - val_auc: 0.7911\n",
      "Epoch 23/100\n",
      "481/481 - 20s - loss: 0.5054 - accuracy: 0.9773 - f1: 0.9651 - auc: 0.9994 - val_loss: 1.7524 - val_accuracy: 0.4649 - val_f1: 0.3914 - val_auc: 0.7856\n",
      "Epoch 24/100\n",
      "481/481 - 20s - loss: 0.5031 - accuracy: 0.9789 - f1: 0.9673 - auc: 0.9994 - val_loss: 1.7449 - val_accuracy: 0.4748 - val_f1: 0.4043 - val_auc: 0.7887\n",
      "Epoch 25/100\n",
      "481/481 - 20s - loss: 0.5009 - accuracy: 0.9808 - f1: 0.9694 - auc: 0.9995 - val_loss: 1.7420 - val_accuracy: 0.4750 - val_f1: 0.4045 - val_auc: 0.7886\n",
      "Restoring model weights from the end of the best epoch.\n",
      "Epoch 00025: early stopping\n",
      "Epoch 1/100\n",
      "481/481 - 23s - loss: 1.4654 - accuracy: 0.4508 - f1: 0.1678 - auc: 0.8154 - val_loss: 1.8747 - val_accuracy: 0.2565 - val_f1: 0.0165 - val_auc: 0.6625\n",
      "Epoch 2/100\n",
      "481/481 - 20s - loss: 1.0707 - accuracy: 0.6291 - f1: 0.4274 - auc: 0.9130 - val_loss: 1.7521 - val_accuracy: 0.3585 - val_f1: 0.0914 - val_auc: 0.7359\n",
      "Epoch 3/100\n",
      "481/481 - 20s - loss: 0.9038 - accuracy: 0.7061 - f1: 0.5757 - auc: 0.9440 - val_loss: 1.7018 - val_accuracy: 0.3986 - val_f1: 0.1766 - val_auc: 0.7652\n",
      "Epoch 4/100\n",
      "481/481 - 20s - loss: 0.8029 - accuracy: 0.7591 - f1: 0.6721 - auc: 0.9612 - val_loss: 1.6936 - val_accuracy: 0.4165 - val_f1: 0.2240 - val_auc: 0.7697\n",
      "Epoch 5/100\n",
      "481/481 - 20s - loss: 0.7348 - accuracy: 0.7963 - f1: 0.7327 - auc: 0.9714 - val_loss: 1.6729 - val_accuracy: 0.4293 - val_f1: 0.2603 - val_auc: 0.7816\n",
      "Epoch 6/100\n",
      "481/481 - 20s - loss: 0.6867 - accuracy: 0.8278 - f1: 0.7798 - auc: 0.9787 - val_loss: 1.6585 - val_accuracy: 0.4504 - val_f1: 0.3175 - val_auc: 0.7923\n",
      "Epoch 7/100\n",
      "481/481 - 20s - loss: 0.6516 - accuracy: 0.8530 - f1: 0.8155 - auc: 0.9841 - val_loss: 1.6912 - val_accuracy: 0.4380 - val_f1: 0.3112 - val_auc: 0.7840\n",
      "Epoch 8/100\n",
      "481/481 - 20s - loss: 0.6244 - accuracy: 0.8730 - f1: 0.8424 - auc: 0.9876 - val_loss: 1.6710 - val_accuracy: 0.4574 - val_f1: 0.3508 - val_auc: 0.7960\n",
      "Epoch 9/100\n",
      "481/481 - 20s - loss: 0.6036 - accuracy: 0.8899 - f1: 0.8639 - auc: 0.9905 - val_loss: 1.6931 - val_accuracy: 0.4510 - val_f1: 0.3514 - val_auc: 0.7935\n",
      "Epoch 10/100\n",
      "481/481 - 20s - loss: 0.5869 - accuracy: 0.9034 - f1: 0.8813 - auc: 0.9925 - val_loss: 1.7026 - val_accuracy: 0.4521 - val_f1: 0.3551 - val_auc: 0.7903\n",
      "Epoch 11/100\n",
      "481/481 - 20s - loss: 0.5733 - accuracy: 0.9143 - f1: 0.8944 - auc: 0.9940 - val_loss: 1.6701 - val_accuracy: 0.4757 - val_f1: 0.3888 - val_auc: 0.8031\n",
      "Epoch 12/100\n",
      "481/481 - 21s - loss: 0.5623 - accuracy: 0.9255 - f1: 0.9073 - auc: 0.9953 - val_loss: 1.7066 - val_accuracy: 0.4570 - val_f1: 0.3690 - val_auc: 0.7927\n",
      "Epoch 13/100\n",
      "481/481 - 20s - loss: 0.5530 - accuracy: 0.9336 - f1: 0.9164 - auc: 0.9962 - val_loss: 1.7066 - val_accuracy: 0.4628 - val_f1: 0.3802 - val_auc: 0.7950\n",
      "Epoch 14/100\n",
      "481/481 - 21s - loss: 0.5445 - accuracy: 0.9414 - f1: 0.9253 - auc: 0.9969 - val_loss: 1.7389 - val_accuracy: 0.4500 - val_f1: 0.3715 - val_auc: 0.7890\n",
      "Restoring model weights from the end of the best epoch.\n",
      "Epoch 00014: early stopping\n",
      "Epoch 1/100\n",
      "481/481 - 23s - loss: 1.4678 - accuracy: 0.4462 - f1: 0.1554 - auc: 0.8140 - val_loss: 1.7698 - val_accuracy: 0.3318 - val_f1: 0.0334 - val_auc: 0.7204\n",
      "Epoch 2/100\n",
      "481/481 - 21s - loss: 1.0731 - accuracy: 0.6275 - f1: 0.4099 - auc: 0.9127 - val_loss: 1.6945 - val_accuracy: 0.3885 - val_f1: 0.1435 - val_auc: 0.7614\n",
      "Epoch 3/100\n",
      "481/481 - 20s - loss: 0.9039 - accuracy: 0.7086 - f1: 0.5701 - auc: 0.9443 - val_loss: 1.7025 - val_accuracy: 0.3894 - val_f1: 0.1820 - val_auc: 0.7634\n",
      "Epoch 4/100\n",
      "481/481 - 21s - loss: 0.8016 - accuracy: 0.7554 - f1: 0.6650 - auc: 0.9604 - val_loss: 1.7206 - val_accuracy: 0.3952 - val_f1: 0.2201 - val_auc: 0.7591\n",
      "Epoch 5/100\n",
      "481/481 - 21s - loss: 0.7362 - accuracy: 0.7901 - f1: 0.7293 - auc: 0.9706 - val_loss: 1.6396 - val_accuracy: 0.4483 - val_f1: 0.2988 - val_auc: 0.7940\n",
      "Epoch 6/100\n",
      "481/481 - 20s - loss: 0.6880 - accuracy: 0.8203 - f1: 0.7764 - auc: 0.9782 - val_loss: 1.6762 - val_accuracy: 0.4314 - val_f1: 0.2997 - val_auc: 0.7886\n",
      "Epoch 7/100\n",
      "481/481 - 20s - loss: 0.6530 - accuracy: 0.8451 - f1: 0.8092 - auc: 0.9831 - val_loss: 1.6752 - val_accuracy: 0.4478 - val_f1: 0.3360 - val_auc: 0.7961\n",
      "Epoch 8/100\n",
      "481/481 - 20s - loss: 0.6275 - accuracy: 0.8647 - f1: 0.8356 - auc: 0.9869 - val_loss: 1.6673 - val_accuracy: 0.4544 - val_f1: 0.3518 - val_auc: 0.8002\n",
      "Epoch 9/100\n",
      "481/481 - 19s - loss: 0.6068 - accuracy: 0.8813 - f1: 0.8561 - auc: 0.9897 - val_loss: 1.6854 - val_accuracy: 0.4512 - val_f1: 0.3523 - val_auc: 0.7970\n",
      "Epoch 10/100\n",
      "481/481 - 20s - loss: 0.5908 - accuracy: 0.8960 - f1: 0.8731 - auc: 0.9918 - val_loss: 1.6864 - val_accuracy: 0.4627 - val_f1: 0.3716 - val_auc: 0.8007\n",
      "Epoch 11/100\n",
      "481/481 - 19s - loss: 0.5768 - accuracy: 0.9084 - f1: 0.8879 - auc: 0.9935 - val_loss: 1.7043 - val_accuracy: 0.4597 - val_f1: 0.3721 - val_auc: 0.7980\n",
      "Epoch 12/100\n",
      "481/481 - 19s - loss: 0.5650 - accuracy: 0.9195 - f1: 0.9000 - auc: 0.9947 - val_loss: 1.6954 - val_accuracy: 0.4665 - val_f1: 0.3821 - val_auc: 0.8012\n",
      "Epoch 13/100\n",
      "481/481 - 20s - loss: 0.5556 - accuracy: 0.9285 - f1: 0.9111 - auc: 0.9957 - val_loss: 1.7111 - val_accuracy: 0.4636 - val_f1: 0.3822 - val_auc: 0.7982\n",
      "Epoch 14/100\n",
      "481/481 - 20s - loss: 0.5476 - accuracy: 0.9367 - f1: 0.9201 - auc: 0.9965 - val_loss: 1.6991 - val_accuracy: 0.4727 - val_f1: 0.3919 - val_auc: 0.8007\n",
      "Epoch 15/100\n",
      "481/481 - 19s - loss: 0.5410 - accuracy: 0.9434 - f1: 0.9276 - auc: 0.9971 - val_loss: 1.7078 - val_accuracy: 0.4690 - val_f1: 0.3889 - val_auc: 0.7975\n",
      "Epoch 16/100\n",
      "481/481 - 19s - loss: 0.5347 - accuracy: 0.9490 - f1: 0.9340 - auc: 0.9976 - val_loss: 1.7058 - val_accuracy: 0.4755 - val_f1: 0.3998 - val_auc: 0.8002\n",
      "Epoch 17/100\n",
      "481/481 - 19s - loss: 0.5293 - accuracy: 0.9545 - f1: 0.9397 - auc: 0.9980 - val_loss: 1.7128 - val_accuracy: 0.4781 - val_f1: 0.4046 - val_auc: 0.7994\n",
      "Epoch 18/100\n",
      "481/481 - 19s - loss: 0.5245 - accuracy: 0.9591 - f1: 0.9454 - auc: 0.9983 - val_loss: 1.7346 - val_accuracy: 0.4704 - val_f1: 0.3970 - val_auc: 0.7949\n",
      "Epoch 19/100\n",
      "481/481 - 19s - loss: 0.5201 - accuracy: 0.9632 - f1: 0.9495 - auc: 0.9986 - val_loss: 1.7236 - val_accuracy: 0.4812 - val_f1: 0.4120 - val_auc: 0.7994\n",
      "Epoch 20/100\n",
      "481/481 - 19s - loss: 0.5165 - accuracy: 0.9664 - f1: 0.9533 - auc: 0.9988 - val_loss: 1.7353 - val_accuracy: 0.4761 - val_f1: 0.4063 - val_auc: 0.7953\n",
      "Epoch 21/100\n",
      "481/481 - 19s - loss: 0.5131 - accuracy: 0.9696 - f1: 0.9569 - auc: 0.9990 - val_loss: 1.7405 - val_accuracy: 0.4775 - val_f1: 0.4093 - val_auc: 0.7945\n",
      "Epoch 22/100\n",
      "481/481 - 19s - loss: 0.5101 - accuracy: 0.9721 - f1: 0.9597 - auc: 0.9992 - val_loss: 1.7348 - val_accuracy: 0.4840 - val_f1: 0.4169 - val_auc: 0.7956\n",
      "Epoch 23/100\n",
      "481/481 - 21s - loss: 0.5074 - accuracy: 0.9746 - f1: 0.9625 - auc: 0.9993 - val_loss: 1.7406 - val_accuracy: 0.4796 - val_f1: 0.4121 - val_auc: 0.7936\n",
      "Epoch 24/100\n",
      "481/481 - 21s - loss: 0.5049 - accuracy: 0.9763 - f1: 0.9647 - auc: 0.9994 - val_loss: 1.7471 - val_accuracy: 0.4810 - val_f1: 0.4144 - val_auc: 0.7929\n",
      "Epoch 25/100\n",
      "481/481 - 21s - loss: 0.5026 - accuracy: 0.9783 - f1: 0.9670 - auc: 0.9995 - val_loss: 1.7568 - val_accuracy: 0.4764 - val_f1: 0.4094 - val_auc: 0.7900\n",
      "Restoring model weights from the end of the best epoch.\n",
      "Epoch 00025: early stopping\n",
      "Epoch 1/100\n",
      "481/481 - 23s - loss: 1.4746 - accuracy: 0.4519 - f1: 0.1654 - auc: 0.8146 - val_loss: 1.7890 - val_accuracy: 0.3293 - val_f1: 0.0224 - val_auc: 0.7095\n",
      "Epoch 2/100\n",
      "481/481 - 21s - loss: 1.0804 - accuracy: 0.6282 - f1: 0.4256 - auc: 0.9123 - val_loss: 1.7050 - val_accuracy: 0.3909 - val_f1: 0.1176 - val_auc: 0.7559\n",
      "Epoch 3/100\n",
      "481/481 - 21s - loss: 0.9128 - accuracy: 0.7054 - f1: 0.5773 - auc: 0.9436 - val_loss: 1.6524 - val_accuracy: 0.4264 - val_f1: 0.2130 - val_auc: 0.7843\n",
      "Epoch 4/100\n",
      "481/481 - 20s - loss: 0.8106 - accuracy: 0.7569 - f1: 0.6737 - auc: 0.9609 - val_loss: 1.6785 - val_accuracy: 0.4091 - val_f1: 0.2242 - val_auc: 0.7770\n",
      "Epoch 5/100\n",
      "481/481 - 20s - loss: 0.7426 - accuracy: 0.7959 - f1: 0.7351 - auc: 0.9713 - val_loss: 1.6314 - val_accuracy: 0.4484 - val_f1: 0.3011 - val_auc: 0.7990\n",
      "Epoch 6/100\n",
      "481/481 - 21s - loss: 0.6946 - accuracy: 0.8262 - f1: 0.7799 - auc: 0.9787 - val_loss: 1.6559 - val_accuracy: 0.4389 - val_f1: 0.3104 - val_auc: 0.7963\n",
      "Epoch 7/100\n",
      "481/481 - 20s - loss: 0.6583 - accuracy: 0.8501 - f1: 0.8145 - auc: 0.9838 - val_loss: 1.6494 - val_accuracy: 0.4499 - val_f1: 0.3332 - val_auc: 0.8017\n",
      "Epoch 8/100\n",
      "481/481 - 21s - loss: 0.6300 - accuracy: 0.8699 - f1: 0.8402 - auc: 0.9874 - val_loss: 1.6388 - val_accuracy: 0.4615 - val_f1: 0.3584 - val_auc: 0.8066\n",
      "Epoch 9/100\n",
      "481/481 - 21s - loss: 0.6087 - accuracy: 0.8871 - f1: 0.8621 - auc: 0.9903 - val_loss: 1.6697 - val_accuracy: 0.4515 - val_f1: 0.3527 - val_auc: 0.8006\n",
      "Epoch 10/100\n",
      "481/481 - 21s - loss: 0.5914 - accuracy: 0.9015 - f1: 0.8792 - auc: 0.9924 - val_loss: 1.6701 - val_accuracy: 0.4537 - val_f1: 0.3589 - val_auc: 0.8019\n",
      "Epoch 11/100\n",
      "481/481 - 21s - loss: 0.5764 - accuracy: 0.9145 - f1: 0.8941 - auc: 0.9940 - val_loss: 1.6679 - val_accuracy: 0.4643 - val_f1: 0.3748 - val_auc: 0.8047\n",
      "Epoch 12/100\n",
      "481/481 - 21s - loss: 0.5648 - accuracy: 0.9250 - f1: 0.9064 - auc: 0.9952 - val_loss: 1.6631 - val_accuracy: 0.4709 - val_f1: 0.3875 - val_auc: 0.8085\n",
      "Epoch 13/100\n",
      "481/481 - 20s - loss: 0.5543 - accuracy: 0.9348 - f1: 0.9176 - auc: 0.9963 - val_loss: 1.6677 - val_accuracy: 0.4721 - val_f1: 0.3929 - val_auc: 0.8075\n",
      "Epoch 14/100\n",
      "481/481 - 21s - loss: 0.5458 - accuracy: 0.9429 - f1: 0.9269 - auc: 0.9970 - val_loss: 1.6715 - val_accuracy: 0.4737 - val_f1: 0.3953 - val_auc: 0.8074\n",
      "Epoch 15/100\n",
      "481/481 - 21s - loss: 0.5385 - accuracy: 0.9485 - f1: 0.9342 - auc: 0.9975 - val_loss: 1.6768 - val_accuracy: 0.4737 - val_f1: 0.3984 - val_auc: 0.8069\n",
      "Epoch 16/100\n",
      "481/481 - 21s - loss: 0.5323 - accuracy: 0.9549 - f1: 0.9408 - auc: 0.9980 - val_loss: 1.6850 - val_accuracy: 0.4742 - val_f1: 0.4025 - val_auc: 0.8074\n",
      "Epoch 17/100\n",
      "481/481 - 21s - loss: 0.5271 - accuracy: 0.9595 - f1: 0.9458 - auc: 0.9983 - val_loss: 1.6789 - val_accuracy: 0.4812 - val_f1: 0.4102 - val_auc: 0.8086\n",
      "Epoch 18/100\n",
      "481/481 - 21s - loss: 0.5222 - accuracy: 0.9640 - f1: 0.9508 - auc: 0.9986 - val_loss: 1.6906 - val_accuracy: 0.4773 - val_f1: 0.4074 - val_auc: 0.8063\n",
      "Epoch 19/100\n",
      "481/481 - 21s - loss: 0.5181 - accuracy: 0.9676 - f1: 0.9547 - auc: 0.9989 - val_loss: 1.6940 - val_accuracy: 0.4766 - val_f1: 0.4071 - val_auc: 0.8050\n",
      "Epoch 20/100\n",
      "481/481 - 22s - loss: 0.5145 - accuracy: 0.9703 - f1: 0.9581 - auc: 0.9990 - val_loss: 1.6918 - val_accuracy: 0.4821 - val_f1: 0.4154 - val_auc: 0.8069\n",
      "Epoch 21/100\n",
      "481/481 - 21s - loss: 0.5113 - accuracy: 0.9732 - f1: 0.9611 - auc: 0.9992 - val_loss: 1.7033 - val_accuracy: 0.4735 - val_f1: 0.4043 - val_auc: 0.8022\n",
      "Epoch 22/100\n",
      "481/481 - 21s - loss: 0.5084 - accuracy: 0.9753 - f1: 0.9634 - auc: 0.9993 - val_loss: 1.7024 - val_accuracy: 0.4771 - val_f1: 0.4101 - val_auc: 0.8038\n",
      "Epoch 23/100\n",
      "481/481 - 20s - loss: 0.5058 - accuracy: 0.9773 - f1: 0.9657 - auc: 0.9994 - val_loss: 1.7118 - val_accuracy: 0.4739 - val_f1: 0.4079 - val_auc: 0.8017\n",
      "Restoring model weights from the end of the best epoch.\n",
      "Epoch 00023: early stopping\n",
      "Epoch 1/100\n",
      "481/481 - 23s - loss: 1.4586 - accuracy: 0.4528 - f1: 0.1746 - auc: 0.8199 - val_loss: 1.7887 - val_accuracy: 0.3118 - val_f1: 0.0426 - val_auc: 0.7055\n",
      "Epoch 2/100\n",
      "481/481 - 21s - loss: 1.0598 - accuracy: 0.6323 - f1: 0.4242 - auc: 0.9151 - val_loss: 1.6897 - val_accuracy: 0.3785 - val_f1: 0.1349 - val_auc: 0.7620\n",
      "Epoch 3/100\n",
      "481/481 - 21s - loss: 0.8951 - accuracy: 0.7128 - f1: 0.5849 - auc: 0.9457 - val_loss: 1.6492 - val_accuracy: 0.4050 - val_f1: 0.2328 - val_auc: 0.7837\n",
      "Epoch 4/100\n",
      "481/481 - 21s - loss: 0.7966 - accuracy: 0.7626 - f1: 0.6797 - auc: 0.9624 - val_loss: 1.6815 - val_accuracy: 0.3964 - val_f1: 0.2474 - val_auc: 0.7762\n",
      "Epoch 5/100\n",
      "481/481 - 21s - loss: 0.7305 - accuracy: 0.7960 - f1: 0.7394 - auc: 0.9721 - val_loss: 1.6643 - val_accuracy: 0.4158 - val_f1: 0.2826 - val_auc: 0.7858\n",
      "Epoch 6/100\n",
      "481/481 - 21s - loss: 0.6830 - accuracy: 0.8267 - f1: 0.7833 - auc: 0.9792 - val_loss: 1.6623 - val_accuracy: 0.4260 - val_f1: 0.3059 - val_auc: 0.7919\n",
      "Epoch 7/100\n",
      "481/481 - 21s - loss: 0.6491 - accuracy: 0.8516 - f1: 0.8173 - auc: 0.9842 - val_loss: 1.6729 - val_accuracy: 0.4264 - val_f1: 0.3132 - val_auc: 0.7904\n",
      "Epoch 8/100\n",
      "481/481 - 20s - loss: 0.6233 - accuracy: 0.8718 - f1: 0.8426 - auc: 0.9877 - val_loss: 1.6694 - val_accuracy: 0.4416 - val_f1: 0.3426 - val_auc: 0.7980\n",
      "Epoch 9/100\n",
      "481/481 - 21s - loss: 0.6023 - accuracy: 0.8884 - f1: 0.8648 - auc: 0.9905 - val_loss: 1.6933 - val_accuracy: 0.4287 - val_f1: 0.3300 - val_auc: 0.7887\n",
      "Epoch 10/100\n",
      "481/481 - 21s - loss: 0.5851 - accuracy: 0.9028 - f1: 0.8825 - auc: 0.9926 - val_loss: 1.6868 - val_accuracy: 0.4398 - val_f1: 0.3509 - val_auc: 0.7958\n",
      "Epoch 11/100\n",
      "481/481 - 20s - loss: 0.5715 - accuracy: 0.9153 - f1: 0.8965 - auc: 0.9942 - val_loss: 1.6987 - val_accuracy: 0.4384 - val_f1: 0.3512 - val_auc: 0.7938\n",
      "Epoch 12/100\n",
      "481/481 - 21s - loss: 0.5609 - accuracy: 0.9252 - f1: 0.9077 - auc: 0.9953 - val_loss: 1.7073 - val_accuracy: 0.4394 - val_f1: 0.3563 - val_auc: 0.7929\n",
      "Epoch 13/100\n",
      "481/481 - 21s - loss: 0.5513 - accuracy: 0.9346 - f1: 0.9179 - auc: 0.9962 - val_loss: 1.7170 - val_accuracy: 0.4405 - val_f1: 0.3612 - val_auc: 0.7926\n",
      "Epoch 14/100\n",
      "481/481 - 21s - loss: 0.5434 - accuracy: 0.9421 - f1: 0.9263 - auc: 0.9970 - val_loss: 1.7356 - val_accuracy: 0.4310 - val_f1: 0.3536 - val_auc: 0.7848\n",
      "Epoch 15/100\n",
      "481/481 - 21s - loss: 0.5372 - accuracy: 0.9466 - f1: 0.9316 - auc: 0.9974 - val_loss: 1.7216 - val_accuracy: 0.4462 - val_f1: 0.3696 - val_auc: 0.7932\n",
      "Epoch 16/100\n",
      "481/481 - 21s - loss: 0.5310 - accuracy: 0.9534 - f1: 0.9392 - auc: 0.9979 - val_loss: 1.7349 - val_accuracy: 0.4458 - val_f1: 0.3709 - val_auc: 0.7899\n",
      "Epoch 17/100\n",
      "481/481 - 20s - loss: 0.5258 - accuracy: 0.9583 - f1: 0.9447 - auc: 0.9983 - val_loss: 1.7325 - val_accuracy: 0.4528 - val_f1: 0.3804 - val_auc: 0.7923\n",
      "Epoch 18/100\n",
      "481/481 - 22s - loss: 0.5213 - accuracy: 0.9625 - f1: 0.9497 - auc: 0.9986 - val_loss: 1.7435 - val_accuracy: 0.4503 - val_f1: 0.3791 - val_auc: 0.7896\n",
      "Epoch 19/100\n",
      "481/481 - 21s - loss: 0.5174 - accuracy: 0.9661 - f1: 0.9534 - auc: 0.9988 - val_loss: 1.7476 - val_accuracy: 0.4513 - val_f1: 0.3810 - val_auc: 0.7898\n",
      "Epoch 20/100\n",
      "481/481 - 20s - loss: 0.5139 - accuracy: 0.9698 - f1: 0.9571 - auc: 0.9990 - val_loss: 1.7543 - val_accuracy: 0.4495 - val_f1: 0.3788 - val_auc: 0.7866\n",
      "Epoch 21/100\n",
      "481/481 - 21s - loss: 0.5107 - accuracy: 0.9723 - f1: 0.9597 - auc: 0.9991 - val_loss: 1.7550 - val_accuracy: 0.4542 - val_f1: 0.3848 - val_auc: 0.7882\n",
      "Epoch 22/100\n",
      "481/481 - 21s - loss: 0.5078 - accuracy: 0.9752 - f1: 0.9628 - auc: 0.9993 - val_loss: 1.7626 - val_accuracy: 0.4505 - val_f1: 0.3812 - val_auc: 0.7849\n",
      "Epoch 23/100\n",
      "481/481 - 20s - loss: 0.5053 - accuracy: 0.9771 - f1: 0.9651 - auc: 0.9994 - val_loss: 1.7728 - val_accuracy: 0.4490 - val_f1: 0.3812 - val_auc: 0.7830\n",
      "Epoch 24/100\n",
      "481/481 - 21s - loss: 0.5031 - accuracy: 0.9790 - f1: 0.9674 - auc: 0.9994 - val_loss: 1.7718 - val_accuracy: 0.4524 - val_f1: 0.3859 - val_auc: 0.7840\n",
      "Epoch 25/100\n",
      "481/481 - 21s - loss: 0.5009 - accuracy: 0.9807 - f1: 0.9693 - auc: 0.9995 - val_loss: 1.7783 - val_accuracy: 0.4521 - val_f1: 0.3855 - val_auc: 0.7834\n",
      "Epoch 26/100\n",
      "481/481 - 21s - loss: 0.4991 - accuracy: 0.9819 - f1: 0.9707 - auc: 0.9996 - val_loss: 1.7736 - val_accuracy: 0.4577 - val_f1: 0.3913 - val_auc: 0.7843\n",
      "Epoch 27/100\n",
      "481/481 - 21s - loss: 0.4973 - accuracy: 0.9833 - f1: 0.9722 - auc: 0.9996 - val_loss: 1.7750 - val_accuracy: 0.4581 - val_f1: 0.3923 - val_auc: 0.7842\n",
      "Epoch 28/100\n",
      "481/481 - 21s - loss: 0.4957 - accuracy: 0.9844 - f1: 0.9734 - auc: 0.9997 - val_loss: 1.7753 - val_accuracy: 0.4588 - val_f1: 0.3935 - val_auc: 0.7839\n",
      "Epoch 29/100\n",
      "481/481 - 21s - loss: 0.4942 - accuracy: 0.9854 - f1: 0.9748 - auc: 0.9997 - val_loss: 1.7857 - val_accuracy: 0.4551 - val_f1: 0.3897 - val_auc: 0.7808\n",
      "Epoch 30/100\n",
      "481/481 - 21s - loss: 0.4928 - accuracy: 0.9864 - f1: 0.9759 - auc: 0.9997 - val_loss: 1.7825 - val_accuracy: 0.4571 - val_f1: 0.3914 - val_auc: 0.7812\n",
      "Epoch 31/100\n",
      "481/481 - 20s - loss: 0.4915 - accuracy: 0.9872 - f1: 0.9768 - auc: 0.9998 - val_loss: 1.7856 - val_accuracy: 0.4575 - val_f1: 0.3923 - val_auc: 0.7809\n",
      "Restoring model weights from the end of the best epoch.\n",
      "Epoch 00031: early stopping\n"
     ]
    },
    {
     "data": {
      "text/html": [
       "<span style=\"color:#4527A0\"><h1 style=\"font-size:18px\">Trial complete</h1></span>"
      ],
      "text/plain": [
       "<IPython.core.display.HTML object>"
      ]
     },
     "metadata": {},
     "output_type": "display_data"
    },
    {
     "data": {
      "text/html": [
       "<span style=\"color:#4527A0\"><h1 style=\"font-size:18px\">Trial summary</h1></span>"
      ],
      "text/plain": [
       "<IPython.core.display.HTML object>"
      ]
     },
     "metadata": {},
     "output_type": "display_data"
    },
    {
     "data": {
      "text/html": [
       "<span style=\"color:cyan\"> |-Trial ID: 1b65673423721b53da5f59c9fe8a28dc</span>"
      ],
      "text/plain": [
       "<IPython.core.display.HTML object>"
      ]
     },
     "metadata": {},
     "output_type": "display_data"
    },
    {
     "data": {
      "text/html": [
       "<span style=\"color:cyan\"> |-Score: 1.6494145154953004</span>"
      ],
      "text/plain": [
       "<IPython.core.display.HTML object>"
      ]
     },
     "metadata": {},
     "output_type": "display_data"
    },
    {
     "data": {
      "text/html": [
       "<span style=\"color:cyan\"> |-Best step: 0</span>"
      ],
      "text/plain": [
       "<IPython.core.display.HTML object>"
      ]
     },
     "metadata": {},
     "output_type": "display_data"
    },
    {
     "data": {
      "text/html": [
       "<span style=\"color:#7E57C2\"><h2 style=\"font-size:16px\">Hyperparameters:</h2></span>"
      ],
      "text/plain": [
       "<IPython.core.display.HTML object>"
      ]
     },
     "metadata": {},
     "output_type": "display_data"
    },
    {
     "data": {
      "text/html": [
       "<span style=\"color:cyan\"> |-units: 768</span>"
      ],
      "text/plain": [
       "<IPython.core.display.HTML object>"
      ]
     },
     "metadata": {},
     "output_type": "display_data"
    },
    {
     "name": "stdout",
     "output_type": "stream",
     "text": [
      "Epoch 1/100\n",
      "481/481 - 27s - loss: 1.4525 - accuracy: 0.4789 - f1: 0.1948 - auc: 0.8249 - val_loss: 1.8034 - val_accuracy: 0.3000 - val_f1: 0.0422 - val_auc: 0.7021\n",
      "Epoch 2/100\n",
      "481/481 - 22s - loss: 1.0387 - accuracy: 0.6571 - f1: 0.4772 - auc: 0.9213 - val_loss: 1.7222 - val_accuracy: 0.3704 - val_f1: 0.1477 - val_auc: 0.7458\n",
      "Epoch 3/100\n",
      "481/481 - 22s - loss: 0.8665 - accuracy: 0.7359 - f1: 0.6308 - auc: 0.9504 - val_loss: 1.6752 - val_accuracy: 0.4074 - val_f1: 0.2150 - val_auc: 0.7721\n",
      "Epoch 4/100\n",
      "481/481 - 22s - loss: 0.7682 - accuracy: 0.7870 - f1: 0.7203 - auc: 0.9669 - val_loss: 1.6728 - val_accuracy: 0.4129 - val_f1: 0.2588 - val_auc: 0.7802\n",
      "Epoch 5/100\n",
      "481/481 - 21s - loss: 0.7016 - accuracy: 0.8238 - f1: 0.7772 - auc: 0.9768 - val_loss: 1.6748 - val_accuracy: 0.4245 - val_f1: 0.2906 - val_auc: 0.7853\n",
      "Epoch 6/100\n",
      "481/481 - 21s - loss: 0.6572 - accuracy: 0.8527 - f1: 0.8173 - auc: 0.9835 - val_loss: 1.6865 - val_accuracy: 0.4240 - val_f1: 0.3037 - val_auc: 0.7859\n",
      "Epoch 7/100\n",
      "481/481 - 21s - loss: 0.6272 - accuracy: 0.8754 - f1: 0.8463 - auc: 0.9876 - val_loss: 1.6866 - val_accuracy: 0.4392 - val_f1: 0.3335 - val_auc: 0.7911\n",
      "Epoch 8/100\n",
      "481/481 - 22s - loss: 0.6003 - accuracy: 0.8955 - f1: 0.8707 - auc: 0.9910 - val_loss: 1.6940 - val_accuracy: 0.4391 - val_f1: 0.3385 - val_auc: 0.7913\n",
      "Epoch 9/100\n",
      "481/481 - 23s - loss: 0.5815 - accuracy: 0.9107 - f1: 0.8898 - auc: 0.9932 - val_loss: 1.6753 - val_accuracy: 0.4579 - val_f1: 0.3645 - val_auc: 0.7987\n",
      "Epoch 10/100\n",
      "481/481 - 23s - loss: 0.5657 - accuracy: 0.9239 - f1: 0.9053 - auc: 0.9949 - val_loss: 1.6957 - val_accuracy: 0.4507 - val_f1: 0.3584 - val_auc: 0.7935\n",
      "Epoch 11/100\n",
      "481/481 - 23s - loss: 0.5536 - accuracy: 0.9338 - f1: 0.9166 - auc: 0.9960 - val_loss: 1.7072 - val_accuracy: 0.4507 - val_f1: 0.3637 - val_auc: 0.7923\n",
      "Epoch 12/100\n",
      "481/481 - 23s - loss: 0.5439 - accuracy: 0.9427 - f1: 0.9269 - auc: 0.9969 - val_loss: 1.7279 - val_accuracy: 0.4439 - val_f1: 0.3568 - val_auc: 0.7864\n",
      "Restoring model weights from the end of the best epoch.\n",
      "Epoch 00012: early stopping\n",
      "Epoch 1/100\n",
      "481/481 - 26s - loss: 1.4258 - accuracy: 0.4663 - f1: 0.1997 - auc: 0.8276 - val_loss: 1.7884 - val_accuracy: 0.3223 - val_f1: 0.0366 - val_auc: 0.7168\n",
      "Epoch 2/100\n",
      "481/481 - 23s - loss: 1.0312 - accuracy: 0.6503 - f1: 0.4756 - auc: 0.9217 - val_loss: 1.7411 - val_accuracy: 0.3718 - val_f1: 0.1422 - val_auc: 0.7471\n",
      "Epoch 3/100\n",
      "481/481 - 24s - loss: 0.8646 - accuracy: 0.7282 - f1: 0.6250 - auc: 0.9510 - val_loss: 1.7028 - val_accuracy: 0.4073 - val_f1: 0.2175 - val_auc: 0.7683\n",
      "Epoch 4/100\n",
      "481/481 - 24s - loss: 0.7660 - accuracy: 0.7788 - f1: 0.7139 - auc: 0.9671 - val_loss: 1.6837 - val_accuracy: 0.4211 - val_f1: 0.2697 - val_auc: 0.7812\n",
      "Epoch 5/100\n",
      "481/481 - 23s - loss: 0.7028 - accuracy: 0.8157 - f1: 0.7714 - auc: 0.9767 - val_loss: 1.7030 - val_accuracy: 0.4203 - val_f1: 0.2878 - val_auc: 0.7806\n",
      "Epoch 6/100\n",
      "481/481 - 23s - loss: 0.6580 - accuracy: 0.8461 - f1: 0.8126 - auc: 0.9831 - val_loss: 1.7000 - val_accuracy: 0.4266 - val_f1: 0.3102 - val_auc: 0.7846\n",
      "Epoch 7/100\n",
      "481/481 - 23s - loss: 0.6267 - accuracy: 0.8702 - f1: 0.8432 - auc: 0.9876 - val_loss: 1.7022 - val_accuracy: 0.4306 - val_f1: 0.3260 - val_auc: 0.7875\n",
      "Epoch 8/100\n",
      "481/481 - 23s - loss: 0.6011 - accuracy: 0.8896 - f1: 0.8664 - auc: 0.9907 - val_loss: 1.6860 - val_accuracy: 0.4502 - val_f1: 0.3590 - val_auc: 0.7953\n",
      "Epoch 9/100\n",
      "481/481 - 24s - loss: 0.5825 - accuracy: 0.9055 - f1: 0.8859 - auc: 0.9929 - val_loss: 1.6976 - val_accuracy: 0.4428 - val_f1: 0.3530 - val_auc: 0.7924\n",
      "Epoch 10/100\n",
      "481/481 - 24s - loss: 0.5679 - accuracy: 0.9185 - f1: 0.9008 - auc: 0.9946 - val_loss: 1.7018 - val_accuracy: 0.4497 - val_f1: 0.3670 - val_auc: 0.7941\n",
      "Epoch 11/100\n",
      "481/481 - 23s - loss: 0.5562 - accuracy: 0.9294 - f1: 0.9134 - auc: 0.9958 - val_loss: 1.7000 - val_accuracy: 0.4515 - val_f1: 0.3683 - val_auc: 0.7930\n",
      "Epoch 12/100\n",
      "481/481 - 24s - loss: 0.5457 - accuracy: 0.9386 - f1: 0.9237 - auc: 0.9967 - val_loss: 1.6985 - val_accuracy: 0.4560 - val_f1: 0.3747 - val_auc: 0.7946\n",
      "Epoch 13/100\n",
      "481/481 - 23s - loss: 0.5376 - accuracy: 0.9464 - f1: 0.9323 - auc: 0.9974 - val_loss: 1.7150 - val_accuracy: 0.4499 - val_f1: 0.3699 - val_auc: 0.7900\n",
      "Epoch 14/100\n",
      "481/481 - 24s - loss: 0.5304 - accuracy: 0.9535 - f1: 0.9402 - auc: 0.9979 - val_loss: 1.7175 - val_accuracy: 0.4576 - val_f1: 0.3816 - val_auc: 0.7923\n",
      "Epoch 15/100\n",
      "481/481 - 24s - loss: 0.5241 - accuracy: 0.9593 - f1: 0.9466 - auc: 0.9983 - val_loss: 1.7326 - val_accuracy: 0.4457 - val_f1: 0.3668 - val_auc: 0.7854\n",
      "Epoch 16/100\n",
      "481/481 - 23s - loss: 0.5193 - accuracy: 0.9639 - f1: 0.9518 - auc: 0.9987 - val_loss: 1.7451 - val_accuracy: 0.4448 - val_f1: 0.3676 - val_auc: 0.7841\n",
      "Epoch 17/100\n",
      "481/481 - 23s - loss: 0.5144 - accuracy: 0.9678 - f1: 0.9558 - auc: 0.9989 - val_loss: 1.7268 - val_accuracy: 0.4621 - val_f1: 0.3887 - val_auc: 0.7913\n",
      "Epoch 18/100\n",
      "481/481 - 23s - loss: 0.5105 - accuracy: 0.9713 - f1: 0.9596 - auc: 0.9991 - val_loss: 1.7225 - val_accuracy: 0.4687 - val_f1: 0.3954 - val_auc: 0.7919\n",
      "Epoch 19/100\n",
      "481/481 - 23s - loss: 0.5070 - accuracy: 0.9742 - f1: 0.9631 - auc: 0.9992 - val_loss: 1.7436 - val_accuracy: 0.4555 - val_f1: 0.3818 - val_auc: 0.7860\n",
      "Epoch 20/100\n",
      "481/481 - 23s - loss: 0.5041 - accuracy: 0.9763 - f1: 0.9654 - auc: 0.9994 - val_loss: 1.7469 - val_accuracy: 0.4582 - val_f1: 0.3857 - val_auc: 0.7868\n",
      "Epoch 21/100\n",
      "481/481 - 23s - loss: 0.5015 - accuracy: 0.9788 - f1: 0.9682 - auc: 0.9995 - val_loss: 1.7495 - val_accuracy: 0.4580 - val_f1: 0.3848 - val_auc: 0.7847\n",
      "Restoring model weights from the end of the best epoch.\n",
      "Epoch 00021: early stopping\n",
      "Epoch 1/100\n",
      "481/481 - 26s - loss: 1.4378 - accuracy: 0.4679 - f1: 0.1984 - auc: 0.8241 - val_loss: 1.7446 - val_accuracy: 0.3487 - val_f1: 0.0773 - val_auc: 0.7310\n",
      "Epoch 2/100\n",
      "481/481 - 23s - loss: 1.0328 - accuracy: 0.6543 - f1: 0.4701 - auc: 0.9225 - val_loss: 1.6757 - val_accuracy: 0.3981 - val_f1: 0.1848 - val_auc: 0.7661\n",
      "Epoch 3/100\n",
      "481/481 - 23s - loss: 0.8654 - accuracy: 0.7326 - f1: 0.6223 - auc: 0.9513 - val_loss: 1.6737 - val_accuracy: 0.4076 - val_f1: 0.2272 - val_auc: 0.7732\n",
      "Epoch 4/100\n",
      "481/481 - 24s - loss: 0.7666 - accuracy: 0.7830 - f1: 0.7123 - auc: 0.9674 - val_loss: 1.6255 - val_accuracy: 0.4437 - val_f1: 0.2837 - val_auc: 0.7944\n",
      "Epoch 5/100\n",
      "481/481 - 23s - loss: 0.6998 - accuracy: 0.8214 - f1: 0.7718 - auc: 0.9773 - val_loss: 1.6559 - val_accuracy: 0.4300 - val_f1: 0.2970 - val_auc: 0.7899\n",
      "Epoch 6/100\n",
      "481/481 - 23s - loss: 0.6560 - accuracy: 0.8482 - f1: 0.8113 - auc: 0.9834 - val_loss: 1.6166 - val_accuracy: 0.4648 - val_f1: 0.3486 - val_auc: 0.8069\n",
      "Epoch 7/100\n",
      "481/481 - 23s - loss: 0.6224 - accuracy: 0.8735 - f1: 0.8442 - auc: 0.9880 - val_loss: 1.6377 - val_accuracy: 0.4609 - val_f1: 0.3551 - val_auc: 0.8042\n",
      "Epoch 8/100\n",
      "481/481 - 23s - loss: 0.5982 - accuracy: 0.8933 - f1: 0.8678 - auc: 0.9910 - val_loss: 1.6318 - val_accuracy: 0.4722 - val_f1: 0.3710 - val_auc: 0.8089\n",
      "Epoch 9/100\n",
      "481/481 - 23s - loss: 0.5803 - accuracy: 0.9099 - f1: 0.8880 - auc: 0.9934 - val_loss: 1.6582 - val_accuracy: 0.4609 - val_f1: 0.3686 - val_auc: 0.8040\n",
      "Epoch 10/100\n",
      "481/481 - 23s - loss: 0.5656 - accuracy: 0.9226 - f1: 0.9037 - auc: 0.9948 - val_loss: 1.6516 - val_accuracy: 0.4709 - val_f1: 0.3822 - val_auc: 0.8068\n",
      "Epoch 11/100\n",
      "481/481 - 23s - loss: 0.5534 - accuracy: 0.9336 - f1: 0.9159 - auc: 0.9961 - val_loss: 1.6502 - val_accuracy: 0.4784 - val_f1: 0.3961 - val_auc: 0.8097\n",
      "Epoch 12/100\n",
      "481/481 - 23s - loss: 0.5439 - accuracy: 0.9421 - f1: 0.9262 - auc: 0.9969 - val_loss: 1.6630 - val_accuracy: 0.4739 - val_f1: 0.3913 - val_auc: 0.8065\n",
      "Epoch 13/100\n",
      "481/481 - 23s - loss: 0.5358 - accuracy: 0.9492 - f1: 0.9345 - auc: 0.9975 - val_loss: 1.6632 - val_accuracy: 0.4802 - val_f1: 0.4024 - val_auc: 0.8088\n",
      "Epoch 14/100\n",
      "481/481 - 23s - loss: 0.5290 - accuracy: 0.9559 - f1: 0.9419 - auc: 0.9981 - val_loss: 1.6964 - val_accuracy: 0.4604 - val_f1: 0.3833 - val_auc: 0.7991\n",
      "Epoch 15/100\n",
      "481/481 - 24s - loss: 0.5232 - accuracy: 0.9604 - f1: 0.9470 - auc: 0.9984 - val_loss: 1.6611 - val_accuracy: 0.4887 - val_f1: 0.4144 - val_auc: 0.8100\n",
      "Epoch 16/100\n",
      "481/481 - 23s - loss: 0.5180 - accuracy: 0.9655 - f1: 0.9524 - auc: 0.9987 - val_loss: 1.6721 - val_accuracy: 0.4835 - val_f1: 0.4100 - val_auc: 0.8066\n",
      "Epoch 17/100\n",
      "481/481 - 23s - loss: 0.5140 - accuracy: 0.9690 - f1: 0.9564 - auc: 0.9990 - val_loss: 1.6747 - val_accuracy: 0.4839 - val_f1: 0.4109 - val_auc: 0.8065\n",
      "Epoch 18/100\n",
      "481/481 - 23s - loss: 0.5101 - accuracy: 0.9722 - f1: 0.9600 - auc: 0.9991 - val_loss: 1.6783 - val_accuracy: 0.4859 - val_f1: 0.4153 - val_auc: 0.8066\n",
      "Epoch 19/100\n",
      "481/481 - 24s - loss: 0.5069 - accuracy: 0.9748 - f1: 0.9631 - auc: 0.9993 - val_loss: 1.6858 - val_accuracy: 0.4809 - val_f1: 0.4090 - val_auc: 0.8036\n",
      "Epoch 20/100\n",
      "481/481 - 23s - loss: 0.5039 - accuracy: 0.9771 - f1: 0.9655 - auc: 0.9994 - val_loss: 1.6792 - val_accuracy: 0.4907 - val_f1: 0.4207 - val_auc: 0.8076\n",
      "Epoch 21/100\n",
      "481/481 - 23s - loss: 0.5013 - accuracy: 0.9792 - f1: 0.9681 - auc: 0.9995 - val_loss: 1.6898 - val_accuracy: 0.4848 - val_f1: 0.4151 - val_auc: 0.8038\n",
      "Epoch 22/100\n",
      "481/481 - 23s - loss: 0.4989 - accuracy: 0.9811 - f1: 0.9702 - auc: 0.9996 - val_loss: 1.6861 - val_accuracy: 0.4904 - val_f1: 0.4212 - val_auc: 0.8059\n",
      "Epoch 23/100\n",
      "481/481 - 23s - loss: 0.4968 - accuracy: 0.9826 - f1: 0.9719 - auc: 0.9996 - val_loss: 1.6929 - val_accuracy: 0.4870 - val_f1: 0.4179 - val_auc: 0.8034\n",
      "Epoch 24/100\n",
      "481/481 - 23s - loss: 0.4949 - accuracy: 0.9837 - f1: 0.9732 - auc: 0.9997 - val_loss: 1.6927 - val_accuracy: 0.4903 - val_f1: 0.4217 - val_auc: 0.8045\n",
      "Epoch 25/100\n",
      "481/481 - 23s - loss: 0.4932 - accuracy: 0.9852 - f1: 0.9750 - auc: 0.9997 - val_loss: 1.6975 - val_accuracy: 0.4865 - val_f1: 0.4169 - val_auc: 0.8021\n",
      "Epoch 26/100\n",
      "481/481 - 23s - loss: 0.4916 - accuracy: 0.9862 - f1: 0.9762 - auc: 0.9997 - val_loss: 1.6953 - val_accuracy: 0.4902 - val_f1: 0.4209 - val_auc: 0.8029\n",
      "Epoch 27/100\n",
      "481/481 - 23s - loss: 0.4901 - accuracy: 0.9873 - f1: 0.9775 - auc: 0.9998 - val_loss: 1.7000 - val_accuracy: 0.4899 - val_f1: 0.4214 - val_auc: 0.8025\n",
      "Restoring model weights from the end of the best epoch.\n",
      "Epoch 00027: early stopping\n",
      "Epoch 1/100\n",
      "481/481 - 27s - loss: 1.4406 - accuracy: 0.4624 - f1: 0.1861 - auc: 0.8184 - val_loss: 1.8200 - val_accuracy: 0.2943 - val_f1: 0.0446 - val_auc: 0.6990\n",
      "Epoch 2/100\n",
      "481/481 - 23s - loss: 1.0292 - accuracy: 0.6554 - f1: 0.4728 - auc: 0.9236 - val_loss: 1.7181 - val_accuracy: 0.3883 - val_f1: 0.1473 - val_auc: 0.7545\n",
      "Epoch 3/100\n",
      "481/481 - 22s - loss: 0.8648 - accuracy: 0.7341 - f1: 0.6297 - auc: 0.9526 - val_loss: 1.6975 - val_accuracy: 0.4009 - val_f1: 0.2252 - val_auc: 0.7707\n",
      "Epoch 4/100\n",
      "481/481 - 22s - loss: 0.7610 - accuracy: 0.7823 - f1: 0.7186 - auc: 0.9679 - val_loss: 1.6651 - val_accuracy: 0.4296 - val_f1: 0.2843 - val_auc: 0.7872\n",
      "Epoch 5/100\n",
      "481/481 - 22s - loss: 0.6984 - accuracy: 0.8208 - f1: 0.7759 - auc: 0.9778 - val_loss: 1.6861 - val_accuracy: 0.4297 - val_f1: 0.3062 - val_auc: 0.7871\n",
      "Epoch 6/100\n",
      "481/481 - 22s - loss: 0.6541 - accuracy: 0.8485 - f1: 0.8138 - auc: 0.9840 - val_loss: 1.7277 - val_accuracy: 0.4145 - val_f1: 0.3075 - val_auc: 0.7826\n",
      "Epoch 7/100\n",
      "481/481 - 22s - loss: 0.6212 - accuracy: 0.8715 - f1: 0.8449 - auc: 0.9882 - val_loss: 1.7200 - val_accuracy: 0.4275 - val_f1: 0.3235 - val_auc: 0.7835\n",
      "Epoch 8/100\n",
      "481/481 - 22s - loss: 0.5978 - accuracy: 0.8908 - f1: 0.8670 - auc: 0.9912 - val_loss: 1.6931 - val_accuracy: 0.4468 - val_f1: 0.3536 - val_auc: 0.7952\n",
      "Epoch 9/100\n",
      "481/481 - 22s - loss: 0.5794 - accuracy: 0.9070 - f1: 0.8863 - auc: 0.9933 - val_loss: 1.7068 - val_accuracy: 0.4407 - val_f1: 0.3454 - val_auc: 0.7910\n",
      "Epoch 10/100\n",
      "481/481 - 23s - loss: 0.5659 - accuracy: 0.9192 - f1: 0.9008 - auc: 0.9947 - val_loss: 1.7382 - val_accuracy: 0.4331 - val_f1: 0.3482 - val_auc: 0.7876\n",
      "Epoch 11/100\n",
      "481/481 - 20s - loss: 0.5535 - accuracy: 0.9308 - f1: 0.9136 - auc: 0.9960 - val_loss: 1.7317 - val_accuracy: 0.4491 - val_f1: 0.3713 - val_auc: 0.7923\n",
      "Epoch 12/100\n",
      "481/481 - 21s - loss: 0.5442 - accuracy: 0.9397 - f1: 0.9238 - auc: 0.9968 - val_loss: 1.7280 - val_accuracy: 0.4541 - val_f1: 0.3784 - val_auc: 0.7952\n",
      "Epoch 13/100\n",
      "481/481 - 21s - loss: 0.5364 - accuracy: 0.9473 - f1: 0.9321 - auc: 0.9974 - val_loss: 1.7396 - val_accuracy: 0.4458 - val_f1: 0.3702 - val_auc: 0.7922\n",
      "Epoch 14/100\n",
      "481/481 - 20s - loss: 0.5297 - accuracy: 0.9535 - f1: 0.9394 - auc: 0.9979 - val_loss: 1.7321 - val_accuracy: 0.4584 - val_f1: 0.3853 - val_auc: 0.7941\n",
      "Epoch 15/100\n",
      "481/481 - 20s - loss: 0.5238 - accuracy: 0.9593 - f1: 0.9457 - auc: 0.9983 - val_loss: 1.7330 - val_accuracy: 0.4595 - val_f1: 0.3855 - val_auc: 0.7935\n",
      "Epoch 16/100\n",
      "481/481 - 20s - loss: 0.5190 - accuracy: 0.9636 - f1: 0.9505 - auc: 0.9986 - val_loss: 1.7445 - val_accuracy: 0.4560 - val_f1: 0.3829 - val_auc: 0.7895\n",
      "Epoch 17/100\n",
      "481/481 - 20s - loss: 0.5150 - accuracy: 0.9669 - f1: 0.9543 - auc: 0.9988 - val_loss: 1.7446 - val_accuracy: 0.4650 - val_f1: 0.3962 - val_auc: 0.7930\n",
      "Epoch 18/100\n",
      "481/481 - 21s - loss: 0.5113 - accuracy: 0.9706 - f1: 0.9584 - auc: 0.9990 - val_loss: 1.7499 - val_accuracy: 0.4631 - val_f1: 0.3947 - val_auc: 0.7922\n",
      "Epoch 19/100\n",
      "481/481 - 22s - loss: 0.5078 - accuracy: 0.9733 - f1: 0.9614 - auc: 0.9992 - val_loss: 1.7505 - val_accuracy: 0.4694 - val_f1: 0.4020 - val_auc: 0.7923\n",
      "Epoch 20/100\n",
      "481/481 - 21s - loss: 0.5048 - accuracy: 0.9759 - f1: 0.9648 - auc: 0.9993 - val_loss: 1.7719 - val_accuracy: 0.4528 - val_f1: 0.3826 - val_auc: 0.7848\n",
      "Epoch 21/100\n",
      "481/481 - 20s - loss: 0.5021 - accuracy: 0.9778 - f1: 0.9670 - auc: 0.9994 - val_loss: 1.7783 - val_accuracy: 0.4505 - val_f1: 0.3806 - val_auc: 0.7842\n",
      "Epoch 22/100\n",
      "481/481 - 23s - loss: 0.4997 - accuracy: 0.9794 - f1: 0.9692 - auc: 0.9995 - val_loss: 1.7831 - val_accuracy: 0.4511 - val_f1: 0.3821 - val_auc: 0.7831\n",
      "Restoring model weights from the end of the best epoch.\n",
      "Epoch 00022: early stopping\n",
      "Epoch 1/100\n",
      "481/481 - 26s - loss: 1.4416 - accuracy: 0.4777 - f1: 0.1929 - auc: 0.8349 - val_loss: 1.8263 - val_accuracy: 0.2683 - val_f1: 0.0436 - val_auc: 0.6953\n",
      "Epoch 2/100\n",
      "481/481 - 24s - loss: 1.0304 - accuracy: 0.6555 - f1: 0.4708 - auc: 0.9218 - val_loss: 1.6943 - val_accuracy: 0.3790 - val_f1: 0.1399 - val_auc: 0.7654\n",
      "Epoch 3/100\n",
      "481/481 - 23s - loss: 0.8674 - accuracy: 0.7312 - f1: 0.6297 - auc: 0.9515 - val_loss: 1.7238 - val_accuracy: 0.3682 - val_f1: 0.1605 - val_auc: 0.7606\n",
      "Epoch 4/100\n",
      "481/481 - 24s - loss: 0.7683 - accuracy: 0.7793 - f1: 0.7141 - auc: 0.9669 - val_loss: 1.6934 - val_accuracy: 0.4034 - val_f1: 0.2322 - val_auc: 0.7752\n",
      "Epoch 5/100\n",
      "481/481 - 24s - loss: 0.7019 - accuracy: 0.8169 - f1: 0.7721 - auc: 0.9766 - val_loss: 1.6958 - val_accuracy: 0.4086 - val_f1: 0.2614 - val_auc: 0.7817\n",
      "Epoch 6/100\n",
      "481/481 - 24s - loss: 0.6570 - accuracy: 0.8454 - f1: 0.8121 - auc: 0.9832 - val_loss: 1.6903 - val_accuracy: 0.4182 - val_f1: 0.2947 - val_auc: 0.7894\n",
      "Epoch 7/100\n",
      "481/481 - 24s - loss: 0.6249 - accuracy: 0.8691 - f1: 0.8418 - auc: 0.9876 - val_loss: 1.6706 - val_accuracy: 0.4330 - val_f1: 0.3248 - val_auc: 0.7971\n",
      "Epoch 8/100\n",
      "481/481 - 22s - loss: 0.6010 - accuracy: 0.8880 - f1: 0.8650 - auc: 0.9906 - val_loss: 1.6761 - val_accuracy: 0.4374 - val_f1: 0.3357 - val_auc: 0.7975\n",
      "Epoch 9/100\n",
      "481/481 - 23s - loss: 0.5838 - accuracy: 0.9046 - f1: 0.8844 - auc: 0.9928 - val_loss: 1.6936 - val_accuracy: 0.4340 - val_f1: 0.3442 - val_auc: 0.7975\n",
      "Epoch 10/100\n",
      "481/481 - 23s - loss: 0.5684 - accuracy: 0.9183 - f1: 0.8997 - auc: 0.9944 - val_loss: 1.7212 - val_accuracy: 0.4255 - val_f1: 0.3335 - val_auc: 0.7893\n",
      "Epoch 11/100\n",
      "481/481 - 23s - loss: 0.5557 - accuracy: 0.9293 - f1: 0.9118 - auc: 0.9957 - val_loss: 1.6963 - val_accuracy: 0.4407 - val_f1: 0.3490 - val_auc: 0.7957\n",
      "Epoch 12/100\n",
      "481/481 - 22s - loss: 0.5461 - accuracy: 0.9385 - f1: 0.9224 - auc: 0.9966 - val_loss: 1.6851 - val_accuracy: 0.4495 - val_f1: 0.3616 - val_auc: 0.7991\n",
      "Epoch 13/100\n",
      "481/481 - 22s - loss: 0.5378 - accuracy: 0.9469 - f1: 0.9316 - auc: 0.9973 - val_loss: 1.7106 - val_accuracy: 0.4416 - val_f1: 0.3555 - val_auc: 0.7944\n",
      "Epoch 14/100\n",
      "481/481 - 22s - loss: 0.5309 - accuracy: 0.9533 - f1: 0.9390 - auc: 0.9979 - val_loss: 1.7170 - val_accuracy: 0.4427 - val_f1: 0.3573 - val_auc: 0.7935\n",
      "Epoch 15/100\n",
      "481/481 - 22s - loss: 0.5250 - accuracy: 0.9587 - f1: 0.9451 - auc: 0.9983 - val_loss: 1.7075 - val_accuracy: 0.4491 - val_f1: 0.3659 - val_auc: 0.7955\n",
      "Epoch 16/100\n",
      "481/481 - 22s - loss: 0.5198 - accuracy: 0.9632 - f1: 0.9500 - auc: 0.9986 - val_loss: 1.7245 - val_accuracy: 0.4433 - val_f1: 0.3570 - val_auc: 0.7899\n",
      "Epoch 17/100\n",
      "481/481 - 22s - loss: 0.5155 - accuracy: 0.9670 - f1: 0.9544 - auc: 0.9988 - val_loss: 1.7211 - val_accuracy: 0.4459 - val_f1: 0.3598 - val_auc: 0.7911\n",
      "Epoch 18/100\n",
      "481/481 - 22s - loss: 0.5117 - accuracy: 0.9708 - f1: 0.9583 - auc: 0.9990 - val_loss: 1.7306 - val_accuracy: 0.4471 - val_f1: 0.3641 - val_auc: 0.7904\n",
      "Restoring model weights from the end of the best epoch.\n",
      "Epoch 00018: early stopping\n"
     ]
    },
    {
     "data": {
      "text/html": [
       "<span style=\"color:#4527A0\"><h1 style=\"font-size:18px\">Trial complete</h1></span>"
      ],
      "text/plain": [
       "<IPython.core.display.HTML object>"
      ]
     },
     "metadata": {},
     "output_type": "display_data"
    },
    {
     "data": {
      "text/html": [
       "<span style=\"color:#4527A0\"><h1 style=\"font-size:18px\">Trial summary</h1></span>"
      ],
      "text/plain": [
       "<IPython.core.display.HTML object>"
      ]
     },
     "metadata": {},
     "output_type": "display_data"
    },
    {
     "data": {
      "text/html": [
       "<span style=\"color:cyan\"> |-Trial ID: 84720913b7dd57b89dff6bf140439ef6</span>"
      ],
      "text/plain": [
       "<IPython.core.display.HTML object>"
      ]
     },
     "metadata": {},
     "output_type": "display_data"
    },
    {
     "data": {
      "text/html": [
       "<span style=\"color:cyan\"> |-Score: 1.6617857694625855</span>"
      ],
      "text/plain": [
       "<IPython.core.display.HTML object>"
      ]
     },
     "metadata": {},
     "output_type": "display_data"
    },
    {
     "data": {
      "text/html": [
       "<span style=\"color:cyan\"> |-Best step: 0</span>"
      ],
      "text/plain": [
       "<IPython.core.display.HTML object>"
      ]
     },
     "metadata": {},
     "output_type": "display_data"
    },
    {
     "data": {
      "text/html": [
       "<span style=\"color:#7E57C2\"><h2 style=\"font-size:16px\">Hyperparameters:</h2></span>"
      ],
      "text/plain": [
       "<IPython.core.display.HTML object>"
      ]
     },
     "metadata": {},
     "output_type": "display_data"
    },
    {
     "data": {
      "text/html": [
       "<span style=\"color:cyan\"> |-units: 1024</span>"
      ],
      "text/plain": [
       "<IPython.core.display.HTML object>"
      ]
     },
     "metadata": {},
     "output_type": "display_data"
    },
    {
     "name": "stdout",
     "output_type": "stream",
     "text": [
      "Epoch 1/100\n",
      "481/481 - 20s - loss: 1.5188 - accuracy: 0.4139 - f1: 0.1250 - auc: 0.7908 - val_loss: 1.8289 - val_accuracy: 0.2950 - val_f1: 0.0225 - val_auc: 0.6844\n",
      "Epoch 2/100\n",
      "481/481 - 18s - loss: 1.1377 - accuracy: 0.5936 - f1: 0.3416 - auc: 0.8987 - val_loss: 1.7715 - val_accuracy: 0.3368 - val_f1: 0.0766 - val_auc: 0.7210\n",
      "Epoch 3/100\n",
      "481/481 - 17s - loss: 0.9656 - accuracy: 0.6728 - f1: 0.5000 - auc: 0.9321 - val_loss: 1.7080 - val_accuracy: 0.3848 - val_f1: 0.1482 - val_auc: 0.7551\n",
      "Epoch 4/100\n",
      "481/481 - 17s - loss: 0.8623 - accuracy: 0.7238 - f1: 0.6087 - auc: 0.9503 - val_loss: 1.6870 - val_accuracy: 0.4021 - val_f1: 0.2095 - val_auc: 0.7712\n",
      "Epoch 5/100\n",
      "481/481 - 17s - loss: 0.7872 - accuracy: 0.7619 - f1: 0.6805 - auc: 0.9621 - val_loss: 1.6949 - val_accuracy: 0.4071 - val_f1: 0.2506 - val_auc: 0.7739\n",
      "Epoch 6/100\n",
      "481/481 - 18s - loss: 0.7344 - accuracy: 0.7919 - f1: 0.7326 - auc: 0.9703 - val_loss: 1.6948 - val_accuracy: 0.4151 - val_f1: 0.2770 - val_auc: 0.7784\n",
      "Epoch 7/100\n",
      "481/481 - 18s - loss: 0.6942 - accuracy: 0.8157 - f1: 0.7676 - auc: 0.9762 - val_loss: 1.6761 - val_accuracy: 0.4374 - val_f1: 0.3232 - val_auc: 0.7918\n",
      "Epoch 8/100\n",
      "481/481 - 17s - loss: 0.6649 - accuracy: 0.8354 - f1: 0.7979 - auc: 0.9809 - val_loss: 1.7001 - val_accuracy: 0.4264 - val_f1: 0.3192 - val_auc: 0.7873\n",
      "Epoch 9/100\n",
      "481/481 - 17s - loss: 0.6420 - accuracy: 0.8526 - f1: 0.8203 - auc: 0.9842 - val_loss: 1.7112 - val_accuracy: 0.4338 - val_f1: 0.3404 - val_auc: 0.7896\n",
      "Epoch 10/100\n",
      "481/481 - 18s - loss: 0.6221 - accuracy: 0.8685 - f1: 0.8403 - auc: 0.9872 - val_loss: 1.7247 - val_accuracy: 0.4316 - val_f1: 0.3485 - val_auc: 0.7916\n",
      "Epoch 11/100\n",
      "481/481 - 18s - loss: 0.6065 - accuracy: 0.8812 - f1: 0.8561 - auc: 0.9893 - val_loss: 1.7155 - val_accuracy: 0.4446 - val_f1: 0.3644 - val_auc: 0.7938\n",
      "Epoch 12/100\n",
      "481/481 - 18s - loss: 0.5932 - accuracy: 0.8932 - f1: 0.8709 - auc: 0.9911 - val_loss: 1.7287 - val_accuracy: 0.4461 - val_f1: 0.3715 - val_auc: 0.7940\n",
      "Epoch 13/100\n",
      "481/481 - 18s - loss: 0.5823 - accuracy: 0.9041 - f1: 0.8830 - auc: 0.9926 - val_loss: 1.7375 - val_accuracy: 0.4467 - val_f1: 0.3741 - val_auc: 0.7917\n",
      "Epoch 14/100\n",
      "481/481 - 18s - loss: 0.5726 - accuracy: 0.9140 - f1: 0.8944 - auc: 0.9938 - val_loss: 1.7690 - val_accuracy: 0.4339 - val_f1: 0.3604 - val_auc: 0.7856\n",
      "Epoch 15/100\n",
      "481/481 - 18s - loss: 0.5644 - accuracy: 0.9210 - f1: 0.9030 - auc: 0.9947 - val_loss: 1.7654 - val_accuracy: 0.4429 - val_f1: 0.3724 - val_auc: 0.7866\n",
      "Epoch 16/100\n",
      "481/481 - 18s - loss: 0.5570 - accuracy: 0.9284 - f1: 0.9112 - auc: 0.9955 - val_loss: 1.7603 - val_accuracy: 0.4488 - val_f1: 0.3816 - val_auc: 0.7890\n",
      "Epoch 17/100\n",
      "481/481 - 18s - loss: 0.5506 - accuracy: 0.9352 - f1: 0.9191 - auc: 0.9962 - val_loss: 1.7651 - val_accuracy: 0.4547 - val_f1: 0.3916 - val_auc: 0.7905\n",
      "Epoch 18/100\n",
      "481/481 - 18s - loss: 0.5448 - accuracy: 0.9406 - f1: 0.9251 - auc: 0.9968 - val_loss: 1.7789 - val_accuracy: 0.4520 - val_f1: 0.3890 - val_auc: 0.7884\n",
      "Epoch 19/100\n",
      "481/481 - 18s - loss: 0.5395 - accuracy: 0.9455 - f1: 0.9305 - auc: 0.9972 - val_loss: 1.7775 - val_accuracy: 0.4595 - val_f1: 0.4000 - val_auc: 0.7904\n",
      "Epoch 20/100\n",
      "481/481 - 18s - loss: 0.5349 - accuracy: 0.9501 - f1: 0.9360 - auc: 0.9976 - val_loss: 1.7944 - val_accuracy: 0.4537 - val_f1: 0.3933 - val_auc: 0.7854\n",
      "Epoch 21/100\n",
      "481/481 - 18s - loss: 0.5307 - accuracy: 0.9546 - f1: 0.9404 - auc: 0.9979 - val_loss: 1.7986 - val_accuracy: 0.4551 - val_f1: 0.3966 - val_auc: 0.7866\n",
      "Epoch 22/100\n",
      "481/481 - 18s - loss: 0.5269 - accuracy: 0.9578 - f1: 0.9443 - auc: 0.9982 - val_loss: 1.8107 - val_accuracy: 0.4524 - val_f1: 0.3933 - val_auc: 0.7836\n",
      "Restoring model weights from the end of the best epoch.\n",
      "Epoch 00022: early stopping\n",
      "Epoch 1/100\n",
      "481/481 - 21s - loss: 1.5167 - accuracy: 0.4358 - f1: 0.1278 - auc: 0.7996 - val_loss: 1.7998 - val_accuracy: 0.3170 - val_f1: 0.0141 - val_auc: 0.7024\n",
      "Epoch 2/100\n",
      "481/481 - 18s - loss: 1.1477 - accuracy: 0.6040 - f1: 0.3521 - auc: 0.9006 - val_loss: 1.7499 - val_accuracy: 0.3490 - val_f1: 0.0610 - val_auc: 0.7335\n",
      "Epoch 3/100\n",
      "481/481 - 17s - loss: 0.9828 - accuracy: 0.6744 - f1: 0.5013 - auc: 0.9319 - val_loss: 1.7224 - val_accuracy: 0.3685 - val_f1: 0.1302 - val_auc: 0.7537\n",
      "Epoch 4/100\n",
      "481/481 - 17s - loss: 0.8723 - accuracy: 0.7220 - f1: 0.6038 - auc: 0.9496 - val_loss: 1.6811 - val_accuracy: 0.4100 - val_f1: 0.2128 - val_auc: 0.7748\n",
      "Epoch 5/100\n",
      "481/481 - 18s - loss: 0.7983 - accuracy: 0.7608 - f1: 0.6772 - auc: 0.9616 - val_loss: 1.7032 - val_accuracy: 0.3992 - val_f1: 0.2231 - val_auc: 0.7698\n",
      "Epoch 6/100\n",
      "481/481 - 17s - loss: 0.7436 - accuracy: 0.7881 - f1: 0.7257 - auc: 0.9694 - val_loss: 1.6666 - val_accuracy: 0.4318 - val_f1: 0.2840 - val_auc: 0.7885\n",
      "Epoch 7/100\n",
      "481/481 - 18s - loss: 0.7018 - accuracy: 0.8147 - f1: 0.7665 - auc: 0.9759 - val_loss: 1.6829 - val_accuracy: 0.4254 - val_f1: 0.2986 - val_auc: 0.7893\n",
      "Epoch 8/100\n",
      "481/481 - 18s - loss: 0.6700 - accuracy: 0.8348 - f1: 0.7961 - auc: 0.9805 - val_loss: 1.6864 - val_accuracy: 0.4315 - val_f1: 0.3167 - val_auc: 0.7923\n",
      "Epoch 9/100\n",
      "481/481 - 18s - loss: 0.6464 - accuracy: 0.8518 - f1: 0.8196 - auc: 0.9841 - val_loss: 1.6900 - val_accuracy: 0.4382 - val_f1: 0.3324 - val_auc: 0.7933\n",
      "Epoch 10/100\n",
      "481/481 - 18s - loss: 0.6257 - accuracy: 0.8678 - f1: 0.8399 - auc: 0.9870 - val_loss: 1.6989 - val_accuracy: 0.4380 - val_f1: 0.3413 - val_auc: 0.7952\n",
      "Epoch 11/100\n",
      "481/481 - 17s - loss: 0.6087 - accuracy: 0.8800 - f1: 0.8552 - auc: 0.9891 - val_loss: 1.6939 - val_accuracy: 0.4516 - val_f1: 0.3594 - val_auc: 0.7983\n",
      "Epoch 12/100\n",
      "481/481 - 17s - loss: 0.5952 - accuracy: 0.8924 - f1: 0.8702 - auc: 0.9909 - val_loss: 1.6920 - val_accuracy: 0.4567 - val_f1: 0.3704 - val_auc: 0.8019\n",
      "Epoch 13/100\n",
      "481/481 - 18s - loss: 0.5839 - accuracy: 0.9028 - f1: 0.8822 - auc: 0.9925 - val_loss: 1.7023 - val_accuracy: 0.4517 - val_f1: 0.3680 - val_auc: 0.7992\n",
      "Epoch 14/100\n",
      "481/481 - 18s - loss: 0.5738 - accuracy: 0.9119 - f1: 0.8921 - auc: 0.9937 - val_loss: 1.7198 - val_accuracy: 0.4483 - val_f1: 0.3673 - val_auc: 0.7962\n",
      "Epoch 15/100\n",
      "481/481 - 18s - loss: 0.5652 - accuracy: 0.9199 - f1: 0.9015 - auc: 0.9946 - val_loss: 1.7246 - val_accuracy: 0.4481 - val_f1: 0.3697 - val_auc: 0.7963\n",
      "Restoring model weights from the end of the best epoch.\n",
      "Epoch 00015: early stopping\n",
      "Epoch 1/100\n",
      "481/481 - 20s - loss: 1.5111 - accuracy: 0.4187 - f1: 0.1346 - auc: 0.7920 - val_loss: 1.8115 - val_accuracy: 0.3229 - val_f1: 0.0211 - val_auc: 0.6968\n",
      "Epoch 2/100\n",
      "481/481 - 18s - loss: 1.1382 - accuracy: 0.6004 - f1: 0.3523 - auc: 0.8998 - val_loss: 1.7342 - val_accuracy: 0.3809 - val_f1: 0.0895 - val_auc: 0.7408\n",
      "Epoch 3/100\n",
      "481/481 - 18s - loss: 0.9711 - accuracy: 0.6819 - f1: 0.5107 - auc: 0.9334 - val_loss: 1.7498 - val_accuracy: 0.3722 - val_f1: 0.1155 - val_auc: 0.7415\n",
      "Epoch 4/100\n",
      "481/481 - 18s - loss: 0.8638 - accuracy: 0.7299 - f1: 0.6154 - auc: 0.9510 - val_loss: 1.7044 - val_accuracy: 0.4065 - val_f1: 0.2038 - val_auc: 0.7649\n",
      "Epoch 5/100\n",
      "481/481 - 18s - loss: 0.7895 - accuracy: 0.7665 - f1: 0.6878 - auc: 0.9629 - val_loss: 1.7027 - val_accuracy: 0.4125 - val_f1: 0.2505 - val_auc: 0.7693\n",
      "Epoch 6/100\n",
      "481/481 - 17s - loss: 0.7371 - accuracy: 0.7951 - f1: 0.7363 - auc: 0.9708 - val_loss: 1.6834 - val_accuracy: 0.4296 - val_f1: 0.2985 - val_auc: 0.7833\n",
      "Epoch 7/100\n",
      "481/481 - 18s - loss: 0.6970 - accuracy: 0.8198 - f1: 0.7725 - auc: 0.9769 - val_loss: 1.6687 - val_accuracy: 0.4428 - val_f1: 0.3368 - val_auc: 0.7937\n",
      "Epoch 8/100\n",
      "481/481 - 18s - loss: 0.6658 - accuracy: 0.8418 - f1: 0.8046 - auc: 0.9817 - val_loss: 1.6876 - val_accuracy: 0.4400 - val_f1: 0.3443 - val_auc: 0.7912\n",
      "Epoch 9/100\n",
      "481/481 - 17s - loss: 0.6417 - accuracy: 0.8594 - f1: 0.8281 - auc: 0.9852 - val_loss: 1.7048 - val_accuracy: 0.4346 - val_f1: 0.3455 - val_auc: 0.7885\n",
      "Epoch 10/100\n",
      "481/481 - 18s - loss: 0.6223 - accuracy: 0.8745 - f1: 0.8469 - auc: 0.9877 - val_loss: 1.6833 - val_accuracy: 0.4523 - val_f1: 0.3693 - val_auc: 0.7973\n",
      "Epoch 11/100\n",
      "481/481 - 18s - loss: 0.6059 - accuracy: 0.8885 - f1: 0.8642 - auc: 0.9900 - val_loss: 1.7033 - val_accuracy: 0.4495 - val_f1: 0.3718 - val_auc: 0.7955\n",
      "Epoch 12/100\n",
      "481/481 - 18s - loss: 0.5921 - accuracy: 0.9003 - f1: 0.8780 - auc: 0.9917 - val_loss: 1.7149 - val_accuracy: 0.4500 - val_f1: 0.3756 - val_auc: 0.7949\n",
      "Epoch 13/100\n",
      "481/481 - 17s - loss: 0.5809 - accuracy: 0.9098 - f1: 0.8895 - auc: 0.9931 - val_loss: 1.7167 - val_accuracy: 0.4530 - val_f1: 0.3823 - val_auc: 0.7948\n",
      "Epoch 14/100\n",
      "481/481 - 18s - loss: 0.5710 - accuracy: 0.9192 - f1: 0.8997 - auc: 0.9942 - val_loss: 1.7305 - val_accuracy: 0.4512 - val_f1: 0.3831 - val_auc: 0.7932\n",
      "Epoch 15/100\n",
      "481/481 - 18s - loss: 0.5625 - accuracy: 0.9267 - f1: 0.9088 - auc: 0.9951 - val_loss: 1.7482 - val_accuracy: 0.4455 - val_f1: 0.3774 - val_auc: 0.7896\n",
      "Epoch 16/100\n",
      "481/481 - 18s - loss: 0.5550 - accuracy: 0.9336 - f1: 0.9168 - auc: 0.9959 - val_loss: 1.7280 - val_accuracy: 0.4589 - val_f1: 0.3944 - val_auc: 0.7949\n",
      "Epoch 17/100\n",
      "481/481 - 19s - loss: 0.5485 - accuracy: 0.9402 - f1: 0.9239 - auc: 0.9966 - val_loss: 1.7360 - val_accuracy: 0.4579 - val_f1: 0.3931 - val_auc: 0.7938\n",
      "Epoch 18/100\n",
      "481/481 - 19s - loss: 0.5429 - accuracy: 0.9450 - f1: 0.9295 - auc: 0.9970 - val_loss: 1.7344 - val_accuracy: 0.4651 - val_f1: 0.4028 - val_auc: 0.7962\n",
      "Epoch 19/100\n",
      "481/481 - 18s - loss: 0.5378 - accuracy: 0.9497 - f1: 0.9349 - auc: 0.9975 - val_loss: 1.7413 - val_accuracy: 0.4666 - val_f1: 0.4057 - val_auc: 0.7963\n",
      "Epoch 20/100\n",
      "481/481 - 18s - loss: 0.5333 - accuracy: 0.9539 - f1: 0.9396 - auc: 0.9978 - val_loss: 1.7563 - val_accuracy: 0.4623 - val_f1: 0.4019 - val_auc: 0.7925\n",
      "Epoch 21/100\n",
      "481/481 - 19s - loss: 0.5293 - accuracy: 0.9577 - f1: 0.9435 - auc: 0.9981 - val_loss: 1.7715 - val_accuracy: 0.4561 - val_f1: 0.3954 - val_auc: 0.7890\n",
      "Epoch 22/100\n",
      "481/481 - 18s - loss: 0.5260 - accuracy: 0.9605 - f1: 0.9468 - auc: 0.9983 - val_loss: 1.7614 - val_accuracy: 0.4645 - val_f1: 0.4055 - val_auc: 0.7918\n",
      "Restoring model weights from the end of the best epoch.\n",
      "Epoch 00022: early stopping\n",
      "Epoch 1/100\n",
      "481/481 - 22s - loss: 1.5069 - accuracy: 0.4403 - f1: 0.1297 - auc: 0.8059 - val_loss: 1.7981 - val_accuracy: 0.3111 - val_f1: 0.0142 - val_auc: 0.7058\n",
      "Epoch 2/100\n",
      "481/481 - 18s - loss: 1.1250 - accuracy: 0.6128 - f1: 0.3600 - auc: 0.9029 - val_loss: 1.7120 - val_accuracy: 0.3843 - val_f1: 0.0784 - val_auc: 0.7541\n",
      "Epoch 3/100\n",
      "481/481 - 18s - loss: 0.9618 - accuracy: 0.6852 - f1: 0.5200 - auc: 0.9343 - val_loss: 1.6995 - val_accuracy: 0.3919 - val_f1: 0.1350 - val_auc: 0.7625\n",
      "Epoch 4/100\n",
      "481/481 - 18s - loss: 0.8575 - accuracy: 0.7316 - f1: 0.6213 - auc: 0.9514 - val_loss: 1.7207 - val_accuracy: 0.3828 - val_f1: 0.1824 - val_auc: 0.7605\n",
      "Epoch 5/100\n",
      "481/481 - 18s - loss: 0.7895 - accuracy: 0.7626 - f1: 0.6849 - auc: 0.9621 - val_loss: 1.6488 - val_accuracy: 0.4340 - val_f1: 0.2701 - val_auc: 0.7923\n",
      "Epoch 6/100\n",
      "481/481 - 18s - loss: 0.7375 - accuracy: 0.7937 - f1: 0.7369 - auc: 0.9710 - val_loss: 1.6748 - val_accuracy: 0.4238 - val_f1: 0.2778 - val_auc: 0.7865\n",
      "Epoch 7/100\n",
      "481/481 - 18s - loss: 0.6980 - accuracy: 0.8161 - f1: 0.7721 - auc: 0.9767 - val_loss: 1.6615 - val_accuracy: 0.4388 - val_f1: 0.3179 - val_auc: 0.7985\n",
      "Epoch 8/100\n",
      "481/481 - 18s - loss: 0.6676 - accuracy: 0.8375 - f1: 0.8001 - auc: 0.9814 - val_loss: 1.7029 - val_accuracy: 0.4252 - val_f1: 0.3118 - val_auc: 0.7907\n",
      "Epoch 9/100\n",
      "481/481 - 18s - loss: 0.6440 - accuracy: 0.8544 - f1: 0.8226 - auc: 0.9848 - val_loss: 1.6992 - val_accuracy: 0.4367 - val_f1: 0.3360 - val_auc: 0.7952\n",
      "Epoch 10/100\n",
      "481/481 - 18s - loss: 0.6246 - accuracy: 0.8697 - f1: 0.8417 - auc: 0.9875 - val_loss: 1.6993 - val_accuracy: 0.4416 - val_f1: 0.3447 - val_auc: 0.7960\n",
      "Epoch 11/100\n",
      "481/481 - 19s - loss: 0.6085 - accuracy: 0.8831 - f1: 0.8588 - auc: 0.9895 - val_loss: 1.6961 - val_accuracy: 0.4509 - val_f1: 0.3629 - val_auc: 0.8008\n",
      "Epoch 12/100\n",
      "481/481 - 19s - loss: 0.5947 - accuracy: 0.8945 - f1: 0.8727 - auc: 0.9913 - val_loss: 1.7072 - val_accuracy: 0.4513 - val_f1: 0.3675 - val_auc: 0.7993\n",
      "Epoch 13/100\n",
      "481/481 - 19s - loss: 0.5833 - accuracy: 0.9049 - f1: 0.8847 - auc: 0.9927 - val_loss: 1.7271 - val_accuracy: 0.4511 - val_f1: 0.3730 - val_auc: 0.7972\n",
      "Epoch 14/100\n",
      "481/481 - 19s - loss: 0.5736 - accuracy: 0.9144 - f1: 0.8955 - auc: 0.9939 - val_loss: 1.7279 - val_accuracy: 0.4494 - val_f1: 0.3701 - val_auc: 0.7959\n",
      "Epoch 15/100\n",
      "481/481 - 18s - loss: 0.5648 - accuracy: 0.9224 - f1: 0.9046 - auc: 0.9948 - val_loss: 1.7224 - val_accuracy: 0.4616 - val_f1: 0.3893 - val_auc: 0.8018\n",
      "Epoch 16/100\n",
      "481/481 - 18s - loss: 0.5573 - accuracy: 0.9304 - f1: 0.9134 - auc: 0.9956 - val_loss: 1.7250 - val_accuracy: 0.4643 - val_f1: 0.3921 - val_auc: 0.8007\n",
      "Epoch 17/100\n",
      "481/481 - 18s - loss: 0.5508 - accuracy: 0.9369 - f1: 0.9207 - auc: 0.9963 - val_loss: 1.7351 - val_accuracy: 0.4667 - val_f1: 0.3981 - val_auc: 0.8001\n",
      "Epoch 18/100\n",
      "481/481 - 18s - loss: 0.5450 - accuracy: 0.9422 - f1: 0.9263 - auc: 0.9968 - val_loss: 1.7308 - val_accuracy: 0.4711 - val_f1: 0.4031 - val_auc: 0.8009\n",
      "Epoch 19/100\n",
      "481/481 - 19s - loss: 0.5397 - accuracy: 0.9474 - f1: 0.9327 - auc: 0.9973 - val_loss: 1.7549 - val_accuracy: 0.4625 - val_f1: 0.3954 - val_auc: 0.7959\n",
      "Epoch 20/100\n",
      "481/481 - 18s - loss: 0.5349 - accuracy: 0.9519 - f1: 0.9376 - auc: 0.9977 - val_loss: 1.7531 - val_accuracy: 0.4666 - val_f1: 0.4008 - val_auc: 0.7965\n",
      "Epoch 21/100\n",
      "481/481 - 18s - loss: 0.5306 - accuracy: 0.9556 - f1: 0.9419 - auc: 0.9980 - val_loss: 1.7509 - val_accuracy: 0.4720 - val_f1: 0.4076 - val_auc: 0.7977\n",
      "Epoch 22/100\n",
      "481/481 - 18s - loss: 0.5268 - accuracy: 0.9593 - f1: 0.9458 - auc: 0.9983 - val_loss: 1.7723 - val_accuracy: 0.4638 - val_f1: 0.3994 - val_auc: 0.7930\n",
      "Epoch 23/100\n",
      "481/481 - 19s - loss: 0.5234 - accuracy: 0.9625 - f1: 0.9493 - auc: 0.9985 - val_loss: 1.7611 - val_accuracy: 0.4740 - val_f1: 0.4120 - val_auc: 0.7963\n",
      "Epoch 24/100\n",
      "481/481 - 18s - loss: 0.5203 - accuracy: 0.9651 - f1: 0.9524 - auc: 0.9987 - val_loss: 1.7711 - val_accuracy: 0.4708 - val_f1: 0.4084 - val_auc: 0.7934\n",
      "Epoch 25/100\n",
      "481/481 - 18s - loss: 0.5175 - accuracy: 0.9676 - f1: 0.9551 - auc: 0.9988 - val_loss: 1.7734 - val_accuracy: 0.4707 - val_f1: 0.4089 - val_auc: 0.7927\n",
      "Epoch 26/100\n",
      "481/481 - 19s - loss: 0.5150 - accuracy: 0.9699 - f1: 0.9575 - auc: 0.9990 - val_loss: 1.7740 - val_accuracy: 0.4778 - val_f1: 0.4190 - val_auc: 0.7950\n",
      "Epoch 27/100\n",
      "481/481 - 19s - loss: 0.5125 - accuracy: 0.9722 - f1: 0.9599 - auc: 0.9991 - val_loss: 1.7743 - val_accuracy: 0.4770 - val_f1: 0.4175 - val_auc: 0.7935\n",
      "Epoch 28/100\n",
      "481/481 - 19s - loss: 0.5103 - accuracy: 0.9742 - f1: 0.9621 - auc: 0.9992 - val_loss: 1.7748 - val_accuracy: 0.4776 - val_f1: 0.4188 - val_auc: 0.7928\n",
      "Epoch 29/100\n",
      "481/481 - 19s - loss: 0.5083 - accuracy: 0.9757 - f1: 0.9637 - auc: 0.9993 - val_loss: 1.7839 - val_accuracy: 0.4769 - val_f1: 0.4183 - val_auc: 0.7919\n",
      "Restoring model weights from the end of the best epoch.\n",
      "Epoch 00029: early stopping\n",
      "Epoch 1/100\n",
      "481/481 - 23s - loss: 1.5190 - accuracy: 0.4347 - f1: 0.1252 - auc: 0.7934 - val_loss: 1.8106 - val_accuracy: 0.3208 - val_f1: 0.0313 - val_auc: 0.6860\n",
      "Epoch 2/100\n",
      "481/481 - 18s - loss: 1.1402 - accuracy: 0.6070 - f1: 0.3555 - auc: 0.8998 - val_loss: 1.7345 - val_accuracy: 0.3677 - val_f1: 0.1072 - val_auc: 0.7374\n",
      "Epoch 3/100\n",
      "481/481 - 19s - loss: 0.9741 - accuracy: 0.6831 - f1: 0.5194 - auc: 0.9323 - val_loss: 1.6692 - val_accuracy: 0.4072 - val_f1: 0.2075 - val_auc: 0.7715\n",
      "Epoch 4/100\n",
      "481/481 - 19s - loss: 0.8667 - accuracy: 0.7282 - f1: 0.6187 - auc: 0.9494 - val_loss: 1.6653 - val_accuracy: 0.4160 - val_f1: 0.2493 - val_auc: 0.7776\n",
      "Epoch 5/100\n",
      "481/481 - 19s - loss: 0.7931 - accuracy: 0.7666 - f1: 0.6884 - auc: 0.9616 - val_loss: 1.6600 - val_accuracy: 0.4223 - val_f1: 0.2729 - val_auc: 0.7815\n",
      "Epoch 6/100\n",
      "481/481 - 18s - loss: 0.7435 - accuracy: 0.7966 - f1: 0.7355 - auc: 0.9699 - val_loss: 1.6789 - val_accuracy: 0.4217 - val_f1: 0.2976 - val_auc: 0.7844\n",
      "Epoch 7/100\n",
      "481/481 - 18s - loss: 0.6999 - accuracy: 0.8194 - f1: 0.7738 - auc: 0.9760 - val_loss: 1.6745 - val_accuracy: 0.4306 - val_f1: 0.3216 - val_auc: 0.7917\n",
      "Epoch 8/100\n",
      "481/481 - 18s - loss: 0.6686 - accuracy: 0.8406 - f1: 0.8036 - auc: 0.9810 - val_loss: 1.6845 - val_accuracy: 0.4324 - val_f1: 0.3350 - val_auc: 0.7897\n",
      "Epoch 9/100\n",
      "481/481 - 18s - loss: 0.6442 - accuracy: 0.8576 - f1: 0.8266 - auc: 0.9845 - val_loss: 1.6822 - val_accuracy: 0.4382 - val_f1: 0.3491 - val_auc: 0.7963\n",
      "Epoch 10/100\n",
      "481/481 - 18s - loss: 0.6236 - accuracy: 0.8735 - f1: 0.8464 - auc: 0.9875 - val_loss: 1.6795 - val_accuracy: 0.4483 - val_f1: 0.3635 - val_auc: 0.8000\n",
      "Epoch 11/100\n",
      "481/481 - 19s - loss: 0.6080 - accuracy: 0.8877 - f1: 0.8627 - auc: 0.9898 - val_loss: 1.6947 - val_accuracy: 0.4411 - val_f1: 0.3596 - val_auc: 0.7954\n",
      "Epoch 12/100\n",
      "481/481 - 19s - loss: 0.5937 - accuracy: 0.8989 - f1: 0.8765 - auc: 0.9915 - val_loss: 1.7145 - val_accuracy: 0.4399 - val_f1: 0.3614 - val_auc: 0.7935\n",
      "Epoch 13/100\n",
      "481/481 - 19s - loss: 0.5825 - accuracy: 0.9089 - f1: 0.8882 - auc: 0.9929 - val_loss: 1.7121 - val_accuracy: 0.4457 - val_f1: 0.3709 - val_auc: 0.7961\n",
      "Epoch 14/100\n",
      "481/481 - 19s - loss: 0.5726 - accuracy: 0.9184 - f1: 0.8993 - auc: 0.9941 - val_loss: 1.7122 - val_accuracy: 0.4480 - val_f1: 0.3726 - val_auc: 0.7957\n",
      "Epoch 15/100\n",
      "481/481 - 19s - loss: 0.5638 - accuracy: 0.9262 - f1: 0.9084 - auc: 0.9950 - val_loss: 1.7124 - val_accuracy: 0.4527 - val_f1: 0.3805 - val_auc: 0.7973\n",
      "Epoch 16/100\n",
      "481/481 - 18s - loss: 0.5563 - accuracy: 0.9338 - f1: 0.9166 - auc: 0.9959 - val_loss: 1.7336 - val_accuracy: 0.4486 - val_f1: 0.3784 - val_auc: 0.7942\n",
      "Epoch 17/100\n",
      "481/481 - 19s - loss: 0.5498 - accuracy: 0.9399 - f1: 0.9240 - auc: 0.9965 - val_loss: 1.7479 - val_accuracy: 0.4456 - val_f1: 0.3770 - val_auc: 0.7917\n",
      "Epoch 18/100\n",
      "481/481 - 19s - loss: 0.5440 - accuracy: 0.9454 - f1: 0.9300 - auc: 0.9970 - val_loss: 1.7394 - val_accuracy: 0.4508 - val_f1: 0.3819 - val_auc: 0.7932\n",
      "Epoch 19/100\n",
      "481/481 - 19s - loss: 0.5387 - accuracy: 0.9504 - f1: 0.9357 - auc: 0.9975 - val_loss: 1.7379 - val_accuracy: 0.4540 - val_f1: 0.3858 - val_auc: 0.7940\n",
      "Epoch 20/100\n",
      "481/481 - 18s - loss: 0.5342 - accuracy: 0.9545 - f1: 0.9400 - auc: 0.9978 - val_loss: 1.7460 - val_accuracy: 0.4560 - val_f1: 0.3904 - val_auc: 0.7935\n",
      "Epoch 21/100\n",
      "481/481 - 18s - loss: 0.5301 - accuracy: 0.9579 - f1: 0.9442 - auc: 0.9981 - val_loss: 1.7422 - val_accuracy: 0.4575 - val_f1: 0.3915 - val_auc: 0.7941\n",
      "Epoch 22/100\n",
      "481/481 - 19s - loss: 0.5264 - accuracy: 0.9612 - f1: 0.9476 - auc: 0.9984 - val_loss: 1.7573 - val_accuracy: 0.4539 - val_f1: 0.3891 - val_auc: 0.7904\n",
      "Epoch 23/100\n",
      "481/481 - 19s - loss: 0.5231 - accuracy: 0.9639 - f1: 0.9507 - auc: 0.9986 - val_loss: 1.7502 - val_accuracy: 0.4600 - val_f1: 0.3960 - val_auc: 0.7937\n",
      "Epoch 24/100\n",
      "481/481 - 18s - loss: 0.5200 - accuracy: 0.9665 - f1: 0.9534 - auc: 0.9988 - val_loss: 1.7502 - val_accuracy: 0.4628 - val_f1: 0.3989 - val_auc: 0.7932\n",
      "Epoch 25/100\n",
      "481/481 - 18s - loss: 0.5172 - accuracy: 0.9690 - f1: 0.9563 - auc: 0.9989 - val_loss: 1.7629 - val_accuracy: 0.4557 - val_f1: 0.3924 - val_auc: 0.7897\n",
      "Epoch 26/100\n",
      "481/481 - 19s - loss: 0.5146 - accuracy: 0.9709 - f1: 0.9581 - auc: 0.9991 - val_loss: 1.7677 - val_accuracy: 0.4546 - val_f1: 0.3923 - val_auc: 0.7885\n",
      "Epoch 27/100\n",
      "481/481 - 19s - loss: 0.5122 - accuracy: 0.9731 - f1: 0.9605 - auc: 0.9992 - val_loss: 1.7676 - val_accuracy: 0.4572 - val_f1: 0.3951 - val_auc: 0.7887\n",
      "Restoring model weights from the end of the best epoch.\n",
      "Epoch 00027: early stopping\n"
     ]
    },
    {
     "data": {
      "text/html": [
       "<span style=\"color:#4527A0\"><h1 style=\"font-size:18px\">Trial complete</h1></span>"
      ],
      "text/plain": [
       "<IPython.core.display.HTML object>"
      ]
     },
     "metadata": {},
     "output_type": "display_data"
    },
    {
     "data": {
      "text/html": [
       "<span style=\"color:#4527A0\"><h1 style=\"font-size:18px\">Trial summary</h1></span>"
      ],
      "text/plain": [
       "<IPython.core.display.HTML object>"
      ]
     },
     "metadata": {},
     "output_type": "display_data"
    },
    {
     "data": {
      "text/html": [
       "<span style=\"color:cyan\"> |-Trial ID: 57335e6f5a2091c88ad69c0586302267</span>"
      ],
      "text/plain": [
       "<IPython.core.display.HTML object>"
      ]
     },
     "metadata": {},
     "output_type": "display_data"
    },
    {
     "data": {
      "text/html": [
       "<span style=\"color:cyan\"> |-Score: 1.6640684843063354</span>"
      ],
      "text/plain": [
       "<IPython.core.display.HTML object>"
      ]
     },
     "metadata": {},
     "output_type": "display_data"
    },
    {
     "data": {
      "text/html": [
       "<span style=\"color:cyan\"> |-Best step: 0</span>"
      ],
      "text/plain": [
       "<IPython.core.display.HTML object>"
      ]
     },
     "metadata": {},
     "output_type": "display_data"
    },
    {
     "data": {
      "text/html": [
       "<span style=\"color:#7E57C2\"><h2 style=\"font-size:16px\">Hyperparameters:</h2></span>"
      ],
      "text/plain": [
       "<IPython.core.display.HTML object>"
      ]
     },
     "metadata": {},
     "output_type": "display_data"
    },
    {
     "data": {
      "text/html": [
       "<span style=\"color:cyan\"> |-units: 512</span>"
      ],
      "text/plain": [
       "<IPython.core.display.HTML object>"
      ]
     },
     "metadata": {},
     "output_type": "display_data"
    },
    {
     "name": "stdout",
     "output_type": "stream",
     "text": [
      "Epoch 1/100\n",
      "481/481 - 39s - loss: 1.3661 - accuracy: 0.5086 - f1: 0.2711 - auc: 0.8508 - val_loss: 1.7014 - val_accuracy: 0.3900 - val_f1: 0.1236 - val_auc: 0.7536\n",
      "Epoch 2/100\n",
      "481/481 - 37s - loss: 0.9448 - accuracy: 0.6932 - f1: 0.5723 - auc: 0.9389 - val_loss: 1.7164 - val_accuracy: 0.3967 - val_f1: 0.2209 - val_auc: 0.7549\n",
      "Epoch 3/100\n",
      "481/481 - 36s - loss: 0.7830 - accuracy: 0.7721 - f1: 0.7066 - auc: 0.9644 - val_loss: 1.6212 - val_accuracy: 0.4638 - val_f1: 0.3167 - val_auc: 0.7989\n",
      "Epoch 4/100\n",
      "481/481 - 36s - loss: 0.6900 - accuracy: 0.8268 - f1: 0.7856 - auc: 0.9785 - val_loss: 1.6354 - val_accuracy: 0.4592 - val_f1: 0.3418 - val_auc: 0.8008\n",
      "Epoch 5/100\n",
      "481/481 - 36s - loss: 0.6370 - accuracy: 0.8625 - f1: 0.8340 - auc: 0.9861 - val_loss: 1.6085 - val_accuracy: 0.4861 - val_f1: 0.3782 - val_auc: 0.8121\n",
      "Epoch 6/100\n",
      "481/481 - 35s - loss: 0.5993 - accuracy: 0.8918 - f1: 0.8692 - auc: 0.9909 - val_loss: 1.6708 - val_accuracy: 0.4538 - val_f1: 0.3545 - val_auc: 0.7977\n",
      "Epoch 7/100\n",
      "481/481 - 36s - loss: 0.5733 - accuracy: 0.9132 - f1: 0.8946 - auc: 0.9938 - val_loss: 1.6751 - val_accuracy: 0.4545 - val_f1: 0.3602 - val_auc: 0.7982\n",
      "Epoch 8/100\n",
      "481/481 - 36s - loss: 0.5563 - accuracy: 0.9283 - f1: 0.9128 - auc: 0.9956 - val_loss: 1.6357 - val_accuracy: 0.4729 - val_f1: 0.3751 - val_auc: 0.8055\n",
      "Restoring model weights from the end of the best epoch.\n",
      "Epoch 00008: early stopping\n",
      "Epoch 1/100\n",
      "481/481 - 38s - loss: 1.3568 - accuracy: 0.5108 - f1: 0.2742 - auc: 0.8516 - val_loss: 1.7262 - val_accuracy: 0.3747 - val_f1: 0.1045 - val_auc: 0.7424\n",
      "Epoch 2/100\n",
      "481/481 - 35s - loss: 0.9422 - accuracy: 0.7016 - f1: 0.5828 - auc: 0.9411 - val_loss: 1.6906 - val_accuracy: 0.4085 - val_f1: 0.2235 - val_auc: 0.7649\n",
      "Epoch 3/100\n",
      "481/481 - 36s - loss: 0.7823 - accuracy: 0.7760 - f1: 0.7126 - auc: 0.9657 - val_loss: 1.6636 - val_accuracy: 0.4286 - val_f1: 0.2618 - val_auc: 0.7791\n",
      "Epoch 4/100\n",
      "481/481 - 36s - loss: 0.6938 - accuracy: 0.8273 - f1: 0.7878 - auc: 0.9787 - val_loss: 1.6768 - val_accuracy: 0.4275 - val_f1: 0.3030 - val_auc: 0.7864\n",
      "Epoch 5/100\n",
      "481/481 - 39s - loss: 0.6397 - accuracy: 0.8628 - f1: 0.8349 - auc: 0.9860 - val_loss: 1.6721 - val_accuracy: 0.4269 - val_f1: 0.3108 - val_auc: 0.7916\n",
      "Epoch 6/100\n",
      "481/481 - 37s - loss: 0.6039 - accuracy: 0.8889 - f1: 0.8668 - auc: 0.9905 - val_loss: 1.6426 - val_accuracy: 0.4627 - val_f1: 0.3622 - val_auc: 0.8036\n",
      "Epoch 7/100\n",
      "481/481 - 38s - loss: 0.5766 - accuracy: 0.9114 - f1: 0.8942 - auc: 0.9935 - val_loss: 1.6464 - val_accuracy: 0.4687 - val_f1: 0.3719 - val_auc: 0.8048\n",
      "Epoch 8/100\n",
      "481/481 - 37s - loss: 0.5577 - accuracy: 0.9278 - f1: 0.9129 - auc: 0.9956 - val_loss: 1.6641 - val_accuracy: 0.4637 - val_f1: 0.3752 - val_auc: 0.8033\n",
      "Epoch 9/100\n",
      "481/481 - 35s - loss: 0.5417 - accuracy: 0.9422 - f1: 0.9291 - auc: 0.9970 - val_loss: 1.6534 - val_accuracy: 0.4717 - val_f1: 0.3790 - val_auc: 0.8019\n",
      "Epoch 10/100\n",
      "481/481 - 35s - loss: 0.5296 - accuracy: 0.9525 - f1: 0.9406 - auc: 0.9978 - val_loss: 1.6596 - val_accuracy: 0.4719 - val_f1: 0.3805 - val_auc: 0.8015\n",
      "Epoch 11/100\n",
      "481/481 - 34s - loss: 0.5208 - accuracy: 0.9604 - f1: 0.9492 - auc: 0.9984 - val_loss: 1.6708 - val_accuracy: 0.4663 - val_f1: 0.3757 - val_auc: 0.7997\n",
      "Epoch 12/100\n",
      "481/481 - 35s - loss: 0.5137 - accuracy: 0.9669 - f1: 0.9561 - auc: 0.9988 - val_loss: 1.6734 - val_accuracy: 0.4742 - val_f1: 0.3909 - val_auc: 0.8029\n",
      "Epoch 13/100\n",
      "481/481 - 32s - loss: 0.5072 - accuracy: 0.9719 - f1: 0.9615 - auc: 0.9991 - val_loss: 1.6771 - val_accuracy: 0.4760 - val_f1: 0.3962 - val_auc: 0.8028\n",
      "Epoch 14/100\n",
      "481/481 - 32s - loss: 0.5022 - accuracy: 0.9767 - f1: 0.9665 - auc: 0.9994 - val_loss: 1.6825 - val_accuracy: 0.4722 - val_f1: 0.3863 - val_auc: 0.7979\n",
      "Epoch 15/100\n",
      "481/481 - 32s - loss: 0.4979 - accuracy: 0.9794 - f1: 0.9699 - auc: 0.9995 - val_loss: 1.6822 - val_accuracy: 0.4767 - val_f1: 0.3928 - val_auc: 0.7998\n",
      "Epoch 16/100\n",
      "481/481 - 32s - loss: 0.4946 - accuracy: 0.9821 - f1: 0.9728 - auc: 0.9996 - val_loss: 1.6874 - val_accuracy: 0.4796 - val_f1: 0.3998 - val_auc: 0.8003\n",
      "Epoch 17/100\n",
      "481/481 - 32s - loss: 0.4915 - accuracy: 0.9845 - f1: 0.9756 - auc: 0.9997 - val_loss: 1.6947 - val_accuracy: 0.4742 - val_f1: 0.3930 - val_auc: 0.7976\n",
      "Epoch 18/100\n",
      "481/481 - 32s - loss: 0.4887 - accuracy: 0.9864 - f1: 0.9779 - auc: 0.9997 - val_loss: 1.6924 - val_accuracy: 0.4788 - val_f1: 0.3990 - val_auc: 0.7976\n",
      "Epoch 19/100\n",
      "481/481 - 32s - loss: 0.4865 - accuracy: 0.9879 - f1: 0.9798 - auc: 0.9998 - val_loss: 1.7021 - val_accuracy: 0.4756 - val_f1: 0.3946 - val_auc: 0.7948\n",
      "Restoring model weights from the end of the best epoch.\n",
      "Epoch 00019: early stopping\n",
      "Epoch 1/100\n",
      "481/481 - 35s - loss: 1.3687 - accuracy: 0.4930 - f1: 0.2557 - auc: 0.8428 - val_loss: 1.7721 - val_accuracy: 0.3415 - val_f1: 0.0940 - val_auc: 0.7259\n",
      "Epoch 2/100\n",
      "481/481 - 32s - loss: 0.9432 - accuracy: 0.6916 - f1: 0.5697 - auc: 0.9386 - val_loss: 1.6879 - val_accuracy: 0.4014 - val_f1: 0.2039 - val_auc: 0.7652\n",
      "Epoch 3/100\n",
      "481/481 - 32s - loss: 0.7861 - accuracy: 0.7684 - f1: 0.6999 - auc: 0.9645 - val_loss: 1.6614 - val_accuracy: 0.4169 - val_f1: 0.2574 - val_auc: 0.7826\n",
      "Epoch 4/100\n",
      "481/481 - 32s - loss: 0.6936 - accuracy: 0.8232 - f1: 0.7813 - auc: 0.9780 - val_loss: 1.6091 - val_accuracy: 0.4604 - val_f1: 0.3260 - val_auc: 0.8042\n",
      "Epoch 5/100\n",
      "481/481 - 32s - loss: 0.6363 - accuracy: 0.8635 - f1: 0.8333 - auc: 0.9862 - val_loss: 1.6265 - val_accuracy: 0.4636 - val_f1: 0.3502 - val_auc: 0.8039\n",
      "Epoch 6/100\n",
      "481/481 - 32s - loss: 0.6004 - accuracy: 0.8931 - f1: 0.8691 - auc: 0.9910 - val_loss: 1.6433 - val_accuracy: 0.4544 - val_f1: 0.3541 - val_auc: 0.8027\n",
      "Epoch 7/100\n",
      "481/481 - 32s - loss: 0.5745 - accuracy: 0.9137 - f1: 0.8945 - auc: 0.9939 - val_loss: 1.6197 - val_accuracy: 0.4772 - val_f1: 0.3790 - val_auc: 0.8092\n",
      "Epoch 8/100\n",
      "481/481 - 32s - loss: 0.5557 - accuracy: 0.9309 - f1: 0.9144 - auc: 0.9958 - val_loss: 1.6328 - val_accuracy: 0.4722 - val_f1: 0.3819 - val_auc: 0.8082\n",
      "Epoch 9/100\n",
      "481/481 - 32s - loss: 0.5392 - accuracy: 0.9445 - f1: 0.9297 - auc: 0.9972 - val_loss: 1.6310 - val_accuracy: 0.4835 - val_f1: 0.4001 - val_auc: 0.8121\n",
      "Epoch 10/100\n",
      "481/481 - 32s - loss: 0.5283 - accuracy: 0.9543 - f1: 0.9408 - auc: 0.9980 - val_loss: 1.6310 - val_accuracy: 0.4821 - val_f1: 0.4001 - val_auc: 0.8109\n",
      "Epoch 11/100\n",
      "481/481 - 32s - loss: 0.5195 - accuracy: 0.9621 - f1: 0.9498 - auc: 0.9985 - val_loss: 1.6417 - val_accuracy: 0.4850 - val_f1: 0.4078 - val_auc: 0.8121\n",
      "Epoch 12/100\n",
      "481/481 - 32s - loss: 0.5130 - accuracy: 0.9684 - f1: 0.9567 - auc: 0.9989 - val_loss: 1.6322 - val_accuracy: 0.4894 - val_f1: 0.4093 - val_auc: 0.8112\n",
      "Epoch 13/100\n",
      "481/481 - 32s - loss: 0.5064 - accuracy: 0.9730 - f1: 0.9622 - auc: 0.9992 - val_loss: 1.6469 - val_accuracy: 0.4842 - val_f1: 0.4047 - val_auc: 0.8077\n",
      "Epoch 14/100\n",
      "481/481 - 32s - loss: 0.5013 - accuracy: 0.9771 - f1: 0.9667 - auc: 0.9994 - val_loss: 1.6373 - val_accuracy: 0.4944 - val_f1: 0.4191 - val_auc: 0.8122\n",
      "Epoch 15/100\n",
      "481/481 - 32s - loss: 0.4972 - accuracy: 0.9803 - f1: 0.9703 - auc: 0.9995 - val_loss: 1.6426 - val_accuracy: 0.4924 - val_f1: 0.4171 - val_auc: 0.8106\n",
      "Epoch 16/100\n",
      "481/481 - 32s - loss: 0.4939 - accuracy: 0.9828 - f1: 0.9734 - auc: 0.9996 - val_loss: 1.6355 - val_accuracy: 0.4938 - val_f1: 0.4149 - val_auc: 0.8097\n",
      "Epoch 17/100\n",
      "481/481 - 32s - loss: 0.4911 - accuracy: 0.9844 - f1: 0.9754 - auc: 0.9997 - val_loss: 1.6442 - val_accuracy: 0.4899 - val_f1: 0.4133 - val_auc: 0.8087\n",
      "Restoring model weights from the end of the best epoch.\n",
      "Epoch 00017: early stopping\n",
      "Epoch 1/100\n",
      "481/481 - 35s - loss: 1.3600 - accuracy: 0.4914 - f1: 0.2608 - auc: 0.8435 - val_loss: 1.7238 - val_accuracy: 0.3648 - val_f1: 0.1466 - val_auc: 0.7496\n",
      "Epoch 2/100\n",
      "481/481 - 32s - loss: 0.9525 - accuracy: 0.6943 - f1: 0.5651 - auc: 0.9378 - val_loss: 1.7095 - val_accuracy: 0.3798 - val_f1: 0.1773 - val_auc: 0.7576\n",
      "Epoch 3/100\n",
      "481/481 - 32s - loss: 0.7861 - accuracy: 0.7714 - f1: 0.7040 - auc: 0.9646 - val_loss: 1.6914 - val_accuracy: 0.3990 - val_f1: 0.2296 - val_auc: 0.7726\n",
      "Epoch 4/100\n",
      "481/481 - 32s - loss: 0.6991 - accuracy: 0.8225 - f1: 0.7798 - auc: 0.9778 - val_loss: 1.6495 - val_accuracy: 0.4329 - val_f1: 0.3061 - val_auc: 0.7966\n",
      "Epoch 5/100\n",
      "481/481 - 32s - loss: 0.6411 - accuracy: 0.8625 - f1: 0.8320 - auc: 0.9860 - val_loss: 1.6237 - val_accuracy: 0.4562 - val_f1: 0.3380 - val_auc: 0.8064\n",
      "Epoch 6/100\n",
      "481/481 - 32s - loss: 0.6024 - accuracy: 0.8912 - f1: 0.8674 - auc: 0.9906 - val_loss: 1.6295 - val_accuracy: 0.4570 - val_f1: 0.3489 - val_auc: 0.8091\n",
      "Epoch 7/100\n",
      "481/481 - 32s - loss: 0.5766 - accuracy: 0.9129 - f1: 0.8939 - auc: 0.9937 - val_loss: 1.6282 - val_accuracy: 0.4597 - val_f1: 0.3522 - val_auc: 0.8095\n",
      "Epoch 8/100\n",
      "481/481 - 32s - loss: 0.5572 - accuracy: 0.9294 - f1: 0.9129 - auc: 0.9956 - val_loss: 1.6260 - val_accuracy: 0.4731 - val_f1: 0.3742 - val_auc: 0.8142\n",
      "Epoch 9/100\n",
      "481/481 - 32s - loss: 0.5428 - accuracy: 0.9421 - f1: 0.9284 - auc: 0.9968 - val_loss: 1.6360 - val_accuracy: 0.4717 - val_f1: 0.3753 - val_auc: 0.8136\n",
      "Epoch 10/100\n",
      "481/481 - 32s - loss: 0.5315 - accuracy: 0.9523 - f1: 0.9398 - auc: 0.9978 - val_loss: 1.6423 - val_accuracy: 0.4723 - val_f1: 0.3784 - val_auc: 0.8120\n",
      "Epoch 11/100\n",
      "481/481 - 32s - loss: 0.5211 - accuracy: 0.9611 - f1: 0.9489 - auc: 0.9984 - val_loss: 1.6515 - val_accuracy: 0.4677 - val_f1: 0.3733 - val_auc: 0.8090\n",
      "Epoch 12/100\n",
      "481/481 - 32s - loss: 0.5139 - accuracy: 0.9661 - f1: 0.9548 - auc: 0.9988 - val_loss: 1.6648 - val_accuracy: 0.4716 - val_f1: 0.3858 - val_auc: 0.8104\n",
      "Epoch 13/100\n",
      "481/481 - 32s - loss: 0.5085 - accuracy: 0.9717 - f1: 0.9610 - auc: 0.9991 - val_loss: 1.6602 - val_accuracy: 0.4714 - val_f1: 0.3846 - val_auc: 0.8100\n",
      "Epoch 14/100\n",
      "481/481 - 32s - loss: 0.5026 - accuracy: 0.9760 - f1: 0.9658 - auc: 0.9993 - val_loss: 1.6557 - val_accuracy: 0.4784 - val_f1: 0.3923 - val_auc: 0.8111\n",
      "Epoch 15/100\n",
      "481/481 - 32s - loss: 0.4979 - accuracy: 0.9791 - f1: 0.9696 - auc: 0.9995 - val_loss: 1.6565 - val_accuracy: 0.4787 - val_f1: 0.3896 - val_auc: 0.8104\n",
      "Epoch 16/100\n",
      "481/481 - 32s - loss: 0.4946 - accuracy: 0.9814 - f1: 0.9722 - auc: 0.9996 - val_loss: 1.6595 - val_accuracy: 0.4830 - val_f1: 0.3970 - val_auc: 0.8114\n",
      "Epoch 17/100\n",
      "481/481 - 32s - loss: 0.4914 - accuracy: 0.9840 - f1: 0.9750 - auc: 0.9997 - val_loss: 1.6641 - val_accuracy: 0.4804 - val_f1: 0.3948 - val_auc: 0.8093\n",
      "Epoch 18/100\n",
      "481/481 - 32s - loss: 0.4886 - accuracy: 0.9860 - f1: 0.9772 - auc: 0.9997 - val_loss: 1.6609 - val_accuracy: 0.4862 - val_f1: 0.4010 - val_auc: 0.8112\n",
      "Epoch 19/100\n",
      "481/481 - 32s - loss: 0.4864 - accuracy: 0.9875 - f1: 0.9791 - auc: 0.9998 - val_loss: 1.6657 - val_accuracy: 0.4827 - val_f1: 0.3970 - val_auc: 0.8087\n",
      "Epoch 20/100\n",
      "481/481 - 32s - loss: 0.4843 - accuracy: 0.9888 - f1: 0.9807 - auc: 0.9998 - val_loss: 1.6684 - val_accuracy: 0.4804 - val_f1: 0.3942 - val_auc: 0.8070\n",
      "Epoch 21/100\n",
      "481/481 - 32s - loss: 0.4825 - accuracy: 0.9899 - f1: 0.9821 - auc: 0.9999 - val_loss: 1.6661 - val_accuracy: 0.4835 - val_f1: 0.3975 - val_auc: 0.8081\n",
      "Restoring model weights from the end of the best epoch.\n",
      "Epoch 00021: early stopping\n",
      "Epoch 1/100\n",
      "481/481 - 35s - loss: 1.3611 - accuracy: 0.5117 - f1: 0.2773 - auc: 0.8514 - val_loss: 1.7452 - val_accuracy: 0.3577 - val_f1: 0.0869 - val_auc: 0.7341\n",
      "Epoch 2/100\n",
      "481/481 - 32s - loss: 0.9489 - accuracy: 0.6976 - f1: 0.5775 - auc: 0.9383 - val_loss: 1.8288 - val_accuracy: 0.3249 - val_f1: 0.1325 - val_auc: 0.7027\n",
      "Epoch 3/100\n",
      "481/481 - 32s - loss: 0.7861 - accuracy: 0.7752 - f1: 0.7093 - auc: 0.9643 - val_loss: 1.6419 - val_accuracy: 0.4292 - val_f1: 0.2770 - val_auc: 0.7916\n",
      "Epoch 4/100\n",
      "481/481 - 32s - loss: 0.6934 - accuracy: 0.8285 - f1: 0.7893 - auc: 0.9786 - val_loss: 1.6645 - val_accuracy: 0.4287 - val_f1: 0.2972 - val_auc: 0.7920\n",
      "Epoch 5/100\n",
      "481/481 - 32s - loss: 0.6376 - accuracy: 0.8648 - f1: 0.8370 - auc: 0.9862 - val_loss: 1.6203 - val_accuracy: 0.4599 - val_f1: 0.3453 - val_auc: 0.8072\n",
      "Epoch 6/100\n",
      "481/481 - 32s - loss: 0.5993 - accuracy: 0.8945 - f1: 0.8728 - auc: 0.9909 - val_loss: 1.6394 - val_accuracy: 0.4611 - val_f1: 0.3627 - val_auc: 0.8057\n",
      "Epoch 7/100\n",
      "481/481 - 32s - loss: 0.5733 - accuracy: 0.9161 - f1: 0.8983 - auc: 0.9940 - val_loss: 1.6130 - val_accuracy: 0.4757 - val_f1: 0.3803 - val_auc: 0.8129\n",
      "Epoch 8/100\n",
      "481/481 - 32s - loss: 0.5547 - accuracy: 0.9324 - f1: 0.9165 - auc: 0.9959 - val_loss: 1.6193 - val_accuracy: 0.4807 - val_f1: 0.3880 - val_auc: 0.8134\n",
      "Epoch 9/100\n",
      "481/481 - 32s - loss: 0.5401 - accuracy: 0.9449 - f1: 0.9310 - auc: 0.9971 - val_loss: 1.6336 - val_accuracy: 0.4749 - val_f1: 0.3816 - val_auc: 0.8107\n",
      "Epoch 10/100\n",
      "481/481 - 32s - loss: 0.5292 - accuracy: 0.9535 - f1: 0.9409 - auc: 0.9979 - val_loss: 1.6377 - val_accuracy: 0.4756 - val_f1: 0.3853 - val_auc: 0.8098\n",
      "Epoch 11/100\n",
      "481/481 - 32s - loss: 0.5205 - accuracy: 0.9610 - f1: 0.9487 - auc: 0.9984 - val_loss: 1.6454 - val_accuracy: 0.4748 - val_f1: 0.3881 - val_auc: 0.8095\n",
      "Epoch 12/100\n",
      "481/481 - 32s - loss: 0.5127 - accuracy: 0.9672 - f1: 0.9561 - auc: 0.9989 - val_loss: 1.6426 - val_accuracy: 0.4808 - val_f1: 0.3936 - val_auc: 0.8091\n",
      "Epoch 13/100\n",
      "481/481 - 32s - loss: 0.5066 - accuracy: 0.9720 - f1: 0.9613 - auc: 0.9992 - val_loss: 1.6472 - val_accuracy: 0.4838 - val_f1: 0.3987 - val_auc: 0.8095\n",
      "Epoch 14/100\n",
      "481/481 - 32s - loss: 0.5015 - accuracy: 0.9762 - f1: 0.9664 - auc: 0.9994 - val_loss: 1.6495 - val_accuracy: 0.4836 - val_f1: 0.4005 - val_auc: 0.8096\n",
      "Epoch 15/100\n",
      "481/481 - 32s - loss: 0.4972 - accuracy: 0.9796 - f1: 0.9701 - auc: 0.9995 - val_loss: 1.6458 - val_accuracy: 0.4882 - val_f1: 0.4051 - val_auc: 0.8107\n",
      "Epoch 16/100\n",
      "481/481 - 32s - loss: 0.4940 - accuracy: 0.9818 - f1: 0.9726 - auc: 0.9996 - val_loss: 1.6536 - val_accuracy: 0.4882 - val_f1: 0.4060 - val_auc: 0.8093\n",
      "Epoch 17/100\n",
      "481/481 - 32s - loss: 0.4909 - accuracy: 0.9843 - f1: 0.9756 - auc: 0.9997 - val_loss: 1.6565 - val_accuracy: 0.4867 - val_f1: 0.4054 - val_auc: 0.8081\n",
      "Epoch 18/100\n",
      "481/481 - 32s - loss: 0.4883 - accuracy: 0.9860 - f1: 0.9777 - auc: 0.9998 - val_loss: 1.6645 - val_accuracy: 0.4871 - val_f1: 0.4074 - val_auc: 0.8077\n",
      "Epoch 19/100\n",
      "481/481 - 32s - loss: 0.4860 - accuracy: 0.9877 - f1: 0.9798 - auc: 0.9998 - val_loss: 1.6648 - val_accuracy: 0.4841 - val_f1: 0.4028 - val_auc: 0.8054\n",
      "Epoch 20/100\n",
      "481/481 - 32s - loss: 0.4840 - accuracy: 0.9888 - f1: 0.9811 - auc: 0.9998 - val_loss: 1.6649 - val_accuracy: 0.4900 - val_f1: 0.4101 - val_auc: 0.8069\n",
      "Epoch 21/100\n",
      "481/481 - 32s - loss: 0.4822 - accuracy: 0.9900 - f1: 0.9826 - auc: 0.9999 - val_loss: 1.6628 - val_accuracy: 0.4901 - val_f1: 0.4094 - val_auc: 0.8067\n",
      "Epoch 22/100\n",
      "481/481 - 32s - loss: 0.4807 - accuracy: 0.9910 - f1: 0.9838 - auc: 0.9999 - val_loss: 1.6681 - val_accuracy: 0.4876 - val_f1: 0.4077 - val_auc: 0.8049\n",
      "Epoch 23/100\n",
      "481/481 - 32s - loss: 0.4792 - accuracy: 0.9916 - f1: 0.9847 - auc: 0.9999 - val_loss: 1.6659 - val_accuracy: 0.4920 - val_f1: 0.4121 - val_auc: 0.8060\n",
      "Epoch 24/100\n",
      "481/481 - 32s - loss: 0.4780 - accuracy: 0.9925 - f1: 0.9857 - auc: 0.9999 - val_loss: 1.6617 - val_accuracy: 0.4941 - val_f1: 0.4143 - val_auc: 0.8068\n",
      "Epoch 25/100\n",
      "481/481 - 32s - loss: 0.4768 - accuracy: 0.9929 - f1: 0.9864 - auc: 0.9999 - val_loss: 1.6677 - val_accuracy: 0.4941 - val_f1: 0.4152 - val_auc: 0.8059\n",
      "Epoch 26/100\n",
      "481/481 - 32s - loss: 0.4757 - accuracy: 0.9936 - f1: 0.9873 - auc: 0.9999 - val_loss: 1.6733 - val_accuracy: 0.4888 - val_f1: 0.4095 - val_auc: 0.8035\n",
      "Epoch 27/100\n",
      "481/481 - 32s - loss: 0.4748 - accuracy: 0.9939 - f1: 0.9877 - auc: 0.9999 - val_loss: 1.6715 - val_accuracy: 0.4895 - val_f1: 0.4103 - val_auc: 0.8038\n",
      "Epoch 28/100\n",
      "481/481 - 32s - loss: 0.4739 - accuracy: 0.9943 - f1: 0.9883 - auc: 0.9999 - val_loss: 1.6730 - val_accuracy: 0.4909 - val_f1: 0.4107 - val_auc: 0.8036\n",
      "Restoring model weights from the end of the best epoch.\n",
      "Epoch 00028: early stopping\n"
     ]
    },
    {
     "data": {
      "text/html": [
       "<span style=\"color:#4527A0\"><h1 style=\"font-size:18px\">Trial complete</h1></span>"
      ],
      "text/plain": [
       "<IPython.core.display.HTML object>"
      ]
     },
     "metadata": {},
     "output_type": "display_data"
    },
    {
     "data": {
      "text/html": [
       "<span style=\"color:#4527A0\"><h1 style=\"font-size:18px\">Trial summary</h1></span>"
      ],
      "text/plain": [
       "<IPython.core.display.HTML object>"
      ]
     },
     "metadata": {},
     "output_type": "display_data"
    },
    {
     "data": {
      "text/html": [
       "<span style=\"color:cyan\"> |-Trial ID: 4cf421631da0fa58c7b3c92c0389fa21</span>"
      ],
      "text/plain": [
       "<IPython.core.display.HTML object>"
      ]
     },
     "metadata": {},
     "output_type": "display_data"
    },
    {
     "data": {
      "text/html": [
       "<span style=\"color:cyan\"> |-Score: 1.6193851470947265</span>"
      ],
      "text/plain": [
       "<IPython.core.display.HTML object>"
      ]
     },
     "metadata": {},
     "output_type": "display_data"
    },
    {
     "data": {
      "text/html": [
       "<span style=\"color:cyan\"> |-Best step: 0</span>"
      ],
      "text/plain": [
       "<IPython.core.display.HTML object>"
      ]
     },
     "metadata": {},
     "output_type": "display_data"
    },
    {
     "data": {
      "text/html": [
       "<span style=\"color:#7E57C2\"><h2 style=\"font-size:16px\">Hyperparameters:</h2></span>"
      ],
      "text/plain": [
       "<IPython.core.display.HTML object>"
      ]
     },
     "metadata": {},
     "output_type": "display_data"
    },
    {
     "data": {
      "text/html": [
       "<span style=\"color:cyan\"> |-units: 2048</span>"
      ],
      "text/plain": [
       "<IPython.core.display.HTML object>"
      ]
     },
     "metadata": {},
     "output_type": "display_data"
    },
    {
     "name": "stdout",
     "output_type": "stream",
     "text": [
      "Epoch 1/100\n",
      "481/481 - 18s - loss: 1.5714 - accuracy: 0.3596 - f1: 0.0772 - auc: 0.7721 - val_loss: 1.8200 - val_accuracy: 0.2790 - val_f1: 0.0103 - val_auc: 0.6903\n",
      "Epoch 2/100\n",
      "481/481 - 16s - loss: 1.2330 - accuracy: 0.5328 - f1: 0.2400 - auc: 0.8752 - val_loss: 1.8075 - val_accuracy: 0.2898 - val_f1: 0.0325 - val_auc: 0.7043\n",
      "Epoch 3/100\n",
      "481/481 - 16s - loss: 1.0712 - accuracy: 0.6036 - f1: 0.3686 - auc: 0.9083 - val_loss: 1.7731 - val_accuracy: 0.3190 - val_f1: 0.0751 - val_auc: 0.7291\n",
      "Epoch 4/100\n",
      "481/481 - 16s - loss: 0.9656 - accuracy: 0.6531 - f1: 0.4738 - auc: 0.9283 - val_loss: 1.7128 - val_accuracy: 0.3751 - val_f1: 0.1474 - val_auc: 0.7614\n",
      "Epoch 5/100\n",
      "481/481 - 16s - loss: 0.8882 - accuracy: 0.6942 - f1: 0.5612 - auc: 0.9428 - val_loss: 1.7241 - val_accuracy: 0.3724 - val_f1: 0.1814 - val_auc: 0.7624\n",
      "Epoch 6/100\n",
      "481/481 - 16s - loss: 0.8297 - accuracy: 0.7258 - f1: 0.6251 - auc: 0.9529 - val_loss: 1.7089 - val_accuracy: 0.3949 - val_f1: 0.2251 - val_auc: 0.7728\n",
      "Epoch 7/100\n",
      "481/481 - 16s - loss: 0.7830 - accuracy: 0.7521 - f1: 0.6738 - auc: 0.9609 - val_loss: 1.7000 - val_accuracy: 0.4103 - val_f1: 0.2658 - val_auc: 0.7806\n",
      "Epoch 8/100\n",
      "481/481 - 16s - loss: 0.7479 - accuracy: 0.7751 - f1: 0.7126 - auc: 0.9670 - val_loss: 1.6992 - val_accuracy: 0.4132 - val_f1: 0.2877 - val_auc: 0.7858\n",
      "Epoch 9/100\n",
      "481/481 - 16s - loss: 0.7168 - accuracy: 0.7959 - f1: 0.7456 - auc: 0.9723 - val_loss: 1.7087 - val_accuracy: 0.4172 - val_f1: 0.2997 - val_auc: 0.7863\n",
      "Epoch 10/100\n",
      "481/481 - 16s - loss: 0.6927 - accuracy: 0.8122 - f1: 0.7701 - auc: 0.9761 - val_loss: 1.7089 - val_accuracy: 0.4227 - val_f1: 0.3183 - val_auc: 0.7893\n",
      "Epoch 11/100\n",
      "481/481 - 16s - loss: 0.6715 - accuracy: 0.8281 - f1: 0.7919 - auc: 0.9795 - val_loss: 1.7244 - val_accuracy: 0.4224 - val_f1: 0.3324 - val_auc: 0.7908\n",
      "Epoch 12/100\n",
      "481/481 - 16s - loss: 0.6541 - accuracy: 0.8421 - f1: 0.8101 - auc: 0.9823 - val_loss: 1.7399 - val_accuracy: 0.4189 - val_f1: 0.3319 - val_auc: 0.7886\n",
      "Epoch 13/100\n",
      "481/481 - 16s - loss: 0.6391 - accuracy: 0.8543 - f1: 0.8253 - auc: 0.9846 - val_loss: 1.7349 - val_accuracy: 0.4283 - val_f1: 0.3443 - val_auc: 0.7920\n",
      "Epoch 14/100\n",
      "481/481 - 16s - loss: 0.6262 - accuracy: 0.8658 - f1: 0.8388 - auc: 0.9865 - val_loss: 1.7255 - val_accuracy: 0.4430 - val_f1: 0.3649 - val_auc: 0.7971\n",
      "Epoch 15/100\n",
      "481/481 - 16s - loss: 0.6144 - accuracy: 0.8778 - f1: 0.8529 - auc: 0.9884 - val_loss: 1.7555 - val_accuracy: 0.4292 - val_f1: 0.3532 - val_auc: 0.7907\n",
      "Epoch 16/100\n",
      "481/481 - 16s - loss: 0.6043 - accuracy: 0.8863 - f1: 0.8632 - auc: 0.9897 - val_loss: 1.7523 - val_accuracy: 0.4384 - val_f1: 0.3651 - val_auc: 0.7926\n",
      "Epoch 17/100\n",
      "481/481 - 16s - loss: 0.5953 - accuracy: 0.8956 - f1: 0.8737 - auc: 0.9910 - val_loss: 1.7583 - val_accuracy: 0.4430 - val_f1: 0.3736 - val_auc: 0.7943\n",
      "Epoch 18/100\n",
      "481/481 - 16s - loss: 0.5872 - accuracy: 0.9037 - f1: 0.8831 - auc: 0.9921 - val_loss: 1.7704 - val_accuracy: 0.4370 - val_f1: 0.3684 - val_auc: 0.7895\n",
      "Epoch 19/100\n",
      "481/481 - 16s - loss: 0.5797 - accuracy: 0.9113 - f1: 0.8906 - auc: 0.9929 - val_loss: 1.7747 - val_accuracy: 0.4461 - val_f1: 0.3810 - val_auc: 0.7930\n",
      "Epoch 20/100\n",
      "481/481 - 16s - loss: 0.5731 - accuracy: 0.9185 - f1: 0.8987 - auc: 0.9938 - val_loss: 1.7902 - val_accuracy: 0.4446 - val_f1: 0.3828 - val_auc: 0.7921\n",
      "Epoch 21/100\n",
      "481/481 - 16s - loss: 0.5675 - accuracy: 0.9246 - f1: 0.9056 - auc: 0.9944 - val_loss: 1.8079 - val_accuracy: 0.4398 - val_f1: 0.3787 - val_auc: 0.7883\n",
      "Epoch 22/100\n",
      "481/481 - 16s - loss: 0.5620 - accuracy: 0.9303 - f1: 0.9116 - auc: 0.9950 - val_loss: 1.7979 - val_accuracy: 0.4476 - val_f1: 0.3876 - val_auc: 0.7904\n",
      "Epoch 23/100\n",
      "481/481 - 16s - loss: 0.5574 - accuracy: 0.9350 - f1: 0.9174 - auc: 0.9956 - val_loss: 1.8076 - val_accuracy: 0.4453 - val_f1: 0.3865 - val_auc: 0.7885\n",
      "Epoch 24/100\n",
      "481/481 - 16s - loss: 0.5533 - accuracy: 0.9386 - f1: 0.9216 - auc: 0.9960 - val_loss: 1.8347 - val_accuracy: 0.4411 - val_f1: 0.3836 - val_auc: 0.7861\n",
      "Epoch 25/100\n",
      "481/481 - 16s - loss: 0.5491 - accuracy: 0.9427 - f1: 0.9259 - auc: 0.9964 - val_loss: 1.8257 - val_accuracy: 0.4453 - val_f1: 0.3882 - val_auc: 0.7852\n",
      "Epoch 26/100\n",
      "481/481 - 16s - loss: 0.5451 - accuracy: 0.9462 - f1: 0.9301 - auc: 0.9967 - val_loss: 1.8395 - val_accuracy: 0.4442 - val_f1: 0.3891 - val_auc: 0.7845\n",
      "Epoch 27/100\n",
      "481/481 - 16s - loss: 0.5419 - accuracy: 0.9486 - f1: 0.9327 - auc: 0.9970 - val_loss: 1.8365 - val_accuracy: 0.4498 - val_f1: 0.3956 - val_auc: 0.7852\n",
      "Epoch 28/100\n",
      "481/481 - 16s - loss: 0.5388 - accuracy: 0.9517 - f1: 0.9360 - auc: 0.9973 - val_loss: 1.8540 - val_accuracy: 0.4452 - val_f1: 0.3923 - val_auc: 0.7826\n",
      "Epoch 29/100\n",
      "481/481 - 16s - loss: 0.5360 - accuracy: 0.9547 - f1: 0.9392 - auc: 0.9975 - val_loss: 1.8627 - val_accuracy: 0.4443 - val_f1: 0.3914 - val_auc: 0.7803\n",
      "Epoch 30/100\n",
      "481/481 - 16s - loss: 0.5331 - accuracy: 0.9565 - f1: 0.9415 - auc: 0.9977 - val_loss: 1.8619 - val_accuracy: 0.4447 - val_f1: 0.3915 - val_auc: 0.7789\n",
      "Restoring model weights from the end of the best epoch.\n",
      "Epoch 00030: early stopping\n",
      "Epoch 1/100\n",
      "481/481 - 18s - loss: 1.5763 - accuracy: 0.3891 - f1: 0.0716 - auc: 0.7747 - val_loss: 1.8818 - val_accuracy: 0.2231 - val_f1: 0.0099 - val_auc: 0.6489\n",
      "Epoch 2/100\n",
      "481/481 - 16s - loss: 1.2315 - accuracy: 0.5474 - f1: 0.2410 - auc: 0.8779 - val_loss: 1.8194 - val_accuracy: 0.2833 - val_f1: 0.0408 - val_auc: 0.6973\n",
      "Epoch 3/100\n",
      "481/481 - 16s - loss: 1.0710 - accuracy: 0.6172 - f1: 0.3820 - auc: 0.9113 - val_loss: 1.7573 - val_accuracy: 0.3420 - val_f1: 0.0858 - val_auc: 0.7361\n",
      "Epoch 4/100\n",
      "481/481 - 16s - loss: 0.9640 - accuracy: 0.6674 - f1: 0.5022 - auc: 0.9317 - val_loss: 1.7285 - val_accuracy: 0.3683 - val_f1: 0.1442 - val_auc: 0.7548\n",
      "Epoch 5/100\n",
      "481/481 - 16s - loss: 0.8848 - accuracy: 0.7071 - f1: 0.5872 - auc: 0.9456 - val_loss: 1.7445 - val_accuracy: 0.3655 - val_f1: 0.1755 - val_auc: 0.7537\n",
      "Epoch 6/100\n",
      "481/481 - 16s - loss: 0.8262 - accuracy: 0.7346 - f1: 0.6438 - auc: 0.9546 - val_loss: 1.7327 - val_accuracy: 0.3840 - val_f1: 0.2245 - val_auc: 0.7634\n",
      "Epoch 7/100\n",
      "481/481 - 16s - loss: 0.7803 - accuracy: 0.7589 - f1: 0.6882 - auc: 0.9620 - val_loss: 1.6957 - val_accuracy: 0.4128 - val_f1: 0.2755 - val_auc: 0.7833\n",
      "Epoch 8/100\n",
      "481/481 - 16s - loss: 0.7422 - accuracy: 0.7842 - f1: 0.7278 - auc: 0.9685 - val_loss: 1.7310 - val_accuracy: 0.4025 - val_f1: 0.2786 - val_auc: 0.7741\n",
      "Epoch 9/100\n",
      "481/481 - 16s - loss: 0.7140 - accuracy: 0.8013 - f1: 0.7542 - auc: 0.9728 - val_loss: 1.7378 - val_accuracy: 0.4075 - val_f1: 0.2979 - val_auc: 0.7793\n",
      "Epoch 10/100\n",
      "481/481 - 16s - loss: 0.6879 - accuracy: 0.8195 - f1: 0.7794 - auc: 0.9769 - val_loss: 1.7334 - val_accuracy: 0.4194 - val_f1: 0.3236 - val_auc: 0.7860\n",
      "Epoch 11/100\n",
      "481/481 - 16s - loss: 0.6676 - accuracy: 0.8345 - f1: 0.7995 - auc: 0.9800 - val_loss: 1.7322 - val_accuracy: 0.4302 - val_f1: 0.3417 - val_auc: 0.7883\n",
      "Epoch 12/100\n",
      "481/481 - 16s - loss: 0.6495 - accuracy: 0.8496 - f1: 0.8187 - auc: 0.9830 - val_loss: 1.7511 - val_accuracy: 0.4237 - val_f1: 0.3383 - val_auc: 0.7845\n",
      "Epoch 13/100\n",
      "481/481 - 16s - loss: 0.6352 - accuracy: 0.8608 - f1: 0.8323 - auc: 0.9850 - val_loss: 1.7609 - val_accuracy: 0.4283 - val_f1: 0.3483 - val_auc: 0.7863\n",
      "Epoch 14/100\n",
      "481/481 - 16s - loss: 0.6227 - accuracy: 0.8714 - f1: 0.8457 - auc: 0.9869 - val_loss: 1.7696 - val_accuracy: 0.4308 - val_f1: 0.3564 - val_auc: 0.7867\n",
      "Epoch 15/100\n",
      "481/481 - 16s - loss: 0.6113 - accuracy: 0.8816 - f1: 0.8577 - auc: 0.9885 - val_loss: 1.7754 - val_accuracy: 0.4333 - val_f1: 0.3626 - val_auc: 0.7868\n",
      "Epoch 16/100\n",
      "481/481 - 16s - loss: 0.6018 - accuracy: 0.8907 - f1: 0.8685 - auc: 0.9900 - val_loss: 1.7942 - val_accuracy: 0.4299 - val_f1: 0.3626 - val_auc: 0.7829\n",
      "Epoch 17/100\n",
      "481/481 - 16s - loss: 0.5931 - accuracy: 0.8982 - f1: 0.8769 - auc: 0.9911 - val_loss: 1.7891 - val_accuracy: 0.4387 - val_f1: 0.3739 - val_auc: 0.7864\n",
      "Epoch 18/100\n",
      "481/481 - 16s - loss: 0.5855 - accuracy: 0.9060 - f1: 0.8852 - auc: 0.9922 - val_loss: 1.8034 - val_accuracy: 0.4386 - val_f1: 0.3765 - val_auc: 0.7847\n",
      "Epoch 19/100\n",
      "481/481 - 16s - loss: 0.5789 - accuracy: 0.9119 - f1: 0.8928 - auc: 0.9930 - val_loss: 1.8223 - val_accuracy: 0.4324 - val_f1: 0.3707 - val_auc: 0.7800\n",
      "Epoch 20/100\n",
      "481/481 - 16s - loss: 0.5728 - accuracy: 0.9175 - f1: 0.8987 - auc: 0.9938 - val_loss: 1.8274 - val_accuracy: 0.4356 - val_f1: 0.3769 - val_auc: 0.7807\n",
      "Epoch 21/100\n",
      "481/481 - 16s - loss: 0.5672 - accuracy: 0.9232 - f1: 0.9050 - auc: 0.9944 - val_loss: 1.8156 - val_accuracy: 0.4453 - val_f1: 0.3881 - val_auc: 0.7848\n",
      "Epoch 22/100\n",
      "481/481 - 16s - loss: 0.5622 - accuracy: 0.9281 - f1: 0.9107 - auc: 0.9950 - val_loss: 1.8438 - val_accuracy: 0.4367 - val_f1: 0.3807 - val_auc: 0.7792\n",
      "Epoch 23/100\n",
      "481/481 - 16s - loss: 0.5573 - accuracy: 0.9330 - f1: 0.9156 - auc: 0.9956 - val_loss: 1.8479 - val_accuracy: 0.4335 - val_f1: 0.3773 - val_auc: 0.7762\n",
      "Epoch 24/100\n",
      "481/481 - 16s - loss: 0.5535 - accuracy: 0.9366 - f1: 0.9198 - auc: 0.9960 - val_loss: 1.8507 - val_accuracy: 0.4382 - val_f1: 0.3844 - val_auc: 0.7774\n",
      "Restoring model weights from the end of the best epoch.\n",
      "Epoch 00024: early stopping\n",
      "Epoch 1/100\n",
      "481/481 - 19s - loss: 1.5744 - accuracy: 0.3773 - f1: 0.0694 - auc: 0.7756 - val_loss: 1.8041 - val_accuracy: 0.2630 - val_f1: 0.0073 - val_auc: 0.7025\n",
      "Epoch 2/100\n",
      "481/481 - 16s - loss: 1.2432 - accuracy: 0.5467 - f1: 0.2213 - auc: 0.8786 - val_loss: 1.7794 - val_accuracy: 0.3164 - val_f1: 0.0250 - val_auc: 0.7208\n",
      "Epoch 3/100\n",
      "481/481 - 16s - loss: 1.0826 - accuracy: 0.6186 - f1: 0.3593 - auc: 0.9099 - val_loss: 1.7113 - val_accuracy: 0.3712 - val_f1: 0.0760 - val_auc: 0.7580\n",
      "Epoch 4/100\n",
      "481/481 - 16s - loss: 0.9723 - accuracy: 0.6696 - f1: 0.4835 - auc: 0.9297 - val_loss: 1.7039 - val_accuracy: 0.3798 - val_f1: 0.1351 - val_auc: 0.7654\n",
      "Epoch 5/100\n",
      "481/481 - 16s - loss: 0.8937 - accuracy: 0.7061 - f1: 0.5708 - auc: 0.9433 - val_loss: 1.6968 - val_accuracy: 0.3931 - val_f1: 0.1785 - val_auc: 0.7708\n",
      "Epoch 6/100\n",
      "481/481 - 16s - loss: 0.8328 - accuracy: 0.7367 - f1: 0.6360 - auc: 0.9533 - val_loss: 1.6854 - val_accuracy: 0.4054 - val_f1: 0.2259 - val_auc: 0.7798\n",
      "Epoch 7/100\n",
      "481/481 - 16s - loss: 0.7842 - accuracy: 0.7631 - f1: 0.6869 - auc: 0.9617 - val_loss: 1.6808 - val_accuracy: 0.4150 - val_f1: 0.2669 - val_auc: 0.7859\n",
      "Epoch 8/100\n",
      "481/481 - 16s - loss: 0.7455 - accuracy: 0.7840 - f1: 0.7253 - auc: 0.9681 - val_loss: 1.7020 - val_accuracy: 0.4106 - val_f1: 0.2794 - val_auc: 0.7842\n",
      "Epoch 9/100\n",
      "481/481 - 16s - loss: 0.7149 - accuracy: 0.8017 - f1: 0.7530 - auc: 0.9727 - val_loss: 1.6871 - val_accuracy: 0.4293 - val_f1: 0.3131 - val_auc: 0.7929\n",
      "Epoch 10/100\n",
      "481/481 - 16s - loss: 0.6902 - accuracy: 0.8194 - f1: 0.7784 - auc: 0.9770 - val_loss: 1.7013 - val_accuracy: 0.4288 - val_f1: 0.3247 - val_auc: 0.7940\n",
      "Epoch 11/100\n",
      "481/481 - 16s - loss: 0.6679 - accuracy: 0.8347 - f1: 0.7983 - auc: 0.9804 - val_loss: 1.7162 - val_accuracy: 0.4322 - val_f1: 0.3370 - val_auc: 0.7924\n",
      "Epoch 12/100\n",
      "481/481 - 16s - loss: 0.6506 - accuracy: 0.8482 - f1: 0.8167 - auc: 0.9832 - val_loss: 1.7185 - val_accuracy: 0.4342 - val_f1: 0.3417 - val_auc: 0.7925\n",
      "Epoch 13/100\n",
      "481/481 - 16s - loss: 0.6357 - accuracy: 0.8604 - f1: 0.8310 - auc: 0.9853 - val_loss: 1.7236 - val_accuracy: 0.4400 - val_f1: 0.3540 - val_auc: 0.7941\n",
      "Epoch 14/100\n",
      "481/481 - 16s - loss: 0.6223 - accuracy: 0.8721 - f1: 0.8450 - auc: 0.9873 - val_loss: 1.7418 - val_accuracy: 0.4362 - val_f1: 0.3531 - val_auc: 0.7912\n",
      "Epoch 15/100\n",
      "481/481 - 16s - loss: 0.6109 - accuracy: 0.8807 - f1: 0.8554 - auc: 0.9888 - val_loss: 1.7330 - val_accuracy: 0.4509 - val_f1: 0.3735 - val_auc: 0.7967\n",
      "Epoch 16/100\n",
      "481/481 - 16s - loss: 0.6014 - accuracy: 0.8908 - f1: 0.8670 - auc: 0.9903 - val_loss: 1.7488 - val_accuracy: 0.4468 - val_f1: 0.3718 - val_auc: 0.7929\n",
      "Epoch 17/100\n",
      "481/481 - 16s - loss: 0.5922 - accuracy: 0.8986 - f1: 0.8761 - auc: 0.9914 - val_loss: 1.7598 - val_accuracy: 0.4436 - val_f1: 0.3702 - val_auc: 0.7911\n",
      "Epoch 18/100\n",
      "481/481 - 16s - loss: 0.5845 - accuracy: 0.9056 - f1: 0.8842 - auc: 0.9924 - val_loss: 1.7812 - val_accuracy: 0.4423 - val_f1: 0.3722 - val_auc: 0.7895\n",
      "Restoring model weights from the end of the best epoch.\n",
      "Epoch 00018: early stopping\n",
      "Epoch 1/100\n",
      "481/481 - 18s - loss: 1.5719 - accuracy: 0.3811 - f1: 0.0877 - auc: 0.7660 - val_loss: 1.7567 - val_accuracy: 0.3345 - val_f1: 0.0057 - val_auc: 0.7334\n",
      "Epoch 2/100\n",
      "481/481 - 16s - loss: 1.2197 - accuracy: 0.5502 - f1: 0.2509 - auc: 0.8803 - val_loss: 1.6920 - val_accuracy: 0.3815 - val_f1: 0.0609 - val_auc: 0.7636\n",
      "Epoch 3/100\n",
      "481/481 - 16s - loss: 1.0554 - accuracy: 0.6247 - f1: 0.3934 - auc: 0.9134 - val_loss: 1.6751 - val_accuracy: 0.3930 - val_f1: 0.1175 - val_auc: 0.7719\n",
      "Epoch 4/100\n",
      "481/481 - 16s - loss: 0.9494 - accuracy: 0.6733 - f1: 0.5090 - auc: 0.9320 - val_loss: 1.6337 - val_accuracy: 0.4161 - val_f1: 0.1869 - val_auc: 0.7913\n",
      "Epoch 5/100\n",
      "481/481 - 16s - loss: 0.8750 - accuracy: 0.7104 - f1: 0.5925 - auc: 0.9453 - val_loss: 1.6276 - val_accuracy: 0.4365 - val_f1: 0.2458 - val_auc: 0.7961\n",
      "Epoch 6/100\n",
      "481/481 - 16s - loss: 0.8176 - accuracy: 0.7399 - f1: 0.6531 - auc: 0.9549 - val_loss: 1.6141 - val_accuracy: 0.4474 - val_f1: 0.2889 - val_auc: 0.8047\n",
      "Epoch 7/100\n",
      "481/481 - 16s - loss: 0.7743 - accuracy: 0.7636 - f1: 0.6975 - auc: 0.9623 - val_loss: 1.6219 - val_accuracy: 0.4502 - val_f1: 0.3118 - val_auc: 0.8051\n",
      "Epoch 8/100\n",
      "481/481 - 16s - loss: 0.7393 - accuracy: 0.7847 - f1: 0.7318 - auc: 0.9683 - val_loss: 1.6324 - val_accuracy: 0.4489 - val_f1: 0.3264 - val_auc: 0.8058\n",
      "Epoch 9/100\n",
      "481/481 - 16s - loss: 0.7099 - accuracy: 0.8024 - f1: 0.7604 - auc: 0.9729 - val_loss: 1.6383 - val_accuracy: 0.4530 - val_f1: 0.3474 - val_auc: 0.8088\n",
      "Epoch 10/100\n",
      "481/481 - 16s - loss: 0.6869 - accuracy: 0.8190 - f1: 0.7822 - auc: 0.9768 - val_loss: 1.6415 - val_accuracy: 0.4588 - val_f1: 0.3624 - val_auc: 0.8099\n",
      "Epoch 11/100\n",
      "481/481 - 16s - loss: 0.6668 - accuracy: 0.8338 - f1: 0.8016 - auc: 0.9801 - val_loss: 1.6529 - val_accuracy: 0.4612 - val_f1: 0.3728 - val_auc: 0.8096\n",
      "Epoch 12/100\n",
      "481/481 - 16s - loss: 0.6505 - accuracy: 0.8461 - f1: 0.8176 - auc: 0.9828 - val_loss: 1.6682 - val_accuracy: 0.4583 - val_f1: 0.3771 - val_auc: 0.8093\n",
      "Epoch 13/100\n",
      "481/481 - 16s - loss: 0.6359 - accuracy: 0.8579 - f1: 0.8321 - auc: 0.9850 - val_loss: 1.6618 - val_accuracy: 0.4688 - val_f1: 0.3922 - val_auc: 0.8126\n",
      "Epoch 14/100\n",
      "481/481 - 16s - loss: 0.6232 - accuracy: 0.8688 - f1: 0.8451 - auc: 0.9869 - val_loss: 1.6611 - val_accuracy: 0.4786 - val_f1: 0.4063 - val_auc: 0.8148\n",
      "Epoch 15/100\n",
      "481/481 - 16s - loss: 0.6122 - accuracy: 0.8794 - f1: 0.8572 - auc: 0.9887 - val_loss: 1.6922 - val_accuracy: 0.4663 - val_f1: 0.3982 - val_auc: 0.8090\n",
      "Epoch 16/100\n",
      "481/481 - 16s - loss: 0.6029 - accuracy: 0.8880 - f1: 0.8672 - auc: 0.9899 - val_loss: 1.6939 - val_accuracy: 0.4687 - val_f1: 0.4029 - val_auc: 0.8088\n",
      "Epoch 17/100\n",
      "481/481 - 16s - loss: 0.5943 - accuracy: 0.8966 - f1: 0.8763 - auc: 0.9912 - val_loss: 1.7147 - val_accuracy: 0.4628 - val_f1: 0.4002 - val_auc: 0.8053\n",
      "Restoring model weights from the end of the best epoch.\n",
      "Epoch 00017: early stopping\n",
      "Epoch 1/100\n",
      "481/481 - 18s - loss: 1.5823 - accuracy: 0.3311 - f1: 0.0657 - auc: 0.7541 - val_loss: 1.8067 - val_accuracy: 0.2434 - val_f1: 0.0048 - val_auc: 0.7008\n",
      "Epoch 2/100\n",
      "481/481 - 16s - loss: 1.2374 - accuracy: 0.5123 - f1: 0.2168 - auc: 0.8739 - val_loss: 1.7962 - val_accuracy: 0.2688 - val_f1: 0.0213 - val_auc: 0.7116\n",
      "Epoch 3/100\n",
      "481/481 - 16s - loss: 1.0699 - accuracy: 0.5957 - f1: 0.3528 - auc: 0.9081 - val_loss: 1.7249 - val_accuracy: 0.3497 - val_f1: 0.0595 - val_auc: 0.7516\n",
      "Epoch 4/100\n",
      "481/481 - 16s - loss: 0.9617 - accuracy: 0.6572 - f1: 0.4748 - auc: 0.9294 - val_loss: 1.7113 - val_accuracy: 0.3716 - val_f1: 0.1138 - val_auc: 0.7621\n",
      "Epoch 5/100\n",
      "481/481 - 16s - loss: 0.8826 - accuracy: 0.6985 - f1: 0.5662 - auc: 0.9432 - val_loss: 1.6601 - val_accuracy: 0.4148 - val_f1: 0.1967 - val_auc: 0.7853\n",
      "Epoch 6/100\n",
      "481/481 - 16s - loss: 0.8248 - accuracy: 0.7331 - f1: 0.6386 - auc: 0.9543 - val_loss: 1.6724 - val_accuracy: 0.4147 - val_f1: 0.2335 - val_auc: 0.7849\n",
      "Epoch 7/100\n",
      "481/481 - 16s - loss: 0.7787 - accuracy: 0.7592 - f1: 0.6886 - auc: 0.9623 - val_loss: 1.6814 - val_accuracy: 0.4203 - val_f1: 0.2770 - val_auc: 0.7871\n",
      "Epoch 8/100\n",
      "481/481 - 16s - loss: 0.7416 - accuracy: 0.7793 - f1: 0.7259 - auc: 0.9683 - val_loss: 1.6605 - val_accuracy: 0.4426 - val_f1: 0.3176 - val_auc: 0.7961\n",
      "Epoch 9/100\n",
      "481/481 - 16s - loss: 0.7117 - accuracy: 0.8004 - f1: 0.7580 - auc: 0.9734 - val_loss: 1.6765 - val_accuracy: 0.4373 - val_f1: 0.3290 - val_auc: 0.7954\n",
      "Epoch 10/100\n",
      "481/481 - 16s - loss: 0.6872 - accuracy: 0.8169 - f1: 0.7807 - auc: 0.9773 - val_loss: 1.6833 - val_accuracy: 0.4433 - val_f1: 0.3465 - val_auc: 0.7980\n",
      "Epoch 11/100\n",
      "481/481 - 16s - loss: 0.6669 - accuracy: 0.8313 - f1: 0.8001 - auc: 0.9805 - val_loss: 1.6759 - val_accuracy: 0.4586 - val_f1: 0.3736 - val_auc: 0.8028\n",
      "Epoch 12/100\n",
      "481/481 - 16s - loss: 0.6504 - accuracy: 0.8468 - f1: 0.8188 - auc: 0.9834 - val_loss: 1.6858 - val_accuracy: 0.4580 - val_f1: 0.3782 - val_auc: 0.8027\n",
      "Epoch 13/100\n",
      "481/481 - 16s - loss: 0.6357 - accuracy: 0.8590 - f1: 0.8329 - auc: 0.9856 - val_loss: 1.6874 - val_accuracy: 0.4624 - val_f1: 0.3883 - val_auc: 0.8031\n",
      "Epoch 14/100\n",
      "481/481 - 16s - loss: 0.6234 - accuracy: 0.8707 - f1: 0.8473 - auc: 0.9876 - val_loss: 1.6972 - val_accuracy: 0.4589 - val_f1: 0.3876 - val_auc: 0.8014\n",
      "Epoch 15/100\n",
      "481/481 - 16s - loss: 0.6114 - accuracy: 0.8808 - f1: 0.8585 - auc: 0.9891 - val_loss: 1.7038 - val_accuracy: 0.4650 - val_f1: 0.3993 - val_auc: 0.8027\n",
      "Epoch 16/100\n",
      "481/481 - 16s - loss: 0.6020 - accuracy: 0.8905 - f1: 0.8695 - auc: 0.9906 - val_loss: 1.7158 - val_accuracy: 0.4668 - val_f1: 0.4054 - val_auc: 0.8020\n",
      "Epoch 17/100\n",
      "481/481 - 16s - loss: 0.5929 - accuracy: 0.8993 - f1: 0.8795 - auc: 0.9918 - val_loss: 1.7313 - val_accuracy: 0.4646 - val_f1: 0.4042 - val_auc: 0.7996\n",
      "Epoch 18/100\n",
      "481/481 - 16s - loss: 0.5853 - accuracy: 0.9069 - f1: 0.8876 - auc: 0.9929 - val_loss: 1.7360 - val_accuracy: 0.4656 - val_f1: 0.4072 - val_auc: 0.7982\n",
      "Epoch 19/100\n",
      "481/481 - 16s - loss: 0.5784 - accuracy: 0.9135 - f1: 0.8951 - auc: 0.9937 - val_loss: 1.7205 - val_accuracy: 0.4778 - val_f1: 0.4213 - val_auc: 0.8030\n",
      "Epoch 20/100\n",
      "481/481 - 16s - loss: 0.5718 - accuracy: 0.9202 - f1: 0.9024 - auc: 0.9945 - val_loss: 1.7452 - val_accuracy: 0.4712 - val_f1: 0.4159 - val_auc: 0.7975\n",
      "Epoch 21/100\n",
      "481/481 - 16s - loss: 0.5662 - accuracy: 0.9251 - f1: 0.9078 - auc: 0.9951 - val_loss: 1.7375 - val_accuracy: 0.4797 - val_f1: 0.4256 - val_auc: 0.8013\n",
      "Epoch 22/100\n",
      "481/481 - 16s - loss: 0.5610 - accuracy: 0.9306 - f1: 0.9133 - auc: 0.9957 - val_loss: 1.7349 - val_accuracy: 0.4839 - val_f1: 0.4297 - val_auc: 0.8016\n",
      "Epoch 23/100\n",
      "481/481 - 16s - loss: 0.5562 - accuracy: 0.9355 - f1: 0.9186 - auc: 0.9961 - val_loss: 1.7600 - val_accuracy: 0.4790 - val_f1: 0.4265 - val_auc: 0.7975\n",
      "Epoch 24/100\n",
      "481/481 - 16s - loss: 0.5519 - accuracy: 0.9393 - f1: 0.9231 - auc: 0.9965 - val_loss: 1.7487 - val_accuracy: 0.4875 - val_f1: 0.4361 - val_auc: 0.8005\n",
      "Epoch 25/100\n",
      "481/481 - 16s - loss: 0.5479 - accuracy: 0.9432 - f1: 0.9273 - auc: 0.9969 - val_loss: 1.7650 - val_accuracy: 0.4816 - val_f1: 0.4308 - val_auc: 0.7966\n",
      "Epoch 26/100\n",
      "481/481 - 16s - loss: 0.5442 - accuracy: 0.9470 - f1: 0.9309 - auc: 0.9972 - val_loss: 1.7468 - val_accuracy: 0.4937 - val_f1: 0.4449 - val_auc: 0.8015\n",
      "Epoch 27/100\n",
      "481/481 - 16s - loss: 0.5409 - accuracy: 0.9509 - f1: 0.9352 - auc: 0.9975 - val_loss: 1.7683 - val_accuracy: 0.4851 - val_f1: 0.4353 - val_auc: 0.7953\n",
      "Epoch 28/100\n",
      "481/481 - 16s - loss: 0.5376 - accuracy: 0.9537 - f1: 0.9381 - auc: 0.9978 - val_loss: 1.7600 - val_accuracy: 0.4913 - val_f1: 0.4422 - val_auc: 0.7973\n",
      "Epoch 29/100\n",
      "481/481 - 16s - loss: 0.5346 - accuracy: 0.9569 - f1: 0.9416 - auc: 0.9980 - val_loss: 1.7609 - val_accuracy: 0.4932 - val_f1: 0.4447 - val_auc: 0.7973\n",
      "Restoring model weights from the end of the best epoch.\n",
      "Epoch 00029: early stopping\n"
     ]
    },
    {
     "data": {
      "text/html": [
       "<span style=\"color:#4527A0\"><h1 style=\"font-size:18px\">Trial complete</h1></span>"
      ],
      "text/plain": [
       "<IPython.core.display.HTML object>"
      ]
     },
     "metadata": {},
     "output_type": "display_data"
    },
    {
     "data": {
      "text/html": [
       "<span style=\"color:#4527A0\"><h1 style=\"font-size:18px\">Trial summary</h1></span>"
      ],
      "text/plain": [
       "<IPython.core.display.HTML object>"
      ]
     },
     "metadata": {},
     "output_type": "display_data"
    },
    {
     "data": {
      "text/html": [
       "<span style=\"color:cyan\"> |-Trial ID: 8a7968c0eac3eb39a36c9629e41661dd</span>"
      ],
      "text/plain": [
       "<IPython.core.display.HTML object>"
      ]
     },
     "metadata": {},
     "output_type": "display_data"
    },
    {
     "data": {
      "text/html": [
       "<span style=\"color:cyan\"> |-Score: 1.6699660301208497</span>"
      ],
      "text/plain": [
       "<IPython.core.display.HTML object>"
      ]
     },
     "metadata": {},
     "output_type": "display_data"
    },
    {
     "data": {
      "text/html": [
       "<span style=\"color:cyan\"> |-Best step: 0</span>"
      ],
      "text/plain": [
       "<IPython.core.display.HTML object>"
      ]
     },
     "metadata": {},
     "output_type": "display_data"
    },
    {
     "data": {
      "text/html": [
       "<span style=\"color:#7E57C2\"><h2 style=\"font-size:16px\">Hyperparameters:</h2></span>"
      ],
      "text/plain": [
       "<IPython.core.display.HTML object>"
      ]
     },
     "metadata": {},
     "output_type": "display_data"
    },
    {
     "data": {
      "text/html": [
       "<span style=\"color:cyan\"> |-units: 256</span>"
      ],
      "text/plain": [
       "<IPython.core.display.HTML object>"
      ]
     },
     "metadata": {},
     "output_type": "display_data"
    },
    {
     "name": "stdout",
     "output_type": "stream",
     "text": [
      "Epoch 1/100\n",
      "481/481 - 28s - loss: 1.3920 - accuracy: 0.4817 - f1: 0.2485 - auc: 0.8354 - val_loss: 1.7255 - val_accuracy: 0.3694 - val_f1: 0.1253 - val_auc: 0.7458\n",
      "Epoch 2/100\n",
      "481/481 - 26s - loss: 0.9766 - accuracy: 0.6798 - f1: 0.5341 - auc: 0.9326 - val_loss: 1.6602 - val_accuracy: 0.4188 - val_f1: 0.2180 - val_auc: 0.7764\n",
      "Epoch 3/100\n",
      "481/481 - 26s - loss: 0.8106 - accuracy: 0.7578 - f1: 0.6791 - auc: 0.9602 - val_loss: 1.6584 - val_accuracy: 0.4267 - val_f1: 0.2817 - val_auc: 0.7853\n",
      "Epoch 4/100\n",
      "481/481 - 26s - loss: 0.7178 - accuracy: 0.8086 - f1: 0.7594 - auc: 0.9746 - val_loss: 1.6610 - val_accuracy: 0.4321 - val_f1: 0.3103 - val_auc: 0.7919\n",
      "Epoch 5/100\n",
      "481/481 - 26s - loss: 0.6578 - accuracy: 0.8466 - f1: 0.8113 - auc: 0.9831 - val_loss: 1.6671 - val_accuracy: 0.4354 - val_f1: 0.3211 - val_auc: 0.7917\n",
      "Epoch 6/100\n",
      "481/481 - 26s - loss: 0.6181 - accuracy: 0.8759 - f1: 0.8491 - auc: 0.9885 - val_loss: 1.6564 - val_accuracy: 0.4478 - val_f1: 0.3478 - val_auc: 0.8001\n",
      "Epoch 7/100\n",
      "481/481 - 26s - loss: 0.5902 - accuracy: 0.8975 - f1: 0.8756 - auc: 0.9920 - val_loss: 1.6272 - val_accuracy: 0.4674 - val_f1: 0.3718 - val_auc: 0.8093\n",
      "Epoch 8/100\n",
      "481/481 - 26s - loss: 0.5710 - accuracy: 0.9143 - f1: 0.8961 - auc: 0.9941 - val_loss: 1.6222 - val_accuracy: 0.4764 - val_f1: 0.3838 - val_auc: 0.8116\n",
      "Epoch 9/100\n",
      "481/481 - 26s - loss: 0.5548 - accuracy: 0.9289 - f1: 0.9130 - auc: 0.9958 - val_loss: 1.6496 - val_accuracy: 0.4665 - val_f1: 0.3787 - val_auc: 0.8059\n",
      "Epoch 10/100\n",
      "481/481 - 26s - loss: 0.5427 - accuracy: 0.9404 - f1: 0.9257 - auc: 0.9969 - val_loss: 1.6255 - val_accuracy: 0.4837 - val_f1: 0.3983 - val_auc: 0.8135\n",
      "Epoch 11/100\n",
      "481/481 - 26s - loss: 0.5330 - accuracy: 0.9496 - f1: 0.9361 - auc: 0.9977 - val_loss: 1.6355 - val_accuracy: 0.4865 - val_f1: 0.4079 - val_auc: 0.8142\n",
      "Epoch 12/100\n",
      "481/481 - 26s - loss: 0.5240 - accuracy: 0.9574 - f1: 0.9447 - auc: 0.9983 - val_loss: 1.6622 - val_accuracy: 0.4710 - val_f1: 0.3908 - val_auc: 0.8065\n",
      "Epoch 13/100\n",
      "481/481 - 26s - loss: 0.5177 - accuracy: 0.9627 - f1: 0.9507 - auc: 0.9987 - val_loss: 1.6317 - val_accuracy: 0.4925 - val_f1: 0.4157 - val_auc: 0.8154\n",
      "Epoch 14/100\n",
      "481/481 - 26s - loss: 0.5121 - accuracy: 0.9683 - f1: 0.9564 - auc: 0.9990 - val_loss: 1.6562 - val_accuracy: 0.4826 - val_f1: 0.4044 - val_auc: 0.8092\n",
      "Epoch 15/100\n",
      "481/481 - 26s - loss: 0.5073 - accuracy: 0.9727 - f1: 0.9612 - auc: 0.9992 - val_loss: 1.6532 - val_accuracy: 0.4859 - val_f1: 0.4075 - val_auc: 0.8100\n",
      "Epoch 16/100\n",
      "481/481 - 26s - loss: 0.5033 - accuracy: 0.9758 - f1: 0.9648 - auc: 0.9994 - val_loss: 1.6512 - val_accuracy: 0.4910 - val_f1: 0.4149 - val_auc: 0.8112\n",
      "Restoring model weights from the end of the best epoch.\n",
      "Epoch 00016: early stopping\n",
      "Epoch 1/100\n",
      "481/481 - 29s - loss: 1.4093 - accuracy: 0.4887 - f1: 0.2366 - auc: 0.8397 - val_loss: 1.8391 - val_accuracy: 0.3055 - val_f1: 0.0490 - val_auc: 0.6887\n",
      "Epoch 2/100\n",
      "481/481 - 26s - loss: 0.9814 - accuracy: 0.6702 - f1: 0.5280 - auc: 0.9311 - val_loss: 1.8103 - val_accuracy: 0.3430 - val_f1: 0.1095 - val_auc: 0.7099\n",
      "Epoch 3/100\n",
      "481/481 - 26s - loss: 0.8173 - accuracy: 0.7483 - f1: 0.6663 - auc: 0.9586 - val_loss: 1.7305 - val_accuracy: 0.3916 - val_f1: 0.2088 - val_auc: 0.7572\n",
      "Epoch 4/100\n",
      "481/481 - 26s - loss: 0.7230 - accuracy: 0.8029 - f1: 0.7513 - auc: 0.9735 - val_loss: 1.6879 - val_accuracy: 0.4264 - val_f1: 0.2945 - val_auc: 0.7816\n",
      "Epoch 5/100\n",
      "481/481 - 26s - loss: 0.6619 - accuracy: 0.8422 - f1: 0.8058 - auc: 0.9824 - val_loss: 1.7380 - val_accuracy: 0.4066 - val_f1: 0.2916 - val_auc: 0.7709\n",
      "Epoch 6/100\n",
      "481/481 - 26s - loss: 0.6238 - accuracy: 0.8699 - f1: 0.8417 - auc: 0.9876 - val_loss: 1.6566 - val_accuracy: 0.4573 - val_f1: 0.3560 - val_auc: 0.8003\n",
      "Epoch 7/100\n",
      "481/481 - 26s - loss: 0.5957 - accuracy: 0.8941 - f1: 0.8709 - auc: 0.9915 - val_loss: 1.7373 - val_accuracy: 0.4193 - val_f1: 0.3240 - val_auc: 0.7781\n",
      "Epoch 8/100\n",
      "481/481 - 26s - loss: 0.5732 - accuracy: 0.9115 - f1: 0.8919 - auc: 0.9938 - val_loss: 1.6845 - val_accuracy: 0.4522 - val_f1: 0.3596 - val_auc: 0.7935\n",
      "Epoch 9/100\n",
      "481/481 - 26s - loss: 0.5570 - accuracy: 0.9269 - f1: 0.9090 - auc: 0.9955 - val_loss: 1.6786 - val_accuracy: 0.4595 - val_f1: 0.3709 - val_auc: 0.7975\n",
      "Epoch 10/100\n",
      "481/481 - 26s - loss: 0.5444 - accuracy: 0.9386 - f1: 0.9234 - auc: 0.9967 - val_loss: 1.6804 - val_accuracy: 0.4598 - val_f1: 0.3716 - val_auc: 0.7961\n",
      "Epoch 11/100\n",
      "481/481 - 26s - loss: 0.5347 - accuracy: 0.9479 - f1: 0.9336 - auc: 0.9975 - val_loss: 1.6785 - val_accuracy: 0.4711 - val_f1: 0.3894 - val_auc: 0.8008\n",
      "Epoch 12/100\n",
      "481/481 - 26s - loss: 0.5261 - accuracy: 0.9558 - f1: 0.9428 - auc: 0.9982 - val_loss: 1.6954 - val_accuracy: 0.4587 - val_f1: 0.3768 - val_auc: 0.7952\n",
      "Epoch 13/100\n",
      "481/481 - 26s - loss: 0.5189 - accuracy: 0.9620 - f1: 0.9498 - auc: 0.9986 - val_loss: 1.6937 - val_accuracy: 0.4657 - val_f1: 0.3869 - val_auc: 0.7973\n",
      "Epoch 14/100\n",
      "481/481 - 26s - loss: 0.5132 - accuracy: 0.9671 - f1: 0.9555 - auc: 0.9989 - val_loss: 1.7040 - val_accuracy: 0.4620 - val_f1: 0.3838 - val_auc: 0.7947\n",
      "Restoring model weights from the end of the best epoch.\n",
      "Epoch 00014: early stopping\n",
      "Epoch 1/100\n",
      "481/481 - 28s - loss: 1.4003 - accuracy: 0.4922 - f1: 0.2284 - auc: 0.8415 - val_loss: 1.7552 - val_accuracy: 0.3681 - val_f1: 0.1020 - val_auc: 0.7257\n",
      "Epoch 2/100\n",
      "481/481 - 26s - loss: 0.9850 - accuracy: 0.6782 - f1: 0.5247 - auc: 0.9305 - val_loss: 1.7120 - val_accuracy: 0.3971 - val_f1: 0.1912 - val_auc: 0.7546\n",
      "Epoch 3/100\n",
      "481/481 - 26s - loss: 0.8154 - accuracy: 0.7578 - f1: 0.6731 - auc: 0.9589 - val_loss: 1.6898 - val_accuracy: 0.4124 - val_f1: 0.2444 - val_auc: 0.7741\n",
      "Epoch 4/100\n",
      "481/481 - 26s - loss: 0.7201 - accuracy: 0.8078 - f1: 0.7558 - auc: 0.9734 - val_loss: 1.6737 - val_accuracy: 0.4343 - val_f1: 0.3006 - val_auc: 0.7871\n",
      "Epoch 5/100\n",
      "481/481 - 26s - loss: 0.6582 - accuracy: 0.8468 - f1: 0.8106 - auc: 0.9825 - val_loss: 1.6452 - val_accuracy: 0.4592 - val_f1: 0.3351 - val_auc: 0.7971\n",
      "Epoch 6/100\n",
      "481/481 - 26s - loss: 0.6191 - accuracy: 0.8770 - f1: 0.8503 - auc: 0.9882 - val_loss: 1.6718 - val_accuracy: 0.4510 - val_f1: 0.3362 - val_auc: 0.7929\n",
      "Epoch 7/100\n",
      "481/481 - 26s - loss: 0.5915 - accuracy: 0.9000 - f1: 0.8787 - auc: 0.9918 - val_loss: 1.6997 - val_accuracy: 0.4411 - val_f1: 0.3368 - val_auc: 0.7885\n",
      "Epoch 8/100\n",
      "481/481 - 26s - loss: 0.5723 - accuracy: 0.9160 - f1: 0.8986 - auc: 0.9939 - val_loss: 1.6937 - val_accuracy: 0.4527 - val_f1: 0.3548 - val_auc: 0.7921\n",
      "Epoch 9/100\n",
      "481/481 - 26s - loss: 0.5556 - accuracy: 0.9297 - f1: 0.9140 - auc: 0.9956 - val_loss: 1.6814 - val_accuracy: 0.4569 - val_f1: 0.3561 - val_auc: 0.7945\n",
      "Epoch 10/100\n",
      "481/481 - 26s - loss: 0.5440 - accuracy: 0.9405 - f1: 0.9263 - auc: 0.9967 - val_loss: 1.6973 - val_accuracy: 0.4597 - val_f1: 0.3698 - val_auc: 0.7940\n",
      "Epoch 11/100\n",
      "481/481 - 26s - loss: 0.5341 - accuracy: 0.9489 - f1: 0.9358 - auc: 0.9975 - val_loss: 1.7125 - val_accuracy: 0.4548 - val_f1: 0.3647 - val_auc: 0.7901\n",
      "Epoch 12/100\n",
      "481/481 - 26s - loss: 0.5254 - accuracy: 0.9569 - f1: 0.9440 - auc: 0.9981 - val_loss: 1.6928 - val_accuracy: 0.4733 - val_f1: 0.3911 - val_auc: 0.7999\n",
      "Epoch 13/100\n",
      "481/481 - 26s - loss: 0.5182 - accuracy: 0.9629 - f1: 0.9506 - auc: 0.9985 - val_loss: 1.7252 - val_accuracy: 0.4548 - val_f1: 0.3676 - val_auc: 0.7887\n",
      "Epoch 14/100\n",
      "481/481 - 26s - loss: 0.5135 - accuracy: 0.9674 - f1: 0.9558 - auc: 0.9988 - val_loss: 1.7086 - val_accuracy: 0.4702 - val_f1: 0.3865 - val_auc: 0.7950\n",
      "Epoch 15/100\n",
      "481/481 - 26s - loss: 0.5083 - accuracy: 0.9715 - f1: 0.9603 - auc: 0.9991 - val_loss: 1.7112 - val_accuracy: 0.4720 - val_f1: 0.3883 - val_auc: 0.7945\n",
      "Restoring model weights from the end of the best epoch.\n",
      "Epoch 00015: early stopping\n",
      "Epoch 1/100\n",
      "481/481 - 29s - loss: 1.4004 - accuracy: 0.4899 - f1: 0.2368 - auc: 0.8391 - val_loss: 1.7828 - val_accuracy: 0.3398 - val_f1: 0.0861 - val_auc: 0.7152\n",
      "Epoch 2/100\n",
      "481/481 - 26s - loss: 0.9743 - accuracy: 0.6832 - f1: 0.5487 - auc: 0.9333 - val_loss: 1.6617 - val_accuracy: 0.4199 - val_f1: 0.2483 - val_auc: 0.7740\n",
      "Epoch 3/100\n",
      "481/481 - 26s - loss: 0.8169 - accuracy: 0.7601 - f1: 0.6857 - auc: 0.9605 - val_loss: 1.7488 - val_accuracy: 0.3870 - val_f1: 0.2354 - val_auc: 0.7437\n",
      "Epoch 4/100\n",
      "481/481 - 26s - loss: 0.7210 - accuracy: 0.8092 - f1: 0.7625 - auc: 0.9741 - val_loss: 1.6635 - val_accuracy: 0.4366 - val_f1: 0.3130 - val_auc: 0.7907\n",
      "Epoch 5/100\n",
      "481/481 - 26s - loss: 0.6600 - accuracy: 0.8496 - f1: 0.8158 - auc: 0.9832 - val_loss: 1.6487 - val_accuracy: 0.4566 - val_f1: 0.3432 - val_auc: 0.7982\n",
      "Epoch 6/100\n",
      "481/481 - 26s - loss: 0.6213 - accuracy: 0.8775 - f1: 0.8524 - auc: 0.9886 - val_loss: 1.6595 - val_accuracy: 0.4572 - val_f1: 0.3593 - val_auc: 0.7998\n",
      "Epoch 7/100\n",
      "481/481 - 26s - loss: 0.5934 - accuracy: 0.9001 - f1: 0.8784 - auc: 0.9919 - val_loss: 1.6416 - val_accuracy: 0.4777 - val_f1: 0.3913 - val_auc: 0.8099\n",
      "Epoch 8/100\n",
      "481/481 - 26s - loss: 0.5723 - accuracy: 0.9172 - f1: 0.8994 - auc: 0.9944 - val_loss: 1.6745 - val_accuracy: 0.4591 - val_f1: 0.3741 - val_auc: 0.8016\n",
      "Epoch 9/100\n",
      "481/481 - 26s - loss: 0.5547 - accuracy: 0.9310 - f1: 0.9151 - auc: 0.9959 - val_loss: 1.6557 - val_accuracy: 0.4759 - val_f1: 0.3959 - val_auc: 0.8085\n",
      "Epoch 10/100\n",
      "481/481 - 26s - loss: 0.5422 - accuracy: 0.9432 - f1: 0.9283 - auc: 0.9971 - val_loss: 1.6731 - val_accuracy: 0.4725 - val_f1: 0.3894 - val_auc: 0.8031\n",
      "Epoch 11/100\n",
      "481/481 - 26s - loss: 0.5328 - accuracy: 0.9511 - f1: 0.9380 - auc: 0.9978 - val_loss: 1.6748 - val_accuracy: 0.4741 - val_f1: 0.3935 - val_auc: 0.8038\n",
      "Epoch 12/100\n",
      "481/481 - 26s - loss: 0.5241 - accuracy: 0.9589 - f1: 0.9465 - auc: 0.9984 - val_loss: 1.6817 - val_accuracy: 0.4780 - val_f1: 0.4014 - val_auc: 0.8051\n",
      "Epoch 13/100\n",
      "481/481 - 26s - loss: 0.5172 - accuracy: 0.9652 - f1: 0.9534 - auc: 0.9988 - val_loss: 1.6847 - val_accuracy: 0.4758 - val_f1: 0.3967 - val_auc: 0.8015\n",
      "Epoch 14/100\n",
      "481/481 - 26s - loss: 0.5117 - accuracy: 0.9697 - f1: 0.9586 - auc: 0.9990 - val_loss: 1.6824 - val_accuracy: 0.4868 - val_f1: 0.4133 - val_auc: 0.8055\n",
      "Epoch 15/100\n",
      "481/481 - 26s - loss: 0.5068 - accuracy: 0.9739 - f1: 0.9634 - auc: 0.9993 - val_loss: 1.7008 - val_accuracy: 0.4783 - val_f1: 0.4036 - val_auc: 0.8007\n",
      "Epoch 16/100\n",
      "481/481 - 26s - loss: 0.5029 - accuracy: 0.9772 - f1: 0.9670 - auc: 0.9994 - val_loss: 1.6943 - val_accuracy: 0.4833 - val_f1: 0.4072 - val_auc: 0.8010\n",
      "Epoch 17/100\n",
      "481/481 - 26s - loss: 0.4995 - accuracy: 0.9797 - f1: 0.9701 - auc: 0.9995 - val_loss: 1.6998 - val_accuracy: 0.4821 - val_f1: 0.4076 - val_auc: 0.8002\n",
      "Restoring model weights from the end of the best epoch.\n",
      "Epoch 00017: early stopping\n",
      "Epoch 1/100\n",
      "481/481 - 29s - loss: 1.3889 - accuracy: 0.5090 - f1: 0.2658 - auc: 0.8457 - val_loss: 1.8261 - val_accuracy: 0.3230 - val_f1: 0.0726 - val_auc: 0.6988\n",
      "Epoch 2/100\n",
      "481/481 - 26s - loss: 0.9739 - accuracy: 0.6901 - f1: 0.5607 - auc: 0.9357 - val_loss: 1.6947 - val_accuracy: 0.4073 - val_f1: 0.2078 - val_auc: 0.7638\n",
      "Epoch 3/100\n",
      "481/481 - 26s - loss: 0.8066 - accuracy: 0.7678 - f1: 0.6967 - auc: 0.9624 - val_loss: 1.7082 - val_accuracy: 0.4135 - val_f1: 0.2560 - val_auc: 0.7670\n",
      "Epoch 4/100\n",
      "481/481 - 26s - loss: 0.7125 - accuracy: 0.8184 - f1: 0.7725 - auc: 0.9764 - val_loss: 1.6976 - val_accuracy: 0.4314 - val_f1: 0.3081 - val_auc: 0.7792\n",
      "Epoch 5/100\n",
      "481/481 - 26s - loss: 0.6546 - accuracy: 0.8528 - f1: 0.8207 - auc: 0.9844 - val_loss: 1.7090 - val_accuracy: 0.4348 - val_f1: 0.3325 - val_auc: 0.7844\n",
      "Epoch 6/100\n",
      "481/481 - 26s - loss: 0.6160 - accuracy: 0.8814 - f1: 0.8567 - auc: 0.9895 - val_loss: 1.6723 - val_accuracy: 0.4575 - val_f1: 0.3597 - val_auc: 0.7929\n",
      "Epoch 7/100\n",
      "481/481 - 26s - loss: 0.5877 - accuracy: 0.9036 - f1: 0.8838 - auc: 0.9927 - val_loss: 1.6907 - val_accuracy: 0.4512 - val_f1: 0.3556 - val_auc: 0.7895\n",
      "Epoch 8/100\n",
      "481/481 - 26s - loss: 0.5664 - accuracy: 0.9209 - f1: 0.9032 - auc: 0.9948 - val_loss: 1.6971 - val_accuracy: 0.4600 - val_f1: 0.3789 - val_auc: 0.7947\n",
      "Epoch 9/100\n",
      "481/481 - 26s - loss: 0.5510 - accuracy: 0.9347 - f1: 0.9195 - auc: 0.9964 - val_loss: 1.6820 - val_accuracy: 0.4678 - val_f1: 0.3886 - val_auc: 0.7992\n",
      "Epoch 10/100\n",
      "481/481 - 26s - loss: 0.5385 - accuracy: 0.9453 - f1: 0.9312 - auc: 0.9974 - val_loss: 1.6844 - val_accuracy: 0.4694 - val_f1: 0.3911 - val_auc: 0.7987\n",
      "Epoch 11/100\n",
      "481/481 - 26s - loss: 0.5294 - accuracy: 0.9537 - f1: 0.9405 - auc: 0.9980 - val_loss: 1.6753 - val_accuracy: 0.4755 - val_f1: 0.3984 - val_auc: 0.8023\n",
      "Epoch 12/100\n",
      "481/481 - 26s - loss: 0.5222 - accuracy: 0.9604 - f1: 0.9481 - auc: 0.9985 - val_loss: 1.6711 - val_accuracy: 0.4778 - val_f1: 0.4008 - val_auc: 0.8039\n",
      "Epoch 13/100\n",
      "481/481 - 26s - loss: 0.5152 - accuracy: 0.9666 - f1: 0.9546 - auc: 0.9989 - val_loss: 1.6894 - val_accuracy: 0.4736 - val_f1: 0.3997 - val_auc: 0.7993\n",
      "Epoch 14/100\n",
      "481/481 - 26s - loss: 0.5100 - accuracy: 0.9711 - f1: 0.9597 - auc: 0.9991 - val_loss: 1.6888 - val_accuracy: 0.4759 - val_f1: 0.4014 - val_auc: 0.8005\n",
      "Epoch 15/100\n",
      "481/481 - 26s - loss: 0.5054 - accuracy: 0.9750 - f1: 0.9643 - auc: 0.9993 - val_loss: 1.7205 - val_accuracy: 0.4608 - val_f1: 0.3888 - val_auc: 0.7933\n",
      "Epoch 16/100\n",
      "481/481 - 26s - loss: 0.5016 - accuracy: 0.9778 - f1: 0.9673 - auc: 0.9994 - val_loss: 1.6906 - val_accuracy: 0.4784 - val_f1: 0.4058 - val_auc: 0.8006\n",
      "Epoch 17/100\n",
      "481/481 - 26s - loss: 0.4983 - accuracy: 0.9806 - f1: 0.9705 - auc: 0.9995 - val_loss: 1.7040 - val_accuracy: 0.4709 - val_f1: 0.3965 - val_auc: 0.7948\n",
      "Epoch 18/100\n",
      "481/481 - 26s - loss: 0.4954 - accuracy: 0.9826 - f1: 0.9729 - auc: 0.9996 - val_loss: 1.6887 - val_accuracy: 0.4818 - val_f1: 0.4089 - val_auc: 0.8010\n",
      "Epoch 19/100\n",
      "481/481 - 26s - loss: 0.4929 - accuracy: 0.9844 - f1: 0.9751 - auc: 0.9997 - val_loss: 1.6950 - val_accuracy: 0.4787 - val_f1: 0.4050 - val_auc: 0.7972\n",
      "Epoch 20/100\n",
      "481/481 - 26s - loss: 0.4907 - accuracy: 0.9858 - f1: 0.9768 - auc: 0.9997 - val_loss: 1.6930 - val_accuracy: 0.4818 - val_f1: 0.4108 - val_auc: 0.8005\n",
      "Epoch 21/100\n",
      "481/481 - 26s - loss: 0.4886 - accuracy: 0.9871 - f1: 0.9785 - auc: 0.9998 - val_loss: 1.7017 - val_accuracy: 0.4796 - val_f1: 0.4082 - val_auc: 0.7977\n",
      "Epoch 22/100\n",
      "481/481 - 26s - loss: 0.4869 - accuracy: 0.9882 - f1: 0.9798 - auc: 0.9998 - val_loss: 1.6944 - val_accuracy: 0.4852 - val_f1: 0.4150 - val_auc: 0.8005\n",
      "Epoch 23/100\n",
      "481/481 - 26s - loss: 0.4853 - accuracy: 0.9892 - f1: 0.9811 - auc: 0.9998 - val_loss: 1.7017 - val_accuracy: 0.4825 - val_f1: 0.4113 - val_auc: 0.7974\n",
      "Epoch 24/100\n",
      "481/481 - 26s - loss: 0.4838 - accuracy: 0.9898 - f1: 0.9819 - auc: 0.9999 - val_loss: 1.7104 - val_accuracy: 0.4788 - val_f1: 0.4066 - val_auc: 0.7948\n",
      "Epoch 25/100\n",
      "481/481 - 26s - loss: 0.4825 - accuracy: 0.9907 - f1: 0.9830 - auc: 0.9999 - val_loss: 1.7074 - val_accuracy: 0.4808 - val_f1: 0.4100 - val_auc: 0.7961\n",
      "Restoring model weights from the end of the best epoch.\n",
      "Epoch 00025: early stopping\n"
     ]
    },
    {
     "data": {
      "text/html": [
       "<span style=\"color:#4527A0\"><h1 style=\"font-size:18px\">Trial complete</h1></span>"
      ],
      "text/plain": [
       "<IPython.core.display.HTML object>"
      ]
     },
     "metadata": {},
     "output_type": "display_data"
    },
    {
     "data": {
      "text/html": [
       "<span style=\"color:#4527A0\"><h1 style=\"font-size:18px\">Trial summary</h1></span>"
      ],
      "text/plain": [
       "<IPython.core.display.HTML object>"
      ]
     },
     "metadata": {},
     "output_type": "display_data"
    },
    {
     "data": {
      "text/html": [
       "<span style=\"color:cyan\"> |-Trial ID: 1fe050e4584cd0371f8f775796f59d8c</span>"
      ],
      "text/plain": [
       "<IPython.core.display.HTML object>"
      ]
     },
     "metadata": {},
     "output_type": "display_data"
    },
    {
     "data": {
      "text/html": [
       "<span style=\"color:cyan\"> |-Score: 1.6473543167114257</span>"
      ],
      "text/plain": [
       "<IPython.core.display.HTML object>"
      ]
     },
     "metadata": {},
     "output_type": "display_data"
    },
    {
     "data": {
      "text/html": [
       "<span style=\"color:cyan\"> |-Best step: 0</span>"
      ],
      "text/plain": [
       "<IPython.core.display.HTML object>"
      ]
     },
     "metadata": {},
     "output_type": "display_data"
    },
    {
     "data": {
      "text/html": [
       "<span style=\"color:#7E57C2\"><h2 style=\"font-size:16px\">Hyperparameters:</h2></span>"
      ],
      "text/plain": [
       "<IPython.core.display.HTML object>"
      ]
     },
     "metadata": {},
     "output_type": "display_data"
    },
    {
     "data": {
      "text/html": [
       "<span style=\"color:cyan\"> |-units: 1536</span>"
      ],
      "text/plain": [
       "<IPython.core.display.HTML object>"
      ]
     },
     "metadata": {},
     "output_type": "display_data"
    },
    {
     "name": "stdout",
     "output_type": "stream",
     "text": [
      "INFO:tensorflow:Oracle triggered exit\n"
     ]
    }
   ],
   "source": [
    "# Keras-tuner setup\n",
    "tuner = kt.RandomSearch(\n",
    "    build_model,\n",
    "    objective=\"val_loss\",\n",
    "    max_trials=8,\n",
    "    executions_per_trial=5,\n",
    "    seed=1337,\n",
    "    project_name=normpath(\"C:/Keras_tuner\"),\n",
    "    overwrite=True,\n",
    ")\n",
    "\n",
    "# Check the defined hyperparameter search space\n",
    "tuner.search_space_summary()\n",
    "\n",
    "# Do random serach for optimal hyperparameters\n",
    "tuner.search(\n",
    "    seq_train_features,\n",
    "    seq_train_labels,\n",
    "    sample_weight=train_samples_weights,\n",
    "    epochs=100,\n",
    "    validation_data=(seq_val_features, seq_val_labels),\n",
    "    callbacks=[es],\n",
    "    verbose=2,\n",
    ")"
   ]
  },
  {
   "cell_type": "markdown",
   "metadata": {},
   "source": [
    "# Build optimal HP model"
   ]
  },
  {
   "cell_type": "code",
   "execution_count": 8,
   "metadata": {
    "ExecuteTime": {
     "end_time": "2020-10-04T17:39:44.932922Z",
     "start_time": "2020-10-04T17:39:44.857125Z"
    },
    "execution": {
     "iopub.execute_input": "2020-11-12T10:00:41.656877Z",
     "iopub.status.busy": "2020-11-12T10:00:41.655874Z",
     "iopub.status.idle": "2020-11-12T10:00:41.724877Z",
     "shell.execute_reply": "2020-11-12T10:00:41.724877Z",
     "shell.execute_reply.started": "2020-11-12T10:00:41.656877Z"
    },
    "scrolled": true
   },
   "outputs": [
    {
     "data": {
      "text/html": [
       "<span style=\"color:#4527A0\"><h1 style=\"font-size:18px\">Results summary</h1></span>"
      ],
      "text/plain": [
       "<IPython.core.display.HTML object>"
      ]
     },
     "metadata": {},
     "output_type": "display_data"
    },
    {
     "data": {
      "text/html": [
       "<span style=\"color:cyan\"> |-Results in C:\\Keras_tuner</span>"
      ],
      "text/plain": [
       "<IPython.core.display.HTML object>"
      ]
     },
     "metadata": {},
     "output_type": "display_data"
    },
    {
     "data": {
      "text/html": [
       "<span style=\"color:cyan\"> |-Showing 10 best trials</span>"
      ],
      "text/plain": [
       "<IPython.core.display.HTML object>"
      ]
     },
     "metadata": {},
     "output_type": "display_data"
    },
    {
     "data": {
      "text/html": [
       "<span style=\"color:cyan\"> |-Objective(name='val_loss', direction='min')</span>"
      ],
      "text/plain": [
       "<IPython.core.display.HTML object>"
      ]
     },
     "metadata": {},
     "output_type": "display_data"
    },
    {
     "data": {
      "text/html": [
       "<span style=\"color:#4527A0\"><h1 style=\"font-size:18px\">Trial summary</h1></span>"
      ],
      "text/plain": [
       "<IPython.core.display.HTML object>"
      ]
     },
     "metadata": {},
     "output_type": "display_data"
    },
    {
     "data": {
      "text/html": [
       "<span style=\"color:cyan\"> |-Trial ID: 4cf421631da0fa58c7b3c92c0389fa21</span>"
      ],
      "text/plain": [
       "<IPython.core.display.HTML object>"
      ]
     },
     "metadata": {},
     "output_type": "display_data"
    },
    {
     "data": {
      "text/html": [
       "<span style=\"color:cyan\"> |-Score: 1.6193851470947265</span>"
      ],
      "text/plain": [
       "<IPython.core.display.HTML object>"
      ]
     },
     "metadata": {},
     "output_type": "display_data"
    },
    {
     "data": {
      "text/html": [
       "<span style=\"color:cyan\"> |-Best step: 0</span>"
      ],
      "text/plain": [
       "<IPython.core.display.HTML object>"
      ]
     },
     "metadata": {},
     "output_type": "display_data"
    },
    {
     "data": {
      "text/html": [
       "<span style=\"color:#7E57C2\"><h2 style=\"font-size:16px\">Hyperparameters:</h2></span>"
      ],
      "text/plain": [
       "<IPython.core.display.HTML object>"
      ]
     },
     "metadata": {},
     "output_type": "display_data"
    },
    {
     "data": {
      "text/html": [
       "<span style=\"color:cyan\"> |-units: 2048</span>"
      ],
      "text/plain": [
       "<IPython.core.display.HTML object>"
      ]
     },
     "metadata": {},
     "output_type": "display_data"
    },
    {
     "data": {
      "text/html": [
       "<span style=\"color:#4527A0\"><h1 style=\"font-size:18px\">Trial summary</h1></span>"
      ],
      "text/plain": [
       "<IPython.core.display.HTML object>"
      ]
     },
     "metadata": {},
     "output_type": "display_data"
    },
    {
     "data": {
      "text/html": [
       "<span style=\"color:cyan\"> |-Trial ID: c4f44622cbf23c8358677a7496eaf699</span>"
      ],
      "text/plain": [
       "<IPython.core.display.HTML object>"
      ]
     },
     "metadata": {},
     "output_type": "display_data"
    },
    {
     "data": {
      "text/html": [
       "<span style=\"color:cyan\"> |-Score: 1.6357292890548707</span>"
      ],
      "text/plain": [
       "<IPython.core.display.HTML object>"
      ]
     },
     "metadata": {},
     "output_type": "display_data"
    },
    {
     "data": {
      "text/html": [
       "<span style=\"color:cyan\"> |-Best step: 0</span>"
      ],
      "text/plain": [
       "<IPython.core.display.HTML object>"
      ]
     },
     "metadata": {},
     "output_type": "display_data"
    },
    {
     "data": {
      "text/html": [
       "<span style=\"color:#7E57C2\"><h2 style=\"font-size:16px\">Hyperparameters:</h2></span>"
      ],
      "text/plain": [
       "<IPython.core.display.HTML object>"
      ]
     },
     "metadata": {},
     "output_type": "display_data"
    },
    {
     "data": {
      "text/html": [
       "<span style=\"color:cyan\"> |-units: 1792</span>"
      ],
      "text/plain": [
       "<IPython.core.display.HTML object>"
      ]
     },
     "metadata": {},
     "output_type": "display_data"
    },
    {
     "data": {
      "text/html": [
       "<span style=\"color:#4527A0\"><h1 style=\"font-size:18px\">Trial summary</h1></span>"
      ],
      "text/plain": [
       "<IPython.core.display.HTML object>"
      ]
     },
     "metadata": {},
     "output_type": "display_data"
    },
    {
     "data": {
      "text/html": [
       "<span style=\"color:cyan\"> |-Trial ID: addece0c0b843eb73fceb51e56b76501</span>"
      ],
      "text/plain": [
       "<IPython.core.display.HTML object>"
      ]
     },
     "metadata": {},
     "output_type": "display_data"
    },
    {
     "data": {
      "text/html": [
       "<span style=\"color:cyan\"> |-Score: 1.6359166860580445</span>"
      ],
      "text/plain": [
       "<IPython.core.display.HTML object>"
      ]
     },
     "metadata": {},
     "output_type": "display_data"
    },
    {
     "data": {
      "text/html": [
       "<span style=\"color:cyan\"> |-Best step: 0</span>"
      ],
      "text/plain": [
       "<IPython.core.display.HTML object>"
      ]
     },
     "metadata": {},
     "output_type": "display_data"
    },
    {
     "data": {
      "text/html": [
       "<span style=\"color:#7E57C2\"><h2 style=\"font-size:16px\">Hyperparameters:</h2></span>"
      ],
      "text/plain": [
       "<IPython.core.display.HTML object>"
      ]
     },
     "metadata": {},
     "output_type": "display_data"
    },
    {
     "data": {
      "text/html": [
       "<span style=\"color:cyan\"> |-units: 1280</span>"
      ],
      "text/plain": [
       "<IPython.core.display.HTML object>"
      ]
     },
     "metadata": {},
     "output_type": "display_data"
    },
    {
     "data": {
      "text/html": [
       "<span style=\"color:#4527A0\"><h1 style=\"font-size:18px\">Trial summary</h1></span>"
      ],
      "text/plain": [
       "<IPython.core.display.HTML object>"
      ]
     },
     "metadata": {},
     "output_type": "display_data"
    },
    {
     "data": {
      "text/html": [
       "<span style=\"color:cyan\"> |-Trial ID: 1fe050e4584cd0371f8f775796f59d8c</span>"
      ],
      "text/plain": [
       "<IPython.core.display.HTML object>"
      ]
     },
     "metadata": {},
     "output_type": "display_data"
    },
    {
     "data": {
      "text/html": [
       "<span style=\"color:cyan\"> |-Score: 1.6473543167114257</span>"
      ],
      "text/plain": [
       "<IPython.core.display.HTML object>"
      ]
     },
     "metadata": {},
     "output_type": "display_data"
    },
    {
     "data": {
      "text/html": [
       "<span style=\"color:cyan\"> |-Best step: 0</span>"
      ],
      "text/plain": [
       "<IPython.core.display.HTML object>"
      ]
     },
     "metadata": {},
     "output_type": "display_data"
    },
    {
     "data": {
      "text/html": [
       "<span style=\"color:#7E57C2\"><h2 style=\"font-size:16px\">Hyperparameters:</h2></span>"
      ],
      "text/plain": [
       "<IPython.core.display.HTML object>"
      ]
     },
     "metadata": {},
     "output_type": "display_data"
    },
    {
     "data": {
      "text/html": [
       "<span style=\"color:cyan\"> |-units: 1536</span>"
      ],
      "text/plain": [
       "<IPython.core.display.HTML object>"
      ]
     },
     "metadata": {},
     "output_type": "display_data"
    },
    {
     "data": {
      "text/html": [
       "<span style=\"color:#4527A0\"><h1 style=\"font-size:18px\">Trial summary</h1></span>"
      ],
      "text/plain": [
       "<IPython.core.display.HTML object>"
      ]
     },
     "metadata": {},
     "output_type": "display_data"
    },
    {
     "data": {
      "text/html": [
       "<span style=\"color:cyan\"> |-Trial ID: 1b65673423721b53da5f59c9fe8a28dc</span>"
      ],
      "text/plain": [
       "<IPython.core.display.HTML object>"
      ]
     },
     "metadata": {},
     "output_type": "display_data"
    },
    {
     "data": {
      "text/html": [
       "<span style=\"color:cyan\"> |-Score: 1.6494145154953004</span>"
      ],
      "text/plain": [
       "<IPython.core.display.HTML object>"
      ]
     },
     "metadata": {},
     "output_type": "display_data"
    },
    {
     "data": {
      "text/html": [
       "<span style=\"color:cyan\"> |-Best step: 0</span>"
      ],
      "text/plain": [
       "<IPython.core.display.HTML object>"
      ]
     },
     "metadata": {},
     "output_type": "display_data"
    },
    {
     "data": {
      "text/html": [
       "<span style=\"color:#7E57C2\"><h2 style=\"font-size:16px\">Hyperparameters:</h2></span>"
      ],
      "text/plain": [
       "<IPython.core.display.HTML object>"
      ]
     },
     "metadata": {},
     "output_type": "display_data"
    },
    {
     "data": {
      "text/html": [
       "<span style=\"color:cyan\"> |-units: 768</span>"
      ],
      "text/plain": [
       "<IPython.core.display.HTML object>"
      ]
     },
     "metadata": {},
     "output_type": "display_data"
    },
    {
     "data": {
      "text/html": [
       "<span style=\"color:#4527A0\"><h1 style=\"font-size:18px\">Trial summary</h1></span>"
      ],
      "text/plain": [
       "<IPython.core.display.HTML object>"
      ]
     },
     "metadata": {},
     "output_type": "display_data"
    },
    {
     "data": {
      "text/html": [
       "<span style=\"color:cyan\"> |-Trial ID: 84720913b7dd57b89dff6bf140439ef6</span>"
      ],
      "text/plain": [
       "<IPython.core.display.HTML object>"
      ]
     },
     "metadata": {},
     "output_type": "display_data"
    },
    {
     "data": {
      "text/html": [
       "<span style=\"color:cyan\"> |-Score: 1.6617857694625855</span>"
      ],
      "text/plain": [
       "<IPython.core.display.HTML object>"
      ]
     },
     "metadata": {},
     "output_type": "display_data"
    },
    {
     "data": {
      "text/html": [
       "<span style=\"color:cyan\"> |-Best step: 0</span>"
      ],
      "text/plain": [
       "<IPython.core.display.HTML object>"
      ]
     },
     "metadata": {},
     "output_type": "display_data"
    },
    {
     "data": {
      "text/html": [
       "<span style=\"color:#7E57C2\"><h2 style=\"font-size:16px\">Hyperparameters:</h2></span>"
      ],
      "text/plain": [
       "<IPython.core.display.HTML object>"
      ]
     },
     "metadata": {},
     "output_type": "display_data"
    },
    {
     "data": {
      "text/html": [
       "<span style=\"color:cyan\"> |-units: 1024</span>"
      ],
      "text/plain": [
       "<IPython.core.display.HTML object>"
      ]
     },
     "metadata": {},
     "output_type": "display_data"
    },
    {
     "data": {
      "text/html": [
       "<span style=\"color:#4527A0\"><h1 style=\"font-size:18px\">Trial summary</h1></span>"
      ],
      "text/plain": [
       "<IPython.core.display.HTML object>"
      ]
     },
     "metadata": {},
     "output_type": "display_data"
    },
    {
     "data": {
      "text/html": [
       "<span style=\"color:cyan\"> |-Trial ID: 57335e6f5a2091c88ad69c0586302267</span>"
      ],
      "text/plain": [
       "<IPython.core.display.HTML object>"
      ]
     },
     "metadata": {},
     "output_type": "display_data"
    },
    {
     "data": {
      "text/html": [
       "<span style=\"color:cyan\"> |-Score: 1.6640684843063354</span>"
      ],
      "text/plain": [
       "<IPython.core.display.HTML object>"
      ]
     },
     "metadata": {},
     "output_type": "display_data"
    },
    {
     "data": {
      "text/html": [
       "<span style=\"color:cyan\"> |-Best step: 0</span>"
      ],
      "text/plain": [
       "<IPython.core.display.HTML object>"
      ]
     },
     "metadata": {},
     "output_type": "display_data"
    },
    {
     "data": {
      "text/html": [
       "<span style=\"color:#7E57C2\"><h2 style=\"font-size:16px\">Hyperparameters:</h2></span>"
      ],
      "text/plain": [
       "<IPython.core.display.HTML object>"
      ]
     },
     "metadata": {},
     "output_type": "display_data"
    },
    {
     "data": {
      "text/html": [
       "<span style=\"color:cyan\"> |-units: 512</span>"
      ],
      "text/plain": [
       "<IPython.core.display.HTML object>"
      ]
     },
     "metadata": {},
     "output_type": "display_data"
    },
    {
     "data": {
      "text/html": [
       "<span style=\"color:#4527A0\"><h1 style=\"font-size:18px\">Trial summary</h1></span>"
      ],
      "text/plain": [
       "<IPython.core.display.HTML object>"
      ]
     },
     "metadata": {},
     "output_type": "display_data"
    },
    {
     "data": {
      "text/html": [
       "<span style=\"color:cyan\"> |-Trial ID: 8a7968c0eac3eb39a36c9629e41661dd</span>"
      ],
      "text/plain": [
       "<IPython.core.display.HTML object>"
      ]
     },
     "metadata": {},
     "output_type": "display_data"
    },
    {
     "data": {
      "text/html": [
       "<span style=\"color:cyan\"> |-Score: 1.6699660301208497</span>"
      ],
      "text/plain": [
       "<IPython.core.display.HTML object>"
      ]
     },
     "metadata": {},
     "output_type": "display_data"
    },
    {
     "data": {
      "text/html": [
       "<span style=\"color:cyan\"> |-Best step: 0</span>"
      ],
      "text/plain": [
       "<IPython.core.display.HTML object>"
      ]
     },
     "metadata": {},
     "output_type": "display_data"
    },
    {
     "data": {
      "text/html": [
       "<span style=\"color:#7E57C2\"><h2 style=\"font-size:16px\">Hyperparameters:</h2></span>"
      ],
      "text/plain": [
       "<IPython.core.display.HTML object>"
      ]
     },
     "metadata": {},
     "output_type": "display_data"
    },
    {
     "data": {
      "text/html": [
       "<span style=\"color:cyan\"> |-units: 256</span>"
      ],
      "text/plain": [
       "<IPython.core.display.HTML object>"
      ]
     },
     "metadata": {},
     "output_type": "display_data"
    }
   ],
   "source": [
    "tuner.results_summary()"
   ]
  },
  {
   "cell_type": "code",
   "execution_count": null,
   "metadata": {
    "ExecuteTime": {
     "end_time": "2020-10-04T17:39:44.948879Z",
     "start_time": "2020-10-04T17:39:44.933920Z"
    }
   },
   "outputs": [],
   "source": [
    "## Grab optimal hyperparameter\n",
    "tuner.oracle.get_best_trials(num_trials=1)[0].hyperparameters.values"
   ]
  },
  {
   "cell_type": "code",
   "execution_count": 9,
   "metadata": {
    "execution": {
     "iopub.execute_input": "2020-11-12T10:00:46.715700Z",
     "iopub.status.busy": "2020-11-12T10:00:46.715700Z",
     "iopub.status.idle": "2020-11-12T10:00:46.726701Z",
     "shell.execute_reply": "2020-11-12T10:00:46.725700Z",
     "shell.execute_reply.started": "2020-11-12T10:00:46.715700Z"
    }
   },
   "outputs": [],
   "source": [
    "best_hps = tuner.get_best_hyperparameters(num_trials = 1)[0]"
   ]
  },
  {
   "cell_type": "markdown",
   "metadata": {},
   "source": [
    "## Define optimal model"
   ]
  },
  {
   "cell_type": "code",
   "execution_count": 9,
   "metadata": {
    "execution": {
     "iopub.execute_input": "2020-11-11T15:55:48.978348Z",
     "iopub.status.busy": "2020-11-11T15:55:48.978348Z",
     "iopub.status.idle": "2020-11-11T15:55:49.008347Z",
     "shell.execute_reply": "2020-11-11T15:55:49.008347Z",
     "shell.execute_reply.started": "2020-11-11T15:55:48.978348Z"
    }
   },
   "outputs": [],
   "source": [
    "def build_opt_model():\n",
    "    model = Sequential(name=\"RNN-LSTM\")\n",
    "    model.add(\n",
    "        layers.InputLayer(\n",
    "            input_shape=(seq_train_features.shape[1], seq_train_features.shape[2])\n",
    "        )\n",
    "    )\n",
    "    # Increasing the units to 512, decreases the loss and it improves accuracy, f1 etc.\n",
    "    # Kers hyperparameter tuning results as 1792 is the optimal amount of units\n",
    "    model.add(layers.LSTM(1792, return_sequences=True, name=\"LSTM_1\"))\n",
    "    model.add(layers.LayerNormalization())\n",
    "    model.add(layers.LSTM(256, return_sequences=True, name=\"LSTM_2\"))\n",
    "    model.add(layers.Dense(7, activation=\"softmax\", name=\"Dense_Output\"))\n",
    "    model.compile(\n",
    "        optimizer=\"adagrad\",\n",
    "        loss=CategoricalCrossentropy(label_smoothing=0.1),\n",
    "        metrics=[\"accuracy\", f1, \"AUC\"],\n",
    "    )\n",
    "    return model"
   ]
  },
  {
   "cell_type": "markdown",
   "metadata": {},
   "source": [
    "# Train + Evaluate model"
   ]
  },
  {
   "cell_type": "markdown",
   "metadata": {},
   "source": [
    "## Best model results"
   ]
  },
  {
   "cell_type": "code",
   "execution_count": 14,
   "metadata": {
    "execution": {
     "iopub.execute_input": "2020-11-12T10:02:14.969693Z",
     "iopub.status.busy": "2020-11-12T10:02:14.969693Z",
     "iopub.status.idle": "2020-11-12T10:11:26.961155Z",
     "shell.execute_reply": "2020-11-12T10:11:26.961155Z",
     "shell.execute_reply.started": "2020-11-12T10:02:14.969693Z"
    },
    "scrolled": true
   },
   "outputs": [
    {
     "name": "stdout",
     "output_type": "stream",
     "text": [
      "Model: \"RNN-LSTM\"\n",
      "_________________________________________________________________\n",
      "Layer (type)                 Output Shape              Param #   \n",
      "=================================================================\n",
      "LSTM_1 (LSTM)                (None, 60, 2048)          54534144  \n",
      "_________________________________________________________________\n",
      "layer_normalization (LayerNo (None, 60, 2048)          4096      \n",
      "_________________________________________________________________\n",
      "LSTM_2 (LSTM)                (None, 60, 256)           2360320   \n",
      "_________________________________________________________________\n",
      "Dense_Output (Dense)         (None, 60, 7)             1799      \n",
      "=================================================================\n",
      "Total params: 56,900,359\n",
      "Trainable params: 56,900,359\n",
      "Non-trainable params: 0\n",
      "_________________________________________________________________\n",
      "Epoch 1/50\n",
      "481/481 - 40s - loss: 1.3705 - accuracy: 0.5143 - f1: 0.2718 - auc: 0.8523 - val_loss: 1.7413 - val_accuracy: 0.3549 - val_f1: 0.0746 - val_auc: 0.7397\n",
      "\n",
      "Epoch 00001: saving model to data/models\\cp_training_LSTM.ckpt\n",
      "Epoch 2/50\n",
      "481/481 - 34s - loss: 0.9469 - accuracy: 0.6958 - f1: 0.5663 - auc: 0.9397 - val_loss: 1.6764 - val_accuracy: 0.4202 - val_f1: 0.2175 - val_auc: 0.7724\n",
      "\n",
      "Epoch 00002: saving model to data/models\\cp_training_LSTM.ckpt\n",
      "Epoch 3/50\n",
      "481/481 - 36s - loss: 0.7840 - accuracy: 0.7763 - f1: 0.7069 - auc: 0.9656 - val_loss: 1.6888 - val_accuracy: 0.4139 - val_f1: 0.2377 - val_auc: 0.7726\n",
      "\n",
      "Epoch 00003: saving model to data/models\\cp_training_LSTM.ckpt\n",
      "Epoch 4/50\n",
      "481/481 - 35s - loss: 0.6989 - accuracy: 0.8244 - f1: 0.7821 - auc: 0.9783 - val_loss: 1.6489 - val_accuracy: 0.4434 - val_f1: 0.3002 - val_auc: 0.7921\n",
      "\n",
      "Epoch 00004: saving model to data/models\\cp_training_LSTM.ckpt\n",
      "Epoch 5/50\n",
      "481/481 - 35s - loss: 0.6424 - accuracy: 0.8616 - f1: 0.8323 - auc: 0.9860 - val_loss: 1.6305 - val_accuracy: 0.4627 - val_f1: 0.3469 - val_auc: 0.8047\n",
      "\n",
      "Epoch 00005: saving model to data/models\\cp_training_LSTM.ckpt\n",
      "Epoch 6/50\n",
      "481/481 - 35s - loss: 0.6050 - accuracy: 0.8903 - f1: 0.8676 - auc: 0.9905 - val_loss: 1.6402 - val_accuracy: 0.4649 - val_f1: 0.3600 - val_auc: 0.8034\n",
      "\n",
      "Epoch 00006: saving model to data/models\\cp_training_LSTM.ckpt\n",
      "Epoch 7/50\n",
      "481/481 - 35s - loss: 0.5771 - accuracy: 0.9128 - f1: 0.8943 - auc: 0.9937 - val_loss: 1.6542 - val_accuracy: 0.4651 - val_f1: 0.3650 - val_auc: 0.8014\n",
      "\n",
      "Epoch 00007: saving model to data/models\\cp_training_LSTM.ckpt\n",
      "Epoch 8/50\n",
      "481/481 - 35s - loss: 0.5570 - accuracy: 0.9289 - f1: 0.9135 - auc: 0.9957 - val_loss: 1.6478 - val_accuracy: 0.4676 - val_f1: 0.3665 - val_auc: 0.8009\n",
      "\n",
      "Epoch 00008: saving model to data/models\\cp_training_LSTM.ckpt\n",
      "Epoch 9/50\n",
      "481/481 - 35s - loss: 0.5421 - accuracy: 0.9421 - f1: 0.9274 - auc: 0.9969 - val_loss: 1.6801 - val_accuracy: 0.4543 - val_f1: 0.3580 - val_auc: 0.7946\n",
      "\n",
      "Epoch 00009: saving model to data/models\\cp_training_LSTM.ckpt\n",
      "Epoch 10/50\n",
      "481/481 - 35s - loss: 0.5308 - accuracy: 0.9520 - f1: 0.9388 - auc: 0.9978 - val_loss: 1.6720 - val_accuracy: 0.4618 - val_f1: 0.3683 - val_auc: 0.7982\n",
      "\n",
      "Epoch 00010: saving model to data/models\\cp_training_LSTM.ckpt\n",
      "Epoch 11/50\n",
      "481/481 - 35s - loss: 0.5221 - accuracy: 0.9599 - f1: 0.9479 - auc: 0.9984 - val_loss: 1.6525 - val_accuracy: 0.4754 - val_f1: 0.3822 - val_auc: 0.8025\n",
      "\n",
      "Epoch 00011: saving model to data/models\\cp_training_LSTM.ckpt\n",
      "Epoch 12/50\n",
      "481/481 - 35s - loss: 0.5143 - accuracy: 0.9669 - f1: 0.9551 - auc: 0.9988 - val_loss: 1.6618 - val_accuracy: 0.4783 - val_f1: 0.3868 - val_auc: 0.8012\n",
      "\n",
      "Epoch 00012: saving model to data/models\\cp_training_LSTM.ckpt\n",
      "Epoch 13/50\n",
      "481/481 - 35s - loss: 0.5078 - accuracy: 0.9720 - f1: 0.9612 - auc: 0.9991 - val_loss: 1.6763 - val_accuracy: 0.4724 - val_f1: 0.3828 - val_auc: 0.7982\n",
      "\n",
      "Epoch 00013: saving model to data/models\\cp_training_LSTM.ckpt\n",
      "Epoch 14/50\n",
      "481/481 - 35s - loss: 0.5032 - accuracy: 0.9755 - f1: 0.9654 - auc: 0.9993 - val_loss: 1.6789 - val_accuracy: 0.4719 - val_f1: 0.3832 - val_auc: 0.7972\n",
      "\n",
      "Epoch 00014: saving model to data/models\\cp_training_LSTM.ckpt\n",
      "Epoch 15/50\n",
      "481/481 - 35s - loss: 0.4993 - accuracy: 0.9788 - f1: 0.9690 - auc: 0.9995 - val_loss: 1.6817 - val_accuracy: 0.4721 - val_f1: 0.3837 - val_auc: 0.7968\n",
      "Restoring model weights from the end of the best epoch.\n",
      "\n",
      "Epoch 00015: saving model to data/models\\cp_training_LSTM.ckpt\n",
      "Epoch 00015: early stopping\n"
     ]
    }
   ],
   "source": [
    "LSTM = tuner.hypermodel.build(best_hps)\n",
    "LSTM.summary()\n",
    "\n",
    "checkpoint_path = \"data/models/cp_training_LSTM.ckpt\"\n",
    "\n",
    "import time\n",
    "name = 'LSTM_opt'.format(int(time.time()))\n",
    "tb_callback = tf.keras.callbacks.TensorBoard(log_dir='logs/{}'.format(name))\n",
    "\n",
    "# Access tensorboard in cmd of the main repo folder with following code:\n",
    "# tensorboard --logdir='logs/'\n",
    "\n",
    "# Set callbacks for model training\n",
    "csvlog = tf.keras.callbacks.CSVLogger(\n",
    "    \"data/models/LSTM_performance.csv\", separator=\",\", append=False\n",
    ")\n",
    "\n",
    "cp_callback = tf.keras.callbacks.ModelCheckpoint(\n",
    "    filepath=checkpoint_path, save_weights_only=True, verbose=1\n",
    ")\n",
    "\n",
    "history_best = LSTM.fit(\n",
    "    seq_train_features,\n",
    "    seq_train_labels,\n",
    "    sample_weight=train_samples_weights,\n",
    "    validation_data=(seq_val_features, seq_val_labels),\n",
    "    epochs=50,\n",
    "    callbacks=[es, \n",
    "               cp_callback, \n",
    "               csvlog, \n",
    "               tb_callback],\n",
    "    verbose=2,\n",
    ")"
   ]
  },
  {
   "cell_type": "code",
   "execution_count": 15,
   "metadata": {
    "execution": {
     "iopub.execute_input": "2020-11-12T10:40:14.877296Z",
     "iopub.status.busy": "2020-11-12T10:40:14.876295Z",
     "iopub.status.idle": "2020-11-12T10:40:20.504294Z",
     "shell.execute_reply": "2020-11-12T10:40:20.504294Z",
     "shell.execute_reply.started": "2020-11-12T10:40:14.877296Z"
    }
   },
   "outputs": [
    {
     "name": "stdout",
     "output_type": "stream",
     "text": [
      "{'loss': 1.6618311405181885, 'accuracy': 0.4783446192741394, 'f1': 0.38683050870895386, 'auc': 0.8012043833732605}\n"
     ]
    }
   ],
   "source": [
    "results = LSTM.evaluate(seq_val_features, seq_val_labels, verbose=0)\n",
    "print(dict(zip(LSTM.metrics_names, results)))"
   ]
  },
  {
   "cell_type": "markdown",
   "metadata": {},
   "source": [
    "## Plot the model architecture"
   ]
  },
  {
   "cell_type": "code",
   "execution_count": 18,
   "metadata": {
    "execution": {
     "iopub.execute_input": "2020-11-12T11:06:16.117173Z",
     "iopub.status.busy": "2020-11-12T11:06:16.117173Z",
     "iopub.status.idle": "2020-11-12T11:06:16.286171Z",
     "shell.execute_reply": "2020-11-12T11:06:16.286171Z",
     "shell.execute_reply.started": "2020-11-12T11:06:16.117173Z"
    }
   },
   "outputs": [
    {
     "data": {
      "image/png": "[encoded data removed]",
      "text/plain": [
       "<IPython.core.display.Image object>"
      ]
     },
     "execution_count": 18,
     "metadata": {},
     "output_type": "execute_result"
    }
   ],
   "source": [
    "# Plot CNN-LSTM model\n",
    "tf.keras.utils.plot_model(\n",
    "    LSTM,\n",
    "    to_file=\"images/models/LSTM_architecture.png\",\n",
    "    show_shapes=True,\n",
    "    show_layer_names=True,\n",
    "    rankdir=\"TB\",\n",
    "    expand_nested=False,\n",
    "    dpi=96,\n",
    ")"
   ]
  },
  {
   "cell_type": "markdown",
   "metadata": {},
   "source": [
    "## Plot performance of model"
   ]
  },
  {
   "cell_type": "code",
   "execution_count": 19,
   "metadata": {
    "execution": {
     "iopub.execute_input": "2020-11-12T11:06:20.424115Z",
     "iopub.status.busy": "2020-11-12T11:06:20.424115Z",
     "iopub.status.idle": "2020-11-12T11:06:21.118116Z",
     "shell.execute_reply": "2020-11-12T11:06:21.118116Z",
     "shell.execute_reply.started": "2020-11-12T11:06:20.424115Z"
    }
   },
   "outputs": [
    {
     "data": {
      "image/png": "[encoded data removed]",
      "text/plain": [
       "<Figure size 1440x288 with 4 Axes>"
      ]
     },
     "metadata": {
      "needs_background": "light"
     },
     "output_type": "display_data"
    }
   ],
   "source": [
    "model_hist = history_best.history\n",
    "\n",
    "labels = [*model_hist.keys()]\n",
    "fig, axes = plt.subplots(1, 4, figsize=(20, 4))\n",
    "epochs = range(1, len(model_hist[\"loss\"]) + 1)\n",
    "for data, label in zip(\n",
    "    [model_hist[\"loss\"], model_hist[\"val_loss\"]], [labels[0], labels[4]]\n",
    "):\n",
    "    axes[0].plot(epochs, data, label=label)\n",
    "\n",
    "for data, label in zip(\n",
    "    [model_hist[\"accuracy\"], model_hist[\"val_accuracy\"]], [labels[1], labels[5]]\n",
    "):\n",
    "    axes[1].plot(epochs, data, label=label)\n",
    "\n",
    "for data, label in zip(\n",
    "    [model_hist[\"f1\"], model_hist[\"val_f1\"]], [labels[2], labels[6]]\n",
    "):\n",
    "    axes[2].plot(epochs, data, label=label)\n",
    "\n",
    "for data, label in zip(\n",
    "    [model_hist[\"auc\"], model_hist[\"val_auc\"]], [labels[3], labels[7]]\n",
    "):\n",
    "    axes[3].plot(epochs, data, label=label)\n",
    "\n",
    "for i, label in zip(range(4), [\"loss\", \"acc\", \"f1\", \"AUC\"]):\n",
    "    axes[i].set_title(label + \" score\")\n",
    "    axes[i].set_xlabel(\"Epochs\")\n",
    "    axes[i].set_ylabel(label)"
   ]
  },
  {
   "cell_type": "code",
   "execution_count": 21,
   "metadata": {
    "execution": {
     "iopub.execute_input": "2020-11-12T11:06:42.101729Z",
     "iopub.status.busy": "2020-11-12T11:06:42.101729Z",
     "iopub.status.idle": "2020-11-12T11:06:42.110723Z",
     "shell.execute_reply": "2020-11-12T11:06:42.110723Z",
     "shell.execute_reply.started": "2020-11-12T11:06:42.101729Z"
    }
   },
   "outputs": [],
   "source": [
    "# Save model performance to json file\n",
    "with open(\"data/models/LSTM_performance.json\", \"w\") as fp:\n",
    "    json.dump(model_hist, fp)"
   ]
  },
  {
   "cell_type": "markdown",
   "metadata": {},
   "source": [
    "## Save model+weights to folder"
   ]
  },
  {
   "cell_type": "code",
   "execution_count": 23,
   "metadata": {
    "execution": {
     "iopub.execute_input": "2020-11-12T11:07:10.271241Z",
     "iopub.status.busy": "2020-11-12T11:07:10.270241Z",
     "iopub.status.idle": "2020-11-12T11:07:10.905742Z",
     "shell.execute_reply": "2020-11-12T11:07:10.905742Z",
     "shell.execute_reply.started": "2020-11-12T11:07:10.271241Z"
    }
   },
   "outputs": [],
   "source": [
    "# Save model\n",
    "tf.keras.Model.save(LSTM, filepath=\"data/models/LSTM_model.h5\")"
   ]
  },
  {
   "cell_type": "markdown",
   "metadata": {},
   "source": [
    "## Calculate precision score with SKlearn"
   ]
  },
  {
   "cell_type": "code",
   "execution_count": null,
   "metadata": {},
   "outputs": [],
   "source": [
    "from sklearn.metrics import f1_score, accuracy_score, confusion_matrix, roc_auc_score"
   ]
  },
  {
   "cell_type": "code",
   "execution_count": null,
   "metadata": {},
   "outputs": [],
   "source": [
    "# Do predictions on test set\n",
    "val_predv2 = v2.predict(seq_val_features, verbose=0)\n",
    "\n",
    "# Reshape back to (frame, label)\n",
    "val_predv2 = np.reshape(\n",
    "    val_predv2, (val_predv2.shape[0] * val_predv2.shape[1], val_predv2.shape[2])\n",
    ")\n",
    "\n",
    "# Convert one hot encoding to integers\n",
    "val_predv2 = np.argmax(val_predv2, axis=1)"
   ]
  },
  {
   "cell_type": "code",
   "execution_count": null,
   "metadata": {
    "scrolled": true
   },
   "outputs": [],
   "source": [
    "# Reshape back to (frame, label)\n",
    "val_true = np.reshape(\n",
    "    seq_val_labels,\n",
    "    (seq_val_labels.shape[0] * seq_val_labels.shape[1], seq_val_labels.shape[2]),\n",
    ")\n",
    "val_true = np.argmax(val_true, axis=1)"
   ]
  },
  {
   "cell_type": "code",
   "execution_count": null,
   "metadata": {},
   "outputs": [],
   "source": [
    "# F1 Results with model v3\n",
    "for avg in [None, \"micro\", \"macro\", \"weighted\"]:\n",
    "    score = f1_score(val_true, val_predv3, average=avg)\n",
    "    print(f\"Average method: {avg}, f1-score: {score}\")"
   ]
  }
 ],
 "metadata": {
  "kernelspec": {
   "display_name": "Python 3",
   "language": "python",
   "name": "python3"
  },
  "language_info": {
   "codemirror_mode": {
    "name": "ipython",
    "version": 3
   },
   "file_extension": ".py",
   "mimetype": "text/x-python",
   "name": "python",
   "nbconvert_exporter": "python",
   "pygments_lexer": "ipython3",
   "version": "3.7.9"
  },
  "output_auto_scroll": true,
  "toc-autonumbering": true
 },
 "nbformat": 4,
 "nbformat_minor": 4
}
