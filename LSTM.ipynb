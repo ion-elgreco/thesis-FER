{
 "cells": [
  {
   "cell_type": "markdown",
   "metadata": {},
   "source": [
    "## Load/import packages"
   ]
  },
  {
   "cell_type": "code",
   "execution_count": 2,
   "metadata": {
    "execution": {
     "iopub.execute_input": "2020-11-12T13:24:17.842598Z",
     "iopub.status.busy": "2020-11-12T13:24:17.841597Z",
     "iopub.status.idle": "2020-11-12T13:24:42.138864Z",
     "shell.execute_reply": "2020-11-12T13:24:42.137863Z",
     "shell.execute_reply.started": "2020-11-12T13:24:17.842598Z"
    }
   },
   "outputs": [],
   "source": [
    "import json\n",
    "import scipy\n",
    "import numpy as np\n",
    "import tensorflow as tf\n",
    "import matplotlib.pyplot as plt\n",
    "import tensorflow.keras.backend as K\n",
    "import kerastuner as kt\n",
    "\n",
    "from tensorflow.keras import Sequential, layers\n",
    "from tensorflow.keras.losses import CategoricalCrossentropy\n",
    "from sklearn.utils import class_weight\n",
    "\n",
    "from os import listdir\n",
    "from os.path import join, splitext, normpath\n",
    "\n",
    "# Import variables and functions from my own scripts\n",
    "from functions import f1, plot_history, arr_replacevalue\n",
    "from load_features import (\n",
    "    train_features_AW2,\n",
    "    val_features_AW2,\n",
    "    train_labels_AW2,\n",
    "    val_labels_AW2,\n",
    "    labels_reshaper,\n",
    "    features_reshaper,\n",
    ")\n",
    "\n",
    "%matplotlib inline\n",
    "\n",
    "# Limit GPU memory usage\n",
    "for device in tf.config.experimental.list_physical_devices(\"GPU\"):\n",
    "    tf.config.experimental.set_memory_growth(device, True)"
   ]
  },
  {
   "cell_type": "markdown",
   "metadata": {},
   "source": [
    "# Prepare data"
   ]
  },
  {
   "cell_type": "markdown",
   "metadata": {
    "execution": {
     "iopub.execute_input": "2020-11-10T14:56:14.306513Z",
     "iopub.status.busy": "2020-11-10T14:56:14.305513Z",
     "iopub.status.idle": "2020-11-10T14:56:14.312512Z",
     "shell.execute_reply": "2020-11-10T14:56:14.312512Z",
     "shell.execute_reply.started": "2020-11-10T14:56:14.306513Z"
    }
   },
   "source": [
    "## Reshape features, labels\n",
    "The model gets more unstable and validation scores converge later with higher sequence length. Increasing sequence length does not improve the models performance."
   ]
  },
  {
   "cell_type": "code",
   "execution_count": 9,
   "metadata": {
    "execution": {
     "iopub.execute_input": "2020-11-12T13:30:48.276564Z",
     "iopub.status.busy": "2020-11-12T13:30:48.275564Z",
     "iopub.status.idle": "2020-11-12T13:31:34.122443Z",
     "shell.execute_reply": "2020-11-12T13:31:34.108440Z",
     "shell.execute_reply.started": "2020-11-12T13:30:48.276564Z"
    }
   },
   "outputs": [],
   "source": [
    "# Reshape data to specified sequence length\n",
    "length = 120\n",
    "seq_train_features = features_reshaper(train_features_AW2, length)\n",
    "seq_val_features = features_reshaper(val_features_AW2, length)\n",
    "\n",
    "seq_train_labels = labels_reshaper(train_labels_AW2, length)\n",
    "seq_val_labels = labels_reshaper(val_labels_AW2, length)"
   ]
  },
  {
   "cell_type": "markdown",
   "metadata": {},
   "source": [
    "## Compute sample weights"
   ]
  },
  {
   "cell_type": "code",
   "execution_count": 10,
   "metadata": {
    "execution": {
     "iopub.execute_input": "2020-11-12T13:31:34.143443Z",
     "iopub.status.busy": "2020-11-12T13:31:34.142441Z",
     "iopub.status.idle": "2020-11-12T13:31:34.611441Z",
     "shell.execute_reply": "2020-11-12T13:31:34.610439Z",
     "shell.execute_reply.started": "2020-11-12T13:31:34.143443Z"
    }
   },
   "outputs": [
    {
     "name": "stderr",
     "output_type": "stream",
     "text": [
      "C:\\Users\\ion\\anaconda3\\envs\\tf-gpu\\lib\\site-packages\\sklearn\\utils\\validation.py:70: FutureWarning: Pass classes=[0 1 2 3 4 5 6], y=[0 0 0 ... 6 6 6] as keyword args. From version 0.25 passing these as positional arguments will result in an error\n",
      "  FutureWarning)\n"
     ]
    }
   ],
   "source": [
    "def comp_sampleweights(labels):\n",
    "    # Convert one-hot encoded labels back to label integers\n",
    "    train_label_ints = np.argmax(labels, axis=2)\n",
    "\n",
    "    # Compute class weights with sklearn\n",
    "    class_weights = class_weight.compute_class_weight(\n",
    "        \"balanced\", np.unique(train_label_ints), train_label_ints.flatten()\n",
    "    )\n",
    "    d_class_weights = dict(enumerate(class_weights))\n",
    "\n",
    "    # Copy label integer array\n",
    "    arr = train_label_ints.copy()\n",
    "\n",
    "    # Pass a 2D array with shape (samples, sequence_length), to apply a different weight to every timestep of every sample\n",
    "    return arr_replacevalue(arr, d_class_weights)\n",
    "    \n",
    "train_samples_weights = comp_sampleweights(seq_train_labels)   "
   ]
  },
  {
   "cell_type": "markdown",
   "metadata": {},
   "source": [
    "# Build HP tuner model"
   ]
  },
  {
   "cell_type": "code",
   "execution_count": 11,
   "metadata": {
    "execution": {
     "iopub.execute_input": "2020-11-12T13:31:34.620440Z",
     "iopub.status.busy": "2020-11-12T13:31:34.619441Z",
     "iopub.status.idle": "2020-11-12T13:31:34.674441Z",
     "shell.execute_reply": "2020-11-12T13:31:34.674441Z",
     "shell.execute_reply.started": "2020-11-12T13:31:34.620440Z"
    }
   },
   "outputs": [],
   "source": [
    "def build_model(hp):\n",
    "    # Only tune the first layer of hyperparameters\n",
    "    hp_unit = hp.Int(\"units\", min_value=256, max_value=2048, step=256)\n",
    "\n",
    "    model = Sequential(name=\"RNN-LSTM\")\n",
    "    model.add(\n",
    "        layers.InputLayer(\n",
    "            input_shape=(seq_train_features.shape[1], seq_train_features.shape[2])\n",
    "        )\n",
    "    )\n",
    "    model.add(layers.LSTM(hp_unit, return_sequences=True, name=\"LSTM_1\"))\n",
    "    model.add(layers.LayerNormalization())\n",
    "    model.add(layers.LSTM(256, return_sequences=True, name=\"LSTM_2\"))\n",
    "    model.add(layers.Dense(7, activation=\"softmax\", name=\"Dense_Output\"))\n",
    "    model.compile(\n",
    "        optimizer=\"adagrad\",\n",
    "        loss=CategoricalCrossentropy(label_smoothing=0.1),\n",
    "        metrics=[\"accuracy\", f1, \"AUC\"],\n",
    "    )\n",
    "    return model"
   ]
  },
  {
   "cell_type": "markdown",
   "metadata": {},
   "source": [
    "## Hyperparameter tuning"
   ]
  },
  {
   "cell_type": "code",
   "execution_count": 12,
   "metadata": {
    "execution": {
     "iopub.execute_input": "2020-11-12T13:31:34.678440Z",
     "iopub.status.busy": "2020-11-12T13:31:34.678440Z",
     "iopub.status.idle": "2020-11-12T13:31:34.705440Z",
     "shell.execute_reply": "2020-11-12T13:31:34.705440Z",
     "shell.execute_reply.started": "2020-11-12T13:31:34.678440Z"
    }
   },
   "outputs": [],
   "source": [
    "es = tf.keras.callbacks.EarlyStopping(\n",
    "            monitor=\"val_f1\",\n",
    "            verbose=1,\n",
    "            patience=3,\n",
    "            mode=\"max\",\n",
    "            restore_best_weights=True,\n",
    "        )"
   ]
  },
  {
   "cell_type": "code",
   "execution_count": 13,
   "metadata": {
    "execution": {
     "iopub.execute_input": "2020-11-12T13:31:34.709440Z",
     "iopub.status.busy": "2020-11-12T13:31:34.709440Z",
     "iopub.status.idle": "2020-11-12T18:34:25.727568Z",
     "shell.execute_reply": "2020-11-12T18:34:25.726568Z",
     "shell.execute_reply.started": "2020-11-12T13:31:34.709440Z"
    },
    "scrolled": true
   },
   "outputs": [
    {
     "data": {
      "text/html": [
       "<span style=\"color:#4527A0\"><h1 style=\"font-size:18px\">Search space summary</h1></span>"
      ],
      "text/plain": [
       "<IPython.core.display.HTML object>"
      ]
     },
     "metadata": {},
     "output_type": "display_data"
    },
    {
     "data": {
      "text/html": [
       "<span style=\"color:cyan\"> |-Default search space size: 1</span>"
      ],
      "text/plain": [
       "<IPython.core.display.HTML object>"
      ]
     },
     "metadata": {},
     "output_type": "display_data"
    },
    {
     "data": {
      "text/html": [
       "<span style=\"color:#7E57C2\"><h2 style=\"font-size:16px\">units (Int)</h2></span>"
      ],
      "text/plain": [
       "<IPython.core.display.HTML object>"
      ]
     },
     "metadata": {},
     "output_type": "display_data"
    },
    {
     "data": {
      "text/html": [
       "<span style=\"color:cyan\"> |-default: None</span>"
      ],
      "text/plain": [
       "<IPython.core.display.HTML object>"
      ]
     },
     "metadata": {},
     "output_type": "display_data"
    },
    {
     "data": {
      "text/html": [
       "<span style=\"color:blue\"> |-max_value: 2048</span>"
      ],
      "text/plain": [
       "<IPython.core.display.HTML object>"
      ]
     },
     "metadata": {},
     "output_type": "display_data"
    },
    {
     "data": {
      "text/html": [
       "<span style=\"color:cyan\"> |-min_value: 256</span>"
      ],
      "text/plain": [
       "<IPython.core.display.HTML object>"
      ]
     },
     "metadata": {},
     "output_type": "display_data"
    },
    {
     "data": {
      "text/html": [
       "<span style=\"color:blue\"> |-sampling: None</span>"
      ],
      "text/plain": [
       "<IPython.core.display.HTML object>"
      ]
     },
     "metadata": {},
     "output_type": "display_data"
    },
    {
     "data": {
      "text/html": [
       "<span style=\"color:cyan\"> |-step: 256</span>"
      ],
      "text/plain": [
       "<IPython.core.display.HTML object>"
      ]
     },
     "metadata": {},
     "output_type": "display_data"
    },
    {
     "name": "stdout",
     "output_type": "stream",
     "text": [
      "Epoch 1/100\n",
      "241/241 - 27s - loss: 1.5453 - accuracy: 0.3920 - f1: 0.1262 - auc: 0.7767 - val_loss: 1.7565 - val_accuracy: 0.3386 - val_f1: 0.0292 - val_auc: 0.7253\n",
      "Epoch 2/100\n",
      "241/241 - 20s - loss: 1.1197 - accuracy: 0.5994 - f1: 0.3653 - auc: 0.9037 - val_loss: 1.7972 - val_accuracy: 0.3057 - val_f1: 0.0671 - val_auc: 0.7135\n",
      "Epoch 3/100\n",
      "241/241 - 20s - loss: 0.9450 - accuracy: 0.6814 - f1: 0.5194 - auc: 0.9356 - val_loss: 1.7177 - val_accuracy: 0.3593 - val_f1: 0.1480 - val_auc: 0.7544\n",
      "Epoch 4/100\n",
      "241/241 - 21s - loss: 0.8298 - accuracy: 0.7391 - f1: 0.6310 - auc: 0.9557 - val_loss: 1.6511 - val_accuracy: 0.4075 - val_f1: 0.2151 - val_auc: 0.7838\n",
      "Epoch 5/100\n",
      "241/241 - 21s - loss: 0.7568 - accuracy: 0.7856 - f1: 0.7082 - auc: 0.9690 - val_loss: 1.6486 - val_accuracy: 0.4153 - val_f1: 0.2633 - val_auc: 0.7869\n",
      "Epoch 6/100\n",
      "241/241 - 21s - loss: 0.6997 - accuracy: 0.8208 - f1: 0.7625 - auc: 0.9773 - val_loss: 1.6836 - val_accuracy: 0.3998 - val_f1: 0.2659 - val_auc: 0.7810\n",
      "Epoch 7/100\n",
      "241/241 - 21s - loss: 0.6600 - accuracy: 0.8452 - f1: 0.7995 - auc: 0.9830 - val_loss: 1.6778 - val_accuracy: 0.4068 - val_f1: 0.2896 - val_auc: 0.7902\n",
      "Epoch 8/100\n",
      "241/241 - 21s - loss: 0.6303 - accuracy: 0.8678 - f1: 0.8331 - auc: 0.9871 - val_loss: 1.6815 - val_accuracy: 0.4090 - val_f1: 0.2928 - val_auc: 0.7878\n",
      "Epoch 9/100\n",
      "241/241 - 20s - loss: 0.6054 - accuracy: 0.8855 - f1: 0.8568 - auc: 0.9900 - val_loss: 1.6669 - val_accuracy: 0.4261 - val_f1: 0.3287 - val_auc: 0.7997\n",
      "Epoch 10/100\n",
      "241/241 - 20s - loss: 0.5866 - accuracy: 0.9013 - f1: 0.8773 - auc: 0.9924 - val_loss: 1.6833 - val_accuracy: 0.4186 - val_f1: 0.3236 - val_auc: 0.7949\n",
      "Epoch 11/100\n",
      "241/241 - 20s - loss: 0.5720 - accuracy: 0.9136 - f1: 0.8930 - auc: 0.9940 - val_loss: 1.7093 - val_accuracy: 0.4117 - val_f1: 0.3215 - val_auc: 0.7910\n",
      "Epoch 12/100\n",
      "241/241 - 20s - loss: 0.5600 - accuracy: 0.9236 - f1: 0.9050 - auc: 0.9952 - val_loss: 1.6677 - val_accuracy: 0.4368 - val_f1: 0.3488 - val_auc: 0.8022\n",
      "Epoch 13/100\n",
      "241/241 - 20s - loss: 0.5490 - accuracy: 0.9340 - f1: 0.9173 - auc: 0.9962 - val_loss: 1.6866 - val_accuracy: 0.4313 - val_f1: 0.3470 - val_auc: 0.8000\n",
      "Epoch 14/100\n",
      "241/241 - 20s - loss: 0.5400 - accuracy: 0.9421 - f1: 0.9262 - auc: 0.9970 - val_loss: 1.7077 - val_accuracy: 0.4214 - val_f1: 0.3398 - val_auc: 0.7946\n",
      "Epoch 15/100\n",
      "241/241 - 20s - loss: 0.5330 - accuracy: 0.9484 - f1: 0.9348 - auc: 0.9976 - val_loss: 1.7045 - val_accuracy: 0.4247 - val_f1: 0.3433 - val_auc: 0.7959\n",
      "Restoring model weights from the end of the best epoch.\n",
      "Epoch 00015: early stopping\n",
      "Epoch 1/100\n",
      "241/241 - 22s - loss: 1.5403 - accuracy: 0.4208 - f1: 0.1337 - auc: 0.7945 - val_loss: 1.9041 - val_accuracy: 0.2414 - val_f1: 0.0114 - val_auc: 0.6473\n",
      "Epoch 2/100\n",
      "241/241 - 20s - loss: 1.1222 - accuracy: 0.5970 - f1: 0.3758 - auc: 0.9013 - val_loss: 1.7607 - val_accuracy: 0.3674 - val_f1: 0.1188 - val_auc: 0.7299\n",
      "Epoch 3/100\n",
      "241/241 - 20s - loss: 0.9432 - accuracy: 0.6887 - f1: 0.5397 - auc: 0.9384 - val_loss: 1.7448 - val_accuracy: 0.3748 - val_f1: 0.1582 - val_auc: 0.7484\n",
      "Epoch 4/100\n",
      "241/241 - 20s - loss: 0.8305 - accuracy: 0.7458 - f1: 0.6433 - auc: 0.9574 - val_loss: 1.7107 - val_accuracy: 0.3975 - val_f1: 0.2198 - val_auc: 0.7622\n",
      "Epoch 5/100\n",
      "241/241 - 20s - loss: 0.7557 - accuracy: 0.7888 - f1: 0.7173 - auc: 0.9695 - val_loss: 1.6899 - val_accuracy: 0.4117 - val_f1: 0.2546 - val_auc: 0.7726\n",
      "Epoch 6/100\n",
      "241/241 - 20s - loss: 0.6999 - accuracy: 0.8198 - f1: 0.7642 - auc: 0.9773 - val_loss: 1.6494 - val_accuracy: 0.4412 - val_f1: 0.3109 - val_auc: 0.7931\n",
      "Epoch 7/100\n",
      "241/241 - 20s - loss: 0.6602 - accuracy: 0.8491 - f1: 0.8077 - auc: 0.9836 - val_loss: 1.6977 - val_accuracy: 0.4198 - val_f1: 0.3030 - val_auc: 0.7844\n",
      "Epoch 8/100\n",
      "241/241 - 20s - loss: 0.6304 - accuracy: 0.8698 - f1: 0.8375 - auc: 0.9875 - val_loss: 1.6616 - val_accuracy: 0.4404 - val_f1: 0.3211 - val_auc: 0.7918\n",
      "Epoch 9/100\n",
      "241/241 - 20s - loss: 0.6051 - accuracy: 0.8884 - f1: 0.8610 - auc: 0.9904 - val_loss: 1.6692 - val_accuracy: 0.4495 - val_f1: 0.3492 - val_auc: 0.7959\n",
      "Epoch 10/100\n",
      "241/241 - 20s - loss: 0.5860 - accuracy: 0.9051 - f1: 0.8826 - auc: 0.9928 - val_loss: 1.6407 - val_accuracy: 0.4661 - val_f1: 0.3645 - val_auc: 0.8032\n",
      "Epoch 11/100\n",
      "241/241 - 20s - loss: 0.5706 - accuracy: 0.9180 - f1: 0.8985 - auc: 0.9945 - val_loss: 1.6763 - val_accuracy: 0.4567 - val_f1: 0.3631 - val_auc: 0.7988\n",
      "Epoch 12/100\n",
      "241/241 - 20s - loss: 0.5586 - accuracy: 0.9285 - f1: 0.9112 - auc: 0.9957 - val_loss: 1.6629 - val_accuracy: 0.4646 - val_f1: 0.3753 - val_auc: 0.8023\n",
      "Epoch 13/100\n",
      "241/241 - 21s - loss: 0.5474 - accuracy: 0.9376 - f1: 0.9220 - auc: 0.9967 - val_loss: 1.6597 - val_accuracy: 0.4741 - val_f1: 0.3908 - val_auc: 0.8060\n",
      "Epoch 14/100\n",
      "241/241 - 21s - loss: 0.5386 - accuracy: 0.9461 - f1: 0.9314 - auc: 0.9975 - val_loss: 1.6796 - val_accuracy: 0.4560 - val_f1: 0.3647 - val_auc: 0.7953\n",
      "Epoch 15/100\n",
      "241/241 - 21s - loss: 0.5308 - accuracy: 0.9512 - f1: 0.9379 - auc: 0.9979 - val_loss: 1.7062 - val_accuracy: 0.4466 - val_f1: 0.3579 - val_auc: 0.7903\n",
      "Epoch 16/100\n",
      "241/241 - 21s - loss: 0.5251 - accuracy: 0.9570 - f1: 0.9434 - auc: 0.9983 - val_loss: 1.6777 - val_accuracy: 0.4732 - val_f1: 0.3976 - val_auc: 0.8049\n",
      "Epoch 17/100\n",
      "241/241 - 21s - loss: 0.5193 - accuracy: 0.9627 - f1: 0.9506 - auc: 0.9987 - val_loss: 1.7076 - val_accuracy: 0.4564 - val_f1: 0.3754 - val_auc: 0.7931\n",
      "Epoch 18/100\n",
      "241/241 - 20s - loss: 0.5149 - accuracy: 0.9657 - f1: 0.9545 - auc: 0.9988 - val_loss: 1.6835 - val_accuracy: 0.4705 - val_f1: 0.3926 - val_auc: 0.8002\n",
      "Epoch 19/100\n",
      "241/241 - 20s - loss: 0.5103 - accuracy: 0.9704 - f1: 0.9595 - auc: 0.9991 - val_loss: 1.6981 - val_accuracy: 0.4648 - val_f1: 0.3894 - val_auc: 0.7982\n",
      "Restoring model weights from the end of the best epoch.\n",
      "Epoch 00019: early stopping\n",
      "Epoch 1/100\n",
      "241/241 - 23s - loss: 1.5501 - accuracy: 0.4160 - f1: 0.1506 - auc: 0.7873 - val_loss: 1.7848 - val_accuracy: 0.3011 - val_f1: 0.0243 - val_auc: 0.7140\n",
      "Epoch 2/100\n",
      "241/241 - 20s - loss: 1.1223 - accuracy: 0.6092 - f1: 0.3927 - auc: 0.9034 - val_loss: 1.6850 - val_accuracy: 0.3789 - val_f1: 0.1312 - val_auc: 0.7656\n",
      "Epoch 3/100\n",
      "241/241 - 20s - loss: 0.9435 - accuracy: 0.6940 - f1: 0.5493 - auc: 0.9390 - val_loss: 1.7501 - val_accuracy: 0.3559 - val_f1: 0.1469 - val_auc: 0.7345\n",
      "Epoch 4/100\n",
      "241/241 - 20s - loss: 0.8324 - accuracy: 0.7485 - f1: 0.6465 - auc: 0.9570 - val_loss: 1.6585 - val_accuracy: 0.4075 - val_f1: 0.2209 - val_auc: 0.7830\n",
      "Epoch 5/100\n",
      "241/241 - 20s - loss: 0.7498 - accuracy: 0.7932 - f1: 0.7210 - auc: 0.9703 - val_loss: 1.6476 - val_accuracy: 0.4231 - val_f1: 0.2610 - val_auc: 0.7894\n",
      "Epoch 6/100\n",
      "241/241 - 20s - loss: 0.6935 - accuracy: 0.8260 - f1: 0.7764 - auc: 0.9788 - val_loss: 1.6417 - val_accuracy: 0.4311 - val_f1: 0.2940 - val_auc: 0.7955\n",
      "Epoch 7/100\n",
      "241/241 - 20s - loss: 0.6533 - accuracy: 0.8516 - f1: 0.8128 - auc: 0.9844 - val_loss: 1.6848 - val_accuracy: 0.4139 - val_f1: 0.2891 - val_auc: 0.7852\n",
      "Epoch 8/100\n",
      "241/241 - 20s - loss: 0.6282 - accuracy: 0.8707 - f1: 0.8401 - auc: 0.9876 - val_loss: 1.6132 - val_accuracy: 0.4595 - val_f1: 0.3441 - val_auc: 0.8082\n",
      "Epoch 9/100\n",
      "241/241 - 21s - loss: 0.5991 - accuracy: 0.8934 - f1: 0.8686 - auc: 0.9912 - val_loss: 1.6572 - val_accuracy: 0.4337 - val_f1: 0.3233 - val_auc: 0.7945\n",
      "Epoch 10/100\n",
      "241/241 - 20s - loss: 0.5803 - accuracy: 0.9074 - f1: 0.8861 - auc: 0.9933 - val_loss: 1.6492 - val_accuracy: 0.4480 - val_f1: 0.3492 - val_auc: 0.8022\n",
      "Epoch 11/100\n",
      "241/241 - 21s - loss: 0.5674 - accuracy: 0.9209 - f1: 0.9001 - auc: 0.9948 - val_loss: 1.6211 - val_accuracy: 0.4736 - val_f1: 0.3819 - val_auc: 0.8120\n",
      "Epoch 12/100\n",
      "241/241 - 20s - loss: 0.5539 - accuracy: 0.9326 - f1: 0.9154 - auc: 0.9961 - val_loss: 1.6418 - val_accuracy: 0.4601 - val_f1: 0.3692 - val_auc: 0.8063\n",
      "Epoch 13/100\n",
      "241/241 - 20s - loss: 0.5439 - accuracy: 0.9417 - f1: 0.9251 - auc: 0.9970 - val_loss: 1.6385 - val_accuracy: 0.4683 - val_f1: 0.3791 - val_auc: 0.8076\n",
      "Epoch 14/100\n",
      "241/241 - 20s - loss: 0.5351 - accuracy: 0.9503 - f1: 0.9351 - auc: 0.9977 - val_loss: 1.6345 - val_accuracy: 0.4768 - val_f1: 0.3918 - val_auc: 0.8108\n",
      "Epoch 15/100\n",
      "241/241 - 20s - loss: 0.5282 - accuracy: 0.9566 - f1: 0.9437 - auc: 0.9982 - val_loss: 1.6578 - val_accuracy: 0.4574 - val_f1: 0.3694 - val_auc: 0.8029\n",
      "Epoch 16/100\n",
      "241/241 - 20s - loss: 0.5219 - accuracy: 0.9623 - f1: 0.9501 - auc: 0.9986 - val_loss: 1.6798 - val_accuracy: 0.4510 - val_f1: 0.3672 - val_auc: 0.7988\n",
      "Epoch 17/100\n",
      "241/241 - 20s - loss: 0.5174 - accuracy: 0.9659 - f1: 0.9538 - auc: 0.9988 - val_loss: 1.6799 - val_accuracy: 0.4508 - val_f1: 0.3672 - val_auc: 0.7972\n",
      "Restoring model weights from the end of the best epoch.\n",
      "Epoch 00017: early stopping\n",
      "Epoch 1/100\n",
      "241/241 - 23s - loss: 1.5478 - accuracy: 0.4116 - f1: 0.1332 - auc: 0.7921 - val_loss: 1.9185 - val_accuracy: 0.2347 - val_f1: 0.0143 - val_auc: 0.6364\n",
      "Epoch 2/100\n",
      "241/241 - 20s - loss: 1.1266 - accuracy: 0.6003 - f1: 0.3623 - auc: 0.9017 - val_loss: 1.7598 - val_accuracy: 0.3518 - val_f1: 0.0599 - val_auc: 0.7282\n",
      "Epoch 3/100\n",
      "241/241 - 20s - loss: 0.9411 - accuracy: 0.6895 - f1: 0.5310 - auc: 0.9383 - val_loss: 1.7320 - val_accuracy: 0.3698 - val_f1: 0.1507 - val_auc: 0.7509\n",
      "Epoch 4/100\n",
      "241/241 - 20s - loss: 0.8315 - accuracy: 0.7432 - f1: 0.6348 - auc: 0.9569 - val_loss: 1.7183 - val_accuracy: 0.3741 - val_f1: 0.1906 - val_auc: 0.7571\n",
      "Epoch 5/100\n",
      "241/241 - 20s - loss: 0.7537 - accuracy: 0.7797 - f1: 0.7025 - auc: 0.9677 - val_loss: 1.6604 - val_accuracy: 0.4207 - val_f1: 0.2530 - val_auc: 0.7855\n",
      "Epoch 6/100\n",
      "241/241 - 20s - loss: 0.7014 - accuracy: 0.8174 - f1: 0.7598 - auc: 0.9771 - val_loss: 1.6382 - val_accuracy: 0.4352 - val_f1: 0.2919 - val_auc: 0.7955\n",
      "Epoch 7/100\n",
      "241/241 - 20s - loss: 0.6626 - accuracy: 0.8431 - f1: 0.8003 - auc: 0.9827 - val_loss: 1.6442 - val_accuracy: 0.4345 - val_f1: 0.2979 - val_auc: 0.7936\n",
      "Epoch 8/100\n",
      "241/241 - 20s - loss: 0.6314 - accuracy: 0.8633 - f1: 0.8287 - auc: 0.9866 - val_loss: 1.6303 - val_accuracy: 0.4519 - val_f1: 0.3298 - val_auc: 0.8015\n",
      "Epoch 9/100\n",
      "241/241 - 20s - loss: 0.6101 - accuracy: 0.8832 - f1: 0.8545 - auc: 0.9899 - val_loss: 1.6403 - val_accuracy: 0.4453 - val_f1: 0.3268 - val_auc: 0.7984\n",
      "Epoch 10/100\n",
      "241/241 - 20s - loss: 0.5897 - accuracy: 0.8966 - f1: 0.8730 - auc: 0.9920 - val_loss: 1.6323 - val_accuracy: 0.4581 - val_f1: 0.3496 - val_auc: 0.8028\n",
      "Epoch 11/100\n",
      "241/241 - 20s - loss: 0.5753 - accuracy: 0.9111 - f1: 0.8900 - auc: 0.9938 - val_loss: 1.6439 - val_accuracy: 0.4556 - val_f1: 0.3536 - val_auc: 0.8035\n",
      "Epoch 12/100\n",
      "241/241 - 20s - loss: 0.5617 - accuracy: 0.9229 - f1: 0.9031 - auc: 0.9951 - val_loss: 1.6282 - val_accuracy: 0.4706 - val_f1: 0.3746 - val_auc: 0.8079\n",
      "Epoch 13/100\n",
      "241/241 - 20s - loss: 0.5519 - accuracy: 0.9323 - f1: 0.9151 - auc: 0.9961 - val_loss: 1.6285 - val_accuracy: 0.4739 - val_f1: 0.3798 - val_auc: 0.8074\n",
      "Epoch 14/100\n",
      "241/241 - 20s - loss: 0.5425 - accuracy: 0.9403 - f1: 0.9247 - auc: 0.9969 - val_loss: 1.6431 - val_accuracy: 0.4668 - val_f1: 0.3740 - val_auc: 0.8053\n",
      "Epoch 15/100\n",
      "241/241 - 20s - loss: 0.5351 - accuracy: 0.9475 - f1: 0.9329 - auc: 0.9975 - val_loss: 1.6402 - val_accuracy: 0.4705 - val_f1: 0.3814 - val_auc: 0.8067\n",
      "Epoch 16/100\n",
      "241/241 - 20s - loss: 0.5283 - accuracy: 0.9539 - f1: 0.9404 - auc: 0.9980 - val_loss: 1.6468 - val_accuracy: 0.4709 - val_f1: 0.3814 - val_auc: 0.8051\n",
      "Epoch 17/100\n",
      "241/241 - 20s - loss: 0.5227 - accuracy: 0.9582 - f1: 0.9455 - auc: 0.9983 - val_loss: 1.6461 - val_accuracy: 0.4725 - val_f1: 0.3865 - val_auc: 0.8058\n",
      "Epoch 18/100\n",
      "241/241 - 20s - loss: 0.5176 - accuracy: 0.9628 - f1: 0.9511 - auc: 0.9986 - val_loss: 1.6363 - val_accuracy: 0.4795 - val_f1: 0.3965 - val_auc: 0.8090\n",
      "Epoch 19/100\n",
      "241/241 - 20s - loss: 0.5130 - accuracy: 0.9673 - f1: 0.9557 - auc: 0.9989 - val_loss: 1.6506 - val_accuracy: 0.4765 - val_f1: 0.3948 - val_auc: 0.8061\n",
      "Epoch 20/100\n",
      "241/241 - 20s - loss: 0.5093 - accuracy: 0.9706 - f1: 0.9601 - auc: 0.9991 - val_loss: 1.6665 - val_accuracy: 0.4650 - val_f1: 0.3813 - val_auc: 0.8004\n",
      "Epoch 21/100\n",
      "241/241 - 20s - loss: 0.5059 - accuracy: 0.9731 - f1: 0.9626 - auc: 0.9992 - val_loss: 1.6563 - val_accuracy: 0.4750 - val_f1: 0.3954 - val_auc: 0.8051\n",
      "Restoring model weights from the end of the best epoch.\n",
      "Epoch 00021: early stopping\n",
      "Epoch 1/100\n",
      "241/241 - 23s - loss: 1.5345 - accuracy: 0.4230 - f1: 0.1410 - auc: 0.7953 - val_loss: 1.7490 - val_accuracy: 0.3587 - val_f1: 0.0417 - val_auc: 0.7331\n",
      "Epoch 2/100\n",
      "241/241 - 20s - loss: 1.1117 - accuracy: 0.6052 - f1: 0.3908 - auc: 0.9054 - val_loss: 1.7517 - val_accuracy: 0.3502 - val_f1: 0.0989 - val_auc: 0.7359\n",
      "Epoch 3/100\n",
      "241/241 - 20s - loss: 0.9295 - accuracy: 0.6881 - f1: 0.5459 - auc: 0.9378 - val_loss: 1.6632 - val_accuracy: 0.4014 - val_f1: 0.1972 - val_auc: 0.7798\n",
      "Epoch 4/100\n",
      "241/241 - 20s - loss: 0.8206 - accuracy: 0.7550 - f1: 0.6593 - auc: 0.9588 - val_loss: 1.6715 - val_accuracy: 0.3951 - val_f1: 0.2223 - val_auc: 0.7787\n",
      "Epoch 5/100\n",
      "241/241 - 20s - loss: 0.7425 - accuracy: 0.7934 - f1: 0.7263 - auc: 0.9701 - val_loss: 1.6282 - val_accuracy: 0.4297 - val_f1: 0.2818 - val_auc: 0.7975\n",
      "Epoch 6/100\n",
      "241/241 - 21s - loss: 0.6866 - accuracy: 0.8285 - f1: 0.7807 - auc: 0.9787 - val_loss: 1.7099 - val_accuracy: 0.3873 - val_f1: 0.2707 - val_auc: 0.7788\n",
      "Epoch 7/100\n",
      "241/241 - 21s - loss: 0.6498 - accuracy: 0.8528 - f1: 0.8163 - auc: 0.9840 - val_loss: 1.6537 - val_accuracy: 0.4240 - val_f1: 0.3009 - val_auc: 0.7950\n",
      "Epoch 8/100\n",
      "241/241 - 20s - loss: 0.6195 - accuracy: 0.8740 - f1: 0.8421 - auc: 0.9880 - val_loss: 1.6109 - val_accuracy: 0.4648 - val_f1: 0.3632 - val_auc: 0.8156\n",
      "Epoch 9/100\n",
      "241/241 - 20s - loss: 0.5965 - accuracy: 0.8945 - f1: 0.8696 - auc: 0.9914 - val_loss: 1.6652 - val_accuracy: 0.4233 - val_f1: 0.3148 - val_auc: 0.7947\n",
      "Epoch 10/100\n",
      "241/241 - 20s - loss: 0.5791 - accuracy: 0.9076 - f1: 0.8861 - auc: 0.9931 - val_loss: 1.6188 - val_accuracy: 0.4670 - val_f1: 0.3722 - val_auc: 0.8135\n",
      "Epoch 11/100\n",
      "241/241 - 21s - loss: 0.5642 - accuracy: 0.9211 - f1: 0.9022 - auc: 0.9948 - val_loss: 1.6298 - val_accuracy: 0.4630 - val_f1: 0.3725 - val_auc: 0.8109\n",
      "Epoch 12/100\n",
      "241/241 - 21s - loss: 0.5525 - accuracy: 0.9314 - f1: 0.9129 - auc: 0.9959 - val_loss: 1.6041 - val_accuracy: 0.4871 - val_f1: 0.3981 - val_auc: 0.8198\n",
      "Epoch 13/100\n",
      "241/241 - 20s - loss: 0.5422 - accuracy: 0.9412 - f1: 0.9252 - auc: 0.9969 - val_loss: 1.6358 - val_accuracy: 0.4692 - val_f1: 0.3863 - val_auc: 0.8153\n",
      "Epoch 14/100\n",
      "241/241 - 21s - loss: 0.5338 - accuracy: 0.9486 - f1: 0.9347 - auc: 0.9975 - val_loss: 1.6322 - val_accuracy: 0.4775 - val_f1: 0.3956 - val_auc: 0.8156\n",
      "Epoch 15/100\n",
      "241/241 - 21s - loss: 0.5271 - accuracy: 0.9554 - f1: 0.9416 - auc: 0.9981 - val_loss: 1.6347 - val_accuracy: 0.4808 - val_f1: 0.3990 - val_auc: 0.8162\n",
      "Epoch 16/100\n",
      "241/241 - 22s - loss: 0.5212 - accuracy: 0.9604 - f1: 0.9485 - auc: 0.9984 - val_loss: 1.6359 - val_accuracy: 0.4836 - val_f1: 0.4046 - val_auc: 0.8158\n",
      "Epoch 17/100\n",
      "241/241 - 21s - loss: 0.5164 - accuracy: 0.9655 - f1: 0.9533 - auc: 0.9987 - val_loss: 1.6569 - val_accuracy: 0.4737 - val_f1: 0.3947 - val_auc: 0.8110\n",
      "Epoch 18/100\n",
      "241/241 - 21s - loss: 0.5120 - accuracy: 0.9689 - f1: 0.9580 - auc: 0.9989 - val_loss: 1.6510 - val_accuracy: 0.4772 - val_f1: 0.3985 - val_auc: 0.8117\n",
      "Epoch 19/100\n",
      "241/241 - 21s - loss: 0.5082 - accuracy: 0.9722 - f1: 0.9619 - auc: 0.9991 - val_loss: 1.6379 - val_accuracy: 0.4835 - val_f1: 0.4014 - val_auc: 0.8123\n",
      "Restoring model weights from the end of the best epoch.\n",
      "Epoch 00019: early stopping\n"
     ]
    },
    {
     "data": {
      "text/html": [
       "<span style=\"color:#4527A0\"><h1 style=\"font-size:18px\">Trial complete</h1></span>"
      ],
      "text/plain": [
       "<IPython.core.display.HTML object>"
      ]
     },
     "metadata": {},
     "output_type": "display_data"
    },
    {
     "data": {
      "text/html": [
       "<span style=\"color:#4527A0\"><h1 style=\"font-size:18px\">Trial summary</h1></span>"
      ],
      "text/plain": [
       "<IPython.core.display.HTML object>"
      ]
     },
     "metadata": {},
     "output_type": "display_data"
    },
    {
     "data": {
      "text/html": [
       "<span style=\"color:cyan\"> |-Trial ID: ed7be908cdb11d074efd25a62447594a</span>"
      ],
      "text/plain": [
       "<IPython.core.display.HTML object>"
      ]
     },
     "metadata": {},
     "output_type": "display_data"
    },
    {
     "data": {
      "text/html": [
       "<span style=\"color:cyan\"> |-Score: 1.626957368850708</span>"
      ],
      "text/plain": [
       "<IPython.core.display.HTML object>"
      ]
     },
     "metadata": {},
     "output_type": "display_data"
    },
    {
     "data": {
      "text/html": [
       "<span style=\"color:cyan\"> |-Best step: 0</span>"
      ],
      "text/plain": [
       "<IPython.core.display.HTML object>"
      ]
     },
     "metadata": {},
     "output_type": "display_data"
    },
    {
     "data": {
      "text/html": [
       "<span style=\"color:#7E57C2\"><h2 style=\"font-size:16px\">Hyperparameters:</h2></span>"
      ],
      "text/plain": [
       "<IPython.core.display.HTML object>"
      ]
     },
     "metadata": {},
     "output_type": "display_data"
    },
    {
     "data": {
      "text/html": [
       "<span style=\"color:cyan\"> |-units: 1280</span>"
      ],
      "text/plain": [
       "<IPython.core.display.HTML object>"
      ]
     },
     "metadata": {},
     "output_type": "display_data"
    },
    {
     "name": "stdout",
     "output_type": "stream",
     "text": [
      "Epoch 1/100\n",
      "241/241 - 30s - loss: 1.5302 - accuracy: 0.4333 - f1: 0.1665 - auc: 0.8006 - val_loss: 1.8097 - val_accuracy: 0.3263 - val_f1: 0.0413 - val_auc: 0.6941\n",
      "Epoch 2/100\n",
      "241/241 - 26s - loss: 1.0783 - accuracy: 0.6390 - f1: 0.4383 - auc: 0.9150 - val_loss: 1.7603 - val_accuracy: 0.3542 - val_f1: 0.1441 - val_auc: 0.7336\n",
      "Epoch 3/100\n",
      "241/241 - 26s - loss: 0.8942 - accuracy: 0.7236 - f1: 0.6048 - auc: 0.9492 - val_loss: 1.7124 - val_accuracy: 0.3979 - val_f1: 0.1865 - val_auc: 0.7561\n",
      "Epoch 4/100\n",
      "241/241 - 26s - loss: 0.7902 - accuracy: 0.7773 - f1: 0.6989 - auc: 0.9658 - val_loss: 1.6980 - val_accuracy: 0.4069 - val_f1: 0.2384 - val_auc: 0.7665\n",
      "Epoch 5/100\n",
      "241/241 - 26s - loss: 0.7114 - accuracy: 0.8212 - f1: 0.7669 - auc: 0.9773 - val_loss: 1.6928 - val_accuracy: 0.4187 - val_f1: 0.2561 - val_auc: 0.7712\n",
      "Epoch 6/100\n",
      "241/241 - 26s - loss: 0.6590 - accuracy: 0.8547 - f1: 0.8137 - auc: 0.9842 - val_loss: 1.6540 - val_accuracy: 0.4499 - val_f1: 0.3141 - val_auc: 0.7913\n",
      "Epoch 7/100\n",
      "241/241 - 26s - loss: 0.6194 - accuracy: 0.8805 - f1: 0.8501 - auc: 0.9892 - val_loss: 1.6388 - val_accuracy: 0.4652 - val_f1: 0.3419 - val_auc: 0.7969\n",
      "Epoch 8/100\n",
      "241/241 - 27s - loss: 0.5935 - accuracy: 0.9024 - f1: 0.8787 - auc: 0.9923 - val_loss: 1.6627 - val_accuracy: 0.4502 - val_f1: 0.3355 - val_auc: 0.7907\n",
      "Epoch 9/100\n",
      "241/241 - 27s - loss: 0.5712 - accuracy: 0.9185 - f1: 0.8987 - auc: 0.9946 - val_loss: 1.6990 - val_accuracy: 0.4292 - val_f1: 0.3236 - val_auc: 0.7844\n",
      "Epoch 10/100\n",
      "241/241 - 26s - loss: 0.5556 - accuracy: 0.9325 - f1: 0.9151 - auc: 0.9961 - val_loss: 1.6728 - val_accuracy: 0.4531 - val_f1: 0.3516 - val_auc: 0.7940\n",
      "Epoch 11/100\n",
      "241/241 - 26s - loss: 0.5426 - accuracy: 0.9429 - f1: 0.9271 - auc: 0.9970 - val_loss: 1.6702 - val_accuracy: 0.4622 - val_f1: 0.3677 - val_auc: 0.7965\n",
      "Epoch 12/100\n",
      "241/241 - 25s - loss: 0.5339 - accuracy: 0.9513 - f1: 0.9378 - auc: 0.9978 - val_loss: 1.6840 - val_accuracy: 0.4580 - val_f1: 0.3611 - val_auc: 0.7916\n",
      "Epoch 13/100\n",
      "241/241 - 26s - loss: 0.5251 - accuracy: 0.9585 - f1: 0.9461 - auc: 0.9983 - val_loss: 1.6749 - val_accuracy: 0.4637 - val_f1: 0.3664 - val_auc: 0.7934\n",
      "Epoch 14/100\n",
      "241/241 - 26s - loss: 0.5178 - accuracy: 0.9645 - f1: 0.9531 - auc: 0.9987 - val_loss: 1.6739 - val_accuracy: 0.4706 - val_f1: 0.3804 - val_auc: 0.7963\n",
      "Epoch 15/100\n",
      "241/241 - 26s - loss: 0.5111 - accuracy: 0.9697 - f1: 0.9592 - auc: 0.9990 - val_loss: 1.6681 - val_accuracy: 0.4739 - val_f1: 0.3868 - val_auc: 0.7986\n",
      "Epoch 16/100\n",
      "241/241 - 25s - loss: 0.5061 - accuracy: 0.9742 - f1: 0.9645 - auc: 0.9992 - val_loss: 1.6789 - val_accuracy: 0.4662 - val_f1: 0.3765 - val_auc: 0.7940\n",
      "Epoch 17/100\n",
      "241/241 - 25s - loss: 0.5018 - accuracy: 0.9770 - f1: 0.9666 - auc: 0.9994 - val_loss: 1.6672 - val_accuracy: 0.4863 - val_f1: 0.4059 - val_auc: 0.8039\n",
      "Epoch 18/100\n",
      "241/241 - 26s - loss: 0.4984 - accuracy: 0.9800 - f1: 0.9714 - auc: 0.9995 - val_loss: 1.6783 - val_accuracy: 0.4731 - val_f1: 0.3867 - val_auc: 0.7955\n",
      "Epoch 19/100\n",
      "241/241 - 26s - loss: 0.4952 - accuracy: 0.9823 - f1: 0.9741 - auc: 0.9996 - val_loss: 1.6853 - val_accuracy: 0.4712 - val_f1: 0.3850 - val_auc: 0.7932\n",
      "Epoch 20/100\n",
      "241/241 - 26s - loss: 0.4924 - accuracy: 0.9839 - f1: 0.9756 - auc: 0.9997 - val_loss: 1.6690 - val_accuracy: 0.4877 - val_f1: 0.4064 - val_auc: 0.8005\n",
      "Epoch 21/100\n",
      "241/241 - 26s - loss: 0.4901 - accuracy: 0.9857 - f1: 0.9781 - auc: 0.9997 - val_loss: 1.7194 - val_accuracy: 0.4501 - val_f1: 0.3600 - val_auc: 0.7823\n",
      "Epoch 22/100\n",
      "241/241 - 26s - loss: 0.4881 - accuracy: 0.9868 - f1: 0.9796 - auc: 0.9998 - val_loss: 1.6852 - val_accuracy: 0.4780 - val_f1: 0.3951 - val_auc: 0.7951\n",
      "Epoch 23/100\n",
      "241/241 - 25s - loss: 0.4860 - accuracy: 0.9881 - f1: 0.9812 - auc: 0.9998 - val_loss: 1.6871 - val_accuracy: 0.4733 - val_f1: 0.3891 - val_auc: 0.7924\n",
      "Restoring model weights from the end of the best epoch.\n",
      "Epoch 00023: early stopping\n",
      "Epoch 1/100\n",
      "241/241 - 28s - loss: 1.5195 - accuracy: 0.4286 - f1: 0.1660 - auc: 0.8045 - val_loss: 1.8979 - val_accuracy: 0.2517 - val_f1: 0.0384 - val_auc: 0.6539\n",
      "Epoch 2/100\n",
      "241/241 - 25s - loss: 1.0812 - accuracy: 0.6284 - f1: 0.4245 - auc: 0.9125 - val_loss: 1.7242 - val_accuracy: 0.3688 - val_f1: 0.1307 - val_auc: 0.7411\n",
      "Epoch 3/100\n",
      "241/241 - 26s - loss: 0.9035 - accuracy: 0.7147 - f1: 0.5881 - auc: 0.9459 - val_loss: 1.7610 - val_accuracy: 0.3560 - val_f1: 0.1500 - val_auc: 0.7350\n",
      "Epoch 4/100\n",
      "241/241 - 26s - loss: 0.7966 - accuracy: 0.7678 - f1: 0.6831 - auc: 0.9624 - val_loss: 1.5952 - val_accuracy: 0.4629 - val_f1: 0.2894 - val_auc: 0.8030\n",
      "Epoch 5/100\n",
      "241/241 - 26s - loss: 0.7179 - accuracy: 0.8127 - f1: 0.7578 - auc: 0.9754 - val_loss: 1.6361 - val_accuracy: 0.4337 - val_f1: 0.2860 - val_auc: 0.7940\n",
      "Epoch 6/100\n",
      "241/241 - 27s - loss: 0.6672 - accuracy: 0.8425 - f1: 0.8033 - auc: 0.9823 - val_loss: 1.6004 - val_accuracy: 0.4578 - val_f1: 0.3188 - val_auc: 0.8049\n",
      "Epoch 7/100\n",
      "241/241 - 27s - loss: 0.6283 - accuracy: 0.8701 - f1: 0.8413 - auc: 0.9874 - val_loss: 1.6004 - val_accuracy: 0.4618 - val_f1: 0.3408 - val_auc: 0.8081\n",
      "Epoch 8/100\n",
      "241/241 - 27s - loss: 0.6010 - accuracy: 0.8896 - f1: 0.8657 - auc: 0.9908 - val_loss: 1.5634 - val_accuracy: 0.4960 - val_f1: 0.3873 - val_auc: 0.8220\n",
      "Epoch 9/100\n",
      "241/241 - 27s - loss: 0.5800 - accuracy: 0.9091 - f1: 0.8895 - auc: 0.9935 - val_loss: 1.6129 - val_accuracy: 0.4615 - val_f1: 0.3560 - val_auc: 0.8092\n",
      "Epoch 10/100\n",
      "241/241 - 28s - loss: 0.5625 - accuracy: 0.9216 - f1: 0.9049 - auc: 0.9951 - val_loss: 1.5740 - val_accuracy: 0.4959 - val_f1: 0.3982 - val_auc: 0.8212\n",
      "Epoch 11/100\n",
      "241/241 - 27s - loss: 0.5490 - accuracy: 0.9348 - f1: 0.9205 - auc: 0.9964 - val_loss: 1.5831 - val_accuracy: 0.4913 - val_f1: 0.3979 - val_auc: 0.8201\n",
      "Epoch 12/100\n",
      "241/241 - 27s - loss: 0.5379 - accuracy: 0.9451 - f1: 0.9318 - auc: 0.9973 - val_loss: 1.5762 - val_accuracy: 0.4979 - val_f1: 0.4033 - val_auc: 0.8213\n",
      "Epoch 13/100\n",
      "241/241 - 27s - loss: 0.5285 - accuracy: 0.9532 - f1: 0.9406 - auc: 0.9980 - val_loss: 1.5967 - val_accuracy: 0.4852 - val_f1: 0.3927 - val_auc: 0.8165\n",
      "Epoch 14/100\n",
      "241/241 - 27s - loss: 0.5214 - accuracy: 0.9593 - f1: 0.9479 - auc: 0.9985 - val_loss: 1.5932 - val_accuracy: 0.4902 - val_f1: 0.3975 - val_auc: 0.8177\n",
      "Epoch 15/100\n",
      "241/241 - 28s - loss: 0.5151 - accuracy: 0.9651 - f1: 0.9543 - auc: 0.9989 - val_loss: 1.5829 - val_accuracy: 0.5000 - val_f1: 0.4084 - val_auc: 0.8199\n",
      "Epoch 16/100\n",
      "241/241 - 27s - loss: 0.5097 - accuracy: 0.9696 - f1: 0.9591 - auc: 0.9991 - val_loss: 1.5805 - val_accuracy: 0.5040 - val_f1: 0.4142 - val_auc: 0.8212\n",
      "Epoch 17/100\n",
      "241/241 - 27s - loss: 0.5048 - accuracy: 0.9745 - f1: 0.9647 - auc: 0.9993 - val_loss: 1.5777 - val_accuracy: 0.5093 - val_f1: 0.4209 - val_auc: 0.8228\n",
      "Epoch 18/100\n",
      "241/241 - 27s - loss: 0.5010 - accuracy: 0.9773 - f1: 0.9680 - auc: 0.9995 - val_loss: 1.5809 - val_accuracy: 0.5065 - val_f1: 0.4167 - val_auc: 0.8205\n",
      "Epoch 19/100\n",
      "241/241 - 27s - loss: 0.4978 - accuracy: 0.9797 - f1: 0.9709 - auc: 0.9995 - val_loss: 1.5844 - val_accuracy: 0.5050 - val_f1: 0.4157 - val_auc: 0.8199\n",
      "Epoch 20/100\n",
      "241/241 - 27s - loss: 0.4949 - accuracy: 0.9818 - f1: 0.9733 - auc: 0.9996 - val_loss: 1.5902 - val_accuracy: 0.5039 - val_f1: 0.4144 - val_auc: 0.8187\n",
      "Restoring model weights from the end of the best epoch.\n",
      "Epoch 00020: early stopping\n",
      "Epoch 1/100\n",
      "241/241 - 29s - loss: 1.5167 - accuracy: 0.4284 - f1: 0.1666 - auc: 0.7916 - val_loss: 1.7416 - val_accuracy: 0.3682 - val_f1: 0.0832 - val_auc: 0.7361\n",
      "Epoch 2/100\n",
      "241/241 - 27s - loss: 1.0853 - accuracy: 0.6327 - f1: 0.4428 - auc: 0.9139 - val_loss: 1.7343 - val_accuracy: 0.3822 - val_f1: 0.1179 - val_auc: 0.7385\n",
      "Epoch 3/100\n",
      "241/241 - 27s - loss: 0.8992 - accuracy: 0.7234 - f1: 0.6005 - auc: 0.9474 - val_loss: 1.6862 - val_accuracy: 0.4092 - val_f1: 0.2256 - val_auc: 0.7646\n",
      "Epoch 4/100\n",
      "241/241 - 26s - loss: 0.7883 - accuracy: 0.7782 - f1: 0.7021 - auc: 0.9657 - val_loss: 1.6711 - val_accuracy: 0.4181 - val_f1: 0.2412 - val_auc: 0.7763\n",
      "Epoch 5/100\n",
      "241/241 - 26s - loss: 0.7129 - accuracy: 0.8211 - f1: 0.7661 - auc: 0.9770 - val_loss: 1.6580 - val_accuracy: 0.4244 - val_f1: 0.2882 - val_auc: 0.7900\n",
      "Epoch 6/100\n",
      "241/241 - 26s - loss: 0.6616 - accuracy: 0.8526 - f1: 0.8130 - auc: 0.9840 - val_loss: 1.6169 - val_accuracy: 0.4533 - val_f1: 0.3025 - val_auc: 0.7968\n",
      "Epoch 7/100\n",
      "241/241 - 25s - loss: 0.6277 - accuracy: 0.8744 - f1: 0.8436 - auc: 0.9882 - val_loss: 1.6274 - val_accuracy: 0.4584 - val_f1: 0.3503 - val_auc: 0.8057\n",
      "Epoch 8/100\n",
      "241/241 - 25s - loss: 0.5986 - accuracy: 0.8980 - f1: 0.8744 - auc: 0.9919 - val_loss: 1.6068 - val_accuracy: 0.4727 - val_f1: 0.3615 - val_auc: 0.8110\n",
      "Epoch 9/100\n",
      "241/241 - 25s - loss: 0.5764 - accuracy: 0.9158 - f1: 0.8963 - auc: 0.9942 - val_loss: 1.6228 - val_accuracy: 0.4650 - val_f1: 0.3605 - val_auc: 0.8078\n",
      "Epoch 10/100\n",
      "241/241 - 26s - loss: 0.5581 - accuracy: 0.9305 - f1: 0.9130 - auc: 0.9959 - val_loss: 1.6229 - val_accuracy: 0.4778 - val_f1: 0.3831 - val_auc: 0.8100\n",
      "Epoch 11/100\n",
      "241/241 - 27s - loss: 0.5449 - accuracy: 0.9421 - f1: 0.9262 - auc: 0.9970 - val_loss: 1.5971 - val_accuracy: 0.4968 - val_f1: 0.4056 - val_auc: 0.8179\n",
      "Epoch 12/100\n",
      "241/241 - 27s - loss: 0.5339 - accuracy: 0.9517 - f1: 0.9377 - auc: 0.9978 - val_loss: 1.6311 - val_accuracy: 0.4750 - val_f1: 0.3843 - val_auc: 0.8088\n",
      "Epoch 13/100\n",
      "241/241 - 26s - loss: 0.5256 - accuracy: 0.9581 - f1: 0.9459 - auc: 0.9984 - val_loss: 1.6210 - val_accuracy: 0.4818 - val_f1: 0.3946 - val_auc: 0.8118\n",
      "Epoch 14/100\n",
      "241/241 - 26s - loss: 0.5186 - accuracy: 0.9644 - f1: 0.9529 - auc: 0.9988 - val_loss: 1.6062 - val_accuracy: 0.4947 - val_f1: 0.4106 - val_auc: 0.8162\n",
      "Epoch 15/100\n",
      "241/241 - 28s - loss: 0.5120 - accuracy: 0.9696 - f1: 0.9594 - auc: 0.9991 - val_loss: 1.6221 - val_accuracy: 0.4864 - val_f1: 0.3960 - val_auc: 0.8085\n",
      "Epoch 16/100\n",
      "241/241 - 26s - loss: 0.5073 - accuracy: 0.9736 - f1: 0.9634 - auc: 0.9993 - val_loss: 1.6188 - val_accuracy: 0.4950 - val_f1: 0.4137 - val_auc: 0.8140\n",
      "Epoch 17/100\n",
      "241/241 - 28s - loss: 0.5025 - accuracy: 0.9777 - f1: 0.9684 - auc: 0.9994 - val_loss: 1.6268 - val_accuracy: 0.4910 - val_f1: 0.4097 - val_auc: 0.8122\n",
      "Epoch 18/100\n",
      "241/241 - 27s - loss: 0.4990 - accuracy: 0.9798 - f1: 0.9710 - auc: 0.9995 - val_loss: 1.6472 - val_accuracy: 0.4814 - val_f1: 0.4020 - val_auc: 0.8074\n",
      "Epoch 19/100\n",
      "241/241 - 26s - loss: 0.4959 - accuracy: 0.9822 - f1: 0.9738 - auc: 0.9996 - val_loss: 1.6282 - val_accuracy: 0.4961 - val_f1: 0.4169 - val_auc: 0.8122\n",
      "Epoch 20/100\n",
      "241/241 - 25s - loss: 0.4929 - accuracy: 0.9845 - f1: 0.9765 - auc: 0.9997 - val_loss: 1.6320 - val_accuracy: 0.4954 - val_f1: 0.4161 - val_auc: 0.8117\n",
      "Epoch 21/100\n",
      "241/241 - 27s - loss: 0.4905 - accuracy: 0.9862 - f1: 0.9786 - auc: 0.9997 - val_loss: 1.6391 - val_accuracy: 0.4904 - val_f1: 0.4104 - val_auc: 0.8084\n",
      "Epoch 22/100\n",
      "241/241 - 26s - loss: 0.4883 - accuracy: 0.9875 - f1: 0.9801 - auc: 0.9998 - val_loss: 1.6331 - val_accuracy: 0.4960 - val_f1: 0.4172 - val_auc: 0.8109\n",
      "Epoch 23/100\n",
      "241/241 - 28s - loss: 0.4864 - accuracy: 0.9887 - f1: 0.9815 - auc: 0.9998 - val_loss: 1.6480 - val_accuracy: 0.4876 - val_f1: 0.4077 - val_auc: 0.8059\n",
      "Epoch 24/100\n",
      "241/241 - 27s - loss: 0.4846 - accuracy: 0.9896 - f1: 0.9826 - auc: 0.9998 - val_loss: 1.6514 - val_accuracy: 0.4898 - val_f1: 0.4121 - val_auc: 0.8070\n",
      "Epoch 25/100\n",
      "241/241 - 25s - loss: 0.4831 - accuracy: 0.9906 - f1: 0.9838 - auc: 0.9999 - val_loss: 1.6433 - val_accuracy: 0.4942 - val_f1: 0.4164 - val_auc: 0.8081\n",
      "Restoring model weights from the end of the best epoch.\n",
      "Epoch 00025: early stopping\n",
      "Epoch 1/100\n",
      "241/241 - 28s - loss: 1.5242 - accuracy: 0.4253 - f1: 0.1655 - auc: 0.7952 - val_loss: 1.7773 - val_accuracy: 0.3147 - val_f1: 0.0515 - val_auc: 0.7119\n",
      "Epoch 2/100\n",
      "241/241 - 26s - loss: 1.0702 - accuracy: 0.6261 - f1: 0.4310 - auc: 0.9136 - val_loss: 1.6731 - val_accuracy: 0.3929 - val_f1: 0.1224 - val_auc: 0.7657\n",
      "Epoch 3/100\n",
      "241/241 - 26s - loss: 0.8868 - accuracy: 0.7161 - f1: 0.5949 - auc: 0.9467 - val_loss: 1.6700 - val_accuracy: 0.3936 - val_f1: 0.1738 - val_auc: 0.7681\n",
      "Epoch 4/100\n",
      "241/241 - 26s - loss: 0.7792 - accuracy: 0.7728 - f1: 0.6927 - auc: 0.9649 - val_loss: 1.6680 - val_accuracy: 0.4023 - val_f1: 0.2052 - val_auc: 0.7755\n",
      "Epoch 5/100\n",
      "241/241 - 25s - loss: 0.7108 - accuracy: 0.8135 - f1: 0.7586 - auc: 0.9753 - val_loss: 1.6094 - val_accuracy: 0.4365 - val_f1: 0.2704 - val_auc: 0.8002\n",
      "Epoch 6/100\n",
      "241/241 - 26s - loss: 0.6590 - accuracy: 0.8484 - f1: 0.8084 - auc: 0.9833 - val_loss: 1.5785 - val_accuracy: 0.4616 - val_f1: 0.3204 - val_auc: 0.8118\n",
      "Epoch 7/100\n",
      "241/241 - 26s - loss: 0.6235 - accuracy: 0.8731 - f1: 0.8418 - auc: 0.9881 - val_loss: 1.5609 - val_accuracy: 0.4762 - val_f1: 0.3549 - val_auc: 0.8212\n",
      "Epoch 8/100\n",
      "241/241 - 26s - loss: 0.5948 - accuracy: 0.8968 - f1: 0.8728 - auc: 0.9918 - val_loss: 1.5936 - val_accuracy: 0.4570 - val_f1: 0.3409 - val_auc: 0.8132\n",
      "Epoch 9/100\n",
      "241/241 - 26s - loss: 0.5753 - accuracy: 0.9128 - f1: 0.8926 - auc: 0.9939 - val_loss: 1.5624 - val_accuracy: 0.4849 - val_f1: 0.3798 - val_auc: 0.8233\n",
      "Epoch 10/100\n",
      "241/241 - 26s - loss: 0.5592 - accuracy: 0.9283 - f1: 0.9104 - auc: 0.9957 - val_loss: 1.5629 - val_accuracy: 0.4839 - val_f1: 0.3810 - val_auc: 0.8236\n",
      "Epoch 11/100\n",
      "241/241 - 26s - loss: 0.5467 - accuracy: 0.9396 - f1: 0.9241 - auc: 0.9968 - val_loss: 1.5731 - val_accuracy: 0.4838 - val_f1: 0.3864 - val_auc: 0.8229\n",
      "Epoch 12/100\n",
      "241/241 - 26s - loss: 0.5351 - accuracy: 0.9491 - f1: 0.9354 - auc: 0.9977 - val_loss: 1.5668 - val_accuracy: 0.4876 - val_f1: 0.3936 - val_auc: 0.8252\n",
      "Epoch 13/100\n",
      "241/241 - 26s - loss: 0.5257 - accuracy: 0.9578 - f1: 0.9451 - auc: 0.9983 - val_loss: 1.5715 - val_accuracy: 0.4907 - val_f1: 0.3984 - val_auc: 0.8249\n",
      "Epoch 14/100\n",
      "241/241 - 26s - loss: 0.5191 - accuracy: 0.9632 - f1: 0.9515 - auc: 0.9987 - val_loss: 1.5609 - val_accuracy: 0.4968 - val_f1: 0.4039 - val_auc: 0.8269\n",
      "Epoch 15/100\n",
      "241/241 - 26s - loss: 0.5126 - accuracy: 0.9689 - f1: 0.9571 - auc: 0.9990 - val_loss: 1.5577 - val_accuracy: 0.5089 - val_f1: 0.4198 - val_auc: 0.8300\n",
      "Epoch 16/100\n",
      "241/241 - 26s - loss: 0.5077 - accuracy: 0.9731 - f1: 0.9622 - auc: 0.9992 - val_loss: 1.5613 - val_accuracy: 0.5034 - val_f1: 0.4153 - val_auc: 0.8284\n",
      "Epoch 17/100\n",
      "241/241 - 26s - loss: 0.5037 - accuracy: 0.9767 - f1: 0.9668 - auc: 0.9994 - val_loss: 1.5836 - val_accuracy: 0.4933 - val_f1: 0.4075 - val_auc: 0.8234\n",
      "Epoch 18/100\n",
      "241/241 - 26s - loss: 0.4997 - accuracy: 0.9795 - f1: 0.9703 - auc: 0.9995 - val_loss: 1.5820 - val_accuracy: 0.4936 - val_f1: 0.4069 - val_auc: 0.8228\n",
      "Restoring model weights from the end of the best epoch.\n",
      "Epoch 00018: early stopping\n",
      "Epoch 1/100\n",
      "241/241 - 28s - loss: 1.5115 - accuracy: 0.4179 - f1: 0.1666 - auc: 0.7952 - val_loss: 1.7094 - val_accuracy: 0.3689 - val_f1: 0.0630 - val_auc: 0.7525\n",
      "Epoch 2/100\n",
      "241/241 - 26s - loss: 1.0665 - accuracy: 0.6372 - f1: 0.4446 - auc: 0.9171 - val_loss: 1.7196 - val_accuracy: 0.3620 - val_f1: 0.0973 - val_auc: 0.7512\n",
      "Epoch 3/100\n",
      "241/241 - 26s - loss: 0.8866 - accuracy: 0.7141 - f1: 0.5987 - auc: 0.9479 - val_loss: 1.7142 - val_accuracy: 0.3825 - val_f1: 0.1382 - val_auc: 0.7536\n",
      "Epoch 4/100\n",
      "241/241 - 26s - loss: 0.7771 - accuracy: 0.7732 - f1: 0.6964 - auc: 0.9655 - val_loss: 1.6594 - val_accuracy: 0.4182 - val_f1: 0.2420 - val_auc: 0.7877\n",
      "Epoch 5/100\n",
      "241/241 - 26s - loss: 0.7068 - accuracy: 0.8184 - f1: 0.7644 - auc: 0.9769 - val_loss: 1.6167 - val_accuracy: 0.4557 - val_f1: 0.2985 - val_auc: 0.7996\n",
      "Epoch 6/100\n",
      "241/241 - 26s - loss: 0.6520 - accuracy: 0.8540 - f1: 0.8151 - auc: 0.9844 - val_loss: 1.6087 - val_accuracy: 0.4587 - val_f1: 0.3291 - val_auc: 0.8055\n",
      "Epoch 7/100\n",
      "241/241 - 27s - loss: 0.6155 - accuracy: 0.8805 - f1: 0.8510 - auc: 0.9890 - val_loss: 1.5816 - val_accuracy: 0.4880 - val_f1: 0.3733 - val_auc: 0.8171\n",
      "Epoch 8/100\n",
      "241/241 - 26s - loss: 0.5915 - accuracy: 0.9021 - f1: 0.8788 - auc: 0.9923 - val_loss: 1.6176 - val_accuracy: 0.4676 - val_f1: 0.3439 - val_auc: 0.8041\n",
      "Epoch 9/100\n",
      "241/241 - 26s - loss: 0.5694 - accuracy: 0.9187 - f1: 0.8986 - auc: 0.9944 - val_loss: 1.6025 - val_accuracy: 0.4829 - val_f1: 0.3734 - val_auc: 0.8126\n",
      "Epoch 10/100\n",
      "241/241 - 26s - loss: 0.5537 - accuracy: 0.9322 - f1: 0.9147 - auc: 0.9961 - val_loss: 1.6189 - val_accuracy: 0.4752 - val_f1: 0.3774 - val_auc: 0.8118\n",
      "Epoch 11/100\n",
      "241/241 - 26s - loss: 0.5410 - accuracy: 0.9436 - f1: 0.9287 - auc: 0.9971 - val_loss: 1.6001 - val_accuracy: 0.4960 - val_f1: 0.4023 - val_auc: 0.8170\n",
      "Epoch 12/100\n",
      "241/241 - 26s - loss: 0.5321 - accuracy: 0.9529 - f1: 0.9393 - auc: 0.9979 - val_loss: 1.6029 - val_accuracy: 0.4966 - val_f1: 0.4036 - val_auc: 0.8154\n",
      "Epoch 13/100\n",
      "241/241 - 26s - loss: 0.5234 - accuracy: 0.9595 - f1: 0.9473 - auc: 0.9984 - val_loss: 1.6115 - val_accuracy: 0.4917 - val_f1: 0.3985 - val_auc: 0.8125\n",
      "Epoch 14/100\n",
      "241/241 - 26s - loss: 0.5159 - accuracy: 0.9657 - f1: 0.9547 - auc: 0.9988 - val_loss: 1.6123 - val_accuracy: 0.5000 - val_f1: 0.4149 - val_auc: 0.8159\n",
      "Epoch 15/100\n",
      "241/241 - 26s - loss: 0.5100 - accuracy: 0.9703 - f1: 0.9598 - auc: 0.9991 - val_loss: 1.6417 - val_accuracy: 0.4770 - val_f1: 0.3882 - val_auc: 0.8055\n",
      "Epoch 16/100\n",
      "241/241 - 26s - loss: 0.5058 - accuracy: 0.9738 - f1: 0.9640 - auc: 0.9993 - val_loss: 1.6392 - val_accuracy: 0.4826 - val_f1: 0.3972 - val_auc: 0.8076\n",
      "Epoch 17/100\n",
      "241/241 - 26s - loss: 0.5012 - accuracy: 0.9772 - f1: 0.9678 - auc: 0.9994 - val_loss: 1.6411 - val_accuracy: 0.4868 - val_f1: 0.4035 - val_auc: 0.8077\n",
      "Restoring model weights from the end of the best epoch.\n",
      "Epoch 00017: early stopping\n"
     ]
    },
    {
     "data": {
      "text/html": [
       "<span style=\"color:#4527A0\"><h1 style=\"font-size:18px\">Trial complete</h1></span>"
      ],
      "text/plain": [
       "<IPython.core.display.HTML object>"
      ]
     },
     "metadata": {},
     "output_type": "display_data"
    },
    {
     "data": {
      "text/html": [
       "<span style=\"color:#4527A0\"><h1 style=\"font-size:18px\">Trial summary</h1></span>"
      ],
      "text/plain": [
       "<IPython.core.display.HTML object>"
      ]
     },
     "metadata": {},
     "output_type": "display_data"
    },
    {
     "data": {
      "text/html": [
       "<span style=\"color:cyan\"> |-Trial ID: ff9cf7d21ce810fa42676da0a04c3ddf</span>"
      ],
      "text/plain": [
       "<IPython.core.display.HTML object>"
      ]
     },
     "metadata": {},
     "output_type": "display_data"
    },
    {
     "data": {
      "text/html": [
       "<span style=\"color:cyan\"> |-Score: 1.5877540588378907</span>"
      ],
      "text/plain": [
       "<IPython.core.display.HTML object>"
      ]
     },
     "metadata": {},
     "output_type": "display_data"
    },
    {
     "data": {
      "text/html": [
       "<span style=\"color:cyan\"> |-Best step: 0</span>"
      ],
      "text/plain": [
       "<IPython.core.display.HTML object>"
      ]
     },
     "metadata": {},
     "output_type": "display_data"
    },
    {
     "data": {
      "text/html": [
       "<span style=\"color:#7E57C2\"><h2 style=\"font-size:16px\">Hyperparameters:</h2></span>"
      ],
      "text/plain": [
       "<IPython.core.display.HTML object>"
      ]
     },
     "metadata": {},
     "output_type": "display_data"
    },
    {
     "data": {
      "text/html": [
       "<span style=\"color:cyan\"> |-units: 1792</span>"
      ],
      "text/plain": [
       "<IPython.core.display.HTML object>"
      ]
     },
     "metadata": {},
     "output_type": "display_data"
    },
    {
     "name": "stdout",
     "output_type": "stream",
     "text": [
      "Epoch 1/100\n",
      "241/241 - 18s - loss: 1.5880 - accuracy: 0.3666 - f1: 0.1160 - auc: 0.7543 - val_loss: 1.8324 - val_accuracy: 0.2346 - val_f1: 0.0114 - val_auc: 0.6808\n",
      "Epoch 2/100\n",
      "241/241 - 15s - loss: 1.1882 - accuracy: 0.5622 - f1: 0.2972 - auc: 0.8863 - val_loss: 1.7817 - val_accuracy: 0.3070 - val_f1: 0.0488 - val_auc: 0.7131\n",
      "Epoch 3/100\n",
      "241/241 - 18s - loss: 1.0140 - accuracy: 0.6484 - f1: 0.4431 - auc: 0.9227 - val_loss: 1.7377 - val_accuracy: 0.3427 - val_f1: 0.1054 - val_auc: 0.7374\n",
      "Epoch 4/100\n",
      "241/241 - 17s - loss: 0.9005 - accuracy: 0.7051 - f1: 0.5555 - auc: 0.9436 - val_loss: 1.7513 - val_accuracy: 0.3327 - val_f1: 0.1370 - val_auc: 0.7324\n",
      "Epoch 5/100\n",
      "241/241 - 17s - loss: 0.8219 - accuracy: 0.7414 - f1: 0.6335 - auc: 0.9556 - val_loss: 1.6948 - val_accuracy: 0.3787 - val_f1: 0.1968 - val_auc: 0.7635\n",
      "Epoch 6/100\n",
      "241/241 - 16s - loss: 0.7634 - accuracy: 0.7771 - f1: 0.6971 - auc: 0.9659 - val_loss: 1.6739 - val_accuracy: 0.3951 - val_f1: 0.2265 - val_auc: 0.7745\n",
      "Epoch 7/100\n",
      "241/241 - 16s - loss: 0.7164 - accuracy: 0.8040 - f1: 0.7429 - auc: 0.9733 - val_loss: 1.6628 - val_accuracy: 0.4064 - val_f1: 0.2569 - val_auc: 0.7824\n",
      "Epoch 8/100\n",
      "241/241 - 16s - loss: 0.6805 - accuracy: 0.8287 - f1: 0.7808 - auc: 0.9788 - val_loss: 1.6685 - val_accuracy: 0.4093 - val_f1: 0.2741 - val_auc: 0.7838\n",
      "Epoch 9/100\n",
      "241/241 - 16s - loss: 0.6521 - accuracy: 0.8454 - f1: 0.8065 - auc: 0.9830 - val_loss: 1.6405 - val_accuracy: 0.4274 - val_f1: 0.3025 - val_auc: 0.7960\n",
      "Epoch 10/100\n",
      "241/241 - 15s - loss: 0.6289 - accuracy: 0.8636 - f1: 0.8310 - auc: 0.9863 - val_loss: 1.6278 - val_accuracy: 0.4406 - val_f1: 0.3247 - val_auc: 0.8022\n",
      "Epoch 11/100\n",
      "241/241 - 16s - loss: 0.6114 - accuracy: 0.8791 - f1: 0.8516 - auc: 0.9889 - val_loss: 1.6746 - val_accuracy: 0.4164 - val_f1: 0.3048 - val_auc: 0.7890\n",
      "Epoch 12/100\n",
      "241/241 - 16s - loss: 0.5949 - accuracy: 0.8913 - f1: 0.8665 - auc: 0.9907 - val_loss: 1.6557 - val_accuracy: 0.4344 - val_f1: 0.3318 - val_auc: 0.7985\n",
      "Epoch 13/100\n",
      "241/241 - 16s - loss: 0.5830 - accuracy: 0.9032 - f1: 0.8816 - auc: 0.9924 - val_loss: 1.6780 - val_accuracy: 0.4264 - val_f1: 0.3320 - val_auc: 0.7952\n",
      "Epoch 14/100\n",
      "241/241 - 16s - loss: 0.5716 - accuracy: 0.9117 - f1: 0.8925 - auc: 0.9936 - val_loss: 1.6445 - val_accuracy: 0.4487 - val_f1: 0.3572 - val_auc: 0.8051\n",
      "Epoch 15/100\n",
      "241/241 - 16s - loss: 0.5625 - accuracy: 0.9211 - f1: 0.9039 - auc: 0.9948 - val_loss: 1.6612 - val_accuracy: 0.4454 - val_f1: 0.3576 - val_auc: 0.8033\n",
      "Epoch 16/100\n",
      "241/241 - 16s - loss: 0.5535 - accuracy: 0.9300 - f1: 0.9140 - auc: 0.9956 - val_loss: 1.6894 - val_accuracy: 0.4302 - val_f1: 0.3401 - val_auc: 0.7919\n",
      "Epoch 17/100\n",
      "241/241 - 16s - loss: 0.5468 - accuracy: 0.9358 - f1: 0.9209 - auc: 0.9962 - val_loss: 1.6747 - val_accuracy: 0.4429 - val_f1: 0.3596 - val_auc: 0.8002\n",
      "Epoch 18/100\n",
      "241/241 - 16s - loss: 0.5403 - accuracy: 0.9411 - f1: 0.9280 - auc: 0.9968 - val_loss: 1.6865 - val_accuracy: 0.4424 - val_f1: 0.3618 - val_auc: 0.7994\n",
      "Epoch 19/100\n",
      "241/241 - 16s - loss: 0.5343 - accuracy: 0.9474 - f1: 0.9338 - auc: 0.9973 - val_loss: 1.6949 - val_accuracy: 0.4394 - val_f1: 0.3604 - val_auc: 0.7978\n",
      "Epoch 20/100\n",
      "241/241 - 16s - loss: 0.5295 - accuracy: 0.9515 - f1: 0.9400 - auc: 0.9977 - val_loss: 1.6820 - val_accuracy: 0.4476 - val_f1: 0.3695 - val_auc: 0.8013\n",
      "Epoch 21/100\n",
      "241/241 - 16s - loss: 0.5250 - accuracy: 0.9553 - f1: 0.9442 - auc: 0.9980 - val_loss: 1.7086 - val_accuracy: 0.4379 - val_f1: 0.3615 - val_auc: 0.7947\n",
      "Epoch 22/100\n",
      "241/241 - 16s - loss: 0.5208 - accuracy: 0.9593 - f1: 0.9487 - auc: 0.9983 - val_loss: 1.6972 - val_accuracy: 0.4467 - val_f1: 0.3736 - val_auc: 0.7987\n",
      "Epoch 23/100\n",
      "241/241 - 16s - loss: 0.5173 - accuracy: 0.9630 - f1: 0.9513 - auc: 0.9986 - val_loss: 1.7058 - val_accuracy: 0.4494 - val_f1: 0.3798 - val_auc: 0.7996\n",
      "Epoch 24/100\n",
      "241/241 - 16s - loss: 0.5142 - accuracy: 0.9659 - f1: 0.9560 - auc: 0.9988 - val_loss: 1.7108 - val_accuracy: 0.4435 - val_f1: 0.3719 - val_auc: 0.7963\n",
      "Epoch 25/100\n",
      "241/241 - 16s - loss: 0.5111 - accuracy: 0.9683 - f1: 0.9588 - auc: 0.9989 - val_loss: 1.7081 - val_accuracy: 0.4458 - val_f1: 0.3746 - val_auc: 0.7961\n",
      "Epoch 26/100\n",
      "241/241 - 15s - loss: 0.5084 - accuracy: 0.9708 - f1: 0.9614 - auc: 0.9991 - val_loss: 1.7045 - val_accuracy: 0.4535 - val_f1: 0.3835 - val_auc: 0.7986\n",
      "Epoch 27/100\n",
      "241/241 - 16s - loss: 0.5060 - accuracy: 0.9731 - f1: 0.9640 - auc: 0.9992 - val_loss: 1.7064 - val_accuracy: 0.4513 - val_f1: 0.3812 - val_auc: 0.7970\n",
      "Epoch 28/100\n",
      "241/241 - 16s - loss: 0.5038 - accuracy: 0.9752 - f1: 0.9661 - auc: 0.9993 - val_loss: 1.7097 - val_accuracy: 0.4485 - val_f1: 0.3790 - val_auc: 0.7970\n",
      "Epoch 29/100\n",
      "241/241 - 16s - loss: 0.5031 - accuracy: 0.9762 - f1: 0.9672 - auc: 0.9993 - val_loss: 1.7158 - val_accuracy: 0.4496 - val_f1: 0.3808 - val_auc: 0.7956\n",
      "Restoring model weights from the end of the best epoch.\n",
      "Epoch 00029: early stopping\n",
      "Epoch 1/100\n",
      "241/241 - 18s - loss: 1.5980 - accuracy: 0.3799 - f1: 0.1132 - auc: 0.7565 - val_loss: 1.8625 - val_accuracy: 0.2651 - val_f1: 0.0084 - val_auc: 0.6640\n",
      "Epoch 2/100\n",
      "241/241 - 16s - loss: 1.1902 - accuracy: 0.5759 - f1: 0.3023 - auc: 0.8860 - val_loss: 1.7699 - val_accuracy: 0.3362 - val_f1: 0.0372 - val_auc: 0.7263\n",
      "Epoch 3/100\n",
      "241/241 - 15s - loss: 1.0175 - accuracy: 0.6568 - f1: 0.4489 - auc: 0.9245 - val_loss: 1.7750 - val_accuracy: 0.3393 - val_f1: 0.0701 - val_auc: 0.7279\n",
      "Epoch 4/100\n",
      "241/241 - 16s - loss: 0.9059 - accuracy: 0.7076 - f1: 0.5504 - auc: 0.9442 - val_loss: 1.6883 - val_accuracy: 0.4087 - val_f1: 0.1379 - val_auc: 0.7685\n",
      "Epoch 5/100\n",
      "241/241 - 15s - loss: 0.8306 - accuracy: 0.7483 - f1: 0.6339 - auc: 0.9579 - val_loss: 1.6734 - val_accuracy: 0.4226 - val_f1: 0.1836 - val_auc: 0.7762\n",
      "Epoch 6/100\n",
      "241/241 - 16s - loss: 0.7715 - accuracy: 0.7771 - f1: 0.6905 - auc: 0.9666 - val_loss: 1.6784 - val_accuracy: 0.4184 - val_f1: 0.1981 - val_auc: 0.7774\n",
      "Epoch 7/100\n",
      "241/241 - 16s - loss: 0.7255 - accuracy: 0.8037 - f1: 0.7352 - auc: 0.9733 - val_loss: 1.6677 - val_accuracy: 0.4340 - val_f1: 0.2515 - val_auc: 0.7864\n",
      "Epoch 8/100\n",
      "241/241 - 16s - loss: 0.6908 - accuracy: 0.8259 - f1: 0.7727 - auc: 0.9786 - val_loss: 1.6691 - val_accuracy: 0.4371 - val_f1: 0.2818 - val_auc: 0.7898\n",
      "Epoch 9/100\n",
      "241/241 - 16s - loss: 0.6615 - accuracy: 0.8464 - f1: 0.8026 - auc: 0.9827 - val_loss: 1.6328 - val_accuracy: 0.4652 - val_f1: 0.3178 - val_auc: 0.8003\n",
      "Epoch 10/100\n",
      "241/241 - 16s - loss: 0.6372 - accuracy: 0.8623 - f1: 0.8268 - auc: 0.9858 - val_loss: 1.6322 - val_accuracy: 0.4691 - val_f1: 0.3328 - val_auc: 0.8033\n",
      "Epoch 11/100\n",
      "241/241 - 15s - loss: 0.6178 - accuracy: 0.8774 - f1: 0.8464 - auc: 0.9885 - val_loss: 1.6476 - val_accuracy: 0.4638 - val_f1: 0.3355 - val_auc: 0.8001\n",
      "Epoch 12/100\n",
      "241/241 - 16s - loss: 0.6015 - accuracy: 0.8913 - f1: 0.8643 - auc: 0.9907 - val_loss: 1.6451 - val_accuracy: 0.4656 - val_f1: 0.3439 - val_auc: 0.8011\n",
      "Epoch 13/100\n",
      "241/241 - 15s - loss: 0.5873 - accuracy: 0.9013 - f1: 0.8778 - auc: 0.9921 - val_loss: 1.6578 - val_accuracy: 0.4628 - val_f1: 0.3416 - val_auc: 0.7983\n",
      "Epoch 14/100\n",
      "241/241 - 16s - loss: 0.5760 - accuracy: 0.9109 - f1: 0.8896 - auc: 0.9934 - val_loss: 1.6420 - val_accuracy: 0.4803 - val_f1: 0.3683 - val_auc: 0.8046\n",
      "Epoch 15/100\n",
      "241/241 - 15s - loss: 0.5661 - accuracy: 0.9197 - f1: 0.9001 - auc: 0.9945 - val_loss: 1.6610 - val_accuracy: 0.4740 - val_f1: 0.3691 - val_auc: 0.8028\n",
      "Epoch 16/100\n",
      "241/241 - 16s - loss: 0.5566 - accuracy: 0.9284 - f1: 0.9113 - auc: 0.9955 - val_loss: 1.6534 - val_accuracy: 0.4790 - val_f1: 0.3728 - val_auc: 0.8027\n",
      "Epoch 17/100\n",
      "241/241 - 16s - loss: 0.5486 - accuracy: 0.9345 - f1: 0.9187 - auc: 0.9962 - val_loss: 1.6732 - val_accuracy: 0.4690 - val_f1: 0.3641 - val_auc: 0.7985\n",
      "Epoch 18/100\n",
      "241/241 - 16s - loss: 0.5424 - accuracy: 0.9406 - f1: 0.9256 - auc: 0.9967 - val_loss: 1.6559 - val_accuracy: 0.4885 - val_f1: 0.3937 - val_auc: 0.8056\n",
      "Epoch 19/100\n",
      "241/241 - 15s - loss: 0.5361 - accuracy: 0.9470 - f1: 0.9338 - auc: 0.9974 - val_loss: 1.6740 - val_accuracy: 0.4721 - val_f1: 0.3724 - val_auc: 0.7989\n",
      "Epoch 20/100\n",
      "241/241 - 16s - loss: 0.5311 - accuracy: 0.9508 - f1: 0.9366 - auc: 0.9977 - val_loss: 1.6629 - val_accuracy: 0.4937 - val_f1: 0.4060 - val_auc: 0.8053\n",
      "Epoch 21/100\n",
      "241/241 - 16s - loss: 0.5264 - accuracy: 0.9557 - f1: 0.9437 - auc: 0.9981 - val_loss: 1.6795 - val_accuracy: 0.4787 - val_f1: 0.3862 - val_auc: 0.7997\n",
      "Epoch 22/100\n",
      "241/241 - 16s - loss: 0.5222 - accuracy: 0.9589 - f1: 0.9464 - auc: 0.9983 - val_loss: 1.6820 - val_accuracy: 0.4837 - val_f1: 0.3955 - val_auc: 0.8001\n",
      "Epoch 23/100\n",
      "241/241 - 16s - loss: 0.5187 - accuracy: 0.9625 - f1: 0.9514 - auc: 0.9985 - val_loss: 1.6917 - val_accuracy: 0.4769 - val_f1: 0.3870 - val_auc: 0.7970\n",
      "Restoring model weights from the end of the best epoch.\n",
      "Epoch 00023: early stopping\n",
      "Epoch 1/100\n",
      "241/241 - 18s - loss: 1.6023 - accuracy: 0.3762 - f1: 0.0831 - auc: 0.7621 - val_loss: 1.7955 - val_accuracy: 0.3199 - val_f1: 0.0114 - val_auc: 0.7024\n",
      "Epoch 2/100\n",
      "241/241 - 16s - loss: 1.2129 - accuracy: 0.5604 - f1: 0.2756 - auc: 0.8828 - val_loss: 1.7723 - val_accuracy: 0.3393 - val_f1: 0.0440 - val_auc: 0.7191\n",
      "Epoch 3/100\n",
      "241/241 - 16s - loss: 1.0342 - accuracy: 0.6409 - f1: 0.4210 - auc: 0.9204 - val_loss: 1.7095 - val_accuracy: 0.3890 - val_f1: 0.1022 - val_auc: 0.7522\n",
      "Epoch 4/100\n",
      "241/241 - 16s - loss: 0.9174 - accuracy: 0.6967 - f1: 0.5359 - auc: 0.9415 - val_loss: 1.6960 - val_accuracy: 0.3891 - val_f1: 0.1376 - val_auc: 0.7632\n",
      "Epoch 5/100\n",
      "241/241 - 16s - loss: 0.8368 - accuracy: 0.7381 - f1: 0.6179 - auc: 0.9553 - val_loss: 1.6359 - val_accuracy: 0.4342 - val_f1: 0.2367 - val_auc: 0.7869\n",
      "Epoch 6/100\n",
      "241/241 - 16s - loss: 0.7776 - accuracy: 0.7743 - f1: 0.6817 - auc: 0.9650 - val_loss: 1.6266 - val_accuracy: 0.4422 - val_f1: 0.2660 - val_auc: 0.7923\n",
      "Epoch 7/100\n",
      "241/241 - 16s - loss: 0.7296 - accuracy: 0.8014 - f1: 0.7297 - auc: 0.9724 - val_loss: 1.6396 - val_accuracy: 0.4351 - val_f1: 0.2727 - val_auc: 0.7891\n",
      "Epoch 8/100\n",
      "241/241 - 16s - loss: 0.6934 - accuracy: 0.8238 - f1: 0.7690 - auc: 0.9778 - val_loss: 1.7066 - val_accuracy: 0.4033 - val_f1: 0.2405 - val_auc: 0.7704\n",
      "Epoch 9/100\n",
      "241/241 - 16s - loss: 0.6653 - accuracy: 0.8423 - f1: 0.7954 - auc: 0.9817 - val_loss: 1.6144 - val_accuracy: 0.4629 - val_f1: 0.3306 - val_auc: 0.8028\n",
      "Epoch 10/100\n",
      "241/241 - 16s - loss: 0.6391 - accuracy: 0.8609 - f1: 0.8247 - auc: 0.9854 - val_loss: 1.6238 - val_accuracy: 0.4578 - val_f1: 0.3286 - val_auc: 0.8010\n",
      "Epoch 11/100\n",
      "241/241 - 16s - loss: 0.6195 - accuracy: 0.8748 - f1: 0.8450 - auc: 0.9880 - val_loss: 1.6303 - val_accuracy: 0.4606 - val_f1: 0.3373 - val_auc: 0.7987\n",
      "Epoch 12/100\n",
      "241/241 - 15s - loss: 0.6034 - accuracy: 0.8873 - f1: 0.8610 - auc: 0.9901 - val_loss: 1.6178 - val_accuracy: 0.4720 - val_f1: 0.3625 - val_auc: 0.8075\n",
      "Epoch 13/100\n",
      "241/241 - 15s - loss: 0.5884 - accuracy: 0.9002 - f1: 0.8774 - auc: 0.9920 - val_loss: 1.6180 - val_accuracy: 0.4781 - val_f1: 0.3732 - val_auc: 0.8078\n",
      "Epoch 14/100\n",
      "241/241 - 16s - loss: 0.5774 - accuracy: 0.9097 - f1: 0.8892 - auc: 0.9933 - val_loss: 1.6424 - val_accuracy: 0.4610 - val_f1: 0.3522 - val_auc: 0.8000\n",
      "Epoch 15/100\n",
      "241/241 - 16s - loss: 0.5666 - accuracy: 0.9181 - f1: 0.8986 - auc: 0.9943 - val_loss: 1.6403 - val_accuracy: 0.4666 - val_f1: 0.3619 - val_auc: 0.8018\n",
      "Epoch 16/100\n",
      "241/241 - 16s - loss: 0.5572 - accuracy: 0.9267 - f1: 0.9075 - auc: 0.9953 - val_loss: 1.6286 - val_accuracy: 0.4840 - val_f1: 0.3947 - val_auc: 0.8109\n",
      "Epoch 17/100\n",
      "241/241 - 15s - loss: 0.5491 - accuracy: 0.9353 - f1: 0.9182 - auc: 0.9962 - val_loss: 1.6412 - val_accuracy: 0.4766 - val_f1: 0.3854 - val_auc: 0.8065\n",
      "Epoch 18/100\n",
      "241/241 - 16s - loss: 0.5421 - accuracy: 0.9418 - f1: 0.9253 - auc: 0.9968 - val_loss: 1.6225 - val_accuracy: 0.4885 - val_f1: 0.4019 - val_auc: 0.8124\n",
      "Epoch 19/100\n",
      "241/241 - 16s - loss: 0.5364 - accuracy: 0.9472 - f1: 0.9312 - auc: 0.9972 - val_loss: 1.6405 - val_accuracy: 0.4862 - val_f1: 0.4041 - val_auc: 0.8097\n",
      "Epoch 20/100\n",
      "241/241 - 16s - loss: 0.5311 - accuracy: 0.9523 - f1: 0.9359 - auc: 0.9977 - val_loss: 1.6388 - val_accuracy: 0.4906 - val_f1: 0.4110 - val_auc: 0.8106\n",
      "Epoch 21/100\n",
      "241/241 - 15s - loss: 0.5265 - accuracy: 0.9567 - f1: 0.9424 - auc: 0.9980 - val_loss: 1.6446 - val_accuracy: 0.4886 - val_f1: 0.4107 - val_auc: 0.8100\n",
      "Epoch 22/100\n",
      "241/241 - 16s - loss: 0.5223 - accuracy: 0.9606 - f1: 0.9475 - auc: 0.9983 - val_loss: 1.6492 - val_accuracy: 0.4844 - val_f1: 0.4042 - val_auc: 0.8071\n",
      "Epoch 23/100\n",
      "241/241 - 16s - loss: 0.5186 - accuracy: 0.9637 - f1: 0.9508 - auc: 0.9985 - val_loss: 1.6537 - val_accuracy: 0.4885 - val_f1: 0.4120 - val_auc: 0.8091\n",
      "Epoch 24/100\n",
      "241/241 - 16s - loss: 0.5152 - accuracy: 0.9664 - f1: 0.9544 - auc: 0.9987 - val_loss: 1.6526 - val_accuracy: 0.4892 - val_f1: 0.4152 - val_auc: 0.8095\n",
      "Epoch 25/100\n",
      "241/241 - 16s - loss: 0.5121 - accuracy: 0.9691 - f1: 0.9573 - auc: 0.9989 - val_loss: 1.6515 - val_accuracy: 0.4937 - val_f1: 0.4220 - val_auc: 0.8096\n",
      "Epoch 26/100\n",
      "241/241 - 16s - loss: 0.5093 - accuracy: 0.9713 - f1: 0.9604 - auc: 0.9990 - val_loss: 1.6643 - val_accuracy: 0.4920 - val_f1: 0.4223 - val_auc: 0.8089\n",
      "Epoch 27/100\n",
      "241/241 - 16s - loss: 0.5069 - accuracy: 0.9738 - f1: 0.9633 - auc: 0.9992 - val_loss: 1.6699 - val_accuracy: 0.4852 - val_f1: 0.4119 - val_auc: 0.8046\n",
      "Epoch 28/100\n",
      "241/241 - 16s - loss: 0.5045 - accuracy: 0.9751 - f1: 0.9652 - auc: 0.9993 - val_loss: 1.6674 - val_accuracy: 0.4900 - val_f1: 0.4175 - val_auc: 0.8062\n",
      "Epoch 29/100\n",
      "241/241 - 16s - loss: 0.5023 - accuracy: 0.9766 - f1: 0.9669 - auc: 0.9994 - val_loss: 1.6718 - val_accuracy: 0.4915 - val_f1: 0.4225 - val_auc: 0.8063\n",
      "Epoch 30/100\n",
      "241/241 - 16s - loss: 0.5004 - accuracy: 0.9785 - f1: 0.9692 - auc: 0.9994 - val_loss: 1.6736 - val_accuracy: 0.4879 - val_f1: 0.4171 - val_auc: 0.8035\n",
      "Epoch 31/100\n",
      "241/241 - 16s - loss: 0.4985 - accuracy: 0.9800 - f1: 0.9709 - auc: 0.9995 - val_loss: 1.6768 - val_accuracy: 0.4855 - val_f1: 0.4132 - val_auc: 0.8022\n",
      "Epoch 32/100\n",
      "241/241 - 16s - loss: 0.4971 - accuracy: 0.9809 - f1: 0.9720 - auc: 0.9995 - val_loss: 1.6725 - val_accuracy: 0.4931 - val_f1: 0.4240 - val_auc: 0.8051\n",
      "Epoch 33/100\n",
      "241/241 - 15s - loss: 0.4954 - accuracy: 0.9823 - f1: 0.9736 - auc: 0.9996 - val_loss: 1.6709 - val_accuracy: 0.4965 - val_f1: 0.4273 - val_auc: 0.8053\n",
      "Epoch 34/100\n",
      "241/241 - 16s - loss: 0.4941 - accuracy: 0.9832 - f1: 0.9748 - auc: 0.9996 - val_loss: 1.6760 - val_accuracy: 0.4945 - val_f1: 0.4261 - val_auc: 0.8040\n",
      "Epoch 35/100\n",
      "241/241 - 15s - loss: 0.4926 - accuracy: 0.9842 - f1: 0.9758 - auc: 0.9997 - val_loss: 1.6762 - val_accuracy: 0.4974 - val_f1: 0.4297 - val_auc: 0.8050\n",
      "Epoch 36/100\n",
      "241/241 - 16s - loss: 0.4914 - accuracy: 0.9854 - f1: 0.9771 - auc: 0.9997 - val_loss: 1.6802 - val_accuracy: 0.4972 - val_f1: 0.4310 - val_auc: 0.8049\n",
      "Epoch 37/100\n",
      "241/241 - 16s - loss: 0.4901 - accuracy: 0.9863 - f1: 0.9777 - auc: 0.9997 - val_loss: 1.6835 - val_accuracy: 0.4983 - val_f1: 0.4319 - val_auc: 0.8044\n",
      "Epoch 38/100\n",
      "241/241 - 16s - loss: 0.4906 - accuracy: 0.9863 - f1: 0.9782 - auc: 0.9997 - val_loss: 1.6814 - val_accuracy: 0.4957 - val_f1: 0.4290 - val_auc: 0.8035\n",
      "Epoch 39/100\n",
      "241/241 - 16s - loss: 0.4882 - accuracy: 0.9873 - f1: 0.9792 - auc: 0.9998 - val_loss: 1.6839 - val_accuracy: 0.4981 - val_f1: 0.4330 - val_auc: 0.8036\n",
      "Epoch 40/100\n",
      "241/241 - 16s - loss: 0.4871 - accuracy: 0.9882 - f1: 0.9803 - auc: 0.9998 - val_loss: 1.6853 - val_accuracy: 0.4985 - val_f1: 0.4337 - val_auc: 0.8038\n",
      "Epoch 41/100\n",
      "241/241 - 15s - loss: 0.4861 - accuracy: 0.9889 - f1: 0.9811 - auc: 0.9998 - val_loss: 1.6851 - val_accuracy: 0.4989 - val_f1: 0.4336 - val_auc: 0.8035\n",
      "Epoch 42/100\n",
      "241/241 - 16s - loss: 0.4853 - accuracy: 0.9894 - f1: 0.9814 - auc: 0.9998 - val_loss: 1.6882 - val_accuracy: 0.4976 - val_f1: 0.4327 - val_auc: 0.8022\n",
      "Epoch 43/100\n",
      "241/241 - 17s - loss: 0.4844 - accuracy: 0.9899 - f1: 0.9823 - auc: 0.9999 - val_loss: 1.6872 - val_accuracy: 0.4972 - val_f1: 0.4323 - val_auc: 0.8022\n",
      "Restoring model weights from the end of the best epoch.\n",
      "Epoch 00043: early stopping\n",
      "Epoch 1/100\n",
      "241/241 - 18s - loss: 1.5910 - accuracy: 0.3750 - f1: 0.1032 - auc: 0.7563 - val_loss: 1.8275 - val_accuracy: 0.2782 - val_f1: 0.0042 - val_auc: 0.6849\n",
      "Epoch 2/100\n",
      "241/241 - 16s - loss: 1.1940 - accuracy: 0.5737 - f1: 0.3057 - auc: 0.8859 - val_loss: 1.7678 - val_accuracy: 0.3352 - val_f1: 0.0384 - val_auc: 0.7219\n",
      "Epoch 3/100\n",
      "241/241 - 16s - loss: 1.0162 - accuracy: 0.6534 - f1: 0.4525 - auc: 0.9236 - val_loss: 1.6956 - val_accuracy: 0.3891 - val_f1: 0.1103 - val_auc: 0.7584\n",
      "Epoch 4/100\n",
      "241/241 - 16s - loss: 0.9059 - accuracy: 0.7070 - f1: 0.5552 - auc: 0.9443 - val_loss: 1.6586 - val_accuracy: 0.4072 - val_f1: 0.1465 - val_auc: 0.7766\n",
      "Epoch 5/100\n",
      "241/241 - 16s - loss: 0.8272 - accuracy: 0.7464 - f1: 0.6340 - auc: 0.9570 - val_loss: 1.6707 - val_accuracy: 0.4045 - val_f1: 0.1884 - val_auc: 0.7744\n",
      "Epoch 6/100\n",
      "241/241 - 16s - loss: 0.7666 - accuracy: 0.7804 - f1: 0.6946 - auc: 0.9673 - val_loss: 1.6464 - val_accuracy: 0.4237 - val_f1: 0.2398 - val_auc: 0.7883\n",
      "Epoch 7/100\n",
      "241/241 - 16s - loss: 0.7225 - accuracy: 0.8065 - f1: 0.7389 - auc: 0.9741 - val_loss: 1.6242 - val_accuracy: 0.4461 - val_f1: 0.2857 - val_auc: 0.7989\n",
      "Epoch 8/100\n",
      "241/241 - 16s - loss: 0.6931 - accuracy: 0.8253 - f1: 0.7689 - auc: 0.9785 - val_loss: 1.5847 - val_accuracy: 0.4741 - val_f1: 0.3302 - val_auc: 0.8118\n",
      "Epoch 9/100\n",
      "241/241 - 15s - loss: 0.6595 - accuracy: 0.8484 - f1: 0.8051 - auc: 0.9835 - val_loss: 1.6092 - val_accuracy: 0.4638 - val_f1: 0.3416 - val_auc: 0.8089\n",
      "Epoch 10/100\n",
      "241/241 - 16s - loss: 0.6353 - accuracy: 0.8653 - f1: 0.8290 - auc: 0.9867 - val_loss: 1.5938 - val_accuracy: 0.4731 - val_f1: 0.3506 - val_auc: 0.8123\n",
      "Epoch 11/100\n",
      "241/241 - 16s - loss: 0.6153 - accuracy: 0.8806 - f1: 0.8493 - auc: 0.9893 - val_loss: 1.5990 - val_accuracy: 0.4766 - val_f1: 0.3708 - val_auc: 0.8152\n",
      "Epoch 12/100\n",
      "241/241 - 16s - loss: 0.5983 - accuracy: 0.8947 - f1: 0.8684 - auc: 0.9915 - val_loss: 1.6342 - val_accuracy: 0.4562 - val_f1: 0.3526 - val_auc: 0.8063\n",
      "Epoch 13/100\n",
      "241/241 - 16s - loss: 0.5845 - accuracy: 0.9068 - f1: 0.8834 - auc: 0.9930 - val_loss: 1.6498 - val_accuracy: 0.4513 - val_f1: 0.3542 - val_auc: 0.8035\n",
      "Epoch 14/100\n",
      "241/241 - 16s - loss: 0.5726 - accuracy: 0.9160 - f1: 0.8941 - auc: 0.9942 - val_loss: 1.6081 - val_accuracy: 0.4867 - val_f1: 0.3981 - val_auc: 0.8168\n",
      "Epoch 15/100\n",
      "241/241 - 16s - loss: 0.5623 - accuracy: 0.9273 - f1: 0.9088 - auc: 0.9954 - val_loss: 1.6219 - val_accuracy: 0.4712 - val_f1: 0.3781 - val_auc: 0.8114\n",
      "Epoch 16/100\n",
      "241/241 - 17s - loss: 0.5530 - accuracy: 0.9343 - f1: 0.9164 - auc: 0.9962 - val_loss: 1.6058 - val_accuracy: 0.4895 - val_f1: 0.4040 - val_auc: 0.8175\n",
      "Epoch 17/100\n",
      "241/241 - 17s - loss: 0.5460 - accuracy: 0.9415 - f1: 0.9259 - auc: 0.9968 - val_loss: 1.6091 - val_accuracy: 0.4889 - val_f1: 0.4066 - val_auc: 0.8182\n",
      "Epoch 18/100\n",
      "241/241 - 17s - loss: 0.5386 - accuracy: 0.9478 - f1: 0.9333 - auc: 0.9974 - val_loss: 1.6376 - val_accuracy: 0.4699 - val_f1: 0.3828 - val_auc: 0.8082\n",
      "Epoch 19/100\n",
      "241/241 - 16s - loss: 0.5329 - accuracy: 0.9524 - f1: 0.9386 - auc: 0.9978 - val_loss: 1.6319 - val_accuracy: 0.4834 - val_f1: 0.4063 - val_auc: 0.8139\n",
      "Epoch 20/100\n",
      "241/241 - 17s - loss: 0.5288 - accuracy: 0.9566 - f1: 0.9428 - auc: 0.9981 - val_loss: 1.6251 - val_accuracy: 0.4894 - val_f1: 0.4113 - val_auc: 0.8150\n",
      "Epoch 21/100\n",
      "241/241 - 17s - loss: 0.5233 - accuracy: 0.9612 - f1: 0.9485 - auc: 0.9984 - val_loss: 1.6323 - val_accuracy: 0.4904 - val_f1: 0.4153 - val_auc: 0.8148\n",
      "Epoch 22/100\n",
      "241/241 - 17s - loss: 0.5192 - accuracy: 0.9653 - f1: 0.9534 - auc: 0.9987 - val_loss: 1.6371 - val_accuracy: 0.4864 - val_f1: 0.4109 - val_auc: 0.8129\n",
      "Epoch 23/100\n",
      "241/241 - 16s - loss: 0.5152 - accuracy: 0.9682 - f1: 0.9566 - auc: 0.9989 - val_loss: 1.6237 - val_accuracy: 0.5008 - val_f1: 0.4298 - val_auc: 0.8177\n",
      "Epoch 24/100\n",
      "241/241 - 16s - loss: 0.5121 - accuracy: 0.9709 - f1: 0.9603 - auc: 0.9990 - val_loss: 1.6386 - val_accuracy: 0.4933 - val_f1: 0.4211 - val_auc: 0.8137\n",
      "Epoch 25/100\n",
      "241/241 - 16s - loss: 0.5090 - accuracy: 0.9733 - f1: 0.9628 - auc: 0.9992 - val_loss: 1.6689 - val_accuracy: 0.4753 - val_f1: 0.4020 - val_auc: 0.8054\n",
      "Epoch 26/100\n",
      "241/241 - 16s - loss: 0.5070 - accuracy: 0.9745 - f1: 0.9648 - auc: 0.9992 - val_loss: 1.6554 - val_accuracy: 0.4878 - val_f1: 0.4159 - val_auc: 0.8102\n",
      "Restoring model weights from the end of the best epoch.\n",
      "Epoch 00026: early stopping\n",
      "Epoch 1/100\n",
      "241/241 - 19s - loss: 1.5962 - accuracy: 0.3853 - f1: 0.0964 - auc: 0.7575 - val_loss: 1.7357 - val_accuracy: 0.3610 - val_f1: 0.0393 - val_auc: 0.7353\n",
      "Epoch 2/100\n",
      "241/241 - 17s - loss: 1.2087 - accuracy: 0.5793 - f1: 0.2916 - auc: 0.8860 - val_loss: 1.7520 - val_accuracy: 0.3653 - val_f1: 0.0635 - val_auc: 0.7311\n",
      "Epoch 3/100\n",
      "241/241 - 16s - loss: 1.0359 - accuracy: 0.6587 - f1: 0.4340 - auc: 0.9227 - val_loss: 1.6867 - val_accuracy: 0.4085 - val_f1: 0.1459 - val_auc: 0.7636\n",
      "Epoch 4/100\n",
      "241/241 - 16s - loss: 0.9191 - accuracy: 0.7111 - f1: 0.5446 - auc: 0.9437 - val_loss: 1.6981 - val_accuracy: 0.4033 - val_f1: 0.1825 - val_auc: 0.7596\n",
      "Epoch 5/100\n",
      "241/241 - 17s - loss: 0.8397 - accuracy: 0.7471 - f1: 0.6266 - auc: 0.9559 - val_loss: 1.6912 - val_accuracy: 0.4070 - val_f1: 0.2300 - val_auc: 0.7708\n",
      "Epoch 6/100\n",
      "241/241 - 18s - loss: 0.7785 - accuracy: 0.7765 - f1: 0.6892 - auc: 0.9657 - val_loss: 1.6670 - val_accuracy: 0.4211 - val_f1: 0.2702 - val_auc: 0.7846\n",
      "Epoch 7/100\n",
      "241/241 - 16s - loss: 0.7341 - accuracy: 0.8019 - f1: 0.7320 - auc: 0.9725 - val_loss: 1.6352 - val_accuracy: 0.4453 - val_f1: 0.3048 - val_auc: 0.7964\n",
      "Epoch 8/100\n",
      "241/241 - 17s - loss: 0.6958 - accuracy: 0.8249 - f1: 0.7720 - auc: 0.9780 - val_loss: 1.6442 - val_accuracy: 0.4453 - val_f1: 0.3177 - val_auc: 0.7959\n",
      "Epoch 9/100\n",
      "241/241 - 17s - loss: 0.6664 - accuracy: 0.8419 - f1: 0.8010 - auc: 0.9821 - val_loss: 1.6458 - val_accuracy: 0.4463 - val_f1: 0.3279 - val_auc: 0.7977\n",
      "Epoch 10/100\n",
      "241/241 - 16s - loss: 0.6417 - accuracy: 0.8586 - f1: 0.8236 - auc: 0.9852 - val_loss: 1.6984 - val_accuracy: 0.4242 - val_f1: 0.3141 - val_auc: 0.7825\n",
      "Epoch 11/100\n",
      "241/241 - 16s - loss: 0.6264 - accuracy: 0.8710 - f1: 0.8397 - auc: 0.9870 - val_loss: 1.6714 - val_accuracy: 0.4443 - val_f1: 0.3425 - val_auc: 0.7965\n",
      "Epoch 12/100\n",
      "241/241 - 17s - loss: 0.6050 - accuracy: 0.8854 - f1: 0.8591 - auc: 0.9899 - val_loss: 1.6812 - val_accuracy: 0.4422 - val_f1: 0.3464 - val_auc: 0.7954\n",
      "Epoch 13/100\n",
      "241/241 - 17s - loss: 0.5907 - accuracy: 0.8972 - f1: 0.8729 - auc: 0.9916 - val_loss: 1.6646 - val_accuracy: 0.4590 - val_f1: 0.3720 - val_auc: 0.8031\n",
      "Epoch 14/100\n",
      "241/241 - 16s - loss: 0.5786 - accuracy: 0.9085 - f1: 0.8875 - auc: 0.9931 - val_loss: 1.6623 - val_accuracy: 0.4611 - val_f1: 0.3743 - val_auc: 0.8039\n",
      "Epoch 15/100\n",
      "241/241 - 17s - loss: 0.5686 - accuracy: 0.9170 - f1: 0.8979 - auc: 0.9942 - val_loss: 1.6659 - val_accuracy: 0.4665 - val_f1: 0.3848 - val_auc: 0.8055\n",
      "Epoch 16/100\n",
      "241/241 - 16s - loss: 0.5592 - accuracy: 0.9251 - f1: 0.9077 - auc: 0.9951 - val_loss: 1.6696 - val_accuracy: 0.4667 - val_f1: 0.3860 - val_auc: 0.8043\n",
      "Epoch 17/100\n",
      "241/241 - 16s - loss: 0.5517 - accuracy: 0.9330 - f1: 0.9162 - auc: 0.9959 - val_loss: 1.6879 - val_accuracy: 0.4594 - val_f1: 0.3774 - val_auc: 0.7982\n",
      "Epoch 18/100\n",
      "241/241 - 17s - loss: 0.5448 - accuracy: 0.9381 - f1: 0.9226 - auc: 0.9965 - val_loss: 1.6729 - val_accuracy: 0.4755 - val_f1: 0.4020 - val_auc: 0.8065\n",
      "Epoch 19/100\n",
      "241/241 - 19s - loss: 0.5383 - accuracy: 0.9453 - f1: 0.9309 - auc: 0.9971 - val_loss: 1.7311 - val_accuracy: 0.4479 - val_f1: 0.3724 - val_auc: 0.7921\n",
      "Epoch 20/100\n",
      "241/241 - 18s - loss: 0.5333 - accuracy: 0.9493 - f1: 0.9337 - auc: 0.9974 - val_loss: 1.6788 - val_accuracy: 0.4807 - val_f1: 0.4149 - val_auc: 0.8088\n",
      "Epoch 21/100\n",
      "241/241 - 18s - loss: 0.5284 - accuracy: 0.9544 - f1: 0.9418 - auc: 0.9979 - val_loss: 1.7019 - val_accuracy: 0.4656 - val_f1: 0.3950 - val_auc: 0.8004\n",
      "Epoch 22/100\n",
      "241/241 - 17s - loss: 0.5242 - accuracy: 0.9584 - f1: 0.9462 - auc: 0.9982 - val_loss: 1.6948 - val_accuracy: 0.4715 - val_f1: 0.4030 - val_auc: 0.8029\n",
      "Epoch 23/100\n",
      "241/241 - 16s - loss: 0.5202 - accuracy: 0.9625 - f1: 0.9511 - auc: 0.9984 - val_loss: 1.7143 - val_accuracy: 0.4665 - val_f1: 0.3992 - val_auc: 0.7997\n",
      "Restoring model weights from the end of the best epoch.\n",
      "Epoch 00023: early stopping\n"
     ]
    },
    {
     "data": {
      "text/html": [
       "<span style=\"color:#4527A0\"><h1 style=\"font-size:18px\">Trial complete</h1></span>"
      ],
      "text/plain": [
       "<IPython.core.display.HTML object>"
      ]
     },
     "metadata": {},
     "output_type": "display_data"
    },
    {
     "data": {
      "text/html": [
       "<span style=\"color:#4527A0\"><h1 style=\"font-size:18px\">Trial summary</h1></span>"
      ],
      "text/plain": [
       "<IPython.core.display.HTML object>"
      ]
     },
     "metadata": {},
     "output_type": "display_data"
    },
    {
     "data": {
      "text/html": [
       "<span style=\"color:cyan\"> |-Trial ID: 8607edca413c570b17fdea8d975d6454</span>"
      ],
      "text/plain": [
       "<IPython.core.display.HTML object>"
      ]
     },
     "metadata": {},
     "output_type": "display_data"
    },
    {
     "data": {
      "text/html": [
       "<span style=\"color:cyan\"> |-Score: 1.618857169151306</span>"
      ],
      "text/plain": [
       "<IPython.core.display.HTML object>"
      ]
     },
     "metadata": {},
     "output_type": "display_data"
    },
    {
     "data": {
      "text/html": [
       "<span style=\"color:cyan\"> |-Best step: 0</span>"
      ],
      "text/plain": [
       "<IPython.core.display.HTML object>"
      ]
     },
     "metadata": {},
     "output_type": "display_data"
    },
    {
     "data": {
      "text/html": [
       "<span style=\"color:#7E57C2\"><h2 style=\"font-size:16px\">Hyperparameters:</h2></span>"
      ],
      "text/plain": [
       "<IPython.core.display.HTML object>"
      ]
     },
     "metadata": {},
     "output_type": "display_data"
    },
    {
     "data": {
      "text/html": [
       "<span style=\"color:cyan\"> |-units: 768</span>"
      ],
      "text/plain": [
       "<IPython.core.display.HTML object>"
      ]
     },
     "metadata": {},
     "output_type": "display_data"
    },
    {
     "name": "stdout",
     "output_type": "stream",
     "text": [
      "Epoch 1/100\n",
      "241/241 - 21s - loss: 1.5733 - accuracy: 0.3876 - f1: 0.1117 - auc: 0.7616 - val_loss: 1.8415 - val_accuracy: 0.2751 - val_f1: 0.0300 - val_auc: 0.6777\n",
      "Epoch 2/100\n",
      "241/241 - 19s - loss: 1.1599 - accuracy: 0.5843 - f1: 0.3297 - auc: 0.8920 - val_loss: 1.7558 - val_accuracy: 0.3470 - val_f1: 0.0875 - val_auc: 0.7285\n",
      "Epoch 3/100\n",
      "241/241 - 18s - loss: 0.9855 - accuracy: 0.6699 - f1: 0.4841 - auc: 0.9290 - val_loss: 1.8108 - val_accuracy: 0.3117 - val_f1: 0.0893 - val_auc: 0.7098\n",
      "Epoch 4/100\n",
      "241/241 - 19s - loss: 0.8715 - accuracy: 0.7186 - f1: 0.5848 - auc: 0.9477 - val_loss: 1.6568 - val_accuracy: 0.4130 - val_f1: 0.2192 - val_auc: 0.7788\n",
      "Epoch 5/100\n",
      "241/241 - 19s - loss: 0.7894 - accuracy: 0.7687 - f1: 0.6721 - auc: 0.9630 - val_loss: 1.6504 - val_accuracy: 0.4267 - val_f1: 0.2479 - val_auc: 0.7842\n",
      "Epoch 6/100\n",
      "241/241 - 19s - loss: 0.7309 - accuracy: 0.8021 - f1: 0.7302 - auc: 0.9721 - val_loss: 1.6065 - val_accuracy: 0.4506 - val_f1: 0.3148 - val_auc: 0.8031\n",
      "Epoch 7/100\n",
      "241/241 - 18s - loss: 0.6866 - accuracy: 0.8285 - f1: 0.7757 - auc: 0.9790 - val_loss: 1.6209 - val_accuracy: 0.4471 - val_f1: 0.3132 - val_auc: 0.8004\n",
      "Epoch 8/100\n",
      "241/241 - 19s - loss: 0.6533 - accuracy: 0.8516 - f1: 0.8093 - auc: 0.9838 - val_loss: 1.6216 - val_accuracy: 0.4480 - val_f1: 0.3226 - val_auc: 0.8011\n",
      "Epoch 9/100\n",
      "241/241 - 19s - loss: 0.6271 - accuracy: 0.8706 - f1: 0.8349 - auc: 0.9873 - val_loss: 1.6609 - val_accuracy: 0.4365 - val_f1: 0.3253 - val_auc: 0.7950\n",
      "Epoch 10/100\n",
      "241/241 - 19s - loss: 0.6059 - accuracy: 0.8878 - f1: 0.8584 - auc: 0.9902 - val_loss: 1.6521 - val_accuracy: 0.4422 - val_f1: 0.3351 - val_auc: 0.7973\n",
      "Epoch 11/100\n",
      "241/241 - 18s - loss: 0.5896 - accuracy: 0.8997 - f1: 0.8740 - auc: 0.9920 - val_loss: 1.6064 - val_accuracy: 0.4732 - val_f1: 0.3732 - val_auc: 0.8122\n",
      "Epoch 12/100\n",
      "241/241 - 19s - loss: 0.5741 - accuracy: 0.9142 - f1: 0.8910 - auc: 0.9939 - val_loss: 1.6241 - val_accuracy: 0.4664 - val_f1: 0.3713 - val_auc: 0.8096\n",
      "Epoch 13/100\n",
      "241/241 - 19s - loss: 0.5619 - accuracy: 0.9249 - f1: 0.9042 - auc: 0.9952 - val_loss: 1.6338 - val_accuracy: 0.4680 - val_f1: 0.3803 - val_auc: 0.8108\n",
      "Epoch 14/100\n",
      "241/241 - 19s - loss: 0.5525 - accuracy: 0.9325 - f1: 0.9129 - auc: 0.9961 - val_loss: 1.6170 - val_accuracy: 0.4825 - val_f1: 0.3966 - val_auc: 0.8152\n",
      "Epoch 15/100\n",
      "241/241 - 19s - loss: 0.5435 - accuracy: 0.9408 - f1: 0.9232 - auc: 0.9970 - val_loss: 1.6105 - val_accuracy: 0.4838 - val_f1: 0.3969 - val_auc: 0.8159\n",
      "Epoch 16/100\n",
      "241/241 - 18s - loss: 0.5364 - accuracy: 0.9480 - f1: 0.9318 - auc: 0.9975 - val_loss: 1.6340 - val_accuracy: 0.4750 - val_f1: 0.3933 - val_auc: 0.8119\n",
      "Epoch 17/100\n",
      "241/241 - 19s - loss: 0.5298 - accuracy: 0.9531 - f1: 0.9385 - auc: 0.9980 - val_loss: 1.6399 - val_accuracy: 0.4805 - val_f1: 0.4010 - val_auc: 0.8121\n",
      "Epoch 18/100\n",
      "241/241 - 19s - loss: 0.5245 - accuracy: 0.9582 - f1: 0.9444 - auc: 0.9984 - val_loss: 1.6401 - val_accuracy: 0.4772 - val_f1: 0.3982 - val_auc: 0.8111\n",
      "Epoch 19/100\n",
      "241/241 - 18s - loss: 0.5195 - accuracy: 0.9622 - f1: 0.9498 - auc: 0.9986 - val_loss: 1.6465 - val_accuracy: 0.4769 - val_f1: 0.3992 - val_auc: 0.8097\n",
      "Epoch 20/100\n",
      "241/241 - 19s - loss: 0.5154 - accuracy: 0.9651 - f1: 0.9536 - auc: 0.9988 - val_loss: 1.6461 - val_accuracy: 0.4850 - val_f1: 0.4105 - val_auc: 0.8120\n",
      "Epoch 21/100\n",
      "241/241 - 18s - loss: 0.5116 - accuracy: 0.9691 - f1: 0.9582 - auc: 0.9991 - val_loss: 1.6443 - val_accuracy: 0.4821 - val_f1: 0.4048 - val_auc: 0.8107\n",
      "Epoch 22/100\n",
      "241/241 - 19s - loss: 0.5083 - accuracy: 0.9716 - f1: 0.9612 - auc: 0.9992 - val_loss: 1.6467 - val_accuracy: 0.4867 - val_f1: 0.4116 - val_auc: 0.8109\n",
      "Epoch 23/100\n",
      "241/241 - 19s - loss: 0.5053 - accuracy: 0.9744 - f1: 0.9638 - auc: 0.9993 - val_loss: 1.6678 - val_accuracy: 0.4706 - val_f1: 0.3951 - val_auc: 0.8052\n",
      "Epoch 24/100\n",
      "241/241 - 18s - loss: 0.5030 - accuracy: 0.9758 - f1: 0.9662 - auc: 0.9994 - val_loss: 1.6518 - val_accuracy: 0.4903 - val_f1: 0.4191 - val_auc: 0.8122\n",
      "Epoch 25/100\n",
      "241/241 - 19s - loss: 0.5003 - accuracy: 0.9784 - f1: 0.9689 - auc: 0.9995 - val_loss: 1.6500 - val_accuracy: 0.4914 - val_f1: 0.4194 - val_auc: 0.8120\n",
      "Epoch 26/100\n",
      "241/241 - 18s - loss: 0.4980 - accuracy: 0.9803 - f1: 0.9711 - auc: 0.9996 - val_loss: 1.6501 - val_accuracy: 0.4931 - val_f1: 0.4223 - val_auc: 0.8126\n",
      "Epoch 27/100\n",
      "241/241 - 19s - loss: 0.4961 - accuracy: 0.9816 - f1: 0.9726 - auc: 0.9996 - val_loss: 1.6646 - val_accuracy: 0.4859 - val_f1: 0.4133 - val_auc: 0.8082\n",
      "Epoch 28/100\n",
      "241/241 - 19s - loss: 0.4944 - accuracy: 0.9829 - f1: 0.9743 - auc: 0.9997 - val_loss: 1.6586 - val_accuracy: 0.4911 - val_f1: 0.4206 - val_auc: 0.8099\n",
      "Epoch 29/100\n",
      "241/241 - 19s - loss: 0.4926 - accuracy: 0.9843 - f1: 0.9758 - auc: 0.9997 - val_loss: 1.6546 - val_accuracy: 0.4932 - val_f1: 0.4208 - val_auc: 0.8097\n",
      "Restoring model weights from the end of the best epoch.\n",
      "Epoch 00029: early stopping\n",
      "Epoch 1/100\n",
      "241/241 - 22s - loss: 1.5810 - accuracy: 0.3915 - f1: 0.1089 - auc: 0.7670 - val_loss: 1.8559 - val_accuracy: 0.2830 - val_f1: 0.0316 - val_auc: 0.6631\n",
      "Epoch 2/100\n",
      "241/241 - 20s - loss: 1.1663 - accuracy: 0.5871 - f1: 0.3297 - auc: 0.8919 - val_loss: 1.8080 - val_accuracy: 0.3177 - val_f1: 0.0905 - val_auc: 0.6998\n",
      "Epoch 3/100\n",
      "241/241 - 19s - loss: 0.9824 - accuracy: 0.6729 - f1: 0.4976 - auc: 0.9300 - val_loss: 1.7309 - val_accuracy: 0.3736 - val_f1: 0.1435 - val_auc: 0.7426\n",
      "Epoch 4/100\n",
      "241/241 - 19s - loss: 0.8689 - accuracy: 0.7288 - f1: 0.6043 - auc: 0.9502 - val_loss: 1.6674 - val_accuracy: 0.4167 - val_f1: 0.2170 - val_auc: 0.7749\n",
      "Epoch 5/100\n",
      "241/241 - 19s - loss: 0.7869 - accuracy: 0.7748 - f1: 0.6869 - auc: 0.9645 - val_loss: 1.6682 - val_accuracy: 0.4238 - val_f1: 0.2513 - val_auc: 0.7783\n",
      "Epoch 6/100\n",
      "241/241 - 20s - loss: 0.7276 - accuracy: 0.8076 - f1: 0.7437 - auc: 0.9734 - val_loss: 1.6613 - val_accuracy: 0.4343 - val_f1: 0.2834 - val_auc: 0.7841\n",
      "Epoch 7/100\n",
      "241/241 - 19s - loss: 0.6854 - accuracy: 0.8333 - f1: 0.7834 - auc: 0.9796 - val_loss: 1.6590 - val_accuracy: 0.4345 - val_f1: 0.2968 - val_auc: 0.7891\n",
      "Epoch 8/100\n",
      "241/241 - 20s - loss: 0.6532 - accuracy: 0.8536 - f1: 0.8167 - auc: 0.9839 - val_loss: 1.6620 - val_accuracy: 0.4478 - val_f1: 0.3328 - val_auc: 0.7943\n",
      "Epoch 9/100\n",
      "241/241 - 19s - loss: 0.6269 - accuracy: 0.8723 - f1: 0.8425 - auc: 0.9879 - val_loss: 1.6696 - val_accuracy: 0.4432 - val_f1: 0.3301 - val_auc: 0.7922\n",
      "Epoch 10/100\n",
      "241/241 - 19s - loss: 0.6050 - accuracy: 0.8881 - f1: 0.8614 - auc: 0.9905 - val_loss: 1.7267 - val_accuracy: 0.4222 - val_f1: 0.3260 - val_auc: 0.7856\n",
      "Epoch 11/100\n",
      "241/241 - 20s - loss: 0.5910 - accuracy: 0.8999 - f1: 0.8783 - auc: 0.9923 - val_loss: 1.6796 - val_accuracy: 0.4528 - val_f1: 0.3589 - val_auc: 0.7979\n",
      "Epoch 12/100\n",
      "241/241 - 18s - loss: 0.5757 - accuracy: 0.9130 - f1: 0.8938 - auc: 0.9941 - val_loss: 1.6663 - val_accuracy: 0.4659 - val_f1: 0.3738 - val_auc: 0.8010\n",
      "Epoch 13/100\n",
      "241/241 - 18s - loss: 0.5642 - accuracy: 0.9233 - f1: 0.9055 - auc: 0.9952 - val_loss: 1.6650 - val_accuracy: 0.4731 - val_f1: 0.3870 - val_auc: 0.8043\n",
      "Epoch 14/100\n",
      "241/241 - 18s - loss: 0.5534 - accuracy: 0.9331 - f1: 0.9172 - auc: 0.9962 - val_loss: 1.6766 - val_accuracy: 0.4630 - val_f1: 0.3779 - val_auc: 0.8015\n",
      "Epoch 15/100\n",
      "241/241 - 18s - loss: 0.5461 - accuracy: 0.9399 - f1: 0.9254 - auc: 0.9969 - val_loss: 1.6863 - val_accuracy: 0.4622 - val_f1: 0.3800 - val_auc: 0.7987\n",
      "Epoch 16/100\n",
      "241/241 - 18s - loss: 0.5375 - accuracy: 0.9470 - f1: 0.9334 - auc: 0.9975 - val_loss: 1.6787 - val_accuracy: 0.4753 - val_f1: 0.3947 - val_auc: 0.8026\n",
      "Epoch 17/100\n",
      "241/241 - 18s - loss: 0.5304 - accuracy: 0.9538 - f1: 0.9404 - auc: 0.9980 - val_loss: 1.6772 - val_accuracy: 0.4813 - val_f1: 0.4033 - val_auc: 0.8052\n",
      "Epoch 18/100\n",
      "241/241 - 18s - loss: 0.5249 - accuracy: 0.9593 - f1: 0.9469 - auc: 0.9984 - val_loss: 1.7270 - val_accuracy: 0.4500 - val_f1: 0.3736 - val_auc: 0.7922\n",
      "Epoch 19/100\n",
      "241/241 - 18s - loss: 0.5200 - accuracy: 0.9629 - f1: 0.9510 - auc: 0.9986 - val_loss: 1.6993 - val_accuracy: 0.4742 - val_f1: 0.4009 - val_auc: 0.8019\n",
      "Epoch 20/100\n",
      "241/241 - 18s - loss: 0.5155 - accuracy: 0.9676 - f1: 0.9566 - auc: 0.9989 - val_loss: 1.6975 - val_accuracy: 0.4801 - val_f1: 0.4069 - val_auc: 0.8031\n",
      "Epoch 21/100\n",
      "241/241 - 18s - loss: 0.5119 - accuracy: 0.9707 - f1: 0.9602 - auc: 0.9991 - val_loss: 1.7035 - val_accuracy: 0.4763 - val_f1: 0.4021 - val_auc: 0.8009\n",
      "Epoch 22/100\n",
      "241/241 - 18s - loss: 0.5083 - accuracy: 0.9739 - f1: 0.9639 - auc: 0.9992 - val_loss: 1.7099 - val_accuracy: 0.4660 - val_f1: 0.3926 - val_auc: 0.7967\n",
      "Epoch 23/100\n",
      "241/241 - 18s - loss: 0.5053 - accuracy: 0.9760 - f1: 0.9665 - auc: 0.9993 - val_loss: 1.7187 - val_accuracy: 0.4697 - val_f1: 0.3984 - val_auc: 0.7978\n",
      "Restoring model weights from the end of the best epoch.\n",
      "Epoch 00023: early stopping\n",
      "Epoch 1/100\n",
      "241/241 - 22s - loss: 1.5717 - accuracy: 0.3845 - f1: 0.1007 - auc: 0.7758 - val_loss: 1.8326 - val_accuracy: 0.2724 - val_f1: 0.0095 - val_auc: 0.6879\n",
      "Epoch 2/100\n",
      "241/241 - 19s - loss: 1.1705 - accuracy: 0.5814 - f1: 0.3078 - auc: 0.8924 - val_loss: 1.7969 - val_accuracy: 0.3126 - val_f1: 0.0294 - val_auc: 0.7121\n",
      "Epoch 3/100\n",
      "241/241 - 19s - loss: 0.9925 - accuracy: 0.6639 - f1: 0.4671 - auc: 0.9275 - val_loss: 1.7273 - val_accuracy: 0.3794 - val_f1: 0.1058 - val_auc: 0.7511\n",
      "Epoch 4/100\n",
      "241/241 - 19s - loss: 0.8765 - accuracy: 0.7209 - f1: 0.5863 - auc: 0.9489 - val_loss: 1.7080 - val_accuracy: 0.3949 - val_f1: 0.1680 - val_auc: 0.7655\n",
      "Epoch 5/100\n",
      "241/241 - 19s - loss: 0.7957 - accuracy: 0.7629 - f1: 0.6676 - auc: 0.9621 - val_loss: 1.6770 - val_accuracy: 0.4172 - val_f1: 0.2168 - val_auc: 0.7767\n",
      "Epoch 6/100\n",
      "241/241 - 18s - loss: 0.7379 - accuracy: 0.7931 - f1: 0.7254 - auc: 0.9707 - val_loss: 1.6574 - val_accuracy: 0.4303 - val_f1: 0.2569 - val_auc: 0.7886\n",
      "Epoch 7/100\n",
      "241/241 - 18s - loss: 0.6921 - accuracy: 0.8227 - f1: 0.7704 - auc: 0.9778 - val_loss: 1.6589 - val_accuracy: 0.4345 - val_f1: 0.2745 - val_auc: 0.7851\n",
      "Epoch 8/100\n",
      "241/241 - 18s - loss: 0.6606 - accuracy: 0.8434 - f1: 0.8022 - auc: 0.9823 - val_loss: 1.6500 - val_accuracy: 0.4422 - val_f1: 0.3128 - val_auc: 0.7948\n",
      "Epoch 9/100\n",
      "241/241 - 18s - loss: 0.6305 - accuracy: 0.8648 - f1: 0.8321 - auc: 0.9865 - val_loss: 1.6640 - val_accuracy: 0.4364 - val_f1: 0.3178 - val_auc: 0.7944\n",
      "Epoch 10/100\n",
      "241/241 - 18s - loss: 0.6112 - accuracy: 0.8800 - f1: 0.8524 - auc: 0.9891 - val_loss: 1.6561 - val_accuracy: 0.4468 - val_f1: 0.3344 - val_auc: 0.7972\n",
      "Epoch 11/100\n",
      "241/241 - 18s - loss: 0.5930 - accuracy: 0.8951 - f1: 0.8711 - auc: 0.9914 - val_loss: 1.6674 - val_accuracy: 0.4445 - val_f1: 0.3447 - val_auc: 0.7986\n",
      "Epoch 12/100\n",
      "241/241 - 18s - loss: 0.5779 - accuracy: 0.9086 - f1: 0.8872 - auc: 0.9932 - val_loss: 1.7007 - val_accuracy: 0.4335 - val_f1: 0.3365 - val_auc: 0.7905\n",
      "Epoch 13/100\n",
      "241/241 - 18s - loss: 0.5657 - accuracy: 0.9183 - f1: 0.8996 - auc: 0.9944 - val_loss: 1.6728 - val_accuracy: 0.4502 - val_f1: 0.3543 - val_auc: 0.7977\n",
      "Epoch 14/100\n",
      "241/241 - 18s - loss: 0.5556 - accuracy: 0.9278 - f1: 0.9107 - auc: 0.9955 - val_loss: 1.6666 - val_accuracy: 0.4589 - val_f1: 0.3699 - val_auc: 0.8020\n",
      "Epoch 15/100\n",
      "241/241 - 18s - loss: 0.5469 - accuracy: 0.9361 - f1: 0.9208 - auc: 0.9964 - val_loss: 1.6877 - val_accuracy: 0.4494 - val_f1: 0.3618 - val_auc: 0.7972\n",
      "Epoch 16/100\n",
      "241/241 - 18s - loss: 0.5394 - accuracy: 0.9433 - f1: 0.9291 - auc: 0.9970 - val_loss: 1.6721 - val_accuracy: 0.4630 - val_f1: 0.3806 - val_auc: 0.8037\n",
      "Epoch 17/100\n",
      "241/241 - 18s - loss: 0.5331 - accuracy: 0.9496 - f1: 0.9362 - auc: 0.9976 - val_loss: 1.6867 - val_accuracy: 0.4542 - val_f1: 0.3681 - val_auc: 0.7976\n",
      "Epoch 18/100\n",
      "241/241 - 18s - loss: 0.5279 - accuracy: 0.9541 - f1: 0.9417 - auc: 0.9979 - val_loss: 1.6768 - val_accuracy: 0.4638 - val_f1: 0.3811 - val_auc: 0.8016\n",
      "Epoch 19/100\n",
      "241/241 - 19s - loss: 0.5224 - accuracy: 0.9594 - f1: 0.9479 - auc: 0.9983 - val_loss: 1.6833 - val_accuracy: 0.4593 - val_f1: 0.3746 - val_auc: 0.7981\n",
      "Epoch 20/100\n",
      "241/241 - 19s - loss: 0.5182 - accuracy: 0.9627 - f1: 0.9516 - auc: 0.9985 - val_loss: 1.6781 - val_accuracy: 0.4671 - val_f1: 0.3859 - val_auc: 0.8013\n",
      "Epoch 21/100\n",
      "241/241 - 19s - loss: 0.5146 - accuracy: 0.9660 - f1: 0.9554 - auc: 0.9988 - val_loss: 1.6852 - val_accuracy: 0.4691 - val_f1: 0.3913 - val_auc: 0.8017\n",
      "Epoch 22/100\n",
      "241/241 - 19s - loss: 0.5109 - accuracy: 0.9697 - f1: 0.9596 - auc: 0.9990 - val_loss: 1.6900 - val_accuracy: 0.4665 - val_f1: 0.3879 - val_auc: 0.7995\n",
      "Epoch 23/100\n",
      "241/241 - 18s - loss: 0.5079 - accuracy: 0.9718 - f1: 0.9621 - auc: 0.9991 - val_loss: 1.6923 - val_accuracy: 0.4686 - val_f1: 0.3913 - val_auc: 0.7993\n",
      "Epoch 24/100\n",
      "241/241 - 18s - loss: 0.5050 - accuracy: 0.9748 - f1: 0.9653 - auc: 0.9992 - val_loss: 1.6871 - val_accuracy: 0.4714 - val_f1: 0.3953 - val_auc: 0.8014\n",
      "Epoch 25/100\n",
      "241/241 - 18s - loss: 0.5025 - accuracy: 0.9764 - f1: 0.9672 - auc: 0.9993 - val_loss: 1.6912 - val_accuracy: 0.4724 - val_f1: 0.3949 - val_auc: 0.7993\n",
      "Epoch 26/100\n",
      "241/241 - 18s - loss: 0.5003 - accuracy: 0.9785 - f1: 0.9694 - auc: 0.9994 - val_loss: 1.7193 - val_accuracy: 0.4545 - val_f1: 0.3734 - val_auc: 0.7904\n",
      "Epoch 27/100\n",
      "241/241 - 19s - loss: 0.4984 - accuracy: 0.9796 - f1: 0.9709 - auc: 0.9995 - val_loss: 1.6903 - val_accuracy: 0.4755 - val_f1: 0.3973 - val_auc: 0.7994\n",
      "Epoch 28/100\n",
      "241/241 - 18s - loss: 0.4962 - accuracy: 0.9815 - f1: 0.9730 - auc: 0.9995 - val_loss: 1.7016 - val_accuracy: 0.4709 - val_f1: 0.3926 - val_auc: 0.7960\n",
      "Epoch 29/100\n",
      "241/241 - 18s - loss: 0.4944 - accuracy: 0.9830 - f1: 0.9747 - auc: 0.9996 - val_loss: 1.7077 - val_accuracy: 0.4691 - val_f1: 0.3930 - val_auc: 0.7959\n",
      "Epoch 30/100\n",
      "241/241 - 18s - loss: 0.4928 - accuracy: 0.9842 - f1: 0.9762 - auc: 0.9996 - val_loss: 1.7082 - val_accuracy: 0.4676 - val_f1: 0.3895 - val_auc: 0.7932\n",
      "Restoring model weights from the end of the best epoch.\n",
      "Epoch 00030: early stopping\n",
      "Epoch 1/100\n",
      "241/241 - 21s - loss: 1.5632 - accuracy: 0.4089 - f1: 0.1189 - auc: 0.7816 - val_loss: 1.7886 - val_accuracy: 0.3164 - val_f1: 0.0199 - val_auc: 0.7045\n",
      "Epoch 2/100\n",
      "241/241 - 19s - loss: 1.1584 - accuracy: 0.5919 - f1: 0.3418 - auc: 0.8935 - val_loss: 1.7341 - val_accuracy: 0.3569 - val_f1: 0.0647 - val_auc: 0.7369\n",
      "Epoch 3/100\n",
      "241/241 - 18s - loss: 0.9831 - accuracy: 0.6741 - f1: 0.4947 - auc: 0.9311 - val_loss: 1.7159 - val_accuracy: 0.3652 - val_f1: 0.1077 - val_auc: 0.7509\n",
      "Epoch 4/100\n",
      "241/241 - 19s - loss: 0.8785 - accuracy: 0.7252 - f1: 0.5957 - auc: 0.9495 - val_loss: 1.6798 - val_accuracy: 0.3865 - val_f1: 0.1586 - val_auc: 0.7706\n",
      "Epoch 5/100\n",
      "241/241 - 18s - loss: 0.7984 - accuracy: 0.7671 - f1: 0.6718 - auc: 0.9629 - val_loss: 1.6831 - val_accuracy: 0.3898 - val_f1: 0.1953 - val_auc: 0.7720\n",
      "Epoch 6/100\n",
      "241/241 - 19s - loss: 0.7403 - accuracy: 0.7991 - f1: 0.7239 - auc: 0.9719 - val_loss: 1.6464 - val_accuracy: 0.4218 - val_f1: 0.2423 - val_auc: 0.7871\n",
      "Epoch 7/100\n",
      "241/241 - 20s - loss: 0.6970 - accuracy: 0.8264 - f1: 0.7680 - auc: 0.9784 - val_loss: 1.6122 - val_accuracy: 0.4439 - val_f1: 0.2823 - val_auc: 0.8007\n",
      "Epoch 8/100\n",
      "241/241 - 19s - loss: 0.6620 - accuracy: 0.8512 - f1: 0.8037 - auc: 0.9832 - val_loss: 1.6384 - val_accuracy: 0.4303 - val_f1: 0.2819 - val_auc: 0.7947\n",
      "Epoch 9/100\n",
      "241/241 - 19s - loss: 0.6342 - accuracy: 0.8702 - f1: 0.8324 - auc: 0.9868 - val_loss: 1.6416 - val_accuracy: 0.4383 - val_f1: 0.3038 - val_auc: 0.7971\n",
      "Epoch 10/100\n",
      "241/241 - 19s - loss: 0.6143 - accuracy: 0.8866 - f1: 0.8545 - auc: 0.9894 - val_loss: 1.6473 - val_accuracy: 0.4370 - val_f1: 0.3116 - val_auc: 0.7975\n",
      "Epoch 11/100\n",
      "241/241 - 19s - loss: 0.5945 - accuracy: 0.9012 - f1: 0.8735 - auc: 0.9917 - val_loss: 1.6595 - val_accuracy: 0.4317 - val_f1: 0.3117 - val_auc: 0.7946\n",
      "Epoch 12/100\n",
      "241/241 - 18s - loss: 0.5794 - accuracy: 0.9127 - f1: 0.8886 - auc: 0.9932 - val_loss: 1.6585 - val_accuracy: 0.4372 - val_f1: 0.3253 - val_auc: 0.7982\n",
      "Epoch 13/100\n",
      "241/241 - 19s - loss: 0.5674 - accuracy: 0.9230 - f1: 0.9017 - auc: 0.9947 - val_loss: 1.6428 - val_accuracy: 0.4552 - val_f1: 0.3447 - val_auc: 0.8016\n",
      "Epoch 14/100\n",
      "241/241 - 18s - loss: 0.5568 - accuracy: 0.9326 - f1: 0.9132 - auc: 0.9957 - val_loss: 1.6576 - val_accuracy: 0.4546 - val_f1: 0.3542 - val_auc: 0.8026\n",
      "Epoch 15/100\n",
      "241/241 - 18s - loss: 0.5475 - accuracy: 0.9394 - f1: 0.9232 - auc: 0.9965 - val_loss: 1.6575 - val_accuracy: 0.4570 - val_f1: 0.3548 - val_auc: 0.8019\n",
      "Epoch 16/100\n",
      "241/241 - 19s - loss: 0.5396 - accuracy: 0.9463 - f1: 0.9306 - auc: 0.9971 - val_loss: 1.6547 - val_accuracy: 0.4639 - val_f1: 0.3651 - val_auc: 0.8037\n",
      "Epoch 17/100\n",
      "241/241 - 18s - loss: 0.5330 - accuracy: 0.9518 - f1: 0.9380 - auc: 0.9976 - val_loss: 1.6712 - val_accuracy: 0.4587 - val_f1: 0.3624 - val_auc: 0.8006\n",
      "Epoch 18/100\n",
      "241/241 - 18s - loss: 0.5272 - accuracy: 0.9578 - f1: 0.9442 - auc: 0.9981 - val_loss: 1.6737 - val_accuracy: 0.4589 - val_f1: 0.3631 - val_auc: 0.8006\n",
      "Epoch 19/100\n",
      "241/241 - 18s - loss: 0.5220 - accuracy: 0.9616 - f1: 0.9492 - auc: 0.9984 - val_loss: 1.6686 - val_accuracy: 0.4665 - val_f1: 0.3739 - val_auc: 0.8021\n",
      "Epoch 20/100\n",
      "241/241 - 18s - loss: 0.5179 - accuracy: 0.9645 - f1: 0.9531 - auc: 0.9986 - val_loss: 1.7213 - val_accuracy: 0.4334 - val_f1: 0.3345 - val_auc: 0.7854\n",
      "Epoch 21/100\n",
      "241/241 - 18s - loss: 0.5140 - accuracy: 0.9679 - f1: 0.9559 - auc: 0.9988 - val_loss: 1.6771 - val_accuracy: 0.4692 - val_f1: 0.3811 - val_auc: 0.8019\n",
      "Epoch 22/100\n",
      "241/241 - 18s - loss: 0.5103 - accuracy: 0.9710 - f1: 0.9602 - auc: 0.9990 - val_loss: 1.6983 - val_accuracy: 0.4589 - val_f1: 0.3685 - val_auc: 0.7958\n",
      "Epoch 23/100\n",
      "241/241 - 18s - loss: 0.5072 - accuracy: 0.9735 - f1: 0.9625 - auc: 0.9991 - val_loss: 1.6809 - val_accuracy: 0.4743 - val_f1: 0.3901 - val_auc: 0.8026\n",
      "Epoch 24/100\n",
      "241/241 - 18s - loss: 0.5042 - accuracy: 0.9761 - f1: 0.9663 - auc: 0.9993 - val_loss: 1.7028 - val_accuracy: 0.4579 - val_f1: 0.3688 - val_auc: 0.7944\n",
      "Epoch 25/100\n",
      "241/241 - 18s - loss: 0.5016 - accuracy: 0.9778 - f1: 0.9682 - auc: 0.9994 - val_loss: 1.6943 - val_accuracy: 0.4705 - val_f1: 0.3846 - val_auc: 0.7988\n",
      "Epoch 26/100\n",
      "241/241 - 18s - loss: 0.4993 - accuracy: 0.9797 - f1: 0.9705 - auc: 0.9995 - val_loss: 1.7174 - val_accuracy: 0.4563 - val_f1: 0.3694 - val_auc: 0.7921\n",
      "Restoring model weights from the end of the best epoch.\n",
      "Epoch 00026: early stopping\n",
      "Epoch 1/100\n",
      "241/241 - 20s - loss: 1.5645 - accuracy: 0.4024 - f1: 0.1212 - auc: 0.7868 - val_loss: 1.8571 - val_accuracy: 0.2595 - val_f1: 0.0102 - val_auc: 0.6729\n",
      "Epoch 2/100\n",
      "241/241 - 18s - loss: 1.1436 - accuracy: 0.5952 - f1: 0.3245 - auc: 0.8983 - val_loss: 1.7382 - val_accuracy: 0.3623 - val_f1: 0.0672 - val_auc: 0.7433\n",
      "Epoch 3/100\n",
      "241/241 - 18s - loss: 0.9689 - accuracy: 0.6835 - f1: 0.4920 - auc: 0.9349 - val_loss: 1.7347 - val_accuracy: 0.3712 - val_f1: 0.1259 - val_auc: 0.7491\n",
      "Epoch 4/100\n",
      "241/241 - 18s - loss: 0.8566 - accuracy: 0.7311 - f1: 0.6034 - auc: 0.9525 - val_loss: 1.6684 - val_accuracy: 0.4176 - val_f1: 0.2071 - val_auc: 0.7783\n",
      "Epoch 5/100\n",
      "241/241 - 18s - loss: 0.7784 - accuracy: 0.7727 - f1: 0.6801 - auc: 0.9651 - val_loss: 1.6647 - val_accuracy: 0.4207 - val_f1: 0.2475 - val_auc: 0.7833\n",
      "Epoch 6/100\n",
      "241/241 - 18s - loss: 0.7233 - accuracy: 0.8047 - f1: 0.7360 - auc: 0.9735 - val_loss: 1.6958 - val_accuracy: 0.4066 - val_f1: 0.2837 - val_auc: 0.7822\n",
      "Epoch 7/100\n",
      "241/241 - 18s - loss: 0.6832 - accuracy: 0.8282 - f1: 0.7763 - auc: 0.9794 - val_loss: 1.6637 - val_accuracy: 0.4278 - val_f1: 0.2978 - val_auc: 0.7891\n",
      "Epoch 8/100\n",
      "241/241 - 19s - loss: 0.6513 - accuracy: 0.8501 - f1: 0.8106 - auc: 0.9841 - val_loss: 1.6411 - val_accuracy: 0.4512 - val_f1: 0.3314 - val_auc: 0.7976\n",
      "Epoch 9/100\n",
      "241/241 - 18s - loss: 0.6267 - accuracy: 0.8698 - f1: 0.8376 - auc: 0.9875 - val_loss: 1.6366 - val_accuracy: 0.4581 - val_f1: 0.3494 - val_auc: 0.8022\n",
      "Epoch 10/100\n",
      "241/241 - 18s - loss: 0.6072 - accuracy: 0.8847 - f1: 0.8575 - auc: 0.9901 - val_loss: 1.6338 - val_accuracy: 0.4645 - val_f1: 0.3636 - val_auc: 0.8051\n",
      "Epoch 11/100\n",
      "241/241 - 18s - loss: 0.5905 - accuracy: 0.8993 - f1: 0.8752 - auc: 0.9924 - val_loss: 1.6467 - val_accuracy: 0.4582 - val_f1: 0.3590 - val_auc: 0.8011\n",
      "Epoch 12/100\n",
      "241/241 - 18s - loss: 0.5766 - accuracy: 0.9104 - f1: 0.8898 - auc: 0.9937 - val_loss: 1.6388 - val_accuracy: 0.4727 - val_f1: 0.3845 - val_auc: 0.8080\n",
      "Epoch 13/100\n",
      "241/241 - 17s - loss: 0.5639 - accuracy: 0.9220 - f1: 0.9043 - auc: 0.9951 - val_loss: 1.6866 - val_accuracy: 0.4462 - val_f1: 0.3643 - val_auc: 0.7983\n",
      "Epoch 14/100\n",
      "241/241 - 17s - loss: 0.5560 - accuracy: 0.9297 - f1: 0.9135 - auc: 0.9960 - val_loss: 1.6642 - val_accuracy: 0.4614 - val_f1: 0.3772 - val_auc: 0.8008\n",
      "Epoch 15/100\n",
      "241/241 - 17s - loss: 0.5469 - accuracy: 0.9382 - f1: 0.9233 - auc: 0.9967 - val_loss: 1.6560 - val_accuracy: 0.4720 - val_f1: 0.3904 - val_auc: 0.8051\n",
      "Epoch 16/100\n",
      "241/241 - 18s - loss: 0.5397 - accuracy: 0.9453 - f1: 0.9311 - auc: 0.9974 - val_loss: 1.6498 - val_accuracy: 0.4801 - val_f1: 0.3999 - val_auc: 0.8070\n",
      "Epoch 17/100\n",
      "241/241 - 17s - loss: 0.5323 - accuracy: 0.9520 - f1: 0.9386 - auc: 0.9979 - val_loss: 1.6720 - val_accuracy: 0.4682 - val_f1: 0.3911 - val_auc: 0.8019\n",
      "Epoch 18/100\n",
      "241/241 - 18s - loss: 0.5272 - accuracy: 0.9569 - f1: 0.9440 - auc: 0.9983 - val_loss: 1.6609 - val_accuracy: 0.4778 - val_f1: 0.3996 - val_auc: 0.8042\n",
      "Epoch 19/100\n",
      "241/241 - 17s - loss: 0.5219 - accuracy: 0.9617 - f1: 0.9498 - auc: 0.9986 - val_loss: 1.6728 - val_accuracy: 0.4724 - val_f1: 0.3970 - val_auc: 0.8020\n",
      "Restoring model weights from the end of the best epoch.\n",
      "Epoch 00019: early stopping\n"
     ]
    },
    {
     "data": {
      "text/html": [
       "<span style=\"color:#4527A0\"><h1 style=\"font-size:18px\">Trial complete</h1></span>"
      ],
      "text/plain": [
       "<IPython.core.display.HTML object>"
      ]
     },
     "metadata": {},
     "output_type": "display_data"
    },
    {
     "data": {
      "text/html": [
       "<span style=\"color:#4527A0\"><h1 style=\"font-size:18px\">Trial summary</h1></span>"
      ],
      "text/plain": [
       "<IPython.core.display.HTML object>"
      ]
     },
     "metadata": {},
     "output_type": "display_data"
    },
    {
     "data": {
      "text/html": [
       "<span style=\"color:cyan\"> |-Trial ID: bd8bb446f48e6236e5c108def630665c</span>"
      ],
      "text/plain": [
       "<IPython.core.display.HTML object>"
      ]
     },
     "metadata": {},
     "output_type": "display_data"
    },
    {
     "data": {
      "text/html": [
       "<span style=\"color:cyan\"> |-Score: 1.6322715044021607</span>"
      ],
      "text/plain": [
       "<IPython.core.display.HTML object>"
      ]
     },
     "metadata": {},
     "output_type": "display_data"
    },
    {
     "data": {
      "text/html": [
       "<span style=\"color:cyan\"> |-Best step: 0</span>"
      ],
      "text/plain": [
       "<IPython.core.display.HTML object>"
      ]
     },
     "metadata": {},
     "output_type": "display_data"
    },
    {
     "data": {
      "text/html": [
       "<span style=\"color:#7E57C2\"><h2 style=\"font-size:16px\">Hyperparameters:</h2></span>"
      ],
      "text/plain": [
       "<IPython.core.display.HTML object>"
      ]
     },
     "metadata": {},
     "output_type": "display_data"
    },
    {
     "data": {
      "text/html": [
       "<span style=\"color:cyan\"> |-units: 1024</span>"
      ],
      "text/plain": [
       "<IPython.core.display.HTML object>"
      ]
     },
     "metadata": {},
     "output_type": "display_data"
    },
    {
     "name": "stdout",
     "output_type": "stream",
     "text": [
      "Epoch 1/100\n",
      "241/241 - 17s - loss: 1.6278 - accuracy: 0.3789 - f1: 0.0761 - auc: 0.7511 - val_loss: 1.8479 - val_accuracy: 0.2706 - val_f1: 0.0053 - val_auc: 0.6694\n",
      "Epoch 2/100\n",
      "241/241 - 14s - loss: 1.2773 - accuracy: 0.5496 - f1: 0.2349 - auc: 0.8682 - val_loss: 1.7924 - val_accuracy: 0.3349 - val_f1: 0.0232 - val_auc: 0.7058\n",
      "Epoch 3/100\n",
      "241/241 - 14s - loss: 1.1065 - accuracy: 0.6315 - f1: 0.3803 - auc: 0.9092 - val_loss: 1.7270 - val_accuracy: 0.3675 - val_f1: 0.0888 - val_auc: 0.7414\n",
      "Epoch 4/100\n",
      "241/241 - 14s - loss: 0.9932 - accuracy: 0.6783 - f1: 0.4880 - auc: 0.9311 - val_loss: 1.7371 - val_accuracy: 0.3696 - val_f1: 0.1271 - val_auc: 0.7419\n",
      "Epoch 5/100\n",
      "241/241 - 15s - loss: 0.9095 - accuracy: 0.7129 - f1: 0.5680 - auc: 0.9439 - val_loss: 1.7074 - val_accuracy: 0.3920 - val_f1: 0.1798 - val_auc: 0.7589\n",
      "Epoch 6/100\n",
      "241/241 - 14s - loss: 0.8461 - accuracy: 0.7452 - f1: 0.6382 - auc: 0.9553 - val_loss: 1.6908 - val_accuracy: 0.4082 - val_f1: 0.2382 - val_auc: 0.7661\n",
      "Epoch 7/100\n",
      "241/241 - 14s - loss: 0.7941 - accuracy: 0.7697 - f1: 0.6875 - auc: 0.9633 - val_loss: 1.7267 - val_accuracy: 0.3915 - val_f1: 0.2410 - val_auc: 0.7591\n",
      "Epoch 8/100\n",
      "241/241 - 14s - loss: 0.7538 - accuracy: 0.7886 - f1: 0.7211 - auc: 0.9692 - val_loss: 1.7935 - val_accuracy: 0.3698 - val_f1: 0.2421 - val_auc: 0.7428\n",
      "Epoch 9/100\n",
      "241/241 - 14s - loss: 0.7194 - accuracy: 0.8068 - f1: 0.7521 - auc: 0.9738 - val_loss: 1.7149 - val_accuracy: 0.4130 - val_f1: 0.2980 - val_auc: 0.7710\n",
      "Epoch 10/100\n",
      "241/241 - 14s - loss: 0.6906 - accuracy: 0.8254 - f1: 0.7823 - auc: 0.9784 - val_loss: 1.7241 - val_accuracy: 0.4095 - val_f1: 0.3025 - val_auc: 0.7701\n",
      "Epoch 11/100\n",
      "241/241 - 14s - loss: 0.6674 - accuracy: 0.8401 - f1: 0.8034 - auc: 0.9819 - val_loss: 1.7230 - val_accuracy: 0.4160 - val_f1: 0.3127 - val_auc: 0.7726\n",
      "Epoch 12/100\n",
      "241/241 - 14s - loss: 0.6467 - accuracy: 0.8541 - f1: 0.8217 - auc: 0.9846 - val_loss: 1.7210 - val_accuracy: 0.4245 - val_f1: 0.3330 - val_auc: 0.7782\n",
      "Epoch 13/100\n",
      "241/241 - 15s - loss: 0.6291 - accuracy: 0.8666 - f1: 0.8388 - auc: 0.9870 - val_loss: 1.7611 - val_accuracy: 0.4108 - val_f1: 0.3240 - val_auc: 0.7711\n",
      "Epoch 14/100\n",
      "241/241 - 14s - loss: 0.6151 - accuracy: 0.8786 - f1: 0.8529 - auc: 0.9889 - val_loss: 1.7524 - val_accuracy: 0.4196 - val_f1: 0.3370 - val_auc: 0.7764\n",
      "Epoch 15/100\n",
      "241/241 - 14s - loss: 0.6020 - accuracy: 0.8892 - f1: 0.8671 - auc: 0.9905 - val_loss: 1.7517 - val_accuracy: 0.4265 - val_f1: 0.3485 - val_auc: 0.7795\n",
      "Epoch 16/100\n",
      "241/241 - 15s - loss: 0.5906 - accuracy: 0.8991 - f1: 0.8788 - auc: 0.9919 - val_loss: 1.7512 - val_accuracy: 0.4342 - val_f1: 0.3585 - val_auc: 0.7816\n",
      "Epoch 17/100\n",
      "241/241 - 15s - loss: 0.5807 - accuracy: 0.9085 - f1: 0.8893 - auc: 0.9932 - val_loss: 1.7683 - val_accuracy: 0.4291 - val_f1: 0.3572 - val_auc: 0.7797\n",
      "Epoch 18/100\n",
      "241/241 - 14s - loss: 0.5721 - accuracy: 0.9154 - f1: 0.8982 - auc: 0.9941 - val_loss: 1.7830 - val_accuracy: 0.4286 - val_f1: 0.3598 - val_auc: 0.7799\n",
      "Epoch 19/100\n",
      "241/241 - 15s - loss: 0.5643 - accuracy: 0.9237 - f1: 0.9071 - auc: 0.9950 - val_loss: 1.7883 - val_accuracy: 0.4275 - val_f1: 0.3593 - val_auc: 0.7771\n",
      "Epoch 20/100\n",
      "241/241 - 15s - loss: 0.5574 - accuracy: 0.9302 - f1: 0.9143 - auc: 0.9957 - val_loss: 1.8081 - val_accuracy: 0.4205 - val_f1: 0.3542 - val_auc: 0.7736\n",
      "Epoch 21/100\n",
      "241/241 - 15s - loss: 0.5511 - accuracy: 0.9358 - f1: 0.9210 - auc: 0.9962 - val_loss: 1.7874 - val_accuracy: 0.4351 - val_f1: 0.3693 - val_auc: 0.7797\n",
      "Epoch 22/100\n",
      "241/241 - 15s - loss: 0.5457 - accuracy: 0.9405 - f1: 0.9265 - auc: 0.9967 - val_loss: 1.7969 - val_accuracy: 0.4361 - val_f1: 0.3729 - val_auc: 0.7796\n",
      "Epoch 23/100\n",
      "241/241 - 14s - loss: 0.5406 - accuracy: 0.9455 - f1: 0.9322 - auc: 0.9972 - val_loss: 1.8058 - val_accuracy: 0.4333 - val_f1: 0.3708 - val_auc: 0.7767\n",
      "Epoch 24/100\n",
      "241/241 - 15s - loss: 0.5360 - accuracy: 0.9495 - f1: 0.9371 - auc: 0.9976 - val_loss: 1.8156 - val_accuracy: 0.4304 - val_f1: 0.3663 - val_auc: 0.7734\n",
      "Epoch 25/100\n",
      "241/241 - 15s - loss: 0.5320 - accuracy: 0.9532 - f1: 0.9406 - auc: 0.9979 - val_loss: 1.8163 - val_accuracy: 0.4366 - val_f1: 0.3753 - val_auc: 0.7765\n",
      "Epoch 26/100\n",
      "241/241 - 14s - loss: 0.5280 - accuracy: 0.9573 - f1: 0.9449 - auc: 0.9982 - val_loss: 1.8181 - val_accuracy: 0.4365 - val_f1: 0.3751 - val_auc: 0.7762\n",
      "Epoch 27/100\n",
      "241/241 - 15s - loss: 0.5246 - accuracy: 0.9602 - f1: 0.9485 - auc: 0.9984 - val_loss: 1.8351 - val_accuracy: 0.4357 - val_f1: 0.3767 - val_auc: 0.7751\n",
      "Epoch 28/100\n",
      "241/241 - 15s - loss: 0.5214 - accuracy: 0.9633 - f1: 0.9524 - auc: 0.9986 - val_loss: 1.8499 - val_accuracy: 0.4289 - val_f1: 0.3686 - val_auc: 0.7691\n",
      "Epoch 29/100\n",
      "241/241 - 14s - loss: 0.5183 - accuracy: 0.9662 - f1: 0.9551 - auc: 0.9988 - val_loss: 1.8400 - val_accuracy: 0.4348 - val_f1: 0.3751 - val_auc: 0.7714\n",
      "Epoch 30/100\n",
      "241/241 - 15s - loss: 0.5156 - accuracy: 0.9687 - f1: 0.9574 - auc: 0.9989 - val_loss: 1.8305 - val_accuracy: 0.4473 - val_f1: 0.3887 - val_auc: 0.7764\n",
      "Epoch 31/100\n",
      "241/241 - 14s - loss: 0.5131 - accuracy: 0.9708 - f1: 0.9603 - auc: 0.9991 - val_loss: 1.8482 - val_accuracy: 0.4404 - val_f1: 0.3825 - val_auc: 0.7726\n",
      "Epoch 32/100\n",
      "241/241 - 15s - loss: 0.5108 - accuracy: 0.9726 - f1: 0.9622 - auc: 0.9992 - val_loss: 1.8396 - val_accuracy: 0.4479 - val_f1: 0.3916 - val_auc: 0.7756\n",
      "Epoch 33/100\n",
      "241/241 - 15s - loss: 0.5087 - accuracy: 0.9748 - f1: 0.9648 - auc: 0.9993 - val_loss: 1.8573 - val_accuracy: 0.4405 - val_f1: 0.3829 - val_auc: 0.7702\n",
      "Epoch 34/100\n",
      "241/241 - 15s - loss: 0.5067 - accuracy: 0.9761 - f1: 0.9651 - auc: 0.9993 - val_loss: 1.8481 - val_accuracy: 0.4496 - val_f1: 0.3937 - val_auc: 0.7744\n",
      "Epoch 35/100\n",
      "241/241 - 15s - loss: 0.5050 - accuracy: 0.9780 - f1: 0.9682 - auc: 0.9994 - val_loss: 1.8613 - val_accuracy: 0.4427 - val_f1: 0.3862 - val_auc: 0.7698\n",
      "Epoch 36/100\n",
      "241/241 - 15s - loss: 0.5032 - accuracy: 0.9791 - f1: 0.9692 - auc: 0.9995 - val_loss: 1.8864 - val_accuracy: 0.4315 - val_f1: 0.3742 - val_auc: 0.7623\n",
      "Epoch 37/100\n",
      "241/241 - 15s - loss: 0.5021 - accuracy: 0.9788 - f1: 0.9689 - auc: 0.9994 - val_loss: 1.8624 - val_accuracy: 0.4498 - val_f1: 0.3945 - val_auc: 0.7718\n",
      "Epoch 38/100\n",
      "241/241 - 15s - loss: 0.5004 - accuracy: 0.9811 - f1: 0.9716 - auc: 0.9995 - val_loss: 1.8743 - val_accuracy: 0.4449 - val_f1: 0.3896 - val_auc: 0.7688\n",
      "Epoch 39/100\n",
      "241/241 - 14s - loss: 0.4989 - accuracy: 0.9822 - f1: 0.9728 - auc: 0.9996 - val_loss: 1.8714 - val_accuracy: 0.4437 - val_f1: 0.3871 - val_auc: 0.7662\n",
      "Epoch 40/100\n",
      "241/241 - 15s - loss: 0.4976 - accuracy: 0.9834 - f1: 0.9742 - auc: 0.9996 - val_loss: 1.8939 - val_accuracy: 0.4319 - val_f1: 0.3741 - val_auc: 0.7589\n",
      "Restoring model weights from the end of the best epoch.\n",
      "Epoch 00040: early stopping\n",
      "Epoch 1/100\n",
      "241/241 - 17s - loss: 1.6083 - accuracy: 0.3538 - f1: 0.0850 - auc: 0.7487 - val_loss: 1.8189 - val_accuracy: 0.3012 - val_f1: 0.0072 - val_auc: 0.6900\n",
      "Epoch 2/100\n",
      "241/241 - 14s - loss: 1.2449 - accuracy: 0.5241 - f1: 0.2379 - auc: 0.8678 - val_loss: 1.7613 - val_accuracy: 0.3540 - val_f1: 0.0346 - val_auc: 0.7251\n",
      "Epoch 3/100\n",
      "241/241 - 14s - loss: 1.0795 - accuracy: 0.6085 - f1: 0.3607 - auc: 0.9079 - val_loss: 1.7217 - val_accuracy: 0.3712 - val_f1: 0.0806 - val_auc: 0.7468\n",
      "Epoch 4/100\n",
      "241/241 - 15s - loss: 0.9654 - accuracy: 0.6681 - f1: 0.4653 - auc: 0.9308 - val_loss: 1.6866 - val_accuracy: 0.3923 - val_f1: 0.1364 - val_auc: 0.7658\n",
      "Epoch 5/100\n",
      "241/241 - 15s - loss: 0.8857 - accuracy: 0.7078 - f1: 0.5546 - auc: 0.9456 - val_loss: 1.6802 - val_accuracy: 0.3974 - val_f1: 0.1695 - val_auc: 0.7710\n",
      "Epoch 6/100\n",
      "241/241 - 14s - loss: 0.8235 - accuracy: 0.7383 - f1: 0.6239 - auc: 0.9559 - val_loss: 1.6584 - val_accuracy: 0.4217 - val_f1: 0.2229 - val_auc: 0.7816\n",
      "Epoch 7/100\n",
      "241/241 - 14s - loss: 0.7764 - accuracy: 0.7668 - f1: 0.6752 - auc: 0.9639 - val_loss: 1.6568 - val_accuracy: 0.4237 - val_f1: 0.2463 - val_auc: 0.7849\n",
      "Epoch 8/100\n",
      "241/241 - 15s - loss: 0.7384 - accuracy: 0.7903 - f1: 0.7164 - auc: 0.9701 - val_loss: 1.6746 - val_accuracy: 0.4141 - val_f1: 0.2520 - val_auc: 0.7814\n",
      "Epoch 9/100\n",
      "241/241 - 15s - loss: 0.7070 - accuracy: 0.8075 - f1: 0.7458 - auc: 0.9744 - val_loss: 1.6457 - val_accuracy: 0.4396 - val_f1: 0.3070 - val_auc: 0.7967\n",
      "Epoch 10/100\n",
      "241/241 - 15s - loss: 0.6813 - accuracy: 0.8255 - f1: 0.7754 - auc: 0.9790 - val_loss: 1.6819 - val_accuracy: 0.4190 - val_f1: 0.2882 - val_auc: 0.7856\n",
      "Epoch 11/100\n",
      "241/241 - 15s - loss: 0.6597 - accuracy: 0.8379 - f1: 0.7955 - auc: 0.9819 - val_loss: 1.6601 - val_accuracy: 0.4398 - val_f1: 0.3198 - val_auc: 0.7952\n",
      "Epoch 12/100\n",
      "241/241 - 15s - loss: 0.6405 - accuracy: 0.8532 - f1: 0.8162 - auc: 0.9847 - val_loss: 1.6601 - val_accuracy: 0.4475 - val_f1: 0.3395 - val_auc: 0.7989\n",
      "Epoch 13/100\n",
      "241/241 - 14s - loss: 0.6243 - accuracy: 0.8663 - f1: 0.8358 - auc: 0.9871 - val_loss: 1.6691 - val_accuracy: 0.4431 - val_f1: 0.3419 - val_auc: 0.7989\n",
      "Epoch 14/100\n",
      "241/241 - 15s - loss: 0.6112 - accuracy: 0.8771 - f1: 0.8500 - auc: 0.9890 - val_loss: 1.6740 - val_accuracy: 0.4475 - val_f1: 0.3497 - val_auc: 0.7980\n",
      "Epoch 15/100\n",
      "241/241 - 15s - loss: 0.5991 - accuracy: 0.8865 - f1: 0.8623 - auc: 0.9905 - val_loss: 1.6841 - val_accuracy: 0.4429 - val_f1: 0.3504 - val_auc: 0.7969\n",
      "Epoch 16/100\n",
      "241/241 - 15s - loss: 0.5884 - accuracy: 0.8967 - f1: 0.8738 - auc: 0.9920 - val_loss: 1.6827 - val_accuracy: 0.4518 - val_f1: 0.3619 - val_auc: 0.7977\n",
      "Epoch 17/100\n",
      "241/241 - 15s - loss: 0.5790 - accuracy: 0.9051 - f1: 0.8856 - auc: 0.9931 - val_loss: 1.6865 - val_accuracy: 0.4510 - val_f1: 0.3652 - val_auc: 0.7976\n",
      "Epoch 18/100\n",
      "241/241 - 15s - loss: 0.5710 - accuracy: 0.9124 - f1: 0.8943 - auc: 0.9941 - val_loss: 1.6840 - val_accuracy: 0.4563 - val_f1: 0.3726 - val_auc: 0.8003\n",
      "Epoch 19/100\n",
      "241/241 - 15s - loss: 0.5635 - accuracy: 0.9196 - f1: 0.9030 - auc: 0.9948 - val_loss: 1.7118 - val_accuracy: 0.4442 - val_f1: 0.3619 - val_auc: 0.7931\n",
      "Epoch 20/100\n",
      "241/241 - 15s - loss: 0.5569 - accuracy: 0.9251 - f1: 0.9087 - auc: 0.9954 - val_loss: 1.7050 - val_accuracy: 0.4557 - val_f1: 0.3794 - val_auc: 0.7990\n",
      "Epoch 21/100\n",
      "241/241 - 14s - loss: 0.5511 - accuracy: 0.9321 - f1: 0.9173 - auc: 0.9961 - val_loss: 1.7050 - val_accuracy: 0.4586 - val_f1: 0.3816 - val_auc: 0.7991\n",
      "Epoch 22/100\n",
      "241/241 - 15s - loss: 0.5456 - accuracy: 0.9376 - f1: 0.9232 - auc: 0.9967 - val_loss: 1.7081 - val_accuracy: 0.4631 - val_f1: 0.3879 - val_auc: 0.7990\n",
      "Epoch 23/100\n",
      "241/241 - 15s - loss: 0.5407 - accuracy: 0.9431 - f1: 0.9292 - auc: 0.9971 - val_loss: 1.7254 - val_accuracy: 0.4539 - val_f1: 0.3805 - val_auc: 0.7956\n",
      "Epoch 24/100\n",
      "241/241 - 15s - loss: 0.5362 - accuracy: 0.9472 - f1: 0.9336 - auc: 0.9975 - val_loss: 1.7306 - val_accuracy: 0.4547 - val_f1: 0.3818 - val_auc: 0.7933\n",
      "Epoch 25/100\n",
      "241/241 - 15s - loss: 0.5321 - accuracy: 0.9515 - f1: 0.9387 - auc: 0.9978 - val_loss: 1.7346 - val_accuracy: 0.4549 - val_f1: 0.3817 - val_auc: 0.7929\n",
      "Restoring model weights from the end of the best epoch.\n",
      "Epoch 00025: early stopping\n",
      "Epoch 1/100\n",
      "241/241 - 17s - loss: 1.6221 - accuracy: 0.3548 - f1: 0.0743 - auc: 0.7473 - val_loss: 1.8447 - val_accuracy: 0.2707 - val_f1: 0.0024 - val_auc: 0.6729\n",
      "Epoch 2/100\n",
      "241/241 - 15s - loss: 1.2645 - accuracy: 0.5342 - f1: 0.2157 - auc: 0.8706 - val_loss: 1.8184 - val_accuracy: 0.2919 - val_f1: 0.0173 - val_auc: 0.6953\n",
      "Epoch 3/100\n",
      "241/241 - 15s - loss: 1.0976 - accuracy: 0.6070 - f1: 0.3471 - auc: 0.9057 - val_loss: 1.7274 - val_accuracy: 0.3554 - val_f1: 0.0690 - val_auc: 0.7472\n",
      "Epoch 4/100\n",
      "241/241 - 14s - loss: 0.9854 - accuracy: 0.6587 - f1: 0.4578 - auc: 0.9296 - val_loss: 1.7493 - val_accuracy: 0.3499 - val_f1: 0.0908 - val_auc: 0.7414\n",
      "Epoch 5/100\n",
      "241/241 - 14s - loss: 0.9040 - accuracy: 0.6977 - f1: 0.5327 - auc: 0.9429 - val_loss: 1.7056 - val_accuracy: 0.3726 - val_f1: 0.1508 - val_auc: 0.7639\n",
      "Epoch 6/100\n",
      "241/241 - 15s - loss: 0.8409 - accuracy: 0.7330 - f1: 0.6039 - auc: 0.9543 - val_loss: 1.6919 - val_accuracy: 0.3918 - val_f1: 0.1796 - val_auc: 0.7715\n",
      "Epoch 7/100\n",
      "241/241 - 15s - loss: 0.7887 - accuracy: 0.7625 - f1: 0.6601 - auc: 0.9627 - val_loss: 1.6898 - val_accuracy: 0.3920 - val_f1: 0.2180 - val_auc: 0.7783\n",
      "Epoch 8/100\n",
      "241/241 - 14s - loss: 0.7497 - accuracy: 0.7844 - f1: 0.7046 - auc: 0.9689 - val_loss: 1.6834 - val_accuracy: 0.4060 - val_f1: 0.2394 - val_auc: 0.7807\n",
      "Epoch 9/100\n",
      "241/241 - 14s - loss: 0.7156 - accuracy: 0.8064 - f1: 0.7417 - auc: 0.9743 - val_loss: 1.6843 - val_accuracy: 0.4056 - val_f1: 0.2553 - val_auc: 0.7847\n",
      "Epoch 10/100\n",
      "241/241 - 14s - loss: 0.6877 - accuracy: 0.8211 - f1: 0.7696 - auc: 0.9782 - val_loss: 1.6574 - val_accuracy: 0.4325 - val_f1: 0.2971 - val_auc: 0.7952\n",
      "Epoch 11/100\n",
      "241/241 - 14s - loss: 0.6647 - accuracy: 0.8387 - f1: 0.7967 - auc: 0.9818 - val_loss: 1.6896 - val_accuracy: 0.4152 - val_f1: 0.2902 - val_auc: 0.7879\n",
      "Epoch 12/100\n",
      "241/241 - 16s - loss: 0.6453 - accuracy: 0.8515 - f1: 0.8156 - auc: 0.9844 - val_loss: 1.6759 - val_accuracy: 0.4291 - val_f1: 0.3117 - val_auc: 0.7948\n",
      "Epoch 13/100\n",
      "241/241 - 15s - loss: 0.6275 - accuracy: 0.8661 - f1: 0.8332 - auc: 0.9868 - val_loss: 1.6887 - val_accuracy: 0.4292 - val_f1: 0.3211 - val_auc: 0.7947\n",
      "Epoch 14/100\n",
      "241/241 - 15s - loss: 0.6142 - accuracy: 0.8780 - f1: 0.8499 - auc: 0.9888 - val_loss: 1.7004 - val_accuracy: 0.4256 - val_f1: 0.3209 - val_auc: 0.7921\n",
      "Epoch 15/100\n",
      "241/241 - 15s - loss: 0.6003 - accuracy: 0.8888 - f1: 0.8643 - auc: 0.9904 - val_loss: 1.6972 - val_accuracy: 0.4296 - val_f1: 0.3281 - val_auc: 0.7934\n",
      "Epoch 16/100\n",
      "241/241 - 14s - loss: 0.5893 - accuracy: 0.8977 - f1: 0.8748 - auc: 0.9919 - val_loss: 1.6901 - val_accuracy: 0.4415 - val_f1: 0.3475 - val_auc: 0.7990\n",
      "Epoch 17/100\n",
      "241/241 - 14s - loss: 0.5797 - accuracy: 0.9066 - f1: 0.8873 - auc: 0.9931 - val_loss: 1.7072 - val_accuracy: 0.4364 - val_f1: 0.3444 - val_auc: 0.7954\n",
      "Epoch 18/100\n",
      "241/241 - 14s - loss: 0.5709 - accuracy: 0.9145 - f1: 0.8968 - auc: 0.9940 - val_loss: 1.7046 - val_accuracy: 0.4393 - val_f1: 0.3499 - val_auc: 0.7964\n",
      "Epoch 19/100\n",
      "241/241 - 14s - loss: 0.5629 - accuracy: 0.9223 - f1: 0.9061 - auc: 0.9949 - val_loss: 1.7112 - val_accuracy: 0.4407 - val_f1: 0.3518 - val_auc: 0.7951\n",
      "Epoch 20/100\n",
      "241/241 - 14s - loss: 0.5560 - accuracy: 0.9289 - f1: 0.9124 - auc: 0.9956 - val_loss: 1.7070 - val_accuracy: 0.4527 - val_f1: 0.3696 - val_auc: 0.7984\n",
      "Epoch 21/100\n",
      "241/241 - 14s - loss: 0.5501 - accuracy: 0.9350 - f1: 0.9201 - auc: 0.9963 - val_loss: 1.7207 - val_accuracy: 0.4455 - val_f1: 0.3628 - val_auc: 0.7960\n",
      "Epoch 22/100\n",
      "241/241 - 14s - loss: 0.5441 - accuracy: 0.9414 - f1: 0.9274 - auc: 0.9969 - val_loss: 1.7310 - val_accuracy: 0.4404 - val_f1: 0.3592 - val_auc: 0.7928\n",
      "Epoch 23/100\n",
      "241/241 - 14s - loss: 0.5389 - accuracy: 0.9458 - f1: 0.9321 - auc: 0.9972 - val_loss: 1.7260 - val_accuracy: 0.4541 - val_f1: 0.3768 - val_auc: 0.7966\n",
      "Epoch 24/100\n",
      "241/241 - 15s - loss: 0.5342 - accuracy: 0.9512 - f1: 0.9382 - auc: 0.9977 - val_loss: 1.7439 - val_accuracy: 0.4438 - val_f1: 0.3671 - val_auc: 0.7918\n",
      "Epoch 25/100\n",
      "241/241 - 14s - loss: 0.5301 - accuracy: 0.9544 - f1: 0.9418 - auc: 0.9979 - val_loss: 1.7515 - val_accuracy: 0.4464 - val_f1: 0.3728 - val_auc: 0.7917\n",
      "Epoch 26/100\n",
      "241/241 - 14s - loss: 0.5264 - accuracy: 0.9582 - f1: 0.9461 - auc: 0.9982 - val_loss: 1.7505 - val_accuracy: 0.4486 - val_f1: 0.3743 - val_auc: 0.7913\n",
      "Restoring model weights from the end of the best epoch.\n",
      "Epoch 00026: early stopping\n",
      "Epoch 1/100\n",
      "241/241 - 17s - loss: 1.6306 - accuracy: 0.3529 - f1: 0.0815 - auc: 0.7379 - val_loss: 1.9171 - val_accuracy: 0.2240 - val_f1: 0.0052 - val_auc: 0.6201\n",
      "Epoch 2/100\n",
      "241/241 - 14s - loss: 1.2707 - accuracy: 0.5276 - f1: 0.2357 - auc: 0.8604 - val_loss: 1.8259 - val_accuracy: 0.2961 - val_f1: 0.0198 - val_auc: 0.6860\n",
      "Epoch 3/100\n",
      "241/241 - 14s - loss: 1.1004 - accuracy: 0.6177 - f1: 0.3666 - auc: 0.9048 - val_loss: 1.7760 - val_accuracy: 0.3238 - val_f1: 0.0537 - val_auc: 0.7216\n",
      "Epoch 4/100\n",
      "241/241 - 14s - loss: 0.9898 - accuracy: 0.6699 - f1: 0.4699 - auc: 0.9272 - val_loss: 1.7352 - val_accuracy: 0.3664 - val_f1: 0.0821 - val_auc: 0.7429\n",
      "Epoch 5/100\n",
      "241/241 - 14s - loss: 0.9074 - accuracy: 0.7100 - f1: 0.5583 - auc: 0.9437 - val_loss: 1.7105 - val_accuracy: 0.3825 - val_f1: 0.1396 - val_auc: 0.7569\n",
      "Epoch 6/100\n",
      "241/241 - 14s - loss: 0.8441 - accuracy: 0.7401 - f1: 0.6224 - auc: 0.9538 - val_loss: 1.6951 - val_accuracy: 0.3962 - val_f1: 0.1722 - val_auc: 0.7663\n",
      "Epoch 7/100\n",
      "241/241 - 14s - loss: 0.7940 - accuracy: 0.7670 - f1: 0.6752 - auc: 0.9627 - val_loss: 1.6984 - val_accuracy: 0.3967 - val_f1: 0.1841 - val_auc: 0.7674\n",
      "Epoch 8/100\n",
      "241/241 - 14s - loss: 0.7522 - accuracy: 0.7876 - f1: 0.7132 - auc: 0.9685 - val_loss: 1.6811 - val_accuracy: 0.4156 - val_f1: 0.2444 - val_auc: 0.7786\n",
      "Epoch 9/100\n",
      "241/241 - 14s - loss: 0.7192 - accuracy: 0.8088 - f1: 0.7483 - auc: 0.9740 - val_loss: 1.6674 - val_accuracy: 0.4264 - val_f1: 0.2599 - val_auc: 0.7850\n",
      "Epoch 10/100\n",
      "241/241 - 15s - loss: 0.6901 - accuracy: 0.8276 - f1: 0.7766 - auc: 0.9784 - val_loss: 1.6714 - val_accuracy: 0.4275 - val_f1: 0.2734 - val_auc: 0.7872\n",
      "Epoch 11/100\n",
      "241/241 - 14s - loss: 0.6662 - accuracy: 0.8431 - f1: 0.8004 - auc: 0.9817 - val_loss: 1.6660 - val_accuracy: 0.4360 - val_f1: 0.2984 - val_auc: 0.7903\n",
      "Epoch 12/100\n",
      "241/241 - 14s - loss: 0.6454 - accuracy: 0.8585 - f1: 0.8224 - auc: 0.9848 - val_loss: 1.6715 - val_accuracy: 0.4368 - val_f1: 0.3097 - val_auc: 0.7903\n",
      "Epoch 13/100\n",
      "241/241 - 15s - loss: 0.6286 - accuracy: 0.8703 - f1: 0.8380 - auc: 0.9869 - val_loss: 1.6804 - val_accuracy: 0.4398 - val_f1: 0.3250 - val_auc: 0.7915\n",
      "Epoch 14/100\n",
      "241/241 - 15s - loss: 0.6140 - accuracy: 0.8813 - f1: 0.8527 - auc: 0.9888 - val_loss: 1.6679 - val_accuracy: 0.4490 - val_f1: 0.3430 - val_auc: 0.7965\n",
      "Epoch 15/100\n",
      "241/241 - 14s - loss: 0.6006 - accuracy: 0.8928 - f1: 0.8677 - auc: 0.9907 - val_loss: 1.6893 - val_accuracy: 0.4422 - val_f1: 0.3378 - val_auc: 0.7917\n",
      "Epoch 16/100\n",
      "241/241 - 14s - loss: 0.5889 - accuracy: 0.9022 - f1: 0.8794 - auc: 0.9920 - val_loss: 1.6920 - val_accuracy: 0.4446 - val_f1: 0.3432 - val_auc: 0.7930\n",
      "Epoch 17/100\n",
      "241/241 - 14s - loss: 0.5786 - accuracy: 0.9111 - f1: 0.8910 - auc: 0.9933 - val_loss: 1.6913 - val_accuracy: 0.4458 - val_f1: 0.3470 - val_auc: 0.7911\n",
      "Epoch 18/100\n",
      "241/241 - 14s - loss: 0.5701 - accuracy: 0.9177 - f1: 0.8991 - auc: 0.9941 - val_loss: 1.7071 - val_accuracy: 0.4411 - val_f1: 0.3451 - val_auc: 0.7873\n",
      "Epoch 19/100\n",
      "241/241 - 14s - loss: 0.5627 - accuracy: 0.9241 - f1: 0.9064 - auc: 0.9949 - val_loss: 1.7026 - val_accuracy: 0.4493 - val_f1: 0.3620 - val_auc: 0.7924\n",
      "Epoch 20/100\n",
      "241/241 - 15s - loss: 0.5552 - accuracy: 0.9309 - f1: 0.9141 - auc: 0.9957 - val_loss: 1.7029 - val_accuracy: 0.4538 - val_f1: 0.3735 - val_auc: 0.7942\n",
      "Epoch 21/100\n",
      "241/241 - 15s - loss: 0.5491 - accuracy: 0.9368 - f1: 0.9218 - auc: 0.9963 - val_loss: 1.7081 - val_accuracy: 0.4517 - val_f1: 0.3684 - val_auc: 0.7913\n",
      "Epoch 22/100\n",
      "241/241 - 15s - loss: 0.5432 - accuracy: 0.9422 - f1: 0.9271 - auc: 0.9968 - val_loss: 1.6915 - val_accuracy: 0.4667 - val_f1: 0.3896 - val_auc: 0.7985\n",
      "Epoch 23/100\n",
      "241/241 - 15s - loss: 0.5383 - accuracy: 0.9470 - f1: 0.9325 - auc: 0.9973 - val_loss: 1.6893 - val_accuracy: 0.4691 - val_f1: 0.3885 - val_auc: 0.7977\n",
      "Epoch 24/100\n",
      "241/241 - 15s - loss: 0.5334 - accuracy: 0.9516 - f1: 0.9386 - auc: 0.9976 - val_loss: 1.7415 - val_accuracy: 0.4437 - val_f1: 0.3598 - val_auc: 0.7841\n",
      "Epoch 25/100\n",
      "241/241 - 15s - loss: 0.5300 - accuracy: 0.9549 - f1: 0.9417 - auc: 0.9979 - val_loss: 1.7187 - val_accuracy: 0.4588 - val_f1: 0.3826 - val_auc: 0.7920\n",
      "Restoring model weights from the end of the best epoch.\n",
      "Epoch 00025: early stopping\n",
      "Epoch 1/100\n",
      "241/241 - 18s - loss: 1.6284 - accuracy: 0.3402 - f1: 0.0710 - auc: 0.7426 - val_loss: 1.8158 - val_accuracy: 0.2960 - val_f1: 0.0022 - val_auc: 0.6873\n",
      "Epoch 2/100\n",
      "241/241 - 15s - loss: 1.2569 - accuracy: 0.5100 - f1: 0.2026 - auc: 0.8626 - val_loss: 1.7356 - val_accuracy: 0.3568 - val_f1: 0.0132 - val_auc: 0.7363\n",
      "Epoch 3/100\n",
      "241/241 - 15s - loss: 1.0913 - accuracy: 0.6011 - f1: 0.3202 - auc: 0.9042 - val_loss: 1.7466 - val_accuracy: 0.3422 - val_f1: 0.0356 - val_auc: 0.7335\n",
      "Epoch 4/100\n",
      "241/241 - 15s - loss: 0.9780 - accuracy: 0.6513 - f1: 0.4178 - auc: 0.9258 - val_loss: 1.6737 - val_accuracy: 0.4006 - val_f1: 0.1222 - val_auc: 0.7672\n",
      "Epoch 5/100\n",
      "241/241 - 15s - loss: 0.8940 - accuracy: 0.7007 - f1: 0.5219 - auc: 0.9434 - val_loss: 1.6899 - val_accuracy: 0.3840 - val_f1: 0.1456 - val_auc: 0.7613\n",
      "Epoch 6/100\n",
      "241/241 - 16s - loss: 0.8321 - accuracy: 0.7271 - f1: 0.5896 - auc: 0.9528 - val_loss: 1.6592 - val_accuracy: 0.4096 - val_f1: 0.2050 - val_auc: 0.7783\n",
      "Epoch 7/100\n",
      "241/241 - 15s - loss: 0.7819 - accuracy: 0.7568 - f1: 0.6514 - auc: 0.9616 - val_loss: 1.6535 - val_accuracy: 0.4155 - val_f1: 0.2445 - val_auc: 0.7844\n",
      "Epoch 8/100\n",
      "241/241 - 15s - loss: 0.7447 - accuracy: 0.7793 - f1: 0.6961 - auc: 0.9682 - val_loss: 1.6520 - val_accuracy: 0.4235 - val_f1: 0.2644 - val_auc: 0.7863\n",
      "Epoch 9/100\n",
      "241/241 - 15s - loss: 0.7105 - accuracy: 0.7997 - f1: 0.7344 - auc: 0.9733 - val_loss: 1.6428 - val_accuracy: 0.4289 - val_f1: 0.2884 - val_auc: 0.7920\n",
      "Epoch 10/100\n",
      "241/241 - 15s - loss: 0.6845 - accuracy: 0.8191 - f1: 0.7641 - auc: 0.9776 - val_loss: 1.6432 - val_accuracy: 0.4355 - val_f1: 0.3057 - val_auc: 0.7940\n",
      "Epoch 11/100\n",
      "241/241 - 15s - loss: 0.6611 - accuracy: 0.8327 - f1: 0.7875 - auc: 0.9809 - val_loss: 1.6406 - val_accuracy: 0.4414 - val_f1: 0.3279 - val_auc: 0.7986\n",
      "Epoch 12/100\n",
      "241/241 - 15s - loss: 0.6425 - accuracy: 0.8481 - f1: 0.8094 - auc: 0.9841 - val_loss: 1.6517 - val_accuracy: 0.4390 - val_f1: 0.3277 - val_auc: 0.7956\n",
      "Epoch 13/100\n",
      "241/241 - 14s - loss: 0.6272 - accuracy: 0.8595 - f1: 0.8265 - auc: 0.9861 - val_loss: 1.6549 - val_accuracy: 0.4408 - val_f1: 0.3366 - val_auc: 0.7967\n",
      "Epoch 14/100\n",
      "241/241 - 14s - loss: 0.6138 - accuracy: 0.8717 - f1: 0.8420 - auc: 0.9882 - val_loss: 1.6399 - val_accuracy: 0.4546 - val_f1: 0.3603 - val_auc: 0.8043\n",
      "Epoch 15/100\n",
      "241/241 - 14s - loss: 0.6009 - accuracy: 0.8825 - f1: 0.8567 - auc: 0.9898 - val_loss: 1.6370 - val_accuracy: 0.4606 - val_f1: 0.3714 - val_auc: 0.8057\n",
      "Epoch 16/100\n",
      "241/241 - 15s - loss: 0.5900 - accuracy: 0.8926 - f1: 0.8693 - auc: 0.9913 - val_loss: 1.6421 - val_accuracy: 0.4652 - val_f1: 0.3824 - val_auc: 0.8067\n",
      "Epoch 17/100\n",
      "241/241 - 14s - loss: 0.5804 - accuracy: 0.9011 - f1: 0.8800 - auc: 0.9925 - val_loss: 1.6519 - val_accuracy: 0.4637 - val_f1: 0.3849 - val_auc: 0.8050\n",
      "Epoch 18/100\n",
      "241/241 - 15s - loss: 0.5720 - accuracy: 0.9102 - f1: 0.8902 - auc: 0.9937 - val_loss: 1.6803 - val_accuracy: 0.4494 - val_f1: 0.3687 - val_auc: 0.7968\n",
      "Epoch 19/100\n",
      "241/241 - 14s - loss: 0.5646 - accuracy: 0.9161 - f1: 0.8972 - auc: 0.9944 - val_loss: 1.6674 - val_accuracy: 0.4620 - val_f1: 0.3891 - val_auc: 0.8034\n",
      "Epoch 20/100\n",
      "241/241 - 15s - loss: 0.5576 - accuracy: 0.9229 - f1: 0.9061 - auc: 0.9952 - val_loss: 1.6602 - val_accuracy: 0.4695 - val_f1: 0.4001 - val_auc: 0.8066\n",
      "Epoch 21/100\n",
      "241/241 - 15s - loss: 0.5515 - accuracy: 0.9299 - f1: 0.9141 - auc: 0.9959 - val_loss: 1.6822 - val_accuracy: 0.4606 - val_f1: 0.3894 - val_auc: 0.8001\n",
      "Epoch 22/100\n",
      "241/241 - 15s - loss: 0.5460 - accuracy: 0.9354 - f1: 0.9206 - auc: 0.9964 - val_loss: 1.6958 - val_accuracy: 0.4594 - val_f1: 0.3920 - val_auc: 0.7989\n",
      "Epoch 23/100\n",
      "241/241 - 15s - loss: 0.5409 - accuracy: 0.9408 - f1: 0.9264 - auc: 0.9969 - val_loss: 1.7030 - val_accuracy: 0.4589 - val_f1: 0.3928 - val_auc: 0.7976\n",
      "Restoring model weights from the end of the best epoch.\n",
      "Epoch 00023: early stopping\n"
     ]
    },
    {
     "data": {
      "text/html": [
       "<span style=\"color:#4527A0\"><h1 style=\"font-size:18px\">Trial complete</h1></span>"
      ],
      "text/plain": [
       "<IPython.core.display.HTML object>"
      ]
     },
     "metadata": {},
     "output_type": "display_data"
    },
    {
     "data": {
      "text/html": [
       "<span style=\"color:#4527A0\"><h1 style=\"font-size:18px\">Trial summary</h1></span>"
      ],
      "text/plain": [
       "<IPython.core.display.HTML object>"
      ]
     },
     "metadata": {},
     "output_type": "display_data"
    },
    {
     "data": {
      "text/html": [
       "<span style=\"color:cyan\"> |-Trial ID: 1ee489673cff9a86ef52e64a6c9982d1</span>"
      ],
      "text/plain": [
       "<IPython.core.display.HTML object>"
      ]
     },
     "metadata": {},
     "output_type": "display_data"
    },
    {
     "data": {
      "text/html": [
       "<span style=\"color:cyan\"> |-Score: 1.6593823909759522</span>"
      ],
      "text/plain": [
       "<IPython.core.display.HTML object>"
      ]
     },
     "metadata": {},
     "output_type": "display_data"
    },
    {
     "data": {
      "text/html": [
       "<span style=\"color:cyan\"> |-Best step: 0</span>"
      ],
      "text/plain": [
       "<IPython.core.display.HTML object>"
      ]
     },
     "metadata": {},
     "output_type": "display_data"
    },
    {
     "data": {
      "text/html": [
       "<span style=\"color:#7E57C2\"><h2 style=\"font-size:16px\">Hyperparameters:</h2></span>"
      ],
      "text/plain": [
       "<IPython.core.display.HTML object>"
      ]
     },
     "metadata": {},
     "output_type": "display_data"
    },
    {
     "data": {
      "text/html": [
       "<span style=\"color:cyan\"> |-units: 512</span>"
      ],
      "text/plain": [
       "<IPython.core.display.HTML object>"
      ]
     },
     "metadata": {},
     "output_type": "display_data"
    },
    {
     "name": "stdout",
     "output_type": "stream",
     "text": [
      "Epoch 1/100\n",
      "241/241 - 31s - loss: 1.5110 - accuracy: 0.4410 - f1: 0.1682 - auc: 0.8049 - val_loss: 1.7749 - val_accuracy: 0.3396 - val_f1: 0.0753 - val_auc: 0.7104\n",
      "Epoch 2/100\n",
      "241/241 - 29s - loss: 1.0627 - accuracy: 0.6426 - f1: 0.4514 - auc: 0.9179 - val_loss: 1.7615 - val_accuracy: 0.3571 - val_f1: 0.1405 - val_auc: 0.7241\n",
      "Epoch 3/100\n",
      "241/241 - 31s - loss: 0.8845 - accuracy: 0.7253 - f1: 0.6103 - auc: 0.9501 - val_loss: 1.6681 - val_accuracy: 0.4076 - val_f1: 0.2151 - val_auc: 0.7769\n",
      "Epoch 4/100\n",
      "241/241 - 30s - loss: 0.7697 - accuracy: 0.7814 - f1: 0.7113 - auc: 0.9677 - val_loss: 1.6801 - val_accuracy: 0.4061 - val_f1: 0.2400 - val_auc: 0.7728\n",
      "Epoch 5/100\n",
      "241/241 - 30s - loss: 0.6967 - accuracy: 0.8231 - f1: 0.7751 - auc: 0.9783 - val_loss: 1.6618 - val_accuracy: 0.4210 - val_f1: 0.2895 - val_auc: 0.7901\n",
      "Epoch 6/100\n",
      "241/241 - 30s - loss: 0.6461 - accuracy: 0.8561 - f1: 0.8222 - auc: 0.9851 - val_loss: 1.6365 - val_accuracy: 0.4413 - val_f1: 0.3256 - val_auc: 0.8014\n",
      "Epoch 7/100\n",
      "241/241 - 30s - loss: 0.6127 - accuracy: 0.8827 - f1: 0.8565 - auc: 0.9898 - val_loss: 1.7098 - val_accuracy: 0.4032 - val_f1: 0.2957 - val_auc: 0.7848\n",
      "Epoch 8/100\n",
      "241/241 - 30s - loss: 0.5866 - accuracy: 0.9019 - f1: 0.8798 - auc: 0.9926 - val_loss: 1.6168 - val_accuracy: 0.4521 - val_f1: 0.3406 - val_auc: 0.8074\n",
      "Epoch 9/100\n",
      "241/241 - 29s - loss: 0.5647 - accuracy: 0.9204 - f1: 0.9008 - auc: 0.9948 - val_loss: 1.5964 - val_accuracy: 0.4742 - val_f1: 0.3717 - val_auc: 0.8180\n",
      "Epoch 10/100\n",
      "241/241 - 31s - loss: 0.5500 - accuracy: 0.9346 - f1: 0.9192 - auc: 0.9963 - val_loss: 1.6363 - val_accuracy: 0.4556 - val_f1: 0.3592 - val_auc: 0.8096\n",
      "Epoch 11/100\n",
      "241/241 - 29s - loss: 0.5366 - accuracy: 0.9456 - f1: 0.9314 - auc: 0.9974 - val_loss: 1.6323 - val_accuracy: 0.4609 - val_f1: 0.3645 - val_auc: 0.8101\n",
      "Epoch 12/100\n",
      "241/241 - 29s - loss: 0.5284 - accuracy: 0.9538 - f1: 0.9417 - auc: 0.9981 - val_loss: 1.6781 - val_accuracy: 0.4386 - val_f1: 0.3418 - val_auc: 0.7991\n",
      "Restoring model weights from the end of the best epoch.\n",
      "Epoch 00012: early stopping\n",
      "Epoch 1/100\n",
      "241/241 - 31s - loss: 1.5072 - accuracy: 0.4253 - f1: 0.1811 - auc: 0.8006 - val_loss: 1.8573 - val_accuracy: 0.2788 - val_f1: 0.0389 - val_auc: 0.6741\n",
      "Epoch 2/100\n",
      "241/241 - 30s - loss: 1.0568 - accuracy: 0.6370 - f1: 0.4578 - auc: 0.9167 - val_loss: 1.7394 - val_accuracy: 0.3431 - val_f1: 0.1070 - val_auc: 0.7406\n",
      "Epoch 3/100\n",
      "241/241 - 29s - loss: 0.8736 - accuracy: 0.7215 - f1: 0.6134 - auc: 0.9492 - val_loss: 1.7133 - val_accuracy: 0.3701 - val_f1: 0.1913 - val_auc: 0.7635\n",
      "Epoch 4/100\n",
      "241/241 - 30s - loss: 0.7651 - accuracy: 0.7797 - f1: 0.7091 - auc: 0.9674 - val_loss: 1.6084 - val_accuracy: 0.4404 - val_f1: 0.2851 - val_auc: 0.8023\n",
      "Epoch 5/100\n",
      "241/241 - 30s - loss: 0.6911 - accuracy: 0.8243 - f1: 0.7778 - auc: 0.9784 - val_loss: 1.5809 - val_accuracy: 0.4651 - val_f1: 0.3410 - val_auc: 0.8143\n",
      "Epoch 6/100\n",
      "241/241 - 29s - loss: 0.6425 - accuracy: 0.8600 - f1: 0.8265 - auc: 0.9859 - val_loss: 1.5954 - val_accuracy: 0.4605 - val_f1: 0.3345 - val_auc: 0.8079\n",
      "Epoch 7/100\n",
      "241/241 - 29s - loss: 0.6086 - accuracy: 0.8846 - f1: 0.8580 - auc: 0.9900 - val_loss: 1.5721 - val_accuracy: 0.4840 - val_f1: 0.3895 - val_auc: 0.8204\n",
      "Epoch 8/100\n",
      "241/241 - 30s - loss: 0.5841 - accuracy: 0.9051 - f1: 0.8855 - auc: 0.9930 - val_loss: 1.5816 - val_accuracy: 0.4814 - val_f1: 0.3872 - val_auc: 0.8193\n",
      "Epoch 9/100\n",
      "241/241 - 29s - loss: 0.5659 - accuracy: 0.9219 - f1: 0.9046 - auc: 0.9950 - val_loss: 1.5837 - val_accuracy: 0.4825 - val_f1: 0.3902 - val_auc: 0.8179\n",
      "Epoch 10/100\n",
      "241/241 - 28s - loss: 0.5513 - accuracy: 0.9364 - f1: 0.9204 - auc: 0.9963 - val_loss: 1.5729 - val_accuracy: 0.4911 - val_f1: 0.4008 - val_auc: 0.8216\n",
      "Epoch 11/100\n",
      "241/241 - 29s - loss: 0.5367 - accuracy: 0.9472 - f1: 0.9335 - auc: 0.9975 - val_loss: 1.5793 - val_accuracy: 0.4893 - val_f1: 0.4064 - val_auc: 0.8220\n",
      "Epoch 12/100\n",
      "241/241 - 29s - loss: 0.5269 - accuracy: 0.9552 - f1: 0.9427 - auc: 0.9980 - val_loss: 1.5760 - val_accuracy: 0.4961 - val_f1: 0.4175 - val_auc: 0.8244\n",
      "Epoch 13/100\n",
      "241/241 - 28s - loss: 0.5195 - accuracy: 0.9621 - f1: 0.9507 - auc: 0.9985 - val_loss: 1.6218 - val_accuracy: 0.4730 - val_f1: 0.3914 - val_auc: 0.8121\n",
      "Epoch 14/100\n",
      "241/241 - 28s - loss: 0.5130 - accuracy: 0.9679 - f1: 0.9571 - auc: 0.9989 - val_loss: 1.5797 - val_accuracy: 0.4955 - val_f1: 0.4168 - val_auc: 0.8233\n",
      "Epoch 15/100\n",
      "241/241 - 30s - loss: 0.5084 - accuracy: 0.9718 - f1: 0.9621 - auc: 0.9991 - val_loss: 1.6019 - val_accuracy: 0.4851 - val_f1: 0.4062 - val_auc: 0.8175\n",
      "Restoring model weights from the end of the best epoch.\n",
      "Epoch 00015: early stopping\n",
      "Epoch 1/100\n",
      "241/241 - 31s - loss: 1.4913 - accuracy: 0.4499 - f1: 0.1928 - auc: 0.8163 - val_loss: 1.7613 - val_accuracy: 0.3537 - val_f1: 0.0965 - val_auc: 0.7214\n",
      "Epoch 2/100\n",
      "241/241 - 28s - loss: 1.0501 - accuracy: 0.6404 - f1: 0.4629 - auc: 0.9177 - val_loss: 1.6941 - val_accuracy: 0.3991 - val_f1: 0.1724 - val_auc: 0.7631\n",
      "Epoch 3/100\n",
      "241/241 - 28s - loss: 0.8706 - accuracy: 0.7274 - f1: 0.6192 - auc: 0.9497 - val_loss: 1.6448 - val_accuracy: 0.4339 - val_f1: 0.2671 - val_auc: 0.7900\n",
      "Epoch 4/100\n",
      "241/241 - 29s - loss: 0.7664 - accuracy: 0.7838 - f1: 0.7159 - auc: 0.9669 - val_loss: 1.6669 - val_accuracy: 0.4301 - val_f1: 0.2808 - val_auc: 0.7842\n",
      "Epoch 5/100\n",
      "241/241 - 29s - loss: 0.6924 - accuracy: 0.8267 - f1: 0.7800 - auc: 0.9780 - val_loss: 1.6307 - val_accuracy: 0.4642 - val_f1: 0.3514 - val_auc: 0.8024\n",
      "Epoch 6/100\n",
      "241/241 - 29s - loss: 0.6454 - accuracy: 0.8603 - f1: 0.8270 - auc: 0.9848 - val_loss: 1.6406 - val_accuracy: 0.4612 - val_f1: 0.3412 - val_auc: 0.7980\n",
      "Epoch 7/100\n",
      "241/241 - 28s - loss: 0.6113 - accuracy: 0.8860 - f1: 0.8598 - auc: 0.9896 - val_loss: 1.6357 - val_accuracy: 0.4685 - val_f1: 0.3680 - val_auc: 0.8040\n",
      "Epoch 8/100\n",
      "241/241 - 28s - loss: 0.5849 - accuracy: 0.9064 - f1: 0.8862 - auc: 0.9928 - val_loss: 1.7019 - val_accuracy: 0.4358 - val_f1: 0.3386 - val_auc: 0.7881\n",
      "Epoch 9/100\n",
      "241/241 - 28s - loss: 0.5664 - accuracy: 0.9225 - f1: 0.9040 - auc: 0.9947 - val_loss: 1.6480 - val_accuracy: 0.4619 - val_f1: 0.3730 - val_auc: 0.8031\n",
      "Epoch 10/100\n",
      "241/241 - 28s - loss: 0.5520 - accuracy: 0.9350 - f1: 0.9196 - auc: 0.9962 - val_loss: 1.6612 - val_accuracy: 0.4627 - val_f1: 0.3817 - val_auc: 0.8033\n",
      "Epoch 11/100\n",
      "241/241 - 28s - loss: 0.5375 - accuracy: 0.9476 - f1: 0.9327 - auc: 0.9973 - val_loss: 1.6557 - val_accuracy: 0.4757 - val_f1: 0.3971 - val_auc: 0.8061\n",
      "Epoch 12/100\n",
      "241/241 - 27s - loss: 0.5268 - accuracy: 0.9569 - f1: 0.9446 - auc: 0.9981 - val_loss: 1.6809 - val_accuracy: 0.4598 - val_f1: 0.3793 - val_auc: 0.7986\n",
      "Epoch 13/100\n",
      "241/241 - 28s - loss: 0.5185 - accuracy: 0.9633 - f1: 0.9522 - auc: 0.9986 - val_loss: 1.6493 - val_accuracy: 0.4833 - val_f1: 0.4092 - val_auc: 0.8096\n",
      "Epoch 14/100\n",
      "241/241 - 28s - loss: 0.5114 - accuracy: 0.9689 - f1: 0.9586 - auc: 0.9990 - val_loss: 1.6746 - val_accuracy: 0.4699 - val_f1: 0.3941 - val_auc: 0.8024\n",
      "Epoch 15/100\n",
      "241/241 - 28s - loss: 0.5071 - accuracy: 0.9726 - f1: 0.9630 - auc: 0.9992 - val_loss: 1.6717 - val_accuracy: 0.4752 - val_f1: 0.3983 - val_auc: 0.8022\n",
      "Epoch 16/100\n",
      "241/241 - 28s - loss: 0.5020 - accuracy: 0.9762 - f1: 0.9674 - auc: 0.9994 - val_loss: 1.6680 - val_accuracy: 0.4780 - val_f1: 0.4041 - val_auc: 0.8047\n",
      "Restoring model weights from the end of the best epoch.\n",
      "Epoch 00016: early stopping\n",
      "Epoch 1/100\n",
      "241/241 - 30s - loss: 1.4916 - accuracy: 0.4422 - f1: 0.1826 - auc: 0.8070 - val_loss: 1.8198 - val_accuracy: 0.2967 - val_f1: 0.0388 - val_auc: 0.6962\n",
      "Epoch 2/100\n",
      "241/241 - 28s - loss: 1.0601 - accuracy: 0.6346 - f1: 0.4495 - auc: 0.9159 - val_loss: 1.7739 - val_accuracy: 0.3569 - val_f1: 0.1171 - val_auc: 0.7224\n",
      "Epoch 3/100\n",
      "241/241 - 27s - loss: 0.8805 - accuracy: 0.7225 - f1: 0.6095 - auc: 0.9496 - val_loss: 1.6667 - val_accuracy: 0.4225 - val_f1: 0.2490 - val_auc: 0.7787\n",
      "Epoch 4/100\n",
      "241/241 - 28s - loss: 0.7634 - accuracy: 0.7828 - f1: 0.7133 - auc: 0.9682 - val_loss: 1.6973 - val_accuracy: 0.4060 - val_f1: 0.2535 - val_auc: 0.7739\n",
      "Epoch 5/100\n",
      "241/241 - 28s - loss: 0.6950 - accuracy: 0.8231 - f1: 0.7762 - auc: 0.9782 - val_loss: 1.6772 - val_accuracy: 0.4335 - val_f1: 0.3055 - val_auc: 0.7843\n",
      "Epoch 6/100\n",
      "241/241 - 27s - loss: 0.6431 - accuracy: 0.8577 - f1: 0.8233 - auc: 0.9853 - val_loss: 1.6317 - val_accuracy: 0.4568 - val_f1: 0.3397 - val_auc: 0.8001\n",
      "Epoch 7/100\n",
      "241/241 - 27s - loss: 0.6227 - accuracy: 0.8801 - f1: 0.8506 - auc: 0.9888 - val_loss: 1.6230 - val_accuracy: 0.4729 - val_f1: 0.3699 - val_auc: 0.8071\n",
      "Epoch 8/100\n",
      "241/241 - 27s - loss: 0.5878 - accuracy: 0.9042 - f1: 0.8829 - auc: 0.9926 - val_loss: 1.6381 - val_accuracy: 0.4617 - val_f1: 0.3603 - val_auc: 0.8032\n",
      "Epoch 9/100\n",
      "241/241 - 28s - loss: 0.5692 - accuracy: 0.9204 - f1: 0.9018 - auc: 0.9946 - val_loss: 1.6471 - val_accuracy: 0.4606 - val_f1: 0.3677 - val_auc: 0.8039\n",
      "Epoch 10/100\n",
      "241/241 - 28s - loss: 0.5522 - accuracy: 0.9339 - f1: 0.9187 - auc: 0.9962 - val_loss: 1.6423 - val_accuracy: 0.4697 - val_f1: 0.3851 - val_auc: 0.8082\n",
      "Epoch 11/100\n",
      "241/241 - 28s - loss: 0.5395 - accuracy: 0.9453 - f1: 0.9315 - auc: 0.9972 - val_loss: 1.6600 - val_accuracy: 0.4633 - val_f1: 0.3778 - val_auc: 0.8026\n",
      "Epoch 12/100\n",
      "241/241 - 27s - loss: 0.5283 - accuracy: 0.9535 - f1: 0.9413 - auc: 0.9979 - val_loss: 1.6416 - val_accuracy: 0.4849 - val_f1: 0.4052 - val_auc: 0.8121\n",
      "Epoch 13/100\n",
      "241/241 - 28s - loss: 0.5203 - accuracy: 0.9610 - f1: 0.9492 - auc: 0.9985 - val_loss: 1.6662 - val_accuracy: 0.4719 - val_f1: 0.3952 - val_auc: 0.8066\n",
      "Epoch 14/100\n",
      "241/241 - 28s - loss: 0.5146 - accuracy: 0.9654 - f1: 0.9555 - auc: 0.9988 - val_loss: 1.6526 - val_accuracy: 0.4817 - val_f1: 0.4030 - val_auc: 0.8086\n",
      "Epoch 15/100\n",
      "241/241 - 27s - loss: 0.5088 - accuracy: 0.9702 - f1: 0.9609 - auc: 0.9991 - val_loss: 1.6589 - val_accuracy: 0.4801 - val_f1: 0.4038 - val_auc: 0.8071\n",
      "Restoring model weights from the end of the best epoch.\n",
      "Epoch 00015: early stopping\n",
      "Epoch 1/100\n",
      "241/241 - 30s - loss: 1.5019 - accuracy: 0.4513 - f1: 0.1771 - auc: 0.8154 - val_loss: 1.7880 - val_accuracy: 0.3449 - val_f1: 0.0749 - val_auc: 0.7046\n",
      "Epoch 2/100\n",
      "241/241 - 29s - loss: 1.0586 - accuracy: 0.6372 - f1: 0.4533 - auc: 0.9170 - val_loss: 1.9844 - val_accuracy: 0.2594 - val_f1: 0.0472 - val_auc: 0.6318\n",
      "Epoch 3/100\n",
      "241/241 - 29s - loss: 0.8938 - accuracy: 0.7146 - f1: 0.5966 - auc: 0.9458 - val_loss: 1.6180 - val_accuracy: 0.4635 - val_f1: 0.2700 - val_auc: 0.7968\n",
      "Epoch 4/100\n",
      "241/241 - 29s - loss: 0.7731 - accuracy: 0.7774 - f1: 0.7053 - auc: 0.9668 - val_loss: 1.6528 - val_accuracy: 0.4364 - val_f1: 0.2829 - val_auc: 0.7865\n",
      "Epoch 5/100\n",
      "241/241 - 29s - loss: 0.6990 - accuracy: 0.8188 - f1: 0.7682 - auc: 0.9777 - val_loss: 1.6108 - val_accuracy: 0.4724 - val_f1: 0.3374 - val_auc: 0.8035\n",
      "Epoch 6/100\n",
      "241/241 - 28s - loss: 0.6499 - accuracy: 0.8546 - f1: 0.8170 - auc: 0.9848 - val_loss: 1.6059 - val_accuracy: 0.4790 - val_f1: 0.3591 - val_auc: 0.8072\n",
      "Epoch 7/100\n",
      "241/241 - 29s - loss: 0.6134 - accuracy: 0.8819 - f1: 0.8537 - auc: 0.9896 - val_loss: 1.6180 - val_accuracy: 0.4715 - val_f1: 0.3619 - val_auc: 0.8076\n",
      "Epoch 8/100\n",
      "241/241 - 28s - loss: 0.5877 - accuracy: 0.9021 - f1: 0.8795 - auc: 0.9926 - val_loss: 1.6599 - val_accuracy: 0.4543 - val_f1: 0.3582 - val_auc: 0.8015\n",
      "Epoch 9/100\n",
      "241/241 - 30s - loss: 0.5675 - accuracy: 0.9195 - f1: 0.9000 - auc: 0.9947 - val_loss: 1.6143 - val_accuracy: 0.4888 - val_f1: 0.3962 - val_auc: 0.8139\n",
      "Epoch 10/100\n",
      "241/241 - 29s - loss: 0.5520 - accuracy: 0.9337 - f1: 0.9173 - auc: 0.9962 - val_loss: 1.6300 - val_accuracy: 0.4741 - val_f1: 0.3793 - val_auc: 0.8090\n",
      "Epoch 11/100\n",
      "241/241 - 28s - loss: 0.5388 - accuracy: 0.9455 - f1: 0.9296 - auc: 0.9973 - val_loss: 1.6084 - val_accuracy: 0.4964 - val_f1: 0.4135 - val_auc: 0.8184\n",
      "Epoch 12/100\n",
      "241/241 - 29s - loss: 0.5290 - accuracy: 0.9548 - f1: 0.9412 - auc: 0.9981 - val_loss: 1.6373 - val_accuracy: 0.4787 - val_f1: 0.3950 - val_auc: 0.8105\n",
      "Epoch 13/100\n",
      "241/241 - 28s - loss: 0.5210 - accuracy: 0.9611 - f1: 0.9493 - auc: 0.9986 - val_loss: 1.6290 - val_accuracy: 0.4823 - val_f1: 0.3961 - val_auc: 0.8119\n",
      "Epoch 14/100\n",
      "241/241 - 28s - loss: 0.5148 - accuracy: 0.9669 - f1: 0.9556 - auc: 0.9989 - val_loss: 1.6283 - val_accuracy: 0.4864 - val_f1: 0.4037 - val_auc: 0.8133\n",
      "Restoring model weights from the end of the best epoch.\n",
      "Epoch 00014: early stopping\n"
     ]
    },
    {
     "data": {
      "text/html": [
       "<span style=\"color:#4527A0\"><h1 style=\"font-size:18px\">Trial complete</h1></span>"
      ],
      "text/plain": [
       "<IPython.core.display.HTML object>"
      ]
     },
     "metadata": {},
     "output_type": "display_data"
    },
    {
     "data": {
      "text/html": [
       "<span style=\"color:#4527A0\"><h1 style=\"font-size:18px\">Trial summary</h1></span>"
      ],
      "text/plain": [
       "<IPython.core.display.HTML object>"
      ]
     },
     "metadata": {},
     "output_type": "display_data"
    },
    {
     "data": {
      "text/html": [
       "<span style=\"color:cyan\"> |-Trial ID: 38dd1c742481b49db24681a222b8abb3</span>"
      ],
      "text/plain": [
       "<IPython.core.display.HTML object>"
      ]
     },
     "metadata": {},
     "output_type": "display_data"
    },
    {
     "data": {
      "text/html": [
       "<span style=\"color:cyan\"> |-Score: 1.6056022882461547</span>"
      ],
      "text/plain": [
       "<IPython.core.display.HTML object>"
      ]
     },
     "metadata": {},
     "output_type": "display_data"
    },
    {
     "data": {
      "text/html": [
       "<span style=\"color:cyan\"> |-Best step: 0</span>"
      ],
      "text/plain": [
       "<IPython.core.display.HTML object>"
      ]
     },
     "metadata": {},
     "output_type": "display_data"
    },
    {
     "data": {
      "text/html": [
       "<span style=\"color:#7E57C2\"><h2 style=\"font-size:16px\">Hyperparameters:</h2></span>"
      ],
      "text/plain": [
       "<IPython.core.display.HTML object>"
      ]
     },
     "metadata": {},
     "output_type": "display_data"
    },
    {
     "data": {
      "text/html": [
       "<span style=\"color:cyan\"> |-units: 2048</span>"
      ],
      "text/plain": [
       "<IPython.core.display.HTML object>"
      ]
     },
     "metadata": {},
     "output_type": "display_data"
    },
    {
     "name": "stdout",
     "output_type": "stream",
     "text": [
      "Epoch 1/100\n",
      "241/241 - 17s - loss: 1.6730 - accuracy: 0.3058 - f1: 0.0486 - auc: 0.7212 - val_loss: 1.9243 - val_accuracy: 0.1777 - val_f1: 0.0013 - val_auc: 0.6258\n",
      "Epoch 2/100\n",
      "241/241 - 14s - loss: 1.3613 - accuracy: 0.4438 - f1: 0.1373 - auc: 0.8284 - val_loss: 1.8043 - val_accuracy: 0.3138 - val_f1: 0.0031 - val_auc: 0.7040\n",
      "Epoch 3/100\n",
      "241/241 - 15s - loss: 1.2066 - accuracy: 0.5266 - f1: 0.2194 - auc: 0.8752 - val_loss: 1.7248 - val_accuracy: 0.3723 - val_f1: 0.0285 - val_auc: 0.7485\n",
      "Epoch 4/100\n",
      "241/241 - 14s - loss: 1.0939 - accuracy: 0.5896 - f1: 0.3158 - auc: 0.9038 - val_loss: 1.7282 - val_accuracy: 0.3729 - val_f1: 0.0577 - val_auc: 0.7473\n",
      "Epoch 5/100\n",
      "241/241 - 14s - loss: 1.0108 - accuracy: 0.6311 - f1: 0.4018 - auc: 0.9198 - val_loss: 1.6845 - val_accuracy: 0.3948 - val_f1: 0.1258 - val_auc: 0.7692\n",
      "Epoch 6/100\n",
      "241/241 - 14s - loss: 0.9439 - accuracy: 0.6636 - f1: 0.4768 - auc: 0.9321 - val_loss: 1.7024 - val_accuracy: 0.3817 - val_f1: 0.1383 - val_auc: 0.7648\n",
      "Epoch 7/100\n",
      "241/241 - 15s - loss: 0.8887 - accuracy: 0.6948 - f1: 0.5443 - auc: 0.9423 - val_loss: 1.6890 - val_accuracy: 0.3971 - val_f1: 0.1929 - val_auc: 0.7717\n",
      "Epoch 8/100\n",
      "241/241 - 14s - loss: 0.8416 - accuracy: 0.7179 - f1: 0.5983 - auc: 0.9496 - val_loss: 1.6637 - val_accuracy: 0.4155 - val_f1: 0.2471 - val_auc: 0.7824\n",
      "Epoch 9/100\n",
      "241/241 - 14s - loss: 0.8020 - accuracy: 0.7421 - f1: 0.6479 - auc: 0.9570 - val_loss: 1.6776 - val_accuracy: 0.4120 - val_f1: 0.2591 - val_auc: 0.7817\n",
      "Epoch 10/100\n",
      "241/241 - 14s - loss: 0.7692 - accuracy: 0.7608 - f1: 0.6859 - auc: 0.9623 - val_loss: 1.6711 - val_accuracy: 0.4186 - val_f1: 0.2750 - val_auc: 0.7854\n",
      "Epoch 11/100\n",
      "241/241 - 14s - loss: 0.7400 - accuracy: 0.7795 - f1: 0.7182 - auc: 0.9669 - val_loss: 1.6794 - val_accuracy: 0.4225 - val_f1: 0.2984 - val_auc: 0.7878\n",
      "Epoch 12/100\n",
      "241/241 - 14s - loss: 0.7154 - accuracy: 0.7955 - f1: 0.7439 - auc: 0.9710 - val_loss: 1.6760 - val_accuracy: 0.4325 - val_f1: 0.3196 - val_auc: 0.7928\n",
      "Epoch 13/100\n",
      "241/241 - 14s - loss: 0.6928 - accuracy: 0.8114 - f1: 0.7679 - auc: 0.9746 - val_loss: 1.6727 - val_accuracy: 0.4399 - val_f1: 0.3362 - val_auc: 0.7963\n",
      "Epoch 14/100\n",
      "241/241 - 14s - loss: 0.6742 - accuracy: 0.8262 - f1: 0.7907 - auc: 0.9780 - val_loss: 1.6948 - val_accuracy: 0.4303 - val_f1: 0.3318 - val_auc: 0.7905\n",
      "Epoch 15/100\n",
      "241/241 - 14s - loss: 0.6587 - accuracy: 0.8367 - f1: 0.8045 - auc: 0.9802 - val_loss: 1.6964 - val_accuracy: 0.4388 - val_f1: 0.3451 - val_auc: 0.7942\n",
      "Epoch 16/100\n",
      "241/241 - 14s - loss: 0.6437 - accuracy: 0.8484 - f1: 0.8211 - auc: 0.9827 - val_loss: 1.6933 - val_accuracy: 0.4453 - val_f1: 0.3581 - val_auc: 0.7979\n",
      "Epoch 17/100\n",
      "241/241 - 14s - loss: 0.6319 - accuracy: 0.8586 - f1: 0.8331 - auc: 0.9846 - val_loss: 1.6978 - val_accuracy: 0.4459 - val_f1: 0.3638 - val_auc: 0.7991\n",
      "Epoch 18/100\n",
      "241/241 - 14s - loss: 0.6183 - accuracy: 0.8698 - f1: 0.8453 - auc: 0.9865 - val_loss: 1.7064 - val_accuracy: 0.4501 - val_f1: 0.3723 - val_auc: 0.7990\n",
      "Epoch 19/100\n",
      "241/241 - 14s - loss: 0.6086 - accuracy: 0.8782 - f1: 0.8576 - auc: 0.9879 - val_loss: 1.6963 - val_accuracy: 0.4583 - val_f1: 0.3848 - val_auc: 0.8034\n",
      "Epoch 20/100\n",
      "241/241 - 14s - loss: 0.5993 - accuracy: 0.8864 - f1: 0.8667 - auc: 0.9894 - val_loss: 1.7337 - val_accuracy: 0.4442 - val_f1: 0.3721 - val_auc: 0.7933\n",
      "Epoch 21/100\n",
      "241/241 - 14s - loss: 0.5919 - accuracy: 0.8931 - f1: 0.8744 - auc: 0.9904 - val_loss: 1.7123 - val_accuracy: 0.4597 - val_f1: 0.3930 - val_auc: 0.8026\n",
      "Epoch 22/100\n",
      "241/241 - 14s - loss: 0.5831 - accuracy: 0.9019 - f1: 0.8847 - auc: 0.9917 - val_loss: 1.7631 - val_accuracy: 0.4404 - val_f1: 0.3765 - val_auc: 0.7919\n",
      "Epoch 23/100\n",
      "241/241 - 14s - loss: 0.5762 - accuracy: 0.9072 - f1: 0.8908 - auc: 0.9925 - val_loss: 1.7267 - val_accuracy: 0.4622 - val_f1: 0.3986 - val_auc: 0.8011\n",
      "Epoch 24/100\n",
      "241/241 - 14s - loss: 0.5695 - accuracy: 0.9147 - f1: 0.8993 - auc: 0.9934 - val_loss: 1.7397 - val_accuracy: 0.4603 - val_f1: 0.3993 - val_auc: 0.7995\n",
      "Epoch 25/100\n",
      "241/241 - 14s - loss: 0.5637 - accuracy: 0.9207 - f1: 0.9062 - auc: 0.9942 - val_loss: 1.7470 - val_accuracy: 0.4637 - val_f1: 0.4051 - val_auc: 0.7996\n",
      "Epoch 26/100\n",
      "241/241 - 14s - loss: 0.5582 - accuracy: 0.9260 - f1: 0.9120 - auc: 0.9948 - val_loss: 1.7419 - val_accuracy: 0.4682 - val_f1: 0.4115 - val_auc: 0.8012\n",
      "Epoch 27/100\n",
      "241/241 - 14s - loss: 0.5535 - accuracy: 0.9308 - f1: 0.9173 - auc: 0.9954 - val_loss: 1.7663 - val_accuracy: 0.4635 - val_f1: 0.4085 - val_auc: 0.7970\n",
      "Epoch 28/100\n",
      "241/241 - 14s - loss: 0.5491 - accuracy: 0.9358 - f1: 0.9216 - auc: 0.9958 - val_loss: 1.7681 - val_accuracy: 0.4687 - val_f1: 0.4140 - val_auc: 0.7975\n",
      "Epoch 29/100\n",
      "241/241 - 14s - loss: 0.5450 - accuracy: 0.9393 - f1: 0.9260 - auc: 0.9963 - val_loss: 1.7699 - val_accuracy: 0.4713 - val_f1: 0.4176 - val_auc: 0.7982\n",
      "Epoch 30/100\n",
      "241/241 - 14s - loss: 0.5412 - accuracy: 0.9433 - f1: 0.9309 - auc: 0.9967 - val_loss: 1.7796 - val_accuracy: 0.4681 - val_f1: 0.4161 - val_auc: 0.7954\n",
      "Epoch 31/100\n",
      "241/241 - 14s - loss: 0.5373 - accuracy: 0.9472 - f1: 0.9354 - auc: 0.9971 - val_loss: 1.7785 - val_accuracy: 0.4725 - val_f1: 0.4208 - val_auc: 0.7958\n",
      "Epoch 32/100\n",
      "241/241 - 14s - loss: 0.5340 - accuracy: 0.9504 - f1: 0.9389 - auc: 0.9974 - val_loss: 1.7898 - val_accuracy: 0.4703 - val_f1: 0.4187 - val_auc: 0.7929\n",
      "Epoch 33/100\n",
      "241/241 - 14s - loss: 0.5308 - accuracy: 0.9536 - f1: 0.9426 - auc: 0.9976 - val_loss: 1.7942 - val_accuracy: 0.4733 - val_f1: 0.4243 - val_auc: 0.7940\n",
      "Epoch 34/100\n",
      "241/241 - 14s - loss: 0.5279 - accuracy: 0.9563 - f1: 0.9441 - auc: 0.9979 - val_loss: 1.7889 - val_accuracy: 0.4808 - val_f1: 0.4326 - val_auc: 0.7963\n",
      "Epoch 35/100\n",
      "241/241 - 15s - loss: 0.5256 - accuracy: 0.9587 - f1: 0.9477 - auc: 0.9981 - val_loss: 1.8019 - val_accuracy: 0.4741 - val_f1: 0.4260 - val_auc: 0.7919\n",
      "Epoch 36/100\n",
      "241/241 - 14s - loss: 0.5229 - accuracy: 0.9611 - f1: 0.9503 - auc: 0.9983 - val_loss: 1.8081 - val_accuracy: 0.4747 - val_f1: 0.4275 - val_auc: 0.7910\n",
      "Epoch 37/100\n",
      "241/241 - 14s - loss: 0.5207 - accuracy: 0.9629 - f1: 0.9525 - auc: 0.9984 - val_loss: 1.8132 - val_accuracy: 0.4765 - val_f1: 0.4305 - val_auc: 0.7910\n",
      "Restoring model weights from the end of the best epoch.\n",
      "Epoch 00037: early stopping\n",
      "Epoch 1/100\n",
      "241/241 - 17s - loss: 1.7011 - accuracy: 0.3487 - f1: 0.0444 - auc: 0.7268 - val_loss: 1.8484 - val_accuracy: 0.2715 - val_f1: 6.9036e-04 - val_auc: 0.6620\n",
      "Epoch 2/100\n",
      "241/241 - 14s - loss: 1.3724 - accuracy: 0.4903 - f1: 0.1583 - auc: 0.8408 - val_loss: 1.7557 - val_accuracy: 0.3462 - val_f1: 0.0171 - val_auc: 0.7245\n",
      "Epoch 3/100\n",
      "241/241 - 14s - loss: 1.2105 - accuracy: 0.5664 - f1: 0.2509 - auc: 0.8829 - val_loss: 1.7402 - val_accuracy: 0.3460 - val_f1: 0.0464 - val_auc: 0.7347\n",
      "Epoch 4/100\n",
      "241/241 - 14s - loss: 1.0975 - accuracy: 0.6123 - f1: 0.3515 - auc: 0.9066 - val_loss: 1.7138 - val_accuracy: 0.3647 - val_f1: 0.0944 - val_auc: 0.7490\n",
      "Epoch 5/100\n",
      "241/241 - 14s - loss: 1.0094 - accuracy: 0.6507 - f1: 0.4431 - auc: 0.9240 - val_loss: 1.7079 - val_accuracy: 0.3717 - val_f1: 0.1245 - val_auc: 0.7525\n",
      "Epoch 6/100\n",
      "241/241 - 14s - loss: 0.9410 - accuracy: 0.6823 - f1: 0.5223 - auc: 0.9360 - val_loss: 1.6940 - val_accuracy: 0.3764 - val_f1: 0.1598 - val_auc: 0.7627\n",
      "Epoch 7/100\n",
      "241/241 - 14s - loss: 0.8862 - accuracy: 0.7040 - f1: 0.5742 - auc: 0.9442 - val_loss: 1.6464 - val_accuracy: 0.4119 - val_f1: 0.2051 - val_auc: 0.7846\n",
      "Epoch 8/100\n",
      "241/241 - 14s - loss: 0.8429 - accuracy: 0.7305 - f1: 0.6285 - auc: 0.9527 - val_loss: 1.6663 - val_accuracy: 0.4045 - val_f1: 0.2203 - val_auc: 0.7795\n",
      "Epoch 9/100\n",
      "241/241 - 14s - loss: 0.8042 - accuracy: 0.7517 - f1: 0.6637 - auc: 0.9588 - val_loss: 1.6684 - val_accuracy: 0.4083 - val_f1: 0.2348 - val_auc: 0.7814\n",
      "Epoch 10/100\n",
      "241/241 - 14s - loss: 0.7730 - accuracy: 0.7668 - f1: 0.6952 - auc: 0.9636 - val_loss: 1.6528 - val_accuracy: 0.4222 - val_f1: 0.2650 - val_auc: 0.7902\n",
      "Epoch 11/100\n",
      "241/241 - 14s - loss: 0.7457 - accuracy: 0.7848 - f1: 0.7239 - auc: 0.9684 - val_loss: 1.6810 - val_accuracy: 0.4095 - val_f1: 0.2655 - val_auc: 0.7843\n",
      "Epoch 12/100\n",
      "241/241 - 14s - loss: 0.7214 - accuracy: 0.7956 - f1: 0.7435 - auc: 0.9712 - val_loss: 1.6613 - val_accuracy: 0.4316 - val_f1: 0.2944 - val_auc: 0.7915\n",
      "Epoch 13/100\n",
      "241/241 - 14s - loss: 0.7014 - accuracy: 0.8111 - f1: 0.7667 - auc: 0.9748 - val_loss: 1.6607 - val_accuracy: 0.4368 - val_f1: 0.3149 - val_auc: 0.7946\n",
      "Epoch 14/100\n",
      "241/241 - 14s - loss: 0.6825 - accuracy: 0.8231 - f1: 0.7847 - auc: 0.9777 - val_loss: 1.6743 - val_accuracy: 0.4328 - val_f1: 0.3196 - val_auc: 0.7930\n",
      "Epoch 15/100\n",
      "241/241 - 14s - loss: 0.6667 - accuracy: 0.8335 - f1: 0.7968 - auc: 0.9799 - val_loss: 1.6668 - val_accuracy: 0.4418 - val_f1: 0.3367 - val_auc: 0.7987\n",
      "Epoch 16/100\n",
      "241/241 - 14s - loss: 0.6516 - accuracy: 0.8446 - f1: 0.8148 - auc: 0.9822 - val_loss: 1.6750 - val_accuracy: 0.4455 - val_f1: 0.3489 - val_auc: 0.7997\n",
      "Epoch 17/100\n",
      "241/241 - 14s - loss: 0.6387 - accuracy: 0.8539 - f1: 0.8263 - auc: 0.9841 - val_loss: 1.6604 - val_accuracy: 0.4623 - val_f1: 0.3764 - val_auc: 0.8065\n",
      "Epoch 18/100\n",
      "241/241 - 14s - loss: 0.6281 - accuracy: 0.8641 - f1: 0.8394 - auc: 0.9860 - val_loss: 1.7065 - val_accuracy: 0.4381 - val_f1: 0.3531 - val_auc: 0.7970\n",
      "Epoch 19/100\n",
      "241/241 - 14s - loss: 0.6177 - accuracy: 0.8714 - f1: 0.8493 - auc: 0.9874 - val_loss: 1.7065 - val_accuracy: 0.4376 - val_f1: 0.3510 - val_auc: 0.7938\n",
      "Epoch 20/100\n",
      "241/241 - 14s - loss: 0.6083 - accuracy: 0.8787 - f1: 0.8579 - auc: 0.9886 - val_loss: 1.7075 - val_accuracy: 0.4458 - val_f1: 0.3666 - val_auc: 0.7989\n",
      "Restoring model weights from the end of the best epoch.\n",
      "Epoch 00020: early stopping\n",
      "Epoch 1/100\n",
      "241/241 - 16s - loss: 1.6953 - accuracy: 0.2981 - f1: 0.0417 - auc: 0.7074 - val_loss: 1.8833 - val_accuracy: 0.2296 - val_f1: 9.5761e-04 - val_auc: 0.6370\n",
      "Epoch 2/100\n",
      "241/241 - 14s - loss: 1.3754 - accuracy: 0.4550 - f1: 0.1289 - auc: 0.8315 - val_loss: 1.8085 - val_accuracy: 0.3013 - val_f1: 0.0040 - val_auc: 0.6973\n",
      "Epoch 3/100\n",
      "241/241 - 14s - loss: 1.2148 - accuracy: 0.5364 - f1: 0.2309 - auc: 0.8788 - val_loss: 1.7528 - val_accuracy: 0.3634 - val_f1: 0.0182 - val_auc: 0.7319\n",
      "Epoch 4/100\n",
      "241/241 - 14s - loss: 1.1022 - accuracy: 0.5899 - f1: 0.3219 - auc: 0.9032 - val_loss: 1.7291 - val_accuracy: 0.3717 - val_f1: 0.0460 - val_auc: 0.7459\n",
      "Epoch 5/100\n",
      "241/241 - 14s - loss: 1.0156 - accuracy: 0.6317 - f1: 0.4085 - auc: 0.9207 - val_loss: 1.7544 - val_accuracy: 0.3550 - val_f1: 0.0710 - val_auc: 0.7380\n",
      "Epoch 6/100\n",
      "241/241 - 14s - loss: 0.9516 - accuracy: 0.6543 - f1: 0.4697 - auc: 0.9301 - val_loss: 1.7268 - val_accuracy: 0.3814 - val_f1: 0.1256 - val_auc: 0.7518\n",
      "Epoch 7/100\n",
      "241/241 - 14s - loss: 0.8965 - accuracy: 0.6862 - f1: 0.5398 - auc: 0.9411 - val_loss: 1.7124 - val_accuracy: 0.4017 - val_f1: 0.1652 - val_auc: 0.7602\n",
      "Epoch 8/100\n",
      "241/241 - 14s - loss: 0.8499 - accuracy: 0.7100 - f1: 0.5874 - auc: 0.9484 - val_loss: 1.6957 - val_accuracy: 0.4145 - val_f1: 0.2034 - val_auc: 0.7712\n",
      "Epoch 9/100\n",
      "241/241 - 14s - loss: 0.8109 - accuracy: 0.7292 - f1: 0.6281 - auc: 0.9550 - val_loss: 1.6768 - val_accuracy: 0.4319 - val_f1: 0.2578 - val_auc: 0.7815\n",
      "Epoch 10/100\n",
      "241/241 - 14s - loss: 0.7781 - accuracy: 0.7476 - f1: 0.6659 - auc: 0.9609 - val_loss: 1.6689 - val_accuracy: 0.4384 - val_f1: 0.2869 - val_auc: 0.7870\n",
      "Epoch 11/100\n",
      "241/241 - 14s - loss: 0.7506 - accuracy: 0.7666 - f1: 0.6977 - auc: 0.9657 - val_loss: 1.6994 - val_accuracy: 0.4261 - val_f1: 0.2936 - val_auc: 0.7817\n",
      "Epoch 12/100\n",
      "241/241 - 14s - loss: 0.7258 - accuracy: 0.7804 - f1: 0.7210 - auc: 0.9693 - val_loss: 1.6877 - val_accuracy: 0.4365 - val_f1: 0.3125 - val_auc: 0.7873\n",
      "Epoch 13/100\n",
      "241/241 - 14s - loss: 0.7043 - accuracy: 0.7946 - f1: 0.7427 - auc: 0.9729 - val_loss: 1.6958 - val_accuracy: 0.4359 - val_f1: 0.3180 - val_auc: 0.7853\n",
      "Epoch 14/100\n",
      "241/241 - 14s - loss: 0.6885 - accuracy: 0.8070 - f1: 0.7633 - auc: 0.9756 - val_loss: 1.6820 - val_accuracy: 0.4513 - val_f1: 0.3535 - val_auc: 0.7939\n",
      "Epoch 15/100\n",
      "241/241 - 14s - loss: 0.6701 - accuracy: 0.8200 - f1: 0.7817 - auc: 0.9785 - val_loss: 1.6742 - val_accuracy: 0.4615 - val_f1: 0.3755 - val_auc: 0.8010\n",
      "Epoch 16/100\n",
      "241/241 - 14s - loss: 0.6555 - accuracy: 0.8334 - f1: 0.7990 - auc: 0.9811 - val_loss: 1.7089 - val_accuracy: 0.4455 - val_f1: 0.3604 - val_auc: 0.7907\n",
      "Epoch 17/100\n",
      "241/241 - 14s - loss: 0.6432 - accuracy: 0.8415 - f1: 0.8094 - auc: 0.9827 - val_loss: 1.6855 - val_accuracy: 0.4652 - val_f1: 0.3893 - val_auc: 0.8027\n",
      "Epoch 18/100\n",
      "241/241 - 14s - loss: 0.6315 - accuracy: 0.8532 - f1: 0.8236 - auc: 0.9849 - val_loss: 1.7097 - val_accuracy: 0.4556 - val_f1: 0.3811 - val_auc: 0.7956\n",
      "Epoch 19/100\n",
      "241/241 - 14s - loss: 0.6210 - accuracy: 0.8620 - f1: 0.8367 - auc: 0.9864 - val_loss: 1.7155 - val_accuracy: 0.4591 - val_f1: 0.3894 - val_auc: 0.7978\n",
      "Epoch 20/100\n",
      "241/241 - 14s - loss: 0.6113 - accuracy: 0.8702 - f1: 0.8478 - auc: 0.9878 - val_loss: 1.7210 - val_accuracy: 0.4582 - val_f1: 0.3905 - val_auc: 0.7976\n",
      "Epoch 21/100\n",
      "241/241 - 15s - loss: 0.6029 - accuracy: 0.8782 - f1: 0.8560 - auc: 0.9890 - val_loss: 1.7205 - val_accuracy: 0.4653 - val_f1: 0.4022 - val_auc: 0.7995\n",
      "Epoch 22/100\n",
      "241/241 - 14s - loss: 0.5954 - accuracy: 0.8858 - f1: 0.8661 - auc: 0.9902 - val_loss: 1.7172 - val_accuracy: 0.4666 - val_f1: 0.4028 - val_auc: 0.7996\n",
      "Epoch 23/100\n",
      "241/241 - 14s - loss: 0.5880 - accuracy: 0.8934 - f1: 0.8739 - auc: 0.9912 - val_loss: 1.7600 - val_accuracy: 0.4520 - val_f1: 0.3904 - val_auc: 0.7922\n",
      "Epoch 24/100\n",
      "241/241 - 14s - loss: 0.5818 - accuracy: 0.8997 - f1: 0.8821 - auc: 0.9920 - val_loss: 1.7419 - val_accuracy: 0.4664 - val_f1: 0.4083 - val_auc: 0.7978\n",
      "Epoch 25/100\n",
      "241/241 - 14s - loss: 0.5750 - accuracy: 0.9075 - f1: 0.8909 - auc: 0.9930 - val_loss: 1.7335 - val_accuracy: 0.4735 - val_f1: 0.4174 - val_auc: 0.8009\n",
      "Epoch 26/100\n",
      "241/241 - 14s - loss: 0.5694 - accuracy: 0.9139 - f1: 0.8971 - auc: 0.9937 - val_loss: 1.7455 - val_accuracy: 0.4740 - val_f1: 0.4200 - val_auc: 0.8001\n",
      "Epoch 27/100\n",
      "241/241 - 14s - loss: 0.5639 - accuracy: 0.9193 - f1: 0.9032 - auc: 0.9943 - val_loss: 1.7405 - val_accuracy: 0.4810 - val_f1: 0.4305 - val_auc: 0.8027\n",
      "Epoch 28/100\n",
      "241/241 - 14s - loss: 0.5592 - accuracy: 0.9251 - f1: 0.9104 - auc: 0.9950 - val_loss: 1.7585 - val_accuracy: 0.4727 - val_f1: 0.4197 - val_auc: 0.7967\n",
      "Epoch 29/100\n",
      "241/241 - 14s - loss: 0.5547 - accuracy: 0.9292 - f1: 0.9147 - auc: 0.9954 - val_loss: 1.7576 - val_accuracy: 0.4766 - val_f1: 0.4264 - val_auc: 0.7990\n",
      "Epoch 30/100\n",
      "241/241 - 14s - loss: 0.5504 - accuracy: 0.9343 - f1: 0.9203 - auc: 0.9959 - val_loss: 1.7625 - val_accuracy: 0.4789 - val_f1: 0.4298 - val_auc: 0.7992\n",
      "Restoring model weights from the end of the best epoch.\n",
      "Epoch 00030: early stopping\n",
      "Epoch 1/100\n",
      "241/241 - 18s - loss: 1.6697 - accuracy: 0.3455 - f1: 0.0420 - auc: 0.7329 - val_loss: 1.9115 - val_accuracy: 0.2291 - val_f1: 0.0014 - val_auc: 0.6252\n",
      "Epoch 2/100\n",
      "241/241 - 14s - loss: 1.3623 - accuracy: 0.4777 - f1: 0.1486 - auc: 0.8380 - val_loss: 1.7961 - val_accuracy: 0.3146 - val_f1: 0.0078 - val_auc: 0.7030\n",
      "Epoch 3/100\n",
      "241/241 - 14s - loss: 1.2004 - accuracy: 0.5615 - f1: 0.2440 - auc: 0.8837 - val_loss: 1.7737 - val_accuracy: 0.3301 - val_f1: 0.0267 - val_auc: 0.7183\n",
      "Epoch 4/100\n",
      "241/241 - 14s - loss: 1.0903 - accuracy: 0.6049 - f1: 0.3341 - auc: 0.9049 - val_loss: 1.7054 - val_accuracy: 0.3872 - val_f1: 0.0672 - val_auc: 0.7546\n",
      "Epoch 5/100\n",
      "241/241 - 14s - loss: 1.0064 - accuracy: 0.6446 - f1: 0.4136 - auc: 0.9218 - val_loss: 1.7029 - val_accuracy: 0.3830 - val_f1: 0.0947 - val_auc: 0.7589\n",
      "Epoch 6/100\n",
      "241/241 - 14s - loss: 0.9447 - accuracy: 0.6792 - f1: 0.4908 - auc: 0.9349 - val_loss: 1.6947 - val_accuracy: 0.3868 - val_f1: 0.1335 - val_auc: 0.7647\n",
      "Epoch 7/100\n",
      "241/241 - 14s - loss: 0.8900 - accuracy: 0.7027 - f1: 0.5496 - auc: 0.9433 - val_loss: 1.6531 - val_accuracy: 0.4211 - val_f1: 0.1971 - val_auc: 0.7812\n",
      "Epoch 8/100\n",
      "241/241 - 14s - loss: 0.8449 - accuracy: 0.7306 - f1: 0.6030 - auc: 0.9523 - val_loss: 1.6704 - val_accuracy: 0.4070 - val_f1: 0.2122 - val_auc: 0.7796\n",
      "Epoch 9/100\n",
      "241/241 - 14s - loss: 0.8077 - accuracy: 0.7467 - f1: 0.6435 - auc: 0.9575 - val_loss: 1.6641 - val_accuracy: 0.4145 - val_f1: 0.2459 - val_auc: 0.7839\n",
      "Epoch 10/100\n",
      "241/241 - 14s - loss: 0.7755 - accuracy: 0.7655 - f1: 0.6798 - auc: 0.9632 - val_loss: 1.6537 - val_accuracy: 0.4283 - val_f1: 0.2720 - val_auc: 0.7889\n",
      "Epoch 11/100\n",
      "241/241 - 14s - loss: 0.7485 - accuracy: 0.7831 - f1: 0.7097 - auc: 0.9674 - val_loss: 1.6586 - val_accuracy: 0.4287 - val_f1: 0.2917 - val_auc: 0.7921\n",
      "Epoch 12/100\n",
      "241/241 - 15s - loss: 0.7256 - accuracy: 0.7952 - f1: 0.7333 - auc: 0.9710 - val_loss: 1.6542 - val_accuracy: 0.4343 - val_f1: 0.3094 - val_auc: 0.7951\n",
      "Epoch 13/100\n",
      "241/241 - 14s - loss: 0.7037 - accuracy: 0.8096 - f1: 0.7584 - auc: 0.9746 - val_loss: 1.6734 - val_accuracy: 0.4281 - val_f1: 0.3067 - val_auc: 0.7903\n",
      "Epoch 14/100\n",
      "241/241 - 14s - loss: 0.6853 - accuracy: 0.8217 - f1: 0.7759 - auc: 0.9771 - val_loss: 1.6629 - val_accuracy: 0.4376 - val_f1: 0.3318 - val_auc: 0.7976\n",
      "Epoch 15/100\n",
      "241/241 - 14s - loss: 0.6692 - accuracy: 0.8335 - f1: 0.7938 - auc: 0.9797 - val_loss: 1.6565 - val_accuracy: 0.4475 - val_f1: 0.3462 - val_auc: 0.8009\n",
      "Epoch 16/100\n",
      "241/241 - 14s - loss: 0.6548 - accuracy: 0.8457 - f1: 0.8106 - auc: 0.9822 - val_loss: 1.6952 - val_accuracy: 0.4315 - val_f1: 0.3351 - val_auc: 0.7925\n",
      "Epoch 17/100\n",
      "241/241 - 14s - loss: 0.6415 - accuracy: 0.8524 - f1: 0.8220 - auc: 0.9836 - val_loss: 1.6697 - val_accuracy: 0.4507 - val_f1: 0.3615 - val_auc: 0.8026\n",
      "Epoch 18/100\n",
      "241/241 - 14s - loss: 0.6299 - accuracy: 0.8638 - f1: 0.8367 - auc: 0.9856 - val_loss: 1.6905 - val_accuracy: 0.4457 - val_f1: 0.3624 - val_auc: 0.7991\n",
      "Epoch 19/100\n",
      "241/241 - 13s - loss: 0.6195 - accuracy: 0.8727 - f1: 0.8460 - auc: 0.9872 - val_loss: 1.6816 - val_accuracy: 0.4538 - val_f1: 0.3758 - val_auc: 0.8035\n",
      "Epoch 20/100\n",
      "241/241 - 13s - loss: 0.6105 - accuracy: 0.8801 - f1: 0.8561 - auc: 0.9884 - val_loss: 1.6997 - val_accuracy: 0.4523 - val_f1: 0.3769 - val_auc: 0.8024\n",
      "Epoch 21/100\n",
      "241/241 - 13s - loss: 0.6013 - accuracy: 0.8876 - f1: 0.8666 - auc: 0.9897 - val_loss: 1.7125 - val_accuracy: 0.4497 - val_f1: 0.3762 - val_auc: 0.7994\n",
      "Epoch 22/100\n",
      "241/241 - 13s - loss: 0.5934 - accuracy: 0.8946 - f1: 0.8750 - auc: 0.9908 - val_loss: 1.6893 - val_accuracy: 0.4628 - val_f1: 0.3914 - val_auc: 0.8048\n",
      "Epoch 23/100\n",
      "241/241 - 13s - loss: 0.5864 - accuracy: 0.9024 - f1: 0.8836 - auc: 0.9918 - val_loss: 1.7337 - val_accuracy: 0.4468 - val_f1: 0.3768 - val_auc: 0.7954\n",
      "Epoch 24/100\n",
      "241/241 - 13s - loss: 0.5794 - accuracy: 0.9078 - f1: 0.8905 - auc: 0.9925 - val_loss: 1.7264 - val_accuracy: 0.4541 - val_f1: 0.3857 - val_auc: 0.7970\n",
      "Epoch 25/100\n",
      "241/241 - 13s - loss: 0.5758 - accuracy: 0.9126 - f1: 0.8959 - auc: 0.9931 - val_loss: 1.7088 - val_accuracy: 0.4669 - val_f1: 0.4014 - val_auc: 0.8039\n",
      "Epoch 26/100\n",
      "241/241 - 13s - loss: 0.5682 - accuracy: 0.9188 - f1: 0.9033 - auc: 0.9939 - val_loss: 1.7403 - val_accuracy: 0.4559 - val_f1: 0.3924 - val_auc: 0.7971\n",
      "Epoch 27/100\n",
      "241/241 - 14s - loss: 0.5627 - accuracy: 0.9229 - f1: 0.9083 - auc: 0.9945 - val_loss: 1.7345 - val_accuracy: 0.4659 - val_f1: 0.4059 - val_auc: 0.8021\n",
      "Epoch 28/100\n",
      "241/241 - 14s - loss: 0.5576 - accuracy: 0.9289 - f1: 0.9153 - auc: 0.9952 - val_loss: 1.7546 - val_accuracy: 0.4585 - val_f1: 0.3985 - val_auc: 0.7970\n",
      "Epoch 29/100\n",
      "241/241 - 13s - loss: 0.5531 - accuracy: 0.9326 - f1: 0.9195 - auc: 0.9957 - val_loss: 1.7510 - val_accuracy: 0.4639 - val_f1: 0.4051 - val_auc: 0.7982\n",
      "Epoch 30/100\n",
      "241/241 - 14s - loss: 0.5491 - accuracy: 0.9361 - f1: 0.9238 - auc: 0.9960 - val_loss: 1.7601 - val_accuracy: 0.4641 - val_f1: 0.4084 - val_auc: 0.7980\n",
      "Epoch 31/100\n",
      "241/241 - 14s - loss: 0.5452 - accuracy: 0.9400 - f1: 0.9280 - auc: 0.9964 - val_loss: 1.7563 - val_accuracy: 0.4688 - val_f1: 0.4140 - val_auc: 0.7988\n",
      "Epoch 32/100\n",
      "241/241 - 14s - loss: 0.5415 - accuracy: 0.9438 - f1: 0.9320 - auc: 0.9968 - val_loss: 1.7637 - val_accuracy: 0.4699 - val_f1: 0.4170 - val_auc: 0.7984\n",
      "Epoch 33/100\n",
      "241/241 - 14s - loss: 0.5383 - accuracy: 0.9467 - f1: 0.9359 - auc: 0.9971 - val_loss: 1.7669 - val_accuracy: 0.4683 - val_f1: 0.4146 - val_auc: 0.7960\n",
      "Epoch 34/100\n",
      "241/241 - 14s - loss: 0.5351 - accuracy: 0.9497 - f1: 0.9381 - auc: 0.9974 - val_loss: 1.7576 - val_accuracy: 0.4790 - val_f1: 0.4267 - val_auc: 0.7994\n",
      "Epoch 35/100\n",
      "241/241 - 14s - loss: 0.5322 - accuracy: 0.9526 - f1: 0.9417 - auc: 0.9976 - val_loss: 1.7673 - val_accuracy: 0.4799 - val_f1: 0.4302 - val_auc: 0.7991\n",
      "Epoch 36/100\n",
      "241/241 - 13s - loss: 0.5295 - accuracy: 0.9554 - f1: 0.9453 - auc: 0.9979 - val_loss: 1.7674 - val_accuracy: 0.4812 - val_f1: 0.4325 - val_auc: 0.7994\n",
      "Epoch 37/100\n",
      "241/241 - 13s - loss: 0.5269 - accuracy: 0.9573 - f1: 0.9473 - auc: 0.9981 - val_loss: 1.7726 - val_accuracy: 0.4821 - val_f1: 0.4336 - val_auc: 0.7980\n",
      "Epoch 38/100\n",
      "241/241 - 14s - loss: 0.5245 - accuracy: 0.9595 - f1: 0.9498 - auc: 0.9982 - val_loss: 1.7934 - val_accuracy: 0.4762 - val_f1: 0.4286 - val_auc: 0.7941\n",
      "Epoch 39/100\n",
      "241/241 - 14s - loss: 0.5225 - accuracy: 0.9617 - f1: 0.9521 - auc: 0.9984 - val_loss: 1.7866 - val_accuracy: 0.4793 - val_f1: 0.4321 - val_auc: 0.7946\n",
      "Epoch 40/100\n",
      "241/241 - 13s - loss: 0.5203 - accuracy: 0.9634 - f1: 0.9536 - auc: 0.9985 - val_loss: 1.7925 - val_accuracy: 0.4788 - val_f1: 0.4324 - val_auc: 0.7939\n",
      "Restoring model weights from the end of the best epoch.\n",
      "Epoch 00040: early stopping\n",
      "Epoch 1/100\n",
      "241/241 - 17s - loss: 1.6774 - accuracy: 0.3395 - f1: 0.0456 - auc: 0.7222 - val_loss: 1.8503 - val_accuracy: 0.2547 - val_f1: 0.0029 - val_auc: 0.6612\n",
      "Epoch 2/100\n",
      "241/241 - 15s - loss: 1.3491 - accuracy: 0.4971 - f1: 0.1755 - auc: 0.8457 - val_loss: 1.7639 - val_accuracy: 0.3302 - val_f1: 0.0253 - val_auc: 0.7203\n",
      "Epoch 3/100\n",
      "241/241 - 15s - loss: 1.1882 - accuracy: 0.5761 - f1: 0.2777 - auc: 0.8884 - val_loss: 1.7574 - val_accuracy: 0.3285 - val_f1: 0.0590 - val_auc: 0.7280\n",
      "Epoch 4/100\n",
      "241/241 - 14s - loss: 1.0784 - accuracy: 0.6251 - f1: 0.3734 - auc: 0.9129 - val_loss: 1.7452 - val_accuracy: 0.3403 - val_f1: 0.0796 - val_auc: 0.7365\n",
      "Epoch 5/100\n",
      "241/241 - 14s - loss: 0.9948 - accuracy: 0.6563 - f1: 0.4533 - auc: 0.9263 - val_loss: 1.6798 - val_accuracy: 0.3903 - val_f1: 0.1445 - val_auc: 0.7696\n",
      "Epoch 6/100\n",
      "241/241 - 13s - loss: 0.9302 - accuracy: 0.6901 - f1: 0.5312 - auc: 0.9391 - val_loss: 1.6921 - val_accuracy: 0.3792 - val_f1: 0.1614 - val_auc: 0.7674\n",
      "Epoch 7/100\n",
      "241/241 - 15s - loss: 0.8768 - accuracy: 0.7149 - f1: 0.5913 - auc: 0.9476 - val_loss: 1.6882 - val_accuracy: 0.3899 - val_f1: 0.1906 - val_auc: 0.7725\n",
      "Epoch 8/100\n",
      "241/241 - 14s - loss: 0.8331 - accuracy: 0.7358 - f1: 0.6356 - auc: 0.9547 - val_loss: 1.6823 - val_accuracy: 0.4009 - val_f1: 0.2175 - val_auc: 0.7770\n",
      "Epoch 9/100\n",
      "241/241 - 14s - loss: 0.7966 - accuracy: 0.7551 - f1: 0.6745 - auc: 0.9605 - val_loss: 1.6850 - val_accuracy: 0.4078 - val_f1: 0.2399 - val_auc: 0.7803\n",
      "Epoch 10/100\n",
      "241/241 - 13s - loss: 0.7668 - accuracy: 0.7720 - f1: 0.7058 - auc: 0.9656 - val_loss: 1.6750 - val_accuracy: 0.4208 - val_f1: 0.2671 - val_auc: 0.7865\n",
      "Epoch 11/100\n",
      "241/241 - 13s - loss: 0.7386 - accuracy: 0.7875 - f1: 0.7305 - auc: 0.9695 - val_loss: 1.6849 - val_accuracy: 0.4191 - val_f1: 0.2837 - val_auc: 0.7889\n",
      "Epoch 12/100\n",
      "241/241 - 13s - loss: 0.7164 - accuracy: 0.7999 - f1: 0.7518 - auc: 0.9731 - val_loss: 1.6652 - val_accuracy: 0.4358 - val_f1: 0.3096 - val_auc: 0.7949\n",
      "Epoch 13/100\n",
      "241/241 - 14s - loss: 0.6947 - accuracy: 0.8168 - f1: 0.7762 - auc: 0.9769 - val_loss: 1.6982 - val_accuracy: 0.4228 - val_f1: 0.3003 - val_auc: 0.7875\n",
      "Epoch 14/100\n",
      "241/241 - 14s - loss: 0.6776 - accuracy: 0.8271 - f1: 0.7912 - auc: 0.9792 - val_loss: 1.6835 - val_accuracy: 0.4328 - val_f1: 0.3237 - val_auc: 0.7935\n",
      "Epoch 15/100\n",
      "241/241 - 13s - loss: 0.6628 - accuracy: 0.8370 - f1: 0.8046 - auc: 0.9812 - val_loss: 1.6796 - val_accuracy: 0.4399 - val_f1: 0.3403 - val_auc: 0.7985\n",
      "Epoch 16/100\n",
      "241/241 - 13s - loss: 0.6487 - accuracy: 0.8497 - f1: 0.8212 - auc: 0.9836 - val_loss: 1.7377 - val_accuracy: 0.4144 - val_f1: 0.3167 - val_auc: 0.7847\n",
      "Epoch 17/100\n",
      "241/241 - 13s - loss: 0.6361 - accuracy: 0.8577 - f1: 0.8318 - auc: 0.9852 - val_loss: 1.7221 - val_accuracy: 0.4255 - val_f1: 0.3353 - val_auc: 0.7917\n",
      "Epoch 18/100\n",
      "241/241 - 13s - loss: 0.6248 - accuracy: 0.8666 - f1: 0.8435 - auc: 0.9868 - val_loss: 1.7138 - val_accuracy: 0.4370 - val_f1: 0.3516 - val_auc: 0.7952\n",
      "Epoch 19/100\n",
      "241/241 - 14s - loss: 0.6151 - accuracy: 0.8755 - f1: 0.8542 - auc: 0.9882 - val_loss: 1.7131 - val_accuracy: 0.4427 - val_f1: 0.3621 - val_auc: 0.7978\n",
      "Epoch 20/100\n",
      "241/241 - 14s - loss: 0.6061 - accuracy: 0.8833 - f1: 0.8642 - auc: 0.9895 - val_loss: 1.7222 - val_accuracy: 0.4416 - val_f1: 0.3636 - val_auc: 0.7958\n",
      "Epoch 21/100\n",
      "241/241 - 15s - loss: 0.5972 - accuracy: 0.8908 - f1: 0.8728 - auc: 0.9906 - val_loss: 1.7295 - val_accuracy: 0.4405 - val_f1: 0.3647 - val_auc: 0.7961\n",
      "Epoch 22/100\n",
      "241/241 - 14s - loss: 0.5895 - accuracy: 0.8980 - f1: 0.8798 - auc: 0.9916 - val_loss: 1.7498 - val_accuracy: 0.4362 - val_f1: 0.3656 - val_auc: 0.7931\n",
      "Epoch 23/100\n",
      "241/241 - 13s - loss: 0.5826 - accuracy: 0.9043 - f1: 0.8876 - auc: 0.9925 - val_loss: 1.7477 - val_accuracy: 0.4425 - val_f1: 0.3751 - val_auc: 0.7943\n",
      "Epoch 24/100\n",
      "241/241 - 13s - loss: 0.5762 - accuracy: 0.9106 - f1: 0.8950 - auc: 0.9933 - val_loss: 1.7509 - val_accuracy: 0.4429 - val_f1: 0.3770 - val_auc: 0.7941\n",
      "Epoch 25/100\n",
      "241/241 - 13s - loss: 0.5708 - accuracy: 0.9158 - f1: 0.9011 - auc: 0.9938 - val_loss: 1.7525 - val_accuracy: 0.4466 - val_f1: 0.3829 - val_auc: 0.7955\n",
      "Epoch 26/100\n",
      "241/241 - 13s - loss: 0.5654 - accuracy: 0.9213 - f1: 0.9075 - auc: 0.9945 - val_loss: 1.7739 - val_accuracy: 0.4399 - val_f1: 0.3781 - val_auc: 0.7914\n",
      "Epoch 27/100\n",
      "241/241 - 13s - loss: 0.5603 - accuracy: 0.9259 - f1: 0.9127 - auc: 0.9951 - val_loss: 1.7749 - val_accuracy: 0.4422 - val_f1: 0.3819 - val_auc: 0.7919\n",
      "Epoch 28/100\n",
      "241/241 - 13s - loss: 0.5557 - accuracy: 0.9302 - f1: 0.9179 - auc: 0.9955 - val_loss: 1.7916 - val_accuracy: 0.4383 - val_f1: 0.3792 - val_auc: 0.7896\n",
      "Restoring model weights from the end of the best epoch.\n",
      "Epoch 00028: early stopping\n"
     ]
    },
    {
     "data": {
      "text/html": [
       "<span style=\"color:#4527A0\"><h1 style=\"font-size:18px\">Trial complete</h1></span>"
      ],
      "text/plain": [
       "<IPython.core.display.HTML object>"
      ]
     },
     "metadata": {},
     "output_type": "display_data"
    },
    {
     "data": {
      "text/html": [
       "<span style=\"color:#4527A0\"><h1 style=\"font-size:18px\">Trial summary</h1></span>"
      ],
      "text/plain": [
       "<IPython.core.display.HTML object>"
      ]
     },
     "metadata": {},
     "output_type": "display_data"
    },
    {
     "data": {
      "text/html": [
       "<span style=\"color:cyan\"> |-Trial ID: 657d34d874f89ae234e8b91bff3d7f8f</span>"
      ],
      "text/plain": [
       "<IPython.core.display.HTML object>"
      ]
     },
     "metadata": {},
     "output_type": "display_data"
    },
    {
     "data": {
      "text/html": [
       "<span style=\"color:cyan\"> |-Score: 1.6594663858413696</span>"
      ],
      "text/plain": [
       "<IPython.core.display.HTML object>"
      ]
     },
     "metadata": {},
     "output_type": "display_data"
    },
    {
     "data": {
      "text/html": [
       "<span style=\"color:cyan\"> |-Best step: 0</span>"
      ],
      "text/plain": [
       "<IPython.core.display.HTML object>"
      ]
     },
     "metadata": {},
     "output_type": "display_data"
    },
    {
     "data": {
      "text/html": [
       "<span style=\"color:#7E57C2\"><h2 style=\"font-size:16px\">Hyperparameters:</h2></span>"
      ],
      "text/plain": [
       "<IPython.core.display.HTML object>"
      ]
     },
     "metadata": {},
     "output_type": "display_data"
    },
    {
     "data": {
      "text/html": [
       "<span style=\"color:cyan\"> |-units: 256</span>"
      ],
      "text/plain": [
       "<IPython.core.display.HTML object>"
      ]
     },
     "metadata": {},
     "output_type": "display_data"
    },
    {
     "name": "stdout",
     "output_type": "stream",
     "text": [
      "Epoch 1/100\n",
      "241/241 - 25s - loss: 1.5164 - accuracy: 0.4362 - f1: 0.1732 - auc: 0.8063 - val_loss: 1.8638 - val_accuracy: 0.2470 - val_f1: 0.0425 - val_auc: 0.6695\n",
      "Epoch 2/100\n",
      "241/241 - 23s - loss: 1.0835 - accuracy: 0.6224 - f1: 0.4302 - auc: 0.9108 - val_loss: 1.6938 - val_accuracy: 0.3918 - val_f1: 0.1268 - val_auc: 0.7631\n",
      "Epoch 3/100\n",
      "241/241 - 23s - loss: 0.8993 - accuracy: 0.7065 - f1: 0.5810 - auc: 0.9438 - val_loss: 1.6557 - val_accuracy: 0.4114 - val_f1: 0.2138 - val_auc: 0.7833\n",
      "Epoch 4/100\n",
      "241/241 - 23s - loss: 0.7891 - accuracy: 0.7668 - f1: 0.6816 - auc: 0.9626 - val_loss: 1.6535 - val_accuracy: 0.4162 - val_f1: 0.2417 - val_auc: 0.7864\n",
      "Epoch 5/100\n",
      "241/241 - 23s - loss: 0.7149 - accuracy: 0.8100 - f1: 0.7502 - auc: 0.9743 - val_loss: 1.6166 - val_accuracy: 0.4526 - val_f1: 0.2853 - val_auc: 0.7986\n",
      "Epoch 6/100\n",
      "241/241 - 23s - loss: 0.6669 - accuracy: 0.8399 - f1: 0.7973 - auc: 0.9814 - val_loss: 1.6311 - val_accuracy: 0.4420 - val_f1: 0.2997 - val_auc: 0.7983\n",
      "Epoch 7/100\n",
      "241/241 - 23s - loss: 0.6298 - accuracy: 0.8665 - f1: 0.8320 - auc: 0.9863 - val_loss: 1.6152 - val_accuracy: 0.4651 - val_f1: 0.3405 - val_auc: 0.8065\n",
      "Epoch 8/100\n",
      "241/241 - 23s - loss: 0.6012 - accuracy: 0.8886 - f1: 0.8628 - auc: 0.9902 - val_loss: 1.6577 - val_accuracy: 0.4340 - val_f1: 0.3101 - val_auc: 0.7949\n",
      "Epoch 9/100\n",
      "241/241 - 23s - loss: 0.5819 - accuracy: 0.9041 - f1: 0.8820 - auc: 0.9925 - val_loss: 1.6149 - val_accuracy: 0.4723 - val_f1: 0.3624 - val_auc: 0.8109\n",
      "Epoch 10/100\n",
      "241/241 - 24s - loss: 0.5647 - accuracy: 0.9193 - f1: 0.9001 - auc: 0.9946 - val_loss: 1.6106 - val_accuracy: 0.4779 - val_f1: 0.3703 - val_auc: 0.8119\n",
      "Epoch 11/100\n",
      "241/241 - 24s - loss: 0.5526 - accuracy: 0.9295 - f1: 0.9134 - auc: 0.9958 - val_loss: 1.6169 - val_accuracy: 0.4742 - val_f1: 0.3695 - val_auc: 0.8108\n",
      "Epoch 12/100\n",
      "241/241 - 24s - loss: 0.5412 - accuracy: 0.9401 - f1: 0.9253 - auc: 0.9968 - val_loss: 1.6156 - val_accuracy: 0.4823 - val_f1: 0.3787 - val_auc: 0.8122\n",
      "Epoch 13/100\n",
      "241/241 - 24s - loss: 0.5324 - accuracy: 0.9491 - f1: 0.9352 - auc: 0.9976 - val_loss: 1.6118 - val_accuracy: 0.4820 - val_f1: 0.3785 - val_auc: 0.8122\n",
      "Epoch 14/100\n",
      "241/241 - 24s - loss: 0.5261 - accuracy: 0.9550 - f1: 0.9417 - auc: 0.9980 - val_loss: 1.6380 - val_accuracy: 0.4766 - val_f1: 0.3792 - val_auc: 0.8096\n",
      "Epoch 15/100\n",
      "241/241 - 24s - loss: 0.5189 - accuracy: 0.9609 - f1: 0.9488 - auc: 0.9985 - val_loss: 1.6150 - val_accuracy: 0.4903 - val_f1: 0.3931 - val_auc: 0.8137\n",
      "Epoch 16/100\n",
      "241/241 - 24s - loss: 0.5136 - accuracy: 0.9659 - f1: 0.9552 - auc: 0.9988 - val_loss: 1.6278 - val_accuracy: 0.4849 - val_f1: 0.3895 - val_auc: 0.8109\n",
      "Epoch 17/100\n",
      "241/241 - 24s - loss: 0.5089 - accuracy: 0.9700 - f1: 0.9598 - auc: 0.9991 - val_loss: 1.6348 - val_accuracy: 0.4834 - val_f1: 0.3875 - val_auc: 0.8090\n",
      "Epoch 18/100\n",
      "241/241 - 24s - loss: 0.5054 - accuracy: 0.9732 - f1: 0.9639 - auc: 0.9992 - val_loss: 1.6423 - val_accuracy: 0.4808 - val_f1: 0.3870 - val_auc: 0.8079\n",
      "Restoring model weights from the end of the best epoch.\n",
      "Epoch 00018: early stopping\n",
      "Epoch 1/100\n",
      "241/241 - 26s - loss: 1.5370 - accuracy: 0.3960 - f1: 0.1500 - auc: 0.7778 - val_loss: 1.9108 - val_accuracy: 0.2312 - val_f1: 0.0327 - val_auc: 0.6537\n",
      "Epoch 2/100\n",
      "241/241 - 24s - loss: 1.1009 - accuracy: 0.6026 - f1: 0.4007 - auc: 0.9029 - val_loss: 1.7064 - val_accuracy: 0.3760 - val_f1: 0.0835 - val_auc: 0.7598\n",
      "Epoch 3/100\n",
      "241/241 - 24s - loss: 0.9135 - accuracy: 0.6953 - f1: 0.5615 - auc: 0.9411 - val_loss: 1.6738 - val_accuracy: 0.4082 - val_f1: 0.1577 - val_auc: 0.7749\n",
      "Epoch 4/100\n",
      "241/241 - 24s - loss: 0.7997 - accuracy: 0.7562 - f1: 0.6653 - auc: 0.9608 - val_loss: 1.6613 - val_accuracy: 0.4125 - val_f1: 0.2204 - val_auc: 0.7867\n",
      "Epoch 5/100\n",
      "241/241 - 24s - loss: 0.7298 - accuracy: 0.7985 - f1: 0.7344 - auc: 0.9725 - val_loss: 1.6098 - val_accuracy: 0.4630 - val_f1: 0.2878 - val_auc: 0.8039\n",
      "Epoch 6/100\n",
      "241/241 - 24s - loss: 0.6759 - accuracy: 0.8301 - f1: 0.7846 - auc: 0.9805 - val_loss: 1.6494 - val_accuracy: 0.4314 - val_f1: 0.2699 - val_auc: 0.7914\n",
      "Epoch 7/100\n",
      "241/241 - 24s - loss: 0.6389 - accuracy: 0.8549 - f1: 0.8193 - auc: 0.9854 - val_loss: 1.6005 - val_accuracy: 0.4669 - val_f1: 0.3295 - val_auc: 0.8100\n",
      "Epoch 8/100\n",
      "241/241 - 24s - loss: 0.6116 - accuracy: 0.8801 - f1: 0.8510 - auc: 0.9895 - val_loss: 1.6004 - val_accuracy: 0.4693 - val_f1: 0.3412 - val_auc: 0.8112\n",
      "Epoch 9/100\n",
      "241/241 - 24s - loss: 0.5896 - accuracy: 0.8986 - f1: 0.8747 - auc: 0.9920 - val_loss: 1.6025 - val_accuracy: 0.4707 - val_f1: 0.3497 - val_auc: 0.8111\n",
      "Epoch 10/100\n",
      "241/241 - 24s - loss: 0.5728 - accuracy: 0.9134 - f1: 0.8930 - auc: 0.9940 - val_loss: 1.5976 - val_accuracy: 0.4801 - val_f1: 0.3663 - val_auc: 0.8153\n",
      "Epoch 11/100\n",
      "241/241 - 24s - loss: 0.5582 - accuracy: 0.9268 - f1: 0.9085 - auc: 0.9954 - val_loss: 1.5932 - val_accuracy: 0.4871 - val_f1: 0.3783 - val_auc: 0.8161\n",
      "Epoch 12/100\n",
      "241/241 - 24s - loss: 0.5463 - accuracy: 0.9371 - f1: 0.9205 - auc: 0.9966 - val_loss: 1.6601 - val_accuracy: 0.4444 - val_f1: 0.3356 - val_auc: 0.8008\n",
      "Epoch 13/100\n",
      "241/241 - 24s - loss: 0.5369 - accuracy: 0.9444 - f1: 0.9295 - auc: 0.9972 - val_loss: 1.6220 - val_accuracy: 0.4790 - val_f1: 0.3823 - val_auc: 0.8132\n",
      "Epoch 14/100\n",
      "241/241 - 24s - loss: 0.5309 - accuracy: 0.9514 - f1: 0.9380 - auc: 0.9978 - val_loss: 1.5827 - val_accuracy: 0.5009 - val_f1: 0.4024 - val_auc: 0.8217\n",
      "Epoch 15/100\n",
      "241/241 - 24s - loss: 0.5249 - accuracy: 0.9567 - f1: 0.9449 - auc: 0.9982 - val_loss: 1.5925 - val_accuracy: 0.5007 - val_f1: 0.4063 - val_auc: 0.8206\n",
      "Epoch 16/100\n",
      "241/241 - 24s - loss: 0.5175 - accuracy: 0.9634 - f1: 0.9522 - auc: 0.9986 - val_loss: 1.5983 - val_accuracy: 0.4987 - val_f1: 0.4046 - val_auc: 0.8195\n",
      "Epoch 17/100\n",
      "241/241 - 24s - loss: 0.5120 - accuracy: 0.9686 - f1: 0.9578 - auc: 0.9989 - val_loss: 1.6015 - val_accuracy: 0.4993 - val_f1: 0.4056 - val_auc: 0.8183\n",
      "Epoch 18/100\n",
      "241/241 - 24s - loss: 0.5076 - accuracy: 0.9724 - f1: 0.9621 - auc: 0.9991 - val_loss: 1.5950 - val_accuracy: 0.5023 - val_f1: 0.4093 - val_auc: 0.8196\n",
      "Epoch 19/100\n",
      "241/241 - 24s - loss: 0.5038 - accuracy: 0.9754 - f1: 0.9655 - auc: 0.9993 - val_loss: 1.6004 - val_accuracy: 0.5044 - val_f1: 0.4129 - val_auc: 0.8194\n",
      "Epoch 20/100\n",
      "241/241 - 24s - loss: 0.5005 - accuracy: 0.9786 - f1: 0.9688 - auc: 0.9994 - val_loss: 1.5890 - val_accuracy: 0.5135 - val_f1: 0.4221 - val_auc: 0.8226\n",
      "Epoch 21/100\n",
      "241/241 - 24s - loss: 0.4977 - accuracy: 0.9807 - f1: 0.9718 - auc: 0.9995 - val_loss: 1.6044 - val_accuracy: 0.5031 - val_f1: 0.4119 - val_auc: 0.8175\n",
      "Epoch 22/100\n",
      "241/241 - 24s - loss: 0.4951 - accuracy: 0.9827 - f1: 0.9740 - auc: 0.9996 - val_loss: 1.6088 - val_accuracy: 0.5013 - val_f1: 0.4093 - val_auc: 0.8163\n",
      "Epoch 23/100\n",
      "241/241 - 24s - loss: 0.4927 - accuracy: 0.9845 - f1: 0.9760 - auc: 0.9997 - val_loss: 1.6097 - val_accuracy: 0.5033 - val_f1: 0.4143 - val_auc: 0.8170\n",
      "Restoring model weights from the end of the best epoch.\n",
      "Epoch 00023: early stopping\n",
      "Epoch 1/100\n",
      "241/241 - 26s - loss: 1.5368 - accuracy: 0.4446 - f1: 0.1483 - auc: 0.7995 - val_loss: 1.7953 - val_accuracy: 0.3476 - val_f1: 0.0375 - val_auc: 0.7053\n",
      "Epoch 2/100\n",
      "241/241 - 24s - loss: 1.0929 - accuracy: 0.6259 - f1: 0.4112 - auc: 0.9111 - val_loss: 1.7058 - val_accuracy: 0.4065 - val_f1: 0.1359 - val_auc: 0.7525\n",
      "Epoch 3/100\n",
      "241/241 - 24s - loss: 0.9076 - accuracy: 0.7153 - f1: 0.5823 - auc: 0.9453 - val_loss: 1.6609 - val_accuracy: 0.4277 - val_f1: 0.2264 - val_auc: 0.7753\n",
      "Epoch 4/100\n",
      "241/241 - 23s - loss: 0.7971 - accuracy: 0.7661 - f1: 0.6803 - auc: 0.9628 - val_loss: 1.6255 - val_accuracy: 0.4553 - val_f1: 0.2815 - val_auc: 0.7906\n",
      "Epoch 5/100\n",
      "241/241 - 23s - loss: 0.7238 - accuracy: 0.8077 - f1: 0.7486 - auc: 0.9740 - val_loss: 1.6565 - val_accuracy: 0.4360 - val_f1: 0.2913 - val_auc: 0.7858\n",
      "Epoch 6/100\n",
      "241/241 - 23s - loss: 0.6736 - accuracy: 0.8369 - f1: 0.7931 - auc: 0.9811 - val_loss: 1.5961 - val_accuracy: 0.4804 - val_f1: 0.3594 - val_auc: 0.8095\n",
      "Epoch 7/100\n",
      "241/241 - 23s - loss: 0.6335 - accuracy: 0.8661 - f1: 0.8331 - auc: 0.9869 - val_loss: 1.6378 - val_accuracy: 0.4509 - val_f1: 0.3271 - val_auc: 0.7940\n",
      "Epoch 8/100\n",
      "241/241 - 23s - loss: 0.6069 - accuracy: 0.8846 - f1: 0.8588 - auc: 0.9901 - val_loss: 1.6069 - val_accuracy: 0.4807 - val_f1: 0.3812 - val_auc: 0.8103\n",
      "Epoch 9/100\n",
      "241/241 - 23s - loss: 0.5849 - accuracy: 0.9043 - f1: 0.8830 - auc: 0.9929 - val_loss: 1.6196 - val_accuracy: 0.4728 - val_f1: 0.3645 - val_auc: 0.8048\n",
      "Epoch 10/100\n",
      "241/241 - 23s - loss: 0.5726 - accuracy: 0.9149 - f1: 0.8970 - auc: 0.9943 - val_loss: 1.6338 - val_accuracy: 0.4641 - val_f1: 0.3517 - val_auc: 0.7998\n",
      "Epoch 11/100\n",
      "241/241 - 23s - loss: 0.5570 - accuracy: 0.9272 - f1: 0.9111 - auc: 0.9957 - val_loss: 1.6112 - val_accuracy: 0.4828 - val_f1: 0.3913 - val_auc: 0.8106\n",
      "Epoch 12/100\n",
      "241/241 - 23s - loss: 0.5462 - accuracy: 0.9371 - f1: 0.9225 - auc: 0.9968 - val_loss: 1.6052 - val_accuracy: 0.4952 - val_f1: 0.4136 - val_auc: 0.8158\n",
      "Epoch 13/100\n",
      "241/241 - 23s - loss: 0.5355 - accuracy: 0.9468 - f1: 0.9340 - auc: 0.9976 - val_loss: 1.6093 - val_accuracy: 0.4947 - val_f1: 0.4150 - val_auc: 0.8156\n",
      "Epoch 14/100\n",
      "241/241 - 23s - loss: 0.5268 - accuracy: 0.9545 - f1: 0.9426 - auc: 0.9982 - val_loss: 1.6110 - val_accuracy: 0.4958 - val_f1: 0.4179 - val_auc: 0.8147\n",
      "Epoch 15/100\n",
      "241/241 - 23s - loss: 0.5203 - accuracy: 0.9605 - f1: 0.9480 - auc: 0.9986 - val_loss: 1.6090 - val_accuracy: 0.5044 - val_f1: 0.4311 - val_auc: 0.8186\n",
      "Epoch 16/100\n",
      "241/241 - 23s - loss: 0.5152 - accuracy: 0.9660 - f1: 0.9552 - auc: 0.9989 - val_loss: 1.6124 - val_accuracy: 0.4955 - val_f1: 0.4167 - val_auc: 0.8128\n",
      "Epoch 17/100\n",
      "241/241 - 23s - loss: 0.5103 - accuracy: 0.9698 - f1: 0.9595 - auc: 0.9991 - val_loss: 1.6045 - val_accuracy: 0.4999 - val_f1: 0.4239 - val_auc: 0.8149\n",
      "Epoch 18/100\n",
      "241/241 - 23s - loss: 0.5059 - accuracy: 0.9736 - f1: 0.9631 - auc: 0.9993 - val_loss: 1.6092 - val_accuracy: 0.5092 - val_f1: 0.4369 - val_auc: 0.8179\n",
      "Epoch 19/100\n",
      "241/241 - 23s - loss: 0.5022 - accuracy: 0.9770 - f1: 0.9674 - auc: 0.9994 - val_loss: 1.6089 - val_accuracy: 0.5080 - val_f1: 0.4366 - val_auc: 0.8171\n",
      "Epoch 20/100\n",
      "241/241 - 23s - loss: 0.4992 - accuracy: 0.9795 - f1: 0.9705 - auc: 0.9995 - val_loss: 1.6197 - val_accuracy: 0.5011 - val_f1: 0.4269 - val_auc: 0.8129\n",
      "Epoch 21/100\n",
      "241/241 - 23s - loss: 0.4963 - accuracy: 0.9815 - f1: 0.9727 - auc: 0.9996 - val_loss: 1.6295 - val_accuracy: 0.4968 - val_f1: 0.4234 - val_auc: 0.8111\n",
      "Restoring model weights from the end of the best epoch.\n",
      "Epoch 00021: early stopping\n",
      "Epoch 1/100\n",
      "241/241 - 25s - loss: 1.5218 - accuracy: 0.4267 - f1: 0.1460 - auc: 0.8000 - val_loss: 1.8828 - val_accuracy: 0.2645 - val_f1: 0.0268 - val_auc: 0.6639\n",
      "Epoch 2/100\n",
      "241/241 - 23s - loss: 1.1004 - accuracy: 0.6192 - f1: 0.4075 - auc: 0.9061 - val_loss: 1.6643 - val_accuracy: 0.4092 - val_f1: 0.1452 - val_auc: 0.7714\n",
      "Epoch 3/100\n",
      "241/241 - 23s - loss: 0.9147 - accuracy: 0.7096 - f1: 0.5768 - auc: 0.9436 - val_loss: 1.6728 - val_accuracy: 0.4086 - val_f1: 0.2230 - val_auc: 0.7736\n",
      "Epoch 4/100\n",
      "241/241 - 23s - loss: 0.8180 - accuracy: 0.7563 - f1: 0.6715 - auc: 0.9596 - val_loss: 1.7251 - val_accuracy: 0.3770 - val_f1: 0.2246 - val_auc: 0.7617\n",
      "Epoch 5/100\n",
      "241/241 - 23s - loss: 0.7320 - accuracy: 0.7982 - f1: 0.7397 - auc: 0.9722 - val_loss: 1.6198 - val_accuracy: 0.4407 - val_f1: 0.3050 - val_auc: 0.7981\n",
      "Epoch 6/100\n",
      "241/241 - 23s - loss: 0.6788 - accuracy: 0.8355 - f1: 0.7933 - auc: 0.9806 - val_loss: 1.6233 - val_accuracy: 0.4428 - val_f1: 0.3189 - val_auc: 0.8016\n",
      "Epoch 7/100\n",
      "241/241 - 23s - loss: 0.6395 - accuracy: 0.8626 - f1: 0.8298 - auc: 0.9861 - val_loss: 1.6250 - val_accuracy: 0.4523 - val_f1: 0.3423 - val_auc: 0.8047\n",
      "Epoch 8/100\n",
      "241/241 - 23s - loss: 0.6107 - accuracy: 0.8855 - f1: 0.8579 - auc: 0.9898 - val_loss: 1.6023 - val_accuracy: 0.4684 - val_f1: 0.3656 - val_auc: 0.8129\n",
      "Epoch 9/100\n",
      "241/241 - 23s - loss: 0.5887 - accuracy: 0.9031 - f1: 0.8801 - auc: 0.9925 - val_loss: 1.6001 - val_accuracy: 0.4773 - val_f1: 0.3757 - val_auc: 0.8150\n",
      "Epoch 10/100\n",
      "241/241 - 23s - loss: 0.5717 - accuracy: 0.9175 - f1: 0.8987 - auc: 0.9944 - val_loss: 1.6356 - val_accuracy: 0.4604 - val_f1: 0.3680 - val_auc: 0.8096\n",
      "Epoch 11/100\n",
      "241/241 - 23s - loss: 0.5567 - accuracy: 0.9306 - f1: 0.9137 - auc: 0.9957 - val_loss: 1.6222 - val_accuracy: 0.4679 - val_f1: 0.3715 - val_auc: 0.8111\n",
      "Epoch 12/100\n",
      "241/241 - 23s - loss: 0.5450 - accuracy: 0.9407 - f1: 0.9259 - auc: 0.9968 - val_loss: 1.6185 - val_accuracy: 0.4725 - val_f1: 0.3783 - val_auc: 0.8131\n",
      "Epoch 13/100\n",
      "241/241 - 23s - loss: 0.5345 - accuracy: 0.9499 - f1: 0.9355 - auc: 0.9976 - val_loss: 1.6337 - val_accuracy: 0.4727 - val_f1: 0.3861 - val_auc: 0.8134\n",
      "Epoch 14/100\n",
      "241/241 - 23s - loss: 0.5267 - accuracy: 0.9567 - f1: 0.9442 - auc: 0.9982 - val_loss: 1.6442 - val_accuracy: 0.4692 - val_f1: 0.3852 - val_auc: 0.8114\n",
      "Epoch 15/100\n",
      "241/241 - 23s - loss: 0.5205 - accuracy: 0.9619 - f1: 0.9503 - auc: 0.9986 - val_loss: 1.6270 - val_accuracy: 0.4777 - val_f1: 0.3929 - val_auc: 0.8143\n",
      "Epoch 16/100\n",
      "241/241 - 23s - loss: 0.5145 - accuracy: 0.9670 - f1: 0.9562 - auc: 0.9988 - val_loss: 1.6316 - val_accuracy: 0.4842 - val_f1: 0.4032 - val_auc: 0.8157\n",
      "Epoch 17/100\n",
      "241/241 - 23s - loss: 0.5095 - accuracy: 0.9711 - f1: 0.9612 - auc: 0.9991 - val_loss: 1.6313 - val_accuracy: 0.4848 - val_f1: 0.4031 - val_auc: 0.8154\n",
      "Epoch 18/100\n",
      "241/241 - 23s - loss: 0.5056 - accuracy: 0.9743 - f1: 0.9648 - auc: 0.9993 - val_loss: 1.6358 - val_accuracy: 0.4860 - val_f1: 0.4041 - val_auc: 0.8140\n",
      "Epoch 19/100\n",
      "241/241 - 23s - loss: 0.5018 - accuracy: 0.9773 - f1: 0.9687 - auc: 0.9994 - val_loss: 1.6610 - val_accuracy: 0.4708 - val_f1: 0.3914 - val_auc: 0.8078\n",
      "Epoch 20/100\n",
      "241/241 - 23s - loss: 0.4986 - accuracy: 0.9793 - f1: 0.9711 - auc: 0.9995 - val_loss: 1.6575 - val_accuracy: 0.4730 - val_f1: 0.3949 - val_auc: 0.8087\n",
      "Epoch 21/100\n",
      "241/241 - 23s - loss: 0.4964 - accuracy: 0.9814 - f1: 0.9737 - auc: 0.9996 - val_loss: 1.6641 - val_accuracy: 0.4775 - val_f1: 0.4025 - val_auc: 0.8097\n",
      "Restoring model weights from the end of the best epoch.\n",
      "Epoch 00021: early stopping\n",
      "Epoch 1/100\n",
      "241/241 - 25s - loss: 1.5392 - accuracy: 0.4332 - f1: 0.1626 - auc: 0.7998 - val_loss: 1.8985 - val_accuracy: 0.2620 - val_f1: 0.0189 - val_auc: 0.6517\n",
      "Epoch 2/100\n",
      "241/241 - 23s - loss: 1.1072 - accuracy: 0.6204 - f1: 0.4180 - auc: 0.9082 - val_loss: 1.7719 - val_accuracy: 0.3447 - val_f1: 0.0908 - val_auc: 0.7281\n",
      "Epoch 3/100\n",
      "241/241 - 23s - loss: 0.9180 - accuracy: 0.7052 - f1: 0.5745 - auc: 0.9429 - val_loss: 1.7277 - val_accuracy: 0.3820 - val_f1: 0.1492 - val_auc: 0.7531\n",
      "Epoch 4/100\n",
      "241/241 - 23s - loss: 0.8086 - accuracy: 0.7585 - f1: 0.6682 - auc: 0.9608 - val_loss: 1.6925 - val_accuracy: 0.3932 - val_f1: 0.1811 - val_auc: 0.7715\n",
      "Epoch 5/100\n",
      "241/241 - 23s - loss: 0.7313 - accuracy: 0.7987 - f1: 0.7365 - auc: 0.9725 - val_loss: 1.6744 - val_accuracy: 0.4215 - val_f1: 0.2390 - val_auc: 0.7811\n",
      "Epoch 6/100\n",
      "241/241 - 23s - loss: 0.6803 - accuracy: 0.8331 - f1: 0.7856 - auc: 0.9801 - val_loss: 1.6721 - val_accuracy: 0.4290 - val_f1: 0.2711 - val_auc: 0.7859\n",
      "Epoch 7/100\n",
      "241/241 - 23s - loss: 0.6408 - accuracy: 0.8606 - f1: 0.8232 - auc: 0.9856 - val_loss: 1.6594 - val_accuracy: 0.4430 - val_f1: 0.2992 - val_auc: 0.7932\n",
      "Epoch 8/100\n",
      "241/241 - 23s - loss: 0.6124 - accuracy: 0.8798 - f1: 0.8510 - auc: 0.9891 - val_loss: 1.6649 - val_accuracy: 0.4453 - val_f1: 0.3159 - val_auc: 0.7935\n",
      "Epoch 9/100\n",
      "241/241 - 23s - loss: 0.5891 - accuracy: 0.8997 - f1: 0.8754 - auc: 0.9920 - val_loss: 1.6669 - val_accuracy: 0.4432 - val_f1: 0.3208 - val_auc: 0.7937\n",
      "Epoch 10/100\n",
      "241/241 - 23s - loss: 0.5724 - accuracy: 0.9137 - f1: 0.8938 - auc: 0.9938 - val_loss: 1.6982 - val_accuracy: 0.4355 - val_f1: 0.3185 - val_auc: 0.7851\n",
      "Epoch 11/100\n",
      "241/241 - 23s - loss: 0.5583 - accuracy: 0.9250 - f1: 0.9080 - auc: 0.9953 - val_loss: 1.6615 - val_accuracy: 0.4630 - val_f1: 0.3549 - val_auc: 0.7987\n",
      "Epoch 12/100\n",
      "241/241 - 23s - loss: 0.5454 - accuracy: 0.9365 - f1: 0.9215 - auc: 0.9965 - val_loss: 1.6733 - val_accuracy: 0.4607 - val_f1: 0.3560 - val_auc: 0.7948\n",
      "Epoch 13/100\n",
      "241/241 - 23s - loss: 0.5377 - accuracy: 0.9449 - f1: 0.9312 - auc: 0.9973 - val_loss: 1.6601 - val_accuracy: 0.4708 - val_f1: 0.3684 - val_auc: 0.7994\n",
      "Epoch 14/100\n",
      "241/241 - 23s - loss: 0.5287 - accuracy: 0.9526 - f1: 0.9397 - auc: 0.9979 - val_loss: 1.6630 - val_accuracy: 0.4743 - val_f1: 0.3759 - val_auc: 0.8003\n",
      "Epoch 15/100\n",
      "241/241 - 23s - loss: 0.5216 - accuracy: 0.9587 - f1: 0.9477 - auc: 0.9984 - val_loss: 1.6842 - val_accuracy: 0.4603 - val_f1: 0.3633 - val_auc: 0.7937\n",
      "Epoch 16/100\n",
      "241/241 - 23s - loss: 0.5158 - accuracy: 0.9638 - f1: 0.9530 - auc: 0.9987 - val_loss: 1.6717 - val_accuracy: 0.4715 - val_f1: 0.3768 - val_auc: 0.7978\n",
      "Epoch 17/100\n",
      "241/241 - 23s - loss: 0.5109 - accuracy: 0.9684 - f1: 0.9583 - auc: 0.9990 - val_loss: 1.6826 - val_accuracy: 0.4683 - val_f1: 0.3754 - val_auc: 0.7955\n",
      "Epoch 18/100\n",
      "241/241 - 23s - loss: 0.5066 - accuracy: 0.9721 - f1: 0.9620 - auc: 0.9992 - val_loss: 1.6754 - val_accuracy: 0.4760 - val_f1: 0.3839 - val_auc: 0.7972\n",
      "Epoch 19/100\n",
      "241/241 - 23s - loss: 0.5028 - accuracy: 0.9751 - f1: 0.9660 - auc: 0.9993 - val_loss: 1.6747 - val_accuracy: 0.4845 - val_f1: 0.3989 - val_auc: 0.8003\n",
      "Epoch 20/100\n",
      "241/241 - 23s - loss: 0.4995 - accuracy: 0.9784 - f1: 0.9695 - auc: 0.9995 - val_loss: 1.7026 - val_accuracy: 0.4591 - val_f1: 0.3697 - val_auc: 0.7904\n",
      "Epoch 21/100\n",
      "241/241 - 23s - loss: 0.4966 - accuracy: 0.9806 - f1: 0.9712 - auc: 0.9996 - val_loss: 1.6796 - val_accuracy: 0.4849 - val_f1: 0.4010 - val_auc: 0.7996\n",
      "Epoch 22/100\n",
      "241/241 - 23s - loss: 0.4942 - accuracy: 0.9827 - f1: 0.9744 - auc: 0.9996 - val_loss: 1.6925 - val_accuracy: 0.4696 - val_f1: 0.3827 - val_auc: 0.7932\n",
      "Epoch 23/100\n",
      "241/241 - 23s - loss: 0.4917 - accuracy: 0.9844 - f1: 0.9763 - auc: 0.9997 - val_loss: 1.6939 - val_accuracy: 0.4702 - val_f1: 0.3825 - val_auc: 0.7925\n",
      "Epoch 24/100\n",
      "241/241 - 23s - loss: 0.4898 - accuracy: 0.9860 - f1: 0.9782 - auc: 0.9997 - val_loss: 1.7021 - val_accuracy: 0.4667 - val_f1: 0.3795 - val_auc: 0.7906\n",
      "Restoring model weights from the end of the best epoch.\n",
      "Epoch 00024: early stopping\n"
     ]
    },
    {
     "data": {
      "text/html": [
       "<span style=\"color:#4527A0\"><h1 style=\"font-size:18px\">Trial complete</h1></span>"
      ],
      "text/plain": [
       "<IPython.core.display.HTML object>"
      ]
     },
     "metadata": {},
     "output_type": "display_data"
    },
    {
     "data": {
      "text/html": [
       "<span style=\"color:#4527A0\"><h1 style=\"font-size:18px\">Trial summary</h1></span>"
      ],
      "text/plain": [
       "<IPython.core.display.HTML object>"
      ]
     },
     "metadata": {},
     "output_type": "display_data"
    },
    {
     "data": {
      "text/html": [
       "<span style=\"color:cyan\"> |-Trial ID: c32af86de35b62f443fa7c986cb4ed0a</span>"
      ],
      "text/plain": [
       "<IPython.core.display.HTML object>"
      ]
     },
     "metadata": {},
     "output_type": "display_data"
    },
    {
     "data": {
      "text/html": [
       "<span style=\"color:cyan\"> |-Score: 1.6098037004470824</span>"
      ],
      "text/plain": [
       "<IPython.core.display.HTML object>"
      ]
     },
     "metadata": {},
     "output_type": "display_data"
    },
    {
     "data": {
      "text/html": [
       "<span style=\"color:cyan\"> |-Best step: 0</span>"
      ],
      "text/plain": [
       "<IPython.core.display.HTML object>"
      ]
     },
     "metadata": {},
     "output_type": "display_data"
    },
    {
     "data": {
      "text/html": [
       "<span style=\"color:#7E57C2\"><h2 style=\"font-size:16px\">Hyperparameters:</h2></span>"
      ],
      "text/plain": [
       "<IPython.core.display.HTML object>"
      ]
     },
     "metadata": {},
     "output_type": "display_data"
    },
    {
     "data": {
      "text/html": [
       "<span style=\"color:cyan\"> |-units: 1536</span>"
      ],
      "text/plain": [
       "<IPython.core.display.HTML object>"
      ]
     },
     "metadata": {},
     "output_type": "display_data"
    },
    {
     "name": "stdout",
     "output_type": "stream",
     "text": [
      "INFO:tensorflow:Oracle triggered exit\n"
     ]
    }
   ],
   "source": [
    "# Keras-tuner setup\n",
    "tuner = kt.RandomSearch(\n",
    "    build_model,\n",
    "    objective=\"val_loss\",\n",
    "    max_trials=8,\n",
    "    executions_per_trial=5,\n",
    "    seed=1337,\n",
    "    project_name=normpath(\"C:/Keras_tuner\"),\n",
    "    overwrite=True,\n",
    ")\n",
    "\n",
    "# Check the defined hyperparameter search space\n",
    "tuner.search_space_summary()\n",
    "\n",
    "# Do random serach for optimal hyperparameters\n",
    "tuner.search(\n",
    "    seq_train_features,\n",
    "    seq_train_labels,\n",
    "    sample_weight=train_samples_weights,\n",
    "    epochs=100,\n",
    "    validation_data=(seq_val_features, seq_val_labels),\n",
    "    callbacks=[es],\n",
    "    verbose=2,\n",
    ")"
   ]
  },
  {
   "cell_type": "markdown",
   "metadata": {},
   "source": [
    "# Build optimal HP model"
   ]
  },
  {
   "cell_type": "code",
   "execution_count": 14,
   "metadata": {
    "ExecuteTime": {
     "end_time": "2020-10-04T17:39:44.932922Z",
     "start_time": "2020-10-04T17:39:44.857125Z"
    },
    "execution": {
     "iopub.execute_input": "2020-11-12T18:34:25.729569Z",
     "iopub.status.busy": "2020-11-12T18:34:25.729569Z",
     "iopub.status.idle": "2020-11-12T18:34:25.790568Z",
     "shell.execute_reply": "2020-11-12T18:34:25.790568Z",
     "shell.execute_reply.started": "2020-11-12T18:34:25.729569Z"
    },
    "scrolled": true
   },
   "outputs": [
    {
     "data": {
      "text/html": [
       "<span style=\"color:#4527A0\"><h1 style=\"font-size:18px\">Results summary</h1></span>"
      ],
      "text/plain": [
       "<IPython.core.display.HTML object>"
      ]
     },
     "metadata": {},
     "output_type": "display_data"
    },
    {
     "data": {
      "text/html": [
       "<span style=\"color:cyan\"> |-Results in C:\\Keras_tuner</span>"
      ],
      "text/plain": [
       "<IPython.core.display.HTML object>"
      ]
     },
     "metadata": {},
     "output_type": "display_data"
    },
    {
     "data": {
      "text/html": [
       "<span style=\"color:cyan\"> |-Showing 10 best trials</span>"
      ],
      "text/plain": [
       "<IPython.core.display.HTML object>"
      ]
     },
     "metadata": {},
     "output_type": "display_data"
    },
    {
     "data": {
      "text/html": [
       "<span style=\"color:cyan\"> |-Objective(name='val_loss', direction='min')</span>"
      ],
      "text/plain": [
       "<IPython.core.display.HTML object>"
      ]
     },
     "metadata": {},
     "output_type": "display_data"
    },
    {
     "data": {
      "text/html": [
       "<span style=\"color:#4527A0\"><h1 style=\"font-size:18px\">Trial summary</h1></span>"
      ],
      "text/plain": [
       "<IPython.core.display.HTML object>"
      ]
     },
     "metadata": {},
     "output_type": "display_data"
    },
    {
     "data": {
      "text/html": [
       "<span style=\"color:cyan\"> |-Trial ID: ff9cf7d21ce810fa42676da0a04c3ddf</span>"
      ],
      "text/plain": [
       "<IPython.core.display.HTML object>"
      ]
     },
     "metadata": {},
     "output_type": "display_data"
    },
    {
     "data": {
      "text/html": [
       "<span style=\"color:cyan\"> |-Score: 1.5877540588378907</span>"
      ],
      "text/plain": [
       "<IPython.core.display.HTML object>"
      ]
     },
     "metadata": {},
     "output_type": "display_data"
    },
    {
     "data": {
      "text/html": [
       "<span style=\"color:cyan\"> |-Best step: 0</span>"
      ],
      "text/plain": [
       "<IPython.core.display.HTML object>"
      ]
     },
     "metadata": {},
     "output_type": "display_data"
    },
    {
     "data": {
      "text/html": [
       "<span style=\"color:#7E57C2\"><h2 style=\"font-size:16px\">Hyperparameters:</h2></span>"
      ],
      "text/plain": [
       "<IPython.core.display.HTML object>"
      ]
     },
     "metadata": {},
     "output_type": "display_data"
    },
    {
     "data": {
      "text/html": [
       "<span style=\"color:cyan\"> |-units: 1792</span>"
      ],
      "text/plain": [
       "<IPython.core.display.HTML object>"
      ]
     },
     "metadata": {},
     "output_type": "display_data"
    },
    {
     "data": {
      "text/html": [
       "<span style=\"color:#4527A0\"><h1 style=\"font-size:18px\">Trial summary</h1></span>"
      ],
      "text/plain": [
       "<IPython.core.display.HTML object>"
      ]
     },
     "metadata": {},
     "output_type": "display_data"
    },
    {
     "data": {
      "text/html": [
       "<span style=\"color:cyan\"> |-Trial ID: 38dd1c742481b49db24681a222b8abb3</span>"
      ],
      "text/plain": [
       "<IPython.core.display.HTML object>"
      ]
     },
     "metadata": {},
     "output_type": "display_data"
    },
    {
     "data": {
      "text/html": [
       "<span style=\"color:cyan\"> |-Score: 1.6056022882461547</span>"
      ],
      "text/plain": [
       "<IPython.core.display.HTML object>"
      ]
     },
     "metadata": {},
     "output_type": "display_data"
    },
    {
     "data": {
      "text/html": [
       "<span style=\"color:cyan\"> |-Best step: 0</span>"
      ],
      "text/plain": [
       "<IPython.core.display.HTML object>"
      ]
     },
     "metadata": {},
     "output_type": "display_data"
    },
    {
     "data": {
      "text/html": [
       "<span style=\"color:#7E57C2\"><h2 style=\"font-size:16px\">Hyperparameters:</h2></span>"
      ],
      "text/plain": [
       "<IPython.core.display.HTML object>"
      ]
     },
     "metadata": {},
     "output_type": "display_data"
    },
    {
     "data": {
      "text/html": [
       "<span style=\"color:cyan\"> |-units: 2048</span>"
      ],
      "text/plain": [
       "<IPython.core.display.HTML object>"
      ]
     },
     "metadata": {},
     "output_type": "display_data"
    },
    {
     "data": {
      "text/html": [
       "<span style=\"color:#4527A0\"><h1 style=\"font-size:18px\">Trial summary</h1></span>"
      ],
      "text/plain": [
       "<IPython.core.display.HTML object>"
      ]
     },
     "metadata": {},
     "output_type": "display_data"
    },
    {
     "data": {
      "text/html": [
       "<span style=\"color:cyan\"> |-Trial ID: c32af86de35b62f443fa7c986cb4ed0a</span>"
      ],
      "text/plain": [
       "<IPython.core.display.HTML object>"
      ]
     },
     "metadata": {},
     "output_type": "display_data"
    },
    {
     "data": {
      "text/html": [
       "<span style=\"color:cyan\"> |-Score: 1.6098037004470824</span>"
      ],
      "text/plain": [
       "<IPython.core.display.HTML object>"
      ]
     },
     "metadata": {},
     "output_type": "display_data"
    },
    {
     "data": {
      "text/html": [
       "<span style=\"color:cyan\"> |-Best step: 0</span>"
      ],
      "text/plain": [
       "<IPython.core.display.HTML object>"
      ]
     },
     "metadata": {},
     "output_type": "display_data"
    },
    {
     "data": {
      "text/html": [
       "<span style=\"color:#7E57C2\"><h2 style=\"font-size:16px\">Hyperparameters:</h2></span>"
      ],
      "text/plain": [
       "<IPython.core.display.HTML object>"
      ]
     },
     "metadata": {},
     "output_type": "display_data"
    },
    {
     "data": {
      "text/html": [
       "<span style=\"color:cyan\"> |-units: 1536</span>"
      ],
      "text/plain": [
       "<IPython.core.display.HTML object>"
      ]
     },
     "metadata": {},
     "output_type": "display_data"
    },
    {
     "data": {
      "text/html": [
       "<span style=\"color:#4527A0\"><h1 style=\"font-size:18px\">Trial summary</h1></span>"
      ],
      "text/plain": [
       "<IPython.core.display.HTML object>"
      ]
     },
     "metadata": {},
     "output_type": "display_data"
    },
    {
     "data": {
      "text/html": [
       "<span style=\"color:cyan\"> |-Trial ID: 8607edca413c570b17fdea8d975d6454</span>"
      ],
      "text/plain": [
       "<IPython.core.display.HTML object>"
      ]
     },
     "metadata": {},
     "output_type": "display_data"
    },
    {
     "data": {
      "text/html": [
       "<span style=\"color:cyan\"> |-Score: 1.618857169151306</span>"
      ],
      "text/plain": [
       "<IPython.core.display.HTML object>"
      ]
     },
     "metadata": {},
     "output_type": "display_data"
    },
    {
     "data": {
      "text/html": [
       "<span style=\"color:cyan\"> |-Best step: 0</span>"
      ],
      "text/plain": [
       "<IPython.core.display.HTML object>"
      ]
     },
     "metadata": {},
     "output_type": "display_data"
    },
    {
     "data": {
      "text/html": [
       "<span style=\"color:#7E57C2\"><h2 style=\"font-size:16px\">Hyperparameters:</h2></span>"
      ],
      "text/plain": [
       "<IPython.core.display.HTML object>"
      ]
     },
     "metadata": {},
     "output_type": "display_data"
    },
    {
     "data": {
      "text/html": [
       "<span style=\"color:cyan\"> |-units: 768</span>"
      ],
      "text/plain": [
       "<IPython.core.display.HTML object>"
      ]
     },
     "metadata": {},
     "output_type": "display_data"
    },
    {
     "data": {
      "text/html": [
       "<span style=\"color:#4527A0\"><h1 style=\"font-size:18px\">Trial summary</h1></span>"
      ],
      "text/plain": [
       "<IPython.core.display.HTML object>"
      ]
     },
     "metadata": {},
     "output_type": "display_data"
    },
    {
     "data": {
      "text/html": [
       "<span style=\"color:cyan\"> |-Trial ID: ed7be908cdb11d074efd25a62447594a</span>"
      ],
      "text/plain": [
       "<IPython.core.display.HTML object>"
      ]
     },
     "metadata": {},
     "output_type": "display_data"
    },
    {
     "data": {
      "text/html": [
       "<span style=\"color:cyan\"> |-Score: 1.626957368850708</span>"
      ],
      "text/plain": [
       "<IPython.core.display.HTML object>"
      ]
     },
     "metadata": {},
     "output_type": "display_data"
    },
    {
     "data": {
      "text/html": [
       "<span style=\"color:cyan\"> |-Best step: 0</span>"
      ],
      "text/plain": [
       "<IPython.core.display.HTML object>"
      ]
     },
     "metadata": {},
     "output_type": "display_data"
    },
    {
     "data": {
      "text/html": [
       "<span style=\"color:#7E57C2\"><h2 style=\"font-size:16px\">Hyperparameters:</h2></span>"
      ],
      "text/plain": [
       "<IPython.core.display.HTML object>"
      ]
     },
     "metadata": {},
     "output_type": "display_data"
    },
    {
     "data": {
      "text/html": [
       "<span style=\"color:cyan\"> |-units: 1280</span>"
      ],
      "text/plain": [
       "<IPython.core.display.HTML object>"
      ]
     },
     "metadata": {},
     "output_type": "display_data"
    },
    {
     "data": {
      "text/html": [
       "<span style=\"color:#4527A0\"><h1 style=\"font-size:18px\">Trial summary</h1></span>"
      ],
      "text/plain": [
       "<IPython.core.display.HTML object>"
      ]
     },
     "metadata": {},
     "output_type": "display_data"
    },
    {
     "data": {
      "text/html": [
       "<span style=\"color:cyan\"> |-Trial ID: bd8bb446f48e6236e5c108def630665c</span>"
      ],
      "text/plain": [
       "<IPython.core.display.HTML object>"
      ]
     },
     "metadata": {},
     "output_type": "display_data"
    },
    {
     "data": {
      "text/html": [
       "<span style=\"color:cyan\"> |-Score: 1.6322715044021607</span>"
      ],
      "text/plain": [
       "<IPython.core.display.HTML object>"
      ]
     },
     "metadata": {},
     "output_type": "display_data"
    },
    {
     "data": {
      "text/html": [
       "<span style=\"color:cyan\"> |-Best step: 0</span>"
      ],
      "text/plain": [
       "<IPython.core.display.HTML object>"
      ]
     },
     "metadata": {},
     "output_type": "display_data"
    },
    {
     "data": {
      "text/html": [
       "<span style=\"color:#7E57C2\"><h2 style=\"font-size:16px\">Hyperparameters:</h2></span>"
      ],
      "text/plain": [
       "<IPython.core.display.HTML object>"
      ]
     },
     "metadata": {},
     "output_type": "display_data"
    },
    {
     "data": {
      "text/html": [
       "<span style=\"color:cyan\"> |-units: 1024</span>"
      ],
      "text/plain": [
       "<IPython.core.display.HTML object>"
      ]
     },
     "metadata": {},
     "output_type": "display_data"
    },
    {
     "data": {
      "text/html": [
       "<span style=\"color:#4527A0\"><h1 style=\"font-size:18px\">Trial summary</h1></span>"
      ],
      "text/plain": [
       "<IPython.core.display.HTML object>"
      ]
     },
     "metadata": {},
     "output_type": "display_data"
    },
    {
     "data": {
      "text/html": [
       "<span style=\"color:cyan\"> |-Trial ID: 1ee489673cff9a86ef52e64a6c9982d1</span>"
      ],
      "text/plain": [
       "<IPython.core.display.HTML object>"
      ]
     },
     "metadata": {},
     "output_type": "display_data"
    },
    {
     "data": {
      "text/html": [
       "<span style=\"color:cyan\"> |-Score: 1.6593823909759522</span>"
      ],
      "text/plain": [
       "<IPython.core.display.HTML object>"
      ]
     },
     "metadata": {},
     "output_type": "display_data"
    },
    {
     "data": {
      "text/html": [
       "<span style=\"color:cyan\"> |-Best step: 0</span>"
      ],
      "text/plain": [
       "<IPython.core.display.HTML object>"
      ]
     },
     "metadata": {},
     "output_type": "display_data"
    },
    {
     "data": {
      "text/html": [
       "<span style=\"color:#7E57C2\"><h2 style=\"font-size:16px\">Hyperparameters:</h2></span>"
      ],
      "text/plain": [
       "<IPython.core.display.HTML object>"
      ]
     },
     "metadata": {},
     "output_type": "display_data"
    },
    {
     "data": {
      "text/html": [
       "<span style=\"color:cyan\"> |-units: 512</span>"
      ],
      "text/plain": [
       "<IPython.core.display.HTML object>"
      ]
     },
     "metadata": {},
     "output_type": "display_data"
    },
    {
     "data": {
      "text/html": [
       "<span style=\"color:#4527A0\"><h1 style=\"font-size:18px\">Trial summary</h1></span>"
      ],
      "text/plain": [
       "<IPython.core.display.HTML object>"
      ]
     },
     "metadata": {},
     "output_type": "display_data"
    },
    {
     "data": {
      "text/html": [
       "<span style=\"color:cyan\"> |-Trial ID: 657d34d874f89ae234e8b91bff3d7f8f</span>"
      ],
      "text/plain": [
       "<IPython.core.display.HTML object>"
      ]
     },
     "metadata": {},
     "output_type": "display_data"
    },
    {
     "data": {
      "text/html": [
       "<span style=\"color:cyan\"> |-Score: 1.6594663858413696</span>"
      ],
      "text/plain": [
       "<IPython.core.display.HTML object>"
      ]
     },
     "metadata": {},
     "output_type": "display_data"
    },
    {
     "data": {
      "text/html": [
       "<span style=\"color:cyan\"> |-Best step: 0</span>"
      ],
      "text/plain": [
       "<IPython.core.display.HTML object>"
      ]
     },
     "metadata": {},
     "output_type": "display_data"
    },
    {
     "data": {
      "text/html": [
       "<span style=\"color:#7E57C2\"><h2 style=\"font-size:16px\">Hyperparameters:</h2></span>"
      ],
      "text/plain": [
       "<IPython.core.display.HTML object>"
      ]
     },
     "metadata": {},
     "output_type": "display_data"
    },
    {
     "data": {
      "text/html": [
       "<span style=\"color:cyan\"> |-units: 256</span>"
      ],
      "text/plain": [
       "<IPython.core.display.HTML object>"
      ]
     },
     "metadata": {},
     "output_type": "display_data"
    }
   ],
   "source": [
    "tuner.results_summary()"
   ]
  },
  {
   "cell_type": "code",
   "execution_count": 15,
   "metadata": {
    "ExecuteTime": {
     "end_time": "2020-10-04T17:39:44.948879Z",
     "start_time": "2020-10-04T17:39:44.933920Z"
    },
    "execution": {
     "iopub.execute_input": "2020-11-12T18:34:25.792569Z",
     "iopub.status.busy": "2020-11-12T18:34:25.791571Z",
     "iopub.status.idle": "2020-11-12T18:34:25.807570Z",
     "shell.execute_reply": "2020-11-12T18:34:25.806568Z",
     "shell.execute_reply.started": "2020-11-12T18:34:25.792569Z"
    }
   },
   "outputs": [
    {
     "data": {
      "text/plain": [
       "{'units': 1792}"
      ]
     },
     "execution_count": 15,
     "metadata": {},
     "output_type": "execute_result"
    }
   ],
   "source": [
    "## Grab optimal hyperparameter\n",
    "tuner.oracle.get_best_trials(num_trials=1)[0].hyperparameters.values"
   ]
  },
  {
   "cell_type": "code",
   "execution_count": 16,
   "metadata": {
    "execution": {
     "iopub.execute_input": "2020-11-12T18:34:25.808569Z",
     "iopub.status.busy": "2020-11-12T18:34:25.808569Z",
     "iopub.status.idle": "2020-11-12T18:34:25.821567Z",
     "shell.execute_reply": "2020-11-12T18:34:25.821567Z",
     "shell.execute_reply.started": "2020-11-12T18:34:25.808569Z"
    }
   },
   "outputs": [],
   "source": [
    "best_hps = tuner.get_best_hyperparameters(num_trials = 1)[0]"
   ]
  },
  {
   "cell_type": "markdown",
   "metadata": {},
   "source": [
    "## Define optimal model"
   ]
  },
  {
   "cell_type": "code",
   "execution_count": null,
   "metadata": {},
   "outputs": [],
   "source": [
    "LSTM = tuner.hypermodel.build(best_hps)\n",
    "LSTM.summary()"
   ]
  },
  {
   "cell_type": "markdown",
   "metadata": {},
   "source": [
    "# Train + Evaluate model"
   ]
  },
  {
   "cell_type": "markdown",
   "metadata": {},
   "source": [
    "## Best model results"
   ]
  },
  {
   "cell_type": "code",
   "execution_count": 17,
   "metadata": {
    "execution": {
     "iopub.execute_input": "2020-11-12T18:34:25.822570Z",
     "iopub.status.busy": "2020-11-12T18:34:25.822570Z",
     "iopub.status.idle": "2020-11-12T18:42:36.029855Z",
     "shell.execute_reply": "2020-11-12T18:42:36.028854Z",
     "shell.execute_reply.started": "2020-11-12T18:34:25.822570Z"
    },
    "scrolled": true
   },
   "outputs": [
    {
     "name": "stdout",
     "output_type": "stream",
     "text": [
      "Model: \"RNN-LSTM\"\n",
      "_________________________________________________________________\n",
      "Layer (type)                 Output Shape              Param #   \n",
      "=================================================================\n",
      "LSTM_1 (LSTM)                (None, 120, 1792)         45882368  \n",
      "_________________________________________________________________\n",
      "layer_normalization (LayerNo (None, 120, 1792)         3584      \n",
      "_________________________________________________________________\n",
      "LSTM_2 (LSTM)                (None, 120, 256)          2098176   \n",
      "_________________________________________________________________\n",
      "Dense_Output (Dense)         (None, 120, 7)            1799      \n",
      "=================================================================\n",
      "Total params: 47,985,927\n",
      "Trainable params: 47,985,927\n",
      "Non-trainable params: 0\n",
      "_________________________________________________________________\n",
      "Epoch 1/50\n",
      "241/241 - 28s - loss: 1.5280 - accuracy: 0.4151 - f1: 0.1614 - auc: 0.7900 - val_loss: 1.7805 - val_accuracy: 0.3332 - val_f1: 0.0356 - val_auc: 0.7132\n",
      "\n",
      "Epoch 00001: saving model to data/models\\cp_training_LSTM.ckpt\n",
      "Epoch 2/50\n",
      "241/241 - 26s - loss: 1.0729 - accuracy: 0.6342 - f1: 0.4297 - auc: 0.9123 - val_loss: 1.7577 - val_accuracy: 0.3688 - val_f1: 0.1106 - val_auc: 0.7341\n",
      "\n",
      "Epoch 00002: saving model to data/models\\cp_training_LSTM.ckpt\n",
      "Epoch 3/50\n",
      "241/241 - 26s - loss: 0.8973 - accuracy: 0.7204 - f1: 0.5932 - auc: 0.9455 - val_loss: 1.7804 - val_accuracy: 0.3622 - val_f1: 0.1707 - val_auc: 0.7357\n",
      "\n",
      "Epoch 00003: saving model to data/models\\cp_training_LSTM.ckpt\n",
      "Epoch 4/50\n",
      "241/241 - 26s - loss: 0.7832 - accuracy: 0.7704 - f1: 0.6933 - auc: 0.9638 - val_loss: 1.6624 - val_accuracy: 0.4387 - val_f1: 0.2794 - val_auc: 0.7771\n",
      "\n",
      "Epoch 00004: saving model to data/models\\cp_training_LSTM.ckpt\n",
      "Epoch 5/50\n",
      "241/241 - 26s - loss: 0.7147 - accuracy: 0.8126 - f1: 0.7570 - auc: 0.9749 - val_loss: 1.6946 - val_accuracy: 0.4242 - val_f1: 0.2855 - val_auc: 0.7721\n",
      "\n",
      "Epoch 00005: saving model to data/models\\cp_training_LSTM.ckpt\n",
      "Epoch 6/50\n",
      "241/241 - 26s - loss: 0.6632 - accuracy: 0.8463 - f1: 0.8059 - auc: 0.9824 - val_loss: 1.6361 - val_accuracy: 0.4610 - val_f1: 0.3353 - val_auc: 0.7931\n",
      "\n",
      "Epoch 00006: saving model to data/models\\cp_training_LSTM.ckpt\n",
      "Epoch 7/50\n",
      "241/241 - 26s - loss: 0.6248 - accuracy: 0.8749 - f1: 0.8445 - auc: 0.9878 - val_loss: 1.6514 - val_accuracy: 0.4585 - val_f1: 0.3597 - val_auc: 0.7947\n",
      "\n",
      "Epoch 00007: saving model to data/models\\cp_training_LSTM.ckpt\n",
      "Epoch 8/50\n",
      "241/241 - 26s - loss: 0.5975 - accuracy: 0.8950 - f1: 0.8719 - auc: 0.9911 - val_loss: 1.6481 - val_accuracy: 0.4637 - val_f1: 0.3657 - val_auc: 0.7961\n",
      "\n",
      "Epoch 00008: saving model to data/models\\cp_training_LSTM.ckpt\n",
      "Epoch 9/50\n",
      "241/241 - 27s - loss: 0.5765 - accuracy: 0.9135 - f1: 0.8943 - auc: 0.9937 - val_loss: 1.6486 - val_accuracy: 0.4681 - val_f1: 0.3778 - val_auc: 0.7986\n",
      "\n",
      "Epoch 00009: saving model to data/models\\cp_training_LSTM.ckpt\n",
      "Epoch 10/50\n",
      "241/241 - 26s - loss: 0.5588 - accuracy: 0.9276 - f1: 0.9107 - auc: 0.9954 - val_loss: 1.6545 - val_accuracy: 0.4708 - val_f1: 0.3855 - val_auc: 0.7999\n",
      "\n",
      "Epoch 00010: saving model to data/models\\cp_training_LSTM.ckpt\n",
      "Epoch 11/50\n",
      "241/241 - 26s - loss: 0.5465 - accuracy: 0.9392 - f1: 0.9223 - auc: 0.9966 - val_loss: 1.6542 - val_accuracy: 0.4745 - val_f1: 0.3945 - val_auc: 0.8011\n",
      "\n",
      "Epoch 00011: saving model to data/models\\cp_training_LSTM.ckpt\n",
      "Epoch 12/50\n",
      "241/241 - 26s - loss: 0.5352 - accuracy: 0.9483 - f1: 0.9349 - auc: 0.9975 - val_loss: 1.6603 - val_accuracy: 0.4734 - val_f1: 0.3920 - val_auc: 0.7990\n",
      "\n",
      "Epoch 00012: saving model to data/models\\cp_training_LSTM.ckpt\n",
      "Epoch 13/50\n",
      "241/241 - 26s - loss: 0.5262 - accuracy: 0.9561 - f1: 0.9434 - auc: 0.9981 - val_loss: 1.6743 - val_accuracy: 0.4706 - val_f1: 0.3926 - val_auc: 0.7960\n",
      "\n",
      "Epoch 00013: saving model to data/models\\cp_training_LSTM.ckpt\n",
      "Epoch 14/50\n",
      "241/241 - 26s - loss: 0.5196 - accuracy: 0.9617 - f1: 0.9502 - auc: 0.9985 - val_loss: 1.6654 - val_accuracy: 0.4734 - val_f1: 0.3967 - val_auc: 0.7985\n",
      "\n",
      "Epoch 00014: saving model to data/models\\cp_training_LSTM.ckpt\n",
      "Epoch 15/50\n",
      "241/241 - 26s - loss: 0.5131 - accuracy: 0.9671 - f1: 0.9559 - auc: 0.9989 - val_loss: 1.6549 - val_accuracy: 0.4860 - val_f1: 0.4146 - val_auc: 0.8047\n",
      "\n",
      "Epoch 00015: saving model to data/models\\cp_training_LSTM.ckpt\n",
      "Epoch 16/50\n",
      "241/241 - 26s - loss: 0.5079 - accuracy: 0.9720 - f1: 0.9611 - auc: 0.9991 - val_loss: 1.6727 - val_accuracy: 0.4774 - val_f1: 0.4032 - val_auc: 0.7983\n",
      "\n",
      "Epoch 00016: saving model to data/models\\cp_training_LSTM.ckpt\n",
      "Epoch 17/50\n",
      "241/241 - 26s - loss: 0.5036 - accuracy: 0.9751 - f1: 0.9650 - auc: 0.9993 - val_loss: 1.6762 - val_accuracy: 0.4768 - val_f1: 0.4043 - val_auc: 0.7985\n",
      "\n",
      "Epoch 00017: saving model to data/models\\cp_training_LSTM.ckpt\n",
      "Epoch 18/50\n",
      "241/241 - 27s - loss: 0.4999 - accuracy: 0.9783 - f1: 0.9685 - auc: 0.9995 - val_loss: 1.6689 - val_accuracy: 0.4768 - val_f1: 0.4036 - val_auc: 0.7985\n",
      "Restoring model weights from the end of the best epoch.\n",
      "\n",
      "Epoch 00018: saving model to data/models\\cp_training_LSTM.ckpt\n",
      "Epoch 00018: early stopping\n"
     ]
    }
   ],
   "source": [
    "checkpoint_path = \"data/models/cp_training_LSTM.ckpt\"\n",
    "\n",
    "import time\n",
    "name = 'LSTM_opt_{}'.format(int(time.time()))\n",
    "tb_callback = tf.keras.callbacks.TensorBoard(log_dir='logs/{}'.format(name))\n",
    "\n",
    "# Access tensorboard in cmd of the main repo folder with following code:\n",
    "# tensorboard --logdir='logs/'\n",
    "\n",
    "# Set callbacks for model training\n",
    "csvlog = tf.keras.callbacks.CSVLogger(\n",
    "    \"data/models/LSTM_performance.csv\", separator=\",\", append=False\n",
    ")\n",
    "\n",
    "cp_callback = tf.keras.callbacks.ModelCheckpoint(\n",
    "    filepath=checkpoint_path, save_weights_only=True, verbose=1\n",
    ")\n",
    "\n",
    "history_best = LSTM.fit(\n",
    "    seq_train_features,\n",
    "    seq_train_labels,\n",
    "    sample_weight=train_samples_weights,\n",
    "    validation_data=(seq_val_features, seq_val_labels),\n",
    "    epochs=50,\n",
    "    callbacks=[es, \n",
    "               cp_callback, \n",
    "               csvlog, \n",
    "               tb_callback],\n",
    "    verbose=2,\n",
    ")"
   ]
  },
  {
   "cell_type": "code",
   "execution_count": 18,
   "metadata": {
    "execution": {
     "iopub.execute_input": "2020-11-12T18:42:36.032858Z",
     "iopub.status.busy": "2020-11-12T18:42:36.031856Z",
     "iopub.status.idle": "2020-11-12T18:42:40.041854Z",
     "shell.execute_reply": "2020-11-12T18:42:40.041854Z",
     "shell.execute_reply.started": "2020-11-12T18:42:36.032858Z"
    }
   },
   "outputs": [
    {
     "name": "stdout",
     "output_type": "stream",
     "text": [
      "{'loss': 1.6548638343811035, 'accuracy': 0.48596706986427307, 'f1': 0.4146135747432709, 'auc': 0.8046668171882629}\n"
     ]
    }
   ],
   "source": [
    "results = LSTM.evaluate(seq_val_features, seq_val_labels, verbose=0)\n",
    "print(dict(zip(LSTM.metrics_names, results)))"
   ]
  },
  {
   "cell_type": "markdown",
   "metadata": {},
   "source": [
    "## Plot the model architecture"
   ]
  },
  {
   "cell_type": "code",
   "execution_count": 19,
   "metadata": {
    "execution": {
     "iopub.execute_input": "2020-11-12T18:42:40.042855Z",
     "iopub.status.busy": "2020-11-12T18:42:40.042855Z",
     "iopub.status.idle": "2020-11-12T18:42:40.621856Z",
     "shell.execute_reply": "2020-11-12T18:42:40.620855Z",
     "shell.execute_reply.started": "2020-11-12T18:42:40.042855Z"
    }
   },
   "outputs": [
    {
     "data": {
      "image/png": "[encoded data removed]",
      "text/plain": [
       "<IPython.core.display.Image object>"
      ]
     },
     "execution_count": 19,
     "metadata": {},
     "output_type": "execute_result"
    }
   ],
   "source": [
    "# Plot CNN-LSTM model\n",
    "tf.keras.utils.plot_model(\n",
    "    LSTM,\n",
    "    to_file=\"images/models/LSTM_architecture.png\",\n",
    "    show_shapes=True,\n",
    "    show_layer_names=True,\n",
    "    rankdir=\"TB\",\n",
    "    expand_nested=False,\n",
    "    dpi=96,\n",
    ")"
   ]
  },
  {
   "cell_type": "markdown",
   "metadata": {},
   "source": [
    "## Plot performance of model"
   ]
  },
  {
   "cell_type": "code",
   "execution_count": 20,
   "metadata": {
    "execution": {
     "iopub.execute_input": "2020-11-12T18:42:40.622857Z",
     "iopub.status.busy": "2020-11-12T18:42:40.622857Z",
     "iopub.status.idle": "2020-11-12T18:42:41.209873Z",
     "shell.execute_reply": "2020-11-12T18:42:41.209873Z",
     "shell.execute_reply.started": "2020-11-12T18:42:40.622857Z"
    }
   },
   "outputs": [
    {
     "data": {
      "image/png": "[encoded data removed]",
      "text/plain": [
       "<Figure size 1440x288 with 4 Axes>"
      ]
     },
     "metadata": {
      "needs_background": "light"
     },
     "output_type": "display_data"
    }
   ],
   "source": [
    "model_hist = history_best.history\n",
    "\n",
    "labels = [*model_hist.keys()]\n",
    "fig, axes = plt.subplots(1, 4, figsize=(20, 4))\n",
    "epochs = range(1, len(model_hist[\"loss\"]) + 1)\n",
    "for data, label in zip(\n",
    "    [model_hist[\"loss\"], model_hist[\"val_loss\"]], [labels[0], labels[4]]\n",
    "):\n",
    "    axes[0].plot(epochs, data, label=label)\n",
    "\n",
    "for data, label in zip(\n",
    "    [model_hist[\"accuracy\"], model_hist[\"val_accuracy\"]], [labels[1], labels[5]]\n",
    "):\n",
    "    axes[1].plot(epochs, data, label=label)\n",
    "\n",
    "for data, label in zip(\n",
    "    [model_hist[\"f1\"], model_hist[\"val_f1\"]], [labels[2], labels[6]]\n",
    "):\n",
    "    axes[2].plot(epochs, data, label=label)\n",
    "\n",
    "for data, label in zip(\n",
    "    [model_hist[\"auc\"], model_hist[\"val_auc\"]], [labels[3], labels[7]]\n",
    "):\n",
    "    axes[3].plot(epochs, data, label=label)\n",
    "\n",
    "for i, label in zip(range(4), [\"loss\", \"acc\", \"f1\", \"AUC\"]):\n",
    "    axes[i].set_title(label + \" score\")\n",
    "    axes[i].set_xlabel(\"Epochs\")\n",
    "    axes[i].set_ylabel(label)"
   ]
  },
  {
   "cell_type": "code",
   "execution_count": 22,
   "metadata": {
    "execution": {
     "iopub.execute_input": "2020-11-12T18:52:22.389558Z",
     "iopub.status.busy": "2020-11-12T18:52:22.388558Z",
     "iopub.status.idle": "2020-11-12T18:52:22.400561Z",
     "shell.execute_reply": "2020-11-12T18:52:22.399557Z",
     "shell.execute_reply.started": "2020-11-12T18:52:22.389558Z"
    }
   },
   "outputs": [],
   "source": [
    "# Save model performance to json file\n",
    "with open(\"data/models/LSTM_performance.json\", \"w\") as fp:\n",
    "    json.dump(model_hist, fp)"
   ]
  },
  {
   "cell_type": "markdown",
   "metadata": {},
   "source": [
    "## Save model+weights to folder"
   ]
  },
  {
   "cell_type": "code",
   "execution_count": 21,
   "metadata": {
    "execution": {
     "iopub.execute_input": "2020-11-12T18:51:30.375909Z",
     "iopub.status.busy": "2020-11-12T18:51:30.374909Z",
     "iopub.status.idle": "2020-11-12T18:51:31.067908Z",
     "shell.execute_reply": "2020-11-12T18:51:31.066908Z",
     "shell.execute_reply.started": "2020-11-12T18:51:30.375909Z"
    }
   },
   "outputs": [],
   "source": [
    "# Save model\n",
    "tf.keras.Model.save(LSTM, filepath=\"data/models/LSTM_model.h5\")"
   ]
  },
  {
   "cell_type": "markdown",
   "metadata": {},
   "source": [
    "## Calculate precision score with SKlearnbest_LSTM"
   ]
  },
  {
   "cell_type": "code",
   "execution_count": null,
   "metadata": {},
   "outputs": [],
   "source": [
    "from sklearn.metrics import f1_score, accuracy_score, confusion_matrix, roc_auc_score"
   ]
  },
  {
   "cell_type": "code",
   "execution_count": null,
   "metadata": {},
   "outputs": [],
   "source": [
    "# Do predictions on test set\n",
    "val_predv2 = v2.predict(seq_val_features, verbose=0)\n",
    "\n",
    "# Reshape back to (frame, label)\n",
    "val_predv2 = np.reshape(\n",
    "    val_predv2, (val_predv2.shape[0] * val_predv2.shape[1], val_predv2.shape[2])\n",
    ")\n",
    "\n",
    "# Convert one hot encoding to integers\n",
    "val_predv2 = np.argmax(val_predv2, axis=1)"
   ]
  },
  {
   "cell_type": "code",
   "execution_count": null,
   "metadata": {
    "scrolled": true
   },
   "outputs": [],
   "source": [
    "# Reshape back to (frame, label)\n",
    "val_true = np.reshape(\n",
    "    seq_val_labels,\n",
    "    (seq_val_labels.shape[0] * seq_val_labels.shape[1], seq_val_labels.shape[2]),\n",
    ")\n",
    "val_true = np.argmax(val_true, axis=1)"
   ]
  },
  {
   "cell_type": "code",
   "execution_count": null,
   "metadata": {},
   "outputs": [],
   "source": [
    "# F1 Results with model v3\n",
    "for avg in [None, \"micro\", \"macro\", \"weighted\"]:\n",
    "    score = f1_score(val_true, val_predv3, average=avg)\n",
    "    print(f\"Average method: {avg}, f1-score: {score}\")"
   ]
  }
 ],
 "metadata": {
  "kernelspec": {
   "display_name": "Python 3",
   "language": "python",
   "name": "python3"
  },
  "language_info": {
   "codemirror_mode": {
    "name": "ipython",
    "version": 3
   },
   "file_extension": ".py",
   "mimetype": "text/x-python",
   "name": "python",
   "nbconvert_exporter": "python",
   "pygments_lexer": "ipython3",
   "version": "3.7.9"
  },
  "output_auto_scroll": true,
  "toc-autonumbering": true
 },
 "nbformat": 4,
 "nbformat_minor": 4
}
