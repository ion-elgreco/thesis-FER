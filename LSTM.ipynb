{
 "cells": [
  {
   "cell_type": "markdown",
   "metadata": {},
   "source": [
    "## Load/import packages"
   ]
  },
  {
   "cell_type": "code",
   "execution_count": 95,
   "metadata": {
    "execution": {
     "iopub.execute_input": "2020-11-10T15:13:10.767128Z",
     "iopub.status.busy": "2020-11-10T15:13:10.766128Z",
     "iopub.status.idle": "2020-11-10T15:13:10.783128Z",
     "shell.execute_reply": "2020-11-10T15:13:10.783128Z",
     "shell.execute_reply.started": "2020-11-10T15:13:10.767128Z"
    }
   },
   "outputs": [],
   "source": [
    "import json\n",
    "import scipy\n",
    "import numpy as np\n",
    "import tensorflow as tf\n",
    "import matplotlib.pyplot as plt\n",
    "import tensorflow.keras.backend as K\n",
    "import kerastuner as kt\n",
    "\n",
    "from tensorflow.keras import Sequential, layers\n",
    "from tensorflow.keras.losses import CategoricalCrossentropy\n",
    "from sklearn.utils import class_weight\n",
    "\n",
    "from functions import f1, plot_history, arr_replacevalue\n",
    "from load_features import (\n",
    "    train_features,\n",
    "    val_features,\n",
    "    test_features,\n",
    "    train_labels,\n",
    "    val_labels,\n",
    "    labels_reshaper,\n",
    "    features_reshaper,\n",
    ")\n",
    "\n",
    "\n",
    "from os import listdir\n",
    "from os.path import splitext\n",
    "from os.path import join\n",
    "\n",
    "%matplotlib inline\n",
    "\n",
    "# Limit GPU memory usage\n",
    "gpu_devices = tf.config.experimental.list_physical_devices(\"GPU\")\n",
    "for device in gpu_devices:\n",
    "    tf.config.experimental.set_memory_growth(device, True)"
   ]
  },
  {
   "cell_type": "markdown",
   "metadata": {},
   "source": [
    "# Prepare data"
   ]
  },
  {
   "cell_type": "markdown",
   "metadata": {
    "execution": {
     "iopub.execute_input": "2020-11-10T14:56:14.306513Z",
     "iopub.status.busy": "2020-11-10T14:56:14.305513Z",
     "iopub.status.idle": "2020-11-10T14:56:14.312512Z",
     "shell.execute_reply": "2020-11-10T14:56:14.312512Z",
     "shell.execute_reply.started": "2020-11-10T14:56:14.306513Z"
    }
   },
   "source": [
    "## Reshape feautures, labels"
   ]
  },
  {
   "cell_type": "code",
   "execution_count": 158,
   "metadata": {
    "execution": {
     "iopub.execute_input": "2020-11-10T15:41:58.919191Z",
     "iopub.status.busy": "2020-11-10T15:41:58.919191Z",
     "iopub.status.idle": "2020-11-10T15:42:03.448597Z",
     "shell.execute_reply": "2020-11-10T15:42:03.448597Z",
     "shell.execute_reply.started": "2020-11-10T15:41:58.919191Z"
    }
   },
   "outputs": [],
   "source": [
    "# Reshape data to sequence length 150\n",
    "length = 240\n",
    "# seq_train_features = features_reshaper(train_features, length)\n",
    "seq_val_features = features_reshaper(val_features, length)\n",
    "# seq_test_features = features_reshaper(test_features, length)\n",
    "\n",
    "# seq_train_labels = labels_reshaper(train_labels, length)\n",
    "seq_val_labels = labels_reshaper(val_labels, length)"
   ]
  },
  {
   "cell_type": "markdown",
   "metadata": {},
   "source": [
    "## Compute sample weights"
   ]
  },
  {
   "cell_type": "code",
   "execution_count": 3,
   "metadata": {
    "execution": {
     "iopub.execute_input": "2020-11-10T14:09:50.796665Z",
     "iopub.status.busy": "2020-11-10T14:09:50.796665Z",
     "iopub.status.idle": "2020-11-10T14:09:51.192663Z",
     "shell.execute_reply": "2020-11-10T14:09:51.192663Z",
     "shell.execute_reply.started": "2020-11-10T14:09:50.796665Z"
    }
   },
   "outputs": [
    {
     "name": "stderr",
     "output_type": "stream",
     "text": [
      "C:\\Users\\ion\\anaconda3\\envs\\tf-gpu\\lib\\site-packages\\sklearn\\utils\\validation.py:70: FutureWarning: Pass classes=[0 1 2 3 4 5 6], y=[0 0 0 ... 6 6 6] as keyword args. From version 0.25 passing these as positional arguments will result in an error\n",
      "  FutureWarning)\n"
     ]
    }
   ],
   "source": [
    "# Convert one-hot encoded labels back to label integers\n",
    "train_label_ints = np.argmax(seq_train_labels, axis=2)\n",
    "\n",
    "# Compute class weights with sklearn\n",
    "class_weights = class_weight.compute_class_weight(\n",
    "    \"balanced\", np.unique(train_label_ints), train_label_ints.flatten()\n",
    ")\n",
    "d_class_weights = dict(enumerate(class_weights))\n",
    "\n",
    "# Copy label integer array\n",
    "arr = train_label_ints.copy()\n",
    "\n",
    "# Pass a 2D array with shape (samples, sequence_length), to apply a different weight to every timestep of every sample\n",
    "train_samples_weights = arr_replacevalue(arr, d_class_weights)"
   ]
  },
  {
   "cell_type": "markdown",
   "metadata": {},
   "source": [
    "## Define optimal model"
   ]
  },
  {
   "cell_type": "code",
   "execution_count": 5,
   "metadata": {
    "execution": {
     "iopub.execute_input": "2020-11-10T14:10:16.645186Z",
     "iopub.status.busy": "2020-11-10T14:10:16.645186Z",
     "iopub.status.idle": "2020-11-10T14:10:16.653184Z",
     "shell.execute_reply": "2020-11-10T14:10:16.653184Z",
     "shell.execute_reply.started": "2020-11-10T14:10:16.645186Z"
    }
   },
   "outputs": [],
   "source": [
    "def build_opt_model():\n",
    "    model = Sequential(name=\"RNN-LSTM\")\n",
    "    model.add(\n",
    "        layers.InputLayer(\n",
    "            input_shape=(seq_train_features.shape[1], seq_train_features.shape[2])\n",
    "        )\n",
    "    )\n",
    "    model.add(layers.LSTM(2048, return_sequences=True, name=\"LSTM_1\"))\n",
    "    model.add(layers.LayerNormalization())\n",
    "    model.add(layers.LSTM(256, return_sequences=True, name=\"LSTM_2\"))\n",
    "    model.add(layers.Dense(7, activation=\"softmax\", name=\"Dense_Output\"))\n",
    "    model.compile(\n",
    "        optimizer=\"adagrad\",\n",
    "        loss=CategoricalCrossentropy(label_smoothing=0.1),\n",
    "        metrics=[\"accuracy\", f1, \"AUC\"],\n",
    "    )\n",
    "    return model\n",
    "\n",
    "\n",
    "# Other ok models:\n",
    "# 2048 units (layer 1) + 1024 units (layer 2)+ label_smoothing=0.1 (Sequence length: 120)\n",
    "# 1024 units (layer 1) + 512 units (layer 2) (Sequence length: 120)\n",
    "# 2048 units (layer 1) + 1024 units (layer 2) + label_smoothing=0.1 (Sequence length: 60)\n",
    "# 256 units (1 layer) (Sequence length: 60)\n",
    "# 2048 units (1 layer) (Sequence length: 60)"
   ]
  },
  {
   "cell_type": "markdown",
   "metadata": {},
   "source": [
    "# Train + Evaluate model"
   ]
  },
  {
   "cell_type": "markdown",
   "metadata": {},
   "source": [
    "## Best model results"
   ]
  },
  {
   "cell_type": "code",
   "execution_count": 6,
   "metadata": {
    "execution": {
     "iopub.execute_input": "2020-11-10T14:10:18.439455Z",
     "iopub.status.busy": "2020-11-10T14:10:18.439455Z",
     "iopub.status.idle": "2020-11-10T14:10:25.308189Z",
     "shell.execute_reply": "2020-11-10T14:10:25.308189Z",
     "shell.execute_reply.started": "2020-11-10T14:10:18.439455Z"
    }
   },
   "outputs": [
    {
     "name": "stdout",
     "output_type": "stream",
     "text": [
      "Model: \"RNN-LSTM\"\n",
      "_________________________________________________________________\n",
      "Layer (type)                 Output Shape              Param #   \n",
      "=================================================================\n",
      "LSTM_1 (LSTM)                (None, 150, 2048)         54534144  \n",
      "_________________________________________________________________\n",
      "layer_normalization (LayerNo (None, 150, 2048)         4096      \n",
      "_________________________________________________________________\n",
      "LSTM_2 (LSTM)                (None, 150, 256)          2360320   \n",
      "_________________________________________________________________\n",
      "Dense_Output (Dense)         (None, 150, 7)            1799      \n",
      "=================================================================\n",
      "Total params: 56,900,359\n",
      "Trainable params: 56,900,359\n",
      "Non-trainable params: 0\n",
      "_________________________________________________________________\n"
     ]
    }
   ],
   "source": [
    "cnn_rnn_LSTM = build_opt_model()\n",
    "cnn_rnn_LSTM.summary()\n",
    "\n",
    "history_best = cnn_rnn_LSTM.fit(\n",
    "    seq_train_features,\n",
    "    seq_train_labels,\n",
    "    sample_weight=train_samples_weights,\n",
    "    validation_data=(seq_val_features, seq_val_labels),\n",
    "    epochs=25,\n",
    "    callbacks=[\n",
    "        tf.keras.callbacks.EarlyStopping(\n",
    "            monitor=\"val_f1\", verbose=1, patience=6, restore_best_weights=False\n",
    "        )\n",
    "    ],\n",
    "    verbose=2,\n",
    ")"
   ]
  },
  {
   "cell_type": "code",
   "execution_count": 8,
   "metadata": {
    "execution": {
     "iopub.execute_input": "2020-11-10T14:27:21.540411Z",
     "iopub.status.busy": "2020-11-10T14:27:21.540411Z",
     "iopub.status.idle": "2020-11-10T14:27:25.712410Z",
     "shell.execute_reply": "2020-11-10T14:27:25.712410Z",
     "shell.execute_reply.started": "2020-11-10T14:27:21.540411Z"
    }
   },
   "outputs": [
    {
     "name": "stdout",
     "output_type": "stream",
     "text": [
      "{'loss': 1.606621503829956, 'accuracy': 0.49656641483306885, 'f1': 0.4158579707145691, 'auc': 0.8169832229614258}\n"
     ]
    }
   ],
   "source": [
    "results = cnn_rnn_LSTM.evaluate(seq_val_features, seq_val_labels, verbose=0)\n",
    "print(dict(zip(cnn_rnn_LSTM.metrics_names, results)))"
   ]
  },
  {
   "cell_type": "markdown",
   "metadata": {},
   "source": [
    "## Plot performance of model"
   ]
  },
  {
   "cell_type": "code",
   "execution_count": 156,
   "metadata": {
    "execution": {
     "iopub.execute_input": "2020-11-10T15:39:26.651482Z",
     "iopub.status.busy": "2020-11-10T15:39:26.651482Z",
     "iopub.status.idle": "2020-11-10T15:39:27.026438Z",
     "shell.execute_reply": "2020-11-10T15:39:27.026438Z",
     "shell.execute_reply.started": "2020-11-10T15:39:26.651482Z"
    }
   },
   "outputs": [
    {
     "data": {
      "image/png": "[encoded data removed]",
      "text/plain": [
       "<Figure size 1440x288 with 4 Axes>"
      ]
     },
     "metadata": {
      "needs_background": "light"
     },
     "output_type": "display_data"
    }
   ],
   "source": [
    "model_hist = history_best.history\n",
    "\n",
    "labels = [*model_hist.keys()]\n",
    "fig, axes = plt.subplots(1, 4, figsize=(20, 4))\n",
    "epochs = range(1, len(data_list1[0]) + 1)\n",
    "for data, label in zip(\n",
    "    [model_hist[\"loss\"], model_hist[\"val_loss\"]], [labels[0], labels[4]]\n",
    "):\n",
    "    axes[0].plot(epochs, data, label=label)\n",
    "\n",
    "for data, label in zip(\n",
    "    [model_hist[\"accuracy\"], model_hist[\"val_accuracy\"]], [labels[1], labels[5]]\n",
    "):\n",
    "    axes[1].plot(epochs, data, label=label)\n",
    "\n",
    "for data, label in zip(\n",
    "    [model_hist[\"f1\"], model_hist[\"val_f1\"]], [labels[2], labels[6]]\n",
    "):\n",
    "    axes[2].plot(epochs, data, label=label)\n",
    "\n",
    "for data, label in zip(\n",
    "    [model_hist[\"auc\"], model_hist[\"val_auc\"]], [labels[3], labels[7]]\n",
    "):\n",
    "    axes[3].plot(epochs, data, label=label)\n",
    "\n",
    "for i, label in zip(range(4), [\"loss\", \"acc\", \"f1\", \"AUC\"]):\n",
    "    axes[i].set_title(label + \" score\")\n",
    "    axes[i].set_xlabel(\"Epochs\")\n",
    "    axes[i].set_ylabel(label)"
   ]
  },
  {
   "cell_type": "code",
   "execution_count": null,
   "metadata": {},
   "outputs": [],
   "source": [
    "# Save model performance to json file\n",
    "with open('data/LSTM_modelperformancev3.json', 'w') as fp:\n",
    "    json.dump(model_hist, fp)"
   ]
  },
  {
   "cell_type": "markdown",
   "metadata": {},
   "source": [
    "## Calculate precision score with SKlearn"
   ]
  },
  {
   "cell_type": "code",
   "execution_count": 146,
   "metadata": {
    "execution": {
     "iopub.execute_input": "2020-11-10T15:33:00.276472Z",
     "iopub.status.busy": "2020-11-10T15:33:00.276472Z",
     "iopub.status.idle": "2020-11-10T15:33:00.280471Z",
     "shell.execute_reply": "2020-11-10T15:33:00.280471Z",
     "shell.execute_reply.started": "2020-11-10T15:33:00.276472Z"
    }
   },
   "outputs": [],
   "source": [
    "from sklearn.metrics import f1_score, accuracy_score, confusion_matrix, roc_auc_score"
   ]
  },
  {
   "cell_type": "code",
   "execution_count": 159,
   "metadata": {
    "execution": {
     "iopub.execute_input": "2020-11-10T15:42:36.364644Z",
     "iopub.status.busy": "2020-11-10T15:42:36.364644Z",
     "iopub.status.idle": "2020-11-10T15:42:41.090861Z",
     "shell.execute_reply": "2020-11-10T15:42:41.090861Z",
     "shell.execute_reply.started": "2020-11-10T15:42:36.364644Z"
    }
   },
   "outputs": [],
   "source": [
    "# Do predictions on test set\n",
    "val_predv2 = v2.predict(seq_val_features, verbose=0)\n",
    "\n",
    "# Reshape back to (frame, label)\n",
    "val_predv2 = np.reshape(\n",
    "    val_predv2, (val_predv2.shape[0] * val_predv2.shape[1], val_predv2.shape[2])\n",
    ")\n",
    "\n",
    "# Convert one hot encoding to integers\n",
    "val_predv2 = np.argmax(val_predv2, axis=1)"
   ]
  },
  {
   "cell_type": "code",
   "execution_count": 160,
   "metadata": {
    "execution": {
     "iopub.execute_input": "2020-11-10T15:42:41.091862Z",
     "iopub.status.busy": "2020-11-10T15:42:41.091862Z",
     "iopub.status.idle": "2020-11-10T15:42:41.107864Z",
     "shell.execute_reply": "2020-11-10T15:42:41.106861Z",
     "shell.execute_reply.started": "2020-11-10T15:42:41.091862Z"
    },
    "scrolled": true
   },
   "outputs": [],
   "source": [
    "# Reshape back to (frame, label)\n",
    "val_true = np.reshape(\n",
    "    seq_val_labels, (seq_val_labels.shape[0] * seq_val_labels.shape[1], seq_val_labels.shape[2])\n",
    ")\n",
    "val_true = np.argmax(val_true, axis=1)"
   ]
  },
  {
   "cell_type": "code",
   "execution_count": 155,
   "metadata": {
    "execution": {
     "iopub.execute_input": "2020-11-10T15:38:20.128513Z",
     "iopub.status.busy": "2020-11-10T15:38:20.128513Z",
     "iopub.status.idle": "2020-11-10T15:38:20.356511Z",
     "shell.execute_reply": "2020-11-10T15:38:20.356511Z",
     "shell.execute_reply.started": "2020-11-10T15:38:20.128513Z"
    }
   },
   "outputs": [
    {
     "name": "stdout",
     "output_type": "stream",
     "text": [
      "Average method: None, f1-score: [0.65565898 0.08530259 0.00481992 0.03368684 0.36151683 0.13236689\n",
      " 0.36403782]\n",
      "Average method: micro, f1-score: 0.49656641604010027\n",
      "Average method: macro, f1-score: 0.23391284051967842\n",
      "Average method: weighted, f1-score: 0.4787468545223154\n"
     ]
    }
   ],
   "source": [
    "# F1 Results with model v3\n",
    "for avg in [None,  'micro', 'macro', 'weighted']:\n",
    "    score = f1_score(val_true, val_predv3, average=avg)\n",
    "    print(f'Average method: {avg}, f1-score: {score}' )"
   ]
  },
  {
   "cell_type": "markdown",
   "metadata": {},
   "source": [
    "## Plot the model architecture"
   ]
  },
  {
   "cell_type": "code",
   "execution_count": null,
   "metadata": {},
   "outputs": [],
   "source": [
    "# Plot CNN-LSTM model\n",
    "tf.keras.utils.plot_model(\n",
    "    cnn_rnn_LSTM,\n",
    "    to_file=\"images/best_CNN-LSTM_model.png\",\n",
    "    show_shapes=True,\n",
    "    show_layer_names=True,\n",
    "    rankdir=\"TB\",\n",
    "    expand_nested=False,\n",
    "    dpi=96,\n",
    ")"
   ]
  },
  {
   "cell_type": "markdown",
   "metadata": {},
   "source": [
    "## Save model+weights to folder"
   ]
  },
  {
   "cell_type": "code",
   "execution_count": null,
   "metadata": {},
   "outputs": [],
   "source": [
    "# Save model\n",
    "tf.keras.Model.save(cnn_rnn_LSTM, filepath=\"data/CNN-LSTM_model.h5\")"
   ]
  },
  {
   "cell_type": "markdown",
   "metadata": {
    "execution": {
     "iopub.execute_input": "2020-11-05T21:26:38.779491Z",
     "iopub.status.busy": "2020-11-05T21:26:38.778492Z",
     "iopub.status.idle": "2020-11-05T21:26:38.791493Z",
     "shell.execute_reply": "2020-11-05T21:26:38.790491Z",
     "shell.execute_reply.started": "2020-11-05T21:26:38.779491Z"
    }
   },
   "source": [
    "# Predict on test set"
   ]
  },
  {
   "cell_type": "code",
   "execution_count": 10,
   "metadata": {
    "execution": {
     "iopub.execute_input": "2020-11-10T14:27:59.391899Z",
     "iopub.status.busy": "2020-11-10T14:27:59.391899Z",
     "iopub.status.idle": "2020-11-10T14:28:00.889898Z",
     "shell.execute_reply": "2020-11-10T14:28:00.889898Z",
     "shell.execute_reply.started": "2020-11-10T14:27:59.391899Z"
    }
   },
   "outputs": [],
   "source": [
    "# Load best CNN-LSTM model\n",
    "best_LSTM = tf.keras.models.load_model(\n",
    "    filepath=\"data/CNN-LSTM_model.h5\", custom_objects={\"F1-metric\": f1}, compile=False\n",
    ")"
   ]
  },
  {
   "cell_type": "code",
   "execution_count": 5,
   "metadata": {
    "execution": {
     "iopub.execute_input": "2020-11-10T01:19:36.620626Z",
     "iopub.status.busy": "2020-11-10T01:19:36.620626Z",
     "iopub.status.idle": "2020-11-10T01:19:51.172375Z",
     "shell.execute_reply": "2020-11-10T01:19:51.172375Z",
     "shell.execute_reply.started": "2020-11-10T01:19:36.620626Z"
    }
   },
   "outputs": [],
   "source": [
    "# Do predictions on test set\n",
    "test_pred = best_LSTM.predict(seq_test_features, verbose=0)\n",
    "\n",
    "# Reshape back to (frame, label)\n",
    "test_pred = np.reshape(\n",
    "    test_pred, (test_pred.shape[0] * test_pred.shape[1], test_pred.shape[2])\n",
    ")\n",
    "\n",
    "# Convert one hot encoding to integers\n",
    "test_pred = np.argmax(test_pred, axis=1)"
   ]
  },
  {
   "cell_type": "code",
   "execution_count": 6,
   "metadata": {
    "execution": {
     "iopub.execute_input": "2020-11-10T01:19:51.178379Z",
     "iopub.status.busy": "2020-11-10T01:19:51.178379Z",
     "iopub.status.idle": "2020-11-10T01:19:51.347379Z",
     "shell.execute_reply": "2020-11-10T01:19:51.347379Z",
     "shell.execute_reply.started": "2020-11-10T01:19:51.178379Z"
    }
   },
   "outputs": [],
   "source": [
    "# Read test set frames filenames\n",
    "with open(\"data/test_filenames.txt\", \"r\") as fp:\n",
    "    test_filenames = fp.read().splitlines()\n",
    "\n",
    "# Read AW2 video shapes to grab the length of each video\n",
    "with open(\"data/AW2_video_shapes_woext.json\", \"r\") as fp:\n",
    "    AW2_video_shapes = json.load(fp)"
   ]
  },
  {
   "cell_type": "code",
   "execution_count": 37,
   "metadata": {
    "execution": {
     "iopub.execute_input": "2020-11-10T01:54:51.231575Z",
     "iopub.status.busy": "2020-11-10T01:54:51.231575Z",
     "iopub.status.idle": "2020-11-10T01:58:15.852072Z",
     "shell.execute_reply": "2020-11-10T01:58:15.852072Z",
     "shell.execute_reply.started": "2020-11-10T01:54:51.231575Z"
    },
    "scrolled": true
   },
   "outputs": [
    {
     "name": "stdout",
     "output_type": "stream",
     "text": [
      "Current video: 122-60-1920x1080-5, diff: -1\n",
      "Current video: 126-30-1080x1920, diff: 0\n",
      "Current video: 130-25-1280x720_left, diff: -1\n",
      "Current video: 130-25-1280x720_right, diff: -1\n",
      "Current video: 134-30-1280x720, diff: 0\n",
      "Current video: 136-30-1920x1080, diff: 47\n",
      "Current video: 14-30-1920x1080, diff: -1\n",
      "Current video: 16-30-1920x1080, diff: -1\n",
      "Current video: 166, diff: -1\n",
      "Current video: 167, diff: -1\n",
      "Current video: 168, diff: -1\n",
      "Current video: 169, diff: -1\n",
      "Current video: 171, diff: -1\n",
      "Current video: 172, diff: -1\n",
      "Current video: 175, diff: -1\n",
      "Current video: 176, diff: -1\n",
      "Current video: 177, diff: -1\n",
      "Current video: 178, diff: -1\n",
      "Current video: 179, diff: -1\n",
      "Current video: 181, diff: -1\n",
      "Current video: 182, diff: -1\n",
      "Current video: 183, diff: -1\n",
      "Current video: 184, diff: -1\n",
      "Current video: 185, diff: -1\n",
      "Current video: 186, diff: 3\n",
      "Current video: 187, diff: -1\n",
      "Current video: 188, diff: -1\n",
      "Current video: 189, diff: -1\n",
      "Current video: 190, diff: -1\n",
      "Current video: 191, diff: -1\n",
      "Current video: 192, diff: -1\n",
      "Current video: 193, diff: -1\n",
      "Current video: 194, diff: -1\n",
      "Current video: 195, diff: -1\n",
      "Current video: 196, diff: -1\n",
      "Current video: 197, diff: 83\n",
      "Current video: 199, diff: -1\n",
      "Current video: 200, diff: -1\n",
      "Current video: 201, diff: 0\n",
      "Current video: 202, diff: 0\n",
      "Current video: 203, diff: -1\n",
      "Current video: 204, diff: 0\n",
      "Current video: 206, diff: 1\n",
      "Current video: 208, diff: 0\n",
      "Current video: 209, diff: 118\n",
      "Current video: 210, diff: 0\n",
      "Current video: 211, diff: 0\n",
      "Current video: 212, diff: 0\n",
      "Current video: 213, diff: 0\n",
      "Current video: 214, diff: 0\n",
      "Current video: 215, diff: 31\n",
      "Current video: 216, diff: 0\n",
      "Current video: 218, diff: 19\n",
      "Current video: 219, diff: 3\n",
      "Current video: 220, diff: 0\n",
      "Current video: 221, diff: 0\n",
      "Current video: 223, diff: 0\n",
      "Current video: 224, diff: 93\n",
      "Current video: 226, diff: 0\n",
      "Current video: 227, diff: 0\n",
      "Current video: 228, diff: 0\n",
      "Current video: 229, diff: -1\n",
      "Current video: 230, diff: 0\n",
      "Current video: 231, diff: -1\n",
      "Current video: 232, diff: 0\n",
      "Current video: 233, diff: 119\n",
      "Current video: 234, diff: 0\n",
      "Current video: 235, diff: -1\n",
      "Current video: 236, diff: 0\n",
      "Current video: 237, diff: 0\n",
      "Current video: 238, diff: -1\n",
      "Current video: 239, diff: 0\n",
      "Current video: 240, diff: 0\n",
      "Current video: 241, diff: 0\n",
      "Current video: 242, diff: 0\n",
      "Current video: 243, diff: -1\n",
      "Current video: 244, diff: 33\n",
      "Current video: 245, diff: 0\n",
      "Current video: 246, diff: 0\n",
      "Current video: 247, diff: 0\n",
      "Current video: 248, diff: 0\n",
      "Current video: 249, diff: 0\n",
      "Current video: 250, diff: 0\n",
      "Current video: 251, diff: 0\n",
      "Current video: 252, diff: -1\n",
      "Current video: 253, diff: -1\n",
      "Current video: 254, diff: 0\n",
      "Current video: 255, diff: -1\n",
      "Current video: 256, diff: 0\n",
      "Current video: 257, diff: -1\n",
      "Current video: 258, diff: 0\n",
      "Current video: 259, diff: 0\n",
      "Current video: 260, diff: -1\n",
      "Current video: 261, diff: 0\n",
      "Current video: 262, diff: 0\n",
      "Current video: 264, diff: -1\n",
      "Current video: 265, diff: 0\n",
      "Current video: 266, diff: 0\n",
      "Current video: 267, diff: 0\n",
      "Current video: 268, diff: 0\n",
      "Current video: 269, diff: 0\n",
      "Current video: 270, diff: 0\n",
      "Current video: 271, diff: -1\n",
      "Current video: 272, diff: 0\n",
      "Current video: 273, diff: 0\n",
      "Current video: 274, diff: 0\n",
      "Current video: 275, diff: 0\n",
      "Current video: 276, diff: 0\n",
      "Current video: 277, diff: 0\n",
      "Current video: 278, diff: -1\n",
      "Current video: 279, diff: 0\n",
      "Current video: 280, diff: 0\n",
      "Current video: 281, diff: 0\n",
      "Current video: 283, diff: 120\n",
      "Current video: 284, diff: 0\n",
      "Current video: 285, diff: 0\n",
      "Current video: 286, diff: -1\n",
      "Current video: 287, diff: -1\n",
      "Current video: 288, diff: 0\n",
      "Current video: 289, diff: 0\n",
      "Current video: 290, diff: 3\n",
      "Current video: 291, diff: -1\n",
      "Current video: 292, diff: 0\n",
      "Current video: 293, diff: 0\n",
      "Current video: 294, diff: 0\n",
      "Current video: 295, diff: 0\n",
      "Current video: 296, diff: 0\n",
      "Current video: 297, diff: 0\n",
      "Current video: 298, diff: 0\n",
      "Current video: 299, diff: -1\n",
      "Current video: 30-30-1920x1080_left, diff: 1020\n",
      "Current video: 30-30-1920x1080_right, diff: 1020\n",
      "Current video: 303, diff: 0\n",
      "Current video: 304, diff: -1\n",
      "Current video: 305, diff: -1\n",
      "Current video: 306, diff: -1\n",
      "Current video: 307, diff: -1\n",
      "Current video: 308, diff: 0\n",
      "Current video: 309, diff: 0\n",
      "Current video: 311, diff: 0\n",
      "Current video: 312, diff: 17\n",
      "Current video: 313, diff: -1\n",
      "Current video: 314, diff: 0\n",
      "Current video: 315, diff: 0\n",
      "Current video: 317, diff: 0\n",
      "Current video: 318, diff: 28\n",
      "Current video: 319, diff: 0\n",
      "Current video: 320, diff: 120\n",
      "Current video: 321, diff: 0\n",
      "Current video: 322, diff: -1\n",
      "Current video: 323, diff: 0\n",
      "Current video: 324, diff: 0\n",
      "Current video: 40-30-1280x720, diff: -1\n",
      "Current video: 43-30-406x720, diff: -1\n",
      "Current video: 49-30-1280x720_left, diff: -1\n",
      "Current video: 49-30-1280x720_right, diff: -1\n",
      "Current video: 52-30-1280x720_left, diff: 61\n",
      "Current video: 52-30-1280x720_right, diff: 61\n",
      "Current video: 79-30-960x720, diff: -1\n",
      "Current video: 92-24-1920x1080, diff: -1\n",
      "Current video: video10_1_left, diff: 7\n",
      "Current video: video10_1_right, diff: 7\n",
      "Current video: video11, diff: -1\n",
      "Current video: video12, diff: -1\n",
      "Current video: video13, diff: -1\n",
      "Current video: video14, diff: -1\n",
      "Current video: video15, diff: -1\n",
      "Current video: video16, diff: -1\n",
      "Current video: video17, diff: -1\n",
      "Current video: video18, diff: -1\n",
      "Current video: video19, diff: 9\n",
      "Current video: video20, diff: -1\n",
      "Current video: video21, diff: 11\n",
      "Current video: video22, diff: 11\n",
      "Current video: video23, diff: 6\n",
      "Current video: video25, diff: -1\n",
      "Current video: video26, diff: -1\n",
      "Current video: video27, diff: 8\n",
      "Current video: video28, diff: -1\n",
      "Current video: video29_left, diff: 10\n",
      "Current video: video29_right, diff: 10\n",
      "Current video: video30, diff: 3\n",
      "Current video: video32, diff: 17\n",
      "Current video: video33, diff: 15\n",
      "Current video: video35, diff: -1\n",
      "Current video: video36, diff: 7\n",
      "Current video: video37, diff: 70\n",
      "Current video: video38, diff: 8\n",
      "Current video: video39, diff: 7\n",
      "Current video: video40, diff: -1\n",
      "Current video: video41, diff: 28\n",
      "Current video: video42, diff: 9\n",
      "Current video: video44, diff: 7\n",
      "Current video: video45_1, diff: -1\n",
      "Current video: video45_2, diff: -1\n",
      "Current video: video45_4, diff: -1\n",
      "Current video: video46, diff: 5\n",
      "Current video: video49_right, diff: 40\n",
      "Current video: video51, diff: -1\n",
      "Current video: video52, diff: 8\n",
      "Current video: video53, diff: -1\n",
      "Current video: video54, diff: 0\n",
      "Current video: video55_left, diff: 9\n",
      "Current video: video55_right, diff: 9\n",
      "Current video: video56, diff: 0\n",
      "Current video: video57, diff: 48\n",
      "Current video: video59, diff: 0\n",
      "Current video: video59_right, diff: 0\n",
      "Current video: video5_left, diff: 8\n",
      "Current video: video5_right, diff: 8\n",
      "Current video: video60, diff: 13\n",
      "Current video: video62, diff: 0\n",
      "Current video: video64, diff: 0\n",
      "Current video: video65, diff: -1\n",
      "Current video: video69, diff: 0\n",
      "Current video: video70, diff: 7\n",
      "Current video: video71, diff: 0\n",
      "Current video: video74_left, diff: 0\n",
      "Current video: video74_right, diff: 0\n",
      "Current video: video75, diff: 0\n",
      "Current video: video76, diff: 115\n",
      "Current video: video77, diff: 0\n",
      "Current video: video78, diff: 0\n",
      "Current video: video80, diff: 0\n",
      "Current video: video81, diff: 458\n",
      "Current video: video82, diff: 0\n",
      "Current video: video83, diff: 0\n",
      "Current video: video84, diff: 0\n",
      "Current video: video85, diff: 0\n",
      "Current video: video86_1, diff: 0\n",
      "Current video: video86_2, diff: 0\n",
      "Current video: video86_3, diff: 0\n",
      "Current video: video87, diff: 14\n",
      "Current video: video88, diff: 21\n",
      "Current video: video89, diff: 0\n",
      "Current video: video9, diff: 21\n",
      "Current video: video90, diff: 24\n",
      "Current video: video91, diff: 0\n",
      "Current video: video92, diff: 59\n",
      "Current video: video95, diff: 0\n"
     ]
    }
   ],
   "source": [
    "# Puts all test_video_names from test set in list\n",
    "test_videos = []\n",
    "for fn in test_filenames:\n",
    "    video, frame_n = fn.split(\"\\\\\")\n",
    "    test_videos.append(video)\n",
    "test_videos = list(set(test_videos))\n",
    "\n",
    "# Create text file for each video with first line set to all classes in text\n",
    "for video in test_videos:\n",
    "    with open(join(\"data/test_preds_LSTM/\", video + \".txt\"), \"w\") as fp:\n",
    "        fp.write(\"Neutral,Anger,Disgust,Fear,Happiness,Sadness,Surprise\")\n",
    "\n",
    "current_video = \"\"\n",
    "previous_frame_n = -1\n",
    "current_frame_n = 0\n",
    "\n",
    "\n",
    "for fn, label in zip(test_filenames, test_pred):\n",
    "    # Convert label to string\n",
    "    label = str(label)\n",
    "\n",
    "    # Split filename into videoname and frame_n\n",
    "    video, frame_n = fn.split(\"\\\\\")\n",
    "    frame_n = int(frame_n.strip(\".jpg\"))\n",
    "\n",
    "    previous_frame_n = current_frame_n\n",
    "    current_frame_n = frame_n\n",
    "\n",
    "    # If we moved to the next video, check if the previous videos frame_n was\n",
    "    # equal to the total amount of frames of the video. If it wasn't, write to\n",
    "    # all the missing lines -1\n",
    "    if current_video != video:\n",
    "        if current_video != \"\":\n",
    "            fullvideo = current_video.replace(\"_left\", \"\").replace(\"_right\", \"\")\n",
    "            video_length = AW2_video_shapes.get(fullvideo)\n",
    "            video_length = video_length[0]\n",
    "\n",
    "            print(\n",
    "                f\"Current video: {current_video}, diff: {video_length - previous_frame_n}\"\n",
    "            )\n",
    "\n",
    "            if previous_frame_n != video_length:\n",
    "                diff = video_length - previous_frame_n\n",
    "                with open(\n",
    "                    join(\"data/test_preds_LSTM/\", current_video + \".txt\"), \"a\"\n",
    "                ) as fp:\n",
    "                    for i in range(diff):\n",
    "                        fp.write(\"\\n\" + \"-1\")\n",
    "        current_video = video\n",
    "        previous_frame_n = 0\n",
    "\n",
    "    # Calculate difference between current frame_n and previous one\n",
    "    diff = current_frame_n - previous_frame_n\n",
    "\n",
    "    # If frame difference is only 1, then simply write the label on the next line\n",
    "    if diff == 1:\n",
    "        with open(join(\"data/test_preds_LSTM/\", video + \".txt\"), \"a\") as fp:\n",
    "            fp.write(\"\\n\" + label)\n",
    "    # If the frame difference is larger than 1, simply fill the missing lines with -1, and then write the label\n",
    "    else:\n",
    "        with open(join(\"data/test_preds_LSTM/\", video + \".txt\"), \"a\") as fp:\n",
    "            for i in range(diff - 1):\n",
    "                fp.write(\"\\n\" + \"-1\")\n",
    "            fp.write(\"\\n\" + label)"
   ]
  },
  {
   "cell_type": "markdown",
   "metadata": {},
   "source": [
    "# Build HP tuner model"
   ]
  },
  {
   "cell_type": "code",
   "execution_count": 4,
   "metadata": {
    "execution": {
     "iopub.execute_input": "2020-11-10T14:10:00.572352Z",
     "iopub.status.busy": "2020-11-10T14:10:00.572352Z",
     "iopub.status.idle": "2020-11-10T14:10:00.603349Z",
     "shell.execute_reply": "2020-11-10T14:10:00.603349Z",
     "shell.execute_reply.started": "2020-11-10T14:10:00.572352Z"
    }
   },
   "outputs": [],
   "source": [
    "def build_model(hp):\n",
    "    hp_optimizer = hp.Choice(\n",
    "        \"optimizer\", values=[\"adam\", \"rmsprop\", \"adagrad\"], default=\"adagrad\"\n",
    "    )\n",
    "    hp_units = hp.Int(\"units\", min_value=256, max_value=2048, step=256, default=256)\n",
    "\n",
    "    model = Sequential(name=\"RNN-LSTM\")\n",
    "    model.add(\n",
    "        layers.InputLayer(\n",
    "            input_shape=(seq_train_features.shape[1], seq_train_features.shape[2])\n",
    "        )\n",
    "    )\n",
    "    model.add(layers.LSTM(hp_units, return_sequences=True, name=\"LSTM_1\"))\n",
    "    model.add(layers.LayerNormalization())\n",
    "    model.add(layers.LSTM(256, return_sequences=True, name=\"LSTM_2\"))\n",
    "    model.add(layers.Dense(7, activation=\"softmax\", name=\"Dense_Output\"))\n",
    "    model.compile(\n",
    "        optimizer=hp_optimizer,\n",
    "        loss=CategoricalCrossentropy(label_smoothing=0.1),\n",
    "        metrics=[\"accuracy\", f1, \"AUC\"],\n",
    "    )\n",
    "    return model"
   ]
  },
  {
   "cell_type": "markdown",
   "metadata": {},
   "source": [
    "## Hyperparameter tuning"
   ]
  },
  {
   "cell_type": "code",
   "execution_count": 10,
   "metadata": {
    "execution": {
     "iopub.execute_input": "2020-11-09T14:56:17.598089Z",
     "iopub.status.busy": "2020-11-09T14:56:17.598089Z",
     "iopub.status.idle": "2020-11-09T15:31:53.492674Z",
     "shell.execute_reply": "2020-11-09T15:31:53.492674Z",
     "shell.execute_reply.started": "2020-11-09T14:56:17.598089Z"
    },
    "scrolled": true
   },
   "outputs": [
    {
     "data": {
      "text/html": [
       "<span style=\"color:#4527A0\"><h1 style=\"font-size:18px\">Search space summary</h1></span>"
      ],
      "text/plain": [
       "<IPython.core.display.HTML object>"
      ]
     },
     "metadata": {},
     "output_type": "display_data"
    },
    {
     "data": {
      "text/html": [
       "<span style=\"color:cyan\"> |-Default search space size: 2</span>"
      ],
      "text/plain": [
       "<IPython.core.display.HTML object>"
      ]
     },
     "metadata": {},
     "output_type": "display_data"
    },
    {
     "data": {
      "text/html": [
       "<span style=\"color:#7E57C2\"><h2 style=\"font-size:16px\">optimizer (Choice)</h2></span>"
      ],
      "text/plain": [
       "<IPython.core.display.HTML object>"
      ]
     },
     "metadata": {},
     "output_type": "display_data"
    },
    {
     "data": {
      "text/html": [
       "<span style=\"color:cyan\"> |-default: adagrad</span>"
      ],
      "text/plain": [
       "<IPython.core.display.HTML object>"
      ]
     },
     "metadata": {},
     "output_type": "display_data"
    },
    {
     "data": {
      "text/html": [
       "<span style=\"color:blue\"> |-ordered: False</span>"
      ],
      "text/plain": [
       "<IPython.core.display.HTML object>"
      ]
     },
     "metadata": {},
     "output_type": "display_data"
    },
    {
     "data": {
      "text/html": [
       "<span style=\"color:cyan\"> |-values: ['adam', 'rmsprop', 'adagrad']</span>"
      ],
      "text/plain": [
       "<IPython.core.display.HTML object>"
      ]
     },
     "metadata": {},
     "output_type": "display_data"
    },
    {
     "data": {
      "text/html": [
       "<span style=\"color:#7E57C2\"><h2 style=\"font-size:16px\">units (Int)</h2></span>"
      ],
      "text/plain": [
       "<IPython.core.display.HTML object>"
      ]
     },
     "metadata": {},
     "output_type": "display_data"
    },
    {
     "data": {
      "text/html": [
       "<span style=\"color:cyan\"> |-default: 256</span>"
      ],
      "text/plain": [
       "<IPython.core.display.HTML object>"
      ]
     },
     "metadata": {},
     "output_type": "display_data"
    },
    {
     "data": {
      "text/html": [
       "<span style=\"color:blue\"> |-max_value: 1024</span>"
      ],
      "text/plain": [
       "<IPython.core.display.HTML object>"
      ]
     },
     "metadata": {},
     "output_type": "display_data"
    },
    {
     "data": {
      "text/html": [
       "<span style=\"color:cyan\"> |-min_value: 256</span>"
      ],
      "text/plain": [
       "<IPython.core.display.HTML object>"
      ]
     },
     "metadata": {},
     "output_type": "display_data"
    },
    {
     "data": {
      "text/html": [
       "<span style=\"color:blue\"> |-sampling: None</span>"
      ],
      "text/plain": [
       "<IPython.core.display.HTML object>"
      ]
     },
     "metadata": {},
     "output_type": "display_data"
    },
    {
     "data": {
      "text/html": [
       "<span style=\"color:cyan\"> |-step: 256</span>"
      ],
      "text/plain": [
       "<IPython.core.display.HTML object>"
      ]
     },
     "metadata": {},
     "output_type": "display_data"
    },
    {
     "name": "stdout",
     "output_type": "stream",
     "text": [
      "Epoch 1/100\n",
      "193/193 - 22s - loss: 1.5836 - accuracy: 0.3760 - f1: 0.1041 - auc: 0.7735 - val_loss: 1.7724 - val_accuracy: 0.3374 - val_f1: 0.0067 - val_auc: 0.7179\n",
      "Epoch 2/100\n",
      "193/193 - 19s - loss: 1.1779 - accuracy: 0.5765 - f1: 0.2929 - auc: 0.8914 - val_loss: 1.7605 - val_accuracy: 0.3404 - val_f1: 0.0237 - val_auc: 0.7298\n",
      "Epoch 3/100\n",
      "193/193 - 19s - loss: 1.0008 - accuracy: 0.6585 - f1: 0.4434 - auc: 0.9278 - val_loss: 1.7011 - val_accuracy: 0.3910 - val_f1: 0.0682 - val_auc: 0.7589\n",
      "Epoch 4/100\n",
      "193/193 - 20s - loss: 0.8886 - accuracy: 0.7067 - f1: 0.5542 - auc: 0.9464 - val_loss: 1.6432 - val_accuracy: 0.4281 - val_f1: 0.1653 - val_auc: 0.7861\n",
      "Epoch 5/100\n",
      "193/193 - 20s - loss: 0.8093 - accuracy: 0.7475 - f1: 0.6427 - auc: 0.9600 - val_loss: 1.6677 - val_accuracy: 0.4171 - val_f1: 0.1482 - val_auc: 0.7771\n",
      "Epoch 6/100\n",
      "193/193 - 20s - loss: 0.7512 - accuracy: 0.7767 - f1: 0.6984 - auc: 0.9684 - val_loss: 1.6874 - val_accuracy: 0.3986 - val_f1: 0.1740 - val_auc: 0.7738\n",
      "Epoch 7/100\n",
      "193/193 - 19s - loss: 0.7073 - accuracy: 0.8033 - f1: 0.7419 - auc: 0.9749 - val_loss: 1.5970 - val_accuracy: 0.4749 - val_f1: 0.2982 - val_auc: 0.8066\n",
      "Epoch 8/100\n",
      "193/193 - 19s - loss: 0.6724 - accuracy: 0.8261 - f1: 0.7803 - auc: 0.9803 - val_loss: 1.5963 - val_accuracy: 0.4713 - val_f1: 0.3142 - val_auc: 0.8091\n",
      "Epoch 9/100\n",
      "193/193 - 19s - loss: 0.6455 - accuracy: 0.8469 - f1: 0.8077 - auc: 0.9841 - val_loss: 1.6098 - val_accuracy: 0.4690 - val_f1: 0.3119 - val_auc: 0.8039\n",
      "Epoch 10/100\n",
      "193/193 - 19s - loss: 0.6244 - accuracy: 0.8631 - f1: 0.8305 - auc: 0.9872 - val_loss: 1.6077 - val_accuracy: 0.4677 - val_f1: 0.3204 - val_auc: 0.8052\n",
      "Epoch 11/100\n",
      "193/193 - 19s - loss: 0.6068 - accuracy: 0.8785 - f1: 0.8479 - auc: 0.9891 - val_loss: 1.6235 - val_accuracy: 0.4640 - val_f1: 0.3433 - val_auc: 0.8069\n",
      "Epoch 12/100\n",
      "193/193 - 20s - loss: 0.5922 - accuracy: 0.8911 - f1: 0.8669 - auc: 0.9913 - val_loss: 1.6119 - val_accuracy: 0.4717 - val_f1: 0.3441 - val_auc: 0.8060\n",
      "Epoch 00012: early stopping\n"
     ]
    },
    {
     "data": {
      "text/html": [
       "<span style=\"color:#4527A0\"><h1 style=\"font-size:18px\">Trial complete</h1></span>"
      ],
      "text/plain": [
       "<IPython.core.display.HTML object>"
      ]
     },
     "metadata": {},
     "output_type": "display_data"
    },
    {
     "data": {
      "text/html": [
       "<span style=\"color:#4527A0\"><h1 style=\"font-size:18px\">Trial summary</h1></span>"
      ],
      "text/plain": [
       "<IPython.core.display.HTML object>"
      ]
     },
     "metadata": {},
     "output_type": "display_data"
    },
    {
     "data": {
      "text/html": [
       "<span style=\"color:cyan\"> |-Trial ID: 215069ecf1ed3e7fabccfe7f05772f8f</span>"
      ],
      "text/plain": [
       "<IPython.core.display.HTML object>"
      ]
     },
     "metadata": {},
     "output_type": "display_data"
    },
    {
     "data": {
      "text/html": [
       "<span style=\"color:cyan\"> |-Score: 1.5962730646133423</span>"
      ],
      "text/plain": [
       "<IPython.core.display.HTML object>"
      ]
     },
     "metadata": {},
     "output_type": "display_data"
    },
    {
     "data": {
      "text/html": [
       "<span style=\"color:cyan\"> |-Best step: 0</span>"
      ],
      "text/plain": [
       "<IPython.core.display.HTML object>"
      ]
     },
     "metadata": {},
     "output_type": "display_data"
    },
    {
     "data": {
      "text/html": [
       "<span style=\"color:#7E57C2\"><h2 style=\"font-size:16px\">Hyperparameters:</h2></span>"
      ],
      "text/plain": [
       "<IPython.core.display.HTML object>"
      ]
     },
     "metadata": {},
     "output_type": "display_data"
    },
    {
     "data": {
      "text/html": [
       "<span style=\"color:cyan\"> |-optimizer: adagrad</span>"
      ],
      "text/plain": [
       "<IPython.core.display.HTML object>"
      ]
     },
     "metadata": {},
     "output_type": "display_data"
    },
    {
     "data": {
      "text/html": [
       "<span style=\"color:blue\"> |-units: 1024</span>"
      ],
      "text/plain": [
       "<IPython.core.display.HTML object>"
      ]
     },
     "metadata": {},
     "output_type": "display_data"
    },
    {
     "name": "stdout",
     "output_type": "stream",
     "text": [
      "Epoch 1/100\n",
      "193/193 - 16s - loss: 1.6588 - accuracy: 0.3228 - f1: 0.0569 - auc: 0.7195 - val_loss: 1.8477 - val_accuracy: 0.2698 - val_f1: 0.0042 - val_auc: 0.6689\n",
      "Epoch 2/100\n",
      "193/193 - 13s - loss: 1.2924 - accuracy: 0.5113 - f1: 0.1902 - auc: 0.8600 - val_loss: 1.7457 - val_accuracy: 0.3552 - val_f1: 0.0281 - val_auc: 0.7341\n",
      "Epoch 3/100\n",
      "193/193 - 14s - loss: 1.1305 - accuracy: 0.5924 - f1: 0.3063 - auc: 0.8990 - val_loss: 1.7175 - val_accuracy: 0.3680 - val_f1: 0.0550 - val_auc: 0.7516\n",
      "Epoch 4/100\n",
      "193/193 - 13s - loss: 1.0212 - accuracy: 0.6448 - f1: 0.4117 - auc: 0.9225 - val_loss: 1.8114 - val_accuracy: 0.3051 - val_f1: 0.0689 - val_auc: 0.7107\n",
      "Epoch 5/100\n",
      "193/193 - 13s - loss: 0.9378 - accuracy: 0.6741 - f1: 0.4907 - auc: 0.9344 - val_loss: 1.7007 - val_accuracy: 0.3820 - val_f1: 0.1411 - val_auc: 0.7635\n",
      "Epoch 6/100\n",
      "193/193 - 14s - loss: 0.8707 - accuracy: 0.7160 - f1: 0.5728 - auc: 0.9482 - val_loss: 1.6925 - val_accuracy: 0.3852 - val_f1: 0.1803 - val_auc: 0.7703\n",
      "Epoch 7/100\n",
      "193/193 - 13s - loss: 0.8155 - accuracy: 0.7394 - f1: 0.6256 - auc: 0.9560 - val_loss: 1.6606 - val_accuracy: 0.4105 - val_f1: 0.2282 - val_auc: 0.7856\n",
      "Epoch 8/100\n",
      "193/193 - 13s - loss: 0.7743 - accuracy: 0.7631 - f1: 0.6713 - auc: 0.9630 - val_loss: 1.6501 - val_accuracy: 0.4224 - val_f1: 0.2617 - val_auc: 0.7905\n",
      "Epoch 9/100\n",
      "193/193 - 13s - loss: 0.7390 - accuracy: 0.7855 - f1: 0.7107 - auc: 0.9690 - val_loss: 1.7103 - val_accuracy: 0.3839 - val_f1: 0.2340 - val_auc: 0.7695\n",
      "Epoch 10/100\n",
      "193/193 - 13s - loss: 0.7147 - accuracy: 0.7991 - f1: 0.7370 - auc: 0.9725 - val_loss: 1.6538 - val_accuracy: 0.4274 - val_f1: 0.2863 - val_auc: 0.7938\n",
      "Epoch 11/100\n",
      "193/193 - 14s - loss: 0.6850 - accuracy: 0.8179 - f1: 0.7665 - auc: 0.9774 - val_loss: 1.6759 - val_accuracy: 0.4189 - val_f1: 0.2919 - val_auc: 0.7901\n",
      "Epoch 12/100\n",
      "193/193 - 13s - loss: 0.6631 - accuracy: 0.8293 - f1: 0.7869 - auc: 0.9800 - val_loss: 1.6631 - val_accuracy: 0.4346 - val_f1: 0.3246 - val_auc: 0.8003\n",
      "Epoch 00012: early stopping\n"
     ]
    },
    {
     "data": {
      "text/html": [
       "<span style=\"color:#4527A0\"><h1 style=\"font-size:18px\">Trial complete</h1></span>"
      ],
      "text/plain": [
       "<IPython.core.display.HTML object>"
      ]
     },
     "metadata": {},
     "output_type": "display_data"
    },
    {
     "data": {
      "text/html": [
       "<span style=\"color:#4527A0\"><h1 style=\"font-size:18px\">Trial summary</h1></span>"
      ],
      "text/plain": [
       "<IPython.core.display.HTML object>"
      ]
     },
     "metadata": {},
     "output_type": "display_data"
    },
    {
     "data": {
      "text/html": [
       "<span style=\"color:cyan\"> |-Trial ID: 9e60c5c048607efc5fdca6f87255e4c9</span>"
      ],
      "text/plain": [
       "<IPython.core.display.HTML object>"
      ]
     },
     "metadata": {},
     "output_type": "display_data"
    },
    {
     "data": {
      "text/html": [
       "<span style=\"color:cyan\"> |-Score: 1.650098204612732</span>"
      ],
      "text/plain": [
       "<IPython.core.display.HTML object>"
      ]
     },
     "metadata": {},
     "output_type": "display_data"
    },
    {
     "data": {
      "text/html": [
       "<span style=\"color:cyan\"> |-Best step: 0</span>"
      ],
      "text/plain": [
       "<IPython.core.display.HTML object>"
      ]
     },
     "metadata": {},
     "output_type": "display_data"
    },
    {
     "data": {
      "text/html": [
       "<span style=\"color:#7E57C2\"><h2 style=\"font-size:16px\">Hyperparameters:</h2></span>"
      ],
      "text/plain": [
       "<IPython.core.display.HTML object>"
      ]
     },
     "metadata": {},
     "output_type": "display_data"
    },
    {
     "data": {
      "text/html": [
       "<span style=\"color:cyan\"> |-optimizer: adagrad</span>"
      ],
      "text/plain": [
       "<IPython.core.display.HTML object>"
      ]
     },
     "metadata": {},
     "output_type": "display_data"
    },
    {
     "data": {
      "text/html": [
       "<span style=\"color:blue\"> |-units: 512</span>"
      ],
      "text/plain": [
       "<IPython.core.display.HTML object>"
      ]
     },
     "metadata": {},
     "output_type": "display_data"
    },
    {
     "name": "stdout",
     "output_type": "stream",
     "text": [
      "Epoch 1/100\n",
      "193/193 - 23s - loss: 1.8052 - accuracy: 0.3571 - f1: 0.1670 - auc: 0.7668 - val_loss: 2.6531 - val_accuracy: 0.1815 - val_f1: 0.1622 - val_auc: 0.5391\n",
      "Epoch 2/100\n",
      "193/193 - 20s - loss: 1.3595 - accuracy: 0.5895 - f1: 0.4755 - auc: 0.8781 - val_loss: 1.8803 - val_accuracy: 0.2684 - val_f1: 0.1003 - val_auc: 0.7066\n",
      "Epoch 3/100\n",
      "193/193 - 19s - loss: 1.1868 - accuracy: 0.6496 - f1: 0.5893 - auc: 0.9136 - val_loss: 1.7602 - val_accuracy: 0.5071 - val_f1: 0.4535 - val_auc: 0.7995\n",
      "Epoch 4/100\n",
      "193/193 - 20s - loss: 1.0980 - accuracy: 0.6809 - f1: 0.6413 - auc: 0.9287 - val_loss: 1.6485 - val_accuracy: 0.5123 - val_f1: 0.4271 - val_auc: 0.7980\n",
      "Epoch 5/100\n",
      "193/193 - 20s - loss: 0.9984 - accuracy: 0.7244 - f1: 0.6962 - auc: 0.9439 - val_loss: 1.8862 - val_accuracy: 0.4033 - val_f1: 0.3540 - val_auc: 0.7633\n",
      "Epoch 6/100\n",
      "193/193 - 22s - loss: 0.9443 - accuracy: 0.7425 - f1: 0.7201 - auc: 0.9517 - val_loss: 2.3601 - val_accuracy: 0.3121 - val_f1: 0.2535 - val_auc: 0.6625\n",
      "Epoch 7/100\n",
      "193/193 - 21s - loss: 0.9095 - accuracy: 0.7617 - f1: 0.7469 - auc: 0.9574 - val_loss: 2.0100 - val_accuracy: 0.3328 - val_f1: 0.2307 - val_auc: 0.7430\n",
      "Epoch 8/100\n",
      "193/193 - 20s - loss: 0.8510 - accuracy: 0.7791 - f1: 0.7652 - auc: 0.9636 - val_loss: 1.8339 - val_accuracy: 0.4672 - val_f1: 0.4341 - val_auc: 0.7942\n",
      "Epoch 00008: early stopping\n"
     ]
    },
    {
     "data": {
      "text/html": [
       "<span style=\"color:#4527A0\"><h1 style=\"font-size:18px\">Trial complete</h1></span>"
      ],
      "text/plain": [
       "<IPython.core.display.HTML object>"
      ]
     },
     "metadata": {},
     "output_type": "display_data"
    },
    {
     "data": {
      "text/html": [
       "<span style=\"color:#4527A0\"><h1 style=\"font-size:18px\">Trial summary</h1></span>"
      ],
      "text/plain": [
       "<IPython.core.display.HTML object>"
      ]
     },
     "metadata": {},
     "output_type": "display_data"
    },
    {
     "data": {
      "text/html": [
       "<span style=\"color:cyan\"> |-Trial ID: 733f9f6ee51040bcb344d801cb80867c</span>"
      ],
      "text/plain": [
       "<IPython.core.display.HTML object>"
      ]
     },
     "metadata": {},
     "output_type": "display_data"
    },
    {
     "data": {
      "text/html": [
       "<span style=\"color:cyan\"> |-Score: 1.648466944694519</span>"
      ],
      "text/plain": [
       "<IPython.core.display.HTML object>"
      ]
     },
     "metadata": {},
     "output_type": "display_data"
    },
    {
     "data": {
      "text/html": [
       "<span style=\"color:cyan\"> |-Best step: 0</span>"
      ],
      "text/plain": [
       "<IPython.core.display.HTML object>"
      ]
     },
     "metadata": {},
     "output_type": "display_data"
    },
    {
     "data": {
      "text/html": [
       "<span style=\"color:#7E57C2\"><h2 style=\"font-size:16px\">Hyperparameters:</h2></span>"
      ],
      "text/plain": [
       "<IPython.core.display.HTML object>"
      ]
     },
     "metadata": {},
     "output_type": "display_data"
    },
    {
     "data": {
      "text/html": [
       "<span style=\"color:cyan\"> |-optimizer: rmsprop</span>"
      ],
      "text/plain": [
       "<IPython.core.display.HTML object>"
      ]
     },
     "metadata": {},
     "output_type": "display_data"
    },
    {
     "data": {
      "text/html": [
       "<span style=\"color:blue\"> |-units: 1024</span>"
      ],
      "text/plain": [
       "<IPython.core.display.HTML object>"
      ]
     },
     "metadata": {},
     "output_type": "display_data"
    },
    {
     "name": "stdout",
     "output_type": "stream",
     "text": [
      "Epoch 1/100\n",
      "193/193 - 17s - loss: 1.6789 - accuracy: 0.4316 - f1: 0.2166 - auc: 0.8047 - val_loss: 2.0905 - val_accuracy: 0.2005 - val_f1: 0.1705 - val_auc: 0.7544\n",
      "Epoch 2/100\n",
      "193/193 - 14s - loss: 1.3058 - accuracy: 0.6080 - f1: 0.4952 - auc: 0.8923 - val_loss: 1.6684 - val_accuracy: 0.4682 - val_f1: 0.2842 - val_auc: 0.7718\n",
      "Epoch 3/100\n",
      "193/193 - 14s - loss: 1.1705 - accuracy: 0.6603 - f1: 0.5983 - auc: 0.9182 - val_loss: 1.7846 - val_accuracy: 0.4365 - val_f1: 0.3515 - val_auc: 0.7689\n",
      "Epoch 4/100\n",
      "193/193 - 14s - loss: 1.0638 - accuracy: 0.6942 - f1: 0.6458 - auc: 0.9340 - val_loss: 1.8170 - val_accuracy: 0.3981 - val_f1: 0.3075 - val_auc: 0.7412\n",
      "Epoch 5/100\n",
      "193/193 - 14s - loss: 1.0042 - accuracy: 0.7202 - f1: 0.6869 - auc: 0.9430 - val_loss: 1.9865 - val_accuracy: 0.3580 - val_f1: 0.3091 - val_auc: 0.7522\n",
      "Epoch 6/100\n",
      "193/193 - 14s - loss: 0.9616 - accuracy: 0.7379 - f1: 0.7112 - auc: 0.9506 - val_loss: 2.0019 - val_accuracy: 0.4001 - val_f1: 0.3401 - val_auc: 0.7220\n",
      "Epoch 00006: early stopping\n"
     ]
    },
    {
     "data": {
      "text/html": [
       "<span style=\"color:#4527A0\"><h1 style=\"font-size:18px\">Trial complete</h1></span>"
      ],
      "text/plain": [
       "<IPython.core.display.HTML object>"
      ]
     },
     "metadata": {},
     "output_type": "display_data"
    },
    {
     "data": {
      "text/html": [
       "<span style=\"color:#4527A0\"><h1 style=\"font-size:18px\">Trial summary</h1></span>"
      ],
      "text/plain": [
       "<IPython.core.display.HTML object>"
      ]
     },
     "metadata": {},
     "output_type": "display_data"
    },
    {
     "data": {
      "text/html": [
       "<span style=\"color:cyan\"> |-Trial ID: 38ed213b86656495fcc78078f370afcd</span>"
      ],
      "text/plain": [
       "<IPython.core.display.HTML object>"
      ]
     },
     "metadata": {},
     "output_type": "display_data"
    },
    {
     "data": {
      "text/html": [
       "<span style=\"color:cyan\"> |-Score: 1.6683881282806396</span>"
      ],
      "text/plain": [
       "<IPython.core.display.HTML object>"
      ]
     },
     "metadata": {},
     "output_type": "display_data"
    },
    {
     "data": {
      "text/html": [
       "<span style=\"color:cyan\"> |-Best step: 0</span>"
      ],
      "text/plain": [
       "<IPython.core.display.HTML object>"
      ]
     },
     "metadata": {},
     "output_type": "display_data"
    },
    {
     "data": {
      "text/html": [
       "<span style=\"color:#7E57C2\"><h2 style=\"font-size:16px\">Hyperparameters:</h2></span>"
      ],
      "text/plain": [
       "<IPython.core.display.HTML object>"
      ]
     },
     "metadata": {},
     "output_type": "display_data"
    },
    {
     "data": {
      "text/html": [
       "<span style=\"color:cyan\"> |-optimizer: rmsprop</span>"
      ],
      "text/plain": [
       "<IPython.core.display.HTML object>"
      ]
     },
     "metadata": {},
     "output_type": "display_data"
    },
    {
     "data": {
      "text/html": [
       "<span style=\"color:blue\"> |-units: 512</span>"
      ],
      "text/plain": [
       "<IPython.core.display.HTML object>"
      ]
     },
     "metadata": {},
     "output_type": "display_data"
    },
    {
     "name": "stdout",
     "output_type": "stream",
     "text": [
      "Epoch 1/100\n",
      "193/193 - 16s - loss: 1.6432 - accuracy: 0.4063 - f1: 0.1704 - auc: 0.7895 - val_loss: 1.6242 - val_accuracy: 0.4634 - val_f1: 0.1715 - val_auc: 0.7882\n",
      "Epoch 2/100\n",
      "193/193 - 14s - loss: 1.2727 - accuracy: 0.5933 - f1: 0.4627 - auc: 0.8896 - val_loss: 1.8725 - val_accuracy: 0.3480 - val_f1: 0.1883 - val_auc: 0.7136\n",
      "Epoch 3/100\n",
      "193/193 - 14s - loss: 1.1577 - accuracy: 0.6350 - f1: 0.5518 - auc: 0.9105 - val_loss: 2.0791 - val_accuracy: 0.2695 - val_f1: 0.1793 - val_auc: 0.6696\n",
      "Epoch 4/100\n",
      "193/193 - 13s - loss: 1.0481 - accuracy: 0.6766 - f1: 0.6302 - auc: 0.9298 - val_loss: 1.9031 - val_accuracy: 0.3335 - val_f1: 0.2673 - val_auc: 0.7434\n",
      "Epoch 5/100\n",
      "193/193 - 14s - loss: 0.9767 - accuracy: 0.6954 - f1: 0.6574 - auc: 0.9384 - val_loss: 1.7684 - val_accuracy: 0.3848 - val_f1: 0.3114 - val_auc: 0.7799\n",
      "Epoch 00005: early stopping\n"
     ]
    },
    {
     "data": {
      "text/html": [
       "<span style=\"color:#4527A0\"><h1 style=\"font-size:18px\">Trial complete</h1></span>"
      ],
      "text/plain": [
       "<IPython.core.display.HTML object>"
      ]
     },
     "metadata": {},
     "output_type": "display_data"
    },
    {
     "data": {
      "text/html": [
       "<span style=\"color:#4527A0\"><h1 style=\"font-size:18px\">Trial summary</h1></span>"
      ],
      "text/plain": [
       "<IPython.core.display.HTML object>"
      ]
     },
     "metadata": {},
     "output_type": "display_data"
    },
    {
     "data": {
      "text/html": [
       "<span style=\"color:cyan\"> |-Trial ID: 91334c37e8c64da90596b4cdc2e42b82</span>"
      ],
      "text/plain": [
       "<IPython.core.display.HTML object>"
      ]
     },
     "metadata": {},
     "output_type": "display_data"
    },
    {
     "data": {
      "text/html": [
       "<span style=\"color:cyan\"> |-Score: 1.6241531372070312</span>"
      ],
      "text/plain": [
       "<IPython.core.display.HTML object>"
      ]
     },
     "metadata": {},
     "output_type": "display_data"
    },
    {
     "data": {
      "text/html": [
       "<span style=\"color:cyan\"> |-Best step: 0</span>"
      ],
      "text/plain": [
       "<IPython.core.display.HTML object>"
      ]
     },
     "metadata": {},
     "output_type": "display_data"
    },
    {
     "data": {
      "text/html": [
       "<span style=\"color:#7E57C2\"><h2 style=\"font-size:16px\">Hyperparameters:</h2></span>"
      ],
      "text/plain": [
       "<IPython.core.display.HTML object>"
      ]
     },
     "metadata": {},
     "output_type": "display_data"
    },
    {
     "data": {
      "text/html": [
       "<span style=\"color:cyan\"> |-optimizer: adam</span>"
      ],
      "text/plain": [
       "<IPython.core.display.HTML object>"
      ]
     },
     "metadata": {},
     "output_type": "display_data"
    },
    {
     "data": {
      "text/html": [
       "<span style=\"color:blue\"> |-units: 512</span>"
      ],
      "text/plain": [
       "<IPython.core.display.HTML object>"
      ]
     },
     "metadata": {},
     "output_type": "display_data"
    },
    {
     "name": "stdout",
     "output_type": "stream",
     "text": [
      "Epoch 1/100\n",
      "193/193 - 18s - loss: 1.6265 - accuracy: 0.4211 - f1: 0.2060 - auc: 0.7980 - val_loss: 1.6753 - val_accuracy: 0.3652 - val_f1: 0.0827 - val_auc: 0.7708\n",
      "Epoch 2/100\n",
      "193/193 - 16s - loss: 1.2703 - accuracy: 0.5782 - f1: 0.4713 - auc: 0.8879 - val_loss: 2.0740 - val_accuracy: 0.2494 - val_f1: 0.1351 - val_auc: 0.6582\n",
      "Epoch 3/100\n",
      "193/193 - 16s - loss: 1.1497 - accuracy: 0.6432 - f1: 0.5753 - auc: 0.9165 - val_loss: 1.9864 - val_accuracy: 0.2870 - val_f1: 0.1798 - val_auc: 0.6998\n",
      "Epoch 4/100\n",
      "193/193 - 16s - loss: 1.0841 - accuracy: 0.6770 - f1: 0.6251 - auc: 0.9297 - val_loss: 1.8017 - val_accuracy: 0.4335 - val_f1: 0.3430 - val_auc: 0.7548\n",
      "Epoch 5/100\n",
      "193/193 - 16s - loss: 0.9683 - accuracy: 0.7127 - f1: 0.6880 - auc: 0.9438 - val_loss: 1.7761 - val_accuracy: 0.4178 - val_f1: 0.3558 - val_auc: 0.7719\n",
      "Epoch 00005: early stopping\n"
     ]
    },
    {
     "data": {
      "text/html": [
       "<span style=\"color:#4527A0\"><h1 style=\"font-size:18px\">Trial complete</h1></span>"
      ],
      "text/plain": [
       "<IPython.core.display.HTML object>"
      ]
     },
     "metadata": {},
     "output_type": "display_data"
    },
    {
     "data": {
      "text/html": [
       "<span style=\"color:#4527A0\"><h1 style=\"font-size:18px\">Trial summary</h1></span>"
      ],
      "text/plain": [
       "<IPython.core.display.HTML object>"
      ]
     },
     "metadata": {},
     "output_type": "display_data"
    },
    {
     "data": {
      "text/html": [
       "<span style=\"color:cyan\"> |-Trial ID: eb0b1a2e565268e18ea85462cd0e64b3</span>"
      ],
      "text/plain": [
       "<IPython.core.display.HTML object>"
      ]
     },
     "metadata": {},
     "output_type": "display_data"
    },
    {
     "data": {
      "text/html": [
       "<span style=\"color:cyan\"> |-Score: 1.6753164529800415</span>"
      ],
      "text/plain": [
       "<IPython.core.display.HTML object>"
      ]
     },
     "metadata": {},
     "output_type": "display_data"
    },
    {
     "data": {
      "text/html": [
       "<span style=\"color:cyan\"> |-Best step: 0</span>"
      ],
      "text/plain": [
       "<IPython.core.display.HTML object>"
      ]
     },
     "metadata": {},
     "output_type": "display_data"
    },
    {
     "data": {
      "text/html": [
       "<span style=\"color:#7E57C2\"><h2 style=\"font-size:16px\">Hyperparameters:</h2></span>"
      ],
      "text/plain": [
       "<IPython.core.display.HTML object>"
      ]
     },
     "metadata": {},
     "output_type": "display_data"
    },
    {
     "data": {
      "text/html": [
       "<span style=\"color:cyan\"> |-optimizer: adam</span>"
      ],
      "text/plain": [
       "<IPython.core.display.HTML object>"
      ]
     },
     "metadata": {},
     "output_type": "display_data"
    },
    {
     "data": {
      "text/html": [
       "<span style=\"color:blue\"> |-units: 768</span>"
      ],
      "text/plain": [
       "<IPython.core.display.HTML object>"
      ]
     },
     "metadata": {},
     "output_type": "display_data"
    },
    {
     "name": "stdout",
     "output_type": "stream",
     "text": [
      "Epoch 1/100\n",
      "193/193 - 16s - loss: 1.7246 - accuracy: 0.2970 - f1: 0.0220 - auc: 0.6972 - val_loss: 1.8932 - val_accuracy: 0.2137 - val_f1: 4.5855e-04 - val_auc: 0.6305\n",
      "Epoch 2/100\n",
      "193/193 - 13s - loss: 1.4097 - accuracy: 0.4587 - f1: 0.1128 - auc: 0.8283 - val_loss: 1.7692 - val_accuracy: 0.2997 - val_f1: 0.0078 - val_auc: 0.7241\n",
      "Epoch 3/100\n",
      "193/193 - 15s - loss: 1.2525 - accuracy: 0.5430 - f1: 0.2075 - auc: 0.8770 - val_loss: 1.7587 - val_accuracy: 0.3122 - val_f1: 0.0219 - val_auc: 0.7300\n",
      "Epoch 4/100\n",
      "193/193 - 46s - loss: 1.1458 - accuracy: 0.5906 - f1: 0.2888 - auc: 0.8995 - val_loss: 1.7181 - val_accuracy: 0.3556 - val_f1: 0.0399 - val_auc: 0.7520\n",
      "Epoch 5/100\n",
      "193/193 - 55s - loss: 1.0613 - accuracy: 0.6287 - f1: 0.3690 - auc: 0.9154 - val_loss: 1.7016 - val_accuracy: 0.3668 - val_f1: 0.0661 - val_auc: 0.7608\n",
      "Epoch 6/100\n",
      "193/193 - 41s - loss: 0.9925 - accuracy: 0.6523 - f1: 0.4392 - auc: 0.9269 - val_loss: 1.6724 - val_accuracy: 0.3895 - val_f1: 0.1022 - val_auc: 0.7744\n",
      "Epoch 7/100\n",
      "193/193 - 42s - loss: 0.9371 - accuracy: 0.6840 - f1: 0.5074 - auc: 0.9377 - val_loss: 1.6955 - val_accuracy: 0.3798 - val_f1: 0.1259 - val_auc: 0.7655\n",
      "Epoch 8/100\n",
      "193/193 - 35s - loss: 0.8882 - accuracy: 0.7048 - f1: 0.5616 - auc: 0.9451 - val_loss: 1.6632 - val_accuracy: 0.4010 - val_f1: 0.1663 - val_auc: 0.7793\n",
      "Epoch 9/100\n",
      "193/193 - 37s - loss: 0.8492 - accuracy: 0.7248 - f1: 0.6055 - auc: 0.9512 - val_loss: 1.6489 - val_accuracy: 0.4162 - val_f1: 0.2035 - val_auc: 0.7870\n",
      "Epoch 10/100\n",
      "193/193 - 35s - loss: 0.8142 - accuracy: 0.7433 - f1: 0.6460 - auc: 0.9567 - val_loss: 1.6701 - val_accuracy: 0.4087 - val_f1: 0.2118 - val_auc: 0.7798\n",
      "Epoch 11/100\n",
      "193/193 - 35s - loss: 0.7898 - accuracy: 0.7539 - f1: 0.6671 - auc: 0.9602 - val_loss: 1.6285 - val_accuracy: 0.4379 - val_f1: 0.2736 - val_auc: 0.7985\n",
      "Epoch 12/100\n",
      "193/193 - 39s - loss: 0.7591 - accuracy: 0.7714 - f1: 0.7030 - auc: 0.9655 - val_loss: 1.6221 - val_accuracy: 0.4446 - val_f1: 0.2962 - val_auc: 0.8030\n",
      "Epoch 13/100\n",
      "193/193 - 36s - loss: 0.7362 - accuracy: 0.7849 - f1: 0.7256 - auc: 0.9691 - val_loss: 1.6153 - val_accuracy: 0.4543 - val_f1: 0.3224 - val_auc: 0.8069\n",
      "Epoch 14/100\n",
      "193/193 - 37s - loss: 0.7140 - accuracy: 0.8007 - f1: 0.7498 - auc: 0.9730 - val_loss: 1.6673 - val_accuracy: 0.4245 - val_f1: 0.3008 - val_auc: 0.7943\n",
      "Epoch 15/100\n",
      "193/193 - 30s - loss: 0.6970 - accuracy: 0.8068 - f1: 0.7626 - auc: 0.9749 - val_loss: 1.6281 - val_accuracy: 0.4513 - val_f1: 0.3393 - val_auc: 0.8076\n",
      "Epoch 16/100\n",
      "193/193 - 35s - loss: 0.6800 - accuracy: 0.8203 - f1: 0.7813 - auc: 0.9779 - val_loss: 1.6322 - val_accuracy: 0.4508 - val_f1: 0.3362 - val_auc: 0.8051\n",
      "Epoch 17/100\n",
      "193/193 - 33s - loss: 0.6687 - accuracy: 0.8293 - f1: 0.7943 - auc: 0.9798 - val_loss: 1.6246 - val_accuracy: 0.4631 - val_f1: 0.3665 - val_auc: 0.8122\n",
      "Epoch 00017: early stopping\n"
     ]
    },
    {
     "data": {
      "text/html": [
       "<span style=\"color:#4527A0\"><h1 style=\"font-size:18px\">Trial complete</h1></span>"
      ],
      "text/plain": [
       "<IPython.core.display.HTML object>"
      ]
     },
     "metadata": {},
     "output_type": "display_data"
    },
    {
     "data": {
      "text/html": [
       "<span style=\"color:#4527A0\"><h1 style=\"font-size:18px\">Trial summary</h1></span>"
      ],
      "text/plain": [
       "<IPython.core.display.HTML object>"
      ]
     },
     "metadata": {},
     "output_type": "display_data"
    },
    {
     "data": {
      "text/html": [
       "<span style=\"color:cyan\"> |-Trial ID: e0902e57279070b2cb15f06102a786cf</span>"
      ],
      "text/plain": [
       "<IPython.core.display.HTML object>"
      ]
     },
     "metadata": {},
     "output_type": "display_data"
    },
    {
     "data": {
      "text/html": [
       "<span style=\"color:cyan\"> |-Score: 1.6153396368026733</span>"
      ],
      "text/plain": [
       "<IPython.core.display.HTML object>"
      ]
     },
     "metadata": {},
     "output_type": "display_data"
    },
    {
     "data": {
      "text/html": [
       "<span style=\"color:cyan\"> |-Best step: 0</span>"
      ],
      "text/plain": [
       "<IPython.core.display.HTML object>"
      ]
     },
     "metadata": {},
     "output_type": "display_data"
    },
    {
     "data": {
      "text/html": [
       "<span style=\"color:#7E57C2\"><h2 style=\"font-size:16px\">Hyperparameters:</h2></span>"
      ],
      "text/plain": [
       "<IPython.core.display.HTML object>"
      ]
     },
     "metadata": {},
     "output_type": "display_data"
    },
    {
     "data": {
      "text/html": [
       "<span style=\"color:cyan\"> |-optimizer: adagrad</span>"
      ],
      "text/plain": [
       "<IPython.core.display.HTML object>"
      ]
     },
     "metadata": {},
     "output_type": "display_data"
    },
    {
     "data": {
      "text/html": [
       "<span style=\"color:blue\"> |-units: 256</span>"
      ],
      "text/plain": [
       "<IPython.core.display.HTML object>"
      ]
     },
     "metadata": {},
     "output_type": "display_data"
    },
    {
     "name": "stdout",
     "output_type": "stream",
     "text": [
      "Epoch 1/100\n",
      "193/193 - 32s - loss: 1.7692 - accuracy: 0.3699 - f1: 0.1756 - auc: 0.7760 - val_loss: 1.6378 - val_accuracy: 0.4602 - val_f1: 0.0764 - val_auc: 0.7851\n",
      "Epoch 2/100\n",
      "193/193 - 32s - loss: 1.3465 - accuracy: 0.5903 - f1: 0.4789 - auc: 0.8837 - val_loss: 1.5878 - val_accuracy: 0.4803 - val_f1: 0.3234 - val_auc: 0.8048\n",
      "Epoch 3/100\n",
      "193/193 - 32s - loss: 1.1666 - accuracy: 0.6596 - f1: 0.5964 - auc: 0.9160 - val_loss: 1.6979 - val_accuracy: 0.4699 - val_f1: 0.3871 - val_auc: 0.7869\n",
      "Epoch 4/100\n",
      "193/193 - 33s - loss: 1.0995 - accuracy: 0.6933 - f1: 0.6481 - auc: 0.9299 - val_loss: 1.6996 - val_accuracy: 0.4304 - val_f1: 0.3262 - val_auc: 0.7841\n",
      "Epoch 5/100\n",
      "193/193 - 29s - loss: 1.0089 - accuracy: 0.7112 - f1: 0.6821 - auc: 0.9407 - val_loss: 1.6991 - val_accuracy: 0.4584 - val_f1: 0.3905 - val_auc: 0.8016\n",
      "Epoch 6/100\n",
      "193/193 - 29s - loss: 0.9517 - accuracy: 0.7484 - f1: 0.7263 - auc: 0.9547 - val_loss: 1.8981 - val_accuracy: 0.4307 - val_f1: 0.3708 - val_auc: 0.7411\n",
      "Epoch 00006: early stopping\n"
     ]
    },
    {
     "data": {
      "text/html": [
       "<span style=\"color:#4527A0\"><h1 style=\"font-size:18px\">Trial complete</h1></span>"
      ],
      "text/plain": [
       "<IPython.core.display.HTML object>"
      ]
     },
     "metadata": {},
     "output_type": "display_data"
    },
    {
     "data": {
      "text/html": [
       "<span style=\"color:#4527A0\"><h1 style=\"font-size:18px\">Trial summary</h1></span>"
      ],
      "text/plain": [
       "<IPython.core.display.HTML object>"
      ]
     },
     "metadata": {},
     "output_type": "display_data"
    },
    {
     "data": {
      "text/html": [
       "<span style=\"color:cyan\"> |-Trial ID: 081afcbc697bb1e55b444fc041a4c9a9</span>"
      ],
      "text/plain": [
       "<IPython.core.display.HTML object>"
      ]
     },
     "metadata": {},
     "output_type": "display_data"
    },
    {
     "data": {
      "text/html": [
       "<span style=\"color:cyan\"> |-Score: 1.587753176689148</span>"
      ],
      "text/plain": [
       "<IPython.core.display.HTML object>"
      ]
     },
     "metadata": {},
     "output_type": "display_data"
    },
    {
     "data": {
      "text/html": [
       "<span style=\"color:cyan\"> |-Best step: 0</span>"
      ],
      "text/plain": [
       "<IPython.core.display.HTML object>"
      ]
     },
     "metadata": {},
     "output_type": "display_data"
    },
    {
     "data": {
      "text/html": [
       "<span style=\"color:#7E57C2\"><h2 style=\"font-size:16px\">Hyperparameters:</h2></span>"
      ],
      "text/plain": [
       "<IPython.core.display.HTML object>"
      ]
     },
     "metadata": {},
     "output_type": "display_data"
    },
    {
     "data": {
      "text/html": [
       "<span style=\"color:cyan\"> |-optimizer: rmsprop</span>"
      ],
      "text/plain": [
       "<IPython.core.display.HTML object>"
      ]
     },
     "metadata": {},
     "output_type": "display_data"
    },
    {
     "data": {
      "text/html": [
       "<span style=\"color:blue\"> |-units: 768</span>"
      ],
      "text/plain": [
       "<IPython.core.display.HTML object>"
      ]
     },
     "metadata": {},
     "output_type": "display_data"
    },
    {
     "name": "stdout",
     "output_type": "stream",
     "text": [
      "Epoch 1/100\n",
      "193/193 - 29s - loss: 1.6081 - accuracy: 0.3852 - f1: 0.0923 - auc: 0.7732 - val_loss: 1.7908 - val_accuracy: 0.3027 - val_f1: 0.0246 - val_auc: 0.6994\n",
      "Epoch 2/100\n",
      "193/193 - 25s - loss: 1.2197 - accuracy: 0.5619 - f1: 0.2673 - auc: 0.8827 - val_loss: 1.7364 - val_accuracy: 0.3481 - val_f1: 0.0631 - val_auc: 0.7370\n",
      "Epoch 3/100\n",
      "193/193 - 31s - loss: 1.0505 - accuracy: 0.6423 - f1: 0.4051 - auc: 0.9195 - val_loss: 1.7437 - val_accuracy: 0.3427 - val_f1: 0.1006 - val_auc: 0.7340\n",
      "Epoch 4/100\n",
      "193/193 - 21s - loss: 0.9357 - accuracy: 0.6890 - f1: 0.5094 - auc: 0.9379 - val_loss: 1.6318 - val_accuracy: 0.4148 - val_f1: 0.1741 - val_auc: 0.7857\n",
      "Epoch 5/100\n",
      "193/193 - 17s - loss: 0.8549 - accuracy: 0.7338 - f1: 0.6003 - auc: 0.9526 - val_loss: 2.0361 - val_accuracy: 0.2284 - val_f1: 0.1181 - val_auc: 0.6577\n",
      "Epoch 6/100\n",
      "193/193 - 17s - loss: 0.8021 - accuracy: 0.7501 - f1: 0.6484 - auc: 0.9581 - val_loss: 1.6404 - val_accuracy: 0.4129 - val_f1: 0.2047 - val_auc: 0.7879\n",
      "Epoch 7/100\n",
      "193/193 - 17s - loss: 0.7476 - accuracy: 0.7861 - f1: 0.7061 - auc: 0.9686 - val_loss: 1.6187 - val_accuracy: 0.4252 - val_f1: 0.2516 - val_auc: 0.7998\n",
      "Epoch 8/100\n",
      "193/193 - 16s - loss: 0.7119 - accuracy: 0.8078 - f1: 0.7469 - auc: 0.9743 - val_loss: 1.6180 - val_accuracy: 0.4315 - val_f1: 0.2640 - val_auc: 0.7986\n",
      "Epoch 9/100\n",
      "193/193 - 16s - loss: 0.6787 - accuracy: 0.8262 - f1: 0.7764 - auc: 0.9789 - val_loss: 1.5790 - val_accuracy: 0.4602 - val_f1: 0.3095 - val_auc: 0.8140\n",
      "Epoch 10/100\n",
      "193/193 - 17s - loss: 0.6541 - accuracy: 0.8446 - f1: 0.8049 - auc: 0.9828 - val_loss: 1.5669 - val_accuracy: 0.4750 - val_f1: 0.3399 - val_auc: 0.8195\n",
      "Epoch 11/100\n",
      "193/193 - 17s - loss: 0.6325 - accuracy: 0.8601 - f1: 0.8221 - auc: 0.9859 - val_loss: 1.5776 - val_accuracy: 0.4694 - val_f1: 0.3385 - val_auc: 0.8166\n",
      "Epoch 12/100\n",
      "193/193 - 16s - loss: 0.6155 - accuracy: 0.8733 - f1: 0.8434 - auc: 0.9882 - val_loss: 1.5802 - val_accuracy: 0.4694 - val_f1: 0.3526 - val_auc: 0.8181\n",
      "Epoch 13/100\n",
      "193/193 - 16s - loss: 0.6015 - accuracy: 0.8846 - f1: 0.8577 - auc: 0.9900 - val_loss: 1.5993 - val_accuracy: 0.4670 - val_f1: 0.3539 - val_auc: 0.8153\n",
      "Epoch 14/100\n",
      "193/193 - 16s - loss: 0.5898 - accuracy: 0.8941 - f1: 0.8699 - auc: 0.9916 - val_loss: 1.5770 - val_accuracy: 0.4815 - val_f1: 0.3780 - val_auc: 0.8220\n",
      "Epoch 00014: early stopping\n"
     ]
    },
    {
     "data": {
      "text/html": [
       "<span style=\"color:#4527A0\"><h1 style=\"font-size:18px\">Trial complete</h1></span>"
      ],
      "text/plain": [
       "<IPython.core.display.HTML object>"
      ]
     },
     "metadata": {},
     "output_type": "display_data"
    },
    {
     "data": {
      "text/html": [
       "<span style=\"color:#4527A0\"><h1 style=\"font-size:18px\">Trial summary</h1></span>"
      ],
      "text/plain": [
       "<IPython.core.display.HTML object>"
      ]
     },
     "metadata": {},
     "output_type": "display_data"
    },
    {
     "data": {
      "text/html": [
       "<span style=\"color:cyan\"> |-Trial ID: b502645ecbca02f81fa3b6f3caafbdfd</span>"
      ],
      "text/plain": [
       "<IPython.core.display.HTML object>"
      ]
     },
     "metadata": {},
     "output_type": "display_data"
    },
    {
     "data": {
      "text/html": [
       "<span style=\"color:cyan\"> |-Score: 1.566877007484436</span>"
      ],
      "text/plain": [
       "<IPython.core.display.HTML object>"
      ]
     },
     "metadata": {},
     "output_type": "display_data"
    },
    {
     "data": {
      "text/html": [
       "<span style=\"color:cyan\"> |-Best step: 0</span>"
      ],
      "text/plain": [
       "<IPython.core.display.HTML object>"
      ]
     },
     "metadata": {},
     "output_type": "display_data"
    },
    {
     "data": {
      "text/html": [
       "<span style=\"color:#7E57C2\"><h2 style=\"font-size:16px\">Hyperparameters:</h2></span>"
      ],
      "text/plain": [
       "<IPython.core.display.HTML object>"
      ]
     },
     "metadata": {},
     "output_type": "display_data"
    },
    {
     "data": {
      "text/html": [
       "<span style=\"color:cyan\"> |-optimizer: adagrad</span>"
      ],
      "text/plain": [
       "<IPython.core.display.HTML object>"
      ]
     },
     "metadata": {},
     "output_type": "display_data"
    },
    {
     "data": {
      "text/html": [
       "<span style=\"color:blue\"> |-units: 768</span>"
      ],
      "text/plain": [
       "<IPython.core.display.HTML object>"
      ]
     },
     "metadata": {},
     "output_type": "display_data"
    },
    {
     "name": "stdout",
     "output_type": "stream",
     "text": [
      "Epoch 1/100\n",
      "193/193 - 16s - loss: 1.6071 - accuracy: 0.4214 - f1: 0.1973 - auc: 0.8006 - val_loss: 1.8729 - val_accuracy: 0.2485 - val_f1: 0.0550 - val_auc: 0.6816\n",
      "Epoch 2/100\n",
      "193/193 - 13s - loss: 1.2650 - accuracy: 0.5686 - f1: 0.4503 - auc: 0.8805 - val_loss: 2.0419 - val_accuracy: 0.2862 - val_f1: 0.0750 - val_auc: 0.6404\n",
      "Epoch 3/100\n",
      "193/193 - 13s - loss: 1.1008 - accuracy: 0.6425 - f1: 0.5846 - auc: 0.9163 - val_loss: 1.8266 - val_accuracy: 0.3752 - val_f1: 0.2340 - val_auc: 0.7342\n",
      "Epoch 4/100\n",
      "193/193 - 13s - loss: 1.0308 - accuracy: 0.6784 - f1: 0.6321 - auc: 0.9314 - val_loss: 2.0768 - val_accuracy: 0.2499 - val_f1: 0.1511 - val_auc: 0.6627\n",
      "Epoch 5/100\n",
      "193/193 - 13s - loss: 1.0002 - accuracy: 0.6788 - f1: 0.6406 - auc: 0.9324 - val_loss: 1.7483 - val_accuracy: 0.4595 - val_f1: 0.3870 - val_auc: 0.7853\n",
      "Epoch 6/100\n",
      "193/193 - 13s - loss: 0.9494 - accuracy: 0.7184 - f1: 0.6931 - auc: 0.9433 - val_loss: 1.8333 - val_accuracy: 0.3880 - val_f1: 0.3023 - val_auc: 0.7685\n",
      "Epoch 7/100\n",
      "193/193 - 13s - loss: 0.9491 - accuracy: 0.7186 - f1: 0.6892 - auc: 0.9435 - val_loss: 1.8482 - val_accuracy: 0.3929 - val_f1: 0.3393 - val_auc: 0.7654\n",
      "Epoch 8/100\n",
      "193/193 - 13s - loss: 0.9149 - accuracy: 0.7226 - f1: 0.7006 - auc: 0.9492 - val_loss: 1.8424 - val_accuracy: 0.4428 - val_f1: 0.4056 - val_auc: 0.7776\n",
      "Epoch 9/100\n",
      "193/193 - 13s - loss: 0.8496 - accuracy: 0.7470 - f1: 0.7271 - auc: 0.9554 - val_loss: 1.8464 - val_accuracy: 0.4146 - val_f1: 0.3661 - val_auc: 0.7835\n",
      "Epoch 00009: early stopping\n"
     ]
    },
    {
     "data": {
      "text/html": [
       "<span style=\"color:#4527A0\"><h1 style=\"font-size:18px\">Trial complete</h1></span>"
      ],
      "text/plain": [
       "<IPython.core.display.HTML object>"
      ]
     },
     "metadata": {},
     "output_type": "display_data"
    },
    {
     "data": {
      "text/html": [
       "<span style=\"color:#4527A0\"><h1 style=\"font-size:18px\">Trial summary</h1></span>"
      ],
      "text/plain": [
       "<IPython.core.display.HTML object>"
      ]
     },
     "metadata": {},
     "output_type": "display_data"
    },
    {
     "data": {
      "text/html": [
       "<span style=\"color:cyan\"> |-Trial ID: 21922b5933d840255d4f9cae7342cf3c</span>"
      ],
      "text/plain": [
       "<IPython.core.display.HTML object>"
      ]
     },
     "metadata": {},
     "output_type": "display_data"
    },
    {
     "data": {
      "text/html": [
       "<span style=\"color:cyan\"> |-Score: 1.7483042478561401</span>"
      ],
      "text/plain": [
       "<IPython.core.display.HTML object>"
      ]
     },
     "metadata": {},
     "output_type": "display_data"
    },
    {
     "data": {
      "text/html": [
       "<span style=\"color:cyan\"> |-Best step: 0</span>"
      ],
      "text/plain": [
       "<IPython.core.display.HTML object>"
      ]
     },
     "metadata": {},
     "output_type": "display_data"
    },
    {
     "data": {
      "text/html": [
       "<span style=\"color:#7E57C2\"><h2 style=\"font-size:16px\">Hyperparameters:</h2></span>"
      ],
      "text/plain": [
       "<IPython.core.display.HTML object>"
      ]
     },
     "metadata": {},
     "output_type": "display_data"
    },
    {
     "data": {
      "text/html": [
       "<span style=\"color:cyan\"> |-optimizer: adam</span>"
      ],
      "text/plain": [
       "<IPython.core.display.HTML object>"
      ]
     },
     "metadata": {},
     "output_type": "display_data"
    },
    {
     "data": {
      "text/html": [
       "<span style=\"color:blue\"> |-units: 256</span>"
      ],
      "text/plain": [
       "<IPython.core.display.HTML object>"
      ]
     },
     "metadata": {},
     "output_type": "display_data"
    },
    {
     "name": "stdout",
     "output_type": "stream",
     "text": [
      "Epoch 1/100\n",
      "193/193 - 24s - loss: 1.6572 - accuracy: 0.3921 - f1: 0.1706 - auc: 0.7914 - val_loss: 2.0401 - val_accuracy: 0.1682 - val_f1: 0.0369 - val_auc: 0.6058\n",
      "Epoch 2/100\n",
      "193/193 - 21s - loss: 1.2794 - accuracy: 0.5870 - f1: 0.4666 - auc: 0.8904 - val_loss: 1.6296 - val_accuracy: 0.4755 - val_f1: 0.3438 - val_auc: 0.8003\n",
      "Epoch 3/100\n",
      "193/193 - 20s - loss: 1.1613 - accuracy: 0.6504 - f1: 0.5747 - auc: 0.9136 - val_loss: 2.0009 - val_accuracy: 0.2820 - val_f1: 0.1592 - val_auc: 0.6955\n",
      "Epoch 4/100\n",
      "193/193 - 22s - loss: 1.0400 - accuracy: 0.6932 - f1: 0.6498 - auc: 0.9350 - val_loss: 1.6556 - val_accuracy: 0.4751 - val_f1: 0.3912 - val_auc: 0.8089\n",
      "Epoch 5/100\n",
      "193/193 - 20s - loss: 0.9901 - accuracy: 0.7169 - f1: 0.6908 - auc: 0.9450 - val_loss: 1.6590 - val_accuracy: 0.4401 - val_f1: 0.3422 - val_auc: 0.8088\n",
      "Epoch 6/100\n",
      "193/193 - 22s - loss: 0.8953 - accuracy: 0.7503 - f1: 0.7372 - auc: 0.9568 - val_loss: 1.9384 - val_accuracy: 0.3785 - val_f1: 0.3321 - val_auc: 0.7597\n",
      "Epoch 00006: early stopping\n"
     ]
    },
    {
     "data": {
      "text/html": [
       "<span style=\"color:#4527A0\"><h1 style=\"font-size:18px\">Trial complete</h1></span>"
      ],
      "text/plain": [
       "<IPython.core.display.HTML object>"
      ]
     },
     "metadata": {},
     "output_type": "display_data"
    },
    {
     "data": {
      "text/html": [
       "<span style=\"color:#4527A0\"><h1 style=\"font-size:18px\">Trial summary</h1></span>"
      ],
      "text/plain": [
       "<IPython.core.display.HTML object>"
      ]
     },
     "metadata": {},
     "output_type": "display_data"
    },
    {
     "data": {
      "text/html": [
       "<span style=\"color:cyan\"> |-Trial ID: 133a66438f69e8091966fe4825d0c146</span>"
      ],
      "text/plain": [
       "<IPython.core.display.HTML object>"
      ]
     },
     "metadata": {},
     "output_type": "display_data"
    },
    {
     "data": {
      "text/html": [
       "<span style=\"color:cyan\"> |-Score: 1.6296120882034302</span>"
      ],
      "text/plain": [
       "<IPython.core.display.HTML object>"
      ]
     },
     "metadata": {},
     "output_type": "display_data"
    },
    {
     "data": {
      "text/html": [
       "<span style=\"color:cyan\"> |-Best step: 0</span>"
      ],
      "text/plain": [
       "<IPython.core.display.HTML object>"
      ]
     },
     "metadata": {},
     "output_type": "display_data"
    },
    {
     "data": {
      "text/html": [
       "<span style=\"color:#7E57C2\"><h2 style=\"font-size:16px\">Hyperparameters:</h2></span>"
      ],
      "text/plain": [
       "<IPython.core.display.HTML object>"
      ]
     },
     "metadata": {},
     "output_type": "display_data"
    },
    {
     "data": {
      "text/html": [
       "<span style=\"color:cyan\"> |-optimizer: adam</span>"
      ],
      "text/plain": [
       "<IPython.core.display.HTML object>"
      ]
     },
     "metadata": {},
     "output_type": "display_data"
    },
    {
     "data": {
      "text/html": [
       "<span style=\"color:blue\"> |-units: 1024</span>"
      ],
      "text/plain": [
       "<IPython.core.display.HTML object>"
      ]
     },
     "metadata": {},
     "output_type": "display_data"
    },
    {
     "name": "stdout",
     "output_type": "stream",
     "text": [
      "INFO:tensorflow:Oracle triggered exit\n"
     ]
    }
   ],
   "source": [
    "# Keras-tuner setup\n",
    "tuner = kt.RandomSearch(\n",
    "    build_model,\n",
    "    objective=\"val_loss\",\n",
    "    max_trials=48,\n",
    "    executions_per_trial=1,\n",
    "    seed=1337,\n",
    "    project_name=\"Tuner_search\",\n",
    "    overwrite=True,\n",
    ")\n",
    "\n",
    "# Check the defined hyperparameter search space\n",
    "tuner.search_space_summary()\n",
    "\n",
    "# Set early stoppping to patience 4\n",
    "es = tf.keras.callbacks.EarlyStopping(monitor=\"val_loss\", verbose=1, patience=4)\n",
    "\n",
    "# Do random serach for optimal hyperparameters\n",
    "tuner.search(\n",
    "    seq_train_features,\n",
    "    seq_train_labels,\n",
    "    sample_weight=train_samples_weights,\n",
    "    epochs=100,\n",
    "    validation_data=(seq_val_features, seq_val_labels),\n",
    "    callbacks=[es],\n",
    "    verbose=2,\n",
    ")"
   ]
  },
  {
   "cell_type": "markdown",
   "metadata": {},
   "source": [
    "# Build optimal HP model"
   ]
  },
  {
   "cell_type": "code",
   "execution_count": 11,
   "metadata": {
    "ExecuteTime": {
     "end_time": "2020-10-04T17:39:44.932922Z",
     "start_time": "2020-10-04T17:39:44.857125Z"
    },
    "execution": {
     "iopub.execute_input": "2020-11-09T15:56:26.346172Z",
     "iopub.status.busy": "2020-11-09T15:56:26.345174Z",
     "iopub.status.idle": "2020-11-09T15:56:26.418169Z",
     "shell.execute_reply": "2020-11-09T15:56:26.418169Z",
     "shell.execute_reply.started": "2020-11-09T15:56:26.345174Z"
    },
    "scrolled": true
   },
   "outputs": [
    {
     "data": {
      "text/html": [
       "<span style=\"color:#4527A0\"><h1 style=\"font-size:18px\">Results summary</h1></span>"
      ],
      "text/plain": [
       "<IPython.core.display.HTML object>"
      ]
     },
     "metadata": {},
     "output_type": "display_data"
    },
    {
     "data": {
      "text/html": [
       "<span style=\"color:cyan\"> |-Results in .\\Tuner_search</span>"
      ],
      "text/plain": [
       "<IPython.core.display.HTML object>"
      ]
     },
     "metadata": {},
     "output_type": "display_data"
    },
    {
     "data": {
      "text/html": [
       "<span style=\"color:cyan\"> |-Showing 10 best trials</span>"
      ],
      "text/plain": [
       "<IPython.core.display.HTML object>"
      ]
     },
     "metadata": {},
     "output_type": "display_data"
    },
    {
     "data": {
      "text/html": [
       "<span style=\"color:cyan\"> |-Objective(name='val_loss', direction='min')</span>"
      ],
      "text/plain": [
       "<IPython.core.display.HTML object>"
      ]
     },
     "metadata": {},
     "output_type": "display_data"
    },
    {
     "data": {
      "text/html": [
       "<span style=\"color:#4527A0\"><h1 style=\"font-size:18px\">Trial summary</h1></span>"
      ],
      "text/plain": [
       "<IPython.core.display.HTML object>"
      ]
     },
     "metadata": {},
     "output_type": "display_data"
    },
    {
     "data": {
      "text/html": [
       "<span style=\"color:cyan\"> |-Trial ID: b502645ecbca02f81fa3b6f3caafbdfd</span>"
      ],
      "text/plain": [
       "<IPython.core.display.HTML object>"
      ]
     },
     "metadata": {},
     "output_type": "display_data"
    },
    {
     "data": {
      "text/html": [
       "<span style=\"color:cyan\"> |-Score: 1.566877007484436</span>"
      ],
      "text/plain": [
       "<IPython.core.display.HTML object>"
      ]
     },
     "metadata": {},
     "output_type": "display_data"
    },
    {
     "data": {
      "text/html": [
       "<span style=\"color:cyan\"> |-Best step: 0</span>"
      ],
      "text/plain": [
       "<IPython.core.display.HTML object>"
      ]
     },
     "metadata": {},
     "output_type": "display_data"
    },
    {
     "data": {
      "text/html": [
       "<span style=\"color:#7E57C2\"><h2 style=\"font-size:16px\">Hyperparameters:</h2></span>"
      ],
      "text/plain": [
       "<IPython.core.display.HTML object>"
      ]
     },
     "metadata": {},
     "output_type": "display_data"
    },
    {
     "data": {
      "text/html": [
       "<span style=\"color:cyan\"> |-optimizer: adagrad</span>"
      ],
      "text/plain": [
       "<IPython.core.display.HTML object>"
      ]
     },
     "metadata": {},
     "output_type": "display_data"
    },
    {
     "data": {
      "text/html": [
       "<span style=\"color:blue\"> |-units: 768</span>"
      ],
      "text/plain": [
       "<IPython.core.display.HTML object>"
      ]
     },
     "metadata": {},
     "output_type": "display_data"
    },
    {
     "data": {
      "text/html": [
       "<span style=\"color:#4527A0\"><h1 style=\"font-size:18px\">Trial summary</h1></span>"
      ],
      "text/plain": [
       "<IPython.core.display.HTML object>"
      ]
     },
     "metadata": {},
     "output_type": "display_data"
    },
    {
     "data": {
      "text/html": [
       "<span style=\"color:cyan\"> |-Trial ID: 081afcbc697bb1e55b444fc041a4c9a9</span>"
      ],
      "text/plain": [
       "<IPython.core.display.HTML object>"
      ]
     },
     "metadata": {},
     "output_type": "display_data"
    },
    {
     "data": {
      "text/html": [
       "<span style=\"color:cyan\"> |-Score: 1.587753176689148</span>"
      ],
      "text/plain": [
       "<IPython.core.display.HTML object>"
      ]
     },
     "metadata": {},
     "output_type": "display_data"
    },
    {
     "data": {
      "text/html": [
       "<span style=\"color:cyan\"> |-Best step: 0</span>"
      ],
      "text/plain": [
       "<IPython.core.display.HTML object>"
      ]
     },
     "metadata": {},
     "output_type": "display_data"
    },
    {
     "data": {
      "text/html": [
       "<span style=\"color:#7E57C2\"><h2 style=\"font-size:16px\">Hyperparameters:</h2></span>"
      ],
      "text/plain": [
       "<IPython.core.display.HTML object>"
      ]
     },
     "metadata": {},
     "output_type": "display_data"
    },
    {
     "data": {
      "text/html": [
       "<span style=\"color:cyan\"> |-optimizer: rmsprop</span>"
      ],
      "text/plain": [
       "<IPython.core.display.HTML object>"
      ]
     },
     "metadata": {},
     "output_type": "display_data"
    },
    {
     "data": {
      "text/html": [
       "<span style=\"color:blue\"> |-units: 768</span>"
      ],
      "text/plain": [
       "<IPython.core.display.HTML object>"
      ]
     },
     "metadata": {},
     "output_type": "display_data"
    },
    {
     "data": {
      "text/html": [
       "<span style=\"color:#4527A0\"><h1 style=\"font-size:18px\">Trial summary</h1></span>"
      ],
      "text/plain": [
       "<IPython.core.display.HTML object>"
      ]
     },
     "metadata": {},
     "output_type": "display_data"
    },
    {
     "data": {
      "text/html": [
       "<span style=\"color:cyan\"> |-Trial ID: 215069ecf1ed3e7fabccfe7f05772f8f</span>"
      ],
      "text/plain": [
       "<IPython.core.display.HTML object>"
      ]
     },
     "metadata": {},
     "output_type": "display_data"
    },
    {
     "data": {
      "text/html": [
       "<span style=\"color:cyan\"> |-Score: 1.5962730646133423</span>"
      ],
      "text/plain": [
       "<IPython.core.display.HTML object>"
      ]
     },
     "metadata": {},
     "output_type": "display_data"
    },
    {
     "data": {
      "text/html": [
       "<span style=\"color:cyan\"> |-Best step: 0</span>"
      ],
      "text/plain": [
       "<IPython.core.display.HTML object>"
      ]
     },
     "metadata": {},
     "output_type": "display_data"
    },
    {
     "data": {
      "text/html": [
       "<span style=\"color:#7E57C2\"><h2 style=\"font-size:16px\">Hyperparameters:</h2></span>"
      ],
      "text/plain": [
       "<IPython.core.display.HTML object>"
      ]
     },
     "metadata": {},
     "output_type": "display_data"
    },
    {
     "data": {
      "text/html": [
       "<span style=\"color:cyan\"> |-optimizer: adagrad</span>"
      ],
      "text/plain": [
       "<IPython.core.display.HTML object>"
      ]
     },
     "metadata": {},
     "output_type": "display_data"
    },
    {
     "data": {
      "text/html": [
       "<span style=\"color:blue\"> |-units: 1024</span>"
      ],
      "text/plain": [
       "<IPython.core.display.HTML object>"
      ]
     },
     "metadata": {},
     "output_type": "display_data"
    },
    {
     "data": {
      "text/html": [
       "<span style=\"color:#4527A0\"><h1 style=\"font-size:18px\">Trial summary</h1></span>"
      ],
      "text/plain": [
       "<IPython.core.display.HTML object>"
      ]
     },
     "metadata": {},
     "output_type": "display_data"
    },
    {
     "data": {
      "text/html": [
       "<span style=\"color:cyan\"> |-Trial ID: e0902e57279070b2cb15f06102a786cf</span>"
      ],
      "text/plain": [
       "<IPython.core.display.HTML object>"
      ]
     },
     "metadata": {},
     "output_type": "display_data"
    },
    {
     "data": {
      "text/html": [
       "<span style=\"color:cyan\"> |-Score: 1.6153396368026733</span>"
      ],
      "text/plain": [
       "<IPython.core.display.HTML object>"
      ]
     },
     "metadata": {},
     "output_type": "display_data"
    },
    {
     "data": {
      "text/html": [
       "<span style=\"color:cyan\"> |-Best step: 0</span>"
      ],
      "text/plain": [
       "<IPython.core.display.HTML object>"
      ]
     },
     "metadata": {},
     "output_type": "display_data"
    },
    {
     "data": {
      "text/html": [
       "<span style=\"color:#7E57C2\"><h2 style=\"font-size:16px\">Hyperparameters:</h2></span>"
      ],
      "text/plain": [
       "<IPython.core.display.HTML object>"
      ]
     },
     "metadata": {},
     "output_type": "display_data"
    },
    {
     "data": {
      "text/html": [
       "<span style=\"color:cyan\"> |-optimizer: adagrad</span>"
      ],
      "text/plain": [
       "<IPython.core.display.HTML object>"
      ]
     },
     "metadata": {},
     "output_type": "display_data"
    },
    {
     "data": {
      "text/html": [
       "<span style=\"color:blue\"> |-units: 256</span>"
      ],
      "text/plain": [
       "<IPython.core.display.HTML object>"
      ]
     },
     "metadata": {},
     "output_type": "display_data"
    },
    {
     "data": {
      "text/html": [
       "<span style=\"color:#4527A0\"><h1 style=\"font-size:18px\">Trial summary</h1></span>"
      ],
      "text/plain": [
       "<IPython.core.display.HTML object>"
      ]
     },
     "metadata": {},
     "output_type": "display_data"
    },
    {
     "data": {
      "text/html": [
       "<span style=\"color:cyan\"> |-Trial ID: 91334c37e8c64da90596b4cdc2e42b82</span>"
      ],
      "text/plain": [
       "<IPython.core.display.HTML object>"
      ]
     },
     "metadata": {},
     "output_type": "display_data"
    },
    {
     "data": {
      "text/html": [
       "<span style=\"color:cyan\"> |-Score: 1.6241531372070312</span>"
      ],
      "text/plain": [
       "<IPython.core.display.HTML object>"
      ]
     },
     "metadata": {},
     "output_type": "display_data"
    },
    {
     "data": {
      "text/html": [
       "<span style=\"color:cyan\"> |-Best step: 0</span>"
      ],
      "text/plain": [
       "<IPython.core.display.HTML object>"
      ]
     },
     "metadata": {},
     "output_type": "display_data"
    },
    {
     "data": {
      "text/html": [
       "<span style=\"color:#7E57C2\"><h2 style=\"font-size:16px\">Hyperparameters:</h2></span>"
      ],
      "text/plain": [
       "<IPython.core.display.HTML object>"
      ]
     },
     "metadata": {},
     "output_type": "display_data"
    },
    {
     "data": {
      "text/html": [
       "<span style=\"color:cyan\"> |-optimizer: adam</span>"
      ],
      "text/plain": [
       "<IPython.core.display.HTML object>"
      ]
     },
     "metadata": {},
     "output_type": "display_data"
    },
    {
     "data": {
      "text/html": [
       "<span style=\"color:blue\"> |-units: 512</span>"
      ],
      "text/plain": [
       "<IPython.core.display.HTML object>"
      ]
     },
     "metadata": {},
     "output_type": "display_data"
    },
    {
     "data": {
      "text/html": [
       "<span style=\"color:#4527A0\"><h1 style=\"font-size:18px\">Trial summary</h1></span>"
      ],
      "text/plain": [
       "<IPython.core.display.HTML object>"
      ]
     },
     "metadata": {},
     "output_type": "display_data"
    },
    {
     "data": {
      "text/html": [
       "<span style=\"color:cyan\"> |-Trial ID: 133a66438f69e8091966fe4825d0c146</span>"
      ],
      "text/plain": [
       "<IPython.core.display.HTML object>"
      ]
     },
     "metadata": {},
     "output_type": "display_data"
    },
    {
     "data": {
      "text/html": [
       "<span style=\"color:cyan\"> |-Score: 1.6296120882034302</span>"
      ],
      "text/plain": [
       "<IPython.core.display.HTML object>"
      ]
     },
     "metadata": {},
     "output_type": "display_data"
    },
    {
     "data": {
      "text/html": [
       "<span style=\"color:cyan\"> |-Best step: 0</span>"
      ],
      "text/plain": [
       "<IPython.core.display.HTML object>"
      ]
     },
     "metadata": {},
     "output_type": "display_data"
    },
    {
     "data": {
      "text/html": [
       "<span style=\"color:#7E57C2\"><h2 style=\"font-size:16px\">Hyperparameters:</h2></span>"
      ],
      "text/plain": [
       "<IPython.core.display.HTML object>"
      ]
     },
     "metadata": {},
     "output_type": "display_data"
    },
    {
     "data": {
      "text/html": [
       "<span style=\"color:cyan\"> |-optimizer: adam</span>"
      ],
      "text/plain": [
       "<IPython.core.display.HTML object>"
      ]
     },
     "metadata": {},
     "output_type": "display_data"
    },
    {
     "data": {
      "text/html": [
       "<span style=\"color:blue\"> |-units: 1024</span>"
      ],
      "text/plain": [
       "<IPython.core.display.HTML object>"
      ]
     },
     "metadata": {},
     "output_type": "display_data"
    },
    {
     "data": {
      "text/html": [
       "<span style=\"color:#4527A0\"><h1 style=\"font-size:18px\">Trial summary</h1></span>"
      ],
      "text/plain": [
       "<IPython.core.display.HTML object>"
      ]
     },
     "metadata": {},
     "output_type": "display_data"
    },
    {
     "data": {
      "text/html": [
       "<span style=\"color:cyan\"> |-Trial ID: 733f9f6ee51040bcb344d801cb80867c</span>"
      ],
      "text/plain": [
       "<IPython.core.display.HTML object>"
      ]
     },
     "metadata": {},
     "output_type": "display_data"
    },
    {
     "data": {
      "text/html": [
       "<span style=\"color:cyan\"> |-Score: 1.648466944694519</span>"
      ],
      "text/plain": [
       "<IPython.core.display.HTML object>"
      ]
     },
     "metadata": {},
     "output_type": "display_data"
    },
    {
     "data": {
      "text/html": [
       "<span style=\"color:cyan\"> |-Best step: 0</span>"
      ],
      "text/plain": [
       "<IPython.core.display.HTML object>"
      ]
     },
     "metadata": {},
     "output_type": "display_data"
    },
    {
     "data": {
      "text/html": [
       "<span style=\"color:#7E57C2\"><h2 style=\"font-size:16px\">Hyperparameters:</h2></span>"
      ],
      "text/plain": [
       "<IPython.core.display.HTML object>"
      ]
     },
     "metadata": {},
     "output_type": "display_data"
    },
    {
     "data": {
      "text/html": [
       "<span style=\"color:cyan\"> |-optimizer: rmsprop</span>"
      ],
      "text/plain": [
       "<IPython.core.display.HTML object>"
      ]
     },
     "metadata": {},
     "output_type": "display_data"
    },
    {
     "data": {
      "text/html": [
       "<span style=\"color:blue\"> |-units: 1024</span>"
      ],
      "text/plain": [
       "<IPython.core.display.HTML object>"
      ]
     },
     "metadata": {},
     "output_type": "display_data"
    },
    {
     "data": {
      "text/html": [
       "<span style=\"color:#4527A0\"><h1 style=\"font-size:18px\">Trial summary</h1></span>"
      ],
      "text/plain": [
       "<IPython.core.display.HTML object>"
      ]
     },
     "metadata": {},
     "output_type": "display_data"
    },
    {
     "data": {
      "text/html": [
       "<span style=\"color:cyan\"> |-Trial ID: 9e60c5c048607efc5fdca6f87255e4c9</span>"
      ],
      "text/plain": [
       "<IPython.core.display.HTML object>"
      ]
     },
     "metadata": {},
     "output_type": "display_data"
    },
    {
     "data": {
      "text/html": [
       "<span style=\"color:cyan\"> |-Score: 1.650098204612732</span>"
      ],
      "text/plain": [
       "<IPython.core.display.HTML object>"
      ]
     },
     "metadata": {},
     "output_type": "display_data"
    },
    {
     "data": {
      "text/html": [
       "<span style=\"color:cyan\"> |-Best step: 0</span>"
      ],
      "text/plain": [
       "<IPython.core.display.HTML object>"
      ]
     },
     "metadata": {},
     "output_type": "display_data"
    },
    {
     "data": {
      "text/html": [
       "<span style=\"color:#7E57C2\"><h2 style=\"font-size:16px\">Hyperparameters:</h2></span>"
      ],
      "text/plain": [
       "<IPython.core.display.HTML object>"
      ]
     },
     "metadata": {},
     "output_type": "display_data"
    },
    {
     "data": {
      "text/html": [
       "<span style=\"color:cyan\"> |-optimizer: adagrad</span>"
      ],
      "text/plain": [
       "<IPython.core.display.HTML object>"
      ]
     },
     "metadata": {},
     "output_type": "display_data"
    },
    {
     "data": {
      "text/html": [
       "<span style=\"color:blue\"> |-units: 512</span>"
      ],
      "text/plain": [
       "<IPython.core.display.HTML object>"
      ]
     },
     "metadata": {},
     "output_type": "display_data"
    },
    {
     "data": {
      "text/html": [
       "<span style=\"color:#4527A0\"><h1 style=\"font-size:18px\">Trial summary</h1></span>"
      ],
      "text/plain": [
       "<IPython.core.display.HTML object>"
      ]
     },
     "metadata": {},
     "output_type": "display_data"
    },
    {
     "data": {
      "text/html": [
       "<span style=\"color:cyan\"> |-Trial ID: 38ed213b86656495fcc78078f370afcd</span>"
      ],
      "text/plain": [
       "<IPython.core.display.HTML object>"
      ]
     },
     "metadata": {},
     "output_type": "display_data"
    },
    {
     "data": {
      "text/html": [
       "<span style=\"color:cyan\"> |-Score: 1.6683881282806396</span>"
      ],
      "text/plain": [
       "<IPython.core.display.HTML object>"
      ]
     },
     "metadata": {},
     "output_type": "display_data"
    },
    {
     "data": {
      "text/html": [
       "<span style=\"color:cyan\"> |-Best step: 0</span>"
      ],
      "text/plain": [
       "<IPython.core.display.HTML object>"
      ]
     },
     "metadata": {},
     "output_type": "display_data"
    },
    {
     "data": {
      "text/html": [
       "<span style=\"color:#7E57C2\"><h2 style=\"font-size:16px\">Hyperparameters:</h2></span>"
      ],
      "text/plain": [
       "<IPython.core.display.HTML object>"
      ]
     },
     "metadata": {},
     "output_type": "display_data"
    },
    {
     "data": {
      "text/html": [
       "<span style=\"color:cyan\"> |-optimizer: rmsprop</span>"
      ],
      "text/plain": [
       "<IPython.core.display.HTML object>"
      ]
     },
     "metadata": {},
     "output_type": "display_data"
    },
    {
     "data": {
      "text/html": [
       "<span style=\"color:blue\"> |-units: 512</span>"
      ],
      "text/plain": [
       "<IPython.core.display.HTML object>"
      ]
     },
     "metadata": {},
     "output_type": "display_data"
    },
    {
     "data": {
      "text/html": [
       "<span style=\"color:#4527A0\"><h1 style=\"font-size:18px\">Trial summary</h1></span>"
      ],
      "text/plain": [
       "<IPython.core.display.HTML object>"
      ]
     },
     "metadata": {},
     "output_type": "display_data"
    },
    {
     "data": {
      "text/html": [
       "<span style=\"color:cyan\"> |-Trial ID: eb0b1a2e565268e18ea85462cd0e64b3</span>"
      ],
      "text/plain": [
       "<IPython.core.display.HTML object>"
      ]
     },
     "metadata": {},
     "output_type": "display_data"
    },
    {
     "data": {
      "text/html": [
       "<span style=\"color:cyan\"> |-Score: 1.6753164529800415</span>"
      ],
      "text/plain": [
       "<IPython.core.display.HTML object>"
      ]
     },
     "metadata": {},
     "output_type": "display_data"
    },
    {
     "data": {
      "text/html": [
       "<span style=\"color:cyan\"> |-Best step: 0</span>"
      ],
      "text/plain": [
       "<IPython.core.display.HTML object>"
      ]
     },
     "metadata": {},
     "output_type": "display_data"
    },
    {
     "data": {
      "text/html": [
       "<span style=\"color:#7E57C2\"><h2 style=\"font-size:16px\">Hyperparameters:</h2></span>"
      ],
      "text/plain": [
       "<IPython.core.display.HTML object>"
      ]
     },
     "metadata": {},
     "output_type": "display_data"
    },
    {
     "data": {
      "text/html": [
       "<span style=\"color:cyan\"> |-optimizer: adam</span>"
      ],
      "text/plain": [
       "<IPython.core.display.HTML object>"
      ]
     },
     "metadata": {},
     "output_type": "display_data"
    },
    {
     "data": {
      "text/html": [
       "<span style=\"color:blue\"> |-units: 768</span>"
      ],
      "text/plain": [
       "<IPython.core.display.HTML object>"
      ]
     },
     "metadata": {},
     "output_type": "display_data"
    }
   ],
   "source": [
    "tuner.results_summary()"
   ]
  },
  {
   "cell_type": "code",
   "execution_count": 12,
   "metadata": {
    "ExecuteTime": {
     "end_time": "2020-10-04T17:39:44.948879Z",
     "start_time": "2020-10-04T17:39:44.933920Z"
    },
    "execution": {
     "iopub.execute_input": "2020-11-09T15:56:45.772200Z",
     "iopub.status.busy": "2020-11-09T15:56:45.772200Z",
     "iopub.status.idle": "2020-11-09T15:56:45.791199Z",
     "shell.execute_reply": "2020-11-09T15:56:45.791199Z",
     "shell.execute_reply.started": "2020-11-09T15:56:45.772200Z"
    }
   },
   "outputs": [
    {
     "data": {
      "text/plain": [
       "{'optimizer': 'adagrad', 'units': 768}"
      ]
     },
     "execution_count": 12,
     "metadata": {},
     "output_type": "execute_result"
    }
   ],
   "source": [
    "## Grab optimal hyperparameter\n",
    "tuner.oracle.get_best_trials(num_trials=1)[0].hyperparameters.values"
   ]
  }
 ],
 "metadata": {
  "kernelspec": {
   "display_name": "Python 3",
   "language": "python",
   "name": "python3"
  },
  "language_info": {
   "codemirror_mode": {
    "name": "ipython",
    "version": 3
   },
   "file_extension": ".py",
   "mimetype": "text/x-python",
   "name": "python",
   "nbconvert_exporter": "python",
   "pygments_lexer": "ipython3",
   "version": "3.7.9"
  },
  "output_auto_scroll": true
 },
 "nbformat": 4,
 "nbformat_minor": 4
}
