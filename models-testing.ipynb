{
 "cells": [
  {
   "cell_type": "markdown",
   "metadata": {},
   "source": [
    "## Load/import packages"
   ]
  },
  {
   "cell_type": "code",
   "execution_count": 2,
   "metadata": {
    "execution": {
     "iopub.execute_input": "2020-11-04T14:51:08.789370Z",
     "iopub.status.busy": "2020-11-04T14:51:08.789370Z",
     "iopub.status.idle": "2020-11-04T14:51:08.810367Z",
     "shell.execute_reply": "2020-11-04T14:51:08.810367Z",
     "shell.execute_reply.started": "2020-11-04T14:51:08.789370Z"
    }
   },
   "outputs": [
    {
     "name": "stdout",
     "output_type": "stream",
     "text": [
      "[PhysicalDevice(name='/physical_device:GPU:0', device_type='GPU')]\n",
      "\n",
      "Tensorflow Version: 2.4.0-rc0\n",
      "Numpy Version: 1.19.2\n",
      "OpenCV Version: 4.4.0\n",
      "Matplotlib Version: 3.3.1\n",
      "Keras Version: 2.4.0\n"
     ]
    }
   ],
   "source": [
    "import json\n",
    "import cv2\n",
    "import numpy as np\n",
    "import matplotlib\n",
    "import matplotlib.pyplot as plt\n",
    "import tensorflow as tf\n",
    "from tensorflow.keras import Sequential, layers\n",
    "from tensorflow.keras.preprocessing import image_dataset_from_directory\n",
    "from tensorflow.keras.preprocessing.image import ImageDataGenerator\n",
    "\n",
    "\n",
    "from os import listdir, mkdir\n",
    "from os.path import splitext\n",
    "from os.path import join\n",
    "from skimage import io, color\n",
    "\n",
    "%matplotlib inline\n",
    "\n",
    "# Check if Tensorflow uses GPU\n",
    "print(tf.config.experimental.list_physical_devices(\"GPU\"))\n",
    "\n",
    "# Limit GPU memory usage\n",
    "gpu_devices = tf.config.experimental.list_physical_devices(\"GPU\")\n",
    "for device in gpu_devices:\n",
    "    tf.config.experimental.set_memory_growth(device, True)\n",
    "\n",
    "print()\n",
    "print(f\"Tensorflow Version: {tf.__version__}\")\n",
    "print(f\"Numpy Version: {np.__version__}\")\n",
    "print(f\"OpenCV Version: {cv2.__version__}\")\n",
    "print(f\"Matplotlib Version: {matplotlib.__version__}\")\n",
    "print(f\"Keras Version: {tf.keras.__version__}\")"
   ]
  },
  {
   "cell_type": "markdown",
   "metadata": {},
   "source": [
    "# Load datasets"
   ]
  },
  {
   "cell_type": "code",
   "execution_count": 8,
   "metadata": {
    "execution": {
     "iopub.execute_input": "2020-11-04T14:52:39.965911Z",
     "iopub.status.busy": "2020-11-04T14:52:39.965911Z",
     "iopub.status.idle": "2020-11-04T14:53:09.298911Z",
     "shell.execute_reply": "2020-11-04T14:53:09.298911Z",
     "shell.execute_reply.started": "2020-11-04T14:52:39.965911Z"
    }
   },
   "outputs": [
    {
     "name": "stdout",
     "output_type": "stream",
     "text": [
      "Found 922029 files belonging to 7 classes.\n"
     ]
    }
   ],
   "source": [
    "AW2_train_dir = r\"D:\\Aff-Wild2 Dataset\\Aff-wild2\\Sets_per_class\\train\"\n",
    "AW2_norm_train = image_dataset_from_directory(\n",
    "    directory=AW2_train_dir,\n",
    "    labels=\"inferred\",\n",
    "    label_mode=\"categorical\",\n",
    "    shuffle=False,\n",
    "    color_mode=\"rgb\",\n",
    "    batch_size=1,\n",
    "    image_size=(112, 112),\n",
    ")"
   ]
  },
  {
   "cell_type": "code",
   "execution_count": 9,
   "metadata": {
    "execution": {
     "iopub.execute_input": "2020-11-04T14:53:09.300914Z",
     "iopub.status.busy": "2020-11-04T14:53:09.299912Z",
     "iopub.status.idle": "2020-11-04T14:53:09.330913Z",
     "shell.execute_reply": "2020-11-04T14:53:09.330913Z",
     "shell.execute_reply.started": "2020-11-04T14:53:09.300914Z"
    }
   },
   "outputs": [],
   "source": [
    "# Pull the first batch of 7 images\n",
    "count = 0\n",
    "for image, label in AW2_norm_train:\n",
    "    if count == 1:\n",
    "        break\n",
    "    count += 1\n",
    "    img = image\n",
    "    lbl = label"
   ]
  },
  {
   "cell_type": "code",
   "execution_count": 10,
   "metadata": {
    "execution": {
     "iopub.execute_input": "2020-11-04T14:53:09.332911Z",
     "iopub.status.busy": "2020-11-04T14:53:09.331911Z",
     "iopub.status.idle": "2020-11-04T14:53:09.346913Z",
     "shell.execute_reply": "2020-11-04T14:53:09.346913Z",
     "shell.execute_reply.started": "2020-11-04T14:53:09.332911Z"
    }
   },
   "outputs": [
    {
     "data": {
      "text/plain": [
       "TensorShape([1, 112, 112, 3])"
      ]
     },
     "execution_count": 10,
     "metadata": {},
     "output_type": "execute_result"
    }
   ],
   "source": [
    "image.shape"
   ]
  },
  {
   "cell_type": "markdown",
   "metadata": {
    "execution": {
     "iopub.execute_input": "2020-11-02T13:10:21.828161Z",
     "iopub.status.busy": "2020-11-02T13:10:21.828161Z",
     "iopub.status.idle": "2020-11-02T13:10:21.832161Z",
     "shell.execute_reply": "2020-11-02T13:10:21.832161Z",
     "shell.execute_reply.started": "2020-11-02T13:10:21.828161Z"
    }
   },
   "source": [
    "# Initiate Base CNN\n",
    "For the feature extraction the pre-trained **VGG19** network will be used with the imagenet weights. Input shape is set to 112,112,3"
   ]
  },
  {
   "cell_type": "code",
   "execution_count": 17,
   "metadata": {
    "execution": {
     "iopub.execute_input": "2020-11-04T15:14:14.102200Z",
     "iopub.status.busy": "2020-11-04T15:14:14.102200Z",
     "iopub.status.idle": "2020-11-04T15:14:14.372195Z",
     "shell.execute_reply": "2020-11-04T15:14:14.372195Z",
     "shell.execute_reply.started": "2020-11-04T15:14:14.102200Z"
    }
   },
   "outputs": [],
   "source": [
    "from tensorflow.keras.applications.vgg19 import preprocess_input\n",
    "\n",
    "base_VGG19 = tf.keras.applications.VGG19(\n",
    "    include_top=False, weights=\"imagenet\", input_shape=(112, 112, 3)\n",
    ")"
   ]
  },
  {
   "cell_type": "code",
   "execution_count": 18,
   "metadata": {
    "execution": {
     "iopub.execute_input": "2020-11-04T15:14:14.381197Z",
     "iopub.status.busy": "2020-11-04T15:14:14.381197Z",
     "iopub.status.idle": "2020-11-04T15:14:14.403196Z",
     "shell.execute_reply": "2020-11-04T15:14:14.403196Z",
     "shell.execute_reply.started": "2020-11-04T15:14:14.381197Z"
    },
    "scrolled": true
   },
   "outputs": [
    {
     "name": "stdout",
     "output_type": "stream",
     "text": [
      "Model: \"vgg19\"\n",
      "_________________________________________________________________\n",
      "Layer (type)                 Output Shape              Param #   \n",
      "=================================================================\n",
      "input_4 (InputLayer)         [(None, 112, 112, 3)]     0         \n",
      "_________________________________________________________________\n",
      "block1_conv1 (Conv2D)        (None, 112, 112, 64)      1792      \n",
      "_________________________________________________________________\n",
      "block1_conv2 (Conv2D)        (None, 112, 112, 64)      36928     \n",
      "_________________________________________________________________\n",
      "block1_pool (MaxPooling2D)   (None, 56, 56, 64)        0         \n",
      "_________________________________________________________________\n",
      "block2_conv1 (Conv2D)        (None, 56, 56, 128)       73856     \n",
      "_________________________________________________________________\n",
      "block2_conv2 (Conv2D)        (None, 56, 56, 128)       147584    \n",
      "_________________________________________________________________\n",
      "block2_pool (MaxPooling2D)   (None, 28, 28, 128)       0         \n",
      "_________________________________________________________________\n",
      "block3_conv1 (Conv2D)        (None, 28, 28, 256)       295168    \n",
      "_________________________________________________________________\n",
      "block3_conv2 (Conv2D)        (None, 28, 28, 256)       590080    \n",
      "_________________________________________________________________\n",
      "block3_conv3 (Conv2D)        (None, 28, 28, 256)       590080    \n",
      "_________________________________________________________________\n",
      "block3_conv4 (Conv2D)        (None, 28, 28, 256)       590080    \n",
      "_________________________________________________________________\n",
      "block3_pool (MaxPooling2D)   (None, 14, 14, 256)       0         \n",
      "_________________________________________________________________\n",
      "block4_conv1 (Conv2D)        (None, 14, 14, 512)       1180160   \n",
      "_________________________________________________________________\n",
      "block4_conv2 (Conv2D)        (None, 14, 14, 512)       2359808   \n",
      "_________________________________________________________________\n",
      "block4_conv3 (Conv2D)        (None, 14, 14, 512)       2359808   \n",
      "_________________________________________________________________\n",
      "block4_conv4 (Conv2D)        (None, 14, 14, 512)       2359808   \n",
      "_________________________________________________________________\n",
      "block4_pool (MaxPooling2D)   (None, 7, 7, 512)         0         \n",
      "_________________________________________________________________\n",
      "block5_conv1 (Conv2D)        (None, 7, 7, 512)         2359808   \n",
      "_________________________________________________________________\n",
      "block5_conv2 (Conv2D)        (None, 7, 7, 512)         2359808   \n",
      "_________________________________________________________________\n",
      "block5_conv3 (Conv2D)        (None, 7, 7, 512)         2359808   \n",
      "_________________________________________________________________\n",
      "block5_conv4 (Conv2D)        (None, 7, 7, 512)         2359808   \n",
      "_________________________________________________________________\n",
      "block5_pool (MaxPooling2D)   (None, 3, 3, 512)         0         \n",
      "=================================================================\n",
      "Total params: 20,024,384\n",
      "Trainable params: 20,024,384\n",
      "Non-trainable params: 0\n",
      "_________________________________________________________________\n"
     ]
    }
   ],
   "source": [
    "base_VGG19.summary()"
   ]
  },
  {
   "cell_type": "markdown",
   "metadata": {},
   "source": [
    "# Extract all Features"
   ]
  },
  {
   "cell_type": "code",
   "execution_count": 29,
   "metadata": {
    "execution": {
     "iopub.execute_input": "2020-11-04T15:22:06.172375Z",
     "iopub.status.busy": "2020-11-04T15:22:06.172375Z",
     "iopub.status.idle": "2020-11-04T15:22:33.590224Z",
     "shell.execute_reply": "2020-11-04T15:22:33.590224Z",
     "shell.execute_reply.started": "2020-11-04T15:22:06.172375Z"
    }
   },
   "outputs": [
    {
     "name": "stdout",
     "output_type": "stream",
     "text": [
      "Found 922029 images belonging to 7 classes.\n"
     ]
    }
   ],
   "source": [
    "# Define ImageDataGenerator with precoessing function set to preprocess_input for vgg19 model\n",
    "train_datagen = ImageDataGenerator(preprocessing_function=preprocess_input)\n",
    "train_generator = train_datagen.flow_from_directory(\n",
    "    directory=AW2_train_dir,\n",
    "    target_size=(112, 112),\n",
    "    color_mode=\"rgb\",\n",
    "    class_mode=\"categorical\",\n",
    "    batch_size=32,\n",
    "    shuffle=False,\n",
    ")"
   ]
  },
  {
   "cell_type": "code",
   "execution_count": 33,
   "metadata": {
    "execution": {
     "iopub.execute_input": "2020-11-04T15:25:23.058167Z",
     "iopub.status.busy": "2020-11-04T15:25:23.058167Z",
     "iopub.status.idle": "2020-11-04T15:25:23.072166Z",
     "shell.execute_reply": "2020-11-04T15:25:23.072166Z",
     "shell.execute_reply.started": "2020-11-04T15:25:23.058167Z"
    }
   },
   "outputs": [
    {
     "name": "stdout",
     "output_type": "stream",
     "text": [
      "Amount of images in training set: 922029\n",
      "Batch size of generator: 32\n"
     ]
    }
   ],
   "source": [
    "print(f'Amount of images in training set: {train_generator.n}')\n",
    "print(f'Batch size of generator: {train_generator.batch_size}')"
   ]
  },
  {
   "cell_type": "code",
   "execution_count": null,
   "metadata": {},
   "outputs": [],
   "source": [
    "# Reset batch index to 0 again for the train_generator\n",
    "train_generator.reset()"
   ]
  },
  {
   "cell_type": "code",
   "execution_count": null,
   "metadata": {},
   "outputs": [],
   "source": [
    "pred = base_VGG19.predict(train_generator,)"
   ]
  },
  {
   "cell_type": "code",
   "execution_count": 24,
   "metadata": {
    "execution": {
     "iopub.execute_input": "2020-11-04T15:15:07.576156Z",
     "iopub.status.busy": "2020-11-04T15:15:07.576156Z",
     "iopub.status.idle": "2020-11-04T15:15:07.627163Z",
     "shell.execute_reply": "2020-11-04T15:15:07.627163Z",
     "shell.execute_reply.started": "2020-11-04T15:15:07.576156Z"
    }
   },
   "outputs": [],
   "source": [
    "def build_feature_extractor():\n",
    "    model = Sequential(name=\"CNN-Feature extaction\")\n",
    "    model.add(base_VGG19)\n",
    "    base_VGG19.trainable = False\n",
    "    model.add(layers.Flatten(name=\"Flatten\"))\n",
    "    model.compile()\n",
    "    return model\n",
    "\n",
    "\n",
    "FE_model = build_feature_extractor()"
   ]
  },
  {
   "cell_type": "code",
   "execution_count": 25,
   "metadata": {
    "execution": {
     "iopub.execute_input": "2020-11-04T15:15:07.831451Z",
     "iopub.status.busy": "2020-11-04T15:15:07.831451Z",
     "iopub.status.idle": "2020-11-04T15:15:07.848449Z",
     "shell.execute_reply": "2020-11-04T15:15:07.848449Z",
     "shell.execute_reply.started": "2020-11-04T15:15:07.831451Z"
    }
   },
   "outputs": [
    {
     "name": "stdout",
     "output_type": "stream",
     "text": [
      "Model: \"CNN-Feature extaction\"\n",
      "_________________________________________________________________\n",
      "Layer (type)                 Output Shape              Param #   \n",
      "=================================================================\n",
      "vgg19 (Functional)           (None, 3, 3, 512)         20024384  \n",
      "_________________________________________________________________\n",
      "Flatten (Flatten)            (None, 4608)              0         \n",
      "=================================================================\n",
      "Total params: 20,024,384\n",
      "Trainable params: 0\n",
      "Non-trainable params: 20,024,384\n",
      "_________________________________________________________________\n"
     ]
    }
   ],
   "source": [
    "FE_model.summary()"
   ]
  },
  {
   "cell_type": "code",
   "execution_count": null,
   "metadata": {},
   "outputs": [],
   "source": []
  }
 ],
 "metadata": {
  "kernelspec": {
   "display_name": "Python 3",
   "language": "python",
   "name": "python3"
  },
  "language_info": {
   "codemirror_mode": {
    "name": "ipython",
    "version": 3
   },
   "file_extension": ".py",
   "mimetype": "text/x-python",
   "name": "python",
   "nbconvert_exporter": "python",
   "pygments_lexer": "ipython3",
   "version": "3.7.9"
  }
 },
 "nbformat": 4,
 "nbformat_minor": 4
}
