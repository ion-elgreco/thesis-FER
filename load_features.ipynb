{
 "cells": [
  {
   "cell_type": "markdown",
   "metadata": {},
   "source": [
    "## Load/import packages"
   ]
  },
  {
   "cell_type": "code",
   "execution_count": 3,
   "metadata": {
    "execution": {
     "iopub.execute_input": "2020-11-05T21:38:58.473617Z",
     "iopub.status.busy": "2020-11-05T21:38:58.473617Z",
     "iopub.status.idle": "2020-11-05T21:38:58.521618Z",
     "shell.execute_reply": "2020-11-05T21:38:58.520620Z",
     "shell.execute_reply.started": "2020-11-05T21:38:58.473617Z"
    }
   },
   "outputs": [],
   "source": [
    "import scipy.sparse\n",
    "import numpy as np\n",
    "\n",
    "from os import listdir, mkdir\n",
    "from os.path import splitext\n",
    "from os.path import join"
   ]
  },
  {
   "cell_type": "markdown",
   "metadata": {},
   "source": [
    "# Load Features"
   ]
  },
  {
   "cell_type": "markdown",
   "metadata": {},
   "source": [
    "1. Load the .npz and .npy files for training and validation set  ✔\n",
    "2. The features are starting from Class 0 till Class 7 in Ascending order\n",
    "3. For each class, take all features of each video, take this as sequence\n",
    "    3.1 Look up what the largest sequence length is\n",
    "    3.2 Pad all other sequences to the largest sequence length\n",
    "4. Reshape the features to [sequences, sequence_length, features]\n"
   ]
  },
  {
   "cell_type": "code",
   "execution_count": 4,
   "metadata": {
    "execution": {
     "iopub.execute_input": "2020-11-05T21:38:59.495639Z",
     "iopub.status.busy": "2020-11-05T21:38:59.495639Z",
     "iopub.status.idle": "2020-11-05T21:39:09.711638Z",
     "shell.execute_reply": "2020-11-05T21:39:09.710639Z",
     "shell.execute_reply.started": "2020-11-05T21:38:59.495639Z"
    }
   },
   "outputs": [],
   "source": [
    "train_features = scipy.sparse.load_npz('data/train_features.npz')\n",
    "val_features = scipy.sparse.load_npz(\"data/val_features.npz\")\n",
    "train_labels = np.load(\"data/train_labels.npy\")\n",
    "val_labels = np.load(\"data/val_labels.npy\")"
   ]
  },
  {
   "cell_type": "code",
   "execution_count": 16,
   "metadata": {
    "execution": {
     "iopub.execute_input": "2020-11-05T16:17:52.680747Z",
     "iopub.status.busy": "2020-11-05T16:17:52.679747Z",
     "iopub.status.idle": "2020-11-05T16:17:52.693747Z",
     "shell.execute_reply": "2020-11-05T16:17:52.693747Z",
     "shell.execute_reply.started": "2020-11-05T16:17:52.680747Z"
    }
   },
   "outputs": [
    {
     "name": "stdout",
     "output_type": "stream",
     "text": [
      "<class 'scipy.sparse.coo.coo_matrix'>\n",
      "<class 'scipy.sparse.coo.coo_matrix'>\n"
     ]
    }
   ],
   "source": [
    "print(type(train_features))\n",
    "print(type(val_features))"
   ]
  },
  {
   "cell_type": "markdown",
   "metadata": {
    "execution": {
     "iopub.execute_input": "2020-11-05T16:23:34.450237Z",
     "iopub.status.busy": "2020-11-05T16:23:34.450237Z",
     "iopub.status.idle": "2020-11-05T16:23:34.459238Z",
     "shell.execute_reply": "2020-11-05T16:23:34.458236Z",
     "shell.execute_reply.started": "2020-11-05T16:23:34.450237Z"
    }
   },
   "source": [
    "Convert to CSR because I need to subscript the feature set"
   ]
  },
  {
   "cell_type": "code",
   "execution_count": 17,
   "metadata": {
    "execution": {
     "iopub.execute_input": "2020-11-05T16:22:45.449470Z",
     "iopub.status.busy": "2020-11-05T16:22:45.449470Z",
     "iopub.status.idle": "2020-11-05T16:22:48.779466Z",
     "shell.execute_reply": "2020-11-05T16:22:48.779466Z",
     "shell.execute_reply.started": "2020-11-05T16:22:45.449470Z"
    }
   },
   "outputs": [
    {
     "name": "stdout",
     "output_type": "stream",
     "text": [
      "<class 'scipy.sparse.csr.csr_matrix'>\n",
      "<class 'scipy.sparse.csr.csr_matrix'>\n"
     ]
    }
   ],
   "source": [
    "train_features = scipy.sparse.csr_matrix(train_features)\n",
    "val_features = scipy.sparse.csr_matrix(val_features)\n",
    "print(type(train_features))\n",
    "print(type(val_features))"
   ]
  }
 ],
 "metadata": {
  "kernelspec": {
   "display_name": "Python 3",
   "language": "python",
   "name": "python3"
  },
  "language_info": {
   "codemirror_mode": {
    "name": "ipython",
    "version": 3
   },
   "file_extension": ".py",
   "mimetype": "text/x-python",
   "name": "python",
   "nbconvert_exporter": "python",
   "pygments_lexer": "ipython3",
   "version": "3.7.9"
  }
 },
 "nbformat": 4,
 "nbformat_minor": 4
}
