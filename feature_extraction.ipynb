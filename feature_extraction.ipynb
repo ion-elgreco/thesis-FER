{
 "cells": [
  {
   "cell_type": "markdown",
   "metadata": {},
   "source": [
    "## Load/import packages"
   ]
  },
  {
   "cell_type": "code",
   "execution_count": 1,
   "metadata": {
    "execution": {
     "iopub.execute_input": "2020-11-04T22:29:56.699433Z",
     "iopub.status.busy": "2020-11-04T22:29:56.699433Z",
     "iopub.status.idle": "2020-11-04T22:29:59.736432Z",
     "shell.execute_reply": "2020-11-04T22:29:59.736432Z",
     "shell.execute_reply.started": "2020-11-04T22:29:56.699433Z"
    }
   },
   "outputs": [
    {
     "name": "stdout",
     "output_type": "stream",
     "text": [
      "[PhysicalDevice(name='/physical_device:GPU:0', device_type='GPU')]\n",
      "\n",
      "Tensorflow Version: 2.4.0-rc0\n",
      "Numpy Version: 1.19.2\n",
      "OpenCV Version: 4.4.0\n",
      "Matplotlib Version: 3.3.1\n",
      "Keras Version: 2.4.0\n"
     ]
    }
   ],
   "source": [
    "import json\n",
    "import cv2\n",
    "import scipy.sparse\n",
    "import numpy as np\n",
    "import matplotlib\n",
    "import matplotlib.pyplot as plt\n",
    "import tensorflow as tf\n",
    "from tensorflow.keras import Sequential, layers\n",
    "from tensorflow.keras.preprocessing import image_dataset_from_directory\n",
    "from tensorflow.keras.preprocessing.image import ImageDataGenerator\n",
    "\n",
    "\n",
    "from os import listdir, mkdir\n",
    "from os.path import splitext\n",
    "from os.path import join\n",
    "from skimage import io, color\n",
    "\n",
    "%matplotlib inline\n",
    "\n",
    "# Check if Tensorflow uses GPU\n",
    "print(tf.config.experimental.list_physical_devices(\"GPU\"))\n",
    "\n",
    "# Limit GPU memory usage\n",
    "gpu_devices = tf.config.experimental.list_physical_devices(\"GPU\")\n",
    "for device in gpu_devices:\n",
    "    tf.config.experimental.set_memory_growth(device, True)\n",
    "\n",
    "print()\n",
    "print(f\"Tensorflow Version: {tf.__version__}\")\n",
    "print(f\"Numpy Version: {np.__version__}\")\n",
    "print(f\"OpenCV Version: {cv2.__version__}\")\n",
    "print(f\"Matplotlib Version: {matplotlib.__version__}\")\n",
    "print(f\"Keras Version: {tf.keras.__version__}\")"
   ]
  },
  {
   "cell_type": "markdown",
   "metadata": {
    "execution": {
     "iopub.execute_input": "2020-11-02T13:10:21.828161Z",
     "iopub.status.busy": "2020-11-02T13:10:21.828161Z",
     "iopub.status.idle": "2020-11-02T13:10:21.832161Z",
     "shell.execute_reply": "2020-11-02T13:10:21.832161Z",
     "shell.execute_reply.started": "2020-11-02T13:10:21.828161Z"
    }
   },
   "source": [
    "# Initiate Base CNN\n",
    "For the feature extraction the pre-trained **VGG19** network will be used with the imagenet weights. Input shape is set to 112,112,3. The top is not included because we only want to extract features."
   ]
  },
  {
   "cell_type": "code",
   "execution_count": 2,
   "metadata": {
    "execution": {
     "iopub.execute_input": "2020-11-04T22:30:01.393742Z",
     "iopub.status.busy": "2020-11-04T22:30:01.392743Z",
     "iopub.status.idle": "2020-11-04T22:30:02.120535Z",
     "shell.execute_reply": "2020-11-04T22:30:02.120535Z",
     "shell.execute_reply.started": "2020-11-04T22:30:01.393742Z"
    }
   },
   "outputs": [],
   "source": [
    "from tensorflow.keras.applications.vgg19 import preprocess_input\n",
    "\n",
    "base_VGG19 = tf.keras.applications.VGG19(\n",
    "    include_top=False, weights=\"imagenet\", input_shape=(112, 112, 3)\n",
    ")"
   ]
  },
  {
   "cell_type": "code",
   "execution_count": 3,
   "metadata": {
    "execution": {
     "iopub.execute_input": "2020-11-04T22:30:02.133536Z",
     "iopub.status.busy": "2020-11-04T22:30:02.133536Z",
     "iopub.status.idle": "2020-11-04T22:30:02.152536Z",
     "shell.execute_reply": "2020-11-04T22:30:02.152536Z",
     "shell.execute_reply.started": "2020-11-04T22:30:02.133536Z"
    },
    "scrolled": true
   },
   "outputs": [
    {
     "name": "stdout",
     "output_type": "stream",
     "text": [
      "Model: \"vgg19\"\n",
      "_________________________________________________________________\n",
      "Layer (type)                 Output Shape              Param #   \n",
      "=================================================================\n",
      "input_1 (InputLayer)         [(None, 112, 112, 3)]     0         \n",
      "_________________________________________________________________\n",
      "block1_conv1 (Conv2D)        (None, 112, 112, 64)      1792      \n",
      "_________________________________________________________________\n",
      "block1_conv2 (Conv2D)        (None, 112, 112, 64)      36928     \n",
      "_________________________________________________________________\n",
      "block1_pool (MaxPooling2D)   (None, 56, 56, 64)        0         \n",
      "_________________________________________________________________\n",
      "block2_conv1 (Conv2D)        (None, 56, 56, 128)       73856     \n",
      "_________________________________________________________________\n",
      "block2_conv2 (Conv2D)        (None, 56, 56, 128)       147584    \n",
      "_________________________________________________________________\n",
      "block2_pool (MaxPooling2D)   (None, 28, 28, 128)       0         \n",
      "_________________________________________________________________\n",
      "block3_conv1 (Conv2D)        (None, 28, 28, 256)       295168    \n",
      "_________________________________________________________________\n",
      "block3_conv2 (Conv2D)        (None, 28, 28, 256)       590080    \n",
      "_________________________________________________________________\n",
      "block3_conv3 (Conv2D)        (None, 28, 28, 256)       590080    \n",
      "_________________________________________________________________\n",
      "block3_conv4 (Conv2D)        (None, 28, 28, 256)       590080    \n",
      "_________________________________________________________________\n",
      "block3_pool (MaxPooling2D)   (None, 14, 14, 256)       0         \n",
      "_________________________________________________________________\n",
      "block4_conv1 (Conv2D)        (None, 14, 14, 512)       1180160   \n",
      "_________________________________________________________________\n",
      "block4_conv2 (Conv2D)        (None, 14, 14, 512)       2359808   \n",
      "_________________________________________________________________\n",
      "block4_conv3 (Conv2D)        (None, 14, 14, 512)       2359808   \n",
      "_________________________________________________________________\n",
      "block4_conv4 (Conv2D)        (None, 14, 14, 512)       2359808   \n",
      "_________________________________________________________________\n",
      "block4_pool (MaxPooling2D)   (None, 7, 7, 512)         0         \n",
      "_________________________________________________________________\n",
      "block5_conv1 (Conv2D)        (None, 7, 7, 512)         2359808   \n",
      "_________________________________________________________________\n",
      "block5_conv2 (Conv2D)        (None, 7, 7, 512)         2359808   \n",
      "_________________________________________________________________\n",
      "block5_conv3 (Conv2D)        (None, 7, 7, 512)         2359808   \n",
      "_________________________________________________________________\n",
      "block5_conv4 (Conv2D)        (None, 7, 7, 512)         2359808   \n",
      "_________________________________________________________________\n",
      "block5_pool (MaxPooling2D)   (None, 3, 3, 512)         0         \n",
      "=================================================================\n",
      "Total params: 20,024,384\n",
      "Trainable params: 20,024,384\n",
      "Non-trainable params: 0\n",
      "_________________________________________________________________\n"
     ]
    }
   ],
   "source": [
    "base_VGG19.summary()"
   ]
  },
  {
   "cell_type": "markdown",
   "metadata": {},
   "source": [
    "# Initiate Feature Exctraction model"
   ]
  },
  {
   "cell_type": "code",
   "execution_count": 4,
   "metadata": {
    "execution": {
     "iopub.execute_input": "2020-11-04T22:30:05.836326Z",
     "iopub.status.busy": "2020-11-04T22:30:05.836326Z",
     "iopub.status.idle": "2020-11-04T22:30:05.906324Z",
     "shell.execute_reply": "2020-11-04T22:30:05.906324Z",
     "shell.execute_reply.started": "2020-11-04T22:30:05.836326Z"
    }
   },
   "outputs": [
    {
     "name": "stdout",
     "output_type": "stream",
     "text": [
      "Model: \"sequential\"\n",
      "_________________________________________________________________\n",
      "Layer (type)                 Output Shape              Param #   \n",
      "=================================================================\n",
      "vgg19 (Functional)           (None, 3, 3, 512)         20024384  \n",
      "_________________________________________________________________\n",
      "Flatten (Flatten)            (None, 4608)              0         \n",
      "=================================================================\n",
      "Total params: 20,024,384\n",
      "Trainable params: 0\n",
      "Non-trainable params: 20,024,384\n",
      "_________________________________________________________________\n"
     ]
    }
   ],
   "source": [
    "# We add a flatten layer to the base VGG19 layer to just get a simple feature vector as output\n",
    "def build_FE_model():\n",
    "    model = Sequential()\n",
    "    model.add(base_VGG19)\n",
    "    base_VGG19.trainable = False\n",
    "    model.add(layers.Flatten(name=\"Flatten\"))\n",
    "    return model\n",
    "\n",
    "\n",
    "FE_model = build_FE_model()\n",
    "FE_model.summary()"
   ]
  },
  {
   "cell_type": "markdown",
   "metadata": {},
   "source": [
    "# Extract all Features"
   ]
  },
  {
   "cell_type": "code",
   "execution_count": 5,
   "metadata": {
    "execution": {
     "iopub.execute_input": "2020-11-04T22:30:08.381277Z",
     "iopub.status.busy": "2020-11-04T22:30:08.381277Z",
     "iopub.status.idle": "2020-11-04T22:30:08.397277Z",
     "shell.execute_reply": "2020-11-04T22:30:08.397277Z",
     "shell.execute_reply.started": "2020-11-04T22:30:08.381277Z"
    }
   },
   "outputs": [],
   "source": [
    "AW2_train_dir = r\"D:\\Aff-Wild2 Dataset\\Aff-wild2\\Sets_pscipylass\\train\"\n",
    "AW2_val_dir = r\"D:\\Aff-Wild2 Dataset\\Aff-wild2\\Sets_per_class\\val\""
   ]
  },
  {
   "cell_type": "code",
   "execution_count": 239,
   "metadata": {
    "execution": {
     "iopub.execute_input": "2020-11-04T19:38:19.121897Z",
     "iopub.status.busy": "2020-11-04T19:38:19.120898Z",
     "iopub.status.idle": "2020-11-04T19:38:23.533965Z",
     "shell.execute_reply": "2020-11-04T19:38:23.527966Z",
     "shell.execute_reply.started": "2020-11-04T19:38:19.121897Z"
    }
   },
   "outputs": [
    {
     "name": "stdout",
     "output_type": "stream",
     "text": [
      "Found 107413 images belonging to 7 classes.\n",
      "Amount of images in training set: 107413\n",
      "Batch size of generator: 512\n",
      "Current batch index: 0\n",
      "{'0_neutral': 0, '1_anger': 1, '2_disgust': 2, '3_fear': 3, '4_happiness': 4, '5_sadness': 5, '6_surprise': 6}\n",
      "All classes in list: [0 0 0 ... 6 6 6], size: 107413\n"
     ]
    }
   ],
   "source": [
    "# Define ImageDataGenerator with precoessing function set to preprocess_input for vgg19 model\n",
    "train_datagen = ImageDataGenerator(preprocessing_function=preprocess_input)\n",
    "train_generator = train_datagen.flow_from_directory(\n",
    "    directory=AW2_train_dir,\n",
    "    target_size=(112, 112),\n",
    "    color_mode=\"rgb\",\n",
    "    class_mode=\"categorical\",\n",
    "    batch_size=512,\n",
    "    shuffle=False,\n",
    ")\n",
    "\n",
    "print(f\"Amount of images in training set: {train_generator.n}\")\n",
    "print(f\"Batch size of generator: {train_generator.batch_size}\")\n",
    "print(f\"Current batch index: {train_generator.batch_index}\")\n",
    "print(train_generator.class_indices)\n",
    "print(\n",
    "    f\"All classes in list: {train_generator.classes}, size: {len(train_generator.classes)}\"\n",
    ")"
   ]
  },
  {
   "cell_type": "code",
   "execution_count": 6,
   "metadata": {
    "execution": {
     "iopub.execute_input": "2020-11-04T22:30:11.738787Z",
     "iopub.status.busy": "2020-11-04T22:30:11.738787Z",
     "iopub.status.idle": "2020-11-04T22:30:11.752786Z",
     "shell.execute_reply": "2020-11-04T22:30:11.752786Z",
     "shell.execute_reply.started": "2020-11-04T22:30:11.738787Z"
    }
   },
   "outputs": [],
   "source": [
    "def feature_extractor(model, data_dir, batch_size=128):\n",
    "\n",
    "    # Define ImageDataGenerator with precoessing function set to preprocess_input for vgg19 model\n",
    "    datagen = ImageDataGenerator(preprocessing_function=preprocess_input)\n",
    "    generator = datagen.flow_from_directory(\n",
    "        directory=data_dir,\n",
    "        target_size=(112, 112),\n",
    "        color_mode=\"rgb\",\n",
    "        class_mode=\"categorical\",\n",
    "        batch_size=batch_size,\n",
    "        shuffle=False,\n",
    "    )\n",
    "\n",
    "    # Reset batch index to 0 for the train_generator\n",
    "    generator.reset()\n",
    "\n",
    "    # Create list for the predictions\n",
    "    features = []\n",
    "    labels = []\n",
    "\n",
    "    count = 0\n",
    "    for batch, label in generator:\n",
    "        pred = model.predict(batch, verbose=0)\n",
    "        features.append(scipy.sparse.coo_matrix(pred))\n",
    "        labels.append(label)\n",
    "        count += 1\n",
    "        if count >= (generator.n // generator.batch_size):\n",
    "            break\n",
    "        print(count)\n",
    "    # Stack all arrays\n",
    "    # Stack features in scipy COO matrix\n",
    "    features_arr = scipy.sparse.vstack(features)\n",
    "\n",
    "    # Stack features in numpy matrix\n",
    "    labels_arr = np.vstack(labels)\n",
    "    print(\"Finished with extraction\")\n",
    "    return features_arr, labels_arr"
   ]
  },
  {
   "cell_type": "code",
   "execution_count": 249,
   "metadata": {
    "execution": {
     "iopub.execute_input": "2020-11-04T20:01:49.893606Z",
     "iopub.status.busy": "2020-11-04T20:01:49.892605Z",
     "iopub.status.idle": "2020-11-04T20:01:49.916604Z",
     "shell.execute_reply": "2020-11-04T20:01:49.912603Z",
     "shell.execute_reply.started": "2020-11-04T20:01:49.893606Z"
    }
   },
   "outputs": [],
   "source": [
    "# pred = FE_model.predict(train_generator, steps=STEP, verbose=1)"
   ]
  },
  {
   "cell_type": "code",
   "execution_count": null,
   "metadata": {
    "scrolled": true
   },
   "outputs": [],
   "source": [
    "train_features, train_labels = feature_extractor(FE_model, AW2_train_dir)"
   ]
  },
  {
   "cell_type": "code",
   "execution_count": null,
   "metadata": {
    "scrolled": true
   },
   "outputs": [],
   "source": [
    "val_features, val_labels = feature_extractor(FE_model, AW2_val_dir)"
   ]
  },
  {
   "cell_type": "code",
   "execution_count": 42,
   "metadata": {
    "execution": {
     "iopub.execute_input": "2020-11-04T22:16:53.513961Z",
     "iopub.status.busy": "2020-11-04T22:16:53.512960Z",
     "iopub.status.idle": "2020-11-04T22:17:53.451962Z",
     "shell.execute_reply": "2020-11-04T22:17:53.450959Z",
     "shell.execute_reply.started": "2020-11-04T22:16:53.513961Z"
    }
   },
   "outputs": [],
   "source": [
    "# Save features as NPZ Numpy’s compressed array format\n",
    "scipy.sparse.save_npz(\"data/train_features.npz\", train_features)\n",
    "scipy.sparse.save_npz(\"data/val_features.npz\", val_features)\n",
    "np.save(\"data/train_labels\", train_labels)\n",
    "np.save(\"data/val_labels\", val_labels)"
   ]
  },
  {
   "cell_type": "code",
   "execution_count": null,
   "metadata": {},
   "outputs": [],
   "source": [
    "from skimage.util import img_as_uint, img_as_float\n",
    "\n",
    "for item in batch:\n",
    "    item = item.astype(int)\n",
    "    #     item_rgb = cv2.cvtColor(item, cv2.COLOR_BGR2RGB)\n",
    "    item = img_as_uint(item)\n",
    "    plt.imshow(item)\n",
    "    plt.show()"
   ]
  }
 ],
 "metadata": {
  "kernelspec": {
   "display_name": "Python 3",
   "language": "python",
   "name": "python3"
  },
  "language_info": {
   "codemirror_mode": {
    "name": "ipython",
    "version": 3
   },
   "file_extension": ".py",
   "mimetype": "text/x-python",
   "name": "python",
   "nbconvert_exporter": "python",
   "pygments_lexer": "ipython3",
   "version": "3.7.9"
  },
  "output_auto_scroll": true
 },
 "nbformat": 4,
 "nbformat_minor": 4
}
