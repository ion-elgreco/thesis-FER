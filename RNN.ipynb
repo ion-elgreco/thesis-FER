{
 "cells": [
  {
   "cell_type": "markdown",
   "metadata": {},
   "source": [
    "## Load/import packages"
   ]
  },
  {
   "cell_type": "code",
   "execution_count": 1,
   "metadata": {
    "execution": {
     "iopub.execute_input": "2020-11-20T12:26:14.957482Z",
     "iopub.status.busy": "2020-11-20T12:26:14.955482Z",
     "iopub.status.idle": "2020-11-20T12:26:41.991494Z",
     "shell.execute_reply": "2020-11-20T12:26:41.990495Z",
     "shell.execute_reply.started": "2020-11-20T12:26:14.957482Z"
    }
   },
   "outputs": [],
   "source": [
    "import json\n",
    "import time\n",
    "import scipy\n",
    "import numpy as np\n",
    "import tensorflow as tf\n",
    "import matplotlib.pyplot as plt\n",
    "import tensorflow.keras.backend as K\n",
    "import kerastuner as kt\n",
    "\n",
    "from tensorflow.keras import Sequential, layers\n",
    "from tensorflow.keras.layers import Layer\n",
    "from tensorflow.keras.losses import CategoricalCrossentropy\n",
    "from sklearn.utils import class_weight\n",
    "\n",
    "from os import listdir\n",
    "from os.path import join, splitext, normpath\n",
    "\n",
    "# Import modules to run custom FW-RNN cell\n",
    "from tensorflow.python.keras.layers.recurrent import (\n",
    "    _generate_zero_filled_state_for_cell,\n",
    "    _generate_zero_filled_state,\n",
    "    ops,\n",
    "    tensor_shape,\n",
    "    activations,\n",
    "    initializers,\n",
    "    regularizers,\n",
    "    nest,\n",
    "    array_ops,\n",
    ")\n",
    "\n",
    "# Import variables and functions from my own scripts\n",
    "from functions import plot_history, arr_replacevalue\n",
    "from load_features import (\n",
    "    train_features_AW2,\n",
    "    val_features_AW2,\n",
    "    train_labels_AW2,\n",
    "    val_labels_AW2,\n",
    "    labels_reshaper,\n",
    "    features_reshaper,\n",
    ")\n",
    "\n",
    "%matplotlib inline\n",
    "\n",
    "# Limit GPU memory usage\n",
    "for device in tf.config.experimental.list_physical_devices(\"GPU\"):\n",
    "    tf.config.experimental.set_memory_growth(device, True)"
   ]
  },
  {
   "cell_type": "markdown",
   "metadata": {},
   "source": [
    "# Prepare data"
   ]
  },
  {
   "cell_type": "code",
   "execution_count": 2,
   "metadata": {
    "execution": {
     "iopub.execute_input": "2020-11-20T12:26:41.993496Z",
     "iopub.status.busy": "2020-11-20T12:26:41.992494Z",
     "iopub.status.idle": "2020-11-20T12:27:43.682033Z",
     "shell.execute_reply": "2020-11-20T12:27:43.667035Z",
     "shell.execute_reply.started": "2020-11-20T12:26:41.993496Z"
    }
   },
   "outputs": [],
   "source": [
    "# Reshape data to specified sequence length\n",
    "length = 60\n",
    "seq_train_features = features_reshaper(train_features_AW2, length) # divisible 13, 39, 197\n",
    "seq_val_features = features_reshaper(val_features_AW2, length)\n",
    "\n",
    "seq_train_labels = labels_reshaper(train_labels_AW2, length)\n",
    "seq_val_labels = labels_reshaper(val_labels_AW2, length)"
   ]
  },
  {
   "cell_type": "code",
   "execution_count": 3,
   "metadata": {
    "execution": {
     "iopub.execute_input": "2020-11-20T12:27:43.709034Z",
     "iopub.status.busy": "2020-11-20T12:27:43.708034Z",
     "iopub.status.idle": "2020-11-20T12:27:44.185035Z",
     "shell.execute_reply": "2020-11-20T12:27:44.184034Z",
     "shell.execute_reply.started": "2020-11-20T12:27:43.709034Z"
    }
   },
   "outputs": [
    {
     "name": "stderr",
     "output_type": "stream",
     "text": [
      "C:\\Users\\ion\\anaconda3\\envs\\tf-gpu\\lib\\site-packages\\sklearn\\utils\\validation.py:70: FutureWarning: Pass classes=[0 1 2 3 4 5 6], y=[0 0 0 ... 6 6 6] as keyword args. From version 0.25 passing these as positional arguments will result in an error\n",
      "  FutureWarning)\n"
     ]
    }
   ],
   "source": [
    "def comp_sampleweights(labels):\n",
    "    # Convert one-hot encoded labels back to label integers\n",
    "    train_label_ints = np.argmax(labels, axis=2)\n",
    "\n",
    "    # Compute class weights with sklearn\n",
    "    class_weights = class_weight.compute_class_weight(\n",
    "        \"balanced\", np.unique(train_label_ints), train_label_ints.flatten()\n",
    "    )\n",
    "    d_class_weights = dict(enumerate(class_weights))\n",
    "\n",
    "    # Pass a 2D array with shape (samples, sequence_length), to apply a different weight to every timestep of every sample\n",
    "    return arr_replacevalue(train_label_ints, d_class_weights)\n",
    "    \n",
    "train_samples_weights = comp_sampleweights(seq_train_labels) "
   ]
  },
  {
   "cell_type": "markdown",
   "metadata": {},
   "source": [
    "# Build model"
   ]
  },
  {
   "cell_type": "code",
   "execution_count": 12,
   "metadata": {
    "execution": {
     "iopub.execute_input": "2020-11-20T12:42:21.719576Z",
     "iopub.status.busy": "2020-11-20T12:42:21.719576Z",
     "iopub.status.idle": "2020-11-20T12:42:21.724577Z",
     "shell.execute_reply": "2020-11-20T12:42:21.724577Z",
     "shell.execute_reply.started": "2020-11-20T12:42:21.719576Z"
    }
   },
   "outputs": [],
   "source": [
    "# Build model with sequential api\n",
    "def build_model(activation_function):\n",
    "    model = Sequential()\n",
    "    model.add(tf.keras.Input(shape=(seq_train_features.shape[1], seq_train_features.shape[2])))\n",
    "    model.add(layers.SimpleRNN(128))\n",
    "    model.add(layers.Dense(7, activation=\"softmax\", name=\"Dense_Output\"))\n",
    "    model.compile(\n",
    "        optimizer=\"adagrad\",\n",
    "        loss=CategoricalCrossentropy(label_smoothing=0.1),\n",
    "        metrics=[\"accuracy\"],\n",
    "        run_eagerly=False,\n",
    "    )\n",
    "    return model\n"
   ]
  },
  {
   "cell_type": "markdown",
   "metadata": {},
   "source": [
    "# Train + Evaluate model"
   ]
  },
  {
   "cell_type": "code",
   "execution_count": 13,
   "metadata": {
    "execution": {
     "iopub.execute_input": "2020-11-20T12:42:22.648705Z",
     "iopub.status.busy": "2020-11-20T12:42:22.648705Z",
     "iopub.status.idle": "2020-11-20T12:42:22.654704Z",
     "shell.execute_reply": "2020-11-20T12:42:22.653706Z",
     "shell.execute_reply.started": "2020-11-20T12:42:22.648705Z"
    }
   },
   "outputs": [],
   "source": [
    "# from sklearn.model_selection import KFold\n",
    "# for train, test in kfold.split()"
   ]
  },
  {
   "cell_type": "code",
   "execution_count": null,
   "metadata": {
    "scrolled": true
   },
   "outputs": [],
   "source": [
    "for act in ['relu', 'tanh']:\n",
    "    fw_rnn = build_model(batchsize, act)\n",
    "    fw_rnn.summary()\n",
    "\n",
    "    # Access tensorboard in cmd of the main repo folder with following code:\n",
    "    # tensorboard --logdir='logs/'\n",
    "    name = 'FW-RNN_1layer64_rmsprop_identitymatrix0.05_{}_{}'.format(act, int(time.time()))\n",
    "    tb_callback = tf.keras.callbacks.TensorBoard(log_dir='logs/{}'.format(name))\n",
    "\n",
    "    # Set callbacks for model training\n",
    "#     csvlog = tf.keras.callbacks.CSVLogger(\n",
    "#         \"data/models/FW-RNN_performance.csv\", separator=\",\", append=False\n",
    "#     )\n",
    "\n",
    "    history_best = fw_rnn.fit(\n",
    "        seq_train_features[:a],\n",
    "        seq_train_labels[:a],\n",
    "        batch_size=batchsize,\n",
    "        sample_weight=train_samples_weights[:a],\n",
    "        validation_data=(\n",
    "            seq_val_features[:b],\n",
    "            seq_val_labels[:b],\n",
    "        ),\n",
    "        callbacks=[\n",
    "#                 csvlog, \n",
    "#                 tb_callback\n",
    "        ],\n",
    "        epochs=150,\n",
    "        verbose=2,\n",
    "        shuffle=True,\n",
    "    )"
   ]
  },
  {
   "cell_type": "code",
   "execution_count": null,
   "metadata": {},
   "outputs": [],
   "source": []
  }
 ],
 "metadata": {
  "kernelspec": {
   "display_name": "Python 3",
   "language": "python",
   "name": "python3"
  },
  "language_info": {
   "codemirror_mode": {
    "name": "ipython",
    "version": 3
   },
   "file_extension": ".py",
   "mimetype": "text/x-python",
   "name": "python",
   "nbconvert_exporter": "python",
   "pygments_lexer": "ipython3",
   "version": "3.7.9"
  },
  "output_auto_scroll": true
 },
 "nbformat": 4,
 "nbformat_minor": 4
}
