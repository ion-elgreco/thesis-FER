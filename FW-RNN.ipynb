{
 "cells": [
  {
   "cell_type": "markdown",
   "metadata": {},
   "source": [
    "## Load/import packages"
   ]
  },
  {
   "cell_type": "code",
   "execution_count": 1,
   "metadata": {
    "execution": {
     "iopub.execute_input": "2020-11-14T21:49:32.668390Z",
     "iopub.status.busy": "2020-11-14T21:49:32.668390Z",
     "iopub.status.idle": "2020-11-14T21:49:57.206153Z",
     "shell.execute_reply": "2020-11-14T21:49:57.206153Z",
     "shell.execute_reply.started": "2020-11-14T21:49:32.668390Z"
    }
   },
   "outputs": [],
   "source": [
    "import json\n",
    "import scipy\n",
    "import numpy as np\n",
    "import tensorflow as tf\n",
    "import matplotlib.pyplot as plt\n",
    "import tensorflow.keras.backend as K\n",
    "import kerastuner as kt\n",
    "\n",
    "from tensorflow.keras import Sequential, layers\n",
    "from tensorflow.keras.layers import Layer\n",
    "from tensorflow.keras.losses import CategoricalCrossentropy\n",
    "from sklearn.utils import class_weight\n",
    "\n",
    "from os import listdir\n",
    "from os.path import join, splitext, normpath\n",
    "\n",
    "# Import modules to run custom FW-RNN cell\n",
    "from tensorflow.python.keras.layers.recurrent import (\n",
    "    _generate_zero_filled_state_for_cell,\n",
    "    _generate_zero_filled_state,\n",
    "    ops,\n",
    "    tensor_shape,\n",
    "    activations,\n",
    "    initializers,\n",
    "    regularizers,\n",
    "    nest,\n",
    "    array_ops,\n",
    ")\n",
    "\n",
    "# Import variables and functions from my own scripts\n",
    "from functions import plot_history, arr_replacevalue\n",
    "from load_features import (\n",
    "    train_features_AW2,\n",
    "    val_features_AW2,\n",
    "    train_labels_AW2,\n",
    "    val_labels_AW2,\n",
    "    labels_reshaper,\n",
    "    features_reshaper,\n",
    ")\n",
    "\n",
    "%matplotlib inline\n",
    "\n",
    "# Limit GPU memory usage\n",
    "for device in tf.config.experimental.list_physical_devices(\"GPU\"):\n",
    "    tf.config.experimental.set_memory_growth(device, True)"
   ]
  },
  {
   "cell_type": "markdown",
   "metadata": {},
   "source": [
    "# Prepare data"
   ]
  },
  {
   "cell_type": "code",
   "execution_count": 2,
   "metadata": {
    "execution": {
     "iopub.execute_input": "2020-11-14T21:49:57.208156Z",
     "iopub.status.busy": "2020-11-14T21:49:57.207157Z",
     "iopub.status.idle": "2020-11-14T21:50:06.093156Z",
     "shell.execute_reply": "2020-11-14T21:50:06.091154Z",
     "shell.execute_reply.started": "2020-11-14T21:49:57.208156Z"
    }
   },
   "outputs": [],
   "source": [
    "# Reshape data to specified sequence length\n",
    "length = 120\n",
    "seq_train_features = features_reshaper(train_features_AW2, length) # divisible 13, 39, 197\n",
    "seq_val_features = features_reshaper(val_features_AW2, length)\n",
    "\n",
    "seq_train_labels = labels_reshaper(train_labels_AW2, length)\n",
    "seq_val_labels = labels_reshaper(val_labels_AW2, length)"
   ]
  },
  {
   "cell_type": "code",
   "execution_count": 32,
   "metadata": {
    "execution": {
     "iopub.execute_input": "2020-11-14T22:08:07.405148Z",
     "iopub.status.busy": "2020-11-14T22:08:07.405148Z",
     "iopub.status.idle": "2020-11-14T22:08:07.417150Z",
     "shell.execute_reply": "2020-11-14T22:08:07.417150Z",
     "shell.execute_reply.started": "2020-11-14T22:08:07.405148Z"
    }
   },
   "outputs": [
    {
     "data": {
      "text/plain": [
       "(7683, 120, 4608)"
      ]
     },
     "execution_count": 32,
     "metadata": {},
     "output_type": "execute_result"
    }
   ],
   "source": [
    "seq_train_features.shape"
   ]
  },
  {
   "cell_type": "code",
   "execution_count": 55,
   "metadata": {
    "execution": {
     "iopub.execute_input": "2020-11-14T23:48:00.627391Z",
     "iopub.status.busy": "2020-11-14T23:48:00.627391Z",
     "iopub.status.idle": "2020-11-14T23:48:00.634392Z",
     "shell.execute_reply": "2020-11-14T23:48:00.634392Z",
     "shell.execute_reply.started": "2020-11-14T23:48:00.627391Z"
    }
   },
   "outputs": [
    {
     "data": {
      "text/plain": [
       "7680"
      ]
     },
     "execution_count": 55,
     "metadata": {},
     "output_type": "execute_result"
    }
   ],
   "source": []
  },
  {
   "cell_type": "code",
   "execution_count": 54,
   "metadata": {
    "execution": {
     "iopub.execute_input": "2020-11-14T23:47:41.401017Z",
     "iopub.status.busy": "2020-11-14T23:47:41.401017Z",
     "iopub.status.idle": "2020-11-14T23:47:41.420017Z",
     "shell.execute_reply": "2020-11-14T23:47:41.419018Z",
     "shell.execute_reply.started": "2020-11-14T23:47:41.401017Z"
    }
   },
   "outputs": [
    {
     "data": {
      "text/plain": [
       "7680"
      ]
     },
     "execution_count": 54,
     "metadata": {},
     "output_type": "execute_result"
    }
   ],
   "source": [
    "240*32"
   ]
  },
  {
   "cell_type": "code",
   "execution_count": 40,
   "metadata": {
    "execution": {
     "iopub.execute_input": "2020-11-14T22:27:00.148540Z",
     "iopub.status.busy": "2020-11-14T22:27:00.148540Z",
     "iopub.status.idle": "2020-11-14T22:27:00.162538Z",
     "shell.execute_reply": "2020-11-14T22:27:00.162538Z",
     "shell.execute_reply.started": "2020-11-14T22:27:00.148540Z"
    }
   },
   "outputs": [
    {
     "data": {
      "text/plain": [
       "(2660, 120, 4608)"
      ]
     },
     "execution_count": 40,
     "metadata": {},
     "output_type": "execute_result"
    }
   ],
   "source": [
    "seq_val_features[:2660].shape"
   ]
  },
  {
   "cell_type": "code",
   "execution_count": 51,
   "metadata": {
    "execution": {
     "iopub.execute_input": "2020-11-14T23:47:12.621552Z",
     "iopub.status.busy": "2020-11-14T23:47:12.621552Z",
     "iopub.status.idle": "2020-11-14T23:47:12.635550Z",
     "shell.execute_reply": "2020-11-14T23:47:12.635550Z",
     "shell.execute_reply.started": "2020-11-14T23:47:12.621552Z"
    }
   },
   "outputs": [
    {
     "data": {
      "text/plain": [
       "83.15625"
      ]
     },
     "execution_count": 51,
     "metadata": {},
     "output_type": "execute_result"
    }
   ],
   "source": [
    "seq_val_features.shape[0]/32"
   ]
  },
  {
   "cell_type": "code",
   "execution_count": 49,
   "metadata": {
    "execution": {
     "iopub.execute_input": "2020-11-14T23:47:03.781295Z",
     "iopub.status.busy": "2020-11-14T23:47:03.781295Z",
     "iopub.status.idle": "2020-11-14T23:47:03.798294Z",
     "shell.execute_reply": "2020-11-14T23:47:03.798294Z",
     "shell.execute_reply.started": "2020-11-14T23:47:03.781295Z"
    }
   },
   "outputs": [
    {
     "data": {
      "text/plain": [
       "3840"
      ]
     },
     "execution_count": 49,
     "metadata": {},
     "output_type": "execute_result"
    }
   ],
   "source": [
    "32*120"
   ]
  },
  {
   "cell_type": "code",
   "execution_count": 3,
   "metadata": {
    "execution": {
     "iopub.execute_input": "2020-11-14T21:50:06.097156Z",
     "iopub.status.busy": "2020-11-14T21:50:06.097156Z",
     "iopub.status.idle": "2020-11-14T21:50:06.387154Z",
     "shell.execute_reply": "2020-11-14T21:50:06.387154Z",
     "shell.execute_reply.started": "2020-11-14T21:50:06.097156Z"
    }
   },
   "outputs": [
    {
     "name": "stderr",
     "output_type": "stream",
     "text": [
      "C:\\Users\\ion\\anaconda3\\envs\\tf-gpu\\lib\\site-packages\\sklearn\\utils\\validation.py:70: FutureWarning: Pass classes=[0 1 2 3 4 5 6], y=[0 0 0 ... 6 6 6] as keyword args. From version 0.25 passing these as positional arguments will result in an error\n",
      "  FutureWarning)\n"
     ]
    }
   ],
   "source": [
    "def comp_sampleweights(labels):\n",
    "    # Convert one-hot encoded labels back to label integers\n",
    "    train_label_ints = np.argmax(labels, axis=2)\n",
    "\n",
    "    # Compute class weights with sklearn\n",
    "    class_weights = class_weight.compute_class_weight(\n",
    "        \"balanced\", np.unique(train_label_ints), train_label_ints.flatten()\n",
    "    )\n",
    "    d_class_weights = dict(enumerate(class_weights))\n",
    "\n",
    "    # Pass a 2D array with shape (samples, sequence_length), to apply a different weight to every timestep of every sample\n",
    "    return arr_replacevalue(train_label_ints, d_class_weights)\n",
    "    \n",
    "train_samples_weights = comp_sampleweights(seq_train_labels) "
   ]
  },
  {
   "cell_type": "markdown",
   "metadata": {
    "execution": {
     "iopub.execute_input": "2020-11-11T15:27:37.993463Z",
     "iopub.status.busy": "2020-11-11T15:27:37.993463Z",
     "iopub.status.idle": "2020-11-11T15:27:38.000462Z",
     "shell.execute_reply": "2020-11-11T15:27:38.000462Z",
     "shell.execute_reply.started": "2020-11-11T15:27:37.993463Z"
    }
   },
   "source": [
    "# Create FW-RNN Cell\n",
    "-  Build custom FW_RNN cell and wrap it in RNN layer (https://www.tensorflow.org/api_docs/python/tf/keras/layers/RNN), like this: RNN(FW_RNN)\n",
    "    -  \"The cell abstraction, together with the generic keras.layers.RNN class, make it very easy to implement custom RNN architectures for your research.\"\n",
    "\n",
    "Created by using this guide: https://www.tensorflow.org/guide/keras/custom_layers_and_models"
   ]
  },
  {
   "cell_type": "code",
   "execution_count": 14,
   "metadata": {
    "execution": {
     "iopub.execute_input": "2020-11-14T21:58:28.662291Z",
     "iopub.status.busy": "2020-11-14T21:58:28.662291Z",
     "iopub.status.idle": "2020-11-14T21:58:28.677292Z",
     "shell.execute_reply": "2020-11-14T21:58:28.677292Z",
     "shell.execute_reply.started": "2020-11-14T21:58:28.662291Z"
    }
   },
   "outputs": [],
   "source": [
    "class FW_RNNCell(layers.Layer):\n",
    "    def __init__(\n",
    "        self,\n",
    "        units,\n",
    "        use_bias,\n",
    "        batch_size,\n",
    "        decay_rate,\n",
    "        learning_rate,\n",
    "        activation,\n",
    "        step,\n",
    "        **kwargs\n",
    "    ):\n",
    "        super(FW_RNNCell, self).__init__(**kwargs)\n",
    "        self.units = units\n",
    "        self.step = step\n",
    "        self.use_bias = use_bias\n",
    "        self.activation = activations.get(activation)\n",
    "        self.l = decay_rate\n",
    "        self.e = learning_rate\n",
    "\n",
    "        self.batch = batch_size\n",
    "        self.state_size = self.units\n",
    "\n",
    "        # Initializer for the slow input-to-hidden weights matrix\n",
    "        self.C_initializer = initializers.get(\"glorot_uniform\")\n",
    "\n",
    "        # Initializer for the slow hidden weights matrix\n",
    "        self.W_h_initializer = initializers.get(\"identity\")\n",
    "\n",
    "        # Initializer for the fast weights matrix\n",
    "        #         self.A_initializer = initializers.get(\"zeros\")\n",
    "\n",
    "        # Initializer for the bias vector.\n",
    "        self.b_x_initializer = initializers.get(\"zeros\")\n",
    "\n",
    "    def build(self, input_shape):\n",
    "        # Build is only called at the start, to initialize all the weights and biases\n",
    "\n",
    "        # C = Slow input-to-hidden weights [shape (4608, 64)]\n",
    "        self.C = self.add_weight(\n",
    "            shape=(input_shape[-1], self.units),\n",
    "            name=\"input-to-hidden weights\",\n",
    "            initializer=self.C_initializer,\n",
    "        )\n",
    "        # W_h The previous hidden state via the slow transition weights [shape (64, 64)]\n",
    "        # they suggest to multiply it with 0.05, so gain = 0.05\n",
    "        self.W_h = self.add_weight(\n",
    "            shape=(self.units, self.units),\n",
    "            name=\"slow-hidden-weights\",\n",
    "            initializer=self.W_h_initializer,  # implement the gain later on\n",
    "        )\n",
    "        # A (fast weights) [shape (batch_size?, 64, 64)]\n",
    "        self.A = tf.Variable(\n",
    "            tf.zeros([self.batch, self.units, self.units]),\n",
    "#             shape=tf.TensorShape((None, self.units, self.units)),\n",
    "            dtype=tf.float32,\n",
    "        )\n",
    "        if self.use_bias:\n",
    "            self.bias = self.add_weight(\n",
    "                shape=(self.units,), name=\"bias\", initializer=self.b_x_initializer,\n",
    "            )\n",
    "        else:\n",
    "            self.bias = None\n",
    "        self.built = True\n",
    "\n",
    "    def call(self, inputs, states, training=None):\n",
    "        prev_output = states[0] if nest.is_sequence(states) else states\n",
    "        \n",
    "\n",
    "        # Next hidden state h(t+1) is computed in two steps:\n",
    "        # Step 1 calculate preliminary vector: h_0(t+1) = f(W_h ⋅ h(t) + C ⋅ x(t))\n",
    "        h = K.dot(prev_output, self.W_h) + K.dot(inputs, self.C)\n",
    "        if self.activation is not None:\n",
    "            h = self.activation(h)  # add activation function\n",
    "        \n",
    "        # Reshape h to use with a\n",
    "        h_s = tf.reshape(h, [self.batch, 1, self.units])\n",
    "\n",
    "        # Fast weights update rule: A(t) = λ*A(t-1) + η*h(t) ⋅ h(t)^T\n",
    "        self.A.assign(\n",
    "            tf.math.add(\n",
    "                tf.scalar_mul(self.l, self.A),\n",
    "                tf.scalar_mul(\n",
    "                    self.e, tf.linalg.matmul(tf.transpose(h_s, [0, 2, 1]), h_s)\n",
    "                ),\n",
    "            )\n",
    "        )\n",
    "        \n",
    "        # Step 2: Initiate inner loop with preliminary vector, which runs for S steps\n",
    "        # to progressively change the hidden state into h(t+1) = h_s(t+1)\n",
    "\n",
    "        # h_s+1(t+1) f([W_h ⋅ h(t) + C ⋅ x(t)]) + A(t)h_s(t+1)\n",
    "        for _ in range(self.step):\n",
    "            prelim = tf.reshape(K.dot(prev_output, self.W_h), (h_s.shape)) + tf.reshape(K.dot(inputs, self.C), (h_s.shape))\n",
    "            h = tf.math.add(prelim, tf.linalg.matmul(h_s, self.A))\n",
    "            if self.activation is not None:\n",
    "                h = self.activation(h)\n",
    "\n",
    "        h = tf.reshape(h_s, [self.batch, self.units])\n",
    "        \n",
    "        output = h\n",
    "        new_state = [output] if nest.is_sequence(states) else output\n",
    "        return output, new_state\n",
    "\n",
    "    def get_initial_state(self, inputs=None, batch_size=None, dtype=None):\n",
    "        return _generate_zero_filled_state_for_cell(self, inputs, batch_size, dtype)"
   ]
  },
  {
   "cell_type": "markdown",
   "metadata": {},
   "source": [
    "# Build model"
   ]
  },
  {
   "cell_type": "code",
   "execution_count": 69,
   "metadata": {
    "execution": {
     "iopub.execute_input": "2020-11-14T23:55:41.197492Z",
     "iopub.status.busy": "2020-11-14T23:55:41.197492Z",
     "iopub.status.idle": "2020-11-14T23:55:41.205492Z",
     "shell.execute_reply": "2020-11-14T23:55:41.205492Z",
     "shell.execute_reply.started": "2020-11-14T23:55:41.197492Z"
    }
   },
   "outputs": [],
   "source": [
    "# Build model with sequential api\n",
    "def build_model(batch):\n",
    "    model = Sequential(name=\"FW-RNN\")\n",
    "    model.add(tf.keras.Input(shape=(seq_train_features.shape[1], seq_train_features.shape[2])))\n",
    "    model.add(\n",
    "        layers.RNN(\n",
    "            FW_RNNCell(units=64, \n",
    "                       use_bias=False, \n",
    "                       activation=\"tanh\", \n",
    "                       step=1,\n",
    "                       decay_rate = 0.95,\n",
    "                       learning_rate =0.5,\n",
    "                       batch_size=batch,\n",
    "                   ),\n",
    "            return_sequences=True,\n",
    "            name = 'FW-RNN'\n",
    "        )\n",
    "    )\n",
    "    model.add(layers.LayerNormalization(name = 'LN'))\n",
    "    model.add(layers.Dense(7, activation=\"softmax\", name=\"Dense_Output\"))\n",
    "    model.compile(\n",
    "        optimizer=\"adagrad\",\n",
    "        loss=CategoricalCrossentropy(label_smoothing=0.1),\n",
    "        metrics=[\"accuracy\", \"AUC\"],\n",
    "        run_eagerly=False,\n",
    "    )\n",
    "    return model\n"
   ]
  },
  {
   "cell_type": "code",
   "execution_count": 70,
   "metadata": {
    "execution": {
     "iopub.execute_input": "2020-11-14T23:55:41.589406Z",
     "iopub.status.busy": "2020-11-14T23:55:41.589406Z",
     "iopub.status.idle": "2020-11-14T23:55:41.713406Z",
     "shell.execute_reply": "2020-11-14T23:55:41.712405Z",
     "shell.execute_reply.started": "2020-11-14T23:55:41.589406Z"
    }
   },
   "outputs": [
    {
     "name": "stdout",
     "output_type": "stream",
     "text": [
      "Model: \"FW-RNN\"\n",
      "_________________________________________________________________\n",
      "Layer (type)                 Output Shape              Param #   \n",
      "=================================================================\n",
      "FW-RNN (RNN)                 (32, 120, 64)             430080    \n",
      "_________________________________________________________________\n",
      "LN (LayerNormalization)      (32, 120, 64)             128       \n",
      "_________________________________________________________________\n",
      "Dense_Output (Dense)         (32, 120, 7)              455       \n",
      "=================================================================\n",
      "Total params: 430,663\n",
      "Trainable params: 430,663\n",
      "Non-trainable params: 0\n",
      "_________________________________________________________________\n"
     ]
    }
   ],
   "source": [
    "batchsize = 32\n",
    "fw_rnn = build_model(batchsize)\n",
    "fw_rnn.summary()"
   ]
  },
  {
   "cell_type": "markdown",
   "metadata": {},
   "source": [
    "# Train + Evaluate model"
   ]
  },
  {
   "cell_type": "code",
   "execution_count": null,
   "metadata": {
    "execution": {
     "iopub.execute_input": "2020-11-14T23:55:43.190405Z",
     "iopub.status.busy": "2020-11-14T23:55:43.190405Z"
    }
   },
   "outputs": [
    {
     "name": "stdout",
     "output_type": "stream",
     "text": [
      "Epoch 1/150\n"
     ]
    }
   ],
   "source": [
    "a = (seq_train_features.shape[0] // batchsize) * batchsize\n",
    "b = (seq_val_features.shape[0] // batchsize) * batchsize\n",
    "\n",
    "checkpoint_path = \"data/models/cp_training_FW-RNN.ckpt\"\n",
    "\n",
    "import time\n",
    "name = 'FW-RNN_test_{}'.format(int(time.time()))\n",
    "tb_callback = tf.keras.callbacks.TensorBoard(log_dir='logs/{}'.format(name))\n",
    "\n",
    "# Access tensorboard in cmd of the main repo folder with following code:\n",
    "# tensorboard --logdir='logs/'\n",
    "\n",
    "# Set callbacks for model training\n",
    "csvlog = tf.keras.callbacks.CSVLogger(\n",
    "    \"data/models/FW-RNN_performance.csv\", separator=\",\", append=False\n",
    ")\n",
    "\n",
    "cp_callback = tf.keras.callbacks.ModelCheckpoint(\n",
    "    filepath=checkpoint_path, save_weights_only=True, verbose=1\n",
    ")\n",
    "\n",
    "\n",
    "history_best = fw_rnn.fit(\n",
    "    seq_train_features[:a],\n",
    "    seq_train_labels[:a],\n",
    "    batch_size=batchsize,\n",
    "    sample_weight=train_samples_weights[:a],\n",
    "    validation_data=(\n",
    "        seq_val_features[:b],\n",
    "        seq_val_labels[:b],\n",
    "    ),\n",
    "    callbacks=[\n",
    "        cp_callback, \n",
    "               csvlog, \n",
    "#                tb_callback\n",
    "    ],\n",
    "    epochs=150,\n",
    "    verbose=2,\n",
    "    shuffle=True,\n",
    ")"
   ]
  },
  {
   "cell_type": "code",
   "execution_count": null,
   "metadata": {},
   "outputs": [],
   "source": []
  }
 ],
 "metadata": {
  "kernelspec": {
   "display_name": "Python 3",
   "language": "python",
   "name": "python3"
  },
  "language_info": {
   "codemirror_mode": {
    "name": "ipython",
    "version": 3
   },
   "file_extension": ".py",
   "mimetype": "text/x-python",
   "name": "python",
   "nbconvert_exporter": "python",
   "pygments_lexer": "ipython3",
   "version": "3.7.9"
  },
  "output_auto_scroll": true
 },
 "nbformat": 4,
 "nbformat_minor": 4
}
