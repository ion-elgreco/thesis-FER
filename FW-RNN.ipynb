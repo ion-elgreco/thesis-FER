{
 "cells": [
  {
   "cell_type": "markdown",
   "metadata": {},
   "source": [
    "## Load/import packages"
   ]
  },
  {
   "cell_type": "code",
   "execution_count": 1,
   "metadata": {
    "execution": {
     "iopub.execute_input": "2020-11-20T12:26:14.957482Z",
     "iopub.status.busy": "2020-11-20T12:26:14.955482Z",
     "iopub.status.idle": "2020-11-20T12:26:41.991494Z",
     "shell.execute_reply": "2020-11-20T12:26:41.990495Z",
     "shell.execute_reply.started": "2020-11-20T12:26:14.957482Z"
    }
   },
   "outputs": [],
   "source": [
    "import json\n",
    "import time\n",
    "import scipy\n",
    "import numpy as np\n",
    "import tensorflow as tf\n",
    "import matplotlib.pyplot as plt\n",
    "import tensorflow.keras.backend as K\n",
    "import kerastuner as kt\n",
    "\n",
    "from tensorflow.keras import Sequential, layers\n",
    "from tensorflow.keras.layers import Layer\n",
    "from tensorflow.keras.losses import CategoricalCrossentropy\n",
    "from sklearn.utils import class_weight\n",
    "\n",
    "from os import listdir\n",
    "from os.path import join, splitext, normpath\n",
    "\n",
    "# Import modules to run custom FW-RNN cell\n",
    "from tensorflow.python.keras.layers.recurrent import (\n",
    "    _generate_zero_filled_state_for_cell,\n",
    "    _generate_zero_filled_state,\n",
    "    ops,\n",
    "    tensor_shape,\n",
    "    activations,\n",
    "    initializers,\n",
    "    regularizers,\n",
    "    nest,\n",
    "    array_ops,\n",
    ")\n",
    "\n",
    "# Import variables and functions from my own scripts\n",
    "from functions import plot_history, arr_replacevalue\n",
    "from load_features import (\n",
    "    train_features_AW2,\n",
    "    val_features_AW2,\n",
    "    train_labels_AW2,\n",
    "    val_labels_AW2,\n",
    "    labels_reshaper,\n",
    "    features_reshaper,\n",
    ")\n",
    "\n",
    "%matplotlib inline\n",
    "\n",
    "# Limit GPU memory usage\n",
    "for device in tf.config.experimental.list_physical_devices(\"GPU\"):\n",
    "    tf.config.experimental.set_memory_growth(device, True)"
   ]
  },
  {
   "cell_type": "markdown",
   "metadata": {},
   "source": [
    "# Prepare data"
   ]
  },
  {
   "cell_type": "code",
   "execution_count": 2,
   "metadata": {
    "execution": {
     "iopub.execute_input": "2020-11-20T12:26:41.993496Z",
     "iopub.status.busy": "2020-11-20T12:26:41.992494Z",
     "iopub.status.idle": "2020-11-20T12:27:43.682033Z",
     "shell.execute_reply": "2020-11-20T12:27:43.667035Z",
     "shell.execute_reply.started": "2020-11-20T12:26:41.993496Z"
    }
   },
   "outputs": [],
   "source": [
    "# Reshape data to specified sequence length\n",
    "length = 60\n",
    "seq_train_features = features_reshaper(train_features_AW2, length) # divisible 13, 39, 197\n",
    "seq_val_features = features_reshaper(val_features_AW2, length)\n",
    "\n",
    "seq_train_labels = labels_reshaper(train_labels_AW2, length)\n",
    "seq_val_labels = labels_reshaper(val_labels_AW2, length)"
   ]
  },
  {
   "cell_type": "code",
   "execution_count": 3,
   "metadata": {
    "execution": {
     "iopub.execute_input": "2020-11-20T12:27:43.709034Z",
     "iopub.status.busy": "2020-11-20T12:27:43.708034Z",
     "iopub.status.idle": "2020-11-20T12:27:44.185035Z",
     "shell.execute_reply": "2020-11-20T12:27:44.184034Z",
     "shell.execute_reply.started": "2020-11-20T12:27:43.709034Z"
    }
   },
   "outputs": [
    {
     "name": "stderr",
     "output_type": "stream",
     "text": [
      "C:\\Users\\ion\\anaconda3\\envs\\tf-gpu\\lib\\site-packages\\sklearn\\utils\\validation.py:70: FutureWarning: Pass classes=[0 1 2 3 4 5 6], y=[0 0 0 ... 6 6 6] as keyword args. From version 0.25 passing these as positional arguments will result in an error\n",
      "  FutureWarning)\n"
     ]
    }
   ],
   "source": [
    "def comp_sampleweights(labels):\n",
    "    # Convert one-hot encoded labels back to label integers\n",
    "    train_label_ints = np.argmax(labels, axis=2)\n",
    "\n",
    "    # Compute class weights with sklearn\n",
    "    class_weights = class_weight.compute_class_weight(\n",
    "        \"balanced\", np.unique(train_label_ints), train_label_ints.flatten()\n",
    "    )\n",
    "    d_class_weights = dict(enumerate(class_weights))\n",
    "\n",
    "    # Pass a 2D array with shape (samples, sequence_length), to apply a different weight to every timestep of every sample\n",
    "    return arr_replacevalue(train_label_ints, d_class_weights)\n",
    "    \n",
    "train_samples_weights = comp_sampleweights(seq_train_labels) "
   ]
  },
  {
   "cell_type": "markdown",
   "metadata": {
    "execution": {
     "iopub.execute_input": "2020-11-11T15:27:37.993463Z",
     "iopub.status.busy": "2020-11-11T15:27:37.993463Z",
     "iopub.status.idle": "2020-11-11T15:27:38.000462Z",
     "shell.execute_reply": "2020-11-11T15:27:38.000462Z",
     "shell.execute_reply.started": "2020-11-11T15:27:37.993463Z"
    }
   },
   "source": [
    "# Create FW-RNN Cell\n",
    "-  Build custom FW_RNN cell and wrap it in RNN layer (https://www.tensorflow.org/api_docs/python/tf/keras/layers/RNN), like this: RNN(FW_RNN)\n",
    "    -  \"The cell abstraction, together with the generic keras.layers.RNN class, make it very easy to implement custom RNN architectures for your research.\"\n",
    "\n",
    "Created by using this guide: https://www.tensorflow.org/guide/keras/custom_layers_and_models"
   ]
  },
  {
   "cell_type": "code",
   "execution_count": 11,
   "metadata": {
    "execution": {
     "iopub.execute_input": "2020-11-20T12:42:20.945879Z",
     "iopub.status.busy": "2020-11-20T12:42:20.945879Z",
     "iopub.status.idle": "2020-11-20T12:42:20.963878Z",
     "shell.execute_reply": "2020-11-20T12:42:20.963878Z",
     "shell.execute_reply.started": "2020-11-20T12:42:20.945879Z"
    }
   },
   "outputs": [],
   "source": [
    "class FW_RNNCell(layers.Layer):\n",
    "    def __init__(\n",
    "        self,\n",
    "        units,\n",
    "        use_bias,\n",
    "        batch_size,\n",
    "        decay_rate,\n",
    "        learning_rate,\n",
    "        activation,\n",
    "        step,\n",
    "        LN = layers.LayerNormalization(),\n",
    "        **kwargs\n",
    "        \n",
    "    ):\n",
    "        super(FW_RNNCell, self).__init__(**kwargs)\n",
    "        self.units = units\n",
    "        self.step = step\n",
    "        self.use_bias = use_bias\n",
    "        self.activation = activations.get(activation)\n",
    "        self.l = decay_rate\n",
    "        self.e = learning_rate\n",
    "        self.LN = LN\n",
    "        \n",
    "\n",
    "        self.batch = batch_size\n",
    "        self.state_size = self.units\n",
    "\n",
    "        # Initializer & regularizer for the slow input-to-hidden weights matrix\n",
    "        self.C_initializer = initializers.get(\"glorot_uniform\")\n",
    "\n",
    "        # Initializer & regularizer for the slow hidden weights matrix\n",
    "        self.W_h_initializer = initializers.get(\"identity\")\n",
    "\n",
    "        # Initializer & regularizer for the fast weights matrix\n",
    "        self.A_initializer = initializers.get(\"zeros\")\n",
    "\n",
    "        # Initializer for the bias vector.\n",
    "        self.b_x_initializer = initializers.get(\"zeros\")\n",
    "        \n",
    "        \n",
    "    def build(self, input_shape):\n",
    "        # Build is only called at the start, to initialize all the weights and biases\n",
    "\n",
    "        # C = Slow input-to-hidden weights [shape (4608, 64)]\n",
    "        self.C = self.add_weight(\n",
    "            shape=(input_shape[-1], self.units),\n",
    "            name=\"inputweights\",\n",
    "            initializer=self.C_initializer,\n",
    "        )\n",
    "        \n",
    "        # W_h The previous hidden state via the slow transition weights [shape (units, units)]\n",
    "        # they suggest to multiply it with 0.05, so gain = 0.05\n",
    "        self.W_h = self.add_weight(\n",
    "            shape=(self.units, self.units),\n",
    "            name=\"hiddenweights\",\n",
    "            initializer=self.W_h_initializer, \n",
    "        )\n",
    "        self.W_h = tf.scalar_mul(0.05, self.W_h)\n",
    "        \n",
    "        # A (fast weights) [shape (batch_size, units, units)]\n",
    "        self.A = self.add_weight(\n",
    "            shape=(self.batch, self.units, self.units),\n",
    "            name=\"fastweights\",\n",
    "            initializer=self.A_initializer,\n",
    "        )\n",
    "        \n",
    "        if self.use_bias:\n",
    "            self.bias = self.add_weight(\n",
    "                shape=(self.units,), name=\"bias\", initializer=self.b_x_initializer,\n",
    "            )\n",
    "        else:\n",
    "            self.bias = None\n",
    "        self.built = True\n",
    "        \n",
    "    def call(self, inputs, states, training=None):\n",
    "        prev_output = states[0] if nest.is_sequence(states) else states\n",
    "        \n",
    "        # Next hidden state h(t+1) is computed in two steps:\n",
    "        # Step 1 calculate preliminary vector: h_0(t+1) = f(W_h ⋅ h(t) + C ⋅ x(t))\n",
    "        h = K.dot(prev_output, self.W_h) + K.dot(inputs, self.C)\n",
    "        if self.bias is not None:\n",
    "            h = h + self.bias\n",
    "        if self.activation is not None:\n",
    "            h = self.activation(h)\n",
    "        \n",
    "        # Reshape h to use with a\n",
    "        h_s = tf.reshape(h, [self.batch, 1, self.units])\n",
    "        \n",
    "        # Define preliminary vector in variable\n",
    "        prelim = tf.reshape(K.dot(prev_output, self.W_h), (h_s.shape)) + tf.reshape(K.dot(inputs, self.C), (h_s.shape))\n",
    "        \n",
    "        # Fast weights update rule: A(t) = λ*A(t-1) + η*h(t) ⋅ h(t)^T\n",
    "        self.A.assign(\n",
    "            tf.math.add(\n",
    "                tf.scalar_mul(self.l, self.A),\n",
    "                tf.scalar_mul(\n",
    "                    self.e, tf.linalg.matmul(tf.transpose(h_s, [0, 2, 1]), h_s)\n",
    "                ),\n",
    "            )\n",
    "        )\n",
    "        \n",
    "        # Step 2: Initiate inner loop with preliminary vector, which runs for S steps\n",
    "        # to progressively change the hidden state into h(t+1) = h_s(t+1)\n",
    "        # h_s+1(t+1) f([W_h ⋅ h(t) + C ⋅ x(t)]) + A(t)h_s(t+1)\n",
    "        for _ in range(self.step):\n",
    "            h_s = tf.math.add(prelim, tf.linalg.matmul(h_s, self.A)) \n",
    "            if self.bias is not None:\n",
    "                h_s = h_s + self.bias\n",
    "            if self.activation is not None:\n",
    "                h_s = self.activation(h_s)\n",
    "            \n",
    "            # Apply layer normalization on hidden state\n",
    "            h_s = self.LN(h_s)\n",
    "\n",
    "        h = tf.reshape(h_s, [self.batch, self.units])\n",
    "\n",
    "        output = h\n",
    "        new_state = [output] if nest.is_sequence(states) else output\n",
    "        return output, new_state\n",
    "\n",
    "    def get_initial_state(self, inputs=None, batch_size=None, dtype=None):\n",
    "        return _generate_zero_filled_state_for_cell(self, inputs, batch_size, dtype)"
   ]
  },
  {
   "cell_type": "markdown",
   "metadata": {},
   "source": [
    "# Build model"
   ]
  },
  {
   "cell_type": "code",
   "execution_count": 15,
   "metadata": {
    "execution": {
     "iopub.execute_input": "2020-11-20T16:37:57.528589Z",
     "iopub.status.busy": "2020-11-20T16:37:57.528589Z",
     "iopub.status.idle": "2020-11-20T16:37:57.546590Z",
     "shell.execute_reply": "2020-11-20T16:37:57.546590Z",
     "shell.execute_reply.started": "2020-11-20T16:37:57.528589Z"
    }
   },
   "outputs": [],
   "source": [
    "# Build model with sequential api\n",
    "def build_model(batch, activation_function):\n",
    "    model = Sequential()\n",
    "    model.add(tf.keras.Input(shape=(seq_train_features.shape[1], seq_train_features.shape[2])))\n",
    "    model.add(\n",
    "        layers.RNN(\n",
    "            FW_RNNCell(units=128, \n",
    "                       use_bias=True, \n",
    "                       activation=activation_function, \n",
    "                       step=1,\n",
    "                       decay_rate = 0.95,\n",
    "                       learning_rate = 0.5,\n",
    "                       batch_size=batch,\n",
    "                   ),\n",
    "            return_sequences=True,\n",
    "            name = 'FW-RNN'\n",
    "        )\n",
    "    )\n",
    "    model.add(layers.Dense(7, activation=\"softmax\", name=\"Dense_Output\"))\n",
    "    model.compile(\n",
    "        optimizer=tf.keras.optimizers.Adam(learning_rate=0.001),\n",
    "        loss=CategoricalCrossentropy(label_smoothing=0.1),\n",
    "        metrics=[\"accuracy\"],\n",
    "        run_eagerly=False,\n",
    "    )\n",
    "    return model\n"
   ]
  },
  {
   "cell_type": "markdown",
   "metadata": {},
   "source": [
    "# Train + Evaluate model"
   ]
  },
  {
   "cell_type": "code",
   "execution_count": 16,
   "metadata": {
    "execution": {
     "iopub.execute_input": "2020-11-20T16:37:58.223090Z",
     "iopub.status.busy": "2020-11-20T16:37:58.223090Z",
     "iopub.status.idle": "2020-11-20T16:37:58.226091Z",
     "shell.execute_reply": "2020-11-20T16:37:58.226091Z",
     "shell.execute_reply.started": "2020-11-20T16:37:58.223090Z"
    }
   },
   "outputs": [],
   "source": [
    "# from sklearn.model_selection import KFold\n",
    "# for train, test in kfold.split()"
   ]
  },
  {
   "cell_type": "code",
   "execution_count": null,
   "metadata": {
    "execution": {
     "iopub.execute_input": "2020-11-20T16:37:58.597939Z",
     "iopub.status.busy": "2020-11-20T16:37:58.597939Z"
    },
    "scrolled": true
   },
   "outputs": [
    {
     "name": "stdout",
     "output_type": "stream",
     "text": [
      "Model: \"sequential_3\"\n",
      "_________________________________________________________________\n",
      "Layer (type)                 Output Shape              Param #   \n",
      "=================================================================\n",
      "FW-RNN (RNN)                 (32, 60, 128)             1114496   \n",
      "_________________________________________________________________\n",
      "Dense_Output (Dense)         (32, 60, 7)               903       \n",
      "=================================================================\n",
      "Total params: 1,115,399\n",
      "Trainable params: 1,115,399\n",
      "Non-trainable params: 0\n",
      "_________________________________________________________________\n",
      "Epoch 1/150\n",
      "480/480 - 44s - loss: 1.6958 - accuracy: 0.3418 - val_loss: 2.1003 - val_accuracy: 0.1943\n",
      "Epoch 2/150\n",
      "480/480 - 41s - loss: 1.3527 - accuracy: 0.4923 - val_loss: 2.2971 - val_accuracy: 0.1826\n",
      "Epoch 3/150\n",
      "480/480 - 39s - loss: 1.2290 - accuracy: 0.5603 - val_loss: 1.9510 - val_accuracy: 0.3008\n",
      "Epoch 4/150\n",
      "480/480 - 38s - loss: 1.1569 - accuracy: 0.5819 - val_loss: 1.8383 - val_accuracy: 0.3838\n",
      "Epoch 5/150\n",
      "480/480 - 39s - loss: 1.1131 - accuracy: 0.5990 - val_loss: 1.8654 - val_accuracy: 0.3686\n",
      "Epoch 6/150\n",
      "480/480 - 43s - loss: 1.1028 - accuracy: 0.6240 - val_loss: 2.0152 - val_accuracy: 0.3202\n",
      "Epoch 7/150\n",
      "480/480 - 41s - loss: 1.0570 - accuracy: 0.6440 - val_loss: 1.9575 - val_accuracy: 0.3551\n",
      "Epoch 8/150\n",
      "480/480 - 39s - loss: 1.0201 - accuracy: 0.6661 - val_loss: 1.8532 - val_accuracy: 0.3628\n",
      "Epoch 9/150\n",
      "480/480 - 39s - loss: 1.0089 - accuracy: 0.6776 - val_loss: 2.1725 - val_accuracy: 0.2957\n",
      "Epoch 10/150\n",
      "480/480 - 40s - loss: 0.9694 - accuracy: 0.6855 - val_loss: 1.9613 - val_accuracy: 0.3913\n",
      "Epoch 11/150\n",
      "480/480 - 41s - loss: 0.9573 - accuracy: 0.6896 - val_loss: 2.0000 - val_accuracy: 0.3454\n",
      "Epoch 12/150\n",
      "480/480 - 42s - loss: 0.9469 - accuracy: 0.6904 - val_loss: 1.9907 - val_accuracy: 0.3927\n",
      "Epoch 13/150\n",
      "480/480 - 40s - loss: 0.9306 - accuracy: 0.7150 - val_loss: 1.9234 - val_accuracy: 0.4167\n",
      "Epoch 14/150\n",
      "480/480 - 42s - loss: 0.9097 - accuracy: 0.7171 - val_loss: 1.9807 - val_accuracy: 0.4003\n",
      "Epoch 15/150\n",
      "480/480 - 41s - loss: 0.9066 - accuracy: 0.7127 - val_loss: 2.0751 - val_accuracy: 0.3376\n",
      "Epoch 16/150\n",
      "480/480 - 41s - loss: 0.8969 - accuracy: 0.7236 - val_loss: 1.9639 - val_accuracy: 0.4174\n",
      "Epoch 17/150\n",
      "480/480 - 40s - loss: 0.8843 - accuracy: 0.7358 - val_loss: 1.9672 - val_accuracy: 0.3932\n",
      "Epoch 18/150\n",
      "480/480 - 41s - loss: 0.8956 - accuracy: 0.7228 - val_loss: 1.9521 - val_accuracy: 0.3859\n",
      "Epoch 19/150\n",
      "480/480 - 41s - loss: 0.8829 - accuracy: 0.7309 - val_loss: 2.0062 - val_accuracy: 0.4063\n",
      "Epoch 20/150\n",
      "480/480 - 41s - loss: 0.8661 - accuracy: 0.7457 - val_loss: 1.9690 - val_accuracy: 0.4147\n",
      "Epoch 21/150\n",
      "480/480 - 42s - loss: 0.8532 - accuracy: 0.7455 - val_loss: 2.0077 - val_accuracy: 0.4110\n",
      "Epoch 22/150\n",
      "480/480 - 42s - loss: 0.8499 - accuracy: 0.7515 - val_loss: 1.9904 - val_accuracy: 0.3892\n",
      "Epoch 23/150\n",
      "480/480 - 41s - loss: 0.8388 - accuracy: 0.7568 - val_loss: 1.9114 - val_accuracy: 0.4292\n",
      "Epoch 24/150\n",
      "480/480 - 41s - loss: 0.8471 - accuracy: 0.7552 - val_loss: 1.9224 - val_accuracy: 0.4367\n",
      "Epoch 25/150\n",
      "480/480 - 39s - loss: 0.8308 - accuracy: 0.7627 - val_loss: 1.9323 - val_accuracy: 0.4474\n",
      "Epoch 26/150\n",
      "480/480 - 40s - loss: 0.8188 - accuracy: 0.7651 - val_loss: 1.8844 - val_accuracy: 0.4506\n",
      "Epoch 27/150\n"
     ]
    }
   ],
   "source": [
    "batchsize = 32\n",
    "a = (seq_train_features.shape[0] // batchsize) * batchsize\n",
    "b = (seq_val_features.shape[0] // batchsize) * batchsize\n",
    "\n",
    "\n",
    "for act in ['relu', 'tanh']:\n",
    "    fw_rnn = build_model(batchsize, act)\n",
    "    fw_rnn.summary()\n",
    "\n",
    "    # Access tensorboard in cmd of the main repo folder with following code:\n",
    "    # tensorboard --logdir='logs/'\n",
    "    name = 'FW-RNN_1layer64_rmsprop_identitymatrix0.05_{}_{}'.format(act, int(time.time()))\n",
    "    tb_callback = tf.keras.callbacks.TensorBoard(log_dir='logs/{}'.format(name))\n",
    "\n",
    "    # Set callbacks for model training\n",
    "#     csvlog = tf.keras.callbacks.CSVLogger(\n",
    "#         \"data/models/FW-RNN_performance.csv\", separator=\",\", append=False\n",
    "#     )\n",
    "\n",
    "    history_best = fw_rnn.fit(\n",
    "        seq_train_features[:a],\n",
    "        seq_train_labels[:a],\n",
    "        batch_size=batchsize,\n",
    "        sample_weight=train_samples_weights[:a],\n",
    "        validation_data=(\n",
    "            seq_val_features[:b],\n",
    "            seq_val_labels[:b],\n",
    "        ),\n",
    "        callbacks=[\n",
    "#                 csvlog, \n",
    "#                 tb_callback\n",
    "        ],\n",
    "        epochs=150,\n",
    "        verbose=2,\n",
    "        shuffle=True,\n",
    "    )"
   ]
  },
  {
   "cell_type": "code",
   "execution_count": null,
   "metadata": {},
   "outputs": [],
   "source": []
  }
 ],
 "metadata": {
  "kernelspec": {
   "display_name": "Python 3",
   "language": "python",
   "name": "python3"
  },
  "language_info": {
   "codemirror_mode": {
    "name": "ipython",
    "version": 3
   },
   "file_extension": ".py",
   "mimetype": "text/x-python",
   "name": "python",
   "nbconvert_exporter": "python",
   "pygments_lexer": "ipython3",
   "version": "3.7.9"
  },
  "output_auto_scroll": true
 },
 "nbformat": 4,
 "nbformat_minor": 4
}
