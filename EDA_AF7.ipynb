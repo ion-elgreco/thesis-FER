{
 "cells": [
  {
   "cell_type": "code",
   "execution_count": 2,
   "metadata": {
    "execution": {
     "iopub.execute_input": "2020-11-06T16:37:45.967616Z",
     "iopub.status.busy": "2020-11-06T16:37:45.967616Z",
     "iopub.status.idle": "2020-11-06T16:37:46.025616Z",
     "shell.execute_reply": "2020-11-06T16:37:46.025616Z",
     "shell.execute_reply.started": "2020-11-06T16:37:45.967616Z"
    }
   },
   "outputs": [],
   "source": [
    "import ffmpeg\n",
    "import json\n",
    "import cv2\n",
    "import numpy as np\n",
    "import matplotlib.pyplot as plt\n",
    "import skvideo\n",
    "skvideo.setFFmpegPath(r'C:\\Users\\ion\\anaconda3\\envs\\tf-gpu\\Lib\\site-packages\\ffmpeg-4.3.1-2020-11-02-full_build\\bin')\n",
    "import skvideo.io\n",
    "\n",
    "\n",
    "from os import listdir\n",
    "from os.path import splitext\n",
    "from os.path import join\n",
    "\n",
    "%matplotlib inline"
   ]
  },
  {
   "cell_type": "markdown",
   "metadata": {},
   "source": [
    "## Explanation of different datasets\n",
    "The Aff-Wild2 dataset is used for training, validation and testing. While the AFEW 7.0 dataset is only used for testing. \n",
    "\n",
    "#### AFEW 7.0\n",
    "In this dataset each video shows only one facial expression displayed, therefore each video is placed in a folder, where the folder name represents the facial expression class. The test dataset videos classes are not given, therefore only the train+validation set will be combined to use for final testing results of the model.\n",
    "\n",
    "The Training and validation sets are combined in one folder called Val+train_AFEW, which sits inside the AFEW 7.0 Dataset folder."
   ]
  },
  {
   "cell_type": "code",
   "execution_count": 3,
   "metadata": {
    "execution": {
     "iopub.execute_input": "2020-11-06T16:37:46.529221Z",
     "iopub.status.busy": "2020-11-06T16:37:46.528219Z",
     "iopub.status.idle": "2020-11-06T16:37:46.561218Z",
     "shell.execute_reply": "2020-11-06T16:37:46.561218Z",
     "shell.execute_reply.started": "2020-11-06T16:37:46.529221Z"
    }
   },
   "outputs": [],
   "source": [
    "from load_filenames import AF7_dir_videos, AF7_dir_labels, AF7_labeled_videos_FN"
   ]
  },
  {
   "cell_type": "markdown",
   "metadata": {},
   "source": [
    "## Functions"
   ]
  },
  {
   "cell_type": "markdown",
   "metadata": {
    "execution": {
     "iopub.execute_input": "2020-10-27T10:57:15.162119Z",
     "iopub.status.busy": "2020-10-27T10:57:15.162119Z",
     "iopub.status.idle": "2020-10-27T10:57:15.180119Z",
     "shell.execute_reply": "2020-10-27T10:57:15.180119Z",
     "shell.execute_reply.started": "2020-10-27T10:57:15.162119Z"
    }
   },
   "source": [
    "# AFEW 7.0 Dataset Size"
   ]
  },
  {
   "cell_type": "code",
   "execution_count": 4,
   "metadata": {
    "execution": {
     "iopub.execute_input": "2020-11-06T16:37:47.328691Z",
     "iopub.status.busy": "2020-11-06T16:37:47.328691Z",
     "iopub.status.idle": "2020-11-06T16:37:47.347690Z",
     "shell.execute_reply": "2020-11-06T16:37:47.347690Z",
     "shell.execute_reply.started": "2020-11-06T16:37:47.328691Z"
    }
   },
   "outputs": [
    {
     "name": "stdout",
     "output_type": "stream",
     "text": [
      "The training+validation set contains: 1156 videos\n"
     ]
    }
   ],
   "source": [
    "# Size of each set\n",
    "AF7_all_videos = [j for i in AF7_dir_labels for j in AF7_labeled_videos_FN.get(i)]\n",
    "\n",
    "print(f\"The training+validation set contains: {len(AF7_all_videos)} videos\")"
   ]
  },
  {
   "cell_type": "markdown",
   "metadata": {},
   "source": [
    "# Sequence length of each video ###"
   ]
  },
  {
   "cell_type": "markdown",
   "metadata": {},
   "source": [
    "Only FFmpeg is able to extract all frames, probably has to do with encoding of the videos. SKvideo/OpenCV all return incorrent amount of frames (2/3 frames sometimes)\n",
    "\n",
    "https://github.com/kkroening/ffmpeg-python/issues/63\n"
   ]
  },
  {
   "cell_type": "code",
   "execution_count": 4,
   "metadata": {
    "execution": {
     "iopub.execute_input": "2020-11-06T00:45:15.337335Z",
     "iopub.status.busy": "2020-11-06T00:45:15.337335Z",
     "iopub.status.idle": "2020-11-06T00:52:06.385332Z",
     "shell.execute_reply": "2020-11-06T00:52:06.385332Z",
     "shell.execute_reply.started": "2020-11-06T00:45:15.337335Z"
    }
   },
   "outputs": [],
   "source": [
    "# Create dictionary of sequence length\n",
    "AF7_seqlength = {}\n",
    "\n",
    "# Save the shape information of the array for each file in the previously made dictionary\n",
    "for label in AF7_labeled_videos_FN.keys():\n",
    "    videos = AF7_labeled_videos_FN.get(label)\n",
    "    for video in videos:\n",
    "\n",
    "        probe = ffmpeg.probe(join(AF7_dir_videos, join(label, video)))\n",
    "        video_info = next(x for x in probe[\"streams\"] if x[\"codec_type\"] == \"video\")\n",
    "        width = int(video_info[\"width\"])\n",
    "        height = int(video_info[\"height\"])\n",
    "\n",
    "        out, _ = (\n",
    "            ffmpeg.input(join(AF7_dir_videos, join(label, video)))\n",
    "            .output(\"pipe:\", format=\"rawvideo\", pix_fmt=\"rgb24\")\n",
    "            .run(capture_stdout=True)\n",
    "        )\n",
    "        frames = np.frombuffer(out, np.uint8).reshape([-1, height, width, 3])\n",
    "\n",
    "        AF7_seqlength[video] = frames.shape"
   ]
  },
  {
   "cell_type": "code",
   "execution_count": 5,
   "metadata": {
    "execution": {
     "iopub.execute_input": "2020-11-06T00:52:06.386333Z",
     "iopub.status.busy": "2020-11-06T00:52:06.386333Z",
     "iopub.status.idle": "2020-11-06T00:52:06.400332Z",
     "shell.execute_reply": "2020-11-06T00:52:06.400332Z",
     "shell.execute_reply.started": "2020-11-06T00:52:06.386333Z"
    }
   },
   "outputs": [],
   "source": [
    "# Save json file with all video's names and shapes = (n_frames, width, height, colour channels)\n",
    "with open(\"data/AF7_video_shapes.json\", \"w\") as fp:\n",
    "    json.dump(AF7_seqlength, fp)"
   ]
  },
  {
   "cell_type": "code",
   "execution_count": 5,
   "metadata": {
    "execution": {
     "iopub.execute_input": "2020-11-06T16:37:54.168277Z",
     "iopub.status.busy": "2020-11-06T16:37:54.168277Z",
     "iopub.status.idle": "2020-11-06T16:37:54.186275Z",
     "shell.execute_reply": "2020-11-06T16:37:54.186275Z",
     "shell.execute_reply.started": "2020-11-06T16:37:54.168277Z"
    }
   },
   "outputs": [],
   "source": [
    "# Load AFEW video_shapes.json\n",
    "with open(\"data/AF7_video_shapes.json\", \"r\") as fp:\n",
    "    AF7_video_shapes = json.load(fp)"
   ]
  },
  {
   "cell_type": "markdown",
   "metadata": {},
   "source": [
    "## Some Summary statistics about video frames"
   ]
  },
  {
   "cell_type": "code",
   "execution_count": 7,
   "metadata": {
    "execution": {
     "iopub.execute_input": "2020-11-06T16:38:04.823094Z",
     "iopub.status.busy": "2020-11-06T16:38:04.823094Z",
     "iopub.status.idle": "2020-11-06T16:38:04.836095Z",
     "shell.execute_reply": "2020-11-06T16:38:04.836095Z",
     "shell.execute_reply.started": "2020-11-06T16:38:04.823094Z"
    }
   },
   "outputs": [
    {
     "name": "stdout",
     "output_type": "stream",
     "text": [
      "The mean length of all video sequences is: 63.146447140381284 frames\n",
      "The median length of all video sequences is: 59.0 frames\n",
      "The SD of length of all video sequences is: 25.40473506324535 frames\n",
      "Total amount of frames/images in the dataset is: 72871 frames\n"
     ]
    }
   ],
   "source": [
    "AF7_all_sequenceslength = [items[0] for items in list(AF7_video_shapes.values())]\n",
    "print(f\"The mean length of all video sequences is: {np.mean(AF7_all_sequenceslength)} frames\")\n",
    "print(\n",
    "    f\"The median length of all video sequences is: {np.median(AF7_all_sequenceslength)} frames\"\n",
    ")\n",
    "print(f\"The SD of length of all video sequences is: {np.std(AF7_all_sequenceslength)} frames\")\n",
    "print(f\"Total amount of frames/images in the dataset is: {sum(AF7_all_sequenceslength)} frames\")"
   ]
  },
  {
   "cell_type": "markdown",
   "metadata": {
    "execution": {
     "iopub.execute_input": "2020-10-28T14:26:31.460686Z",
     "iopub.status.busy": "2020-10-28T14:26:31.460686Z",
     "iopub.status.idle": "2020-10-28T14:26:31.462687Z",
     "shell.execute_reply": "2020-10-28T14:26:31.462687Z",
     "shell.execute_reply.started": "2020-10-28T14:26:31.460686Z"
    }
   },
   "source": [
    "### Violinplot of sequence length per resolution"
   ]
  },
  {
   "cell_type": "markdown",
   "metadata": {},
   "source": [
    "All the videos have the same resolution: 720x576"
   ]
  },
  {
   "cell_type": "code",
   "execution_count": 42,
   "metadata": {
    "execution": {
     "iopub.execute_input": "2020-11-06T17:00:35.233921Z",
     "iopub.status.busy": "2020-11-06T17:00:35.233921Z",
     "iopub.status.idle": "2020-11-06T17:00:35.332921Z",
     "shell.execute_reply": "2020-11-06T17:00:35.331922Z",
     "shell.execute_reply.started": "2020-11-06T17:00:35.233921Z"
    }
   },
   "outputs": [
    {
     "name": "stdout",
     "output_type": "stream",
     "text": [
      "The AFEW dataset only has the videoresolution:{'720x576'}\n"
     ]
    },
    {
     "data": {
      "image/png": "[encoded data removed]",
      "text/plain": [
       "<Figure size 288x576 with 1 Axes>"
      ]
     },
     "metadata": {
      "needs_background": "light"
     },
     "output_type": "display_data"
    }
   ],
   "source": [
    "names = [\n",
    "    (str(items[2]) + \"x\" + str(items[1])) for items in list(AF7_video_shapes.values())\n",
    "]\n",
    "fig, axes = plt.subplots(figsize=(4, 8))\n",
    "axes.set_title(\"Violinplot framelength - AFEW\")\n",
    "axes.violinplot(AF7_all_sequenceslength, showmeans=True)\n",
    "axes.set_xticklabels([]);\n",
    "\n",
    "print(f'The AFEW dataset only has the videoresolution:{set(names)}')"
   ]
  },
  {
   "cell_type": "markdown",
   "metadata": {},
   "source": [
    "## Framerate of each video "
   ]
  },
  {
   "cell_type": "code",
   "execution_count": 50,
   "metadata": {
    "execution": {
     "iopub.execute_input": "2020-11-06T17:06:03.550977Z",
     "iopub.status.busy": "2020-11-06T17:06:03.549976Z",
     "iopub.status.idle": "2020-11-06T17:06:03.556972Z",
     "shell.execute_reply": "2020-11-06T17:06:03.556972Z",
     "shell.execute_reply.started": "2020-11-06T17:06:03.549976Z"
    },
    "scrolled": true
   },
   "outputs": [
    {
     "name": "stdout",
     "output_type": "stream",
     "text": [
      "Angry\n",
      "Disgust\n",
      "Fear\n",
      "Happy\n",
      "Neutral\n",
      "Sad\n",
      "Surprise\n"
     ]
    }
   ],
   "source": [
    "for label in AF7_labeled_videos_FN.keys():\n",
    "    print(label)"
   ]
  },
  {
   "cell_type": "code",
   "execution_count": 69,
   "metadata": {
    "execution": {
     "iopub.execute_input": "2020-11-06T17:13:05.623532Z",
     "iopub.status.busy": "2020-11-06T17:13:05.623532Z",
     "iopub.status.idle": "2020-11-06T17:13:53.555531Z",
     "shell.execute_reply": "2020-11-06T17:13:53.555531Z",
     "shell.execute_reply.started": "2020-11-06T17:13:05.623532Z"
    }
   },
   "outputs": [],
   "source": [
    "# Grab the framerate for each video in the AFEW dataset.\n",
    "# Then convert it to avg framerate value in decimals.\n",
    "AF7_framerates = {}\n",
    "for label in AF7_labeled_videos_FN.keys():\n",
    "    videos = AF7_labeled_videos_FN.get(label)\n",
    "    for video in videos:\n",
    "        metadata = skvideo.io.ffprobe(join(AF7_dir_videos, join(label,video)))\n",
    "        num, denom = (metadata.get(\"video\").get(\"@avg_frame_rate\")).split(\"/\")\n",
    "        AF7_framerates[video] = int(num) / int(denom)"
   ]
  },
  {
   "cell_type": "code",
   "execution_count": 70,
   "metadata": {
    "execution": {
     "iopub.execute_input": "2020-11-06T17:13:53.556532Z",
     "iopub.status.busy": "2020-11-06T17:13:53.556532Z",
     "iopub.status.idle": "2020-11-06T17:13:53.571531Z",
     "shell.execute_reply": "2020-11-06T17:13:53.571531Z",
     "shell.execute_reply.started": "2020-11-06T17:13:53.556532Z"
    },
    "scrolled": true
   },
   "outputs": [
    {
     "data": {
      "text/plain": [
       "1154"
      ]
     },
     "execution_count": 70,
     "metadata": {},
     "output_type": "execute_result"
    }
   ],
   "source": [
    "len(AF7_framerates)"
   ]
  },
  {
   "cell_type": "code",
   "execution_count": 85,
   "metadata": {
    "execution": {
     "iopub.execute_input": "2020-11-06T17:19:36.159688Z",
     "iopub.status.busy": "2020-11-06T17:19:36.159688Z",
     "iopub.status.idle": "2020-11-06T17:19:36.176687Z",
     "shell.execute_reply": "2020-11-06T17:19:36.176687Z",
     "shell.execute_reply.started": "2020-11-06T17:19:36.159688Z"
    },
    "scrolled": true
   },
   "outputs": [],
   "source": [
    "# Put all framerates in a list\n",
    "AF7_all_framerates = []\n",
    "for videos in AF7_labeled_videos_FN.values():\n",
    "    for video in videos:\n",
    "        AF7_all_framerates.append(AF7_framerates.get(video))\n",
    "\n",
    "# Count the occurence of each framerate to get the distribution\n",
    "AF7_framerates_dist = {\n",
    "    framerate: AF7_all_framerates.count(framerate) for framerate in sorted(set(AF7_all_framerates))\n",
    "}"
   ]
  },
  {
   "cell_type": "code",
   "execution_count": 87,
   "metadata": {
    "execution": {
     "iopub.execute_input": "2020-11-06T17:19:39.492309Z",
     "iopub.status.busy": "2020-11-06T17:19:39.492309Z",
     "iopub.status.idle": "2020-11-06T17:19:39.506307Z",
     "shell.execute_reply": "2020-11-06T17:19:39.506307Z",
     "shell.execute_reply.started": "2020-11-06T17:19:39.492309Z"
    }
   },
   "outputs": [
    {
     "data": {
      "text/plain": [
       "{25.0: 1156}"
      ]
     },
     "execution_count": 87,
     "metadata": {},
     "output_type": "execute_result"
    }
   ],
   "source": [
    "AF7_framerates_dist"
   ]
  },
  {
   "cell_type": "code",
   "execution_count": 91,
   "metadata": {
    "execution": {
     "iopub.execute_input": "2020-11-06T17:29:03.199782Z",
     "iopub.status.busy": "2020-11-06T17:29:03.199782Z",
     "iopub.status.idle": "2020-11-06T17:29:03.211778Z",
     "shell.execute_reply": "2020-11-06T17:29:03.211778Z",
     "shell.execute_reply.started": "2020-11-06T17:29:03.199782Z"
    }
   },
   "outputs": [],
   "source": [
    "AF7_classdist = {label:len(AF7_labeled_videos_FN.get(label)) for label in AF7_labeled_videos_FN.keys()}"
   ]
  },
  {
   "cell_type": "code",
   "execution_count": 92,
   "metadata": {
    "execution": {
     "iopub.execute_input": "2020-11-06T17:29:43.644993Z",
     "iopub.status.busy": "2020-11-06T17:29:43.644993Z",
     "iopub.status.idle": "2020-11-06T17:29:43.652993Z",
     "shell.execute_reply": "2020-11-06T17:29:43.652993Z",
     "shell.execute_reply.started": "2020-11-06T17:29:43.644993Z"
    }
   },
   "outputs": [
    {
     "data": {
      "text/plain": [
       "{'Angry': 197,\n",
       " 'Disgust': 114,\n",
       " 'Fear': 127,\n",
       " 'Happy': 213,\n",
       " 'Neutral': 207,\n",
       " 'Sad': 178,\n",
       " 'Surprise': 120}"
      ]
     },
     "execution_count": 92,
     "metadata": {},
     "output_type": "execute_result"
    }
   ],
   "source": [
    "AF7_classdist"
   ]
  },
  {
   "cell_type": "code",
   "execution_count": null,
   "metadata": {},
   "outputs": [],
   "source": []
  }
 ],
 "metadata": {
  "kernelspec": {
   "display_name": "Python 3",
   "language": "python",
   "name": "python3"
  },
  "language_info": {
   "codemirror_mode": {
    "name": "ipython",
    "version": 3
   },
   "file_extension": ".py",
   "mimetype": "text/x-python",
   "name": "python",
   "nbconvert_exporter": "python",
   "pygments_lexer": "ipython3",
   "version": "3.7.9"
  },
  "output_auto_scroll": true
 },
 "nbformat": 4,
 "nbformat_minor": 4
}
